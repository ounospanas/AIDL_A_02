{
  "nbformat": 4,
  "nbformat_minor": 0,
  "metadata": {
    "colab": {
      "provenance": [],
      "authorship_tag": "ABX9TyOSLrDNC2453k4mewcfiw2t",
      "include_colab_link": true
    },
    "kernelspec": {
      "name": "python3",
      "display_name": "Python 3"
    },
    "language_info": {
      "name": "python"
    }
  },
  "cells": [
    {
      "cell_type": "markdown",
      "metadata": {
        "id": "view-in-github",
        "colab_type": "text"
      },
      "source": [
        "<a href=\"https://colab.research.google.com/github/ounospanas/AIDL_A_02/blob/main/tutorial/numpy_%26_pandas_tutorial.ipynb\" target=\"_parent\"><img src=\"https://colab.research.google.com/assets/colab-badge.svg\" alt=\"Open In Colab\"/></a>"
      ]
    },
    {
      "cell_type": "markdown",
      "source": [
        "# NumPy Tutorial: Data Analysis and Matrix Operations\n",
        "\n",
        "# Welcome to this comprehensive introduction to NumPy, focusing on data analysis and matrix multiplication techniques! This notebook will help you build a strong foundation in scientific computing with Python.\n",
        "  \n",
        "## What is NumPy?\n",
        "\n",
        "## NumPy (Numerical Python) is a fundamental package for scientific computing in Python. It provides:\n",
        "\n",
        "### - A powerful N-dimensional array object\n",
        "### - Sophisticated (broadcasting) functions\n",
        "### - Useful linear algebra, Fourier transform, and random number capabilities\n"
      ],
      "metadata": {
        "id": "nFU-mmDjdObw"
      }
    },
    {
      "cell_type": "code",
      "source": [
        "import numpy as np\n",
        "\n",
        "# Print NumPy version\n",
        "print(f\"NumPy version: {np.__version__}\")\n"
      ],
      "metadata": {
        "colab": {
          "base_uri": "https://localhost:8080/"
        },
        "id": "hWC4TdQhdePS",
        "outputId": "3c8c66cc-2007-4626-f8a6-09fb964ddcf3"
      },
      "execution_count": 1,
      "outputs": [
        {
          "output_type": "stream",
          "name": "stdout",
          "text": [
            "NumPy version: 2.0.2\n"
          ]
        }
      ]
    },
    {
      "cell_type": "markdown",
      "source": [
        "# Creating NumPy Arrays\n",
        "# There are several ways to create NumPy arrays. Let's explore them:"
      ],
      "metadata": {
        "id": "cWZ8OIp4gHzU"
      }
    },
    {
      "cell_type": "code",
      "source": [
        "# Create an array from a Python list\n",
        "list1 = [1, 2, 3, 4, 5]\n",
        "array1 = np.array(list1)\n",
        "print(\"Array from list:\", array1)"
      ],
      "metadata": {
        "colab": {
          "base_uri": "https://localhost:8080/"
        },
        "id": "jOMt9gnKdiU6",
        "outputId": "c922f60e-af44-406c-baa8-8149bbb9db60"
      },
      "execution_count": 2,
      "outputs": [
        {
          "output_type": "stream",
          "name": "stdout",
          "text": [
            "Array from list: [1 2 3 4 5]\n"
          ]
        }
      ]
    },
    {
      "cell_type": "code",
      "source": [
        "# Create a 2D array\n",
        "list2d = [[1, 2, 3], [4, 5, 6], [7, 8, 9]]\n",
        "array2d = np.array(list2d)\n",
        "print(\"\\n2D array:\\n\", array2d)"
      ],
      "metadata": {
        "colab": {
          "base_uri": "https://localhost:8080/"
        },
        "id": "kPelrBptdopV",
        "outputId": "c0ea91ca-ee39-47dc-e6db-c24d3502d7d3"
      },
      "execution_count": 3,
      "outputs": [
        {
          "output_type": "stream",
          "name": "stdout",
          "text": [
            "\n",
            "2D array:\n",
            " [[1 2 3]\n",
            " [4 5 6]\n",
            " [7 8 9]]\n"
          ]
        }
      ]
    },
    {
      "cell_type": "code",
      "source": [
        "# Creating arrays with specific values\n",
        "zeros = np.zeros((3, 4))  # 3x4 array of zeros\n",
        "ones = np.ones((2, 5))    # 2x5 array of ones\n",
        "empty = np.empty((2, 3))  # 2x3 array of uninitialized values\n",
        "identity = np.eye(3)      # 3x3 identity matrix\n",
        "\n",
        "print(\"\\nZeros array:\\n\", zeros)\n",
        "print(\"\\nOnes array:\\n\", ones)\n",
        "print(\"\\nIdentity matrix:\\n\", identity)\n"
      ],
      "metadata": {
        "colab": {
          "base_uri": "https://localhost:8080/"
        },
        "id": "-3O-b6kSdtXu",
        "outputId": "e9dc355c-ef7e-4711-d5fe-b76b249da241"
      },
      "execution_count": 4,
      "outputs": [
        {
          "output_type": "stream",
          "name": "stdout",
          "text": [
            "\n",
            "Zeros array:\n",
            " [[0. 0. 0. 0.]\n",
            " [0. 0. 0. 0.]\n",
            " [0. 0. 0. 0.]]\n",
            "\n",
            "Ones array:\n",
            " [[1. 1. 1. 1. 1.]\n",
            " [1. 1. 1. 1. 1.]]\n",
            "\n",
            "Identity matrix:\n",
            " [[1. 0. 0.]\n",
            " [0. 1. 0.]\n",
            " [0. 0. 1.]]\n"
          ]
        }
      ]
    },
    {
      "cell_type": "code",
      "source": [
        "# Create arrays with sequences\n",
        "simple_arange_array = np.arange(0, 10)  # start, stop\n",
        "arange_array = np.arange(0, 10, 2)  # start, stop, step\n",
        "linspace_array = np.linspace(0, 1, 5)  # start, stop, num of points\n",
        "\n",
        "print(\"\\nsimple arange array:\", simple_arange_array)\n",
        "print(\"arange array:\", arange_array)\n",
        "print(\"linspace array:\", linspace_array)\n"
      ],
      "metadata": {
        "colab": {
          "base_uri": "https://localhost:8080/"
        },
        "id": "cv8ugBnofsDq",
        "outputId": "191ccf17-895b-47ce-9f79-47c662c7f232"
      },
      "execution_count": 8,
      "outputs": [
        {
          "output_type": "stream",
          "name": "stdout",
          "text": [
            "\n",
            "simple arange array: [0 1 2 3 4 5 6 7 8 9]\n",
            "arange array: [0 2 4 6 8]\n",
            "linspace array: [0.   0.25 0.5  0.75 1.  ]\n"
          ]
        }
      ]
    },
    {
      "cell_type": "markdown",
      "source": [
        "## 2. Array Attributes and Operations\n",
        "\n",
        "## NumPy arrays have various attributes that provide information about their structure and content."
      ],
      "metadata": {
        "id": "B26jvYHXgVZ8"
      }
    },
    {
      "cell_type": "code",
      "source": [
        "# Create a sample array\n",
        "sample_array = np.array([[1, 2, 3], [4, 5, 6]])\n",
        "print(\"Sample array:\\n\", sample_array)\n",
        "\n",
        "# Examining array attributes\n",
        "print(\"\\nShape:\", sample_array.shape)  # Dimensions\n",
        "print(\"Size:\", sample_array.size)      # Total number of elements\n",
        "print(\"Dimension:\", sample_array.ndim) # Number of dimensions\n",
        "print(\"Data type:\", sample_array.dtype) # Data type of elements\n",
        "print(\"Item size:\", sample_array.itemsize, \"bytes\") # Size of each element in bytes"
      ],
      "metadata": {
        "colab": {
          "base_uri": "https://localhost:8080/"
        },
        "id": "JKDQZGnEgajq",
        "outputId": "dca440d8-f62b-4016-d27e-a40688847c41"
      },
      "execution_count": 11,
      "outputs": [
        {
          "output_type": "stream",
          "name": "stdout",
          "text": [
            "Sample array:\n",
            " [[1 2 3]\n",
            " [4 5 6]]\n",
            "\n",
            "Shape: (2, 3)\n",
            "Size: 6\n",
            "Dimension: 2\n",
            "Data type: int64\n",
            "Item size: 8 bytes\n"
          ]
        }
      ]
    },
    {
      "cell_type": "code",
      "source": [
        "# Basic operations\n",
        "print(\"\\nSum of all elements:\", sample_array.sum())\n",
        "print(\"Mean value:\", sample_array.mean())\n",
        "print(\"Maximum value:\", sample_array.max())\n",
        "print(\"Minimum value:\", sample_array.min())\n",
        "print(\"Standard deviation:\", sample_array.std())"
      ],
      "metadata": {
        "colab": {
          "base_uri": "https://localhost:8080/"
        },
        "id": "m4LhAvGSgfU3",
        "outputId": "eec7a519-9b3e-4bd0-86ca-aaf57ca122a6"
      },
      "execution_count": 12,
      "outputs": [
        {
          "output_type": "stream",
          "name": "stdout",
          "text": [
            "\n",
            "Sum of all elements: 21\n",
            "Mean value: 3.5\n",
            "Maximum value: 6\n",
            "Minimum value: 1\n",
            "Standard deviation: 1.707825127659933\n"
          ]
        }
      ]
    },
    {
      "cell_type": "markdown",
      "source": [
        "### Array Indexing and Slicing"
      ],
      "metadata": {
        "id": "f0dnyPKVgllx"
      }
    },
    {
      "cell_type": "code",
      "source": [
        "# Create a 3x4 array\n",
        "arr = np.array([[1, 2, 3, 4],\n",
        "                [5, 6, 7, 8],\n",
        "                [9, 10, 11, 12]])\n",
        "print(\"Original array:\\n\", arr)\n",
        "\n",
        "# Basic indexing\n",
        "print(\"\\nElement at (0,0):\", arr[0, 0])  # First element\n",
        "print(\"Element at (2,3):\", arr[2, 3])    # Bottom-right element"
      ],
      "metadata": {
        "colab": {
          "base_uri": "https://localhost:8080/"
        },
        "id": "IKUx2f75gq4-",
        "outputId": "360bf45c-49d5-4c9b-8f37-2bfbb7396298"
      },
      "execution_count": 13,
      "outputs": [
        {
          "output_type": "stream",
          "name": "stdout",
          "text": [
            "Original array:\n",
            " [[ 1  2  3  4]\n",
            " [ 5  6  7  8]\n",
            " [ 9 10 11 12]]\n",
            "\n",
            "Element at (0,0): 1\n",
            "Element at (2,3): 12\n"
          ]
        }
      ]
    },
    {
      "cell_type": "code",
      "source": [
        "# Slicing\n",
        "print(\"\\nFirst row:\", arr[0])           # Row 0\n",
        "print(\"First column:\\n\", arr[:, 0])     # Column 0\n",
        "print(\"\\nSubarray (rows 0-1, columns 1-3):\\n\", arr[0:2, 1:4])"
      ],
      "metadata": {
        "colab": {
          "base_uri": "https://localhost:8080/"
        },
        "id": "tNF33ZQtgzMj",
        "outputId": "b583e1e5-d09e-496c-d4a0-ac0a60dd3d24"
      },
      "execution_count": 14,
      "outputs": [
        {
          "output_type": "stream",
          "name": "stdout",
          "text": [
            "\n",
            "First row: [1 2 3 4]\n",
            "First column:\n",
            " [1 5 9]\n",
            "\n",
            "Subarray (rows 0-1, columns 1-3):\n",
            " [[2 3 4]\n",
            " [6 7 8]]\n"
          ]
        }
      ]
    },
    {
      "cell_type": "code",
      "source": [
        "# Boolean indexing\n",
        "mask = arr > 5\n",
        "print(\"\\nMask (elements > 5):\\n\", mask)\n",
        "print(\"Elements > 5:\\n\", arr[mask])"
      ],
      "metadata": {
        "colab": {
          "base_uri": "https://localhost:8080/"
        },
        "id": "sLwIkPdvg2W4",
        "outputId": "80dcd51b-6973-42a7-929d-799d305fd68b"
      },
      "execution_count": 15,
      "outputs": [
        {
          "output_type": "stream",
          "name": "stdout",
          "text": [
            "\n",
            "Mask (elements > 5):\n",
            " [[False False False False]\n",
            " [False  True  True  True]\n",
            " [ True  True  True  True]]\n",
            "Elements > 5:\n",
            " [ 6  7  8  9 10 11 12]\n"
          ]
        }
      ]
    },
    {
      "cell_type": "code",
      "source": [
        "# Basic operations indexed\n",
        "print(\"\\nSum of all elements per row:\", np.sum(sample_array, axis=1))\n",
        "print(\"Mean value of the columns:\", np.mean(sample_array, axis=0))"
      ],
      "metadata": {
        "colab": {
          "base_uri": "https://localhost:8080/"
        },
        "id": "b-aSnzFUjD0B",
        "outputId": "3fb25521-911b-4029-c713-093a147a8c49"
      },
      "execution_count": 19,
      "outputs": [
        {
          "output_type": "stream",
          "name": "stdout",
          "text": [
            "\n",
            "Sum of all elements per row: [ 6 15]\n",
            "Mean value of the columns: [2.5 3.5 4.5]\n"
          ]
        }
      ]
    },
    {
      "cell_type": "markdown",
      "source": [
        "##3. Array Reshaping and Manipulation"
      ],
      "metadata": {
        "id": "IY7W2VGooFPs"
      }
    },
    {
      "cell_type": "code",
      "source": [
        "# Create a 1D array\n",
        "arr1d = np.arange(12)\n",
        "print(\"Original 1D array:\", arr1d)\n",
        "\n",
        "# Reshape to 3x4 array\n",
        "arr3x4 = arr1d.reshape(3, 4)\n",
        "print(\"\\nReshaped to 3x4:\\n\", arr3x4)\n",
        "\n",
        "# Reshape to 2x2x3 array (3D)\n",
        "arr3d = arr1d.reshape(2, 2, 3)\n",
        "print(\"\\nReshaped to 2x2x3 (3D):\\n\", arr3d)\n",
        "\n",
        "# Flattening a multi-dimensional array\n",
        "flattened = arr3x4.flatten()\n",
        "print(\"\\nFlattened array:\", flattened)\n",
        "\n",
        "# Transposing an array (switching rows and columns)\n",
        "transposed = arr3x4.T\n",
        "print(\"\\nTransposed array:\\n\", transposed)"
      ],
      "metadata": {
        "colab": {
          "base_uri": "https://localhost:8080/"
        },
        "id": "VX1m5NCUoHjb",
        "outputId": "fe31c9cf-d83e-4488-ea1e-4e213b1a76b6"
      },
      "execution_count": 39,
      "outputs": [
        {
          "output_type": "stream",
          "name": "stdout",
          "text": [
            "Original 1D array: [ 0  1  2  3  4  5  6  7  8  9 10 11]\n",
            "\n",
            "Reshaped to 3x4:\n",
            " [[ 0  1  2  3]\n",
            " [ 4  5  6  7]\n",
            " [ 8  9 10 11]]\n",
            "\n",
            "Reshaped to 2x2x3 (3D):\n",
            " [[[ 0  1  2]\n",
            "  [ 3  4  5]]\n",
            "\n",
            " [[ 6  7  8]\n",
            "  [ 9 10 11]]]\n",
            "\n",
            "Flattened array: [ 0  1  2  3  4  5  6  7  8  9 10 11]\n",
            "\n",
            "Transposed array:\n",
            " [[ 0  4  8]\n",
            " [ 1  5  9]\n",
            " [ 2  6 10]\n",
            " [ 3  7 11]]\n"
          ]
        }
      ]
    },
    {
      "cell_type": "code",
      "source": [
        "# Create a 1D array\n",
        "arr1d = np.arange(12)\n",
        "print(\"Original 1D array:\", arr1d)\n",
        "\n",
        "# Reshape to 3x4 array\n",
        "arr3x4 = arr1d.reshape(3, 4)\n",
        "print(\"\\nReshaped to 3x4:\\n\", arr3x4)\n",
        "\n",
        "# Transposing an array (switching rows and columns)\n",
        "transposed = arr3x4.T\n",
        "print(\"\\nTransposed array:\\n\", transposed)\n",
        "\n",
        "transposed[0]=1 # changes the original\n",
        "print(\"\\nArray changed:\\n\", arr3x4) # new values"
      ],
      "metadata": {
        "colab": {
          "base_uri": "https://localhost:8080/"
        },
        "id": "f1MjseCEovKB",
        "outputId": "bdbf2ea9-3400-42db-f75a-4808d74e4777"
      },
      "execution_count": 46,
      "outputs": [
        {
          "output_type": "stream",
          "name": "stdout",
          "text": [
            "Original 1D array: [ 0  1  2  3  4  5  6  7  8  9 10 11]\n",
            "\n",
            "Reshaped to 3x4:\n",
            " [[ 0  1  2  3]\n",
            " [ 4  5  6  7]\n",
            " [ 8  9 10 11]]\n",
            "\n",
            "Transposed array:\n",
            " [[ 0  4  8]\n",
            " [ 1  5  9]\n",
            " [ 2  6 10]\n",
            " [ 3  7 11]]\n",
            "\n",
            "Array changed:\n",
            " [[ 1  1  2  3]\n",
            " [ 1  5  6  7]\n",
            " [ 1  9 10 11]]\n"
          ]
        }
      ]
    },
    {
      "cell_type": "code",
      "source": [
        "# Create a 1D array\n",
        "arr1d = np.arange(12)\n",
        "print(\"Original 1D array:\", arr1d)\n",
        "\n",
        "# Reshape to 3x4 array\n",
        "arr3x4 = arr1d.reshape(3, 4)\n",
        "print(\"\\nReshaped to 3x4:\\n\", arr3x4)\n",
        "\n",
        "arr3x4_copy = np.copy(arr3x4)\n",
        "\n",
        "arr3x4_copy[0]=1 # changes the copy\n",
        "print(\"\\nCopy changed:\\n\", arr3x4) # new values"
      ],
      "metadata": {
        "colab": {
          "base_uri": "https://localhost:8080/"
        },
        "id": "w5W5AEMhsW8Z",
        "outputId": "1dbd0caa-4fbc-4651-cf47-a15dd4fa4870"
      },
      "execution_count": 49,
      "outputs": [
        {
          "output_type": "stream",
          "name": "stdout",
          "text": [
            "Original 1D array: [ 0  1  2  3  4  5  6  7  8  9 10 11]\n",
            "\n",
            "Reshaped to 3x4:\n",
            " [[ 0  1  2  3]\n",
            " [ 4  5  6  7]\n",
            " [ 8  9 10 11]]\n",
            "\n",
            "Copy changed:\n",
            " [[ 0  1  2  3]\n",
            " [ 4  5  6  7]\n",
            " [ 8  9 10 11]]\n"
          ]
        }
      ]
    },
    {
      "cell_type": "code",
      "source": [
        "# Stacking arrays\n",
        "a = np.array([[1, 2], [3, 4]])\n",
        "b = np.array([[5, 6], [7, 8]])\n",
        "\n",
        "# Vertical stacking\n",
        "vertical_stack = np.vstack((a, b))\n",
        "print(\"\\nVertical stack:\\n\", vertical_stack)\n",
        "\n",
        "# Horizontal stacking\n",
        "horizontal_stack = np.hstack((a, b))\n",
        "print(\"\\nHorizontal stack:\\n\", horizontal_stack)"
      ],
      "metadata": {
        "colab": {
          "base_uri": "https://localhost:8080/"
        },
        "id": "TblIRwdFrKKr",
        "outputId": "78c77501-0cf0-431c-a286-0d950642ae39"
      },
      "execution_count": 41,
      "outputs": [
        {
          "output_type": "stream",
          "name": "stdout",
          "text": [
            "\n",
            "Vertical stack:\n",
            " [[1 2]\n",
            " [3 4]\n",
            " [5 6]\n",
            " [7 8]]\n",
            "\n",
            "Horizontal stack:\n",
            " [[1 2 5 6]\n",
            " [3 4 7 8]]\n"
          ]
        }
      ]
    },
    {
      "cell_type": "code",
      "source": [
        "# Stacking arrays\n",
        "a = np.array([[1, 2], [3, 4]])\n",
        "b = np.array([[5, 6], [7, 8]])\n",
        "\n",
        "# Stacking using concatemate\n",
        "vertical_stack = np.concatenate((a, b), axis=0)\n",
        "print(\"\\nVertical stack:\\n\", vertical_stack)\n",
        "\n",
        "# Stacking using concatemate\n",
        "vertical_stack = np.concatenate((a, b), axis=1)\n",
        "print(\"\\nHorizontal stack:\\n\", vertical_stack)"
      ],
      "metadata": {
        "colab": {
          "base_uri": "https://localhost:8080/"
        },
        "id": "-yc9_CE_tEn-",
        "outputId": "bc18816f-cae2-47de-c639-af70530575aa"
      },
      "execution_count": 52,
      "outputs": [
        {
          "output_type": "stream",
          "name": "stdout",
          "text": [
            "\n",
            "Vertical stack:\n",
            " [[1 2]\n",
            " [3 4]\n",
            " [5 6]\n",
            " [7 8]]\n",
            "\n",
            "Horizontal stack:\n",
            " [[1 2 5 6]\n",
            " [3 4 7 8]]\n"
          ]
        }
      ]
    },
    {
      "cell_type": "markdown",
      "source": [
        "## 4. Element-wise Operations"
      ],
      "metadata": {
        "id": "cSkH2f7_rTG-"
      }
    },
    {
      "cell_type": "code",
      "source": [
        "# Create two arrays\n",
        "a = np.array([1, 2, 3, 4])\n",
        "b = np.array([5, 6, 7, 8])\n",
        "\n",
        "# Arithmetic operations\n",
        "print(\"a + b =\", a + b)   # Addition\n",
        "print(\"a - b =\", a - b)   # Subtraction\n",
        "print(\"a * b =\", a * b)   # Element-wise multiplication\n",
        "print(\"a / b =\", a / b)   # Division\n",
        "print(\"a ** 2 =\", a ** 2) # Exponentiation\n",
        "\n",
        "# Universal functions (ufuncs)\n",
        "print(\"\\nSquare root of a:\", np.sqrt(a))\n",
        "print(\"Exponential of a:\", np.exp(a))\n",
        "print(\"Sine of a:\", np.sin(a))\n",
        "print(\"Natural logarithm of a:\", np.log(a))\n",
        "\n",
        "# Comparison operations\n",
        "print(\"\\na > 2:\", a > 2)\n",
        "print(\"a == b:\", a == b)\n",
        "print(\"a <= b:\", a <= b)"
      ],
      "metadata": {
        "colab": {
          "base_uri": "https://localhost:8080/"
        },
        "id": "0sTcgRc5tZVO",
        "outputId": "6119c78d-2bf1-4380-d681-42e47a4c4789"
      },
      "execution_count": 53,
      "outputs": [
        {
          "output_type": "stream",
          "name": "stdout",
          "text": [
            "a + b = [ 6  8 10 12]\n",
            "a - b = [-4 -4 -4 -4]\n",
            "a * b = [ 5 12 21 32]\n",
            "a / b = [0.2        0.33333333 0.42857143 0.5       ]\n",
            "a ** 2 = [ 1  4  9 16]\n",
            "\n",
            "Square root of a: [1.         1.41421356 1.73205081 2.        ]\n",
            "Exponential of a: [ 2.71828183  7.3890561  20.08553692 54.59815003]\n",
            "Sine of a: [ 0.84147098  0.90929743  0.14112001 -0.7568025 ]\n",
            "Natural logarithm of a: [0.         0.69314718 1.09861229 1.38629436]\n",
            "\n",
            "a > 2: [False False  True  True]\n",
            "a == b: [False False False False]\n",
            "a <= b: [ True  True  True  True]\n"
          ]
        }
      ]
    },
    {
      "cell_type": "markdown",
      "source": [
        "## 5. Broadcasting"
      ],
      "metadata": {
        "id": "Oohzkup3tgNg"
      }
    },
    {
      "cell_type": "code",
      "source": [
        "# Create a 3x4 array\n",
        "a = np.ones((3, 4))\n",
        "print(\"Array a (3x4):\\n\", a)\n",
        "\n",
        "# Scalar broadcasting\n",
        "b = a * 5\n",
        "print(\"\\nArray a * 5:\\n\", b)\n",
        "\n",
        "# Broadcasting with 1D array\n",
        "c = np.array([1, 2, 3, 4])\n",
        "print(\"\\nArray c (1D):\", c)\n",
        "\n",
        "# Add c to each row of a\n",
        "d = a + c\n",
        "print(\"\\na + c (broadcasting):\\n\", d)\n",
        "\n",
        "# Add a column vector to each column\n",
        "column_vector = np.array([[1], [2], [3]])  # Shape: (3, 1)\n",
        "print(\"\\nColumn vector:\\n\", column_vector)\n",
        "print(\"\\na + column_vector (broadcasting):\\n\", a + column_vector)"
      ],
      "metadata": {
        "colab": {
          "base_uri": "https://localhost:8080/"
        },
        "id": "s9HV7faJteo4",
        "outputId": "79d37652-59cf-4df7-f720-5634921cd31d"
      },
      "execution_count": 55,
      "outputs": [
        {
          "output_type": "stream",
          "name": "stdout",
          "text": [
            "Array a (3x4):\n",
            " [[1. 1. 1. 1.]\n",
            " [1. 1. 1. 1.]\n",
            " [1. 1. 1. 1.]]\n",
            "\n",
            "Array a * 5:\n",
            " [[5. 5. 5. 5.]\n",
            " [5. 5. 5. 5.]\n",
            " [5. 5. 5. 5.]]\n",
            "\n",
            "Array c (1D): [1 2 3 4]\n",
            "\n",
            "a + c (broadcasting):\n",
            " [[2. 3. 4. 5.]\n",
            " [2. 3. 4. 5.]\n",
            " [2. 3. 4. 5.]]\n",
            "\n",
            "Column vector:\n",
            " [[1]\n",
            " [2]\n",
            " [3]]\n",
            "\n",
            "a + column_vector (broadcasting):\n",
            " [[2. 2. 2. 2.]\n",
            " [3. 3. 3. 3.]\n",
            " [4. 4. 4. 4.]]\n"
          ]
        }
      ]
    },
    {
      "cell_type": "markdown",
      "source": [
        "## 6. Matrix Multiplication and Linear Algebra"
      ],
      "metadata": {
        "id": "gHa4gmSStztG"
      }
    },
    {
      "cell_type": "code",
      "source": [
        "# Create two matrices\n",
        "A = np.array([[1, 2, 3],\n",
        "              [4, 5, 6]])\n",
        "\n",
        "B = np.array([[7, 8],\n",
        "              [9, 10],\n",
        "              [11, 12]])\n",
        "\n",
        "print(\"Matrix A (2x3):\\n\", A)\n",
        "print(\"\\nMatrix B (3x2):\\n\", B)\n",
        "\n",
        "# Matrix multiplication using dot product\n",
        "C1 = np.dot(A, B)  # (2x3) ⋅ (3x2) = (2x2)\n",
        "print(\"\\nA ⋅ B using np.dot():\\n\", C1)\n",
        "\n",
        "# Matrix multiplication using @ operator (Python 3.5+)\n",
        "C2 = A @ B\n",
        "print(\"\\nA @ B using @ operator:\\n\", C2)"
      ],
      "metadata": {
        "colab": {
          "base_uri": "https://localhost:8080/"
        },
        "id": "u5eLKjn7tw3w",
        "outputId": "8ed13fad-a728-4828-8dc4-5045bfb61904"
      },
      "execution_count": 57,
      "outputs": [
        {
          "output_type": "stream",
          "name": "stdout",
          "text": [
            "Matrix A (2x3):\n",
            " [[1 2 3]\n",
            " [4 5 6]]\n",
            "\n",
            "Matrix B (3x2):\n",
            " [[ 7  8]\n",
            " [ 9 10]\n",
            " [11 12]]\n",
            "\n",
            "A ⋅ B using np.dot():\n",
            " [[ 58  64]\n",
            " [139 154]]\n",
            "\n",
            "A @ B using @ operator:\n",
            " [[ 58  64]\n",
            " [139 154]]\n"
          ]
        }
      ]
    },
    {
      "cell_type": "code",
      "source": [
        "# Element-wise multiplication (Hadamard product)\n",
        "D = np.array([[1, 2], [3, 4]])\n",
        "E = np.array([[5, 6], [7, 8]])\n",
        "F = D * E\n",
        "print(\"\\nD (2x2):\\n\", D)\n",
        "print(\"\\nE (2x2):\\n\", E)\n",
        "print(\"\\nD * E (element-wise):\\n\", F)"
      ],
      "metadata": {
        "colab": {
          "base_uri": "https://localhost:8080/"
        },
        "id": "SsGpZ_1huuPz",
        "outputId": "6193b9f6-79a7-4bd3-af72-75504ac0e2c3"
      },
      "execution_count": 59,
      "outputs": [
        {
          "output_type": "stream",
          "name": "stdout",
          "text": [
            "\n",
            "D (2x2):\n",
            " [[1 2]\n",
            " [3 4]]\n",
            "\n",
            "E (2x2):\n",
            " [[5 6]\n",
            " [7 8]]\n",
            "\n",
            "D * E (element-wise):\n",
            " [[ 5 12]\n",
            " [21 32]]\n"
          ]
        }
      ]
    },
    {
      "cell_type": "markdown",
      "source": [
        "## 7. Saving and reading numpy arrays"
      ],
      "metadata": {
        "id": "0gskohoW0jEb"
      }
    },
    {
      "cell_type": "code",
      "source": [
        "np.random.seed(5) # set a seeder\n",
        "arr = np.random.randn(10) # set 10 random elements (including negative numbers)\n",
        "print(arr)\n",
        "\n",
        "np.save('arr.npy',arr) #save array"
      ],
      "metadata": {
        "colab": {
          "base_uri": "https://localhost:8080/"
        },
        "id": "UNrI1I7E4p4h",
        "outputId": "44294ecd-fe3c-4d99-ec80-817e5fb52081"
      },
      "execution_count": 88,
      "outputs": [
        {
          "output_type": "stream",
          "name": "stdout",
          "text": [
            "[ 0.44122749 -0.33087015  2.43077119 -0.25209213  0.10960984  1.58248112\n",
            " -0.9092324  -0.59163666  0.18760323 -0.32986996]\n"
          ]
        }
      ]
    },
    {
      "cell_type": "code",
      "source": [
        "arr_2 = np.load('arr.npy') #load array\n",
        "print(arr_2)"
      ],
      "metadata": {
        "colab": {
          "base_uri": "https://localhost:8080/"
        },
        "id": "haEe4-Rd5OR6",
        "outputId": "25cd9381-63e5-4e45-9a67-cffc14b3b250"
      },
      "execution_count": 89,
      "outputs": [
        {
          "output_type": "stream",
          "name": "stdout",
          "text": [
            "[ 0.44122749 -0.33087015  2.43077119 -0.25209213  0.10960984  1.58248112\n",
            " -0.9092324  -0.59163666  0.18760323 -0.32986996]\n"
          ]
        }
      ]
    },
    {
      "cell_type": "markdown",
      "source": [
        "## 8. Comparing NumPy Random Distributions: rand vs randn"
      ],
      "metadata": {
        "id": "Hm1iAeF450nL"
      }
    },
    {
      "cell_type": "code",
      "source": [
        "# This example demonstrates the key differences between two NumPy random functions:\n",
        "#\n",
        "# - `np.random.rand()`: Generates random numbers from a **uniform distribution** between 0 and 1\n",
        "# - `np.random.randn()`: Generates random numbers from a **standard normal (Gaussian) distribution** with mean 0 and standard deviation 1\n",
        "#\n",
        "# Let's visualize these differences and explore their applications.\n",
        "\n",
        "# %%\n",
        "import numpy as np\n",
        "import matplotlib.pyplot as plt\n",
        "import seaborn as sns  # For better visualization (optional)"
      ],
      "metadata": {
        "id": "qvG5FSfe58SS"
      },
      "execution_count": 91,
      "outputs": []
    },
    {
      "cell_type": "code",
      "source": [
        "# Set a random seed for reproducibility\n",
        "np.random.seed(42)\n",
        "\n",
        "# Set a larger font size for all plots\n",
        "plt.rcParams.update({'font.size': 12})\n"
      ],
      "metadata": {
        "id": "9opTYZbr6HKz"
      },
      "execution_count": 92,
      "outputs": []
    },
    {
      "cell_type": "code",
      "source": [
        "# Sample size\n",
        "n_samples = 10000\n",
        "\n",
        "# Generate uniform random numbers between 0 and 1\n",
        "uniform_data = np.random.rand(n_samples)\n",
        "\n",
        "# Generate normal random numbers (mean 0, std 1)\n",
        "normal_data = np.random.randn(n_samples)\n",
        "\n",
        "# Print basic statistics\n",
        "print(\"Uniform Distribution (np.random.rand):\")\n",
        "print(f\"  Mean: {uniform_data.mean():.6f}\")\n",
        "print(f\"  Standard Deviation: {uniform_data.std():.6f}\")\n",
        "print(f\"  Min: {uniform_data.min():.6f}\")\n",
        "print(f\"  Max: {uniform_data.max():.6f}\")\n",
        "\n",
        "print(\"\\nNormal Distribution (np.random.randn):\")\n",
        "print(f\"  Mean: {normal_data.mean():.6f}\")\n",
        "print(f\"  Standard Deviation: {normal_data.std():.6f}\")\n",
        "print(f\"  Min: {normal_data.min():.6f}\")\n",
        "print(f\"  Max: {normal_data.max():.6f}\")"
      ],
      "metadata": {
        "colab": {
          "base_uri": "https://localhost:8080/"
        },
        "id": "Qw7lSUqo6MA0",
        "outputId": "a994e544-687b-4774-fb98-a7c9120aa19c"
      },
      "execution_count": 93,
      "outputs": [
        {
          "output_type": "stream",
          "name": "stdout",
          "text": [
            "Uniform Distribution (np.random.rand):\n",
            "  Mean: 0.494160\n",
            "  Standard Deviation: 0.287616\n",
            "  Min: 0.000012\n",
            "  Max: 0.999718\n",
            "\n",
            "Normal Distribution (np.random.randn):\n",
            "  Mean: 0.012355\n",
            "  Standard Deviation: 0.999724\n",
            "  Min: -3.922400\n",
            "  Max: 4.479084\n"
          ]
        }
      ]
    },
    {
      "cell_type": "markdown",
      "source": [
        "### Histogram Comparison"
      ],
      "metadata": {
        "id": "argPjaT66Sfy"
      }
    },
    {
      "cell_type": "code",
      "source": [
        "plt.figure(figsize=(12, 5))\n",
        "\n",
        "# Histogram for uniform distribution\n",
        "plt.subplot(121)\n",
        "plt.hist(uniform_data, bins=50, alpha=0.7, color='blue')\n",
        "plt.title('Uniform Distribution\\nnp.random.rand()')\n",
        "plt.xlabel('Value')\n",
        "plt.ylabel('Frequency')\n",
        "plt.grid(alpha=0.3)\n",
        "plt.axvline(x=0.5, color='red', linestyle='--', linewidth=1, label='Expected Mean = 0.5')\n",
        "plt.legend()\n",
        "\n",
        "# Histogram for normal distribution\n",
        "plt.subplot(122)\n",
        "plt.hist(normal_data, bins=50, alpha=0.7, color='green')\n",
        "plt.title('Normal Distribution\\nnp.random.randn()')\n",
        "plt.xlabel('Value')\n",
        "plt.ylabel('Frequency')\n",
        "plt.grid(alpha=0.3)\n",
        "plt.axvline(x=0, color='red', linestyle='--', linewidth=1, label='Expected Mean = 0')\n",
        "plt.legend()\n",
        "\n",
        "plt.tight_layout()\n",
        "plt.show()"
      ],
      "metadata": {
        "colab": {
          "base_uri": "https://localhost:8080/",
          "height": 421
        },
        "id": "5TBf3uQT5YWK",
        "outputId": "cc0cce6c-0318-4c39-ad7d-a4dd542d30d5"
      },
      "execution_count": 94,
      "outputs": [
        {
          "output_type": "display_data",
          "data": {
            "text/plain": [
              "<Figure size 1200x500 with 2 Axes>"
            ],
            "image/png": "[encoded data removed]"
          },
          "metadata": {}
        }
      ]
    },
    {
      "cell_type": "markdown",
      "source": [
        "# Pandas Tutorial: Data Analysis and Manipulation\n",
        "\n",
        "## Welcome to this practical tutorial on Pandas, the most popular data analysis library in Python!\n",
        "\n",
        "## What is Pandas?\n",
        "\n",
        "## Pandas is a powerful Python library for data manipulation and analysis. It provides data structures like DataFrame and Series, and functions to efficiently work with structured data.\n",
        "\n",
        "## Key features:\n",
        "## - DataFrame: 2D labeled data structure (like a spreadsheet or SQL table)\n",
        "### - Series: 1D labeled array (like a column in a spreadsheet)\n",
        "### - Tools for reading/writing data to different formats\n",
        "### - Data alignment and handling of missing data\n",
        "### - Reshaping, pivoting, and merging datasets\n",
        "### - Time series functionality"
      ],
      "metadata": {
        "id": "07pDYeNJ0mFE"
      }
    },
    {
      "cell_type": "code",
      "source": [
        "# Import pandas and other useful libraries\n",
        "import pandas as pd\n",
        "import numpy as np\n",
        "import matplotlib.pyplot as plt\n",
        "\n",
        "# Check pandas version\n",
        "print(f\"Pandas version: {pd.__version__}\")"
      ],
      "metadata": {
        "colab": {
          "base_uri": "https://localhost:8080/"
        },
        "id": "cwTPh-id0yyW",
        "outputId": "7a60373b-7460-439c-f3aa-c0fca8d33794"
      },
      "execution_count": 61,
      "outputs": [
        {
          "output_type": "stream",
          "name": "stdout",
          "text": [
            "Pandas version: 2.2.2\n"
          ]
        }
      ]
    },
    {
      "cell_type": "markdown",
      "source": [
        "## 1. Creating DataFrames and Series"
      ],
      "metadata": {
        "id": "dlRud8Oa1eaY"
      }
    },
    {
      "cell_type": "code",
      "source": [
        "# Create a Series (1D labeled array)\n",
        "s = pd.Series([1, 3, 5, np.nan, 6, 8])\n",
        "print(\"Series example:\")\n",
        "print(s)"
      ],
      "metadata": {
        "colab": {
          "base_uri": "https://localhost:8080/"
        },
        "id": "PzkNQoZA1haJ",
        "outputId": "43c79912-057e-41a2-f2d5-5a06f0d64a1a"
      },
      "execution_count": 62,
      "outputs": [
        {
          "output_type": "stream",
          "name": "stdout",
          "text": [
            "Series example:\n",
            "0    1.0\n",
            "1    3.0\n",
            "2    5.0\n",
            "3    NaN\n",
            "4    6.0\n",
            "5    8.0\n",
            "dtype: float64\n"
          ]
        }
      ]
    },
    {
      "cell_type": "code",
      "source": [
        "# Create a DataFrame from a dictionary\n",
        "data = {\n",
        "    'Name': ['John', 'Anna', 'Peter', 'Linda'],\n",
        "    'Age': [28, 34, 29, 42],\n",
        "    'City': ['New York', 'Paris', 'Berlin', 'London'],\n",
        "    'Salary': [65000, 70000, 62000, 85000]\n",
        "}\n",
        "df = pd.DataFrame(data)\n",
        "print(\"\\nDataFrame from dictionary:\")\n",
        "print(df)"
      ],
      "metadata": {
        "colab": {
          "base_uri": "https://localhost:8080/"
        },
        "id": "g0YZtcFn1kTB",
        "outputId": "9adff261-529f-4def-871f-5c393f933340"
      },
      "execution_count": 63,
      "outputs": [
        {
          "output_type": "stream",
          "name": "stdout",
          "text": [
            "\n",
            "DataFrame from dictionary:\n",
            "    Name  Age      City  Salary\n",
            "0   John   28  New York   65000\n",
            "1   Anna   34     Paris   70000\n",
            "2  Peter   29    Berlin   62000\n",
            "3  Linda   42    London   85000\n"
          ]
        }
      ]
    },
    {
      "cell_type": "code",
      "source": [
        "# Create a DataFrame with a DateTimeIndex\n",
        "dates = pd.date_range('20230101', periods=6)\n",
        "df_dates = pd.DataFrame(np.random.randn(6, 4), index=dates, columns=list('ABCD'))\n",
        "print(\"\\nDataFrame with DateTimeIndex:\")\n",
        "print(df_dates)"
      ],
      "metadata": {
        "colab": {
          "base_uri": "https://localhost:8080/"
        },
        "id": "U8-p7Ov51nJx",
        "outputId": "6c4c3238-6e32-44fd-bc42-2e9bc4354102"
      },
      "execution_count": 64,
      "outputs": [
        {
          "output_type": "stream",
          "name": "stdout",
          "text": [
            "\n",
            "DataFrame with DateTimeIndex:\n",
            "                   A         B         C         D\n",
            "2023-01-01 -0.679305 -0.824271  0.796996  0.450739\n",
            "2023-01-02  0.350011 -0.652887  1.293023  0.014490\n",
            "2023-01-03  2.380190  0.161166 -2.333348 -2.377876\n",
            "2023-01-04  0.623950  1.300494 -0.783828  2.100979\n",
            "2023-01-05  1.662999  0.210547  0.539454  0.894530\n",
            "2023-01-06  1.889995  0.682136  0.187932  0.672301\n"
          ]
        }
      ]
    },
    {
      "cell_type": "markdown",
      "source": [
        "## 2. Viewing and Inspecting Data"
      ],
      "metadata": {
        "id": "k2LBFxtV2INj"
      }
    },
    {
      "cell_type": "code",
      "source": [
        "\n",
        "# Basic information about a DataFrame\n",
        "print(\"DataFrame dimensions:\", df.shape)  # (rows, columns)\n",
        "print(\"\\nColumn names:\", df.columns)\n",
        "print(\"\\nIndex:\", df.index)\n",
        "print(\"\\nData types:\")\n",
        "print(df.dtypes)\n"
      ],
      "metadata": {
        "colab": {
          "base_uri": "https://localhost:8080/"
        },
        "id": "5-FQQmRE2FlG",
        "outputId": "69b8ecb3-8a7b-4e3c-8455-90c6145428a6"
      },
      "execution_count": 65,
      "outputs": [
        {
          "output_type": "stream",
          "name": "stdout",
          "text": [
            "DataFrame dimensions: (4, 4)\n",
            "\n",
            "Column names: Index(['Name', 'Age', 'City', 'Salary'], dtype='object')\n",
            "\n",
            "Index: RangeIndex(start=0, stop=4, step=1)\n",
            "\n",
            "Data types:\n",
            "Name      object\n",
            "Age        int64\n",
            "City      object\n",
            "Salary     int64\n",
            "dtype: object\n"
          ]
        }
      ]
    },
    {
      "cell_type": "code",
      "source": [
        "# Preview data\n",
        "print(\"\\nFirst 2 rows:\")\n",
        "print(df.head(2))\n",
        "print(\"\\nLast 2 rows:\")\n",
        "print(df.tail(2))\n",
        "\n",
        "# Summary statistics\n",
        "print(\"\\nSummary statistics:\")\n",
        "print(df.describe())"
      ],
      "metadata": {
        "colab": {
          "base_uri": "https://localhost:8080/"
        },
        "id": "s71k1Nzp2NIy",
        "outputId": "61091247-0ce7-4de0-cba4-16746bf60b7a"
      },
      "execution_count": 66,
      "outputs": [
        {
          "output_type": "stream",
          "name": "stdout",
          "text": [
            "\n",
            "First 2 rows:\n",
            "   Name  Age      City  Salary\n",
            "0  John   28  New York   65000\n",
            "1  Anna   34     Paris   70000\n",
            "\n",
            "Last 2 rows:\n",
            "    Name  Age    City  Salary\n",
            "2  Peter   29  Berlin   62000\n",
            "3  Linda   42  London   85000\n",
            "\n",
            "Summary statistics:\n",
            "             Age        Salary\n",
            "count   4.000000      4.000000\n",
            "mean   33.250000  70500.000000\n",
            "std     6.396614  10214.368964\n",
            "min    28.000000  62000.000000\n",
            "25%    28.750000  64250.000000\n",
            "50%    31.500000  67500.000000\n",
            "75%    36.000000  73750.000000\n",
            "max    42.000000  85000.000000\n"
          ]
        }
      ]
    },
    {
      "cell_type": "markdown",
      "source": [
        " ## 3. Selecting and Indexing Data"
      ],
      "metadata": {
        "id": "X2OFuQ8D2aTG"
      }
    },
    {
      "cell_type": "code",
      "source": [
        "\n",
        "# Select a single column (returns a Series)\n",
        "print(\"Select 'Name' column:\")\n",
        "print(df['Name'])\n",
        "\n",
        "# Select multiple columns\n",
        "print(\"\\nSelect 'Name' and 'Age' columns:\")\n",
        "print(df[['Name', 'Age']])\n",
        "\n",
        "# Select rows by position (using iloc)\n",
        "print(\"\\nSelect first 2 rows (all columns):\")\n",
        "print(df.iloc[0:2])\n",
        "\n",
        "# Select rows and columns by position\n",
        "print(\"\\nSelect first 2 rows and columns 0 and 2:\")\n",
        "print(df.iloc[0:2, [0, 2]])\n",
        "\n",
        "# Select rows by label/index (using loc)\n",
        "print(\"\\nSelect rows where index is 1 or 3:\")\n",
        "print(df.loc[[1, 3]])\n",
        "\n",
        "# Boolean indexing\n",
        "print(\"\\nSelect rows where Age > 30:\")\n",
        "print(df[df['Age'] > 30])"
      ],
      "metadata": {
        "colab": {
          "base_uri": "https://localhost:8080/"
        },
        "id": "FCxIk5Bg2XR-",
        "outputId": "b62fcb7c-7404-45e8-c088-c82e414f328e"
      },
      "execution_count": 67,
      "outputs": [
        {
          "output_type": "stream",
          "name": "stdout",
          "text": [
            "Select 'Name' column:\n",
            "0     John\n",
            "1     Anna\n",
            "2    Peter\n",
            "3    Linda\n",
            "Name: Name, dtype: object\n",
            "\n",
            "Select 'Name' and 'Age' columns:\n",
            "    Name  Age\n",
            "0   John   28\n",
            "1   Anna   34\n",
            "2  Peter   29\n",
            "3  Linda   42\n",
            "\n",
            "Select first 2 rows (all columns):\n",
            "   Name  Age      City  Salary\n",
            "0  John   28  New York   65000\n",
            "1  Anna   34     Paris   70000\n",
            "\n",
            "Select first 2 rows and columns 0 and 2:\n",
            "   Name      City\n",
            "0  John  New York\n",
            "1  Anna     Paris\n",
            "\n",
            "Select rows where index is 1 or 3:\n",
            "    Name  Age    City  Salary\n",
            "1   Anna   34   Paris   70000\n",
            "3  Linda   42  London   85000\n",
            "\n",
            "Select rows where Age > 30:\n",
            "    Name  Age    City  Salary\n",
            "1   Anna   34   Paris   70000\n",
            "3  Linda   42  London   85000\n"
          ]
        }
      ]
    },
    {
      "cell_type": "markdown",
      "source": [
        "## 4. Data Cleaning and Preparation"
      ],
      "metadata": {
        "id": "Phaw6_1s22fM"
      }
    },
    {
      "cell_type": "code",
      "source": [
        "\n",
        "# Create a DataFrame with missing values\n",
        "df_missing = pd.DataFrame({\n",
        "    'A': [1, 2, np.nan, 4],\n",
        "    'B': [5, np.nan, np.nan, 8],\n",
        "    'C': [9, 10, 11, 12]\n",
        "})\n",
        "print(\"DataFrame with missing values:\")\n",
        "print(df_missing)"
      ],
      "metadata": {
        "colab": {
          "base_uri": "https://localhost:8080/"
        },
        "id": "4l-mrzS827Pj",
        "outputId": "d31727bb-af89-4f55-cebb-e45bffacca06"
      },
      "execution_count": 97,
      "outputs": [
        {
          "output_type": "stream",
          "name": "stdout",
          "text": [
            "DataFrame with missing values:\n",
            "     A    B   C\n",
            "0  1.0  5.0   9\n",
            "1  2.0  NaN  10\n",
            "2  NaN  NaN  11\n",
            "3  4.0  8.0  12\n"
          ]
        }
      ]
    },
    {
      "cell_type": "code",
      "source": [
        "# Check for missing values\n",
        "print(\"\\nMissing values?\")\n",
        "print(df_missing.isna())\n",
        "print(\"\\nCount of missing values per column:\")\n",
        "print(df_missing.isna().sum())"
      ],
      "metadata": {
        "colab": {
          "base_uri": "https://localhost:8080/"
        },
        "id": "-JzjJ1lb3ANe",
        "outputId": "cbe2d00c-8fab-42c7-e1f3-0a8f90d18887"
      },
      "execution_count": 98,
      "outputs": [
        {
          "output_type": "stream",
          "name": "stdout",
          "text": [
            "\n",
            "Missing values?\n",
            "       A      B      C\n",
            "0  False  False  False\n",
            "1  False   True  False\n",
            "2   True   True  False\n",
            "3  False  False  False\n",
            "\n",
            "Count of missing values per column:\n",
            "A    1\n",
            "B    2\n",
            "C    0\n",
            "dtype: int64\n"
          ]
        }
      ]
    },
    {
      "cell_type": "code",
      "source": [
        "# Fill missing values\n",
        "print(\"\\nFill missing values with 0:\")\n",
        "print(df_missing.fillna(0))\n",
        "\n",
        "# Fill missing values with column mean\n",
        "print(\"\\nFill missing values with column mean:\")\n",
        "print(df_missing.fillna(df_missing.mean())) #e.g., [1, 2, 4] is (1+2+4)/3 = 7/3 = 2.333333\n",
        "\n",
        "# Drop rows with any missing values\n",
        "print(\"\\nDrop rows with any missing values:\")\n",
        "print(df_missing.dropna())\n",
        "\n",
        "# Drop rows where all values are missing\n",
        "print(\"\\nDrop rows where all values are missing:\")\n",
        "print(df_missing.dropna(how='all'))"
      ],
      "metadata": {
        "colab": {
          "base_uri": "https://localhost:8080/"
        },
        "id": "Ezc2WSdD3C1S",
        "outputId": "ef7fa652-cc77-413a-be1b-ce4d3adbe5c9"
      },
      "execution_count": 99,
      "outputs": [
        {
          "output_type": "stream",
          "name": "stdout",
          "text": [
            "\n",
            "Fill missing values with 0:\n",
            "     A    B   C\n",
            "0  1.0  5.0   9\n",
            "1  2.0  0.0  10\n",
            "2  0.0  0.0  11\n",
            "3  4.0  8.0  12\n",
            "\n",
            "Fill missing values with column mean:\n",
            "          A    B   C\n",
            "0  1.000000  5.0   9\n",
            "1  2.000000  6.5  10\n",
            "2  2.333333  6.5  11\n",
            "3  4.000000  8.0  12\n",
            "\n",
            "Drop rows with any missing values:\n",
            "     A    B   C\n",
            "0  1.0  5.0   9\n",
            "3  4.0  8.0  12\n",
            "\n",
            "Drop rows where all values are missing:\n",
            "     A    B   C\n",
            "0  1.0  5.0   9\n",
            "1  2.0  NaN  10\n",
            "2  NaN  NaN  11\n",
            "3  4.0  8.0  12\n"
          ]
        }
      ]
    },
    {
      "cell_type": "markdown",
      "source": [
        "## 5. Data Transformation"
      ],
      "metadata": {
        "id": "fTJfbDC-3FDG"
      }
    },
    {
      "cell_type": "code",
      "source": [
        "# Create a sample DataFrame\n",
        "df = pd.DataFrame({\n",
        "    'A': [1, 2, 3, 4, 5],\n",
        "    'B': [10, 20, 30, 40, 50],\n",
        "    'C': [100, 200, 300, 400, 500]\n",
        "})\n",
        "print(\"Original DataFrame:\")\n",
        "print(df)"
      ],
      "metadata": {
        "colab": {
          "base_uri": "https://localhost:8080/"
        },
        "id": "lUddKLEw3JxI",
        "outputId": "cfb7f070-76e2-42eb-943a-8032898192a9"
      },
      "execution_count": 100,
      "outputs": [
        {
          "output_type": "stream",
          "name": "stdout",
          "text": [
            "Original DataFrame:\n",
            "   A   B    C\n",
            "0  1  10  100\n",
            "1  2  20  200\n",
            "2  3  30  300\n",
            "3  4  40  400\n",
            "4  5  50  500\n"
          ]
        }
      ]
    },
    {
      "cell_type": "code",
      "source": [
        "# Apply operations to entire DataFrame\n",
        "print(\"\\nMultiply all values by 2:\")\n",
        "print(df * 2)\n",
        "\n",
        "# Apply operations to a column\n",
        "print(\"\\nAdd 10 to column A:\")\n",
        "print(df.assign(A=df['A'] + 10))\n",
        "\n",
        "# Apply a function to a column\n",
        "print(\"\\nApply square root to column B:\")\n",
        "print(df.assign(B=np.sqrt(df['B'])))"
      ],
      "metadata": {
        "colab": {
          "base_uri": "https://localhost:8080/"
        },
        "id": "mnwSHbkJ3QcI",
        "outputId": "df742ca9-d643-456b-f666-40fbca4e7505"
      },
      "execution_count": 101,
      "outputs": [
        {
          "output_type": "stream",
          "name": "stdout",
          "text": [
            "\n",
            "Multiply all values by 2:\n",
            "    A    B     C\n",
            "0   2   20   200\n",
            "1   4   40   400\n",
            "2   6   60   600\n",
            "3   8   80   800\n",
            "4  10  100  1000\n",
            "\n",
            "Add 10 to column A:\n",
            "    A   B    C\n",
            "0  11  10  100\n",
            "1  12  20  200\n",
            "2  13  30  300\n",
            "3  14  40  400\n",
            "4  15  50  500\n",
            "\n",
            "Apply square root to column B:\n",
            "   A         B    C\n",
            "0  1  3.162278  100\n",
            "1  2  4.472136  200\n",
            "2  3  5.477226  300\n",
            "3  4  6.324555  400\n",
            "4  5  7.071068  500\n"
          ]
        }
      ]
    },
    {
      "cell_type": "code",
      "source": [
        "# Create a new column from existing ones\n",
        "print(\"\\nAdd new column 'D' = A + B:\")\n",
        "df['D'] = df['A'] + df['B']\n",
        "print(df)\n",
        "\n",
        "# Apply a function to each element (element-wise)\n",
        "print(\"\\nApply custom function to each element:\")\n",
        "print(df.applymap(lambda x: x*2))\n",
        "\n",
        "# Apply a function to each row or column\n",
        "print(\"\\nSum of values in each row:\")\n",
        "print(df.apply(sum, axis=1))"
      ],
      "metadata": {
        "colab": {
          "base_uri": "https://localhost:8080/"
        },
        "id": "Z5TiDLO33TiA",
        "outputId": "6b66f016-6ee0-4d10-c4c3-5f0ace21b3c5"
      },
      "execution_count": 102,
      "outputs": [
        {
          "output_type": "stream",
          "name": "stdout",
          "text": [
            "\n",
            "Add new column 'D' = A + B:\n",
            "   A   B    C   D\n",
            "0  1  10  100  11\n",
            "1  2  20  200  22\n",
            "2  3  30  300  33\n",
            "3  4  40  400  44\n",
            "4  5  50  500  55\n",
            "\n",
            "Apply custom function to each element:\n",
            "    A    B     C    D\n",
            "0   2   20   200   22\n",
            "1   4   40   400   44\n",
            "2   6   60   600   66\n",
            "3   8   80   800   88\n",
            "4  10  100  1000  110\n",
            "\n",
            "Sum of values in each row:\n",
            "0    122\n",
            "1    244\n",
            "2    366\n",
            "3    488\n",
            "4    610\n",
            "dtype: int64\n"
          ]
        },
        {
          "output_type": "stream",
          "name": "stderr",
          "text": [
            "<ipython-input-102-6e04df7cca76>:8: FutureWarning: DataFrame.applymap has been deprecated. Use DataFrame.map instead.\n",
            "  print(df.applymap(lambda x: x*2))\n"
          ]
        }
      ]
    },
    {
      "cell_type": "markdown",
      "source": [
        "## 6. Sorting and Ranking Data"
      ],
      "metadata": {
        "id": "3LkTGXeY3V8Z"
      }
    },
    {
      "cell_type": "code",
      "source": [
        "# Create a sample DataFrame\n",
        "df = pd.DataFrame({\n",
        "    'Name': ['Alice', 'Bob', 'Charlie', 'David', 'Eva'],\n",
        "    'Age': [24, 42, 18, 31, 25],\n",
        "    'Salary': [55000, 63000, 48000, 72000, 66000],\n",
        "    'Department': ['HR', 'IT', 'Finance', 'IT', 'Marketing']\n",
        "})\n",
        "print(\"Original DataFrame:\")\n",
        "print(df)\n",
        "\n",
        "# Sort by a single column\n",
        "print(\"\\nSort by Age (ascending):\")\n",
        "print(df.sort_values('Age'))\n",
        "\n",
        "# Sort by multiple columns\n",
        "print(\"\\nSort by Department, then by Salary (descending):\")\n",
        "print(df.sort_values(['Department', 'Salary'], ascending=[True, False]))\n",
        "\n",
        "# Rank values\n",
        "print(\"\\nRank by Salary (highest = 1):\")\n",
        "print(df.assign(Rank=df['Salary'].rank(ascending=False)))"
      ],
      "metadata": {
        "colab": {
          "base_uri": "https://localhost:8080/"
        },
        "id": "-i1N3tl93bUx",
        "outputId": "1ae97ff7-89fc-4416-9679-be1964372a93"
      },
      "execution_count": 75,
      "outputs": [
        {
          "output_type": "stream",
          "name": "stdout",
          "text": [
            "Original DataFrame:\n",
            "      Name  Age  Salary Department\n",
            "0    Alice   24   55000         HR\n",
            "1      Bob   42   63000         IT\n",
            "2  Charlie   18   48000    Finance\n",
            "3    David   31   72000         IT\n",
            "4      Eva   25   66000  Marketing\n",
            "\n",
            "Sort by Age (ascending):\n",
            "      Name  Age  Salary Department\n",
            "2  Charlie   18   48000    Finance\n",
            "0    Alice   24   55000         HR\n",
            "4      Eva   25   66000  Marketing\n",
            "3    David   31   72000         IT\n",
            "1      Bob   42   63000         IT\n",
            "\n",
            "Sort by Department, then by Salary (descending):\n",
            "      Name  Age  Salary Department\n",
            "2  Charlie   18   48000    Finance\n",
            "0    Alice   24   55000         HR\n",
            "3    David   31   72000         IT\n",
            "1      Bob   42   63000         IT\n",
            "4      Eva   25   66000  Marketing\n",
            "\n",
            "Rank by Salary (highest = 1):\n",
            "      Name  Age  Salary Department  Rank\n",
            "0    Alice   24   55000         HR   4.0\n",
            "1      Bob   42   63000         IT   3.0\n",
            "2  Charlie   18   48000    Finance   5.0\n",
            "3    David   31   72000         IT   1.0\n",
            "4      Eva   25   66000  Marketing   2.0\n"
          ]
        }
      ]
    },
    {
      "cell_type": "markdown",
      "source": [
        "## 7. Grouping and Aggregation"
      ],
      "metadata": {
        "id": "7Sc40oKt3hNW"
      }
    },
    {
      "cell_type": "code",
      "source": [
        "# Create a sample sales DataFrame\n",
        "sales = pd.DataFrame({\n",
        "    'Date': pd.date_range('20230101', periods=8),\n",
        "    'Product': ['A', 'B', 'A', 'C', 'B', 'A', 'C', 'B'],\n",
        "    'Quantity': [10, 5, 7, 8, 6, 12, 9, 4],\n",
        "    'Price': [100, 200, 100, 150, 200, 100, 150, 200],\n",
        "    'Region': ['East', 'West', 'East', 'West', 'East', 'West', 'East', 'West']\n",
        "})\n",
        "sales['Revenue'] = sales['Quantity'] * sales['Price']\n",
        "print(\"Sales data:\")\n",
        "print(sales)"
      ],
      "metadata": {
        "colab": {
          "base_uri": "https://localhost:8080/"
        },
        "id": "gAaXsIDU3kyH",
        "outputId": "53f374e0-036c-4cda-afc7-db3b228ba9d0"
      },
      "execution_count": 103,
      "outputs": [
        {
          "output_type": "stream",
          "name": "stdout",
          "text": [
            "Sales data:\n",
            "        Date Product  Quantity  Price Region  Revenue\n",
            "0 2023-01-01       A        10    100   East     1000\n",
            "1 2023-01-02       B         5    200   West     1000\n",
            "2 2023-01-03       A         7    100   East      700\n",
            "3 2023-01-04       C         8    150   West     1200\n",
            "4 2023-01-05       B         6    200   East     1200\n",
            "5 2023-01-06       A        12    100   West     1200\n",
            "6 2023-01-07       C         9    150   East     1350\n",
            "7 2023-01-08       B         4    200   West      800\n"
          ]
        }
      ]
    },
    {
      "cell_type": "code",
      "source": [
        "# Group by a single column\n",
        "print(\"\\nAverage quantity and revenue by product:\")\n",
        "print(sales.groupby('Product').agg({'Quantity': 'mean', 'Revenue': 'mean'}))\n",
        "\n",
        "# Group by multiple columns\n",
        "print(\"\\nTotal revenue by Product and Region:\")\n",
        "print(sales.groupby(['Product', 'Region'])['Revenue'].sum())\n",
        "\n",
        "# Multiple aggregations on multiple columns\n",
        "print(\"\\nMultiple aggregations:\")\n",
        "print(sales.groupby('Product').agg({\n",
        "    'Quantity': ['sum', 'mean', 'max'],\n",
        "    'Revenue': ['sum', 'mean']\n",
        "}))"
      ],
      "metadata": {
        "colab": {
          "base_uri": "https://localhost:8080/"
        },
        "id": "UF42kgjqbTU4",
        "outputId": "e625a057-a52a-47ea-b7f9-1e92f2dd391b"
      },
      "execution_count": 104,
      "outputs": [
        {
          "output_type": "stream",
          "name": "stdout",
          "text": [
            "\n",
            "Average quantity and revenue by product:\n",
            "         Quantity      Revenue\n",
            "Product                       \n",
            "A        9.666667   966.666667\n",
            "B        5.000000  1000.000000\n",
            "C        8.500000  1275.000000\n",
            "\n",
            "Total revenue by Product and Region:\n",
            "Product  Region\n",
            "A        East      1700\n",
            "         West      1200\n",
            "B        East      1200\n",
            "         West      1800\n",
            "C        East      1350\n",
            "         West      1200\n",
            "Name: Revenue, dtype: int64\n",
            "\n",
            "Multiple aggregations:\n",
            "        Quantity               Revenue             \n",
            "             sum      mean max     sum         mean\n",
            "Product                                            \n",
            "A             29  9.666667  12    2900   966.666667\n",
            "B             15  5.000000   6    3000  1000.000000\n",
            "C             17  8.500000   9    2550  1275.000000\n"
          ]
        }
      ]
    },
    {
      "cell_type": "markdown",
      "source": [
        "## 8. Merging, Joining, and Concatenating DataFrames"
      ],
      "metadata": {
        "id": "-NR5R4Dc3wyA"
      }
    },
    {
      "cell_type": "code",
      "source": [
        "# Create sample DataFrames\n",
        "df1 = pd.DataFrame({'ID': [1, 2, 3, 4],\n",
        "                    'Name': ['Alice', 'Bob', 'Charlie', 'David'],\n",
        "                    'Dept': ['HR', 'IT', 'Finance', 'IT']})\n",
        "\n",
        "df2 = pd.DataFrame({'ID': [3, 4, 5, 6],\n",
        "                    'Salary': [50000, 60000, 70000, 80000],\n",
        "                    'Start_Date': ['2021-01-10', '2019-05-15', '2022-03-20', '2020-11-01']})\n",
        "\n",
        "print(\"DataFrame 1:\")\n",
        "print(df1)\n",
        "print(\"\\nDataFrame 2:\")\n",
        "print(df2)"
      ],
      "metadata": {
        "colab": {
          "base_uri": "https://localhost:8080/"
        },
        "id": "-bKOhAxc33Wf",
        "outputId": "96b18997-0b90-411c-c4c7-7a9770d36e08"
      },
      "execution_count": 105,
      "outputs": [
        {
          "output_type": "stream",
          "name": "stdout",
          "text": [
            "DataFrame 1:\n",
            "   ID     Name     Dept\n",
            "0   1    Alice       HR\n",
            "1   2      Bob       IT\n",
            "2   3  Charlie  Finance\n",
            "3   4    David       IT\n",
            "\n",
            "DataFrame 2:\n",
            "   ID  Salary  Start_Date\n",
            "0   3   50000  2021-01-10\n",
            "1   4   60000  2019-05-15\n",
            "2   5   70000  2022-03-20\n",
            "3   6   80000  2020-11-01\n"
          ]
        }
      ]
    },
    {
      "cell_type": "code",
      "source": [
        "# Inner join (only common rows)\n",
        "print(\"\\nInner join on 'ID':\")\n",
        "print(pd.merge(df1, df2, on='ID', how='inner'))\n",
        "\n",
        "# Left join (all rows from df1)\n",
        "print(\"\\nLeft join on 'ID':\")\n",
        "print(pd.merge(df1, df2, on='ID', how='left'))\n",
        "\n",
        "# Right join (all rows from df2)\n",
        "print(\"\\nRight join on 'ID':\")\n",
        "print(pd.merge(df1, df2, on='ID', how='right'))\n",
        "\n",
        "# Outer join (all rows from both)\n",
        "print(\"\\nOuter join on 'ID':\")\n",
        "print(pd.merge(df1, df2, on='ID', how='outer'))\n",
        "\n",
        "# Concatenate DataFrames (stack vertically)\n",
        "print(\"\\nConcatenate vertically:\")\n",
        "df3 = pd.DataFrame({'ID': [7, 8],\n",
        "                    'Name': ['Eva', 'Frank'],\n",
        "                    'Dept': ['Marketing', 'Sales']})\n",
        "print(pd.concat([df1, df3]))"
      ],
      "metadata": {
        "colab": {
          "base_uri": "https://localhost:8080/"
        },
        "id": "wZzp7Kp03-Pw",
        "outputId": "4c7f9e4d-5467-4d6f-dc14-fef4ac100ca7"
      },
      "execution_count": 79,
      "outputs": [
        {
          "output_type": "stream",
          "name": "stdout",
          "text": [
            "\n",
            "Inner join on 'ID':\n",
            "   ID     Name     Dept  Salary  Start_Date\n",
            "0   3  Charlie  Finance   50000  2021-01-10\n",
            "1   4    David       IT   60000  2019-05-15\n",
            "\n",
            "Left join on 'ID':\n",
            "   ID     Name     Dept   Salary  Start_Date\n",
            "0   1    Alice       HR      NaN         NaN\n",
            "1   2      Bob       IT      NaN         NaN\n",
            "2   3  Charlie  Finance  50000.0  2021-01-10\n",
            "3   4    David       IT  60000.0  2019-05-15\n",
            "\n",
            "Right join on 'ID':\n",
            "   ID     Name     Dept  Salary  Start_Date\n",
            "0   3  Charlie  Finance   50000  2021-01-10\n",
            "1   4    David       IT   60000  2019-05-15\n",
            "2   5      NaN      NaN   70000  2022-03-20\n",
            "3   6      NaN      NaN   80000  2020-11-01\n",
            "\n",
            "Outer join on 'ID':\n",
            "   ID     Name     Dept   Salary  Start_Date\n",
            "0   1    Alice       HR      NaN         NaN\n",
            "1   2      Bob       IT      NaN         NaN\n",
            "2   3  Charlie  Finance  50000.0  2021-01-10\n",
            "3   4    David       IT  60000.0  2019-05-15\n",
            "4   5      NaN      NaN  70000.0  2022-03-20\n",
            "5   6      NaN      NaN  80000.0  2020-11-01\n",
            "\n",
            "Concatenate vertically:\n",
            "   ID     Name       Dept\n",
            "0   1    Alice         HR\n",
            "1   2      Bob         IT\n",
            "2   3  Charlie    Finance\n",
            "3   4    David         IT\n",
            "0   7      Eva  Marketing\n",
            "1   8    Frank      Sales\n"
          ]
        }
      ]
    },
    {
      "cell_type": "markdown",
      "source": [
        "## 9. Time Series Analysis"
      ],
      "metadata": {
        "id": "8T9upzbn4BRL"
      }
    },
    {
      "cell_type": "code",
      "source": [
        "# Create a time series\n",
        "dates = pd.date_range('20230101', periods=12, freq='M')\n",
        "ts = pd.Series(np.random.randn(12), index=dates)\n",
        "print(\"Monthly time series for 2023:\")\n",
        "print(ts)\n",
        "\n",
        "# Resample to quarterly frequency\n",
        "print(\"\\nResample to quarterly frequency (mean):\")\n",
        "print(ts.resample('Q').mean())\n",
        "\n",
        "# Shift values\n",
        "print(\"\\nShift values forward by 2 periods:\")\n",
        "print(ts.shift(2))\n",
        "\n",
        "# Calculate percent change\n",
        "print(\"\\nPercent change between periods:\")\n",
        "print(ts.pct_change())\n",
        "\n",
        "# Simple rolling window\n",
        "print(\"\\n3-month rolling average:\")\n",
        "print(ts.rolling(window=3).mean())"
      ],
      "metadata": {
        "colab": {
          "base_uri": "https://localhost:8080/"
        },
        "id": "jVpWjvED4Lki",
        "outputId": "3141b146-7705-4be1-8198-a06c94e641c8"
      },
      "execution_count": 80,
      "outputs": [
        {
          "output_type": "stream",
          "name": "stdout",
          "text": [
            "Monthly time series for 2023:\n",
            "2023-01-31   -0.679305\n",
            "2023-02-28   -0.824271\n",
            "2023-03-31    0.796996\n",
            "2023-04-30    0.450739\n",
            "2023-05-31    0.350011\n",
            "2023-06-30   -0.652887\n",
            "2023-07-31    1.293023\n",
            "2023-08-31    0.014490\n",
            "2023-09-30    2.380190\n",
            "2023-10-31    0.161166\n",
            "2023-11-30   -2.333348\n",
            "2023-12-31   -2.377876\n",
            "Freq: ME, dtype: float64\n",
            "\n",
            "Resample to quarterly frequency (mean):\n",
            "2023-03-31   -0.235527\n",
            "2023-06-30    0.049288\n",
            "2023-09-30    1.229235\n",
            "2023-12-31   -1.516686\n",
            "Freq: QE-DEC, dtype: float64\n",
            "\n",
            "Shift values forward by 2 periods:\n",
            "2023-01-31         NaN\n",
            "2023-02-28         NaN\n",
            "2023-03-31   -0.679305\n",
            "2023-04-30   -0.824271\n",
            "2023-05-31    0.796996\n",
            "2023-06-30    0.450739\n",
            "2023-07-31    0.350011\n",
            "2023-08-31   -0.652887\n",
            "2023-09-30    1.293023\n",
            "2023-10-31    0.014490\n",
            "2023-11-30    2.380190\n",
            "2023-12-31    0.161166\n",
            "Freq: ME, dtype: float64\n",
            "\n",
            "Percent change between periods:\n",
            "2023-01-31           NaN\n",
            "2023-02-28      0.213404\n",
            "2023-03-31     -1.966910\n",
            "2023-04-30     -0.434453\n",
            "2023-05-31     -0.223472\n",
            "2023-06-30     -2.865333\n",
            "2023-07-31     -2.980469\n",
            "2023-08-31     -0.988794\n",
            "2023-09-30    163.262093\n",
            "2023-10-31     -0.932289\n",
            "2023-11-30    -15.477901\n",
            "2023-12-31      0.019083\n",
            "Freq: ME, dtype: float64\n",
            "\n",
            "3-month rolling average:\n",
            "2023-01-31         NaN\n",
            "2023-02-28         NaN\n",
            "2023-03-31   -0.235527\n",
            "2023-04-30    0.141154\n",
            "2023-05-31    0.532582\n",
            "2023-06-30    0.049288\n",
            "2023-07-31    0.330049\n",
            "2023-08-31    0.218209\n",
            "2023-09-30    1.229235\n",
            "2023-10-31    0.851949\n",
            "2023-11-30    0.069336\n",
            "2023-12-31   -1.516686\n",
            "Freq: ME, dtype: float64\n"
          ]
        },
        {
          "output_type": "stream",
          "name": "stderr",
          "text": [
            "<ipython-input-80-3432578cbf97>:2: FutureWarning: 'M' is deprecated and will be removed in a future version, please use 'ME' instead.\n",
            "  dates = pd.date_range('20230101', periods=12, freq='M')\n",
            "<ipython-input-80-3432578cbf97>:9: FutureWarning: 'Q' is deprecated and will be removed in a future version, please use 'QE' instead.\n",
            "  print(ts.resample('Q').mean())\n"
          ]
        }
      ]
    },
    {
      "cell_type": "markdown",
      "source": [
        "## 10. Reading and Writing Data"
      ],
      "metadata": {
        "id": "wmTd_RRE4SK-"
      }
    },
    {
      "cell_type": "code",
      "source": [
        "# Create a sample DataFrame to save\n",
        "df = pd.DataFrame({\n",
        "    'Name': ['John', 'Anna', 'Peter', 'Linda'],\n",
        "    'Age': [28, 34, 29, 42],\n",
        "    'City': ['New York', 'Paris', 'Berlin', 'London'],\n",
        "    'Salary': [65000, 70000, 62000, 85000]\n",
        "})\n",
        "\n",
        "# Write to CSV\n",
        "df.to_csv('sample_data.csv', index=False)\n",
        "print(\"Wrote data to CSV file 'sample_data.csv'\")\n",
        "\n",
        "# Read from CSV\n",
        "df_read = pd.read_csv('sample_data.csv')\n",
        "print(\"\\nRead data from CSV:\")\n",
        "print(df_read)\n",
        "\n",
        "# Write to Excel (requires openpyxl or xlsxwriter)\n",
        "try:\n",
        "    df.to_excel('sample_data.xlsx', index=False)\n",
        "    print(\"\\nWrote data to Excel file 'sample_data.xlsx'\")\n",
        "except ImportError:\n",
        "    print(\"\\nTo write Excel files, install openpyxl or xlsxwriter\")\n",
        "\n",
        "# Pandas can also read/write many other formats:\n",
        "# - read_json / to_json\n",
        "# - read_html / to_html\n",
        "# - read_sql / to_sql\n",
        "# - read_pickle / to_pickle\n",
        "# - read_parquet / to_parquet\n",
        "# - read_feather / to_feather"
      ],
      "metadata": {
        "colab": {
          "base_uri": "https://localhost:8080/"
        },
        "id": "4-iSaSA74PwH",
        "outputId": "9018da3c-5236-41ec-c708-8ca369bfc14f"
      },
      "execution_count": 81,
      "outputs": [
        {
          "output_type": "stream",
          "name": "stdout",
          "text": [
            "Wrote data to CSV file 'sample_data.csv'\n",
            "\n",
            "Read data from CSV:\n",
            "    Name  Age      City  Salary\n",
            "0   John   28  New York   65000\n",
            "1   Anna   34     Paris   70000\n",
            "2  Peter   29    Berlin   62000\n",
            "3  Linda   42    London   85000\n",
            "\n",
            "Wrote data to Excel file 'sample_data.xlsx'\n"
          ]
        }
      ]
    },
    {
      "cell_type": "markdown",
      "source": [
        "## 11. Visualization with Pandas"
      ],
      "metadata": {
        "id": "En2nRYXscZs4"
      }
    },
    {
      "cell_type": "code",
      "source": [
        "# Create a sample DataFrame\n",
        "data = {\n",
        "    'Year': [2018, 2019, 2020, 2021, 2022],\n",
        "    'Sales': [420, 380, 390, 450, 510],\n",
        "    'Expenses': [360, 350, 340, 360, 400],\n",
        "    'Profit': [60, 30, 50, 90, 110]\n",
        "}\n",
        "fin_df = pd.DataFrame(data)\n",
        "print(\"Financial data:\")\n",
        "print(fin_df)\n",
        "\n",
        "# Simple line plot\n",
        "fin_df.plot(x='Year', y=['Sales', 'Expenses', 'Profit'], figsize=(10, 6))\n",
        "plt.title('Financial Performance')\n",
        "plt.ylabel('Amount ($1000)')\n",
        "plt.grid(True)\n",
        "plt.show()\n",
        "\n",
        "# Bar plot\n",
        "fin_df.plot.bar(x='Year', y=['Profit'], figsize=(10, 6))\n",
        "plt.title('Yearly Profit')\n",
        "plt.ylabel('Profit ($1000)')\n",
        "plt.grid(True, axis='y')\n",
        "plt.show()\n",
        "\n",
        "# Other types of plots:\n",
        "# - fin_df.plot.area()\n",
        "# - fin_df.plot.pie(y='Sales', figsize=(7, 7))\n",
        "# - fin_df.plot.scatter(x='Sales', y='Profit')\n",
        "# - fin_df.plot.hist()\n",
        "# - fin_df.plot.box()"
      ],
      "metadata": {
        "colab": {
          "base_uri": "https://localhost:8080/",
          "height": 1000
        },
        "id": "gbn9bt_m0dGE",
        "outputId": "1974b40e-670f-4ff8-b341-b7080b4b1db4"
      },
      "execution_count": 106,
      "outputs": [
        {
          "output_type": "stream",
          "name": "stdout",
          "text": [
            "Financial data:\n",
            "   Year  Sales  Expenses  Profit\n",
            "0  2018    420       360      60\n",
            "1  2019    380       350      30\n",
            "2  2020    390       340      50\n",
            "3  2021    450       360      90\n",
            "4  2022    510       400     110\n"
          ]
        },
        {
          "output_type": "display_data",
          "data": {
            "text/plain": [
              "<Figure size 1000x600 with 1 Axes>"
            ],
            "image/png": "[encoded data removed]"
          },
          "metadata": {}
        },
        {
          "output_type": "display_data",
          "data": {
            "text/plain": [
              "<Figure size 1000x600 with 1 Axes>"
            ],
            "image/png": "[encoded data removed]"
          },
          "metadata": {}
        }
      ]
    },
    {
      "cell_type": "code",
      "source": [],
      "metadata": {
        "id": "BwvtKgAf0d0O"
      },
      "execution_count": null,
      "outputs": []
    }
  ]
}