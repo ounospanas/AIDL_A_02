{
  "nbformat": 4,
  "nbformat_minor": 0,
  "metadata": {
    "colab": {
      "name": "AIDL_A02_neural_networks.ipynb",
      "provenance": [],
      "collapsed_sections": [],
      "include_colab_link": true
    },
    "kernelspec": {
      "display_name": "Python 3",
      "language": "python",
      "name": "python3"
    },
    "language_info": {
      "codemirror_mode": {
        "name": "ipython",
        "version": 3
      },
      "file_extension": ".py",
      "mimetype": "text/x-python",
      "name": "python",
      "nbconvert_exporter": "python",
      "pygments_lexer": "ipython3",
      "version": "3.8.5"
    },
    "accelerator": "GPU"
  },
  "cells": [
    {
      "cell_type": "markdown",
      "metadata": {
        "id": "view-in-github",
        "colab_type": "text"
      },
      "source": [
        "<a href=\"https://colab.research.google.com/github/ounospanas/AIDL_A_02/blob/main/notebooks/AIDL_A02_neural_networks.ipynb\" target=\"_parent\"><img src=\"https://colab.research.google.com/assets/colab-badge.svg\" alt=\"Open In Colab\"/></a>"
      ]
    },
    {
      "cell_type": "code",
      "metadata": {
        "id": "j25rklnwD1-m"
      },
      "source": [
        "import numpy as np\n",
        "import matplotlib.pyplot as plt\n",
        "%matplotlib inline"
      ],
      "execution_count": 1,
      "outputs": []
    },
    {
      "cell_type": "code",
      "metadata": {
        "colab": {
          "base_uri": "https://localhost:8080/"
        },
        "id": "JenmhPusFZ06",
        "outputId": "b796a5f6-1179-482f-b5c9-f5c486d75452"
      },
      "source": [
        "#load dataset\n",
        "import tensorflow as tf\n",
        "(x_train, y_train), (x_test, y_test) = tf.keras.datasets.fashion_mnist.load_data()"
      ],
      "execution_count": 2,
      "outputs": [
        {
          "output_type": "stream",
          "text": [
            "Downloading data from https://storage.googleapis.com/tensorflow/tf-keras-datasets/train-labels-idx1-ubyte.gz\n",
            "32768/29515 [=================================] - 0s 0us/step\n",
            "Downloading data from https://storage.googleapis.com/tensorflow/tf-keras-datasets/train-images-idx3-ubyte.gz\n",
            "26427392/26421880 [==============================] - 1s 0us/step\n",
            "Downloading data from https://storage.googleapis.com/tensorflow/tf-keras-datasets/t10k-labels-idx1-ubyte.gz\n",
            "8192/5148 [===============================================] - 0s 0us/step\n",
            "Downloading data from https://storage.googleapis.com/tensorflow/tf-keras-datasets/t10k-images-idx3-ubyte.gz\n",
            "4423680/4422102 [==============================] - 0s 0us/step\n"
          ],
          "name": "stdout"
        }
      ]
    },
    {
      "cell_type": "code",
      "metadata": {
        "colab": {
          "base_uri": "https://localhost:8080/",
          "height": 272
        },
        "id": "V7uVONPjF1PP",
        "outputId": "81a15da9-398a-4c3a-e94f-5482e742e936"
      },
      "source": [
        "#visualize some data\n",
        "classes = ['T-shirt/top', 'Trouser', 'Pullover', 'Dress', 'Coat', 'Sandal', 'Shirt', 'Sneaker', 'Bag', 'Ankle boot']\n",
        "selected = [0,1,3,5,6,8,16,18,19,23]\n",
        "plt.figure(figsize=(11, 11))\n",
        "for i, s in enumerate(selected):\n",
        "    plt.subplot(5,5,i+1)\n",
        "    plt.xticks([])\n",
        "    plt.yticks([])\n",
        "    #img = plt.imread(x_train[s])\n",
        "    plt.imshow(x_train[s], cmap='gray')\n",
        "    plt.xlabel(classes[y_train[s]],)"
      ],
      "execution_count": 3,
      "outputs": [
        {
          "output_type": "display_data",
          "data": {
            "image/png": "[encoded data removed]",
            "text/plain": [
              "<Figure size 792x792 with 10 Axes>"
            ]
          },
          "metadata": {
            "tags": []
          }
        }
      ]
    },
    {
      "cell_type": "code",
      "metadata": {
        "id": "I8NenH6QEPlH"
      },
      "source": [
        "# normalize data\n",
        "x_train = x_train.reshape(x_train.shape[0],-1)/255\n",
        "x_test = x_test.reshape(x_test.shape[0],-1)/255"
      ],
      "execution_count": 4,
      "outputs": []
    },
    {
      "cell_type": "markdown",
      "metadata": {
        "id": "5zD2QsqukISO"
      },
      "source": [
        "# Binary Classification"
      ]
    },
    {
      "cell_type": "code",
      "metadata": {
        "id": "CWtYiD_eEJsq"
      },
      "source": [
        "# select only t-shirts and ankle boots\n",
        "shirt_train = np.where(y_train==0)\n",
        "dress_train = np.where(y_train==3)\n",
        "\n",
        "shirt_test = np.where(y_test==0)\n",
        "dress_test = np.where(y_test==3)"
      ],
      "execution_count": 5,
      "outputs": []
    },
    {
      "cell_type": "code",
      "metadata": {
        "id": "ugGWzBtFJA_1"
      },
      "source": [
        "# concatenate them\n",
        "x_train_s = x_train[shirt_train]\n",
        "y_train_s = y_train[shirt_train]\n",
        "\n",
        "x_test_s = x_test[shirt_test]\n",
        "y_test_s = y_test[shirt_test]\n",
        "\n",
        "x_train_d = x_train[dress_train]\n",
        "y_train_d = y_train[dress_train]\n",
        "\n",
        "x_test_d = x_test[dress_test]\n",
        "y_test_d = y_test[dress_test]\n",
        "\n",
        "x_train_binary = np.concatenate([x_train_s, x_train_d])\n",
        "x_test_binary = np.concatenate([x_test_s, x_test_d])\n",
        "\n",
        "y_train_binary = np.concatenate([y_train_s, np.ones_like(y_train_d)])\n",
        "y_test_binary = np.concatenate([y_test_s, np.ones_like(y_test_d)])"
      ],
      "execution_count": 6,
      "outputs": []
    },
    {
      "cell_type": "markdown",
      "metadata": {
        "id": "NDtVPYLzMAIL"
      },
      "source": [
        "# Neural Network (Custom)"
      ]
    },
    {
      "cell_type": "markdown",
      "metadata": {
        "id": "lW49UROyzfn-"
      },
      "source": [
        "Compute the sigmoid function:\n",
        "$sigmoid( w^T x + b) = \\frac{1}{1 + e^{-(w^T x + b)}}$ "
      ]
    },
    {
      "cell_type": "code",
      "metadata": {
        "id": "rYBih-MhImZZ"
      },
      "source": [
        "def sigmoid(z):\n",
        "    \"\"\"\n",
        "    Compute sigmoid function.\n",
        "    z : the product theta.T * x + b\n",
        "    Returns\n",
        "    -------\n",
        "    g : The sigmoid function.\n",
        "    \"\"\"\n",
        "    # TO DO (Hint, check np.exp)\n",
        "    a = 1./(1+np.exp(-z))\n",
        "    # ======\n",
        "    return a"
      ],
      "execution_count": 8,
      "outputs": []
    },
    {
      "cell_type": "markdown",
      "metadata": {
        "id": "-0wm-R3JFEvH"
      },
      "source": [
        "$a = ReLU(z) = max(z,0)$"
      ]
    },
    {
      "cell_type": "code",
      "metadata": {
        "id": "m3w8lOkkExcO"
      },
      "source": [
        "def relu(z):\n",
        "    \"\"\"\n",
        "    Compute relu function.\n",
        "    z : the product theta.T * x + b\n",
        "    Returns\n",
        "    -------\n",
        "    a : The relu function.\n",
        "    \"\"\"\n",
        "    # TO DO (Hint, check np.maximum)\n",
        "    a = np.maximum(z,0)\n",
        "    # ======\n",
        "    return a"
      ],
      "execution_count": 10,
      "outputs": []
    },
    {
      "cell_type": "code",
      "metadata": {
        "id": "_iElu6cUL-aZ"
      },
      "source": [
        "# check relu function\n",
        "assert relu(-1) == 0\n",
        "assert relu(2) == 2"
      ],
      "execution_count": 11,
      "outputs": []
    },
    {
      "cell_type": "code",
      "metadata": {
        "id": "X0CIw-A92vsz"
      },
      "source": [
        "def init_params(n_in, n_out):\n",
        "\n",
        "    # set random seed to 0\n",
        "    # Hint, check np.random.uniform\n",
        "    np.random.seed(0)\n",
        "    # init random params and multiply it with 0.1\n",
        "    w = np.random.randn(n_in, n_out)*0.01\n",
        "    b = np.random.randn(n_out)*0.01\n",
        "    return w, b"
      ],
      "execution_count": 15,
      "outputs": []
    },
    {
      "cell_type": "code",
      "metadata": {
        "colab": {
          "base_uri": "https://localhost:8080/"
        },
        "id": "RyflAZhrXLu_",
        "outputId": "09616998-4457-43e6-cb62-c72b0116a397"
      },
      "source": [
        "# check init params\n",
        "w, b  = init_params(2,3)\n",
        "print(np.round(w,4) == np.array([[ 0.0176,  0.004 ,  0.0098],[ 0.0224,  0.0187, -0.0098]]))\n",
        "print(np.round(b,4) == np.array([0.0095, -0.0015, -0.001]))"
      ],
      "execution_count": 16,
      "outputs": [
        {
          "output_type": "stream",
          "text": [
            "[[ True  True  True]\n",
            " [ True  True  True]]\n",
            "[ True  True  True]\n"
          ],
          "name": "stdout"
        }
      ]
    },
    {
      "cell_type": "markdown",
      "metadata": {
        "id": "9_M6bkSI46hd"
      },
      "source": [
        "Calculate the cost function: $J = -\\frac{1}{m}\\sum_{i=1}^{m}y^{(i)}\\log(a^{(i)})+(1-y^{(i)})\\log(1-a^{(i)})$"
      ]
    },
    {
      "cell_type": "code",
      "metadata": {
        "id": "kdAJJ67d4gmD"
      },
      "source": [
        "def costFunction(y, m, a):\n",
        "    \"\"\"\n",
        "    Computes cost for linear regression. \n",
        "    X : feature vector, shape (m x n+1)\n",
        "    y : labels (i.e., dog or cat), shape (m, )\n",
        "    w : parameters for the linear regression, shape (n+1, )\n",
        "    m: data legth\n",
        "\n",
        "    returns\n",
        "    -------\n",
        "    J : value of cost function.\n",
        "    \"\"\"\n",
        " \n",
        "    J = -1/m * np.sum(y*np.log(a) + (1-y)*np.log(1-a))\n",
        "\n",
        "  \n",
        "    return J"
      ],
      "execution_count": 18,
      "outputs": []
    },
    {
      "cell_type": "code",
      "metadata": {
        "id": "EcKNlaT8XZuG"
      },
      "source": [
        "#forward pass\n",
        "def forward(X, w, b, activation = 'relu'):\n",
        "    z = np.dot(X,w) + b\n",
        "    if activation=='relu':\n",
        "        a = relu(z)\n",
        "    else:\n",
        "        a = sigmoid(z)\n",
        "    return a"
      ],
      "execution_count": 19,
      "outputs": []
    },
    {
      "cell_type": "code",
      "metadata": {
        "colab": {
          "base_uri": "https://localhost:8080/"
        },
        "id": "AivWfcIMY5ib",
        "outputId": "ea5f91cd-6433-4f35-c26e-face5422399f"
      },
      "source": [
        "w, b  = init_params(2,3)\n",
        "forward(np.asarray([[1,2],[3,4]]), w, b, 'relu')[0].shape"
      ],
      "execution_count": 20,
      "outputs": [
        {
          "output_type": "execute_result",
          "data": {
            "text/plain": [
              "(3,)"
            ]
          },
          "metadata": {
            "tags": []
          },
          "execution_count": 20
        }
      ]
    },
    {
      "cell_type": "markdown",
      "metadata": {
        "id": "6zraP5X4zhYq"
      },
      "source": [
        "\\begin{split}ReLU'(z)= \\begin{Bmatrix}1 & z>0 \\\\ \n",
        "0 & z<0 \\end{Bmatrix}\\end{split}"
      ]
    },
    {
      "cell_type": "code",
      "metadata": {
        "id": "vOOTSR774duI"
      },
      "source": [
        "#relu gradient\n",
        "def reluBackward(z):\n",
        "    #TO DO\n",
        "    z[z<=0] = 0\n",
        "    z[z>0] = 1\n",
        "    return z"
      ],
      "execution_count": 21,
      "outputs": []
    },
    {
      "cell_type": "markdown",
      "metadata": {
        "id": "_CJK4wk_EA4t"
      },
      "source": [
        "Calculate the derivatives: $$ \\frac{\\partial J}{\\partial w} = \\frac{1}{m}X(A-Y)^T$$\n",
        "$$ \\frac{\\partial J}{\\partial b} = \\frac{1}{m} \\sum_{i=1}^m (A^{(i)}-Y^{(i)})$$"
      ]
    },
    {
      "cell_type": "code",
      "metadata": {
        "id": "WbHnEJsZX3Eu"
      },
      "source": [
        "#backpropagation\n",
        "def backward(a, dz):\n",
        "    m = len(a)\n",
        "    # TO DO \n",
        "    # dz is equal to A-Y for the final layer so you could use the above eq replacing\n",
        "    dw = None \n",
        "    db = np.sum(dz, axis=0, keepdims=True) / m\n",
        "    \n",
        "    return dw, db"
      ],
      "execution_count": 26,
      "outputs": []
    },
    {
      "cell_type": "markdown",
      "metadata": {
        "id": "KbgF0t0pRDfX"
      },
      "source": [
        "$$ w_j := w_j - \\alpha dw_j $$\n",
        "$$ b := b - \\alpha db $$"
      ]
    },
    {
      "cell_type": "code",
      "metadata": {
        "id": "L7IbXv7rQgyt"
      },
      "source": [
        "# update parameters for optimization\n",
        "def update(w, b, dw, db):\n",
        "    w = w - learning_rate*dw\n",
        "    b = b - learning_rate*db\n",
        "    return w, b"
      ],
      "execution_count": 27,
      "outputs": []
    },
    {
      "cell_type": "code",
      "metadata": {
        "id": "wPnS1ExVDffM"
      },
      "source": [
        "#forward pass\n",
        "def dummy_neural(X, y, n_layer_1, epochs = 100):\n",
        "    parameters = {} #dict including all parameters W, b for all the layers\n",
        "    gradients = {} #dict including all gradients dW, db for all the layers\n",
        "    costs = []\n",
        "\n",
        "    n_in = X.shape[1] # number of input neurons\n",
        "    n_out = 1 #number of output neurons, i.e., included in the hidden layer\n",
        "\n",
        "    # 1. TO DO\n",
        "    # initialize network with 1 hidden layer (and 1 output of course). \n",
        "    # Layer 1 should have 200 neurons\n",
        "    w1, b1 = None #init_params(n_in, n_layer_1)\n",
        "    w2, b2 = None #init_params(n_layer_1, n_out)\n",
        "\n",
        "    # 2. TO DO\n",
        "    #set parameters in the parameters dict\n",
        "    parameters['w1'] = None\n",
        "    parameters['b1'] = None\n",
        "    parameters['w2'] = None\n",
        "    parameters['b2'] = None\n",
        "\n",
        "    for i in range(epochs):\n",
        "\n",
        "        # 3. TO DO\n",
        "        #forward pass\n",
        "        a1 = None # check out forward function with relu \n",
        "        a2 = None # check out forward function with relu sigmoid\n",
        "        \n",
        "        #cost function\n",
        "        cost = costFunction(y, len(y), a2)\n",
        "        costs.append(cost)\n",
        "\n",
        "        # 4. TO DO\n",
        "        #backward pass\n",
        "        dz2 = None #check out notes\n",
        "        dw2, db2 = None # check out backward function\n",
        "        da1 = None # check out reluBackward function\n",
        "        dz1 = None  #check out notes\n",
        "        dw1, db1 = None # check out backward function\n",
        "\n",
        "        # 5. TO DO\n",
        "        gradients['dw1'] = None\n",
        "        gradients['db1'] = None\n",
        "        gradients['dw2'] = None\n",
        "        gradients['db2'] = None\n",
        "\n",
        "        #update weights\n",
        "        w2, b2 = update(w2, b2, dw2, db2)\n",
        "        w1, b1 = update(w1, b1, dw1, db1)\n",
        "\n",
        "        # store new parameters values\n",
        "        parameters['w1'] = w1\n",
        "        parameters['b1'] = b1\n",
        "        parameters['w2'] = w2\n",
        "        parameters['b2'] = b2\n",
        "        \n",
        "        if i%10==0:\n",
        "            \n",
        "            a1t = forward(x_test_binary, w1, b1, activation = 'relu')\n",
        "            a2t = forward(a1t, w2, b2, activation = 'sigmoid')\n",
        "\n",
        "            print(\"epoch {} with cost {}\".format(i,cost))\n",
        "            print(\"train:\", np.mean(np.round(a2)==y))\n",
        "            print(\"test:\", np.mean(np.round(a2t.reshape(-1))==y_test_binary))\n",
        "\n",
        "    return parameters, a2, costs, gradients"
      ],
      "execution_count": null,
      "outputs": []
    },
    {
      "cell_type": "code",
      "metadata": {
        "colab": {
          "base_uri": "https://localhost:8080/"
        },
        "id": "A1v9e_cjDeaa",
        "outputId": "3ecae738-7139-4228-ab5c-0ba443d951dc"
      },
      "source": [
        "learning_rate = 0.01\n",
        "a = dummy_neural(x_train_binary, y_train_binary.reshape(-1,1), 200, 1000)"
      ],
      "execution_count": null,
      "outputs": [
        {
          "output_type": "stream",
          "text": [
            "epoch 0 with cost 0.6935494989559511\n",
            "train: 0.5009166666666667\n",
            "test: 0.502\n",
            "epoch 10 with cost 0.6918037891857429\n",
            "train: 0.5271666666666667\n",
            "test: 0.538\n",
            "epoch 20 with cost 0.6900852232893623\n",
            "train: 0.7236666666666667\n",
            "test: 0.755\n",
            "epoch 30 with cost 0.6883951888402507\n",
            "train: 0.8506666666666667\n",
            "test: 0.857\n",
            "epoch 40 with cost 0.686713372173661\n",
            "train: 0.8755\n",
            "test: 0.8695\n",
            "epoch 50 with cost 0.6850183043057568\n",
            "train: 0.8813333333333333\n",
            "test: 0.872\n",
            "epoch 60 with cost 0.6833513462912394\n",
            "train: 0.8836666666666667\n",
            "test: 0.8755\n",
            "epoch 70 with cost 0.6817232306826858\n",
            "train: 0.885\n",
            "test: 0.8775\n",
            "epoch 80 with cost 0.6801180129542262\n",
            "train: 0.8845833333333334\n",
            "test: 0.878\n",
            "epoch 90 with cost 0.6785244507486465\n",
            "train: 0.8850833333333333\n",
            "test: 0.8795\n",
            "epoch 100 with cost 0.6769337167927291\n",
            "train: 0.8856666666666667\n",
            "test: 0.877\n",
            "epoch 110 with cost 0.6753378746183176\n",
            "train: 0.8856666666666667\n",
            "test: 0.88\n",
            "epoch 120 with cost 0.6737277741453905\n",
            "train: 0.88375\n",
            "test: 0.882\n",
            "epoch 130 with cost 0.6720953937627643\n",
            "train: 0.8819166666666667\n",
            "test: 0.8795\n",
            "epoch 140 with cost 0.6704310616107914\n",
            "train: 0.8806666666666667\n",
            "test: 0.878\n",
            "epoch 150 with cost 0.668734874880345\n",
            "train: 0.8784166666666666\n",
            "test: 0.8775\n",
            "epoch 160 with cost 0.6670161048181308\n",
            "train: 0.8765\n",
            "test: 0.876\n",
            "epoch 170 with cost 0.6652831561642921\n",
            "train: 0.8745\n",
            "test: 0.873\n",
            "epoch 180 with cost 0.6635367457199026\n",
            "train: 0.8721666666666666\n",
            "test: 0.8735\n",
            "epoch 190 with cost 0.6617727970952005\n",
            "train: 0.871\n",
            "test: 0.8705\n",
            "epoch 200 with cost 0.6599910462884405\n",
            "train: 0.8706666666666667\n",
            "test: 0.87\n",
            "epoch 210 with cost 0.6581910576060066\n",
            "train: 0.869\n",
            "test: 0.87\n",
            "epoch 220 with cost 0.6563738984774907\n",
            "train: 0.8676666666666667\n",
            "test: 0.8685\n",
            "epoch 230 with cost 0.6545390053602127\n",
            "train: 0.8665\n",
            "test: 0.8655\n",
            "epoch 240 with cost 0.6526824960958013\n",
            "train: 0.8656666666666667\n",
            "test: 0.864\n",
            "epoch 250 with cost 0.650801781336703\n",
            "train: 0.8650833333333333\n",
            "test: 0.8625\n",
            "epoch 260 with cost 0.6488978683554636\n",
            "train: 0.8643333333333333\n",
            "test: 0.8605\n",
            "epoch 270 with cost 0.6469899594670512\n",
            "train: 0.8641666666666666\n",
            "test: 0.86\n",
            "epoch 280 with cost 0.6450914995304544\n",
            "train: 0.8634166666666667\n",
            "test: 0.8595\n",
            "epoch 290 with cost 0.6431984055685138\n",
            "train: 0.8629166666666667\n",
            "test: 0.8585\n",
            "epoch 300 with cost 0.6413047012324369\n",
            "train: 0.86225\n",
            "test: 0.8565\n",
            "epoch 310 with cost 0.6394087641195824\n",
            "train: 0.862\n",
            "test: 0.857\n",
            "epoch 320 with cost 0.6375107259631309\n",
            "train: 0.86225\n",
            "test: 0.857\n",
            "epoch 330 with cost 0.6356106454840083\n",
            "train: 0.8623333333333333\n",
            "test: 0.857\n",
            "epoch 340 with cost 0.63370942485987\n",
            "train: 0.8621666666666666\n",
            "test: 0.8565\n",
            "epoch 350 with cost 0.6318073319000167\n",
            "train: 0.8623333333333333\n",
            "test: 0.858\n",
            "epoch 360 with cost 0.6299049576625071\n",
            "train: 0.8626666666666667\n",
            "test: 0.8585\n",
            "epoch 370 with cost 0.6280025169516685\n",
            "train: 0.8629166666666667\n",
            "test: 0.8585\n",
            "epoch 380 with cost 0.6261002126911195\n",
            "train: 0.8629166666666667\n",
            "test: 0.8585\n",
            "epoch 390 with cost 0.6241981029187744\n",
            "train: 0.8630833333333333\n",
            "test: 0.859\n",
            "epoch 400 with cost 0.622296032963867\n",
            "train: 0.8634166666666667\n",
            "test: 0.858\n",
            "epoch 410 with cost 0.6203934077829292\n",
            "train: 0.8635\n",
            "test: 0.858\n",
            "epoch 420 with cost 0.618489701394336\n",
            "train: 0.8639166666666667\n",
            "test: 0.857\n",
            "epoch 430 with cost 0.6165847531469174\n",
            "train: 0.8650833333333333\n",
            "test: 0.857\n",
            "epoch 440 with cost 0.6146780914007584\n",
            "train: 0.86525\n",
            "test: 0.858\n",
            "epoch 450 with cost 0.6127701706049996\n",
            "train: 0.8650833333333333\n",
            "test: 0.8575\n",
            "epoch 460 with cost 0.6108628467655842\n",
            "train: 0.8655\n",
            "test: 0.8585\n",
            "epoch 470 with cost 0.6089575080409639\n",
            "train: 0.86625\n",
            "test: 0.859\n",
            "epoch 480 with cost 0.6070567877450362\n",
            "train: 0.8669166666666667\n",
            "test: 0.8595\n",
            "epoch 490 with cost 0.6051619582994399\n",
            "train: 0.86675\n",
            "test: 0.8595\n",
            "epoch 500 with cost 0.6032725274889411\n",
            "train: 0.8673333333333333\n",
            "test: 0.86\n",
            "epoch 510 with cost 0.6013873580988374\n",
            "train: 0.8675833333333334\n",
            "test: 0.8605\n",
            "epoch 520 with cost 0.5995056251327647\n",
            "train: 0.8681666666666666\n",
            "test: 0.8615\n",
            "epoch 530 with cost 0.5976270070204871\n",
            "train: 0.8684166666666666\n",
            "test: 0.8615\n",
            "epoch 540 with cost 0.5957510949884319\n",
            "train: 0.8685\n",
            "test: 0.861\n",
            "epoch 550 with cost 0.5938779854513256\n",
            "train: 0.8688333333333333\n",
            "test: 0.86\n",
            "epoch 560 with cost 0.5920077035496103\n",
            "train: 0.8691666666666666\n",
            "test: 0.861\n",
            "epoch 570 with cost 0.5901401647956181\n",
            "train: 0.8700833333333333\n",
            "test: 0.862\n",
            "epoch 580 with cost 0.5882751605616132\n",
            "train: 0.8704166666666666\n",
            "test: 0.863\n",
            "epoch 590 with cost 0.5864123355006803\n",
            "train: 0.8704166666666666\n",
            "test: 0.8635\n",
            "epoch 600 with cost 0.5845515996900859\n",
            "train: 0.8711666666666666\n",
            "test: 0.864\n",
            "epoch 610 with cost 0.5826929881877935\n",
            "train: 0.8718333333333333\n",
            "test: 0.864\n",
            "epoch 620 with cost 0.5808367899919054\n",
            "train: 0.8726666666666667\n",
            "test: 0.8645\n",
            "epoch 630 with cost 0.5789831295506219\n",
            "train: 0.8734166666666666\n",
            "test: 0.865\n",
            "epoch 640 with cost 0.5771319212506338\n",
            "train: 0.87375\n",
            "test: 0.8655\n",
            "epoch 650 with cost 0.5752832595929778\n",
            "train: 0.8741666666666666\n",
            "test: 0.8655\n",
            "epoch 660 with cost 0.5734370779701704\n",
            "train: 0.87425\n",
            "test: 0.867\n",
            "epoch 670 with cost 0.571593451735841\n",
            "train: 0.8743333333333333\n",
            "test: 0.868\n",
            "epoch 680 with cost 0.5697530279045269\n",
            "train: 0.8745833333333334\n",
            "test: 0.8695\n",
            "epoch 690 with cost 0.5679161467940617\n",
            "train: 0.87475\n",
            "test: 0.8695\n",
            "epoch 700 with cost 0.5660833970848743\n",
            "train: 0.8751666666666666\n",
            "test: 0.87\n",
            "epoch 710 with cost 0.5642540450773176\n",
            "train: 0.8756666666666667\n",
            "test: 0.8715\n",
            "epoch 720 with cost 0.562428177771383\n",
            "train: 0.8763333333333333\n",
            "test: 0.8715\n",
            "epoch 730 with cost 0.5606057408674542\n",
            "train: 0.8763333333333333\n",
            "test: 0.8715\n",
            "epoch 740 with cost 0.5587865405904894\n",
            "train: 0.8765833333333334\n",
            "test: 0.871\n",
            "epoch 750 with cost 0.5569705886695873\n",
            "train: 0.87675\n",
            "test: 0.871\n",
            "epoch 760 with cost 0.5551580875423381\n",
            "train: 0.8769166666666667\n",
            "test: 0.871\n",
            "epoch 770 with cost 0.5533489972905545\n",
            "train: 0.8775\n",
            "test: 0.871\n",
            "epoch 780 with cost 0.551543686268153\n",
            "train: 0.8776666666666667\n",
            "test: 0.8705\n",
            "epoch 790 with cost 0.5497421803073237\n",
            "train: 0.8775833333333334\n",
            "test: 0.8705\n",
            "epoch 800 with cost 0.5479449252794318\n",
            "train: 0.8784166666666666\n",
            "test: 0.8715\n",
            "epoch 810 with cost 0.5461522963096478\n",
            "train: 0.8785\n",
            "test: 0.872\n",
            "epoch 820 with cost 0.5443643582190584\n",
            "train: 0.8789166666666667\n",
            "test: 0.8725\n",
            "epoch 830 with cost 0.5425808891476828\n",
            "train: 0.8789166666666667\n",
            "test: 0.873\n",
            "epoch 840 with cost 0.5408020282418117\n",
            "train: 0.8788333333333334\n",
            "test: 0.8735\n",
            "epoch 850 with cost 0.5390276310845442\n",
            "train: 0.8791666666666667\n",
            "test: 0.8735\n",
            "epoch 860 with cost 0.5372579830434956\n",
            "train: 0.8796666666666667\n",
            "test: 0.873\n",
            "epoch 870 with cost 0.5354929237322951\n",
            "train: 0.8795833333333334\n",
            "test: 0.8725\n",
            "epoch 880 with cost 0.5337325900097951\n",
            "train: 0.8794166666666666\n",
            "test: 0.873\n",
            "epoch 890 with cost 0.5319766678051423\n",
            "train: 0.8798333333333334\n",
            "test: 0.8725\n",
            "epoch 900 with cost 0.5302246283329004\n",
            "train: 0.8803333333333333\n",
            "test: 0.872\n",
            "epoch 910 with cost 0.5284759872210667\n",
            "train: 0.88\n",
            "test: 0.871\n",
            "epoch 920 with cost 0.5267304664122677\n",
            "train: 0.8799166666666667\n",
            "test: 0.871\n",
            "epoch 930 with cost 0.5249878476501291\n",
            "train: 0.88\n",
            "test: 0.8705\n",
            "epoch 940 with cost 0.5232477551568961\n",
            "train: 0.88025\n",
            "test: 0.871\n",
            "epoch 950 with cost 0.5215098945211688\n",
            "train: 0.8805\n",
            "test: 0.8715\n",
            "epoch 960 with cost 0.519774733970978\n",
            "train: 0.8810833333333333\n",
            "test: 0.8715\n",
            "epoch 970 with cost 0.5180426389883617\n",
            "train: 0.88125\n",
            "test: 0.8715\n",
            "epoch 980 with cost 0.5163142735539785\n",
            "train: 0.88125\n",
            "test: 0.8715\n",
            "epoch 990 with cost 0.5145899968593909\n",
            "train: 0.881\n",
            "test: 0.872\n"
          ],
          "name": "stdout"
        }
      ]
    },
    {
      "cell_type": "code",
      "metadata": {
        "id": "V3mztup8zhYw",
        "colab": {
          "base_uri": "https://localhost:8080/"
        },
        "outputId": "ba00ee63-d1bf-4eda-f37f-28fbccc84cb9"
      },
      "source": [
        "# check the test accuracy\n",
        "a1t = forward(x_test_binary, a[0]['w1'], a[0]['b1'], activation = 'relu')\n",
        "a2t = forward(a1t, a[0]['w2'], a[0]['b2'], activation = 'sigmoid')\n",
        "print(np.mean(np.round(a2t.reshape(-1))==y_test_binary))\n",
        "assert np.mean(np.round(a2t.reshape(-1))==y_test_binary) == 0.872"
      ],
      "execution_count": null,
      "outputs": [
        {
          "output_type": "stream",
          "text": [
            "0.872\n"
          ],
          "name": "stdout"
        }
      ]
    },
    {
      "cell_type": "markdown",
      "metadata": {
        "id": "16PSfYXDoqui"
      },
      "source": [
        "# Neural Network Binary (Keras)"
      ]
    },
    {
      "cell_type": "code",
      "metadata": {
        "id": "qRAQd0oGotCA"
      },
      "source": [
        "import tensorflow as tf\n",
        "from tensorflow import keras\n",
        "from tensorflow.keras.models import Sequential\n",
        "from tensorflow.keras.layers import Dense\n",
        "import matplotlib.pyplot as plt\n",
        "%matplotlib inline"
      ],
      "execution_count": 28,
      "outputs": []
    },
    {
      "cell_type": "code",
      "metadata": {
        "id": "10ghY0rEo6CF"
      },
      "source": [
        "# set model architecture\n",
        "model = Sequential()\n",
        "model.add(Dense(200, activation=\"relu\"))\n",
        "model.add(Dense(1, activation=\"sigmoid\"))"
      ],
      "execution_count": 30,
      "outputs": []
    },
    {
      "cell_type": "code",
      "metadata": {
        "id": "xTbTkk3Fpu1X",
        "colab": {
          "base_uri": "https://localhost:8080/"
        },
        "outputId": "bc8304f8-6ce4-4b7a-b530-67cee7c267b1"
      },
      "source": [
        "batch_size = 128\n",
        "epochs = 50\n",
        "\n",
        "# init model\n",
        "model.compile(loss=\"binary_crossentropy\", optimizer=\"sgd\", metrics=[\"accuracy\"])\n",
        "\n",
        "# train model\n",
        "history = model.fit(x_train_binary, y_train_binary, batch_size=batch_size, epochs=epochs, \n",
        "          validation_data=(x_test_binary, y_test_binary))"
      ],
      "execution_count": 31,
      "outputs": [
        {
          "output_type": "stream",
          "text": [
            "Epoch 1/50\n",
            "94/94 [==============================] - 4s 9ms/step - loss: 0.5077 - accuracy: 0.7994 - val_loss: 0.3016 - val_accuracy: 0.8985\n",
            "Epoch 2/50\n",
            "94/94 [==============================] - 0s 4ms/step - loss: 0.2749 - accuracy: 0.9050 - val_loss: 0.2571 - val_accuracy: 0.9040\n",
            "Epoch 3/50\n",
            "94/94 [==============================] - 0s 4ms/step - loss: 0.2338 - accuracy: 0.9095 - val_loss: 0.2356 - val_accuracy: 0.9120\n",
            "Epoch 4/50\n",
            "94/94 [==============================] - 0s 4ms/step - loss: 0.2174 - accuracy: 0.9145 - val_loss: 0.2228 - val_accuracy: 0.9180\n",
            "Epoch 5/50\n",
            "94/94 [==============================] - 0s 4ms/step - loss: 0.2070 - accuracy: 0.9139 - val_loss: 0.2153 - val_accuracy: 0.9200\n",
            "Epoch 6/50\n",
            "94/94 [==============================] - 0s 4ms/step - loss: 0.2020 - accuracy: 0.9217 - val_loss: 0.2081 - val_accuracy: 0.9260\n",
            "Epoch 7/50\n",
            "94/94 [==============================] - 0s 4ms/step - loss: 0.1858 - accuracy: 0.9280 - val_loss: 0.2038 - val_accuracy: 0.9275\n",
            "Epoch 8/50\n",
            "94/94 [==============================] - 0s 4ms/step - loss: 0.1910 - accuracy: 0.9223 - val_loss: 0.1999 - val_accuracy: 0.9275\n",
            "Epoch 9/50\n",
            "94/94 [==============================] - 0s 4ms/step - loss: 0.1846 - accuracy: 0.9276 - val_loss: 0.1963 - val_accuracy: 0.9275\n",
            "Epoch 10/50\n",
            "94/94 [==============================] - 0s 4ms/step - loss: 0.1822 - accuracy: 0.9283 - val_loss: 0.1958 - val_accuracy: 0.9290\n",
            "Epoch 11/50\n",
            "94/94 [==============================] - 0s 4ms/step - loss: 0.1813 - accuracy: 0.9334 - val_loss: 0.1916 - val_accuracy: 0.9295\n",
            "Epoch 12/50\n",
            "94/94 [==============================] - 0s 4ms/step - loss: 0.1684 - accuracy: 0.9349 - val_loss: 0.1892 - val_accuracy: 0.9285\n",
            "Epoch 13/50\n",
            "94/94 [==============================] - 0s 4ms/step - loss: 0.1741 - accuracy: 0.9346 - val_loss: 0.1874 - val_accuracy: 0.9285\n",
            "Epoch 14/50\n",
            "94/94 [==============================] - 0s 4ms/step - loss: 0.1728 - accuracy: 0.9359 - val_loss: 0.1865 - val_accuracy: 0.9315\n",
            "Epoch 15/50\n",
            "94/94 [==============================] - 0s 4ms/step - loss: 0.1650 - accuracy: 0.9385 - val_loss: 0.1843 - val_accuracy: 0.9295\n",
            "Epoch 16/50\n",
            "94/94 [==============================] - 0s 4ms/step - loss: 0.1677 - accuracy: 0.9364 - val_loss: 0.1829 - val_accuracy: 0.9320\n",
            "Epoch 17/50\n",
            "94/94 [==============================] - 0s 4ms/step - loss: 0.1639 - accuracy: 0.9404 - val_loss: 0.1818 - val_accuracy: 0.9315\n",
            "Epoch 18/50\n",
            "94/94 [==============================] - 0s 4ms/step - loss: 0.1709 - accuracy: 0.9358 - val_loss: 0.1806 - val_accuracy: 0.9325\n",
            "Epoch 19/50\n",
            "94/94 [==============================] - 0s 4ms/step - loss: 0.1634 - accuracy: 0.9389 - val_loss: 0.1807 - val_accuracy: 0.9320\n",
            "Epoch 20/50\n",
            "94/94 [==============================] - 0s 4ms/step - loss: 0.1701 - accuracy: 0.9369 - val_loss: 0.1787 - val_accuracy: 0.9355\n",
            "Epoch 21/50\n",
            "94/94 [==============================] - 0s 4ms/step - loss: 0.1652 - accuracy: 0.9380 - val_loss: 0.1792 - val_accuracy: 0.9350\n",
            "Epoch 22/50\n",
            "94/94 [==============================] - 0s 4ms/step - loss: 0.1647 - accuracy: 0.9374 - val_loss: 0.1770 - val_accuracy: 0.9340\n",
            "Epoch 23/50\n",
            "94/94 [==============================] - 0s 4ms/step - loss: 0.1603 - accuracy: 0.9396 - val_loss: 0.1760 - val_accuracy: 0.9360\n",
            "Epoch 24/50\n",
            "94/94 [==============================] - 0s 4ms/step - loss: 0.1583 - accuracy: 0.9412 - val_loss: 0.1756 - val_accuracy: 0.9360\n",
            "Epoch 25/50\n",
            "94/94 [==============================] - 0s 4ms/step - loss: 0.1607 - accuracy: 0.9410 - val_loss: 0.1745 - val_accuracy: 0.9350\n",
            "Epoch 26/50\n",
            "94/94 [==============================] - 0s 4ms/step - loss: 0.1551 - accuracy: 0.9419 - val_loss: 0.1753 - val_accuracy: 0.9370\n",
            "Epoch 27/50\n",
            "94/94 [==============================] - 0s 4ms/step - loss: 0.1632 - accuracy: 0.9366 - val_loss: 0.1734 - val_accuracy: 0.9360\n",
            "Epoch 28/50\n",
            "94/94 [==============================] - 0s 4ms/step - loss: 0.1549 - accuracy: 0.9391 - val_loss: 0.1746 - val_accuracy: 0.9345\n",
            "Epoch 29/50\n",
            "94/94 [==============================] - 0s 4ms/step - loss: 0.1540 - accuracy: 0.9418 - val_loss: 0.1721 - val_accuracy: 0.9350\n",
            "Epoch 30/50\n",
            "94/94 [==============================] - 0s 4ms/step - loss: 0.1523 - accuracy: 0.9428 - val_loss: 0.1734 - val_accuracy: 0.9345\n",
            "Epoch 31/50\n",
            "94/94 [==============================] - 0s 4ms/step - loss: 0.1561 - accuracy: 0.9419 - val_loss: 0.1712 - val_accuracy: 0.9365\n",
            "Epoch 32/50\n",
            "94/94 [==============================] - 0s 4ms/step - loss: 0.1511 - accuracy: 0.9433 - val_loss: 0.1700 - val_accuracy: 0.9360\n",
            "Epoch 33/50\n",
            "94/94 [==============================] - 0s 4ms/step - loss: 0.1474 - accuracy: 0.9437 - val_loss: 0.1705 - val_accuracy: 0.9345\n",
            "Epoch 34/50\n",
            "94/94 [==============================] - 0s 4ms/step - loss: 0.1588 - accuracy: 0.9398 - val_loss: 0.1689 - val_accuracy: 0.9370\n",
            "Epoch 35/50\n",
            "94/94 [==============================] - 0s 4ms/step - loss: 0.1498 - accuracy: 0.9432 - val_loss: 0.1683 - val_accuracy: 0.9355\n",
            "Epoch 36/50\n",
            "94/94 [==============================] - 0s 4ms/step - loss: 0.1530 - accuracy: 0.9422 - val_loss: 0.1678 - val_accuracy: 0.9355\n",
            "Epoch 37/50\n",
            "94/94 [==============================] - 0s 4ms/step - loss: 0.1515 - accuracy: 0.9425 - val_loss: 0.1679 - val_accuracy: 0.9375\n",
            "Epoch 38/50\n",
            "94/94 [==============================] - 0s 4ms/step - loss: 0.1525 - accuracy: 0.9447 - val_loss: 0.1676 - val_accuracy: 0.9345\n",
            "Epoch 39/50\n",
            "94/94 [==============================] - 0s 4ms/step - loss: 0.1479 - accuracy: 0.9443 - val_loss: 0.1666 - val_accuracy: 0.9355\n",
            "Epoch 40/50\n",
            "94/94 [==============================] - 0s 4ms/step - loss: 0.1559 - accuracy: 0.9398 - val_loss: 0.1666 - val_accuracy: 0.9375\n",
            "Epoch 41/50\n",
            "94/94 [==============================] - 0s 4ms/step - loss: 0.1471 - accuracy: 0.9437 - val_loss: 0.1657 - val_accuracy: 0.9385\n",
            "Epoch 42/50\n",
            "94/94 [==============================] - 0s 4ms/step - loss: 0.1399 - accuracy: 0.9481 - val_loss: 0.1660 - val_accuracy: 0.9385\n",
            "Epoch 43/50\n",
            "94/94 [==============================] - 0s 4ms/step - loss: 0.1476 - accuracy: 0.9431 - val_loss: 0.1672 - val_accuracy: 0.9370\n",
            "Epoch 44/50\n",
            "94/94 [==============================] - 0s 4ms/step - loss: 0.1407 - accuracy: 0.9462 - val_loss: 0.1643 - val_accuracy: 0.9370\n",
            "Epoch 45/50\n",
            "94/94 [==============================] - 0s 4ms/step - loss: 0.1448 - accuracy: 0.9436 - val_loss: 0.1643 - val_accuracy: 0.9380\n",
            "Epoch 46/50\n",
            "94/94 [==============================] - 0s 4ms/step - loss: 0.1340 - accuracy: 0.9500 - val_loss: 0.1634 - val_accuracy: 0.9380\n",
            "Epoch 47/50\n",
            "94/94 [==============================] - 0s 4ms/step - loss: 0.1382 - accuracy: 0.9467 - val_loss: 0.1634 - val_accuracy: 0.9370\n",
            "Epoch 48/50\n",
            "94/94 [==============================] - 0s 4ms/step - loss: 0.1399 - accuracy: 0.9475 - val_loss: 0.1626 - val_accuracy: 0.9380\n",
            "Epoch 49/50\n",
            "94/94 [==============================] - 0s 4ms/step - loss: 0.1460 - accuracy: 0.9444 - val_loss: 0.1623 - val_accuracy: 0.9375\n",
            "Epoch 50/50\n",
            "94/94 [==============================] - 0s 4ms/step - loss: 0.1361 - accuracy: 0.9488 - val_loss: 0.1622 - val_accuracy: 0.9380\n"
          ],
          "name": "stdout"
        }
      ]
    },
    {
      "cell_type": "code",
      "metadata": {
        "id": "oo-bqYRxwZ3w",
        "colab": {
          "base_uri": "https://localhost:8080/",
          "height": 295
        },
        "outputId": "f1e69c6f-fe1b-4ec2-a97c-f52826106458"
      },
      "source": [
        "# summarize history for accuracy\n",
        "plt.plot(history.history['accuracy'])\n",
        "plt.plot(history.history['val_accuracy'])\n",
        "plt.title('model accuracy')\n",
        "plt.ylabel('accuracy')\n",
        "plt.xlabel('epoch')\n",
        "plt.legend(['train', 'test'], loc='upper left')\n",
        "plt.show()"
      ],
      "execution_count": 32,
      "outputs": [
        {
          "output_type": "display_data",
          "data": {
            "image/png": "[encoded data removed]",
            "text/plain": [
              "<Figure size 432x288 with 1 Axes>"
            ]
          },
          "metadata": {
            "tags": [],
            "needs_background": "light"
          }
        }
      ]
    },
    {
      "cell_type": "code",
      "metadata": {
        "id": "TjjliQbgwbby",
        "colab": {
          "base_uri": "https://localhost:8080/",
          "height": 295
        },
        "outputId": "4b25c7ae-46b1-4cf1-f4a8-00626b4e3031"
      },
      "source": [
        "# summarize history for loss\n",
        "plt.plot(history.history['loss'])\n",
        "plt.plot(history.history['val_loss'])\n",
        "plt.title('model loss')\n",
        "plt.ylabel('loss')\n",
        "plt.xlabel('epoch')\n",
        "plt.legend(['train', 'test'], loc='upper left')\n",
        "plt.show()"
      ],
      "execution_count": 33,
      "outputs": [
        {
          "output_type": "display_data",
          "data": {
            "image/png": "[encoded data removed]",
            "text/plain": [
              "<Figure size 432x288 with 1 Axes>"
            ]
          },
          "metadata": {
            "tags": [],
            "needs_background": "light"
          }
        }
      ]
    },
    {
      "cell_type": "markdown",
      "metadata": {
        "id": "9lBU4uykrOqH"
      },
      "source": [
        "# Neural Network Multi-class (Keras) + enable GPU!\n",
        "\n",
        "Enable GPU: Runtime->Change runtime type->Select GPU\n",
        "\n",
        "TO DO! \n",
        "Train a dense neural network using all the classes with 3 hidden layes (size $l_1$:500, $l_2$:200 and $l_3$:200) for 200 epochs and batch size 128.\n",
        "Hints: \n",
        "1. Change the final activation function\n",
        "2. Change the loss function\n",
        "3. Convert $y$ to one-hot matrix\n",
        "\n",
        "QUESTION: What do you notice by seeing the validation loss/accuracy and the train loss/accuracy? If not just plot the results (loss, accuracy)"
      ]
    },
    {
      "cell_type": "code",
      "metadata": {
        "id": "4pCFFOGmp2Ru",
        "colab": {
          "base_uri": "https://localhost:8080/"
        },
        "outputId": "8d80e37d-4776-4957-efe2-bcb209ac99e3"
      },
      "source": [
        "model = Sequential()\n",
        "model.add(None)\n",
        "model.add(None)\n",
        "model.add(None)\n",
        "model.add(None)\n",
        "\n",
        "batch_size = None\n",
        "epochs = None\n",
        "\n",
        "Y_train = None\n",
        "Y_test = None\n",
        "\n",
        "\n",
        "model.compile(loss=None, optimizer=\"sgd\", metrics=[\"accuracy\"])\n",
        "history = model.fit(None, None, batch_size=None, epochs=None, \n",
        "          validation_data=(None, None), verbose = 2)"
      ],
      "execution_count": null,
      "outputs": [
        {
          "output_type": "stream",
          "text": [
            "Epoch 1/200\n",
            "469/469 - 2s - loss: 1.0443 - accuracy: 0.6830 - val_loss: 0.7009 - val_accuracy: 0.7622\n",
            "Epoch 2/200\n",
            "469/469 - 1s - loss: 0.6076 - accuracy: 0.7947 - val_loss: 0.5735 - val_accuracy: 0.8047\n",
            "Epoch 3/200\n",
            "469/469 - 1s - loss: 0.5270 - accuracy: 0.8184 - val_loss: 0.5191 - val_accuracy: 0.8172\n",
            "Epoch 4/200\n",
            "469/469 - 1s - loss: 0.4874 - accuracy: 0.8319 - val_loss: 0.4968 - val_accuracy: 0.8252\n",
            "Epoch 5/200\n",
            "469/469 - 1s - loss: 0.4630 - accuracy: 0.8388 - val_loss: 0.5286 - val_accuracy: 0.8090\n",
            "Epoch 6/200\n",
            "469/469 - 1s - loss: 0.4452 - accuracy: 0.8444 - val_loss: 0.4975 - val_accuracy: 0.8208\n",
            "Epoch 7/200\n",
            "469/469 - 1s - loss: 0.4322 - accuracy: 0.8480 - val_loss: 0.4854 - val_accuracy: 0.8252\n",
            "Epoch 8/200\n",
            "469/469 - 1s - loss: 0.4182 - accuracy: 0.8542 - val_loss: 0.4372 - val_accuracy: 0.8450\n",
            "Epoch 9/200\n",
            "469/469 - 1s - loss: 0.4084 - accuracy: 0.8569 - val_loss: 0.4393 - val_accuracy: 0.8431\n",
            "Epoch 10/200\n",
            "469/469 - 1s - loss: 0.4000 - accuracy: 0.8599 - val_loss: 0.4541 - val_accuracy: 0.8384\n",
            "Epoch 11/200\n",
            "469/469 - 1s - loss: 0.3901 - accuracy: 0.8629 - val_loss: 0.4167 - val_accuracy: 0.8525\n",
            "Epoch 12/200\n",
            "469/469 - 1s - loss: 0.3848 - accuracy: 0.8642 - val_loss: 0.4186 - val_accuracy: 0.8522\n",
            "Epoch 13/200\n",
            "469/469 - 1s - loss: 0.3758 - accuracy: 0.8682 - val_loss: 0.4234 - val_accuracy: 0.8497\n",
            "Epoch 14/200\n",
            "469/469 - 1s - loss: 0.3699 - accuracy: 0.8703 - val_loss: 0.4188 - val_accuracy: 0.8499\n",
            "Epoch 15/200\n",
            "469/469 - 1s - loss: 0.3650 - accuracy: 0.8725 - val_loss: 0.4338 - val_accuracy: 0.8476\n",
            "Epoch 16/200\n",
            "469/469 - 1s - loss: 0.3584 - accuracy: 0.8737 - val_loss: 0.3992 - val_accuracy: 0.8588\n",
            "Epoch 17/200\n",
            "469/469 - 1s - loss: 0.3544 - accuracy: 0.8762 - val_loss: 0.3914 - val_accuracy: 0.8610\n",
            "Epoch 18/200\n",
            "469/469 - 1s - loss: 0.3485 - accuracy: 0.8769 - val_loss: 0.3881 - val_accuracy: 0.8608\n",
            "Epoch 19/200\n",
            "469/469 - 1s - loss: 0.3442 - accuracy: 0.8790 - val_loss: 0.3821 - val_accuracy: 0.8658\n",
            "Epoch 20/200\n",
            "469/469 - 1s - loss: 0.3389 - accuracy: 0.8802 - val_loss: 0.3926 - val_accuracy: 0.8588\n",
            "Epoch 21/200\n",
            "469/469 - 1s - loss: 0.3357 - accuracy: 0.8813 - val_loss: 0.3734 - val_accuracy: 0.8657\n",
            "Epoch 22/200\n",
            "469/469 - 1s - loss: 0.3305 - accuracy: 0.8830 - val_loss: 0.4382 - val_accuracy: 0.8409\n",
            "Epoch 23/200\n",
            "469/469 - 1s - loss: 0.3274 - accuracy: 0.8833 - val_loss: 0.4254 - val_accuracy: 0.8463\n",
            "Epoch 24/200\n",
            "469/469 - 1s - loss: 0.3225 - accuracy: 0.8856 - val_loss: 0.3690 - val_accuracy: 0.8689\n",
            "Epoch 25/200\n",
            "469/469 - 1s - loss: 0.3205 - accuracy: 0.8862 - val_loss: 0.3760 - val_accuracy: 0.8658\n",
            "Epoch 26/200\n",
            "469/469 - 1s - loss: 0.3159 - accuracy: 0.8873 - val_loss: 0.3658 - val_accuracy: 0.8690\n",
            "Epoch 27/200\n",
            "469/469 - 1s - loss: 0.3115 - accuracy: 0.8897 - val_loss: 0.4232 - val_accuracy: 0.8550\n",
            "Epoch 28/200\n",
            "469/469 - 1s - loss: 0.3076 - accuracy: 0.8901 - val_loss: 0.3702 - val_accuracy: 0.8677\n",
            "Epoch 29/200\n",
            "469/469 - 1s - loss: 0.3052 - accuracy: 0.8925 - val_loss: 0.3681 - val_accuracy: 0.8672\n",
            "Epoch 30/200\n",
            "469/469 - 1s - loss: 0.3025 - accuracy: 0.8917 - val_loss: 0.3602 - val_accuracy: 0.8709\n",
            "Epoch 31/200\n",
            "469/469 - 1s - loss: 0.2992 - accuracy: 0.8927 - val_loss: 0.3776 - val_accuracy: 0.8648\n",
            "Epoch 32/200\n",
            "469/469 - 1s - loss: 0.2955 - accuracy: 0.8944 - val_loss: 0.3554 - val_accuracy: 0.8742\n",
            "Epoch 33/200\n",
            "469/469 - 1s - loss: 0.2926 - accuracy: 0.8961 - val_loss: 0.3596 - val_accuracy: 0.8723\n",
            "Epoch 34/200\n",
            "469/469 - 1s - loss: 0.2888 - accuracy: 0.8957 - val_loss: 0.3495 - val_accuracy: 0.8749\n",
            "Epoch 35/200\n",
            "469/469 - 1s - loss: 0.2867 - accuracy: 0.8967 - val_loss: 0.3612 - val_accuracy: 0.8715\n",
            "Epoch 36/200\n",
            "469/469 - 1s - loss: 0.2840 - accuracy: 0.8982 - val_loss: 0.3444 - val_accuracy: 0.8770\n",
            "Epoch 37/200\n",
            "469/469 - 1s - loss: 0.2809 - accuracy: 0.8991 - val_loss: 0.3553 - val_accuracy: 0.8734\n",
            "Epoch 38/200\n",
            "469/469 - 1s - loss: 0.2780 - accuracy: 0.8999 - val_loss: 0.3449 - val_accuracy: 0.8775\n",
            "Epoch 39/200\n",
            "469/469 - 1s - loss: 0.2749 - accuracy: 0.9021 - val_loss: 0.3495 - val_accuracy: 0.8746\n",
            "Epoch 40/200\n",
            "469/469 - 1s - loss: 0.2725 - accuracy: 0.9016 - val_loss: 0.3551 - val_accuracy: 0.8725\n",
            "Epoch 41/200\n",
            "469/469 - 1s - loss: 0.2688 - accuracy: 0.9037 - val_loss: 0.3486 - val_accuracy: 0.8780\n",
            "Epoch 42/200\n",
            "469/469 - 1s - loss: 0.2676 - accuracy: 0.9035 - val_loss: 0.3730 - val_accuracy: 0.8648\n",
            "Epoch 43/200\n",
            "469/469 - 1s - loss: 0.2655 - accuracy: 0.9046 - val_loss: 0.3429 - val_accuracy: 0.8789\n",
            "Epoch 44/200\n",
            "469/469 - 1s - loss: 0.2620 - accuracy: 0.9061 - val_loss: 0.3396 - val_accuracy: 0.8783\n",
            "Epoch 45/200\n",
            "469/469 - 1s - loss: 0.2595 - accuracy: 0.9068 - val_loss: 0.3631 - val_accuracy: 0.8673\n",
            "Epoch 46/200\n",
            "469/469 - 1s - loss: 0.2562 - accuracy: 0.9079 - val_loss: 0.3524 - val_accuracy: 0.8748\n",
            "Epoch 47/200\n",
            "469/469 - 1s - loss: 0.2550 - accuracy: 0.9082 - val_loss: 0.3622 - val_accuracy: 0.8726\n",
            "Epoch 48/200\n",
            "469/469 - 1s - loss: 0.2520 - accuracy: 0.9103 - val_loss: 0.3367 - val_accuracy: 0.8807\n",
            "Epoch 49/200\n",
            "469/469 - 1s - loss: 0.2488 - accuracy: 0.9111 - val_loss: 0.3338 - val_accuracy: 0.8818\n",
            "Epoch 50/200\n",
            "469/469 - 1s - loss: 0.2466 - accuracy: 0.9110 - val_loss: 0.3462 - val_accuracy: 0.8776\n",
            "Epoch 51/200\n",
            "469/469 - 1s - loss: 0.2458 - accuracy: 0.9114 - val_loss: 0.3437 - val_accuracy: 0.8780\n",
            "Epoch 52/200\n",
            "469/469 - 1s - loss: 0.2428 - accuracy: 0.9126 - val_loss: 0.3325 - val_accuracy: 0.8834\n",
            "Epoch 53/200\n",
            "469/469 - 1s - loss: 0.2415 - accuracy: 0.9123 - val_loss: 0.3394 - val_accuracy: 0.8800\n",
            "Epoch 54/200\n",
            "469/469 - 1s - loss: 0.2374 - accuracy: 0.9150 - val_loss: 0.3465 - val_accuracy: 0.8757\n",
            "Epoch 55/200\n",
            "469/469 - 1s - loss: 0.2353 - accuracy: 0.9148 - val_loss: 0.3265 - val_accuracy: 0.8855\n",
            "Epoch 56/200\n",
            "469/469 - 1s - loss: 0.2338 - accuracy: 0.9164 - val_loss: 0.3448 - val_accuracy: 0.8771\n",
            "Epoch 57/200\n",
            "469/469 - 1s - loss: 0.2310 - accuracy: 0.9168 - val_loss: 0.3329 - val_accuracy: 0.8826\n",
            "Epoch 58/200\n",
            "469/469 - 1s - loss: 0.2289 - accuracy: 0.9183 - val_loss: 0.4020 - val_accuracy: 0.8583\n",
            "Epoch 59/200\n",
            "469/469 - 1s - loss: 0.2270 - accuracy: 0.9188 - val_loss: 0.3359 - val_accuracy: 0.8809\n",
            "Epoch 60/200\n",
            "469/469 - 1s - loss: 0.2250 - accuracy: 0.9189 - val_loss: 0.3353 - val_accuracy: 0.8843\n",
            "Epoch 61/200\n",
            "469/469 - 1s - loss: 0.2237 - accuracy: 0.9194 - val_loss: 0.3393 - val_accuracy: 0.8796\n",
            "Epoch 62/200\n",
            "469/469 - 1s - loss: 0.2206 - accuracy: 0.9213 - val_loss: 0.3354 - val_accuracy: 0.8815\n",
            "Epoch 63/200\n",
            "469/469 - 1s - loss: 0.2188 - accuracy: 0.9215 - val_loss: 0.3330 - val_accuracy: 0.8810\n",
            "Epoch 64/200\n",
            "469/469 - 1s - loss: 0.2168 - accuracy: 0.9226 - val_loss: 0.3245 - val_accuracy: 0.8845\n",
            "Epoch 65/200\n",
            "469/469 - 1s - loss: 0.2152 - accuracy: 0.9219 - val_loss: 0.3237 - val_accuracy: 0.8849\n",
            "Epoch 66/200\n",
            "469/469 - 1s - loss: 0.2127 - accuracy: 0.9227 - val_loss: 0.3334 - val_accuracy: 0.8824\n",
            "Epoch 67/200\n",
            "469/469 - 1s - loss: 0.2125 - accuracy: 0.9241 - val_loss: 0.3320 - val_accuracy: 0.8854\n",
            "Epoch 68/200\n",
            "469/469 - 1s - loss: 0.2100 - accuracy: 0.9246 - val_loss: 0.3331 - val_accuracy: 0.8808\n",
            "Epoch 69/200\n",
            "469/469 - 1s - loss: 0.2065 - accuracy: 0.9267 - val_loss: 0.3426 - val_accuracy: 0.8801\n",
            "Epoch 70/200\n",
            "469/469 - 1s - loss: 0.2050 - accuracy: 0.9258 - val_loss: 0.3607 - val_accuracy: 0.8711\n",
            "Epoch 71/200\n",
            "469/469 - 1s - loss: 0.2027 - accuracy: 0.9276 - val_loss: 0.3203 - val_accuracy: 0.8864\n",
            "Epoch 72/200\n",
            "469/469 - 1s - loss: 0.2014 - accuracy: 0.9275 - val_loss: 0.3516 - val_accuracy: 0.8758\n",
            "Epoch 73/200\n",
            "469/469 - 1s - loss: 0.1997 - accuracy: 0.9287 - val_loss: 0.3287 - val_accuracy: 0.8856\n",
            "Epoch 74/200\n",
            "469/469 - 1s - loss: 0.1988 - accuracy: 0.9296 - val_loss: 0.3381 - val_accuracy: 0.8838\n",
            "Epoch 75/200\n",
            "469/469 - 1s - loss: 0.1958 - accuracy: 0.9300 - val_loss: 0.3265 - val_accuracy: 0.8862\n",
            "Epoch 76/200\n",
            "469/469 - 1s - loss: 0.1939 - accuracy: 0.9313 - val_loss: 0.3466 - val_accuracy: 0.8779\n",
            "Epoch 77/200\n",
            "469/469 - 1s - loss: 0.1902 - accuracy: 0.9325 - val_loss: 0.3256 - val_accuracy: 0.8852\n",
            "Epoch 78/200\n",
            "469/469 - 1s - loss: 0.1882 - accuracy: 0.9327 - val_loss: 0.3314 - val_accuracy: 0.8844\n",
            "Epoch 79/200\n",
            "469/469 - 1s - loss: 0.1884 - accuracy: 0.9333 - val_loss: 0.3268 - val_accuracy: 0.8855\n",
            "Epoch 80/200\n",
            "469/469 - 1s - loss: 0.1863 - accuracy: 0.9335 - val_loss: 0.3546 - val_accuracy: 0.8774\n",
            "Epoch 81/200\n",
            "469/469 - 1s - loss: 0.1847 - accuracy: 0.9338 - val_loss: 0.3448 - val_accuracy: 0.8828\n",
            "Epoch 82/200\n",
            "469/469 - 1s - loss: 0.1829 - accuracy: 0.9354 - val_loss: 0.3265 - val_accuracy: 0.8863\n",
            "Epoch 83/200\n",
            "469/469 - 1s - loss: 0.1805 - accuracy: 0.9358 - val_loss: 0.3529 - val_accuracy: 0.8805\n",
            "Epoch 84/200\n",
            "469/469 - 1s - loss: 0.1801 - accuracy: 0.9365 - val_loss: 0.3286 - val_accuracy: 0.8852\n",
            "Epoch 85/200\n",
            "469/469 - 1s - loss: 0.1774 - accuracy: 0.9370 - val_loss: 0.3485 - val_accuracy: 0.8812\n",
            "Epoch 86/200\n",
            "469/469 - 1s - loss: 0.1750 - accuracy: 0.9380 - val_loss: 0.3314 - val_accuracy: 0.8860\n",
            "Epoch 87/200\n",
            "469/469 - 1s - loss: 0.1752 - accuracy: 0.9369 - val_loss: 0.3227 - val_accuracy: 0.8893\n",
            "Epoch 88/200\n",
            "469/469 - 1s - loss: 0.1741 - accuracy: 0.9375 - val_loss: 0.3234 - val_accuracy: 0.8891\n",
            "Epoch 89/200\n",
            "469/469 - 1s - loss: 0.1711 - accuracy: 0.9392 - val_loss: 0.3450 - val_accuracy: 0.8797\n",
            "Epoch 90/200\n",
            "469/469 - 1s - loss: 0.1679 - accuracy: 0.9409 - val_loss: 0.3387 - val_accuracy: 0.8836\n",
            "Epoch 91/200\n",
            "469/469 - 1s - loss: 0.1689 - accuracy: 0.9396 - val_loss: 0.3238 - val_accuracy: 0.8890\n",
            "Epoch 92/200\n",
            "469/469 - 1s - loss: 0.1660 - accuracy: 0.9423 - val_loss: 0.3409 - val_accuracy: 0.8856\n",
            "Epoch 93/200\n",
            "469/469 - 1s - loss: 0.1632 - accuracy: 0.9419 - val_loss: 0.3219 - val_accuracy: 0.8901\n",
            "Epoch 94/200\n",
            "469/469 - 1s - loss: 0.1618 - accuracy: 0.9437 - val_loss: 0.3411 - val_accuracy: 0.8829\n",
            "Epoch 95/200\n",
            "469/469 - 1s - loss: 0.1605 - accuracy: 0.9428 - val_loss: 0.3572 - val_accuracy: 0.8782\n",
            "Epoch 96/200\n",
            "469/469 - 1s - loss: 0.1594 - accuracy: 0.9441 - val_loss: 0.3265 - val_accuracy: 0.8907\n",
            "Epoch 97/200\n",
            "469/469 - 1s - loss: 0.1595 - accuracy: 0.9442 - val_loss: 0.3360 - val_accuracy: 0.8859\n",
            "Epoch 98/200\n",
            "469/469 - 1s - loss: 0.1555 - accuracy: 0.9455 - val_loss: 0.3282 - val_accuracy: 0.8892\n",
            "Epoch 99/200\n",
            "469/469 - 1s - loss: 0.1523 - accuracy: 0.9456 - val_loss: 0.3311 - val_accuracy: 0.8884\n",
            "Epoch 100/200\n",
            "469/469 - 1s - loss: 0.1517 - accuracy: 0.9464 - val_loss: 0.3355 - val_accuracy: 0.8864\n",
            "Epoch 101/200\n",
            "469/469 - 1s - loss: 0.1510 - accuracy: 0.9465 - val_loss: 0.3497 - val_accuracy: 0.8833\n",
            "Epoch 102/200\n",
            "469/469 - 1s - loss: 0.1492 - accuracy: 0.9482 - val_loss: 0.3332 - val_accuracy: 0.8853\n",
            "Epoch 103/200\n",
            "469/469 - 1s - loss: 0.1480 - accuracy: 0.9484 - val_loss: 0.3943 - val_accuracy: 0.8657\n",
            "Epoch 104/200\n",
            "469/469 - 1s - loss: 0.1463 - accuracy: 0.9492 - val_loss: 0.4249 - val_accuracy: 0.8656\n",
            "Epoch 105/200\n",
            "469/469 - 1s - loss: 0.1431 - accuracy: 0.9495 - val_loss: 0.3317 - val_accuracy: 0.8909\n",
            "Epoch 106/200\n",
            "469/469 - 1s - loss: 0.1433 - accuracy: 0.9500 - val_loss: 0.3540 - val_accuracy: 0.8835\n",
            "Epoch 107/200\n",
            "469/469 - 1s - loss: 0.1414 - accuracy: 0.9509 - val_loss: 0.3380 - val_accuracy: 0.8879\n",
            "Epoch 108/200\n",
            "469/469 - 1s - loss: 0.1398 - accuracy: 0.9511 - val_loss: 0.3318 - val_accuracy: 0.8909\n",
            "Epoch 109/200\n",
            "469/469 - 1s - loss: 0.1391 - accuracy: 0.9515 - val_loss: 0.3306 - val_accuracy: 0.8906\n",
            "Epoch 110/200\n",
            "469/469 - 1s - loss: 0.1359 - accuracy: 0.9533 - val_loss: 0.3490 - val_accuracy: 0.8847\n",
            "Epoch 111/200\n",
            "469/469 - 1s - loss: 0.1366 - accuracy: 0.9520 - val_loss: 0.3499 - val_accuracy: 0.8862\n",
            "Epoch 112/200\n",
            "469/469 - 1s - loss: 0.1356 - accuracy: 0.9522 - val_loss: 0.3653 - val_accuracy: 0.8796\n",
            "Epoch 113/200\n",
            "469/469 - 1s - loss: 0.1329 - accuracy: 0.9532 - val_loss: 0.3299 - val_accuracy: 0.8931\n",
            "Epoch 114/200\n",
            "469/469 - 1s - loss: 0.1300 - accuracy: 0.9546 - val_loss: 0.3328 - val_accuracy: 0.8909\n",
            "Epoch 115/200\n",
            "469/469 - 1s - loss: 0.1300 - accuracy: 0.9549 - val_loss: 0.3654 - val_accuracy: 0.8818\n",
            "Epoch 116/200\n",
            "469/469 - 1s - loss: 0.1309 - accuracy: 0.9545 - val_loss: 0.3376 - val_accuracy: 0.8900\n",
            "Epoch 117/200\n",
            "469/469 - 1s - loss: 0.1271 - accuracy: 0.9560 - val_loss: 0.3593 - val_accuracy: 0.8834\n",
            "Epoch 118/200\n",
            "469/469 - 1s - loss: 0.1268 - accuracy: 0.9552 - val_loss: 0.3888 - val_accuracy: 0.8788\n",
            "Epoch 119/200\n",
            "469/469 - 1s - loss: 0.1221 - accuracy: 0.9576 - val_loss: 0.3494 - val_accuracy: 0.8874\n",
            "Epoch 120/200\n",
            "469/469 - 1s - loss: 0.1205 - accuracy: 0.9584 - val_loss: 0.3472 - val_accuracy: 0.8882\n",
            "Epoch 121/200\n",
            "469/469 - 1s - loss: 0.1189 - accuracy: 0.9588 - val_loss: 0.3562 - val_accuracy: 0.8880\n",
            "Epoch 122/200\n",
            "469/469 - 1s - loss: 0.1179 - accuracy: 0.9596 - val_loss: 0.3986 - val_accuracy: 0.8785\n",
            "Epoch 123/200\n",
            "469/469 - 1s - loss: 0.1180 - accuracy: 0.9593 - val_loss: 0.3655 - val_accuracy: 0.8865\n",
            "Epoch 124/200\n",
            "469/469 - 1s - loss: 0.1175 - accuracy: 0.9593 - val_loss: 0.3672 - val_accuracy: 0.8845\n",
            "Epoch 125/200\n",
            "469/469 - 1s - loss: 0.1136 - accuracy: 0.9611 - val_loss: 0.3554 - val_accuracy: 0.8892\n",
            "Epoch 126/200\n",
            "469/469 - 1s - loss: 0.1133 - accuracy: 0.9616 - val_loss: 0.3535 - val_accuracy: 0.8885\n",
            "Epoch 127/200\n",
            "469/469 - 1s - loss: 0.1131 - accuracy: 0.9610 - val_loss: 0.3578 - val_accuracy: 0.8885\n",
            "Epoch 128/200\n",
            "469/469 - 1s - loss: 0.1114 - accuracy: 0.9612 - val_loss: 0.3564 - val_accuracy: 0.8886\n",
            "Epoch 129/200\n",
            "469/469 - 1s - loss: 0.1098 - accuracy: 0.9628 - val_loss: 0.3543 - val_accuracy: 0.8898\n",
            "Epoch 130/200\n",
            "469/469 - 1s - loss: 0.1080 - accuracy: 0.9635 - val_loss: 0.3658 - val_accuracy: 0.8859\n",
            "Epoch 131/200\n",
            "469/469 - 1s - loss: 0.1095 - accuracy: 0.9625 - val_loss: 0.3858 - val_accuracy: 0.8811\n",
            "Epoch 132/200\n",
            "469/469 - 1s - loss: 0.1079 - accuracy: 0.9632 - val_loss: 0.3633 - val_accuracy: 0.8890\n",
            "Epoch 133/200\n",
            "469/469 - 1s - loss: 0.1050 - accuracy: 0.9649 - val_loss: 0.3528 - val_accuracy: 0.8899\n",
            "Epoch 134/200\n",
            "469/469 - 1s - loss: 0.1046 - accuracy: 0.9645 - val_loss: 0.3756 - val_accuracy: 0.8846\n",
            "Epoch 135/200\n",
            "469/469 - 1s - loss: 0.1038 - accuracy: 0.9641 - val_loss: 0.3742 - val_accuracy: 0.8847\n",
            "Epoch 136/200\n",
            "469/469 - 1s - loss: 0.1034 - accuracy: 0.9641 - val_loss: 0.3882 - val_accuracy: 0.8822\n",
            "Epoch 137/200\n",
            "469/469 - 1s - loss: 0.0994 - accuracy: 0.9663 - val_loss: 0.3736 - val_accuracy: 0.8863\n",
            "Epoch 138/200\n",
            "469/469 - 1s - loss: 0.0990 - accuracy: 0.9666 - val_loss: 0.3646 - val_accuracy: 0.8870\n",
            "Epoch 139/200\n",
            "469/469 - 1s - loss: 0.0992 - accuracy: 0.9664 - val_loss: 0.3578 - val_accuracy: 0.8938\n",
            "Epoch 140/200\n",
            "469/469 - 1s - loss: 0.0978 - accuracy: 0.9669 - val_loss: 0.4276 - val_accuracy: 0.8785\n",
            "Epoch 141/200\n",
            "469/469 - 1s - loss: 0.0959 - accuracy: 0.9678 - val_loss: 0.3580 - val_accuracy: 0.8922\n",
            "Epoch 142/200\n",
            "469/469 - 1s - loss: 0.0952 - accuracy: 0.9674 - val_loss: 0.3657 - val_accuracy: 0.8901\n",
            "Epoch 143/200\n",
            "469/469 - 1s - loss: 0.0933 - accuracy: 0.9689 - val_loss: 0.3707 - val_accuracy: 0.8894\n",
            "Epoch 144/200\n",
            "469/469 - 1s - loss: 0.0909 - accuracy: 0.9692 - val_loss: 0.5409 - val_accuracy: 0.8512\n",
            "Epoch 145/200\n",
            "469/469 - 1s - loss: 0.0895 - accuracy: 0.9699 - val_loss: 0.3853 - val_accuracy: 0.8865\n",
            "Epoch 146/200\n",
            "469/469 - 1s - loss: 0.0879 - accuracy: 0.9704 - val_loss: 0.3655 - val_accuracy: 0.8927\n",
            "Epoch 147/200\n",
            "469/469 - 1s - loss: 0.0856 - accuracy: 0.9721 - val_loss: 0.3710 - val_accuracy: 0.8941\n",
            "Epoch 148/200\n",
            "469/469 - 1s - loss: 0.0862 - accuracy: 0.9709 - val_loss: 0.4014 - val_accuracy: 0.8843\n",
            "Epoch 149/200\n",
            "469/469 - 1s - loss: 0.0865 - accuracy: 0.9709 - val_loss: 0.3873 - val_accuracy: 0.8878\n",
            "Epoch 150/200\n",
            "469/469 - 1s - loss: 0.0834 - accuracy: 0.9721 - val_loss: 0.3948 - val_accuracy: 0.8872\n",
            "Epoch 151/200\n",
            "469/469 - 1s - loss: 0.0858 - accuracy: 0.9717 - val_loss: 0.3904 - val_accuracy: 0.8868\n",
            "Epoch 152/200\n",
            "469/469 - 1s - loss: 0.0861 - accuracy: 0.9705 - val_loss: 0.4191 - val_accuracy: 0.8779\n",
            "Epoch 153/200\n",
            "469/469 - 1s - loss: 0.0820 - accuracy: 0.9726 - val_loss: 0.4058 - val_accuracy: 0.8836\n",
            "Epoch 154/200\n",
            "469/469 - 1s - loss: 0.0818 - accuracy: 0.9732 - val_loss: 0.3757 - val_accuracy: 0.8911\n",
            "Epoch 155/200\n",
            "469/469 - 1s - loss: 0.0781 - accuracy: 0.9742 - val_loss: 0.3941 - val_accuracy: 0.8894\n",
            "Epoch 156/200\n",
            "469/469 - 1s - loss: 0.0789 - accuracy: 0.9738 - val_loss: 0.4018 - val_accuracy: 0.8867\n",
            "Epoch 157/200\n",
            "469/469 - 1s - loss: 0.0756 - accuracy: 0.9756 - val_loss: 0.5177 - val_accuracy: 0.8676\n",
            "Epoch 158/200\n",
            "469/469 - 1s - loss: 0.0782 - accuracy: 0.9739 - val_loss: 0.4503 - val_accuracy: 0.8753\n",
            "Epoch 159/200\n",
            "469/469 - 1s - loss: 0.0773 - accuracy: 0.9745 - val_loss: 0.4097 - val_accuracy: 0.8876\n",
            "Epoch 160/200\n",
            "469/469 - 1s - loss: 0.0759 - accuracy: 0.9758 - val_loss: 0.4550 - val_accuracy: 0.8740\n",
            "Epoch 161/200\n",
            "469/469 - 1s - loss: 0.0738 - accuracy: 0.9757 - val_loss: 0.4218 - val_accuracy: 0.8857\n",
            "Epoch 162/200\n",
            "469/469 - 1s - loss: 0.0708 - accuracy: 0.9765 - val_loss: 0.4210 - val_accuracy: 0.8842\n",
            "Epoch 163/200\n",
            "469/469 - 1s - loss: 0.0727 - accuracy: 0.9765 - val_loss: 0.3921 - val_accuracy: 0.8920\n",
            "Epoch 164/200\n",
            "469/469 - 1s - loss: 0.0675 - accuracy: 0.9783 - val_loss: 0.3954 - val_accuracy: 0.8903\n",
            "Epoch 165/200\n",
            "469/469 - 1s - loss: 0.0678 - accuracy: 0.9785 - val_loss: 0.4105 - val_accuracy: 0.8874\n",
            "Epoch 166/200\n",
            "469/469 - 1s - loss: 0.0689 - accuracy: 0.9772 - val_loss: 0.4237 - val_accuracy: 0.8839\n",
            "Epoch 167/200\n",
            "469/469 - 1s - loss: 0.0686 - accuracy: 0.9779 - val_loss: 0.3979 - val_accuracy: 0.8918\n",
            "Epoch 168/200\n",
            "469/469 - 1s - loss: 0.0675 - accuracy: 0.9782 - val_loss: 0.4044 - val_accuracy: 0.8918\n",
            "Epoch 169/200\n",
            "469/469 - 1s - loss: 0.0655 - accuracy: 0.9790 - val_loss: 0.4043 - val_accuracy: 0.8904\n",
            "Epoch 170/200\n",
            "469/469 - 1s - loss: 0.0702 - accuracy: 0.9767 - val_loss: 0.4009 - val_accuracy: 0.8906\n",
            "Epoch 171/200\n",
            "469/469 - 1s - loss: 0.0646 - accuracy: 0.9790 - val_loss: 0.4116 - val_accuracy: 0.8899\n",
            "Epoch 172/200\n",
            "469/469 - 1s - loss: 0.0660 - accuracy: 0.9795 - val_loss: 0.3973 - val_accuracy: 0.8937\n",
            "Epoch 173/200\n",
            "469/469 - 1s - loss: 0.0614 - accuracy: 0.9807 - val_loss: 0.4590 - val_accuracy: 0.8812\n",
            "Epoch 174/200\n",
            "469/469 - 1s - loss: 0.0628 - accuracy: 0.9790 - val_loss: 0.4053 - val_accuracy: 0.8924\n",
            "Epoch 175/200\n",
            "469/469 - 1s - loss: 0.0624 - accuracy: 0.9803 - val_loss: 0.4000 - val_accuracy: 0.8915\n",
            "Epoch 176/200\n",
            "469/469 - 1s - loss: 0.0642 - accuracy: 0.9795 - val_loss: 0.4091 - val_accuracy: 0.8901\n",
            "Epoch 177/200\n",
            "469/469 - 1s - loss: 0.0649 - accuracy: 0.9794 - val_loss: 0.4867 - val_accuracy: 0.8755\n",
            "Epoch 178/200\n",
            "469/469 - 1s - loss: 0.0562 - accuracy: 0.9821 - val_loss: 0.4332 - val_accuracy: 0.8884\n",
            "Epoch 179/200\n",
            "469/469 - 1s - loss: 0.0601 - accuracy: 0.9811 - val_loss: 0.4422 - val_accuracy: 0.8837\n",
            "Epoch 180/200\n",
            "469/469 - 1s - loss: 0.0575 - accuracy: 0.9820 - val_loss: 0.4307 - val_accuracy: 0.8869\n",
            "Epoch 181/200\n",
            "469/469 - 1s - loss: 0.0543 - accuracy: 0.9829 - val_loss: 0.4192 - val_accuracy: 0.8893\n",
            "Epoch 182/200\n",
            "469/469 - 1s - loss: 0.0527 - accuracy: 0.9835 - val_loss: 0.4153 - val_accuracy: 0.8924\n",
            "Epoch 183/200\n",
            "469/469 - 1s - loss: 0.0508 - accuracy: 0.9844 - val_loss: 0.4891 - val_accuracy: 0.8790\n",
            "Epoch 184/200\n",
            "469/469 - 1s - loss: 0.0516 - accuracy: 0.9843 - val_loss: 0.4623 - val_accuracy: 0.8871\n",
            "Epoch 185/200\n",
            "469/469 - 1s - loss: 0.0514 - accuracy: 0.9841 - val_loss: 0.4727 - val_accuracy: 0.8874\n",
            "Epoch 186/200\n",
            "469/469 - 1s - loss: 0.0501 - accuracy: 0.9844 - val_loss: 0.4252 - val_accuracy: 0.8907\n",
            "Epoch 187/200\n",
            "469/469 - 1s - loss: 0.0565 - accuracy: 0.9824 - val_loss: 0.4418 - val_accuracy: 0.8867\n",
            "Epoch 188/200\n",
            "469/469 - 1s - loss: 0.0500 - accuracy: 0.9847 - val_loss: 0.4250 - val_accuracy: 0.8928\n",
            "Epoch 189/200\n",
            "469/469 - 1s - loss: 0.0463 - accuracy: 0.9857 - val_loss: 0.4416 - val_accuracy: 0.8894\n",
            "Epoch 190/200\n",
            "469/469 - 1s - loss: 0.0481 - accuracy: 0.9853 - val_loss: 0.4320 - val_accuracy: 0.8899\n",
            "Epoch 191/200\n",
            "469/469 - 1s - loss: 0.0456 - accuracy: 0.9863 - val_loss: 0.4452 - val_accuracy: 0.8877\n",
            "Epoch 192/200\n",
            "469/469 - 1s - loss: 0.0467 - accuracy: 0.9857 - val_loss: 0.4570 - val_accuracy: 0.8880\n",
            "Epoch 193/200\n",
            "469/469 - 1s - loss: 0.0524 - accuracy: 0.9841 - val_loss: 0.4301 - val_accuracy: 0.8901\n",
            "Epoch 194/200\n",
            "469/469 - 1s - loss: 0.0470 - accuracy: 0.9856 - val_loss: 0.4395 - val_accuracy: 0.8927\n",
            "Epoch 195/200\n",
            "469/469 - 1s - loss: 0.0451 - accuracy: 0.9865 - val_loss: 0.5056 - val_accuracy: 0.8783\n",
            "Epoch 196/200\n",
            "469/469 - 1s - loss: 0.0422 - accuracy: 0.9874 - val_loss: 0.6572 - val_accuracy: 0.8671\n",
            "Epoch 197/200\n",
            "469/469 - 1s - loss: 0.0468 - accuracy: 0.9863 - val_loss: 0.4643 - val_accuracy: 0.8893\n",
            "Epoch 198/200\n",
            "469/469 - 1s - loss: 0.0427 - accuracy: 0.9873 - val_loss: 0.4605 - val_accuracy: 0.8894\n",
            "Epoch 199/200\n",
            "469/469 - 1s - loss: 0.0427 - accuracy: 0.9869 - val_loss: 0.4826 - val_accuracy: 0.8850\n",
            "Epoch 200/200\n",
            "469/469 - 1s - loss: 0.0461 - accuracy: 0.9871 - val_loss: 0.4373 - val_accuracy: 0.8913\n"
          ],
          "name": "stdout"
        }
      ]
    },
    {
      "cell_type": "code",
      "metadata": {
        "id": "JCyp-5WNw2Zj",
        "colab": {
          "base_uri": "https://localhost:8080/",
          "height": 295
        },
        "outputId": "87742828-7537-458b-fa0d-6f89bd061dc0"
      },
      "source": [
        "# summarize history for accuracy\n",
        "plt.plot(history.history['accuracy'])\n",
        "plt.plot(history.history['val_accuracy'])\n",
        "plt.title('model accuracy')\n",
        "plt.ylabel('accuracy')\n",
        "plt.xlabel('epoch')\n",
        "plt.legend(['train', 'test'], loc='upper left')\n",
        "plt.show()"
      ],
      "execution_count": null,
      "outputs": [
        {
          "output_type": "display_data",
          "data": {
            "image/png": "[encoded data removed]",
            "text/plain": [
              "<Figure size 432x288 with 1 Axes>"
            ]
          },
          "metadata": {
            "tags": [],
            "needs_background": "light"
          }
        }
      ]
    },
    {
      "cell_type": "code",
      "metadata": {
        "id": "IzzfpdVlw7J5",
        "colab": {
          "base_uri": "https://localhost:8080/",
          "height": 295
        },
        "outputId": "baa32abd-d8d8-45b6-dacd-64458aac8893"
      },
      "source": [
        "# summarize history for loss\n",
        "plt.plot(history.history['loss'])\n",
        "plt.plot(history.history['val_loss'])\n",
        "plt.title('model loss')\n",
        "plt.ylabel('loss')\n",
        "plt.xlabel('epoch')\n",
        "plt.legend(['train', 'test'], loc='upper left')\n",
        "plt.show()"
      ],
      "execution_count": null,
      "outputs": [
        {
          "output_type": "display_data",
          "data": {
            "image/png": "[encoded data removed]",
            "text/plain": [
              "<Figure size 432x288 with 1 Axes>"
            ]
          },
          "metadata": {
            "tags": [],
            "needs_background": "light"
          }
        }
      ]
    },
    {
      "cell_type": "code",
      "metadata": {
        "id": "uZAtQB2NCoah"
      },
      "source": [
        ""
      ],
      "execution_count": null,
      "outputs": []
    }
  ]
}