{
  "nbformat": 4,
  "nbformat_minor": 0,
  "metadata": {
    "colab": {
      "name": "AIDL_A02_logistic_regression.ipynb",
      "provenance": [],
      "collapsed_sections": [],
      "authorship_tag": "ABX9TyNw3GB69b1j8WM4nuVhJ6db",
      "include_colab_link": true
    },
    "kernelspec": {
      "name": "python3",
      "display_name": "Python 3"
    }
  },
  "cells": [
    {
      "cell_type": "markdown",
      "metadata": {
        "id": "view-in-github",
        "colab_type": "text"
      },
      "source": [
        "<a href=\"https://colab.research.google.com/github/ounospanas/AIDL_A_02/blob/main/notebooks/AIDL_A02_logistic_regression.ipynb\" target=\"_parent\"><img src=\"https://colab.research.google.com/assets/colab-badge.svg\" alt=\"Open In Colab\"/></a>"
      ]
    },
    {
      "cell_type": "code",
      "metadata": {
        "id": "j25rklnwD1-m"
      },
      "source": [
        "import numpy as np\n",
        "import matplotlib.pyplot as plt\n",
        "%matplotlib inline"
      ],
      "execution_count": 1,
      "outputs": []
    },
    {
      "cell_type": "code",
      "metadata": {
        "id": "JenmhPusFZ06"
      },
      "source": [
        "#load Fashion MNIST dataset for clothing classification\n",
        "import tensorflow as tf\n",
        "(x_train, y_train), (x_test, y_test) = tf.keras.datasets.fashion_mnist.load_data()"
      ],
      "execution_count": 2,
      "outputs": []
    },
    {
      "cell_type": "code",
      "metadata": {
        "colab": {
          "base_uri": "https://localhost:8080/",
          "height": 272
        },
        "id": "V7uVONPjF1PP",
        "outputId": "ff72a018-80e4-4835-88b8-c975348c44ca"
      },
      "source": [
        "#visualize some data\n",
        "classes = ['T-shirt/top', 'Trouser', 'Pullover', 'Dress', 'Coat', 'Sandal', 'Shirt', 'Sneaker', 'Bag', 'Ankle boot']\n",
        "selected = [0,1,3,5,6,8,16,18,19,23]\n",
        "plt.figure(figsize=(11, 11))\n",
        "for i, s in enumerate(selected):\n",
        "    plt.subplot(5,5,i+1)\n",
        "    plt.xticks([])\n",
        "    plt.yticks([])\n",
        "    #img = plt.imread(x_train[s])\n",
        "    plt.imshow(x_train[s], cmap='gray')\n",
        "    plt.xlabel(classes[y_train[s]],)"
      ],
      "execution_count": 3,
      "outputs": [
        {
          "output_type": "display_data",
          "data": {
            "image/png": "[encoded data removed]",
            "text/plain": [
              "<Figure size 792x792 with 10 Axes>"
            ]
          },
          "metadata": {
            "tags": []
          }
        }
      ]
    },
    {
      "cell_type": "code",
      "metadata": {
        "id": "I8NenH6QEPlH"
      },
      "source": [
        "# normalize data by dividing with the macx pixel value: 255\n",
        "x_train = x_train.reshape(x_train.shape[0],-1)/255\n",
        "x_test = x_test.reshape(x_test.shape[0],-1)/255"
      ],
      "execution_count": 4,
      "outputs": []
    },
    {
      "cell_type": "markdown",
      "metadata": {
        "id": "5zD2QsqukISO"
      },
      "source": [
        "# Binary Classification\n",
        "### We turn the problem of clothing classification into binary (two classes i.e., t-shirts and ankle boots) in order to make it more simple"
      ]
    },
    {
      "cell_type": "code",
      "metadata": {
        "id": "CWtYiD_eEJsq"
      },
      "source": [
        "# select only t-shirts and ankle boots\n",
        "shirt_train = np.where(y_train==0)\n",
        "dress_train = np.where(y_train==3)\n",
        "\n",
        "shirt_test = np.where(y_test==0)\n",
        "dress_test = np.where(y_test==3)"
      ],
      "execution_count": 5,
      "outputs": []
    },
    {
      "cell_type": "code",
      "metadata": {
        "id": "ugGWzBtFJA_1"
      },
      "source": [
        "# concatenate them\n",
        "x_train_s = x_train[shirt_train]\n",
        "y_train_s = y_train[shirt_train]\n",
        "\n",
        "x_test_s = x_test[shirt_test]\n",
        "y_test_s = y_test[shirt_test]\n",
        "\n",
        "x_train_d = x_train[dress_train]\n",
        "y_train_d = y_train[dress_train]\n",
        "\n",
        "x_test_d = x_test[dress_test]\n",
        "y_test_d = y_test[dress_test]\n",
        "\n",
        "x_train_binary = np.concatenate([x_train_s, x_train_d])\n",
        "x_test_binary = np.concatenate([x_test_s, x_test_d])\n",
        "\n",
        "y_train_binary = np.concatenate([y_train_s, np.ones_like(y_train_d)])\n",
        "y_test_binary = np.concatenate([y_test_s, np.ones_like(y_test_d)])"
      ],
      "execution_count": 6,
      "outputs": []
    },
    {
      "cell_type": "markdown",
      "metadata": {
        "id": "nN8m4pbUM6P4"
      },
      "source": [
        "### Sklearn approach"
      ]
    },
    {
      "cell_type": "code",
      "metadata": {
        "colab": {
          "base_uri": "https://localhost:8080/"
        },
        "id": "-4EjnewhJBC0",
        "outputId": "ffedb648-e69d-49b1-8599-c647acb5f815"
      },
      "source": [
        "# train stohastic gradient descent\n",
        "from sklearn.linear_model import SGDClassifier\n",
        "lr = SGDClassifier(alpha=0.0001)\n",
        "lr.fit(x_train_binary, y_train_binary)"
      ],
      "execution_count": 7,
      "outputs": [
        {
          "output_type": "execute_result",
          "data": {
            "text/plain": [
              "SGDClassifier(alpha=0.0001, average=False, class_weight=None,\n",
              "              early_stopping=False, epsilon=0.1, eta0=0.0, fit_intercept=True,\n",
              "              l1_ratio=0.15, learning_rate='optimal', loss='hinge',\n",
              "              max_iter=1000, n_iter_no_change=5, n_jobs=None, penalty='l2',\n",
              "              power_t=0.5, random_state=None, shuffle=True, tol=0.001,\n",
              "              validation_fraction=0.1, verbose=0, warm_start=False)"
            ]
          },
          "metadata": {
            "tags": []
          },
          "execution_count": 7
        }
      ]
    },
    {
      "cell_type": "code",
      "metadata": {
        "colab": {
          "base_uri": "https://localhost:8080/"
        },
        "id": "p3PJNlFCJBFh",
        "outputId": "7f84ef54-b96b-4fb7-af58-c1d792d89893"
      },
      "source": [
        "# test result\n",
        "np.mean(lr.predict(x_test_binary)==y_test_binary)"
      ],
      "execution_count": 8,
      "outputs": [
        {
          "output_type": "execute_result",
          "data": {
            "text/plain": [
              "0.928"
            ]
          },
          "metadata": {
            "tags": []
          },
          "execution_count": 8
        }
      ]
    },
    {
      "cell_type": "markdown",
      "metadata": {
        "id": "NDtVPYLzMAIL"
      },
      "source": [
        "# Binary Logistic Regression (Custom)"
      ]
    },
    {
      "cell_type": "markdown",
      "metadata": {
        "id": "lW49UROyzfn-"
      },
      "source": [
        "Compute the sigmoid function:\n",
        "$$sigmoid( w^T x + b) = \\frac{1}{1 + e^{-(w^T x + b)}}$$"
      ]
    },
    {
      "cell_type": "code",
      "metadata": {
        "id": "rYBih-MhImZZ"
      },
      "source": [
        "def sigmoid(z):\n",
        "    \"\"\"\n",
        "    Compute sigmoid function.\n",
        "    z : the product theta.T * x + b\n",
        "    Returns\n",
        "    -------\n",
        "    g : The sigmoid function.\n",
        "    \"\"\"\n",
        "    # TO DO (Hint, check np.exp)\n",
        "    a = None\n",
        "    # ======\n",
        "    return a"
      ],
      "execution_count": 9,
      "outputs": []
    },
    {
      "cell_type": "code",
      "metadata": {
        "id": "_iElu6cUL-aZ",
        "colab": {
          "base_uri": "https://localhost:8080/"
        },
        "outputId": "7ff77def-9ca4-44a2-e4dd-c0bce01c7fc9"
      },
      "source": [
        "# check sigmoid function\n",
        "np.round(sigmoid(np.asarray([1,2,3])),4) == np.array([0.7311, 0.8808, 0.9526])"
      ],
      "execution_count": 13,
      "outputs": [
        {
          "output_type": "execute_result",
          "data": {
            "text/plain": [
              "array([ True,  True,  True])"
            ]
          },
          "metadata": {
            "tags": []
          },
          "execution_count": 13
        }
      ]
    },
    {
      "cell_type": "code",
      "metadata": {
        "id": "X0CIw-A92vsz"
      },
      "source": [
        "def init_params(size):\n",
        "  # set random seed to 0\n",
        "  np.random.seed(0)\n",
        "  # TO DO\n",
        "  # init random params in the range (0,1) with the given size and multiply it with 0.1\n",
        "  theta = None# TO DO set random small values\n",
        "  return theta"
      ],
      "execution_count": 15,
      "outputs": []
    },
    {
      "cell_type": "code",
      "metadata": {
        "id": "RyflAZhrXLu_",
        "colab": {
          "base_uri": "https://localhost:8080/"
        },
        "outputId": "43eb54a4-5b09-464d-a190-5c4f306c77ad"
      },
      "source": [
        "# check init params\n",
        "np.round(init_params(2),4) == np.array([0.0549, 0.0715])"
      ],
      "execution_count": 16,
      "outputs": [
        {
          "output_type": "execute_result",
          "data": {
            "text/plain": [
              "array([ True,  True])"
            ]
          },
          "metadata": {
            "tags": []
          },
          "execution_count": 16
        }
      ]
    },
    {
      "cell_type": "markdown",
      "metadata": {
        "id": "9_M6bkSI46hd"
      },
      "source": [
        "Calculate the cost function: $$J = -\\frac{1}{m}\\sum_{i=1}^{m}y^{(i)}\\log(a^{(i)})+(1-y^{(i)})\\log(1-a^{(i)})$$"
      ]
    },
    {
      "cell_type": "code",
      "metadata": {
        "id": "kdAJJ67d4gmD"
      },
      "source": [
        "def costFunction(X, y, w, b, m, a):\n",
        "    \"\"\"\n",
        "    Computes cost for linear regression. \n",
        "    X : feature vector, shape (m x n+1)\n",
        "    y : labels (i.e., dog or cat), shape (m, )\n",
        "    w : parameters for the linear regression, shape (n+1, )\n",
        "    m: data legth\n",
        "\n",
        "    returns\n",
        "    -------\n",
        "    J : value of cost function.\n",
        "    \"\"\"\n",
        "\n",
        "    # TO DO !!! Hint compute sigmoid first, (i.e., a variable) and then J for convenience. Check the formula shown above\n",
        "    J = None\n",
        "    #####\n",
        "  \n",
        "    return J"
      ],
      "execution_count": 18,
      "outputs": []
    },
    {
      "cell_type": "code",
      "metadata": {
        "id": "C3flqfZq8zxg"
      },
      "source": [
        "# check cost function\n",
        "w, b, X, y = np.array([[2],[3]]), 1.5, np.array([[0,1],[2,3]]), np.array([[0,1]])\n",
        "m = X.shape[0]\n",
        "a = sigmoid(np.dot(w.T, X) + b)\n",
        "\n",
        "assert np.round(costFunction(X, y, w, b, m, a), 4) == 3.7503 #should produce no assertion error"
      ],
      "execution_count": 19,
      "outputs": []
    },
    {
      "cell_type": "markdown",
      "metadata": {
        "id": "_CJK4wk_EA4t"
      },
      "source": [
        "Calculate the derivatives: $$ \\frac{\\partial J}{\\partial W} = \\frac{1}{m}X(A-Y)^T$$\n",
        "$$ \\frac{\\partial J}{\\partial b} = \\frac{1}{m} \\sum_{i=1}^m (a^{(i)}-y^{(i)})$$\n",
        "The first can be described analytically by this equation:\n",
        "$$ \\frac{\\partial J}{\\partial w_j} = \\frac{1}{m}\\sum_{i=1}^mx^{(i)}_j(a^{(i)}_j-y^{(i)})^T$$"
      ]
    },
    {
      "cell_type": "code",
      "metadata": {
        "id": "9eIqbKzGDfAi"
      },
      "source": [
        "def derivatives(X, y, m, A):\n",
        "  # TO DO, calculate dw, db using the above formula\n",
        "  dw = None\n",
        "  db = None\n",
        "  return dw, db"
      ],
      "execution_count": 24,
      "outputs": []
    },
    {
      "cell_type": "code",
      "metadata": {
        "colab": {
          "base_uri": "https://localhost:8080/"
        },
        "id": "WhHsZYl0Pibl",
        "outputId": "291b5c94-3c3b-403d-ec20-91f3dfbaf083"
      },
      "source": [
        "# check derivative function\n",
        "w, b, X, y = np.array([[2],[3]]), 1.5, np.array([[0,1],[2,3]]), np.array([[0,1]])\n",
        "m = X.shape[0]\n",
        "a = sigmoid(np.dot(w.T, X) + b)\n",
        "\n",
        "dw, db = derivatives(X,y,m,a)\n",
        "print(np.round(dw,8) == np.array([[-0.00000186],[0.99944163]]))\n",
        "print(np.round(b,4)==1.5)"
      ],
      "execution_count": 25,
      "outputs": [
        {
          "output_type": "stream",
          "text": [
            "[[ True]\n",
            " [ True]]\n",
            "True\n"
          ],
          "name": "stdout"
        }
      ]
    },
    {
      "cell_type": "markdown",
      "metadata": {
        "id": "KbgF0t0pRDfX"
      },
      "source": [
        "$$ w_j := w_j - \\lambda dw_j $$\n",
        "$$ b := b - \\lambda db $$"
      ]
    },
    {
      "cell_type": "code",
      "metadata": {
        "id": "L7IbXv7rQgyt"
      },
      "source": [
        "# update parameters for optimization\n",
        "def update(w, b, dw, db):\n",
        "  w = w - learning_rate*dw\n",
        "  b = b - learning_rate*db\n",
        "  return w, b"
      ],
      "execution_count": 26,
      "outputs": []
    },
    {
      "cell_type": "code",
      "metadata": {
        "id": "8qxU53KOQsfM"
      },
      "source": [
        "# train algorithm\n",
        "costs = []\n",
        "learning_rate = 0.01\n",
        "epochs = 3000   \n",
        "\n",
        "\n",
        "w = init_params(x_train_binary.shape[1])\n",
        "b = init_params(1)\n",
        "for i in range(epochs):\n",
        "    \n",
        "    #TO DO. \n",
        "    # 1. compute Z\n",
        "    # 2. compute A (sigmoid)\n",
        "    # 3. compute cost J and save it to costs\n",
        "    # 4. compute dw, db\n",
        "    # 5. update\n",
        "    z = None\n",
        "    a = None\n",
        "    cost = None\n",
        "    dw, db = None\n",
        "    w, b = None\n",
        "\n",
        "    ######"
      ],
      "execution_count": 27,
      "outputs": []
    },
    {
      "cell_type": "code",
      "metadata": {
        "id": "YXdr4njQiRBw",
        "colab": {
          "base_uri": "https://localhost:8080/",
          "height": 295
        },
        "outputId": "04d794da-6044-47ae-a974-a35de22e69b4"
      },
      "source": [
        "plt.plot(costs)\n",
        "plt.title (\"Logistic regression progress\")\n",
        "plt.xlabel(\"epochs\")\n",
        "plt.ylabel(\"J\")\n",
        "plt.show()"
      ],
      "execution_count": 28,
      "outputs": [
        {
          "output_type": "display_data",
          "data": {
            "image/png": "[encoded data removed]",
            "text/plain": [
              "<Figure size 432x288 with 1 Axes>"
            ]
          },
          "metadata": {
            "tags": [],
            "needs_background": "light"
          }
        }
      ]
    },
    {
      "cell_type": "code",
      "metadata": {
        "id": "Z4F4EMIlcQxL"
      },
      "source": [
        "train_acc = np.mean(np.round(sigmoid(np.dot(w.T, x_train_binary.T)))==y_train_binary)\n",
        "test_acc = np.mean(np.round(sigmoid(np.dot(w.T, x_test_binary.T)))==y_test_binary)"
      ],
      "execution_count": 29,
      "outputs": []
    },
    {
      "cell_type": "code",
      "metadata": {
        "id": "ysHdeU9Hg8xU",
        "colab": {
          "base_uri": "https://localhost:8080/"
        },
        "outputId": "963b4f31-0d4a-4046-f5c4-eeafa01adf5d"
      },
      "source": [
        "print(\"Train acc: {}\".format(train_acc)) #should be around 93.1%\n",
        "print(\"Test acc: {}\".format(test_acc)) #should be around 92.8%"
      ],
      "execution_count": 30,
      "outputs": [
        {
          "output_type": "stream",
          "text": [
            "Train acc: 0.9310833333333334\n",
            "Test acc: 0.928\n"
          ],
          "name": "stdout"
        }
      ]
    },
    {
      "cell_type": "markdown",
      "metadata": {
        "id": "cJkiX4mJkEqI"
      },
      "source": [
        "# Multiclass Logistic Regression (sklearn)"
      ]
    },
    {
      "cell_type": "code",
      "metadata": {
        "id": "j94XwoWKlN4T"
      },
      "source": [
        "# train a subsample only (due to RAM, response time). So we pick only the first 3,000 examples\n",
        "x_train = x_train[:3000]\n",
        "y_train = y_train[:3000]"
      ],
      "execution_count": 31,
      "outputs": []
    },
    {
      "cell_type": "code",
      "metadata": {
        "id": "grySLE7AkG_8",
        "colab": {
          "base_uri": "https://localhost:8080/"
        },
        "outputId": "f06b2220-2e66-421a-9e6f-ce1d0546c399"
      },
      "source": [
        "# train stohastic gradient descent\n",
        "from sklearn.linear_model import SGDClassifier\n",
        "lr = SGDClassifier(alpha=0.0001)\n",
        "lr.fit(x_train, y_train)"
      ],
      "execution_count": 34,
      "outputs": [
        {
          "output_type": "execute_result",
          "data": {
            "text/plain": [
              "SGDClassifier(alpha=0.0001, average=False, class_weight=None,\n",
              "              early_stopping=False, epsilon=0.1, eta0=0.0, fit_intercept=True,\n",
              "              l1_ratio=0.15, learning_rate='optimal', loss='hinge',\n",
              "              max_iter=1000, n_iter_no_change=5, n_jobs=None, penalty='l2',\n",
              "              power_t=0.5, random_state=None, shuffle=True, tol=0.001,\n",
              "              validation_fraction=0.1, verbose=0, warm_start=False)"
            ]
          },
          "metadata": {
            "tags": []
          },
          "execution_count": 34
        }
      ]
    },
    {
      "cell_type": "code",
      "metadata": {
        "id": "NE8c9n8ykHCN",
        "colab": {
          "base_uri": "https://localhost:8080/"
        },
        "outputId": "0e36c844-653d-41d3-b671-0f5cf8ce2fcd"
      },
      "source": [
        "# test result\n",
        "np.mean(lr.predict(x_test)==y_test)"
      ],
      "execution_count": 35,
      "outputs": [
        {
          "output_type": "execute_result",
          "data": {
            "text/plain": [
              "0.7573"
            ]
          },
          "metadata": {
            "tags": []
          },
          "execution_count": 35
        }
      ]
    },
    {
      "cell_type": "markdown",
      "metadata": {
        "id": "Vf_Z7OUFi3u8"
      },
      "source": [
        "# Multiclass Logistic Regression (Custom)\n",
        "\n",
        "TO DO \n",
        "1. init_params should have $w$ with dimensions number_of_features x number_of_classes, so 784x10 \n",
        "2. compute softmax instead of sigmoid \\begin{eqnarray*} P(Y=i|x, w,b) =\\frac {e^{w_i x + b_i}}{\\sum_j e^{w_j x + b_j}} \\\\ \\end{eqnarray*}\n",
        "3. multiclass cost function (negative log-likelihood)\n",
        "\\begin{eqnarray*} -\\sum_{c=1}^Ky_{x,c}\\log(p_{x,c}) \\\\ \\end{eqnarray*}, where: $K$ is the number of classes (T-shirt, boots, etc),  $y$ is the binary indicator (0 or 1) if class label $c$ is the correct class for example $x$, and $p$ is the predicted probability for $x$ is of class $c$."
      ]
    },
    {
      "cell_type": "code",
      "metadata": {
        "id": "ggACQByyu0FA"
      },
      "source": [
        "def init_params(size, classes):\n",
        "  # set random seed to 0\n",
        "  np.random.seed(0)\n",
        "  # TO DO\n",
        "  # init random params (0,1) and multiply it with 0.1\n",
        "  w = None # TO DO set random small values\n",
        "  b = None # TO DO set random small values\n",
        "  return w, b"
      ],
      "execution_count": 37,
      "outputs": []
    },
    {
      "cell_type": "code",
      "metadata": {
        "id": "XbNMIl3MHk0m"
      },
      "source": [
        "# softmax function for multi class logistic regression\n",
        "def softmax(X, w, b):\n",
        "   # TO DO\n",
        "   z = None\n",
        "   exp = None\n",
        "   a = None\n",
        "   return a.T"
      ],
      "execution_count": 38,
      "outputs": []
    },
    {
      "cell_type": "code",
      "metadata": {
        "id": "aOYFCgMszi4h"
      },
      "source": [
        "def multiCostFunction(X, y, w, b, m, a):\n",
        "    \"\"\"\n",
        "    Computes cost for linear regression. \n",
        "    X : feature vector, shape (m x n+1)\n",
        "    y : labels (i.e., dog or cat), shape (m, )\n",
        "    w : parameters for the linear regression, shape (n+1, )\n",
        "    m: data legth\n",
        "\n",
        "    returns\n",
        "    -------\n",
        "    J : value of cost function.\n",
        "    \"\"\"\n",
        "\n",
        "    # TO DO !!! Hint for computational reasons multiply log(a) only with the correct class index (e.g., where y = 1)\n",
        "    # all the rest are zeros\n",
        "    J = None\n",
        "    #####\n",
        "  \n",
        "    return J"
      ],
      "execution_count": 39,
      "outputs": []
    },
    {
      "cell_type": "code",
      "metadata": {
        "id": "hN5GsFu8AiSB"
      },
      "source": [
        "def derivatives(X, y, m, A):\n",
        "  # TO DO, calculate dw, db\n",
        "  dw = None\n",
        "  db = None\n",
        "  return dw, db"
      ],
      "execution_count": 40,
      "outputs": []
    },
    {
      "cell_type": "code",
      "metadata": {
        "id": "jKQcyHUpGkX7"
      },
      "source": [
        "# update parameters for optimization\n",
        "def update(w, b, dw, db):\n",
        "  w = w - learning_rate*dw\n",
        "  b = b - learning_rate*db\n",
        "  return w, b"
      ],
      "execution_count": 41,
      "outputs": []
    },
    {
      "cell_type": "code",
      "metadata": {
        "colab": {
          "base_uri": "https://localhost:8080/"
        },
        "id": "D-ZQyk9Unt25",
        "outputId": "3a82eb48-d509-422e-ad11-461341efb8d4"
      },
      "source": [
        "# convert y to one-hot matrix\n",
        "Y_train = tf.keras.utils.to_categorical(y_train)\n",
        "print(Y_train[:10])"
      ],
      "execution_count": 42,
      "outputs": [
        {
          "output_type": "stream",
          "text": [
            "[[0. 0. 0. 0. 0. 0. 0. 0. 0. 1.]\n",
            " [1. 0. 0. 0. 0. 0. 0. 0. 0. 0.]\n",
            " [1. 0. 0. 0. 0. 0. 0. 0. 0. 0.]\n",
            " [0. 0. 0. 1. 0. 0. 0. 0. 0. 0.]\n",
            " [1. 0. 0. 0. 0. 0. 0. 0. 0. 0.]\n",
            " [0. 0. 1. 0. 0. 0. 0. 0. 0. 0.]\n",
            " [0. 0. 0. 0. 0. 0. 0. 1. 0. 0.]\n",
            " [0. 0. 1. 0. 0. 0. 0. 0. 0. 0.]\n",
            " [0. 0. 0. 0. 0. 1. 0. 0. 0. 0.]\n",
            " [0. 0. 0. 0. 0. 1. 0. 0. 0. 0.]]\n"
          ],
          "name": "stdout"
        }
      ]
    },
    {
      "cell_type": "code",
      "metadata": {
        "colab": {
          "base_uri": "https://localhost:8080/"
        },
        "id": "kpng2Qr-vF-B",
        "outputId": "a06b9922-b582-4d4c-ec1a-c70a44d3b6c4"
      },
      "source": [
        "# train algorithm for 10,000 epoch. It will take ~2 minutes\n",
        "costs = []\n",
        "learning_rate = 0.001\n",
        "epochs = 10000\n",
        "\n",
        "\n",
        "w, b = init_params(x_train.shape[1], 10)\n",
        "for i in range(epochs):\n",
        "    \n",
        "    # 1. compute Z\n",
        "    # 2. compute A (softmax)\n",
        "    # 3. compute cost J and save it\n",
        "    # 4. compute dw, db\n",
        "    # 5. update weights\n",
        "    \n",
        "    z = None\n",
        "    a = None\n",
        "    cost = None\n",
        "    dw, db = None\n",
        "    w, b = None\n",
        "    \n",
        "    if i%100==0:\n",
        "      print('epoch {} with test_accuracy {}'.format(i,np.mean(np.argmax(softmax(x_test,w,b),1)==y_test))) #it should be close to 74.82%\n",
        "\n",
        "    ######"
      ],
      "execution_count": 44,
      "outputs": [
        {
          "output_type": "stream",
          "text": [
            "epoch 0 with test_accuracy 0.1204\n",
            "epoch 100 with test_accuracy 0.302\n",
            "epoch 200 with test_accuracy 0.4216\n",
            "epoch 300 with test_accuracy 0.5106\n",
            "epoch 400 with test_accuracy 0.5564\n",
            "epoch 500 with test_accuracy 0.5881\n",
            "epoch 600 with test_accuracy 0.607\n",
            "epoch 700 with test_accuracy 0.6204\n",
            "epoch 800 with test_accuracy 0.632\n",
            "epoch 900 with test_accuracy 0.6401\n",
            "epoch 1000 with test_accuracy 0.6459\n",
            "epoch 1100 with test_accuracy 0.6482\n",
            "epoch 1200 with test_accuracy 0.6507\n",
            "epoch 1300 with test_accuracy 0.6529\n",
            "epoch 1400 with test_accuracy 0.6553\n",
            "epoch 1500 with test_accuracy 0.6577\n",
            "epoch 1600 with test_accuracy 0.6597\n",
            "epoch 1700 with test_accuracy 0.6609\n",
            "epoch 1800 with test_accuracy 0.6621\n",
            "epoch 1900 with test_accuracy 0.6642\n",
            "epoch 2000 with test_accuracy 0.6666\n",
            "epoch 2100 with test_accuracy 0.6681\n",
            "epoch 2200 with test_accuracy 0.6688\n",
            "epoch 2300 with test_accuracy 0.6712\n",
            "epoch 2400 with test_accuracy 0.6743\n",
            "epoch 2500 with test_accuracy 0.6751\n",
            "epoch 2600 with test_accuracy 0.6772\n",
            "epoch 2700 with test_accuracy 0.6777\n",
            "epoch 2800 with test_accuracy 0.6799\n",
            "epoch 2900 with test_accuracy 0.6814\n",
            "epoch 3000 with test_accuracy 0.6825\n",
            "epoch 3100 with test_accuracy 0.6841\n",
            "epoch 3200 with test_accuracy 0.686\n",
            "epoch 3300 with test_accuracy 0.6881\n",
            "epoch 3400 with test_accuracy 0.6899\n",
            "epoch 3500 with test_accuracy 0.6914\n",
            "epoch 3600 with test_accuracy 0.6929\n",
            "epoch 3700 with test_accuracy 0.6944\n",
            "epoch 3800 with test_accuracy 0.6963\n",
            "epoch 3900 with test_accuracy 0.6972\n",
            "epoch 4000 with test_accuracy 0.6994\n",
            "epoch 4100 with test_accuracy 0.7008\n",
            "epoch 4200 with test_accuracy 0.7027\n",
            "epoch 4300 with test_accuracy 0.7041\n",
            "epoch 4400 with test_accuracy 0.7056\n",
            "epoch 4500 with test_accuracy 0.707\n",
            "epoch 4600 with test_accuracy 0.7082\n",
            "epoch 4700 with test_accuracy 0.709\n",
            "epoch 4800 with test_accuracy 0.7105\n",
            "epoch 4900 with test_accuracy 0.7127\n",
            "epoch 5000 with test_accuracy 0.7136\n",
            "epoch 5100 with test_accuracy 0.7146\n",
            "epoch 5200 with test_accuracy 0.7158\n",
            "epoch 5300 with test_accuracy 0.7169\n",
            "epoch 5400 with test_accuracy 0.718\n",
            "epoch 5500 with test_accuracy 0.7194\n",
            "epoch 5600 with test_accuracy 0.7203\n",
            "epoch 5700 with test_accuracy 0.7208\n",
            "epoch 5800 with test_accuracy 0.7219\n",
            "epoch 5900 with test_accuracy 0.7227\n",
            "epoch 6000 with test_accuracy 0.7239\n",
            "epoch 6100 with test_accuracy 0.7241\n",
            "epoch 6200 with test_accuracy 0.7248\n",
            "epoch 6300 with test_accuracy 0.7252\n",
            "epoch 6400 with test_accuracy 0.7256\n",
            "epoch 6500 with test_accuracy 0.7268\n",
            "epoch 6600 with test_accuracy 0.7276\n",
            "epoch 6700 with test_accuracy 0.7281\n",
            "epoch 6800 with test_accuracy 0.7287\n",
            "epoch 6900 with test_accuracy 0.7292\n",
            "epoch 7000 with test_accuracy 0.7302\n",
            "epoch 7100 with test_accuracy 0.7311\n",
            "epoch 7200 with test_accuracy 0.7319\n",
            "epoch 7300 with test_accuracy 0.7327\n",
            "epoch 7400 with test_accuracy 0.7331\n",
            "epoch 7500 with test_accuracy 0.7337\n",
            "epoch 7600 with test_accuracy 0.735\n",
            "epoch 7700 with test_accuracy 0.7358\n",
            "epoch 7800 with test_accuracy 0.7362\n",
            "epoch 7900 with test_accuracy 0.737\n",
            "epoch 8000 with test_accuracy 0.738\n",
            "epoch 8100 with test_accuracy 0.7387\n",
            "epoch 8200 with test_accuracy 0.7395\n",
            "epoch 8300 with test_accuracy 0.7398\n",
            "epoch 8400 with test_accuracy 0.7403\n",
            "epoch 8500 with test_accuracy 0.7406\n",
            "epoch 8600 with test_accuracy 0.741\n",
            "epoch 8700 with test_accuracy 0.7419\n",
            "epoch 8800 with test_accuracy 0.743\n",
            "epoch 8900 with test_accuracy 0.7435\n",
            "epoch 9000 with test_accuracy 0.7439\n",
            "epoch 9100 with test_accuracy 0.7442\n",
            "epoch 9200 with test_accuracy 0.7447\n",
            "epoch 9300 with test_accuracy 0.7451\n",
            "epoch 9400 with test_accuracy 0.7454\n",
            "epoch 9500 with test_accuracy 0.7461\n",
            "epoch 9600 with test_accuracy 0.7466\n",
            "epoch 9700 with test_accuracy 0.7468\n",
            "epoch 9800 with test_accuracy 0.7477\n",
            "epoch 9900 with test_accuracy 0.7482\n"
          ],
          "name": "stdout"
        }
      ]
    },
    {
      "cell_type": "code",
      "metadata": {
        "id": "zbO0nUXzQbgm"
      },
      "source": [
        ""
      ],
      "execution_count": null,
      "outputs": []
    }
  ]
}