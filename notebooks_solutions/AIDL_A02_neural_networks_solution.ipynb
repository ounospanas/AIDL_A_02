{
  "nbformat": 4,
  "nbformat_minor": 0,
  "metadata": {
    "colab": {
      "name": "AIDL_A02_neural_networks_solution.ipynb",
      "provenance": [],
      "collapsed_sections": [],
      "include_colab_link": true
    },
    "kernelspec": {
      "display_name": "Python 3",
      "language": "python",
      "name": "python3"
    },
    "language_info": {
      "codemirror_mode": {
        "name": "ipython",
        "version": 3
      },
      "file_extension": ".py",
      "mimetype": "text/x-python",
      "name": "python",
      "nbconvert_exporter": "python",
      "pygments_lexer": "ipython3",
      "version": "3.8.5"
    },
    "accelerator": "GPU"
  },
  "cells": [
    {
      "cell_type": "markdown",
      "metadata": {
        "id": "view-in-github",
        "colab_type": "text"
      },
      "source": [
        "<a href=\"https://colab.research.google.com/github/ounospanas/AIDL_A_02/blob/main/notebooks_solutions/AIDL_A02_neural_networks_solution.ipynb\" target=\"_parent\"><img src=\"https://colab.research.google.com/assets/colab-badge.svg\" alt=\"Open In Colab\"/></a>"
      ]
    },
    {
      "cell_type": "code",
      "metadata": {
        "id": "j25rklnwD1-m"
      },
      "source": [
        "import numpy as np\n",
        "import matplotlib.pyplot as plt\n",
        "%matplotlib inline"
      ],
      "execution_count": 1,
      "outputs": []
    },
    {
      "cell_type": "code",
      "metadata": {
        "colab": {
          "base_uri": "https://localhost:8080/"
        },
        "id": "JenmhPusFZ06",
        "outputId": "d0fa132d-04d3-4eb2-825c-9c38374fe170"
      },
      "source": [
        "#load dataset\n",
        "import tensorflow as tf\n",
        "(x_train, y_train), (x_test, y_test) = tf.keras.datasets.fashion_mnist.load_data()"
      ],
      "execution_count": 2,
      "outputs": [
        {
          "output_type": "stream",
          "text": [
            "Downloading data from https://storage.googleapis.com/tensorflow/tf-keras-datasets/train-labels-idx1-ubyte.gz\n",
            "32768/29515 [=================================] - 0s 0us/step\n",
            "Downloading data from https://storage.googleapis.com/tensorflow/tf-keras-datasets/train-images-idx3-ubyte.gz\n",
            "26427392/26421880 [==============================] - 0s 0us/step\n",
            "Downloading data from https://storage.googleapis.com/tensorflow/tf-keras-datasets/t10k-labels-idx1-ubyte.gz\n",
            "8192/5148 [===============================================] - 0s 0us/step\n",
            "Downloading data from https://storage.googleapis.com/tensorflow/tf-keras-datasets/t10k-images-idx3-ubyte.gz\n",
            "4423680/4422102 [==============================] - 0s 0us/step\n"
          ],
          "name": "stdout"
        }
      ]
    },
    {
      "cell_type": "code",
      "metadata": {
        "colab": {
          "base_uri": "https://localhost:8080/",
          "height": 272
        },
        "id": "V7uVONPjF1PP",
        "outputId": "8cc51788-bf14-4831-d329-f5d4c1483804"
      },
      "source": [
        "#visualize some data\n",
        "classes = ['T-shirt/top', 'Trouser', 'Pullover', 'Dress', 'Coat', 'Sandal', 'Shirt', 'Sneaker', 'Bag', 'Ankle boot']\n",
        "selected = [0,1,3,5,6,8,16,18,19,23]\n",
        "plt.figure(figsize=(11, 11))\n",
        "for i, s in enumerate(selected):\n",
        "    plt.subplot(5,5,i+1)\n",
        "    plt.xticks([])\n",
        "    plt.yticks([])\n",
        "    #img = plt.imread(x_train[s])\n",
        "    plt.imshow(x_train[s], cmap='gray')\n",
        "    plt.xlabel(classes[y_train[s]],)"
      ],
      "execution_count": 3,
      "outputs": [
        {
          "output_type": "display_data",
          "data": {
            "image/png": "[encoded data removed]",
            "text/plain": [
              "<Figure size 792x792 with 10 Axes>"
            ]
          },
          "metadata": {
            "tags": []
          }
        }
      ]
    },
    {
      "cell_type": "code",
      "metadata": {
        "id": "I8NenH6QEPlH"
      },
      "source": [
        "# normalize data\n",
        "x_train = x_train.reshape(x_train.shape[0],-1)/255\n",
        "x_test = x_test.reshape(x_test.shape[0],-1)/255"
      ],
      "execution_count": 4,
      "outputs": []
    },
    {
      "cell_type": "markdown",
      "metadata": {
        "id": "5zD2QsqukISO"
      },
      "source": [
        "# Binary Classification"
      ]
    },
    {
      "cell_type": "code",
      "metadata": {
        "id": "CWtYiD_eEJsq"
      },
      "source": [
        "# select only t-shirts and ankle boots\n",
        "shirt_train = np.where(y_train==0)\n",
        "dress_train = np.where(y_train==3)\n",
        "\n",
        "shirt_test = np.where(y_test==0)\n",
        "dress_test = np.where(y_test==3)"
      ],
      "execution_count": 5,
      "outputs": []
    },
    {
      "cell_type": "code",
      "metadata": {
        "id": "ugGWzBtFJA_1"
      },
      "source": [
        "# concatenate them\n",
        "x_train_s = x_train[shirt_train]\n",
        "y_train_s = y_train[shirt_train]\n",
        "\n",
        "x_test_s = x_test[shirt_test]\n",
        "y_test_s = y_test[shirt_test]\n",
        "\n",
        "x_train_d = x_train[dress_train]\n",
        "y_train_d = y_train[dress_train]\n",
        "\n",
        "x_test_d = x_test[dress_test]\n",
        "y_test_d = y_test[dress_test]\n",
        "\n",
        "x_train_binary = np.concatenate([x_train_s, x_train_d])\n",
        "x_test_binary = np.concatenate([x_test_s, x_test_d])\n",
        "\n",
        "y_train_binary = np.concatenate([y_train_s, np.ones_like(y_train_d)])\n",
        "y_test_binary = np.concatenate([y_test_s, np.ones_like(y_test_d)])"
      ],
      "execution_count": 6,
      "outputs": []
    },
    {
      "cell_type": "markdown",
      "metadata": {
        "id": "NDtVPYLzMAIL"
      },
      "source": [
        "# Neural Network (Custom)"
      ]
    },
    {
      "cell_type": "markdown",
      "metadata": {
        "id": "lW49UROyzfn-"
      },
      "source": [
        "Compute the sigmoid function:\n",
        "$sigmoid( w^T x + b) = \\frac{1}{1 + e^{-(w^T x + b)}}$ "
      ]
    },
    {
      "cell_type": "code",
      "metadata": {
        "id": "rYBih-MhImZZ"
      },
      "source": [
        "def sigmoid(z):\n",
        "    \"\"\"\n",
        "    Compute sigmoid function.\n",
        "    z : the product theta.T * x + b\n",
        "    Returns\n",
        "    -------\n",
        "    g : The sigmoid function.\n",
        "    \"\"\"\n",
        "    # TO DO (Hint, check np.exp)\n",
        "    a = 1./(1+np.exp(-z))\n",
        "    # ======\n",
        "    return a"
      ],
      "execution_count": 7,
      "outputs": []
    },
    {
      "cell_type": "markdown",
      "metadata": {
        "id": "-0wm-R3JFEvH"
      },
      "source": [
        "$a = ReLU(z) = max(z,0)$"
      ]
    },
    {
      "cell_type": "code",
      "metadata": {
        "id": "m3w8lOkkExcO"
      },
      "source": [
        "def relu(z):\n",
        "    \"\"\"\n",
        "    Compute relu function.\n",
        "    z : the product theta.T * x + b\n",
        "    Returns\n",
        "    -------\n",
        "    a : The relu function.\n",
        "    \"\"\"\n",
        "    # TO DO (Hint, check np.maximum)\n",
        "    a = np.maximum(z,0)\n",
        "    # ======\n",
        "    return a"
      ],
      "execution_count": 8,
      "outputs": []
    },
    {
      "cell_type": "code",
      "metadata": {
        "id": "_iElu6cUL-aZ"
      },
      "source": [
        "# check relu function\n",
        "assert relu(-1) == 0\n",
        "assert relu(2) == 2"
      ],
      "execution_count": 9,
      "outputs": []
    },
    {
      "cell_type": "code",
      "metadata": {
        "id": "X0CIw-A92vsz"
      },
      "source": [
        "def init_params(n_in, n_out):\n",
        "\n",
        "    # set random seed to 0\n",
        "    # Hint, check np.random.uniform\n",
        "    np.random.seed(0)\n",
        "    # init random params and multiply it with 0.1\n",
        "    w = np.random.randn(n_in, n_out)*0.01\n",
        "    b = np.random.randn(n_out)*0.01\n",
        "    return w, b"
      ],
      "execution_count": 10,
      "outputs": []
    },
    {
      "cell_type": "code",
      "metadata": {
        "colab": {
          "base_uri": "https://localhost:8080/"
        },
        "id": "RyflAZhrXLu_",
        "outputId": "4e1f6739-c007-45e3-ecc1-1e33af609736"
      },
      "source": [
        "# check init params\n",
        "w, b  = init_params(2,3)\n",
        "print(np.round(w,4) == np.array([[ 0.0176,  0.004 ,  0.0098],[ 0.0224,  0.0187, -0.0098]]))\n",
        "print(np.round(b,4) == np.array([0.0095, -0.0015, -0.001]))"
      ],
      "execution_count": 11,
      "outputs": [
        {
          "output_type": "stream",
          "text": [
            "[[ True  True  True]\n",
            " [ True  True  True]]\n",
            "[ True  True  True]\n"
          ],
          "name": "stdout"
        }
      ]
    },
    {
      "cell_type": "markdown",
      "metadata": {
        "id": "9_M6bkSI46hd"
      },
      "source": [
        "Calculate the cost function: $J = -\\frac{1}{m}\\sum_{i=1}^{m}y^{(i)}\\log(a^{(i)})+(1-y^{(i)})\\log(1-a^{(i)})$"
      ]
    },
    {
      "cell_type": "code",
      "metadata": {
        "id": "kdAJJ67d4gmD"
      },
      "source": [
        "def costFunction(y, m, a):\n",
        "    \"\"\"\n",
        "    Computes cost for linear regression. \n",
        "    X : feature vector, shape (m x n+1)\n",
        "    y : labels (i.e., dog or cat), shape (m, )\n",
        "    w : parameters for the linear regression, shape (n+1, )\n",
        "    m: data legth\n",
        "\n",
        "    returns\n",
        "    -------\n",
        "    J : value of cost function.\n",
        "    \"\"\"\n",
        " \n",
        "    J = -1/m * np.sum(y*np.log(a) + (1-y)*np.log(1-a))\n",
        "\n",
        "  \n",
        "    return J"
      ],
      "execution_count": 12,
      "outputs": []
    },
    {
      "cell_type": "code",
      "metadata": {
        "id": "EcKNlaT8XZuG"
      },
      "source": [
        "#forward pass\n",
        "def forward(X, w, b, activation = 'relu'):\n",
        "    z = np.dot(X,w) + b\n",
        "    if activation=='relu':\n",
        "        a = relu(z)\n",
        "    else:\n",
        "        a = sigmoid(z)\n",
        "    return a"
      ],
      "execution_count": 13,
      "outputs": []
    },
    {
      "cell_type": "code",
      "metadata": {
        "colab": {
          "base_uri": "https://localhost:8080/"
        },
        "id": "AivWfcIMY5ib",
        "outputId": "cf254dea-a442-448d-de73-0591727c9e0b"
      },
      "source": [
        "w, b  = init_params(2,3)\n",
        "forward(np.asarray([[1,2],[3,4]]), w, b, 'relu')[0].shape"
      ],
      "execution_count": 14,
      "outputs": [
        {
          "output_type": "execute_result",
          "data": {
            "text/plain": [
              "(3,)"
            ]
          },
          "metadata": {
            "tags": []
          },
          "execution_count": 14
        }
      ]
    },
    {
      "cell_type": "markdown",
      "metadata": {
        "id": "6zraP5X4zhYq"
      },
      "source": [
        "\\begin{split}ReLU'(z)= \\begin{Bmatrix}1 & z>0 \\\\ \n",
        "0 & z<0 \\end{Bmatrix}\\end{split}"
      ]
    },
    {
      "cell_type": "code",
      "metadata": {
        "id": "vOOTSR774duI"
      },
      "source": [
        "#relu gradient\n",
        "def reluBackward(z):\n",
        "    #TO DO\n",
        "    z[z<=0] = 0\n",
        "    z[z>0] = 1\n",
        "    return z"
      ],
      "execution_count": 15,
      "outputs": []
    },
    {
      "cell_type": "markdown",
      "metadata": {
        "id": "_CJK4wk_EA4t"
      },
      "source": [
        "Calculate the derivatives: $$ \\frac{\\partial J}{\\partial w} = \\frac{1}{m}X(A-Y)^T$$\n",
        "$$ \\frac{\\partial J}{\\partial b} = \\frac{1}{m} \\sum_{i=1}^m (A^{(i)}-Y^{(i)})$$"
      ]
    },
    {
      "cell_type": "code",
      "metadata": {
        "id": "WbHnEJsZX3Eu"
      },
      "source": [
        "#backpropagation\n",
        "def backward(a, dz):\n",
        "    m = len(a)\n",
        "    # TO DO \n",
        "    # dz is equal to A-Y for the final layer so you could use the above eq replacing\n",
        "    dw = np.dot(a.T, dz) / m\n",
        "    db = np.sum(dz, axis=0, keepdims=True) / m\n",
        "    \n",
        "    return dw, db"
      ],
      "execution_count": 16,
      "outputs": []
    },
    {
      "cell_type": "markdown",
      "metadata": {
        "id": "KbgF0t0pRDfX"
      },
      "source": [
        "$$ w_j := w_j - \\alpha dw_j $$\n",
        "$$ b := b - \\alpha db $$"
      ]
    },
    {
      "cell_type": "code",
      "metadata": {
        "id": "L7IbXv7rQgyt"
      },
      "source": [
        "# update parameters for optimization\n",
        "def update(w, b, dw, db):\n",
        "    w = w - learning_rate*dw\n",
        "    b = b - learning_rate*db\n",
        "    return w, b"
      ],
      "execution_count": 17,
      "outputs": []
    },
    {
      "cell_type": "code",
      "metadata": {
        "id": "wPnS1ExVDffM"
      },
      "source": [
        "#forward pass\n",
        "def dummy_neural(X, y, n_layer_1, epochs = 100):\n",
        "    parameters = {}\n",
        "    gradients = {}\n",
        "    costs = []\n",
        "\n",
        "    n_in = X.shape[1]\n",
        "    n_out = 1\n",
        "\n",
        "    # initialize network with 1 hidden layer (and 1 output of course). \n",
        "    # Layer 1 should have 200 neurons\n",
        "    w1, b1 = init_params(n_in, n_layer_1)\n",
        "    w2, b2 = init_params(n_layer_1, n_out)\n",
        "\n",
        "    parameters['w1'] = w1\n",
        "    parameters['b1'] = b1\n",
        "    parameters['w2'] = w2\n",
        "    parameters['b2'] = b2\n",
        "\n",
        "    for i in range(epochs):\n",
        "\n",
        "        #forward pass\n",
        "        a1 = forward(X, w1, b1, activation = 'relu')\n",
        "        a2 = forward(a1, w2, b2, activation = 'sigmoid')\n",
        "        \n",
        "        #cost function\n",
        "        cost = costFunction(y, len(y), a2)\n",
        "        costs.append(cost)\n",
        "\n",
        "        #backward pass\n",
        "        dz2 = a2-y\n",
        "        dw2, db2 = backward(a2, dz2)\n",
        "        dz1 = np.dot((dz2),w2.T)*reluBackward(np.dot(X,w1) + b1)\n",
        "        dw1, db1 = backward(X, dz1)\n",
        "\n",
        "        gradients['dw1'] = dw1\n",
        "        gradients['db1'] = db1\n",
        "        gradients['dw2'] = dw2\n",
        "        gradients['db2'] = db2\n",
        "\n",
        "        #update weights\n",
        "        w2, b2 = update(w2, b2, dw2, db2)\n",
        "        w1, b1 = update(w1, b1, dw1, db1)\n",
        "\n",
        "        parameters['w1'] = w1\n",
        "        parameters['b1'] = b1\n",
        "        parameters['w2'] = w2\n",
        "        parameters['b2'] = b2\n",
        "        \n",
        "        if i%10==0:\n",
        "            \n",
        "            a1t = forward(x_test_binary, w1, b1, activation = 'relu')\n",
        "            a2t = forward(a1t, w2, b2, activation = 'sigmoid')\n",
        "\n",
        "            print(\"epoch {} with cost {}\".format(i,cost))\n",
        "            print(\"train:\", np.mean(np.round(a2)==y))\n",
        "            print(\"test:\", np.mean(np.round(a2t.reshape(-1))==y_test_binary))\n",
        "\n",
        "    return parameters, a2, costs, gradients"
      ],
      "execution_count": 40,
      "outputs": []
    },
    {
      "cell_type": "code",
      "metadata": {
        "colab": {
          "base_uri": "https://localhost:8080/"
        },
        "id": "A1v9e_cjDeaa",
        "outputId": "1de4dd32-459c-44b2-8d2a-ef772cd66676"
      },
      "source": [
        "learning_rate = 0.01\n",
        "a = dummy_neural(x_train_binary, y_train_binary.reshape(-1,1), 200, 1000)"
      ],
      "execution_count": 41,
      "outputs": [
        {
          "output_type": "stream",
          "text": [
            "epoch 0 with cost 0.6935494989559511\n",
            "train: 0.5009166666666667\n",
            "test: 0.502\n",
            "epoch 10 with cost 0.6918037891857429\n",
            "train: 0.5271666666666667\n",
            "test: 0.538\n",
            "epoch 20 with cost 0.6900852232893623\n",
            "train: 0.7236666666666667\n",
            "test: 0.755\n",
            "epoch 30 with cost 0.6883951888402507\n",
            "train: 0.8506666666666667\n",
            "test: 0.857\n",
            "epoch 40 with cost 0.686713372173661\n",
            "train: 0.8755\n",
            "test: 0.8695\n",
            "epoch 50 with cost 0.6850183043057568\n",
            "train: 0.8813333333333333\n",
            "test: 0.872\n",
            "epoch 60 with cost 0.6833513462912394\n",
            "train: 0.8836666666666667\n",
            "test: 0.8755\n",
            "epoch 70 with cost 0.6817232306826858\n",
            "train: 0.885\n",
            "test: 0.8775\n",
            "epoch 80 with cost 0.6801180129542262\n",
            "train: 0.8845833333333334\n",
            "test: 0.878\n",
            "epoch 90 with cost 0.6785244507486465\n",
            "train: 0.8850833333333333\n",
            "test: 0.8795\n",
            "epoch 100 with cost 0.6769337167927291\n",
            "train: 0.8856666666666667\n",
            "test: 0.877\n",
            "epoch 110 with cost 0.6753378746183176\n",
            "train: 0.8856666666666667\n",
            "test: 0.88\n",
            "epoch 120 with cost 0.6737277741453905\n",
            "train: 0.88375\n",
            "test: 0.882\n",
            "epoch 130 with cost 0.6720953937627643\n",
            "train: 0.8819166666666667\n",
            "test: 0.8795\n",
            "epoch 140 with cost 0.6704310616107914\n",
            "train: 0.8806666666666667\n",
            "test: 0.878\n",
            "epoch 150 with cost 0.668734874880345\n",
            "train: 0.8784166666666666\n",
            "test: 0.8775\n",
            "epoch 160 with cost 0.6670161048181308\n",
            "train: 0.8765\n",
            "test: 0.876\n",
            "epoch 170 with cost 0.6652831561642921\n",
            "train: 0.8745\n",
            "test: 0.873\n",
            "epoch 180 with cost 0.6635367457199026\n",
            "train: 0.8721666666666666\n",
            "test: 0.8735\n",
            "epoch 190 with cost 0.6617727970952005\n",
            "train: 0.871\n",
            "test: 0.8705\n",
            "epoch 200 with cost 0.6599910462884405\n",
            "train: 0.8706666666666667\n",
            "test: 0.87\n",
            "epoch 210 with cost 0.6581910576060066\n",
            "train: 0.869\n",
            "test: 0.87\n",
            "epoch 220 with cost 0.6563738984774907\n",
            "train: 0.8676666666666667\n",
            "test: 0.8685\n",
            "epoch 230 with cost 0.6545390053602127\n",
            "train: 0.8665\n",
            "test: 0.8655\n",
            "epoch 240 with cost 0.6526824960958013\n",
            "train: 0.8656666666666667\n",
            "test: 0.864\n",
            "epoch 250 with cost 0.650801781336703\n",
            "train: 0.8650833333333333\n",
            "test: 0.8625\n",
            "epoch 260 with cost 0.6488978683554636\n",
            "train: 0.8643333333333333\n",
            "test: 0.8605\n",
            "epoch 270 with cost 0.6469899594670512\n",
            "train: 0.8641666666666666\n",
            "test: 0.86\n",
            "epoch 280 with cost 0.6450914995304544\n",
            "train: 0.8634166666666667\n",
            "test: 0.8595\n",
            "epoch 290 with cost 0.6431984055685138\n",
            "train: 0.8629166666666667\n",
            "test: 0.8585\n",
            "epoch 300 with cost 0.6413047012324369\n",
            "train: 0.86225\n",
            "test: 0.8565\n",
            "epoch 310 with cost 0.6394087641195824\n",
            "train: 0.862\n",
            "test: 0.857\n",
            "epoch 320 with cost 0.6375107259631309\n",
            "train: 0.86225\n",
            "test: 0.857\n",
            "epoch 330 with cost 0.6356106454840083\n",
            "train: 0.8623333333333333\n",
            "test: 0.857\n",
            "epoch 340 with cost 0.63370942485987\n",
            "train: 0.8621666666666666\n",
            "test: 0.8565\n",
            "epoch 350 with cost 0.6318073319000167\n",
            "train: 0.8623333333333333\n",
            "test: 0.858\n",
            "epoch 360 with cost 0.6299049576625071\n",
            "train: 0.8626666666666667\n",
            "test: 0.8585\n",
            "epoch 370 with cost 0.6280025169516685\n",
            "train: 0.8629166666666667\n",
            "test: 0.8585\n",
            "epoch 380 with cost 0.6261002126911195\n",
            "train: 0.8629166666666667\n",
            "test: 0.8585\n",
            "epoch 390 with cost 0.6241981029187744\n",
            "train: 0.8630833333333333\n",
            "test: 0.859\n",
            "epoch 400 with cost 0.622296032963867\n",
            "train: 0.8634166666666667\n",
            "test: 0.858\n",
            "epoch 410 with cost 0.6203934077829292\n",
            "train: 0.8635\n",
            "test: 0.858\n",
            "epoch 420 with cost 0.618489701394336\n",
            "train: 0.8639166666666667\n",
            "test: 0.857\n",
            "epoch 430 with cost 0.6165847531469174\n",
            "train: 0.8650833333333333\n",
            "test: 0.857\n",
            "epoch 440 with cost 0.6146780914007584\n",
            "train: 0.86525\n",
            "test: 0.858\n",
            "epoch 450 with cost 0.6127701706049996\n",
            "train: 0.8650833333333333\n",
            "test: 0.8575\n",
            "epoch 460 with cost 0.6108628467655842\n",
            "train: 0.8655\n",
            "test: 0.8585\n",
            "epoch 470 with cost 0.6089575080409639\n",
            "train: 0.86625\n",
            "test: 0.859\n",
            "epoch 480 with cost 0.6070567877450362\n",
            "train: 0.8669166666666667\n",
            "test: 0.8595\n",
            "epoch 490 with cost 0.6051619582994399\n",
            "train: 0.86675\n",
            "test: 0.8595\n",
            "epoch 500 with cost 0.6032725274889411\n",
            "train: 0.8673333333333333\n",
            "test: 0.86\n",
            "epoch 510 with cost 0.6013873580988374\n",
            "train: 0.8675833333333334\n",
            "test: 0.8605\n",
            "epoch 520 with cost 0.5995056251327647\n",
            "train: 0.8681666666666666\n",
            "test: 0.8615\n",
            "epoch 530 with cost 0.5976270070204871\n",
            "train: 0.8684166666666666\n",
            "test: 0.8615\n",
            "epoch 540 with cost 0.5957510949884319\n",
            "train: 0.8685\n",
            "test: 0.861\n",
            "epoch 550 with cost 0.5938779854513256\n",
            "train: 0.8688333333333333\n",
            "test: 0.86\n",
            "epoch 560 with cost 0.5920077035496103\n",
            "train: 0.8691666666666666\n",
            "test: 0.861\n",
            "epoch 570 with cost 0.5901401647956181\n",
            "train: 0.8700833333333333\n",
            "test: 0.862\n",
            "epoch 580 with cost 0.5882751605616132\n",
            "train: 0.8704166666666666\n",
            "test: 0.863\n",
            "epoch 590 with cost 0.5864123355006803\n",
            "train: 0.8704166666666666\n",
            "test: 0.8635\n",
            "epoch 600 with cost 0.5845515996900859\n",
            "train: 0.8711666666666666\n",
            "test: 0.864\n",
            "epoch 610 with cost 0.5826929881877935\n",
            "train: 0.8718333333333333\n",
            "test: 0.864\n",
            "epoch 620 with cost 0.5808367899919054\n",
            "train: 0.8726666666666667\n",
            "test: 0.8645\n",
            "epoch 630 with cost 0.5789831295506219\n",
            "train: 0.8734166666666666\n",
            "test: 0.865\n",
            "epoch 640 with cost 0.5771319212506338\n",
            "train: 0.87375\n",
            "test: 0.8655\n",
            "epoch 650 with cost 0.5752832595929778\n",
            "train: 0.8741666666666666\n",
            "test: 0.8655\n",
            "epoch 660 with cost 0.5734370779701704\n",
            "train: 0.87425\n",
            "test: 0.867\n",
            "epoch 670 with cost 0.571593451735841\n",
            "train: 0.8743333333333333\n",
            "test: 0.868\n",
            "epoch 680 with cost 0.5697530279045269\n",
            "train: 0.8745833333333334\n",
            "test: 0.8695\n",
            "epoch 690 with cost 0.5679161467940617\n",
            "train: 0.87475\n",
            "test: 0.8695\n",
            "epoch 700 with cost 0.5660833970848743\n",
            "train: 0.8751666666666666\n",
            "test: 0.87\n",
            "epoch 710 with cost 0.5642540450773176\n",
            "train: 0.8756666666666667\n",
            "test: 0.8715\n",
            "epoch 720 with cost 0.562428177771383\n",
            "train: 0.8763333333333333\n",
            "test: 0.8715\n",
            "epoch 730 with cost 0.5606057408674542\n",
            "train: 0.8763333333333333\n",
            "test: 0.8715\n",
            "epoch 740 with cost 0.5587865405904894\n",
            "train: 0.8765833333333334\n",
            "test: 0.871\n",
            "epoch 750 with cost 0.5569705886695873\n",
            "train: 0.87675\n",
            "test: 0.871\n",
            "epoch 760 with cost 0.5551580875423381\n",
            "train: 0.8769166666666667\n",
            "test: 0.871\n",
            "epoch 770 with cost 0.5533489972905545\n",
            "train: 0.8775\n",
            "test: 0.871\n",
            "epoch 780 with cost 0.551543686268153\n",
            "train: 0.8776666666666667\n",
            "test: 0.8705\n",
            "epoch 790 with cost 0.5497421803073237\n",
            "train: 0.8775833333333334\n",
            "test: 0.8705\n",
            "epoch 800 with cost 0.5479449252794318\n",
            "train: 0.8784166666666666\n",
            "test: 0.8715\n",
            "epoch 810 with cost 0.5461522963096478\n",
            "train: 0.8785\n",
            "test: 0.872\n",
            "epoch 820 with cost 0.5443643582190584\n",
            "train: 0.8789166666666667\n",
            "test: 0.8725\n",
            "epoch 830 with cost 0.5425808891476828\n",
            "train: 0.8789166666666667\n",
            "test: 0.873\n",
            "epoch 840 with cost 0.5408020282418117\n",
            "train: 0.8788333333333334\n",
            "test: 0.8735\n",
            "epoch 850 with cost 0.5390276310845442\n",
            "train: 0.8791666666666667\n",
            "test: 0.8735\n",
            "epoch 860 with cost 0.5372579830434956\n",
            "train: 0.8796666666666667\n",
            "test: 0.873\n",
            "epoch 870 with cost 0.5354929237322951\n",
            "train: 0.8795833333333334\n",
            "test: 0.8725\n",
            "epoch 880 with cost 0.5337325900097951\n",
            "train: 0.8794166666666666\n",
            "test: 0.873\n",
            "epoch 890 with cost 0.5319766678051423\n",
            "train: 0.8798333333333334\n",
            "test: 0.8725\n",
            "epoch 900 with cost 0.5302246283329004\n",
            "train: 0.8803333333333333\n",
            "test: 0.872\n",
            "epoch 910 with cost 0.5284759872210667\n",
            "train: 0.88\n",
            "test: 0.871\n",
            "epoch 920 with cost 0.5267304664122677\n",
            "train: 0.8799166666666667\n",
            "test: 0.871\n",
            "epoch 930 with cost 0.5249878476501291\n",
            "train: 0.88\n",
            "test: 0.8705\n",
            "epoch 940 with cost 0.5232477551568961\n",
            "train: 0.88025\n",
            "test: 0.871\n",
            "epoch 950 with cost 0.5215098945211688\n",
            "train: 0.8805\n",
            "test: 0.8715\n",
            "epoch 960 with cost 0.519774733970978\n",
            "train: 0.8810833333333333\n",
            "test: 0.8715\n",
            "epoch 970 with cost 0.5180426389883617\n",
            "train: 0.88125\n",
            "test: 0.8715\n",
            "epoch 980 with cost 0.5163142735539785\n",
            "train: 0.88125\n",
            "test: 0.8715\n",
            "epoch 990 with cost 0.5145899968593909\n",
            "train: 0.881\n",
            "test: 0.872\n"
          ],
          "name": "stdout"
        }
      ]
    },
    {
      "cell_type": "code",
      "metadata": {
        "id": "V3mztup8zhYw",
        "colab": {
          "base_uri": "https://localhost:8080/"
        },
        "outputId": "ff3121c5-de47-4dbb-fcb6-4fef139d8099"
      },
      "source": [
        "# check the test accuracy\n",
        "a1t = forward(x_test_binary, a[0]['w1'], a[0]['b1'], activation = 'relu')\n",
        "a2t = forward(a1t, a[0]['w2'], a[0]['b2'], activation = 'sigmoid')\n",
        "print(np.mean(np.round(a2t.reshape(-1))==y_test_binary))\n",
        "assert np.mean(np.round(a2t.reshape(-1))==y_test_binary) == 0.872"
      ],
      "execution_count": 21,
      "outputs": [
        {
          "output_type": "stream",
          "text": [
            "0.872\n"
          ],
          "name": "stdout"
        }
      ]
    },
    {
      "cell_type": "markdown",
      "metadata": {
        "id": "16PSfYXDoqui"
      },
      "source": [
        "# Neural Network Binary (Keras)"
      ]
    },
    {
      "cell_type": "code",
      "metadata": {
        "id": "qRAQd0oGotCA"
      },
      "source": [
        "import tensorflow as tf\n",
        "from tensorflow import keras\n",
        "from tensorflow.keras.models import Sequential\n",
        "from tensorflow.keras.layers import Dense\n",
        "import matplotlib.pyplot as plt\n",
        "%matplotlib inline"
      ],
      "execution_count": 22,
      "outputs": []
    },
    {
      "cell_type": "code",
      "metadata": {
        "id": "10ghY0rEo6CF"
      },
      "source": [
        "model = Sequential()\n",
        "model.add(Dense(200, activation=\"relu\"))\n",
        "model.add(Dense(1, activation=\"sigmoid\"))"
      ],
      "execution_count": 23,
      "outputs": []
    },
    {
      "cell_type": "code",
      "metadata": {
        "id": "xTbTkk3Fpu1X",
        "colab": {
          "base_uri": "https://localhost:8080/"
        },
        "outputId": "984631bd-816f-4e28-daad-28384761249e"
      },
      "source": [
        "batch_size = 128\n",
        "epochs = 50\n",
        "\n",
        "model.compile(loss=\"binary_crossentropy\", optimizer=\"sgd\", metrics=[\"accuracy\"])\n",
        "history = model.fit(x_train_binary, y_train_binary, batch_size=batch_size, epochs=epochs, \n",
        "          validation_data=(x_test_binary, y_test_binary))"
      ],
      "execution_count": 24,
      "outputs": [
        {
          "output_type": "stream",
          "text": [
            "Epoch 1/50\n",
            "94/94 [==============================] - 4s 7ms/step - loss: 0.4770 - accuracy: 0.8262 - val_loss: 0.3073 - val_accuracy: 0.8880\n",
            "Epoch 2/50\n",
            "94/94 [==============================] - 0s 3ms/step - loss: 0.2851 - accuracy: 0.8918 - val_loss: 0.2632 - val_accuracy: 0.8995\n",
            "Epoch 3/50\n",
            "94/94 [==============================] - 0s 3ms/step - loss: 0.2493 - accuracy: 0.9046 - val_loss: 0.2412 - val_accuracy: 0.9035\n",
            "Epoch 4/50\n",
            "94/94 [==============================] - 0s 3ms/step - loss: 0.2300 - accuracy: 0.9052 - val_loss: 0.2274 - val_accuracy: 0.9125\n",
            "Epoch 5/50\n",
            "94/94 [==============================] - 0s 3ms/step - loss: 0.2121 - accuracy: 0.9142 - val_loss: 0.2178 - val_accuracy: 0.9150\n",
            "Epoch 6/50\n",
            "94/94 [==============================] - 0s 3ms/step - loss: 0.2086 - accuracy: 0.9137 - val_loss: 0.2107 - val_accuracy: 0.9210\n",
            "Epoch 7/50\n",
            "94/94 [==============================] - 0s 3ms/step - loss: 0.1987 - accuracy: 0.9196 - val_loss: 0.2058 - val_accuracy: 0.9220\n",
            "Epoch 8/50\n",
            "94/94 [==============================] - 0s 3ms/step - loss: 0.1882 - accuracy: 0.9243 - val_loss: 0.2009 - val_accuracy: 0.9245\n",
            "Epoch 9/50\n",
            "94/94 [==============================] - 0s 3ms/step - loss: 0.1899 - accuracy: 0.9246 - val_loss: 0.1997 - val_accuracy: 0.9270\n",
            "Epoch 10/50\n",
            "94/94 [==============================] - 0s 3ms/step - loss: 0.1845 - accuracy: 0.9281 - val_loss: 0.1941 - val_accuracy: 0.9275\n",
            "Epoch 11/50\n",
            "94/94 [==============================] - 0s 3ms/step - loss: 0.1769 - accuracy: 0.9282 - val_loss: 0.1918 - val_accuracy: 0.9290\n",
            "Epoch 12/50\n",
            "94/94 [==============================] - 0s 3ms/step - loss: 0.1864 - accuracy: 0.9275 - val_loss: 0.1896 - val_accuracy: 0.9310\n",
            "Epoch 13/50\n",
            "94/94 [==============================] - 0s 3ms/step - loss: 0.1707 - accuracy: 0.9330 - val_loss: 0.1873 - val_accuracy: 0.9300\n",
            "Epoch 14/50\n",
            "94/94 [==============================] - 0s 3ms/step - loss: 0.1717 - accuracy: 0.9333 - val_loss: 0.1856 - val_accuracy: 0.9325\n",
            "Epoch 15/50\n",
            "94/94 [==============================] - 0s 3ms/step - loss: 0.1700 - accuracy: 0.9341 - val_loss: 0.1843 - val_accuracy: 0.9310\n",
            "Epoch 16/50\n",
            "94/94 [==============================] - 0s 3ms/step - loss: 0.1629 - accuracy: 0.9393 - val_loss: 0.1829 - val_accuracy: 0.9345\n",
            "Epoch 17/50\n",
            "94/94 [==============================] - 0s 3ms/step - loss: 0.1632 - accuracy: 0.9379 - val_loss: 0.1820 - val_accuracy: 0.9290\n",
            "Epoch 18/50\n",
            "94/94 [==============================] - 0s 3ms/step - loss: 0.1681 - accuracy: 0.9357 - val_loss: 0.1811 - val_accuracy: 0.9310\n",
            "Epoch 19/50\n",
            "94/94 [==============================] - 0s 3ms/step - loss: 0.1662 - accuracy: 0.9342 - val_loss: 0.1792 - val_accuracy: 0.9340\n",
            "Epoch 20/50\n",
            "94/94 [==============================] - 0s 3ms/step - loss: 0.1674 - accuracy: 0.9370 - val_loss: 0.1782 - val_accuracy: 0.9325\n",
            "Epoch 21/50\n",
            "94/94 [==============================] - 0s 3ms/step - loss: 0.1664 - accuracy: 0.9334 - val_loss: 0.1775 - val_accuracy: 0.9350\n",
            "Epoch 22/50\n",
            "94/94 [==============================] - 0s 3ms/step - loss: 0.1646 - accuracy: 0.9368 - val_loss: 0.1770 - val_accuracy: 0.9355\n",
            "Epoch 23/50\n",
            "94/94 [==============================] - 0s 3ms/step - loss: 0.1592 - accuracy: 0.9389 - val_loss: 0.1757 - val_accuracy: 0.9325\n",
            "Epoch 24/50\n",
            "94/94 [==============================] - 0s 3ms/step - loss: 0.1572 - accuracy: 0.9387 - val_loss: 0.1748 - val_accuracy: 0.9330\n",
            "Epoch 25/50\n",
            "94/94 [==============================] - 0s 3ms/step - loss: 0.1541 - accuracy: 0.9405 - val_loss: 0.1748 - val_accuracy: 0.9340\n",
            "Epoch 26/50\n",
            "94/94 [==============================] - 0s 3ms/step - loss: 0.1522 - accuracy: 0.9391 - val_loss: 0.1732 - val_accuracy: 0.9345\n",
            "Epoch 27/50\n",
            "94/94 [==============================] - 0s 3ms/step - loss: 0.1613 - accuracy: 0.9370 - val_loss: 0.1729 - val_accuracy: 0.9370\n",
            "Epoch 28/50\n",
            "94/94 [==============================] - 0s 3ms/step - loss: 0.1504 - accuracy: 0.9426 - val_loss: 0.1721 - val_accuracy: 0.9375\n",
            "Epoch 29/50\n",
            "94/94 [==============================] - 0s 3ms/step - loss: 0.1539 - accuracy: 0.9410 - val_loss: 0.1709 - val_accuracy: 0.9385\n",
            "Epoch 30/50\n",
            "94/94 [==============================] - 0s 3ms/step - loss: 0.1516 - accuracy: 0.9427 - val_loss: 0.1705 - val_accuracy: 0.9390\n",
            "Epoch 31/50\n",
            "94/94 [==============================] - 0s 3ms/step - loss: 0.1550 - accuracy: 0.9387 - val_loss: 0.1699 - val_accuracy: 0.9395\n",
            "Epoch 32/50\n",
            "94/94 [==============================] - 0s 3ms/step - loss: 0.1575 - accuracy: 0.9377 - val_loss: 0.1719 - val_accuracy: 0.9360\n",
            "Epoch 33/50\n",
            "94/94 [==============================] - 0s 3ms/step - loss: 0.1536 - accuracy: 0.9413 - val_loss: 0.1687 - val_accuracy: 0.9380\n",
            "Epoch 34/50\n",
            "94/94 [==============================] - 0s 3ms/step - loss: 0.1471 - accuracy: 0.9450 - val_loss: 0.1707 - val_accuracy: 0.9370\n",
            "Epoch 35/50\n",
            "94/94 [==============================] - 0s 3ms/step - loss: 0.1522 - accuracy: 0.9418 - val_loss: 0.1681 - val_accuracy: 0.9390\n",
            "Epoch 36/50\n",
            "94/94 [==============================] - 0s 3ms/step - loss: 0.1470 - accuracy: 0.9450 - val_loss: 0.1682 - val_accuracy: 0.9350\n",
            "Epoch 37/50\n",
            "94/94 [==============================] - 0s 3ms/step - loss: 0.1434 - accuracy: 0.9422 - val_loss: 0.1669 - val_accuracy: 0.9350\n",
            "Epoch 38/50\n",
            "94/94 [==============================] - 0s 3ms/step - loss: 0.1504 - accuracy: 0.9407 - val_loss: 0.1670 - val_accuracy: 0.9365\n",
            "Epoch 39/50\n",
            "94/94 [==============================] - 0s 3ms/step - loss: 0.1470 - accuracy: 0.9418 - val_loss: 0.1665 - val_accuracy: 0.9360\n",
            "Epoch 40/50\n",
            "94/94 [==============================] - 0s 3ms/step - loss: 0.1440 - accuracy: 0.9456 - val_loss: 0.1653 - val_accuracy: 0.9380\n",
            "Epoch 41/50\n",
            "94/94 [==============================] - 0s 3ms/step - loss: 0.1500 - accuracy: 0.9435 - val_loss: 0.1650 - val_accuracy: 0.9395\n",
            "Epoch 42/50\n",
            "94/94 [==============================] - 0s 3ms/step - loss: 0.1405 - accuracy: 0.9454 - val_loss: 0.1648 - val_accuracy: 0.9370\n",
            "Epoch 43/50\n",
            "94/94 [==============================] - 0s 3ms/step - loss: 0.1488 - accuracy: 0.9467 - val_loss: 0.1642 - val_accuracy: 0.9390\n",
            "Epoch 44/50\n",
            "94/94 [==============================] - 0s 3ms/step - loss: 0.1488 - accuracy: 0.9424 - val_loss: 0.1638 - val_accuracy: 0.9400\n",
            "Epoch 45/50\n",
            "94/94 [==============================] - 0s 3ms/step - loss: 0.1433 - accuracy: 0.9464 - val_loss: 0.1630 - val_accuracy: 0.9395\n",
            "Epoch 46/50\n",
            "94/94 [==============================] - 0s 3ms/step - loss: 0.1410 - accuracy: 0.9472 - val_loss: 0.1630 - val_accuracy: 0.9405\n",
            "Epoch 47/50\n",
            "94/94 [==============================] - 0s 3ms/step - loss: 0.1469 - accuracy: 0.9458 - val_loss: 0.1687 - val_accuracy: 0.9365\n",
            "Epoch 48/50\n",
            "94/94 [==============================] - 0s 3ms/step - loss: 0.1410 - accuracy: 0.9453 - val_loss: 0.1636 - val_accuracy: 0.9385\n",
            "Epoch 49/50\n",
            "94/94 [==============================] - 0s 3ms/step - loss: 0.1416 - accuracy: 0.9461 - val_loss: 0.1625 - val_accuracy: 0.9385\n",
            "Epoch 50/50\n",
            "94/94 [==============================] - 0s 3ms/step - loss: 0.1403 - accuracy: 0.9447 - val_loss: 0.1626 - val_accuracy: 0.9395\n"
          ],
          "name": "stdout"
        }
      ]
    },
    {
      "cell_type": "code",
      "metadata": {
        "id": "oo-bqYRxwZ3w",
        "colab": {
          "base_uri": "https://localhost:8080/",
          "height": 295
        },
        "outputId": "fbeb349b-8332-49d7-fd11-989ae488c46c"
      },
      "source": [
        "# summarize history for accuracy\n",
        "plt.plot(history.history['accuracy'])\n",
        "plt.plot(history.history['val_accuracy'])\n",
        "plt.title('model accuracy')\n",
        "plt.ylabel('accuracy')\n",
        "plt.xlabel('epoch')\n",
        "plt.legend(['train', 'test'], loc='upper left')\n",
        "plt.show()"
      ],
      "execution_count": 25,
      "outputs": [
        {
          "output_type": "display_data",
          "data": {
            "image/png": "[encoded data removed]",
            "text/plain": [
              "<Figure size 432x288 with 1 Axes>"
            ]
          },
          "metadata": {
            "tags": [],
            "needs_background": "light"
          }
        }
      ]
    },
    {
      "cell_type": "code",
      "metadata": {
        "id": "TjjliQbgwbby",
        "colab": {
          "base_uri": "https://localhost:8080/",
          "height": 295
        },
        "outputId": "7062e8a2-b0e1-4b53-ee25-c493b0e8cb12"
      },
      "source": [
        "# summarize history for loss\n",
        "plt.plot(history.history['loss'])\n",
        "plt.plot(history.history['val_loss'])\n",
        "plt.title('model loss')\n",
        "plt.ylabel('loss')\n",
        "plt.xlabel('epoch')\n",
        "plt.legend(['train', 'test'], loc='upper left')\n",
        "plt.show()"
      ],
      "execution_count": 26,
      "outputs": [
        {
          "output_type": "display_data",
          "data": {
            "image/png": "[encoded data removed]",
            "text/plain": [
              "<Figure size 432x288 with 1 Axes>"
            ]
          },
          "metadata": {
            "tags": [],
            "needs_background": "light"
          }
        }
      ]
    },
    {
      "cell_type": "markdown",
      "metadata": {
        "id": "9lBU4uykrOqH"
      },
      "source": [
        "# Neural Network Multi-class (Keras) + enable GPU!\n",
        "\n",
        "Enable GPU: Runtime->Change runtime type->Select GPU\n",
        "\n",
        "TO DO! \n",
        "Train a dense neural network using all the classes with 3 hidden layes (size $l_1$:500, $l_2$:200 and $l_3$:200) for 200 epochs.\n",
        "Hints: \n",
        "1. Change the final activation function\n",
        "2. Change the loss function\n",
        "3. Convert $y$ to one-hot matrix\n",
        "\n",
        "QUESTION: What do you notice by seeing the validation loss/accuracy and the train loss/accuracy? If not just plot the results (loss, accuracy)"
      ]
    },
    {
      "cell_type": "code",
      "metadata": {
        "id": "4pCFFOGmp2Ru",
        "colab": {
          "base_uri": "https://localhost:8080/"
        },
        "outputId": "27556b22-73a4-4bb1-ece5-26eeb9afd0c9"
      },
      "source": [
        "model = Sequential()\n",
        "model.add(Dense(500, activation=\"relu\"))\n",
        "model.add(Dense(200, activation=\"relu\"))\n",
        "model.add(Dense(200, activation=\"relu\"))\n",
        "model.add(Dense(10, activation=\"softmax\"))\n",
        "\n",
        "batch_size = 128\n",
        "epochs = 200\n",
        "\n",
        "Y_train = keras.utils.to_categorical(y_train, 10)\n",
        "Y_test = keras.utils.to_categorical(y_test, 10)\n",
        "\n",
        "\n",
        "model.compile(loss=\"categorical_crossentropy\", optimizer=\"sgd\", metrics=[\"accuracy\"])\n",
        "history = model.fit(x_train, Y_train, batch_size=batch_size, epochs=epochs, \n",
        "          validation_data=(x_test, Y_test), verbose = 2)"
      ],
      "execution_count": 27,
      "outputs": [
        {
          "output_type": "stream",
          "text": [
            "Epoch 1/200\n",
            "469/469 - 2s - loss: 1.0416 - accuracy: 0.6753 - val_loss: 0.6909 - val_accuracy: 0.7562\n",
            "Epoch 2/200\n",
            "469/469 - 1s - loss: 0.6052 - accuracy: 0.7955 - val_loss: 0.7490 - val_accuracy: 0.7410\n",
            "Epoch 3/200\n",
            "469/469 - 1s - loss: 0.5247 - accuracy: 0.8206 - val_loss: 0.5162 - val_accuracy: 0.8219\n",
            "Epoch 4/200\n",
            "469/469 - 1s - loss: 0.4865 - accuracy: 0.8312 - val_loss: 0.4989 - val_accuracy: 0.8242\n",
            "Epoch 5/200\n",
            "469/469 - 1s - loss: 0.4633 - accuracy: 0.8403 - val_loss: 0.4730 - val_accuracy: 0.8346\n",
            "Epoch 6/200\n",
            "469/469 - 1s - loss: 0.4433 - accuracy: 0.8472 - val_loss: 0.4889 - val_accuracy: 0.8261\n",
            "Epoch 7/200\n",
            "469/469 - 1s - loss: 0.4302 - accuracy: 0.8501 - val_loss: 0.4605 - val_accuracy: 0.8362\n",
            "Epoch 8/200\n",
            "469/469 - 1s - loss: 0.4193 - accuracy: 0.8544 - val_loss: 0.4538 - val_accuracy: 0.8400\n",
            "Epoch 9/200\n",
            "469/469 - 1s - loss: 0.4082 - accuracy: 0.8584 - val_loss: 0.4319 - val_accuracy: 0.8488\n",
            "Epoch 10/200\n",
            "469/469 - 1s - loss: 0.3987 - accuracy: 0.8608 - val_loss: 0.4393 - val_accuracy: 0.8412\n",
            "Epoch 11/200\n",
            "469/469 - 1s - loss: 0.3913 - accuracy: 0.8633 - val_loss: 0.4206 - val_accuracy: 0.8491\n",
            "Epoch 12/200\n",
            "469/469 - 1s - loss: 0.3840 - accuracy: 0.8663 - val_loss: 0.4365 - val_accuracy: 0.8428\n",
            "Epoch 13/200\n",
            "469/469 - 1s - loss: 0.3766 - accuracy: 0.8682 - val_loss: 0.4110 - val_accuracy: 0.8548\n",
            "Epoch 14/200\n",
            "469/469 - 1s - loss: 0.3706 - accuracy: 0.8707 - val_loss: 0.4098 - val_accuracy: 0.8530\n",
            "Epoch 15/200\n",
            "469/469 - 1s - loss: 0.3652 - accuracy: 0.8723 - val_loss: 0.3976 - val_accuracy: 0.8568\n",
            "Epoch 16/200\n",
            "469/469 - 1s - loss: 0.3594 - accuracy: 0.8741 - val_loss: 0.3948 - val_accuracy: 0.8591\n",
            "Epoch 17/200\n",
            "469/469 - 1s - loss: 0.3536 - accuracy: 0.8757 - val_loss: 0.3870 - val_accuracy: 0.8614\n",
            "Epoch 18/200\n",
            "469/469 - 1s - loss: 0.3486 - accuracy: 0.8781 - val_loss: 0.3905 - val_accuracy: 0.8615\n",
            "Epoch 19/200\n",
            "469/469 - 1s - loss: 0.3445 - accuracy: 0.8795 - val_loss: 0.3965 - val_accuracy: 0.8598\n",
            "Epoch 20/200\n",
            "469/469 - 1s - loss: 0.3391 - accuracy: 0.8801 - val_loss: 0.3840 - val_accuracy: 0.8620\n",
            "Epoch 21/200\n",
            "469/469 - 1s - loss: 0.3349 - accuracy: 0.8816 - val_loss: 0.3902 - val_accuracy: 0.8609\n",
            "Epoch 22/200\n",
            "469/469 - 1s - loss: 0.3302 - accuracy: 0.8835 - val_loss: 0.3863 - val_accuracy: 0.8641\n",
            "Epoch 23/200\n",
            "469/469 - 1s - loss: 0.3268 - accuracy: 0.8844 - val_loss: 0.3856 - val_accuracy: 0.8626\n",
            "Epoch 24/200\n",
            "469/469 - 1s - loss: 0.3230 - accuracy: 0.8858 - val_loss: 0.3963 - val_accuracy: 0.8590\n",
            "Epoch 25/200\n",
            "469/469 - 1s - loss: 0.3174 - accuracy: 0.8872 - val_loss: 0.3658 - val_accuracy: 0.8700\n",
            "Epoch 26/200\n",
            "469/469 - 1s - loss: 0.3140 - accuracy: 0.8896 - val_loss: 0.3693 - val_accuracy: 0.8684\n",
            "Epoch 27/200\n",
            "469/469 - 1s - loss: 0.3108 - accuracy: 0.8888 - val_loss: 0.3682 - val_accuracy: 0.8686\n",
            "Epoch 28/200\n",
            "469/469 - 1s - loss: 0.3078 - accuracy: 0.8914 - val_loss: 0.3845 - val_accuracy: 0.8581\n",
            "Epoch 29/200\n",
            "469/469 - 1s - loss: 0.3045 - accuracy: 0.8904 - val_loss: 0.3593 - val_accuracy: 0.8717\n",
            "Epoch 30/200\n",
            "469/469 - 1s - loss: 0.3004 - accuracy: 0.8934 - val_loss: 0.3637 - val_accuracy: 0.8730\n",
            "Epoch 31/200\n",
            "469/469 - 1s - loss: 0.2973 - accuracy: 0.8935 - val_loss: 0.3549 - val_accuracy: 0.8732\n",
            "Epoch 32/200\n",
            "469/469 - 1s - loss: 0.2936 - accuracy: 0.8953 - val_loss: 0.3922 - val_accuracy: 0.8589\n",
            "Epoch 33/200\n",
            "469/469 - 1s - loss: 0.2917 - accuracy: 0.8961 - val_loss: 0.3601 - val_accuracy: 0.8695\n",
            "Epoch 34/200\n",
            "469/469 - 1s - loss: 0.2871 - accuracy: 0.8978 - val_loss: 0.3491 - val_accuracy: 0.8760\n",
            "Epoch 35/200\n",
            "469/469 - 1s - loss: 0.2849 - accuracy: 0.8982 - val_loss: 0.3537 - val_accuracy: 0.8705\n",
            "Epoch 36/200\n",
            "469/469 - 1s - loss: 0.2817 - accuracy: 0.8990 - val_loss: 0.3455 - val_accuracy: 0.8774\n",
            "Epoch 37/200\n",
            "469/469 - 1s - loss: 0.2802 - accuracy: 0.8991 - val_loss: 0.3534 - val_accuracy: 0.8724\n",
            "Epoch 38/200\n",
            "469/469 - 1s - loss: 0.2767 - accuracy: 0.9004 - val_loss: 0.3449 - val_accuracy: 0.8775\n",
            "Epoch 39/200\n",
            "469/469 - 1s - loss: 0.2737 - accuracy: 0.9017 - val_loss: 0.3642 - val_accuracy: 0.8641\n",
            "Epoch 40/200\n",
            "469/469 - 1s - loss: 0.2699 - accuracy: 0.9021 - val_loss: 0.3426 - val_accuracy: 0.8768\n",
            "Epoch 41/200\n",
            "469/469 - 1s - loss: 0.2688 - accuracy: 0.9035 - val_loss: 0.3385 - val_accuracy: 0.8781\n",
            "Epoch 42/200\n",
            "469/469 - 1s - loss: 0.2675 - accuracy: 0.9037 - val_loss: 0.3382 - val_accuracy: 0.8794\n",
            "Epoch 43/200\n",
            "469/469 - 1s - loss: 0.2621 - accuracy: 0.9056 - val_loss: 0.3474 - val_accuracy: 0.8746\n",
            "Epoch 44/200\n",
            "469/469 - 1s - loss: 0.2587 - accuracy: 0.9073 - val_loss: 0.3425 - val_accuracy: 0.8771\n",
            "Epoch 45/200\n",
            "469/469 - 1s - loss: 0.2573 - accuracy: 0.9069 - val_loss: 0.3502 - val_accuracy: 0.8744\n",
            "Epoch 46/200\n",
            "469/469 - 1s - loss: 0.2554 - accuracy: 0.9077 - val_loss: 0.3463 - val_accuracy: 0.8736\n",
            "Epoch 47/200\n",
            "469/469 - 1s - loss: 0.2520 - accuracy: 0.9099 - val_loss: 0.3343 - val_accuracy: 0.8770\n",
            "Epoch 48/200\n",
            "469/469 - 1s - loss: 0.2505 - accuracy: 0.9102 - val_loss: 0.3553 - val_accuracy: 0.8715\n",
            "Epoch 49/200\n",
            "469/469 - 1s - loss: 0.2487 - accuracy: 0.9100 - val_loss: 0.3364 - val_accuracy: 0.8778\n",
            "Epoch 50/200\n",
            "469/469 - 1s - loss: 0.2447 - accuracy: 0.9129 - val_loss: 0.3403 - val_accuracy: 0.8786\n",
            "Epoch 51/200\n",
            "469/469 - 1s - loss: 0.2445 - accuracy: 0.9117 - val_loss: 0.3310 - val_accuracy: 0.8820\n",
            "Epoch 52/200\n",
            "469/469 - 1s - loss: 0.2403 - accuracy: 0.9150 - val_loss: 0.3295 - val_accuracy: 0.8801\n",
            "Epoch 53/200\n",
            "469/469 - 1s - loss: 0.2379 - accuracy: 0.9143 - val_loss: 0.3390 - val_accuracy: 0.8797\n",
            "Epoch 54/200\n",
            "469/469 - 1s - loss: 0.2360 - accuracy: 0.9155 - val_loss: 0.3621 - val_accuracy: 0.8693\n",
            "Epoch 55/200\n",
            "469/469 - 1s - loss: 0.2337 - accuracy: 0.9169 - val_loss: 0.3555 - val_accuracy: 0.8741\n",
            "Epoch 56/200\n",
            "469/469 - 1s - loss: 0.2310 - accuracy: 0.9171 - val_loss: 0.3280 - val_accuracy: 0.8803\n",
            "Epoch 57/200\n",
            "469/469 - 1s - loss: 0.2292 - accuracy: 0.9182 - val_loss: 0.3363 - val_accuracy: 0.8791\n",
            "Epoch 58/200\n",
            "469/469 - 1s - loss: 0.2265 - accuracy: 0.9189 - val_loss: 0.3352 - val_accuracy: 0.8797\n",
            "Epoch 59/200\n",
            "469/469 - 1s - loss: 0.2240 - accuracy: 0.9205 - val_loss: 0.3385 - val_accuracy: 0.8779\n",
            "Epoch 60/200\n",
            "469/469 - 1s - loss: 0.2225 - accuracy: 0.9204 - val_loss: 0.3379 - val_accuracy: 0.8771\n",
            "Epoch 61/200\n",
            "469/469 - 1s - loss: 0.2216 - accuracy: 0.9207 - val_loss: 0.3296 - val_accuracy: 0.8837\n",
            "Epoch 62/200\n",
            "469/469 - 1s - loss: 0.2190 - accuracy: 0.9229 - val_loss: 0.3369 - val_accuracy: 0.8819\n",
            "Epoch 63/200\n",
            "469/469 - 1s - loss: 0.2164 - accuracy: 0.9234 - val_loss: 0.3357 - val_accuracy: 0.8804\n",
            "Epoch 64/200\n",
            "469/469 - 1s - loss: 0.2145 - accuracy: 0.9237 - val_loss: 0.3375 - val_accuracy: 0.8813\n",
            "Epoch 65/200\n",
            "469/469 - 1s - loss: 0.2130 - accuracy: 0.9238 - val_loss: 0.3509 - val_accuracy: 0.8745\n",
            "Epoch 66/200\n",
            "469/469 - 1s - loss: 0.2103 - accuracy: 0.9253 - val_loss: 0.3463 - val_accuracy: 0.8779\n",
            "Epoch 67/200\n",
            "469/469 - 1s - loss: 0.2090 - accuracy: 0.9256 - val_loss: 0.3324 - val_accuracy: 0.8816\n",
            "Epoch 68/200\n",
            "469/469 - 1s - loss: 0.2066 - accuracy: 0.9261 - val_loss: 0.3461 - val_accuracy: 0.8743\n",
            "Epoch 69/200\n",
            "469/469 - 1s - loss: 0.2030 - accuracy: 0.9269 - val_loss: 0.3259 - val_accuracy: 0.8842\n",
            "Epoch 70/200\n",
            "469/469 - 1s - loss: 0.2030 - accuracy: 0.9280 - val_loss: 0.3393 - val_accuracy: 0.8821\n",
            "Epoch 71/200\n",
            "469/469 - 1s - loss: 0.2005 - accuracy: 0.9287 - val_loss: 0.3218 - val_accuracy: 0.8849\n",
            "Epoch 72/200\n",
            "469/469 - 1s - loss: 0.1992 - accuracy: 0.9288 - val_loss: 0.3178 - val_accuracy: 0.8899\n",
            "Epoch 73/200\n",
            "469/469 - 1s - loss: 0.1980 - accuracy: 0.9294 - val_loss: 0.3213 - val_accuracy: 0.8866\n",
            "Epoch 74/200\n",
            "469/469 - 1s - loss: 0.1959 - accuracy: 0.9309 - val_loss: 0.3210 - val_accuracy: 0.8875\n",
            "Epoch 75/200\n",
            "469/469 - 1s - loss: 0.1928 - accuracy: 0.9315 - val_loss: 0.3285 - val_accuracy: 0.8827\n",
            "Epoch 76/200\n",
            "469/469 - 1s - loss: 0.1906 - accuracy: 0.9322 - val_loss: 0.3241 - val_accuracy: 0.8838\n",
            "Epoch 77/200\n",
            "469/469 - 1s - loss: 0.1901 - accuracy: 0.9333 - val_loss: 0.3184 - val_accuracy: 0.8896\n",
            "Epoch 78/200\n",
            "469/469 - 1s - loss: 0.1884 - accuracy: 0.9326 - val_loss: 0.3469 - val_accuracy: 0.8803\n",
            "Epoch 79/200\n",
            "469/469 - 1s - loss: 0.1849 - accuracy: 0.9346 - val_loss: 0.3246 - val_accuracy: 0.8875\n",
            "Epoch 80/200\n",
            "469/469 - 1s - loss: 0.1836 - accuracy: 0.9354 - val_loss: 0.3391 - val_accuracy: 0.8807\n",
            "Epoch 81/200\n",
            "469/469 - 1s - loss: 0.1813 - accuracy: 0.9353 - val_loss: 0.3409 - val_accuracy: 0.8809\n",
            "Epoch 82/200\n",
            "469/469 - 1s - loss: 0.1788 - accuracy: 0.9366 - val_loss: 0.3880 - val_accuracy: 0.8689\n",
            "Epoch 83/200\n",
            "469/469 - 1s - loss: 0.1798 - accuracy: 0.9357 - val_loss: 0.3358 - val_accuracy: 0.8824\n",
            "Epoch 84/200\n",
            "469/469 - 1s - loss: 0.1769 - accuracy: 0.9376 - val_loss: 0.3430 - val_accuracy: 0.8808\n",
            "Epoch 85/200\n",
            "469/469 - 1s - loss: 0.1760 - accuracy: 0.9372 - val_loss: 0.3200 - val_accuracy: 0.8908\n",
            "Epoch 86/200\n",
            "469/469 - 1s - loss: 0.1716 - accuracy: 0.9390 - val_loss: 0.3224 - val_accuracy: 0.8876\n",
            "Epoch 87/200\n",
            "469/469 - 1s - loss: 0.1716 - accuracy: 0.9391 - val_loss: 0.3262 - val_accuracy: 0.8869\n",
            "Epoch 88/200\n",
            "469/469 - 1s - loss: 0.1686 - accuracy: 0.9402 - val_loss: 0.3256 - val_accuracy: 0.8857\n",
            "Epoch 89/200\n",
            "469/469 - 1s - loss: 0.1685 - accuracy: 0.9403 - val_loss: 0.3580 - val_accuracy: 0.8773\n",
            "Epoch 90/200\n",
            "469/469 - 1s - loss: 0.1652 - accuracy: 0.9406 - val_loss: 0.3244 - val_accuracy: 0.8876\n",
            "Epoch 91/200\n",
            "469/469 - 1s - loss: 0.1648 - accuracy: 0.9421 - val_loss: 0.3397 - val_accuracy: 0.8847\n",
            "Epoch 92/200\n",
            "469/469 - 1s - loss: 0.1633 - accuracy: 0.9425 - val_loss: 0.3503 - val_accuracy: 0.8806\n",
            "Epoch 93/200\n",
            "469/469 - 1s - loss: 0.1615 - accuracy: 0.9438 - val_loss: 0.3744 - val_accuracy: 0.8718\n",
            "Epoch 94/200\n",
            "469/469 - 1s - loss: 0.1593 - accuracy: 0.9431 - val_loss: 0.4101 - val_accuracy: 0.8575\n",
            "Epoch 95/200\n",
            "469/469 - 1s - loss: 0.1574 - accuracy: 0.9443 - val_loss: 0.3277 - val_accuracy: 0.8898\n",
            "Epoch 96/200\n",
            "469/469 - 1s - loss: 0.1576 - accuracy: 0.9441 - val_loss: 0.3204 - val_accuracy: 0.8893\n",
            "Epoch 97/200\n",
            "469/469 - 1s - loss: 0.1530 - accuracy: 0.9460 - val_loss: 0.3240 - val_accuracy: 0.8935\n",
            "Epoch 98/200\n",
            "469/469 - 1s - loss: 0.1520 - accuracy: 0.9466 - val_loss: 0.3600 - val_accuracy: 0.8804\n",
            "Epoch 99/200\n",
            "469/469 - 1s - loss: 0.1500 - accuracy: 0.9466 - val_loss: 0.3450 - val_accuracy: 0.8830\n",
            "Epoch 100/200\n",
            "469/469 - 1s - loss: 0.1510 - accuracy: 0.9469 - val_loss: 0.3442 - val_accuracy: 0.8804\n",
            "Epoch 101/200\n",
            "469/469 - 1s - loss: 0.1472 - accuracy: 0.9483 - val_loss: 0.3371 - val_accuracy: 0.8861\n",
            "Epoch 102/200\n",
            "469/469 - 1s - loss: 0.1459 - accuracy: 0.9489 - val_loss: 0.3397 - val_accuracy: 0.8852\n",
            "Epoch 103/200\n",
            "469/469 - 1s - loss: 0.1446 - accuracy: 0.9501 - val_loss: 0.3528 - val_accuracy: 0.8825\n",
            "Epoch 104/200\n",
            "469/469 - 1s - loss: 0.1431 - accuracy: 0.9496 - val_loss: 0.3395 - val_accuracy: 0.8854\n",
            "Epoch 105/200\n",
            "469/469 - 1s - loss: 0.1425 - accuracy: 0.9499 - val_loss: 0.3750 - val_accuracy: 0.8788\n",
            "Epoch 106/200\n",
            "469/469 - 1s - loss: 0.1410 - accuracy: 0.9505 - val_loss: 0.3250 - val_accuracy: 0.8938\n",
            "Epoch 107/200\n",
            "469/469 - 1s - loss: 0.1389 - accuracy: 0.9510 - val_loss: 0.3330 - val_accuracy: 0.8895\n",
            "Epoch 108/200\n",
            "469/469 - 1s - loss: 0.1382 - accuracy: 0.9514 - val_loss: 0.3562 - val_accuracy: 0.8837\n",
            "Epoch 109/200\n",
            "469/469 - 1s - loss: 0.1344 - accuracy: 0.9535 - val_loss: 0.3360 - val_accuracy: 0.8900\n",
            "Epoch 110/200\n",
            "469/469 - 1s - loss: 0.1369 - accuracy: 0.9510 - val_loss: 0.3411 - val_accuracy: 0.8866\n",
            "Epoch 111/200\n",
            "469/469 - 1s - loss: 0.1312 - accuracy: 0.9542 - val_loss: 0.4054 - val_accuracy: 0.8718\n",
            "Epoch 112/200\n",
            "469/469 - 1s - loss: 0.1326 - accuracy: 0.9534 - val_loss: 0.3578 - val_accuracy: 0.8857\n",
            "Epoch 113/200\n",
            "469/469 - 1s - loss: 0.1300 - accuracy: 0.9546 - val_loss: 0.3345 - val_accuracy: 0.8893\n",
            "Epoch 114/200\n",
            "469/469 - 1s - loss: 0.1273 - accuracy: 0.9560 - val_loss: 0.3500 - val_accuracy: 0.8866\n",
            "Epoch 115/200\n",
            "469/469 - 1s - loss: 0.1269 - accuracy: 0.9560 - val_loss: 0.3382 - val_accuracy: 0.8884\n",
            "Epoch 116/200\n",
            "469/469 - 1s - loss: 0.1259 - accuracy: 0.9561 - val_loss: 0.3336 - val_accuracy: 0.8901\n",
            "Epoch 117/200\n",
            "469/469 - 1s - loss: 0.1253 - accuracy: 0.9559 - val_loss: 0.3527 - val_accuracy: 0.8875\n",
            "Epoch 118/200\n",
            "469/469 - 1s - loss: 0.1230 - accuracy: 0.9561 - val_loss: 0.3355 - val_accuracy: 0.8928\n",
            "Epoch 119/200\n",
            "469/469 - 1s - loss: 0.1192 - accuracy: 0.9591 - val_loss: 0.3511 - val_accuracy: 0.8894\n",
            "Epoch 120/200\n",
            "469/469 - 1s - loss: 0.1226 - accuracy: 0.9571 - val_loss: 0.3446 - val_accuracy: 0.8918\n",
            "Epoch 121/200\n",
            "469/469 - 1s - loss: 0.1173 - accuracy: 0.9595 - val_loss: 0.3415 - val_accuracy: 0.8916\n",
            "Epoch 122/200\n",
            "469/469 - 1s - loss: 0.1179 - accuracy: 0.9594 - val_loss: 0.3517 - val_accuracy: 0.8940\n",
            "Epoch 123/200\n",
            "469/469 - 1s - loss: 0.1168 - accuracy: 0.9594 - val_loss: 0.3381 - val_accuracy: 0.8923\n",
            "Epoch 124/200\n",
            "469/469 - 1s - loss: 0.1166 - accuracy: 0.9596 - val_loss: 0.3453 - val_accuracy: 0.8909\n",
            "Epoch 125/200\n",
            "469/469 - 1s - loss: 0.1140 - accuracy: 0.9611 - val_loss: 0.3604 - val_accuracy: 0.8880\n",
            "Epoch 126/200\n",
            "469/469 - 1s - loss: 0.1109 - accuracy: 0.9618 - val_loss: 0.3483 - val_accuracy: 0.8879\n",
            "Epoch 127/200\n",
            "469/469 - 1s - loss: 0.1114 - accuracy: 0.9615 - val_loss: 0.3663 - val_accuracy: 0.8867\n",
            "Epoch 128/200\n",
            "469/469 - 1s - loss: 0.1097 - accuracy: 0.9626 - val_loss: 0.3432 - val_accuracy: 0.8923\n",
            "Epoch 129/200\n",
            "469/469 - 1s - loss: 0.1059 - accuracy: 0.9632 - val_loss: 0.3531 - val_accuracy: 0.8931\n",
            "Epoch 130/200\n",
            "469/469 - 1s - loss: 0.1081 - accuracy: 0.9626 - val_loss: 0.3417 - val_accuracy: 0.8937\n",
            "Epoch 131/200\n",
            "469/469 - 1s - loss: 0.1055 - accuracy: 0.9640 - val_loss: 0.3511 - val_accuracy: 0.8914\n",
            "Epoch 132/200\n",
            "469/469 - 1s - loss: 0.1056 - accuracy: 0.9640 - val_loss: 0.3644 - val_accuracy: 0.8885\n",
            "Epoch 133/200\n",
            "469/469 - 1s - loss: 0.1032 - accuracy: 0.9647 - val_loss: 0.3538 - val_accuracy: 0.8917\n",
            "Epoch 134/200\n",
            "469/469 - 1s - loss: 0.0995 - accuracy: 0.9664 - val_loss: 0.3585 - val_accuracy: 0.8894\n",
            "Epoch 135/200\n",
            "469/469 - 1s - loss: 0.1015 - accuracy: 0.9656 - val_loss: 0.3781 - val_accuracy: 0.8876\n",
            "Epoch 136/200\n",
            "469/469 - 1s - loss: 0.0992 - accuracy: 0.9660 - val_loss: 0.3505 - val_accuracy: 0.8934\n",
            "Epoch 137/200\n",
            "469/469 - 1s - loss: 0.0971 - accuracy: 0.9669 - val_loss: 0.3621 - val_accuracy: 0.8907\n",
            "Epoch 138/200\n",
            "469/469 - 1s - loss: 0.0960 - accuracy: 0.9681 - val_loss: 0.3578 - val_accuracy: 0.8886\n",
            "Epoch 139/200\n",
            "469/469 - 1s - loss: 0.0964 - accuracy: 0.9672 - val_loss: 0.3733 - val_accuracy: 0.8886\n",
            "Epoch 140/200\n",
            "469/469 - 1s - loss: 0.0954 - accuracy: 0.9677 - val_loss: 0.3595 - val_accuracy: 0.8937\n",
            "Epoch 141/200\n",
            "469/469 - 1s - loss: 0.0942 - accuracy: 0.9680 - val_loss: 0.3935 - val_accuracy: 0.8870\n",
            "Epoch 142/200\n",
            "469/469 - 1s - loss: 0.0936 - accuracy: 0.9691 - val_loss: 0.3712 - val_accuracy: 0.8897\n",
            "Epoch 143/200\n",
            "469/469 - 1s - loss: 0.0961 - accuracy: 0.9679 - val_loss: 0.3588 - val_accuracy: 0.8933\n",
            "Epoch 144/200\n",
            "469/469 - 1s - loss: 0.0886 - accuracy: 0.9702 - val_loss: 0.3802 - val_accuracy: 0.8914\n",
            "Epoch 145/200\n",
            "469/469 - 1s - loss: 0.0868 - accuracy: 0.9712 - val_loss: 0.4692 - val_accuracy: 0.8691\n",
            "Epoch 146/200\n",
            "469/469 - 1s - loss: 0.0892 - accuracy: 0.9701 - val_loss: 0.3594 - val_accuracy: 0.8952\n",
            "Epoch 147/200\n",
            "469/469 - 1s - loss: 0.0863 - accuracy: 0.9715 - val_loss: 0.3866 - val_accuracy: 0.8852\n",
            "Epoch 148/200\n",
            "469/469 - 1s - loss: 0.0833 - accuracy: 0.9720 - val_loss: 0.4160 - val_accuracy: 0.8804\n",
            "Epoch 149/200\n",
            "469/469 - 1s - loss: 0.0875 - accuracy: 0.9705 - val_loss: 0.4020 - val_accuracy: 0.8848\n",
            "Epoch 150/200\n",
            "469/469 - 1s - loss: 0.0841 - accuracy: 0.9723 - val_loss: 0.3831 - val_accuracy: 0.8913\n",
            "Epoch 151/200\n",
            "469/469 - 1s - loss: 0.0824 - accuracy: 0.9730 - val_loss: 0.4205 - val_accuracy: 0.8843\n",
            "Epoch 152/200\n",
            "469/469 - 1s - loss: 0.0808 - accuracy: 0.9726 - val_loss: 0.3852 - val_accuracy: 0.8895\n",
            "Epoch 153/200\n",
            "469/469 - 1s - loss: 0.0842 - accuracy: 0.9723 - val_loss: 0.3673 - val_accuracy: 0.8937\n",
            "Epoch 154/200\n",
            "469/469 - 1s - loss: 0.0800 - accuracy: 0.9729 - val_loss: 0.4026 - val_accuracy: 0.8881\n",
            "Epoch 155/200\n",
            "469/469 - 1s - loss: 0.0818 - accuracy: 0.9721 - val_loss: 0.4054 - val_accuracy: 0.8862\n",
            "Epoch 156/200\n",
            "469/469 - 1s - loss: 0.0808 - accuracy: 0.9734 - val_loss: 0.3726 - val_accuracy: 0.8936\n",
            "Epoch 157/200\n",
            "469/469 - 1s - loss: 0.0763 - accuracy: 0.9744 - val_loss: 0.4120 - val_accuracy: 0.8833\n",
            "Epoch 158/200\n",
            "469/469 - 1s - loss: 0.0763 - accuracy: 0.9750 - val_loss: 0.3902 - val_accuracy: 0.8877\n",
            "Epoch 159/200\n",
            "469/469 - 1s - loss: 0.0788 - accuracy: 0.9738 - val_loss: 0.4190 - val_accuracy: 0.8838\n",
            "Epoch 160/200\n",
            "469/469 - 1s - loss: 0.0753 - accuracy: 0.9749 - val_loss: 0.4223 - val_accuracy: 0.8829\n",
            "Epoch 161/200\n",
            "469/469 - 1s - loss: 0.0723 - accuracy: 0.9759 - val_loss: 0.3796 - val_accuracy: 0.8937\n",
            "Epoch 162/200\n",
            "469/469 - 1s - loss: 0.0707 - accuracy: 0.9770 - val_loss: 0.4034 - val_accuracy: 0.8879\n",
            "Epoch 163/200\n",
            "469/469 - 1s - loss: 0.0668 - accuracy: 0.9782 - val_loss: 0.3829 - val_accuracy: 0.8945\n",
            "Epoch 164/200\n",
            "469/469 - 1s - loss: 0.0701 - accuracy: 0.9776 - val_loss: 0.4356 - val_accuracy: 0.8788\n",
            "Epoch 165/200\n",
            "469/469 - 1s - loss: 0.0695 - accuracy: 0.9772 - val_loss: 0.3865 - val_accuracy: 0.8908\n",
            "Epoch 166/200\n",
            "469/469 - 1s - loss: 0.0671 - accuracy: 0.9782 - val_loss: 0.4070 - val_accuracy: 0.8922\n",
            "Epoch 167/200\n",
            "469/469 - 1s - loss: 0.0703 - accuracy: 0.9763 - val_loss: 0.4016 - val_accuracy: 0.8898\n",
            "Epoch 168/200\n",
            "469/469 - 1s - loss: 0.0678 - accuracy: 0.9784 - val_loss: 0.3992 - val_accuracy: 0.8959\n",
            "Epoch 169/200\n",
            "469/469 - 1s - loss: 0.0667 - accuracy: 0.9785 - val_loss: 0.3918 - val_accuracy: 0.8938\n",
            "Epoch 170/200\n",
            "469/469 - 1s - loss: 0.0653 - accuracy: 0.9785 - val_loss: 0.3994 - val_accuracy: 0.8926\n",
            "Epoch 171/200\n",
            "469/469 - 1s - loss: 0.0634 - accuracy: 0.9796 - val_loss: 0.3943 - val_accuracy: 0.8932\n",
            "Epoch 172/200\n",
            "469/469 - 1s - loss: 0.0646 - accuracy: 0.9789 - val_loss: 0.4075 - val_accuracy: 0.8894\n",
            "Epoch 173/200\n",
            "469/469 - 1s - loss: 0.0642 - accuracy: 0.9798 - val_loss: 0.4212 - val_accuracy: 0.8841\n",
            "Epoch 174/200\n",
            "469/469 - 1s - loss: 0.0601 - accuracy: 0.9809 - val_loss: 0.4013 - val_accuracy: 0.8930\n",
            "Epoch 175/200\n",
            "469/469 - 1s - loss: 0.0596 - accuracy: 0.9804 - val_loss: 0.3993 - val_accuracy: 0.8954\n",
            "Epoch 176/200\n",
            "469/469 - 1s - loss: 0.0557 - accuracy: 0.9826 - val_loss: 0.4083 - val_accuracy: 0.8934\n",
            "Epoch 177/200\n",
            "469/469 - 1s - loss: 0.0626 - accuracy: 0.9799 - val_loss: 0.4200 - val_accuracy: 0.8883\n",
            "Epoch 178/200\n",
            "469/469 - 1s - loss: 0.0568 - accuracy: 0.9816 - val_loss: 0.4330 - val_accuracy: 0.8829\n",
            "Epoch 179/200\n",
            "469/469 - 1s - loss: 0.0564 - accuracy: 0.9825 - val_loss: 0.4223 - val_accuracy: 0.8911\n",
            "Epoch 180/200\n",
            "469/469 - 1s - loss: 0.0591 - accuracy: 0.9816 - val_loss: 0.4098 - val_accuracy: 0.8934\n",
            "Epoch 181/200\n",
            "469/469 - 1s - loss: 0.0544 - accuracy: 0.9828 - val_loss: 0.4140 - val_accuracy: 0.8923\n",
            "Epoch 182/200\n",
            "469/469 - 1s - loss: 0.0534 - accuracy: 0.9832 - val_loss: 0.4371 - val_accuracy: 0.8931\n",
            "Epoch 183/200\n",
            "469/469 - 1s - loss: 0.0523 - accuracy: 0.9840 - val_loss: 0.4816 - val_accuracy: 0.8817\n",
            "Epoch 184/200\n",
            "469/469 - 1s - loss: 0.0537 - accuracy: 0.9833 - val_loss: 0.4171 - val_accuracy: 0.8958\n",
            "Epoch 185/200\n",
            "469/469 - 1s - loss: 0.0577 - accuracy: 0.9825 - val_loss: 0.4150 - val_accuracy: 0.8965\n",
            "Epoch 186/200\n",
            "469/469 - 1s - loss: 0.0496 - accuracy: 0.9846 - val_loss: 0.4361 - val_accuracy: 0.8904\n",
            "Epoch 187/200\n",
            "469/469 - 1s - loss: 0.0531 - accuracy: 0.9832 - val_loss: 0.4145 - val_accuracy: 0.8937\n",
            "Epoch 188/200\n",
            "469/469 - 1s - loss: 0.0499 - accuracy: 0.9855 - val_loss: 0.5235 - val_accuracy: 0.8812\n",
            "Epoch 189/200\n",
            "469/469 - 1s - loss: 0.0512 - accuracy: 0.9840 - val_loss: 0.4198 - val_accuracy: 0.8933\n",
            "Epoch 190/200\n",
            "469/469 - 1s - loss: 0.0457 - accuracy: 0.9863 - val_loss: 0.4321 - val_accuracy: 0.8917\n",
            "Epoch 191/200\n",
            "469/469 - 1s - loss: 0.0485 - accuracy: 0.9851 - val_loss: 0.4907 - val_accuracy: 0.8781\n",
            "Epoch 192/200\n",
            "469/469 - 1s - loss: 0.0502 - accuracy: 0.9849 - val_loss: 0.4328 - val_accuracy: 0.8896\n",
            "Epoch 193/200\n",
            "469/469 - 1s - loss: 0.0469 - accuracy: 0.9856 - val_loss: 0.4333 - val_accuracy: 0.8937\n",
            "Epoch 194/200\n",
            "469/469 - 1s - loss: 0.0409 - accuracy: 0.9879 - val_loss: 0.4576 - val_accuracy: 0.8843\n",
            "Epoch 195/200\n",
            "469/469 - 1s - loss: 0.0526 - accuracy: 0.9842 - val_loss: 0.4247 - val_accuracy: 0.8949\n",
            "Epoch 196/200\n",
            "469/469 - 1s - loss: 0.0415 - accuracy: 0.9876 - val_loss: 0.4416 - val_accuracy: 0.8901\n",
            "Epoch 197/200\n",
            "469/469 - 1s - loss: 0.0468 - accuracy: 0.9858 - val_loss: 0.4393 - val_accuracy: 0.8907\n",
            "Epoch 198/200\n",
            "469/469 - 1s - loss: 0.0490 - accuracy: 0.9856 - val_loss: 0.4866 - val_accuracy: 0.8875\n",
            "Epoch 199/200\n",
            "469/469 - 1s - loss: 0.0413 - accuracy: 0.9883 - val_loss: 0.4317 - val_accuracy: 0.8929\n",
            "Epoch 200/200\n",
            "469/469 - 1s - loss: 0.0389 - accuracy: 0.9888 - val_loss: 0.4534 - val_accuracy: 0.8909\n"
          ],
          "name": "stdout"
        }
      ]
    },
    {
      "cell_type": "code",
      "metadata": {
        "id": "JCyp-5WNw2Zj",
        "colab": {
          "base_uri": "https://localhost:8080/",
          "height": 295
        },
        "outputId": "c1273b03-4420-4b35-a06e-a0dd6682c2ae"
      },
      "source": [
        "# summarize history for accuracy\n",
        "plt.plot(history.history['accuracy'])\n",
        "plt.plot(history.history['val_accuracy'])\n",
        "plt.title('model accuracy')\n",
        "plt.ylabel('accuracy')\n",
        "plt.xlabel('epoch')\n",
        "plt.legend(['train', 'test'], loc='upper left')\n",
        "plt.show()"
      ],
      "execution_count": 28,
      "outputs": [
        {
          "output_type": "display_data",
          "data": {
            "image/png": "[encoded data removed]",
            "text/plain": [
              "<Figure size 432x288 with 1 Axes>"
            ]
          },
          "metadata": {
            "tags": [],
            "needs_background": "light"
          }
        }
      ]
    },
    {
      "cell_type": "code",
      "metadata": {
        "id": "IzzfpdVlw7J5",
        "colab": {
          "base_uri": "https://localhost:8080/",
          "height": 295
        },
        "outputId": "a5e548c5-bb28-45a2-ffe9-10c9e5c8ce1a"
      },
      "source": [
        "# summarize history for loss\n",
        "plt.plot(history.history['loss'])\n",
        "plt.plot(history.history['val_loss'])\n",
        "plt.title('model loss')\n",
        "plt.ylabel('loss')\n",
        "plt.xlabel('epoch')\n",
        "plt.legend(['train', 'test'], loc='upper left')\n",
        "plt.show()"
      ],
      "execution_count": 29,
      "outputs": [
        {
          "output_type": "display_data",
          "data": {
            "image/png": "[encoded data removed]",
            "text/plain": [
              "<Figure size 432x288 with 1 Axes>"
            ]
          },
          "metadata": {
            "tags": [],
            "needs_background": "light"
          }
        }
      ]
    },
    {
      "cell_type": "code",
      "metadata": {
        "id": "3Hza-hgvSNTc"
      },
      "source": [
        ""
      ],
      "execution_count": null,
      "outputs": []
    }
  ]
}