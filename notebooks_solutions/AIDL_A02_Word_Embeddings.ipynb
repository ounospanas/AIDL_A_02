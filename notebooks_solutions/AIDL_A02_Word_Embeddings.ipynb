{
  "nbformat": 4,
  "nbformat_minor": 0,
  "metadata": {
    "colab": {
      "name": "AIDL_A02_Word_Embeddings.ipynb",
      "provenance": [],
      "collapsed_sections": [],
      "include_colab_link": true
    },
    "kernelspec": {
      "display_name": "Python 3",
      "name": "python3"
    }
  },
  "cells": [
    {
      "cell_type": "markdown",
      "metadata": {
        "id": "view-in-github",
        "colab_type": "text"
      },
      "source": [
        "<a href=\"https://colab.research.google.com/github/ounospanas/AIDL_A_02/blob/main/notebooks_solutions/AIDL_A02_Word_Embeddings.ipynb\" target=\"_parent\"><img src=\"https://colab.research.google.com/assets/colab-badge.svg\" alt=\"Open In Colab\"/></a>"
      ]
    },
    {
      "cell_type": "markdown",
      "metadata": {
        "id": "C9kaKOl6L3hE"
      },
      "source": [
        "# Download IMDB reviews dataset from Kaggle"
      ]
    },
    {
      "cell_type": "markdown",
      "metadata": {
        "id": "KW3JEq2IMMCD"
      },
      "source": [
        "https://www.kaggle.com/general/74235\n",
        "\n",
        "1. Create a Kaggle account or link it with an existing one (e.g., Gmail).\n",
        "\n",
        "2. Go to your account, Scroll to API section and Click Expire API Token to remove previous tokens\n",
        "\n",
        "3. Click on Create New API Token - It will download kaggle.json file on your machine."
      ]
    },
    {
      "cell_type": "code",
      "metadata": {
        "id": "OHYu4n48MEXr"
      },
      "source": [
        "# install library\n",
        "! pip install -q kaggle"
      ],
      "execution_count": 1,
      "outputs": []
    },
    {
      "cell_type": "code",
      "metadata": {
        "id": "HzH32QNeMQfj"
      },
      "source": [
        "# import files class to upload files to colab\n",
        "from google.colab import files"
      ],
      "execution_count": 2,
      "outputs": []
    },
    {
      "cell_type": "code",
      "metadata": {
        "colab": {
          "resources": {
            "http://localhost:8080/nbextensions/google.colab/files.js": {
              "data": "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",
              "ok": true,
              "headers": [
                [
                  "content-type",
                  "application/javascript"
                ]
              ],
              "status": 200,
              "status_text": ""
            }
          },
          "base_uri": "https://localhost:8080/",
          "height": 91
        },
        "id": "SwBMBPKPMQnr",
        "outputId": "4e6663e0-9cf0-4143-b2c2-282e3b336ee8"
      },
      "source": [
        "# upload kaggle.json\n",
        "files.upload()"
      ],
      "execution_count": 3,
      "outputs": [
        {
          "output_type": "display_data",
          "data": {
            "text/html": [
              "\n",
              "     <input type=\"file\" id=\"files-d82f285c-f79a-4ed4-9405-61bd862bd0b8\" name=\"files[]\" multiple disabled\n",
              "        style=\"border:none\" />\n",
              "     <output id=\"result-d82f285c-f79a-4ed4-9405-61bd862bd0b8\">\n",
              "      Upload widget is only available when the cell has been executed in the\n",
              "      current browser session. Please rerun this cell to enable.\n",
              "      </output>\n",
              "      <script src=\"/nbextensions/google.colab/files.js\"></script> "
            ],
            "text/plain": [
              "<IPython.core.display.HTML object>"
            ]
          },
          "metadata": {
            "tags": []
          }
        },
        {
          "output_type": "stream",
          "text": [
            "Saving kaggle.json to kaggle.json\n"
          ],
          "name": "stdout"
        },
        {
          "output_type": "execute_result",
          "data": {
            "text/plain": [
              "{'kaggle.json': b'{\"username\":\"pkasnesis\",\"key\":\"d202848b9a00e8f6959f9753b8abf697\"}'}"
            ]
          },
          "metadata": {
            "tags": []
          },
          "execution_count": 3
        }
      ]
    },
    {
      "cell_type": "code",
      "metadata": {
        "id": "Xw-rHyoQMduZ"
      },
      "source": [
        "# Make directory named kaggle and copy kaggle.json file there.\n",
        "! mkdir ~/.kaggle\n",
        "! cp kaggle.json ~/.kaggle/\n",
        "! chmod 600 ~/.kaggle/kaggle.json"
      ],
      "execution_count": 4,
      "outputs": []
    },
    {
      "cell_type": "code",
      "metadata": {
        "colab": {
          "base_uri": "https://localhost:8080/"
        },
        "id": "OhSHPFKnMdxT",
        "outputId": "67b71f71-5a9b-4826-a801-9e41566e360a"
      },
      "source": [
        "# Download imdb dataset and unzip to imdb folder\n",
        "! kaggle datasets download 'lakshmi25npathi/imdb-dataset-of-50k-movie-reviews'\n",
        "! mkdir imdb\n",
        "! unzip imdb-dataset-of-50k-movie-reviews.zip  -d imdb"
      ],
      "execution_count": 5,
      "outputs": [
        {
          "output_type": "stream",
          "text": [
            "Downloading imdb-dataset-of-50k-movie-reviews.zip to /content\n",
            " 47% 12.0M/25.7M [00:00<00:00, 25.9MB/s]\n",
            "100% 25.7M/25.7M [00:00<00:00, 40.5MB/s]\n",
            "Archive:  imdb-dataset-of-50k-movie-reviews.zip\n",
            "  inflating: imdb/IMDB Dataset.csv   \n"
          ],
          "name": "stdout"
        }
      ]
    },
    {
      "cell_type": "markdown",
      "metadata": {
        "id": "iXcI3iopNHw3"
      },
      "source": [
        "# Read Data"
      ]
    },
    {
      "cell_type": "code",
      "metadata": {
        "id": "t-wNzZW2Md0W"
      },
      "source": [
        "import pandas as pd\n",
        "import numpy as np"
      ],
      "execution_count": 6,
      "outputs": []
    },
    {
      "cell_type": "code",
      "metadata": {
        "colab": {
          "base_uri": "https://localhost:8080/",
          "height": 202
        },
        "id": "rL4oYQuyNO1Q",
        "outputId": "968141c3-7d82-4447-85fb-1f8974c2e4a6"
      },
      "source": [
        "# Import Dataset\n",
        "df = pd.read_csv(\"imdb/IMDB Dataset.csv\")\n",
        "df.head()"
      ],
      "execution_count": 7,
      "outputs": [
        {
          "output_type": "execute_result",
          "data": {
            "text/html": [
              "<div>\n",
              "<style scoped>\n",
              "    .dataframe tbody tr th:only-of-type {\n",
              "        vertical-align: middle;\n",
              "    }\n",
              "\n",
              "    .dataframe tbody tr th {\n",
              "        vertical-align: top;\n",
              "    }\n",
              "\n",
              "    .dataframe thead th {\n",
              "        text-align: right;\n",
              "    }\n",
              "</style>\n",
              "<table border=\"1\" class=\"dataframe\">\n",
              "  <thead>\n",
              "    <tr style=\"text-align: right;\">\n",
              "      <th></th>\n",
              "      <th>review</th>\n",
              "      <th>sentiment</th>\n",
              "    </tr>\n",
              "  </thead>\n",
              "  <tbody>\n",
              "    <tr>\n",
              "      <th>0</th>\n",
              "      <td>One of the other reviewers has mentioned that ...</td>\n",
              "      <td>positive</td>\n",
              "    </tr>\n",
              "    <tr>\n",
              "      <th>1</th>\n",
              "      <td>A wonderful little production. &lt;br /&gt;&lt;br /&gt;The...</td>\n",
              "      <td>positive</td>\n",
              "    </tr>\n",
              "    <tr>\n",
              "      <th>2</th>\n",
              "      <td>I thought this was a wonderful way to spend ti...</td>\n",
              "      <td>positive</td>\n",
              "    </tr>\n",
              "    <tr>\n",
              "      <th>3</th>\n",
              "      <td>Basically there's a family where a little boy ...</td>\n",
              "      <td>negative</td>\n",
              "    </tr>\n",
              "    <tr>\n",
              "      <th>4</th>\n",
              "      <td>Petter Mattei's \"Love in the Time of Money\" is...</td>\n",
              "      <td>positive</td>\n",
              "    </tr>\n",
              "  </tbody>\n",
              "</table>\n",
              "</div>"
            ],
            "text/plain": [
              "                                              review sentiment\n",
              "0  One of the other reviewers has mentioned that ...  positive\n",
              "1  A wonderful little production. <br /><br />The...  positive\n",
              "2  I thought this was a wonderful way to spend ti...  positive\n",
              "3  Basically there's a family where a little boy ...  negative\n",
              "4  Petter Mattei's \"Love in the Time of Money\" is...  positive"
            ]
          },
          "metadata": {
            "tags": []
          },
          "execution_count": 7
        }
      ]
    },
    {
      "cell_type": "code",
      "metadata": {
        "colab": {
          "base_uri": "https://localhost:8080/",
          "height": 202
        },
        "id": "cc6SQ41HNg4J",
        "outputId": "db1289bf-491f-4758-fd25-9b4f7e3235cd"
      },
      "source": [
        "# Replacing text values to numerical (positive: 1, negative: 0)\n",
        "df.replace({\"positive\":1,\"negative\":0},inplace=True)\n",
        "df.head()"
      ],
      "execution_count": 8,
      "outputs": [
        {
          "output_type": "execute_result",
          "data": {
            "text/html": [
              "<div>\n",
              "<style scoped>\n",
              "    .dataframe tbody tr th:only-of-type {\n",
              "        vertical-align: middle;\n",
              "    }\n",
              "\n",
              "    .dataframe tbody tr th {\n",
              "        vertical-align: top;\n",
              "    }\n",
              "\n",
              "    .dataframe thead th {\n",
              "        text-align: right;\n",
              "    }\n",
              "</style>\n",
              "<table border=\"1\" class=\"dataframe\">\n",
              "  <thead>\n",
              "    <tr style=\"text-align: right;\">\n",
              "      <th></th>\n",
              "      <th>review</th>\n",
              "      <th>sentiment</th>\n",
              "    </tr>\n",
              "  </thead>\n",
              "  <tbody>\n",
              "    <tr>\n",
              "      <th>0</th>\n",
              "      <td>One of the other reviewers has mentioned that ...</td>\n",
              "      <td>1</td>\n",
              "    </tr>\n",
              "    <tr>\n",
              "      <th>1</th>\n",
              "      <td>A wonderful little production. &lt;br /&gt;&lt;br /&gt;The...</td>\n",
              "      <td>1</td>\n",
              "    </tr>\n",
              "    <tr>\n",
              "      <th>2</th>\n",
              "      <td>I thought this was a wonderful way to spend ti...</td>\n",
              "      <td>1</td>\n",
              "    </tr>\n",
              "    <tr>\n",
              "      <th>3</th>\n",
              "      <td>Basically there's a family where a little boy ...</td>\n",
              "      <td>0</td>\n",
              "    </tr>\n",
              "    <tr>\n",
              "      <th>4</th>\n",
              "      <td>Petter Mattei's \"Love in the Time of Money\" is...</td>\n",
              "      <td>1</td>\n",
              "    </tr>\n",
              "  </tbody>\n",
              "</table>\n",
              "</div>"
            ],
            "text/plain": [
              "                                              review  sentiment\n",
              "0  One of the other reviewers has mentioned that ...          1\n",
              "1  A wonderful little production. <br /><br />The...          1\n",
              "2  I thought this was a wonderful way to spend ti...          1\n",
              "3  Basically there's a family where a little boy ...          0\n",
              "4  Petter Mattei's \"Love in the Time of Money\" is...          1"
            ]
          },
          "metadata": {
            "tags": []
          },
          "execution_count": 8
        }
      ]
    },
    {
      "cell_type": "code",
      "metadata": {
        "id": "-iOuL1afOD_1"
      },
      "source": [
        "# split dataset\n",
        "x_train = df['review'].iloc[:25000]\n",
        "x_test = df['review'].iloc[25000:]\n",
        "y_train = df['sentiment'].iloc[:25000]\n",
        "y_test = df['sentiment'].iloc[25000:]"
      ],
      "execution_count": 9,
      "outputs": []
    },
    {
      "cell_type": "markdown",
      "metadata": {
        "id": "9kDo4AsVkam-"
      },
      "source": [
        "# Preprocess text"
      ]
    },
    {
      "cell_type": "code",
      "metadata": {
        "colab": {
          "base_uri": "https://localhost:8080/"
        },
        "id": "sRyDdQnUOgs9",
        "outputId": "a139522d-602d-422d-be60-eac92f29afc1"
      },
      "source": [
        "import re\n",
        "from collections import Counter\n",
        "import nltk\n",
        "nltk.download('stopwords')\n",
        "from nltk.corpus import stopwords\n",
        "nltk.download('punkt')\n",
        "from nltk.tokenize import word_tokenize\n",
        "print(stopwords.words('english'))\n",
        "stop_words = stopwords.words('english')"
      ],
      "execution_count": 10,
      "outputs": [
        {
          "output_type": "stream",
          "text": [
            "[nltk_data] Downloading package stopwords to /root/nltk_data...\n",
            "[nltk_data]   Unzipping corpora/stopwords.zip.\n",
            "[nltk_data] Downloading package punkt to /root/nltk_data...\n",
            "[nltk_data]   Unzipping tokenizers/punkt.zip.\n",
            "['i', 'me', 'my', 'myself', 'we', 'our', 'ours', 'ourselves', 'you', \"you're\", \"you've\", \"you'll\", \"you'd\", 'your', 'yours', 'yourself', 'yourselves', 'he', 'him', 'his', 'himself', 'she', \"she's\", 'her', 'hers', 'herself', 'it', \"it's\", 'its', 'itself', 'they', 'them', 'their', 'theirs', 'themselves', 'what', 'which', 'who', 'whom', 'this', 'that', \"that'll\", 'these', 'those', 'am', 'is', 'are', 'was', 'were', 'be', 'been', 'being', 'have', 'has', 'had', 'having', 'do', 'does', 'did', 'doing', 'a', 'an', 'the', 'and', 'but', 'if', 'or', 'because', 'as', 'until', 'while', 'of', 'at', 'by', 'for', 'with', 'about', 'against', 'between', 'into', 'through', 'during', 'before', 'after', 'above', 'below', 'to', 'from', 'up', 'down', 'in', 'out', 'on', 'off', 'over', 'under', 'again', 'further', 'then', 'once', 'here', 'there', 'when', 'where', 'why', 'how', 'all', 'any', 'both', 'each', 'few', 'more', 'most', 'other', 'some', 'such', 'no', 'nor', 'not', 'only', 'own', 'same', 'so', 'than', 'too', 'very', 's', 't', 'can', 'will', 'just', 'don', \"don't\", 'should', \"should've\", 'now', 'd', 'll', 'm', 'o', 're', 've', 'y', 'ain', 'aren', \"aren't\", 'couldn', \"couldn't\", 'didn', \"didn't\", 'doesn', \"doesn't\", 'hadn', \"hadn't\", 'hasn', \"hasn't\", 'haven', \"haven't\", 'isn', \"isn't\", 'ma', 'mightn', \"mightn't\", 'mustn', \"mustn't\", 'needn', \"needn't\", 'shan', \"shan't\", 'shouldn', \"shouldn't\", 'wasn', \"wasn't\", 'weren', \"weren't\", 'won', \"won't\", 'wouldn', \"wouldn't\"]\n"
          ],
          "name": "stdout"
        }
      ]
    },
    {
      "cell_type": "code",
      "metadata": {
        "colab": {
          "base_uri": "https://localhost:8080/"
        },
        "id": "y3zuRmTlUj2J",
        "outputId": "a9a8e1e7-b654-4944-ba15-4744bdda8a64"
      },
      "source": [
        "x_train.iloc[:10].apply(lambda x: nltk.word_tokenize(x))"
      ],
      "execution_count": 11,
      "outputs": [
        {
          "output_type": "execute_result",
          "data": {
            "text/plain": [
              "0    [One, of, the, other, reviewers, has, mentione...\n",
              "1    [A, wonderful, little, production, ., <, br, /...\n",
              "2    [I, thought, this, was, a, wonderful, way, to,...\n",
              "3    [Basically, there, 's, a, family, where, a, li...\n",
              "4    [Petter, Mattei, 's, ``, Love, in, the, Time, ...\n",
              "5    [Probably, my, all-time, favorite, movie, ,, a...\n",
              "6    [I, sure, would, like, to, see, a, resurrectio...\n",
              "7    [This, show, was, an, amazing, ,, fresh, &, in...\n",
              "8    [Encouraged, by, the, positive, comments, abou...\n",
              "9    [If, you, like, original, gut, wrenching, laug...\n",
              "Name: review, dtype: object"
            ]
          },
          "metadata": {
            "tags": []
          },
          "execution_count": 11
        }
      ]
    },
    {
      "cell_type": "code",
      "metadata": {
        "id": "-HuSFhi0Ol_9"
      },
      "source": [
        "def preprocess(text):\n",
        "    text = re.sub(r'http\\S+', 'HTTPURL', text)#<URL>\n",
        "    text = re.sub(r'<br\\s?\\/>|<br>', \"\", text) #remove <br>\n",
        "    text = nltk.word_tokenize(text.lower()) #lower case\n",
        "    text = [w for w in text if not w in stop_words]\n",
        "    text = (\" \").join(text)\n",
        "    text = re.sub(r\"([.!?])\", r\" \\1\", text)\n",
        "    text = re.sub(r\"[^a-zA-Z.!?]+\", r\" \", text)\n",
        "    text = re.sub(r\"\\s+\", r\" \", text).strip()\n",
        "    return text\n",
        "\n",
        "x_train = x_train.apply(preprocess)\n",
        "x_test = x_test.apply(preprocess)"
      ],
      "execution_count": 12,
      "outputs": []
    },
    {
      "cell_type": "code",
      "metadata": {
        "colab": {
          "base_uri": "https://localhost:8080/"
        },
        "id": "mYiU5-K0Ol8l",
        "outputId": "9d889bcc-71c2-4106-b04d-936db96bec91"
      },
      "source": [
        "x_train.head()"
      ],
      "execution_count": 13,
      "outputs": [
        {
          "output_type": "execute_result",
          "data": {
            "text/plain": [
              "0    one reviewers mentioned watching oz episode ll...\n",
              "1    wonderful little production . filming techniqu...\n",
              "2    thought wonderful way spend time hot summer we...\n",
              "3    basically s family little boy jake thinks s zo...\n",
              "4    petter mattei s love time money visually stunn...\n",
              "Name: review, dtype: object"
            ]
          },
          "metadata": {
            "tags": []
          },
          "execution_count": 13
        }
      ]
    },
    {
      "cell_type": "code",
      "metadata": {
        "id": "k3S04VkglmSf",
        "colab": {
          "base_uri": "https://localhost:8080/"
        },
        "outputId": "cb3f5a23-5c59-4f2f-8ba6-139dfd35c1e2"
      },
      "source": [
        "word_to_counts = x_train.str.split(expand=True).stack().value_counts()\n",
        "word_to_counts"
      ],
      "execution_count": 15,
      "outputs": [
        {
          "output_type": "execute_result",
          "data": {
            "text/plain": [
              ".               280407\n",
              "s                63771\n",
              "movie            44175\n",
              "film             39960\n",
              "t                33756\n",
              "                 ...  \n",
              "heino                1\n",
              "drippings            1\n",
              "freudians            1\n",
              "disjunct             1\n",
              "ragingaround         1\n",
              "Length: 79785, dtype: int64"
            ]
          },
          "metadata": {
            "tags": []
          },
          "execution_count": 15
        }
      ]
    },
    {
      "cell_type": "code",
      "metadata": {
        "id": "lAvCGrp0l7u1"
      },
      "source": [
        "most_freq_words = word_to_counts.index[:10000]"
      ],
      "execution_count": 16,
      "outputs": []
    },
    {
      "cell_type": "code",
      "metadata": {
        "id": "s5ULS6AaOl6E"
      },
      "source": [
        "word_2_index = {\"SOS\":0, \"EOS\":1, \"UNK\":2, \"PAD\":3}\n",
        "index_2_word = {0: \"SOS\", 1: \"EOS\", 2:\"UNK\", 3:\"PAD\"}\n",
        "n_words = 4"
      ],
      "execution_count": 17,
      "outputs": []
    },
    {
      "cell_type": "code",
      "metadata": {
        "id": "beDvGsPmOluK"
      },
      "source": [
        "def add_to_voc(text, word_2_index, index_2_word, most_freq_words, n_words):\n",
        "  for word in text.split(' '):\n",
        "    if word not in word_2_index:\n",
        "      if word in most_freq_words:\n",
        "        word_2_index[word] = n_words\n",
        "        index_2_word[n_words] = word\n",
        "        n_words += 1\n",
        "      else:\n",
        "        word_2_index[word] = word_2_index['UNK']\n",
        "  return word_2_index, index_2_word, n_words"
      ],
      "execution_count": 18,
      "outputs": []
    },
    {
      "cell_type": "code",
      "metadata": {
        "id": "EGRcn1f-eVKu"
      },
      "source": [
        "for i in x_train:\n",
        "  word_2_index, index_2_word, n_words = add_to_voc(i, word_2_index, index_2_word, most_freq_words,n_words)"
      ],
      "execution_count": 19,
      "outputs": []
    },
    {
      "cell_type": "code",
      "metadata": {
        "id": "smWZbDw7Q--j",
        "colab": {
          "base_uri": "https://localhost:8080/"
        },
        "outputId": "b5410079-4c5d-44ae-b407-1fea29eb60fc"
      },
      "source": [
        "word_2_index"
      ],
      "execution_count": 20,
      "outputs": [
        {
          "output_type": "execute_result",
          "data": {
            "text/plain": [
              "{'SOS': 0,\n",
              " 'EOS': 1,\n",
              " 'UNK': 2,\n",
              " 'PAD': 3,\n",
              " 'one': 4,\n",
              " 'reviewers': 5,\n",
              " 'mentioned': 6,\n",
              " 'watching': 7,\n",
              " 'oz': 8,\n",
              " 'episode': 9,\n",
              " 'll': 10,\n",
              " 'hooked': 11,\n",
              " '.': 12,\n",
              " 'right': 13,\n",
              " 'exactly': 14,\n",
              " 'happened': 15,\n",
              " 'me': 16,\n",
              " '.the': 17,\n",
              " 'first': 18,\n",
              " 'thing': 19,\n",
              " 'struck': 20,\n",
              " 'brutality': 21,\n",
              " 'unflinching': 2,\n",
              " 'scenes': 22,\n",
              " 'violence': 23,\n",
              " 'set': 24,\n",
              " 'word': 25,\n",
              " 'go': 26,\n",
              " 'trust': 27,\n",
              " 'show': 28,\n",
              " 'faint': 29,\n",
              " 'hearted': 30,\n",
              " 'timid': 2,\n",
              " 'pulls': 31,\n",
              " 'punches': 32,\n",
              " 'regards': 33,\n",
              " 'drugs': 34,\n",
              " 'sex': 35,\n",
              " 'hardcore': 36,\n",
              " 'classic': 37,\n",
              " 'use': 38,\n",
              " '.it': 39,\n",
              " 'called': 40,\n",
              " 'nickname': 2,\n",
              " 'given': 41,\n",
              " 'oswald': 2,\n",
              " 'maximum': 42,\n",
              " 'security': 43,\n",
              " 'state': 44,\n",
              " 'penitentary': 2,\n",
              " 'focuses': 45,\n",
              " 'mainly': 46,\n",
              " 'emerald': 2,\n",
              " 'city': 47,\n",
              " 'experimental': 48,\n",
              " 'section': 49,\n",
              " 'prison': 50,\n",
              " 'cells': 51,\n",
              " 'glass': 52,\n",
              " 'fronts': 2,\n",
              " 'face': 53,\n",
              " 'inwards': 2,\n",
              " 'privacy': 2,\n",
              " 'high': 54,\n",
              " 'agenda': 55,\n",
              " 'em': 56,\n",
              " 'home': 57,\n",
              " 'many': 58,\n",
              " '.aryans': 2,\n",
              " 'muslims': 59,\n",
              " 'gangstas': 2,\n",
              " 'latinos': 2,\n",
              " 'christians': 60,\n",
              " 'italians': 61,\n",
              " 'irish': 62,\n",
              " '.so': 63,\n",
              " 'scuffles': 2,\n",
              " 'death': 64,\n",
              " 'stares': 65,\n",
              " 'dodgy': 66,\n",
              " 'dealings': 2,\n",
              " 'shady': 67,\n",
              " 'agreements': 2,\n",
              " 'never': 68,\n",
              " 'far': 69,\n",
              " 'away': 70,\n",
              " '.i': 71,\n",
              " 'would': 72,\n",
              " 'say': 73,\n",
              " 'main': 74,\n",
              " 'appeal': 75,\n",
              " 'due': 76,\n",
              " 'fact': 77,\n",
              " 'goes': 78,\n",
              " 'shows': 79,\n",
              " 'n': 80,\n",
              " 't': 81,\n",
              " 'dare': 82,\n",
              " 'forget': 83,\n",
              " 'pretty': 84,\n",
              " 'pictures': 85,\n",
              " 'painted': 86,\n",
              " 'mainstream': 87,\n",
              " 'audiences': 88,\n",
              " 'charm': 89,\n",
              " 'romance': 90,\n",
              " 'mess': 91,\n",
              " 'around': 92,\n",
              " 'ever': 93,\n",
              " 'saw': 94,\n",
              " 'nasty': 95,\n",
              " 'surreal': 96,\n",
              " 'could': 97,\n",
              " 'ready': 98,\n",
              " 'watched': 99,\n",
              " 'developed': 100,\n",
              " 'taste': 101,\n",
              " 'got': 102,\n",
              " 'accustomed': 103,\n",
              " 'levels': 104,\n",
              " 'graphic': 105,\n",
              " 'injustice': 106,\n",
              " 'crooked': 107,\n",
              " 'guards': 108,\n",
              " 'sold': 109,\n",
              " 'nickel': 2,\n",
              " 'inmates': 110,\n",
              " 'kill': 111,\n",
              " 'order': 112,\n",
              " 'get': 113,\n",
              " 'well': 114,\n",
              " 'mannered': 115,\n",
              " 'middle': 116,\n",
              " 'class': 117,\n",
              " 'turned': 118,\n",
              " 'bitches': 2,\n",
              " 'lack': 119,\n",
              " 'street': 120,\n",
              " 'skills': 121,\n",
              " 'experience': 122,\n",
              " 'may': 123,\n",
              " 'become': 124,\n",
              " 'comfortable': 125,\n",
              " 'uncomfortable': 126,\n",
              " 'viewing': 127,\n",
              " '.thats': 2,\n",
              " 'touch': 128,\n",
              " 'darker': 129,\n",
              " 'side': 130,\n",
              " 'wonderful': 131,\n",
              " 'little': 132,\n",
              " 'production': 133,\n",
              " 'filming': 134,\n",
              " 'technique': 135,\n",
              " 'unassuming': 2,\n",
              " 'old': 136,\n",
              " 'time': 137,\n",
              " 'bbc': 138,\n",
              " 'fashion': 139,\n",
              " 'gives': 140,\n",
              " 'comforting': 2,\n",
              " 'sometimes': 141,\n",
              " 'discomforting': 2,\n",
              " 'sense': 142,\n",
              " 'realism': 143,\n",
              " 'entire': 144,\n",
              " 'piece': 145,\n",
              " 'actors': 146,\n",
              " 'extremely': 147,\n",
              " 'chosen': 148,\n",
              " 'michael': 149,\n",
              " 'sheen': 150,\n",
              " 'polari': 2,\n",
              " 'voices': 151,\n",
              " 'pat': 152,\n",
              " '!': 153,\n",
              " 'truly': 154,\n",
              " 'see': 155,\n",
              " 'seamless': 2,\n",
              " 'editing': 156,\n",
              " 'guided': 157,\n",
              " 'references': 158,\n",
              " 'williams': 159,\n",
              " 'diary': 160,\n",
              " 'entries': 161,\n",
              " 'worth': 162,\n",
              " 'terrificly': 2,\n",
              " 'written': 163,\n",
              " 'performed': 164,\n",
              " 'masterful': 165,\n",
              " 'great': 166,\n",
              " 'master': 167,\n",
              " 's': 168,\n",
              " 'comedy': 169,\n",
              " 'life': 170,\n",
              " 'really': 171,\n",
              " 'comes': 172,\n",
              " 'things': 173,\n",
              " 'fantasy': 174,\n",
              " 'guard': 175,\n",
              " 'rather': 176,\n",
              " 'traditional': 177,\n",
              " 'dream': 178,\n",
              " 'techniques': 179,\n",
              " 'remains': 180,\n",
              " 'solid': 181,\n",
              " 'disappears': 182,\n",
              " 'plays': 183,\n",
              " 'knowledge': 184,\n",
              " 'senses': 185,\n",
              " 'particularly': 186,\n",
              " 'concerning': 187,\n",
              " 'orton': 2,\n",
              " 'halliwell': 2,\n",
              " 'sets': 188,\n",
              " 'flat': 189,\n",
              " 'murals': 2,\n",
              " 'decorating': 2,\n",
              " 'every': 190,\n",
              " 'surface': 191,\n",
              " 'terribly': 192,\n",
              " 'done': 193,\n",
              " 'thought': 194,\n",
              " 'way': 195,\n",
              " 'spend': 196,\n",
              " 'hot': 197,\n",
              " 'summer': 198,\n",
              " 'weekend': 199,\n",
              " 'sitting': 200,\n",
              " 'air': 201,\n",
              " 'conditioned': 2,\n",
              " 'theater': 202,\n",
              " 'light': 203,\n",
              " 'plot': 204,\n",
              " 'simplistic': 205,\n",
              " 'dialogue': 206,\n",
              " 'witty': 207,\n",
              " 'characters': 208,\n",
              " 'likable': 209,\n",
              " 'even': 210,\n",
              " 'bread': 211,\n",
              " 'suspected': 212,\n",
              " 'serial': 213,\n",
              " 'killer': 214,\n",
              " 'disappointed': 215,\n",
              " 'realize': 216,\n",
              " 'match': 217,\n",
              " 'point': 218,\n",
              " 'risk': 219,\n",
              " 'addiction': 220,\n",
              " 'proof': 221,\n",
              " 'woody': 222,\n",
              " 'allen': 223,\n",
              " 'still': 224,\n",
              " 'fully': 225,\n",
              " 'control': 226,\n",
              " 'style': 227,\n",
              " 'us': 228,\n",
              " 'grown': 229,\n",
              " 'love': 230,\n",
              " '.this': 231,\n",
              " 'd': 232,\n",
              " 'laughed': 233,\n",
              " 'comedies': 234,\n",
              " 'years': 235,\n",
              " 'decade': 236,\n",
              " '?': 237,\n",
              " 've': 238,\n",
              " 'impressed': 239,\n",
              " 'scarlet': 240,\n",
              " 'johanson': 2,\n",
              " 'managed': 241,\n",
              " 'tone': 242,\n",
              " 'sexy': 243,\n",
              " 'image': 244,\n",
              " 'jumped': 245,\n",
              " 'average': 246,\n",
              " 'spirited': 247,\n",
              " 'young': 248,\n",
              " 'woman': 249,\n",
              " 'crown': 250,\n",
              " 'jewel': 251,\n",
              " 'career': 252,\n",
              " 'wittier': 2,\n",
              " 'devil': 253,\n",
              " 'wears': 254,\n",
              " 'prada': 2,\n",
              " 'interesting': 255,\n",
              " 'superman': 256,\n",
              " 'friends': 257,\n",
              " 'basically': 258,\n",
              " 'family': 259,\n",
              " 'boy': 260,\n",
              " 'jake': 261,\n",
              " 'thinks': 262,\n",
              " 'zombie': 263,\n",
              " 'closet': 264,\n",
              " 'parents': 265,\n",
              " 'fighting': 266,\n",
              " 'movie': 267,\n",
              " 'slower': 268,\n",
              " 'soap': 269,\n",
              " 'opera': 270,\n",
              " 'suddenly': 271,\n",
              " 'decides': 272,\n",
              " 'rambo': 273,\n",
              " '.ok': 274,\n",
              " 're': 275,\n",
              " 'going': 276,\n",
              " 'make': 277,\n",
              " 'film': 278,\n",
              " 'must': 279,\n",
              " 'decide': 280,\n",
              " 'thriller': 281,\n",
              " 'drama': 282,\n",
              " 'watchable': 283,\n",
              " 'divorcing': 2,\n",
              " 'arguing': 284,\n",
              " 'like': 285,\n",
              " 'real': 286,\n",
              " 'totally': 287,\n",
              " 'ruins': 288,\n",
              " 'expected': 289,\n",
              " 'boogeyman': 2,\n",
              " 'similar': 290,\n",
              " 'instead': 291,\n",
              " 'meaningless': 292,\n",
              " 'spots': 293,\n",
              " 'playing': 294,\n",
              " 'descent': 295,\n",
              " 'dialogs': 296,\n",
              " 'shots': 297,\n",
              " 'ignore': 298,\n",
              " 'petter': 2,\n",
              " 'mattei': 299,\n",
              " 'money': 300,\n",
              " 'visually': 301,\n",
              " 'stunning': 302,\n",
              " 'watch': 303,\n",
              " 'mr': 304,\n",
              " 'offers': 305,\n",
              " 'vivid': 306,\n",
              " 'portrait': 307,\n",
              " 'human': 308,\n",
              " 'relations': 309,\n",
              " 'seems': 310,\n",
              " 'telling': 311,\n",
              " 'power': 312,\n",
              " 'success': 313,\n",
              " 'people': 314,\n",
              " 'different': 315,\n",
              " 'situations': 316,\n",
              " 'encounter': 317,\n",
              " 'variation': 318,\n",
              " 'arthur': 319,\n",
              " 'schnitzler': 2,\n",
              " 'play': 320,\n",
              " 'theme': 321,\n",
              " 'director': 322,\n",
              " 'transfers': 2,\n",
              " 'action': 323,\n",
              " 'present': 324,\n",
              " 'new': 325,\n",
              " 'york': 326,\n",
              " 'meet': 327,\n",
              " 'connect': 328,\n",
              " 'connected': 329,\n",
              " 'another': 330,\n",
              " 'next': 331,\n",
              " 'person': 332,\n",
              " 'know': 333,\n",
              " 'previous': 334,\n",
              " 'contact': 335,\n",
              " 'stylishly': 2,\n",
              " 'sophisticated': 336,\n",
              " 'luxurious': 2,\n",
              " 'look': 337,\n",
              " 'taken': 338,\n",
              " 'live': 339,\n",
              " 'world': 340,\n",
              " 'habitat': 2,\n",
              " 'gets': 341,\n",
              " 'souls': 342,\n",
              " 'picture': 343,\n",
              " 'stages': 344,\n",
              " 'loneliness': 345,\n",
              " 'inhabits': 2,\n",
              " 'big': 346,\n",
              " 'best': 347,\n",
              " 'place': 348,\n",
              " 'find': 349,\n",
              " 'sincere': 350,\n",
              " 'fulfillment': 2,\n",
              " 'discerns': 2,\n",
              " 'case': 351,\n",
              " 'acting': 352,\n",
              " 'good': 353,\n",
              " 'direction': 354,\n",
              " 'steve': 355,\n",
              " 'buscemi': 2,\n",
              " 'rosario': 356,\n",
              " 'dawson': 357,\n",
              " 'carol': 358,\n",
              " 'kane': 359,\n",
              " 'imperioli': 2,\n",
              " 'adrian': 360,\n",
              " 'grenier': 2,\n",
              " 'rest': 361,\n",
              " 'talented': 362,\n",
              " 'cast': 363,\n",
              " 'come': 364,\n",
              " 'alive': 365,\n",
              " '.we': 366,\n",
              " 'wish': 367,\n",
              " 'luck': 368,\n",
              " 'await': 2,\n",
              " 'anxiously': 2,\n",
              " 'work': 369,\n",
              " 'probably': 370,\n",
              " 'all': 371,\n",
              " 'favorite': 372,\n",
              " 'story': 373,\n",
              " 'selflessness': 2,\n",
              " 'sacrifice': 374,\n",
              " 'dedication': 375,\n",
              " 'noble': 376,\n",
              " 'cause': 377,\n",
              " 'preachy': 378,\n",
              " 'boring': 379,\n",
              " 'despite': 380,\n",
              " 'seen': 381,\n",
              " 'times': 382,\n",
              " 'last': 383,\n",
              " 'paul': 384,\n",
              " 'lukas': 385,\n",
              " 'performance': 386,\n",
              " 'brings': 387,\n",
              " 'tears': 388,\n",
              " 'eyes': 389,\n",
              " 'bette': 390,\n",
              " 'davis': 391,\n",
              " 'sympathetic': 392,\n",
              " 'roles': 393,\n",
              " 'delight': 394,\n",
              " 'kids': 395,\n",
              " 'grandma': 396,\n",
              " 'says': 397,\n",
              " 'dressed': 398,\n",
              " 'up': 399,\n",
              " 'midgets': 2,\n",
              " 'children': 400,\n",
              " 'makes': 401,\n",
              " 'fun': 402,\n",
              " 'mother': 403,\n",
              " 'slow': 404,\n",
              " 'awakening': 405,\n",
              " 'happening': 406,\n",
              " 'roof': 407,\n",
              " 'believable': 408,\n",
              " 'startling': 409,\n",
              " 'dozen': 410,\n",
              " 'thumbs': 411,\n",
              " 'sure': 412,\n",
              " 'resurrection': 413,\n",
              " 'dated': 414,\n",
              " 'seahunt': 2,\n",
              " 'series': 415,\n",
              " 'tech': 416,\n",
              " 'today': 417,\n",
              " 'bring': 418,\n",
              " 'back': 419,\n",
              " 'kid': 420,\n",
              " 'excitement': 421,\n",
              " 'grew': 422,\n",
              " 'black': 423,\n",
              " 'white': 424,\n",
              " 'tv': 425,\n",
              " 'gunsmoke': 2,\n",
              " 'hero': 426,\n",
              " 'week': 427,\n",
              " '.you': 428,\n",
              " 'vote': 429,\n",
              " 'comeback': 430,\n",
              " 'sea': 431,\n",
              " 'hunt': 432,\n",
              " 'need': 433,\n",
              " 'change': 434,\n",
              " 'pace': 435,\n",
              " 'water': 436,\n",
              " 'adventure': 437,\n",
              " '.oh': 438,\n",
              " 'thank': 439,\n",
              " 'outlet': 2,\n",
              " 'view': 440,\n",
              " 'viewpoints': 2,\n",
              " 'movies': 441,\n",
              " 'ole': 2,\n",
              " 'believe': 442,\n",
              " 'wan': 443,\n",
              " 'na': 444,\n",
              " '.would': 2,\n",
              " 'nice': 445,\n",
              " 'read': 446,\n",
              " 'plus': 447,\n",
              " 'points': 448,\n",
              " '.if': 449,\n",
              " 'rhymes': 2,\n",
              " 'lines': 450,\n",
              " 'let': 451,\n",
              " 'submit': 452,\n",
              " 'leave': 453,\n",
              " 'doubt': 454,\n",
              " 'quit': 455,\n",
              " 'lets': 456,\n",
              " 'amazing': 457,\n",
              " 'fresh': 458,\n",
              " 'innovative': 459,\n",
              " 'idea': 460,\n",
              " 'aired': 461,\n",
              " 'brilliant': 462,\n",
              " 'dropped': 463,\n",
              " 'funny': 464,\n",
              " 'anymore': 465,\n",
              " 'continued': 466,\n",
              " 'decline': 467,\n",
              " 'complete': 468,\n",
              " 'waste': 469,\n",
              " 'disgraceful': 2,\n",
              " 'fallen': 470,\n",
              " 'writing': 471,\n",
              " 'painfully': 472,\n",
              " 'bad': 473,\n",
              " 'performances': 474,\n",
              " 'almost': 475,\n",
              " 'mildly': 476,\n",
              " 'entertaining': 477,\n",
              " 'respite': 2,\n",
              " 'guest': 478,\n",
              " 'hosts': 479,\n",
              " 'hard': 480,\n",
              " 'creator': 481,\n",
              " 'hand': 482,\n",
              " 'selected': 483,\n",
              " 'original': 484,\n",
              " 'also': 485,\n",
              " 'chose': 486,\n",
              " 'band': 487,\n",
              " 'hacks': 2,\n",
              " 'followed': 488,\n",
              " 'recognize': 489,\n",
              " 'brilliance': 490,\n",
              " 'fit': 491,\n",
              " 'replace': 492,\n",
              " 'mediocrity': 493,\n",
              " 'felt': 494,\n",
              " 'give': 495,\n",
              " 'stars': 496,\n",
              " 'respect': 497,\n",
              " 'made': 498,\n",
              " 'huge': 499,\n",
              " 'awful': 500,\n",
              " 'ca': 501,\n",
              " 'encouraged': 502,\n",
              " 'positive': 503,\n",
              " 'comments': 504,\n",
              " 'looking': 505,\n",
              " 'forward': 506,\n",
              " 'mistake': 507,\n",
              " 'films': 508,\n",
              " 'worst': 509,\n",
              " 'pacing': 510,\n",
              " 'storyline': 511,\n",
              " 'soundtrack': 512,\n",
              " 'song': 513,\n",
              " 'lame': 514,\n",
              " 'country': 515,\n",
              " 'tune': 516,\n",
              " 'played': 517,\n",
              " 'less': 518,\n",
              " 'four': 519,\n",
              " 'looks': 520,\n",
              " 'cheap': 521,\n",
              " 'extreme': 522,\n",
              " 'rarely': 523,\n",
              " 'happy': 524,\n",
              " 'end': 525,\n",
              " 'credits': 526,\n",
              " 'prevents': 527,\n",
              " 'giving': 528,\n",
              " 'score': 529,\n",
              " 'harvey': 530,\n",
              " 'keitel': 2,\n",
              " 'least': 531,\n",
              " 'making': 532,\n",
              " 'bit': 533,\n",
              " 'effort': 534,\n",
              " 'obsessives': 2,\n",
              " 'gut': 535,\n",
              " 'wrenching': 536,\n",
              " 'laughter': 537,\n",
              " 'hell': 538,\n",
              " 'mom': 539,\n",
              " 'liked': 540,\n",
              " 'it': 541,\n",
              " '.great': 542,\n",
              " 'camp': 543,\n",
              " 'phil': 544,\n",
              " 'alien': 545,\n",
              " 'quirky': 546,\n",
              " 'humour': 547,\n",
              " 'based': 548,\n",
              " 'oddness': 2,\n",
              " 'everything': 549,\n",
              " 'actual': 550,\n",
              " 'punchlines': 2,\n",
              " '.at': 551,\n",
              " 'odd': 552,\n",
              " 'progressed': 553,\n",
              " 'jokes': 554,\n",
              " '.its': 555,\n",
              " 'low': 556,\n",
              " 'budget': 557,\n",
              " 'thats': 558,\n",
              " 'problem': 559,\n",
              " 'eventually': 560,\n",
              " 'lost': 561,\n",
              " 'interest': 562,\n",
              " 'imagine': 563,\n",
              " 'stoner': 564,\n",
              " 'currently': 565,\n",
              " 'partaking': 2,\n",
              " '.for': 566,\n",
              " 'something': 567,\n",
              " 'better': 568,\n",
              " 'try': 569,\n",
              " 'brother': 570,\n",
              " 'planet': 571,\n",
              " 'came': 572,\n",
              " 'recall': 573,\n",
              " 'scariest': 574,\n",
              " 'scene': 575,\n",
              " 'bird': 576,\n",
              " 'eating': 577,\n",
              " 'men': 578,\n",
              " 'dangling': 2,\n",
              " 'helplessly': 2,\n",
              " 'parachutes': 2,\n",
              " 'horror': 579,\n",
              " '.as': 580,\n",
              " 'cheesy': 581,\n",
              " 'b': 582,\n",
              " 'saturday': 583,\n",
              " 'afternoons': 2,\n",
              " 'tired': 584,\n",
              " 'formula': 585,\n",
              " 'monster': 586,\n",
              " 'type': 587,\n",
              " 'usually': 588,\n",
              " 'included': 589,\n",
              " 'beautiful': 590,\n",
              " 'might': 591,\n",
              " 'daughter': 592,\n",
              " 'professor': 593,\n",
              " 'resolution': 594,\n",
              " 'died': 595,\n",
              " 'care': 596,\n",
              " 'much': 597,\n",
              " 'romantic': 598,\n",
              " 'angle': 599,\n",
              " 'year': 600,\n",
              " 'predictable': 601,\n",
              " 'plots': 602,\n",
              " 'unintentional': 603,\n",
              " 'humor': 604,\n",
              " '.but': 605,\n",
              " 'later': 606,\n",
              " 'psycho': 607,\n",
              " 'loved': 608,\n",
              " 'star': 609,\n",
              " 'janet': 610,\n",
              " 'leigh': 611,\n",
              " 'bumped': 2,\n",
              " 'early': 612,\n",
              " 'sat': 613,\n",
              " 'took': 614,\n",
              " 'notice': 615,\n",
              " 'since': 616,\n",
              " 'screenwriters': 617,\n",
              " 'scary': 618,\n",
              " 'possible': 619,\n",
              " 'worn': 620,\n",
              " 'rules': 621,\n",
              " 'im': 622,\n",
              " 'fan': 623,\n",
              " 'boll': 624,\n",
              " 'enjoyed': 625,\n",
              " 'postal': 2,\n",
              " 'maybe': 626,\n",
              " 'apparently': 627,\n",
              " 'bought': 628,\n",
              " 'rights': 629,\n",
              " 'cry': 630,\n",
              " 'long': 631,\n",
              " 'ago': 632,\n",
              " 'game': 633,\n",
              " 'finsished': 2,\n",
              " 'killing': 634,\n",
              " 'mercs': 2,\n",
              " 'infiltrating': 2,\n",
              " 'secret': 635,\n",
              " 'research': 636,\n",
              " 'labs': 2,\n",
              " 'located': 637,\n",
              " 'tropical': 2,\n",
              " 'island': 638,\n",
              " 'warned': 639,\n",
              " 'schemed': 2,\n",
              " 'together': 640,\n",
              " 'along': 641,\n",
              " 'legion': 2,\n",
              " 'schmucks': 2,\n",
              " 'feeling': 642,\n",
              " 'loneley': 2,\n",
              " 'invites': 643,\n",
              " 'three': 644,\n",
              " 'countrymen': 2,\n",
              " 'players': 645,\n",
              " 'names': 646,\n",
              " 'til': 647,\n",
              " 'schweiger': 2,\n",
              " 'udo': 2,\n",
              " 'kier': 2,\n",
              " 'ralf': 2,\n",
              " 'moeller': 2,\n",
              " '.three': 2,\n",
              " 'actually': 648,\n",
              " 'selfs': 2,\n",
              " 'biz': 2,\n",
              " 'tale': 649,\n",
              " 'jack': 650,\n",
              " 'carver': 2,\n",
              " 'yes': 651,\n",
              " 'german': 652,\n",
              " 'hail': 2,\n",
              " 'bratwurst': 2,\n",
              " 'dudes': 653,\n",
              " 'however': 654,\n",
              " 'tils': 2,\n",
              " 'badass': 2,\n",
              " 'complained': 655,\n",
              " 'staying': 656,\n",
              " 'true': 657,\n",
              " 'whole': 658,\n",
              " 'perspective': 659,\n",
              " 'looked': 660,\n",
              " 'kicking': 661,\n",
              " 'a': 662,\n",
              " 'beyond': 663,\n",
              " 'demented': 664,\n",
              " 'evil': 665,\n",
              " 'mad': 666,\n",
              " 'scientist': 667,\n",
              " 'dr': 668,\n",
              " 'krieger': 2,\n",
              " 'genetically': 2,\n",
              " 'mutated': 669,\n",
              " 'soldiers': 670,\n",
              " 'gms': 2,\n",
              " 'performing': 671,\n",
              " 'top': 672,\n",
              " 'reminds': 673,\n",
              " 'spoiler': 674,\n",
              " 'vancouver': 2,\n",
              " 'reason': 675,\n",
              " 'palm': 676,\n",
              " 'trees': 677,\n",
              " 'rich': 678,\n",
              " 'lumberjack': 2,\n",
              " 'woods': 679,\n",
              " 'gone': 680,\n",
              " 'started': 681,\n",
              " 'mehehe': 2,\n",
              " 'more': 682,\n",
              " 'stay': 683,\n",
              " 'bolls': 2,\n",
              " 'shenanigans': 2,\n",
              " 'delivers': 684,\n",
              " 'meaning': 685,\n",
              " 'suck': 686,\n",
              " '.there': 687,\n",
              " 'mentioning': 688,\n",
              " 'imply': 689,\n",
              " 'areas': 690,\n",
              " 'boat': 691,\n",
              " 'cromed': 2,\n",
              " 'albino': 2,\n",
              " 'squad': 692,\n",
              " 'enters': 693,\n",
              " 'laugh': 694,\n",
              " 'reeks': 695,\n",
              " 'scheisse': 2,\n",
              " 'poop': 2,\n",
              " 'simpletons': 2,\n",
              " 'fa': 2,\n",
              " 'r': 696,\n",
              " 'take': 697,\n",
              " 'wiff': 2,\n",
              " 'ahead': 698,\n",
              " 'btw': 699,\n",
              " 'annoying': 700,\n",
              " 'sidekick': 701,\n",
              " 'shoot': 702,\n",
              " 'minutes': 703,\n",
              " 'screen': 704,\n",
              " 'shakespeare': 705,\n",
              " '.shakespeare': 2,\n",
              " 'appreciate': 706,\n",
              " 'trying': 707,\n",
              " 'masses': 708,\n",
              " 'ruin': 709,\n",
              " '.is': 710,\n",
              " 'the': 711,\n",
              " 'scottish': 712,\n",
              " 'certain': 713,\n",
              " 'rev': 2,\n",
              " 'bowdler': 2,\n",
              " 'hence': 714,\n",
              " 'bowdlerization': 2,\n",
              " 'tried': 715,\n",
              " 'victorian': 716,\n",
              " 'era': 717,\n",
              " '.in': 718,\n",
              " 'words': 719,\n",
              " 'improve': 720,\n",
              " 'perfection': 721,\n",
              " 'write': 722,\n",
              " 'ten': 723,\n",
              " 'text': 724,\n",
              " 'english': 725,\n",
              " 'composition': 726,\n",
              " 'forte': 2,\n",
              " 'keep': 727,\n",
              " 'saying': 728,\n",
              " 'cut': 729,\n",
              " 'fantastic': 730,\n",
              " 'prisoners': 731,\n",
              " 'famous': 732,\n",
              " 'george': 733,\n",
              " 'clooney': 734,\n",
              " 'm': 735,\n",
              " 'roll': 736,\n",
              " 'man': 737,\n",
              " 'constant': 738,\n",
              " 'sorrow': 739,\n",
              " 'recommand': 2,\n",
              " 'everybody': 740,\n",
              " 'greetings': 2,\n",
              " 'bart': 741,\n",
              " 'kind': 742,\n",
              " 'drawn': 743,\n",
              " 'erotic': 744,\n",
              " 'amateurish': 745,\n",
              " 'unbelievable': 746,\n",
              " 'bits': 747,\n",
              " 'sort': 748,\n",
              " 'school': 749,\n",
              " 'project': 750,\n",
              " 'rosanna': 2,\n",
              " 'arquette': 751,\n",
              " 'thinking': 752,\n",
              " 'stock': 753,\n",
              " 'bizarre': 754,\n",
              " 'supposed': 755,\n",
              " 'midwest': 2,\n",
              " 'town': 756,\n",
              " 'involved': 757,\n",
              " 'lessons': 758,\n",
              " 'learned': 759,\n",
              " 'insights': 760,\n",
              " 'stilted': 761,\n",
              " 'quite': 762,\n",
              " 'ridiculous': 763,\n",
              " 'lots': 764,\n",
              " 'skin': 765,\n",
              " 'intrigues': 2,\n",
              " 'videotaped': 2,\n",
              " 'nonsense': 766,\n",
              " '.what': 767,\n",
              " 'bisexual': 2,\n",
              " 'relationship': 768,\n",
              " 'nowhere': 769,\n",
              " 'heterosexual': 2,\n",
              " 'encounters': 770,\n",
              " 'absurd': 771,\n",
              " 'dance': 772,\n",
              " 'stereotyped': 773,\n",
              " 'pass': 774,\n",
              " 'million': 775,\n",
              " 'miles': 776,\n",
              " 'wasted': 777,\n",
              " 'spent': 778,\n",
              " 'starving': 779,\n",
              " 'aids': 780,\n",
              " 'africa': 781,\n",
              " 'simply': 782,\n",
              " 'remade': 783,\n",
              " 'fails': 784,\n",
              " 'capture': 785,\n",
              " 'flavor': 786,\n",
              " 'terror': 787,\n",
              " 'title': 788,\n",
              " 'liam': 789,\n",
              " 'neeson': 2,\n",
              " 'excellent': 790,\n",
              " 'always': 791,\n",
              " 'holds': 792,\n",
              " 'exception': 793,\n",
              " 'owen': 794,\n",
              " 'wilson': 795,\n",
              " 'feel': 796,\n",
              " 'character': 797,\n",
              " 'luke': 798,\n",
              " 'major': 799,\n",
              " 'fault': 800,\n",
              " 'version': 801,\n",
              " 'strayed': 2,\n",
              " 'shirley': 802,\n",
              " 'jackson': 803,\n",
              " 'attempts': 804,\n",
              " 'grandiose': 2,\n",
              " 'thrill': 805,\n",
              " 'earlier': 806,\n",
              " 'trade': 807,\n",
              " 'snazzier': 2,\n",
              " 'special': 808,\n",
              " 'effects': 809,\n",
              " 'enjoy': 810,\n",
              " 'friction': 2,\n",
              " 'older': 811,\n",
              " 'horrible': 812,\n",
              " 'continuous': 813,\n",
              " 'minute': 814,\n",
              " 'fight': 815,\n",
              " 'chance': 816,\n",
              " 'development': 817,\n",
              " 'busy': 818,\n",
              " 'running': 819,\n",
              " 'sword': 820,\n",
              " 'emotional': 821,\n",
              " 'attachment': 2,\n",
              " 'except': 822,\n",
              " 'machine': 823,\n",
              " 'wanted': 824,\n",
              " 'destroy': 825,\n",
              " 'blatantly': 826,\n",
              " 'stolen': 827,\n",
              " 'lotr': 2,\n",
              " 'wars': 828,\n",
              " 'matrix': 829,\n",
              " 'examples': 830,\n",
              " 'ghost': 831,\n",
              " 'final': 832,\n",
              " 'yoda': 2,\n",
              " 'obee': 2,\n",
              " 'vader': 833,\n",
              " 'spider': 834,\n",
              " 'beginning': 835,\n",
              " 'frodo': 2,\n",
              " 'attacked': 836,\n",
              " 'return': 837,\n",
              " 'kings': 838,\n",
              " 'elijah': 839,\n",
              " 'wood': 840,\n",
              " 'victim': 841,\n",
              " 'wait': 842,\n",
              " 'hypnotizes': 2,\n",
              " 'stings': 2,\n",
              " 'wraps': 843,\n",
              " '.uh': 2,\n",
              " 'hello': 844,\n",
              " 'vs': 845,\n",
              " 'humans': 846,\n",
              " '.or': 847,\n",
              " 'terminator': 848,\n",
              " 'someone': 849,\n",
              " 'tell': 850,\n",
              " 'nazi': 851,\n",
              " 'juvenile': 852,\n",
              " 'line': 853,\n",
              " 'rushed': 854,\n",
              " 'conclusion': 855,\n",
              " 'adult': 856,\n",
              " 'either': 857,\n",
              " 'disappointment': 858,\n",
              " 'save': 859,\n",
              " 'remember': 860,\n",
              " 'cinema': 861,\n",
              " 'dark': 862,\n",
              " 'places': 863,\n",
              " 'nervous': 864,\n",
              " ...}"
            ]
          },
          "metadata": {
            "tags": []
          },
          "execution_count": 20
        }
      ]
    },
    {
      "cell_type": "code",
      "metadata": {
        "id": "NUFlBXRdSP_1"
      },
      "source": [
        "def sentence_to_int(text): \n",
        "  text = nltk.word_tokenize(text.lower())\n",
        "  ints = [word_2_index['SOS']]\n",
        "  for word in text:\n",
        "    if word in word_2_index:\n",
        "      ints.append(word_2_index[word])\n",
        "    else:\n",
        "      ints.append(word_2_index['UNK'])\n",
        "\n",
        "  return ints"
      ],
      "execution_count": 21,
      "outputs": []
    },
    {
      "cell_type": "code",
      "metadata": {
        "id": "99rfdP7AdhcM"
      },
      "source": [
        "X_train = x_train.apply(sentence_to_int)\n",
        "X_test = x_test.apply(sentence_to_int)"
      ],
      "execution_count": 22,
      "outputs": []
    },
    {
      "cell_type": "code",
      "metadata": {
        "id": "RXFzrnfDd3j7",
        "colab": {
          "base_uri": "https://localhost:8080/"
        },
        "outputId": "109cc739-e385-431a-cee0-c2e560dbf9c8"
      },
      "source": [
        "X_train"
      ],
      "execution_count": 23,
      "outputs": [
        {
          "output_type": "execute_result",
          "data": {
            "text/plain": [
              "0        [0, 4, 5, 6, 7, 8, 9, 10, 11, 12, 13, 14, 15, ...\n",
              "1        [0, 131, 132, 133, 12, 134, 135, 2, 136, 137, ...\n",
              "2        [0, 194, 131, 195, 196, 137, 197, 198, 199, 20...\n",
              "3        [0, 258, 168, 259, 132, 260, 261, 262, 168, 26...\n",
              "4        [0, 2, 299, 168, 230, 137, 300, 301, 302, 278,...\n",
              "                               ...                        \n",
              "24995    [0, 267, 286, 2742, 2275, 3237, 12, 18, 507, 4...\n",
              "24996    [0, 945, 4830, 2640, 2, 2913, 6532, 629, 1541,...\n",
              "24997    [0, 7694, 2, 3796, 168, 40, 2, 2201, 285, 330,...\n",
              "24998    [0, 2, 651, 2, 28, 166, 12, 58, 1005, 113, 364...\n",
              "24999    [0, 278, 68, 498, 12, 1068, 279, 4998, 94, 124...\n",
              "Name: review, Length: 25000, dtype: object"
            ]
          },
          "metadata": {
            "tags": []
          },
          "execution_count": 23
        }
      ]
    },
    {
      "cell_type": "code",
      "metadata": {
        "id": "IssETZT9ec7K"
      },
      "source": [
        "# set max sentence length to 200\n",
        "def remove_and_pad(text):\n",
        "  max_length = 199\n",
        "  length = len(text)\n",
        "  if length >= max_length:\n",
        "    text = text[:max_length]\n",
        "    text.append(word_2_index['EOS'])\n",
        "  else:\n",
        "    text.append(word_2_index['EOS'])\n",
        "    diff = max_length-length\n",
        "    for _ in range(diff):\n",
        "      text.append(word_2_index['PAD'])\n",
        "\n",
        "\n",
        "  return text"
      ],
      "execution_count": 24,
      "outputs": []
    },
    {
      "cell_type": "code",
      "metadata": {
        "id": "zjFKcpEuhweJ"
      },
      "source": [
        "X_train = X_train.apply(remove_and_pad)\n",
        "X_test = X_test.apply(remove_and_pad)"
      ],
      "execution_count": 25,
      "outputs": []
    },
    {
      "cell_type": "code",
      "metadata": {
        "id": "TZjKszVRone9"
      },
      "source": [
        "train = np.zeros((25000, 200))\n",
        "for i, seq in enumerate(X_train):\n",
        "  train[i,:] = seq\n",
        "\n",
        "test = np.zeros((25000, 200))\n",
        "for i, seq in enumerate(X_test):\n",
        "  test[i,:] = seq"
      ],
      "execution_count": 26,
      "outputs": []
    },
    {
      "cell_type": "markdown",
      "metadata": {
        "id": "3mBq8rhFSMLE"
      },
      "source": [
        "# Create embedding-based model\n",
        "Keras makes it easy to use word [embedding](https://www.tensorflow.org/api_docs/python/tf/keras/layers/Embedding) layer."
      ]
    },
    {
      "cell_type": "code",
      "metadata": {
        "id": "RutaI-Tpev3T"
      },
      "source": [
        "import tensorflow as tf\n",
        "import tensorflow.keras as keras\n",
        "from tensorflow.keras import Model, Sequential\n",
        "from tensorflow.keras.layers import Activation, Dense, Embedding, GlobalAveragePooling1D, Dropout"
      ],
      "execution_count": 27,
      "outputs": []
    },
    {
      "cell_type": "code",
      "metadata": {
        "id": "-OjxLVrMvWUE",
        "colab": {
          "base_uri": "https://localhost:8080/"
        },
        "outputId": "71af8465-9c2e-4af0-96e6-6d6ba32f17e4"
      },
      "source": [
        "# Embeddings of 1000 words into 3 dimensions.\n",
        "embedding_layer = tf.keras.layers.Embedding(1000, 3)\n",
        "embed = embedding_layer(tf.constant([1,2,3,4,5]))\n",
        "embed.numpy()"
      ],
      "execution_count": 31,
      "outputs": [
        {
          "output_type": "execute_result",
          "data": {
            "text/plain": [
              "array([[-0.03734162,  0.03121722, -0.02243733],\n",
              "       [-0.01702564, -0.04254542, -0.02718074],\n",
              "       [ 0.01739511,  0.00751258,  0.03475576],\n",
              "       [-0.04140177, -0.03444498,  0.04807949],\n",
              "       [ 0.0439811 , -0.00818863, -0.00309107]], dtype=float32)"
            ]
          },
          "metadata": {
            "tags": []
          },
          "execution_count": 31
        }
      ]
    },
    {
      "cell_type": "code",
      "metadata": {
        "id": "QklRMHaijxAB",
        "colab": {
          "base_uri": "https://localhost:8080/"
        },
        "outputId": "83d5076a-11be-465c-feb4-55868539818e"
      },
      "source": [
        "seed = 2\n",
        "tf.random.set_seed(seed)\n",
        "np.random.seed(seed)\n",
        "\n",
        "inputs = keras.Input(shape=(None,), dtype=\"int32\")\n",
        "# TO DO \n",
        "# define embedding layer with shape (10004,32)\n",
        "x = Embedding(10004, 32, name=\"embedding\")(inputs)\n",
        "x = GlobalAveragePooling1D()(x)\n",
        "x = Dense(32, activation='relu')(x)\n",
        "outputs = Dense(1, activation=\"sigmoid\")(x)\n",
        "model = keras.Model(inputs, outputs)\n",
        "model.summary()"
      ],
      "execution_count": 32,
      "outputs": [
        {
          "output_type": "stream",
          "text": [
            "Model: \"model\"\n",
            "_________________________________________________________________\n",
            "Layer (type)                 Output Shape              Param #   \n",
            "=================================================================\n",
            "input_1 (InputLayer)         [(None, None)]            0         \n",
            "_________________________________________________________________\n",
            "embedding (Embedding)        (None, None, 32)          320128    \n",
            "_________________________________________________________________\n",
            "global_average_pooling1d (Gl (None, 32)                0         \n",
            "_________________________________________________________________\n",
            "dense (Dense)                (None, 32)                1056      \n",
            "_________________________________________________________________\n",
            "dense_1 (Dense)              (None, 1)                 33        \n",
            "=================================================================\n",
            "Total params: 321,217\n",
            "Trainable params: 321,217\n",
            "Non-trainable params: 0\n",
            "_________________________________________________________________\n"
          ],
          "name": "stdout"
        }
      ]
    },
    {
      "cell_type": "code",
      "metadata": {
        "id": "zVqsynPzkYsz",
        "colab": {
          "base_uri": "https://localhost:8080/"
        },
        "outputId": "e3170275-f519-406d-d188-87b5e979bfd8"
      },
      "source": [
        "model.compile(optimizer=\"adam\", loss=\"binary_crossentropy\", metrics=[\"accuracy\"])\n",
        "history = model.fit(train, y_train.to_numpy(), batch_size=512, epochs=10, validation_data=(test, y_test.to_numpy()))"
      ],
      "execution_count": 33,
      "outputs": [
        {
          "output_type": "stream",
          "text": [
            "Epoch 1/10\n",
            "49/49 [==============================] - 2s 30ms/step - loss: 0.6890 - accuracy: 0.5673 - val_loss: 0.6805 - val_accuracy: 0.7116\n",
            "Epoch 2/10\n",
            "49/49 [==============================] - 1s 25ms/step - loss: 0.6583 - accuracy: 0.7202 - val_loss: 0.6277 - val_accuracy: 0.7518\n",
            "Epoch 3/10\n",
            "49/49 [==============================] - 1s 26ms/step - loss: 0.5760 - accuracy: 0.8089 - val_loss: 0.5298 - val_accuracy: 0.8202\n",
            "Epoch 4/10\n",
            "49/49 [==============================] - 1s 26ms/step - loss: 0.4667 - accuracy: 0.8560 - val_loss: 0.4316 - val_accuracy: 0.8549\n",
            "Epoch 5/10\n",
            "49/49 [==============================] - 1s 26ms/step - loss: 0.3721 - accuracy: 0.8851 - val_loss: 0.3633 - val_accuracy: 0.8711\n",
            "Epoch 6/10\n",
            "49/49 [==============================] - 1s 25ms/step - loss: 0.3092 - accuracy: 0.8983 - val_loss: 0.3264 - val_accuracy: 0.8784\n",
            "Epoch 7/10\n",
            "49/49 [==============================] - 1s 25ms/step - loss: 0.2685 - accuracy: 0.9077 - val_loss: 0.3051 - val_accuracy: 0.8833\n",
            "Epoch 8/10\n",
            "49/49 [==============================] - 1s 26ms/step - loss: 0.2409 - accuracy: 0.9168 - val_loss: 0.2935 - val_accuracy: 0.8848\n",
            "Epoch 9/10\n",
            "49/49 [==============================] - 1s 26ms/step - loss: 0.2201 - accuracy: 0.9225 - val_loss: 0.2888 - val_accuracy: 0.8848\n",
            "Epoch 10/10\n",
            "49/49 [==============================] - 1s 25ms/step - loss: 0.2047 - accuracy: 0.9281 - val_loss: 0.2854 - val_accuracy: 0.8870\n"
          ],
          "name": "stdout"
        }
      ]
    },
    {
      "cell_type": "code",
      "metadata": {
        "id": "t9dvSz6ckk8l",
        "colab": {
          "base_uri": "https://localhost:8080/",
          "height": 295
        },
        "outputId": "0ce8413f-f466-4348-ef5c-5bf0909a99ca"
      },
      "source": [
        "import matplotlib.pyplot as plt\n",
        "%matplotlib inline\n",
        "\n",
        "# summarize history for loss\n",
        "plt.plot(history.history['loss'])\n",
        "plt.plot(history.history['val_loss'])\n",
        "plt.title('model loss')\n",
        "plt.ylabel('loss')\n",
        "plt.xlabel('epoch')\n",
        "plt.legend(['train', 'val'], loc='upper right')\n",
        "plt.show()"
      ],
      "execution_count": 34,
      "outputs": [
        {
          "output_type": "display_data",
          "data": {
            "image/png": "[encoded data removed]",
            "text/plain": [
              "<Figure size 432x288 with 1 Axes>"
            ]
          },
          "metadata": {
            "tags": [],
            "needs_background": "light"
          }
        }
      ]
    },
    {
      "cell_type": "code",
      "metadata": {
        "id": "J1L9rkY7jjYi",
        "colab": {
          "base_uri": "https://localhost:8080/",
          "height": 295
        },
        "outputId": "97713a6f-df85-41ed-f989-07f87decc911"
      },
      "source": [
        "# summarize history for accuracy\n",
        "plt.plot(history.history['accuracy'])\n",
        "plt.plot(history.history['val_accuracy'])\n",
        "plt.title('model accuracy')\n",
        "plt.ylabel('accuracy')\n",
        "plt.xlabel('epoch')\n",
        "plt.legend(['train', 'val'], loc='upper left')\n",
        "plt.show()"
      ],
      "execution_count": 35,
      "outputs": [
        {
          "output_type": "display_data",
          "data": {
            "image/png": "[encoded data removed]",
            "text/plain": [
              "<Figure size 432x288 with 1 Axes>"
            ]
          },
          "metadata": {
            "tags": [],
            "needs_background": "light"
          }
        }
      ]
    },
    {
      "cell_type": "markdown",
      "metadata": {
        "id": "TvcP7EHEdNxt"
      },
      "source": [
        "### Visualize embeddings in 2D\n",
        "Check also the tensorflow [projector](http://projector.tensorflow.org/) use in this [example](https://www.tensorflow.org/tutorials/text/word_embeddings)"
      ]
    },
    {
      "cell_type": "code",
      "metadata": {
        "id": "QJGEBaG8dj7H"
      },
      "source": [
        "from sklearn.decomposition import PCA"
      ],
      "execution_count": 36,
      "outputs": []
    },
    {
      "cell_type": "code",
      "metadata": {
        "id": "_Uamp1YH8RzU"
      },
      "source": [
        "embeddings = model.get_layer('embedding').get_weights()[0]"
      ],
      "execution_count": 37,
      "outputs": []
    },
    {
      "cell_type": "code",
      "metadata": {
        "id": "Og8r3t7Pfpjt"
      },
      "source": [
        "pca = PCA(n_components=2)\n",
        "result = pca.fit_transform(embeddings)"
      ],
      "execution_count": 38,
      "outputs": []
    },
    {
      "cell_type": "code",
      "metadata": {
        "id": "rugMtq84gGg1",
        "colab": {
          "base_uri": "https://localhost:8080/",
          "height": 283
        },
        "outputId": "f5740ed6-4157-4ecf-c95b-76824833c1a5"
      },
      "source": [
        "words = list(word_2_index.keys())[:50]\n",
        "for i, word in enumerate(words):\n",
        "\tplt.annotate(word, xy=(result[i, 0], result[i, 1]))\n",
        "plt.scatter(result[:50, 0], result[:50, 1])"
      ],
      "execution_count": 39,
      "outputs": [
        {
          "output_type": "execute_result",
          "data": {
            "text/plain": [
              "<matplotlib.collections.PathCollection at 0x7fede1ddcc10>"
            ]
          },
          "metadata": {
            "tags": []
          },
          "execution_count": 39
        },
        {
          "output_type": "display_data",
          "data": {
            "image/png": "[encoded data removed]",
            "text/plain": [
              "<Figure size 432x288 with 1 Axes>"
            ]
          },
          "metadata": {
            "tags": [],
            "needs_background": "light"
          }
        }
      ]
    },
    {
      "cell_type": "code",
      "metadata": {
        "id": "vFgi-GnKi5LD"
      },
      "source": [
        ""
      ],
      "execution_count": null,
      "outputs": []
    }
  ]
}