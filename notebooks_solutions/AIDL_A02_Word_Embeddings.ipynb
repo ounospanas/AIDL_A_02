{
  "nbformat": 4,
  "nbformat_minor": 0,
  "metadata": {
    "colab": {
      "name": "AIDL_A02_Word_Embeddings.ipynb",
      "provenance": [],
      "include_colab_link": true
    },
    "kernelspec": {
      "display_name": "Python 3",
      "name": "python3"
    }
  },
  "cells": [
    {
      "cell_type": "markdown",
      "metadata": {
        "id": "view-in-github",
        "colab_type": "text"
      },
      "source": [
        "<a href=\"https://colab.research.google.com/github/ounospanas/AIDL_A_02/blob/main/notebooks_solutions/AIDL_A02_Word_Embeddings.ipynb\" target=\"_parent\"><img src=\"https://colab.research.google.com/assets/colab-badge.svg\" alt=\"Open In Colab\"/></a>"
      ]
    },
    {
      "cell_type": "markdown",
      "metadata": {
        "id": "C9kaKOl6L3hE"
      },
      "source": [
        "# Download IMDB reviews dataset from Kaggle"
      ]
    },
    {
      "cell_type": "markdown",
      "metadata": {
        "id": "KW3JEq2IMMCD"
      },
      "source": [
        "https://www.kaggle.com/general/74235\n",
        "\n",
        "1. Create a Kaggle account or link it with an existing one (e.g., Gmail).\n",
        "\n",
        "2. Go to your account, Scroll to API section and Click Expire API Token to remove previous tokens\n",
        "\n",
        "3. Click on Create New API Token - It will download kaggle.json file on your machine."
      ]
    },
    {
      "cell_type": "code",
      "metadata": {
        "id": "OHYu4n48MEXr"
      },
      "source": [
        "# install library\n",
        "! pip install -q kaggle"
      ],
      "execution_count": 1,
      "outputs": []
    },
    {
      "cell_type": "code",
      "metadata": {
        "id": "HzH32QNeMQfj"
      },
      "source": [
        "# import files class to upload files to colab\n",
        "from google.colab import files"
      ],
      "execution_count": 2,
      "outputs": []
    },
    {
      "cell_type": "code",
      "metadata": {
        "colab": {
          "base_uri": "https://localhost:8080/",
          "height": 90
        },
        "id": "SwBMBPKPMQnr",
        "outputId": "7a3ebc9d-de57-46cd-d925-77a8ab42095b"
      },
      "source": [
        "# upload kaggle.json\n",
        "files.upload()"
      ],
      "execution_count": 3,
      "outputs": [
        {
          "output_type": "display_data",
          "data": {
            "text/plain": [
              "<IPython.core.display.HTML object>"
            ],
            "text/html": [
              "\n",
              "     <input type=\"file\" id=\"files-493bd54c-196b-437d-a9aa-a0203194cbd9\" name=\"files[]\" multiple disabled\n",
              "        style=\"border:none\" />\n",
              "     <output id=\"result-493bd54c-196b-437d-a9aa-a0203194cbd9\">\n",
              "      Upload widget is only available when the cell has been executed in the\n",
              "      current browser session. Please rerun this cell to enable.\n",
              "      </output>\n",
              "      <script>// Copyright 2017 Google LLC\n",
              "//\n",
              "// Licensed under the Apache License, Version 2.0 (the \"License\");\n",
              "// you may not use this file except in compliance with the License.\n",
              "// You may obtain a copy of the License at\n",
              "//\n",
              "//      http://www.apache.org/licenses/LICENSE-2.0\n",
              "//\n",
              "// Unless required by applicable law or agreed to in writing, software\n",
              "// distributed under the License is distributed on an \"AS IS\" BASIS,\n",
              "// WITHOUT WARRANTIES OR CONDITIONS OF ANY KIND, either express or implied.\n",
              "// See the License for the specific language governing permissions and\n",
              "// limitations under the License.\n",
              "\n",
              "/**\n",
              " * @fileoverview Helpers for google.colab Python module.\n",
              " */\n",
              "(function(scope) {\n",
              "function span(text, styleAttributes = {}) {\n",
              "  const element = document.createElement('span');\n",
              "  element.textContent = text;\n",
              "  for (const key of Object.keys(styleAttributes)) {\n",
              "    element.style[key] = styleAttributes[key];\n",
              "  }\n",
              "  return element;\n",
              "}\n",
              "\n",
              "// Max number of bytes which will be uploaded at a time.\n",
              "const MAX_PAYLOAD_SIZE = 100 * 1024;\n",
              "\n",
              "function _uploadFiles(inputId, outputId) {\n",
              "  const steps = uploadFilesStep(inputId, outputId);\n",
              "  const outputElement = document.getElementById(outputId);\n",
              "  // Cache steps on the outputElement to make it available for the next call\n",
              "  // to uploadFilesContinue from Python.\n",
              "  outputElement.steps = steps;\n",
              "\n",
              "  return _uploadFilesContinue(outputId);\n",
              "}\n",
              "\n",
              "// This is roughly an async generator (not supported in the browser yet),\n",
              "// where there are multiple asynchronous steps and the Python side is going\n",
              "// to poll for completion of each step.\n",
              "// This uses a Promise to block the python side on completion of each step,\n",
              "// then passes the result of the previous step as the input to the next step.\n",
              "function _uploadFilesContinue(outputId) {\n",
              "  const outputElement = document.getElementById(outputId);\n",
              "  const steps = outputElement.steps;\n",
              "\n",
              "  const next = steps.next(outputElement.lastPromiseValue);\n",
              "  return Promise.resolve(next.value.promise).then((value) => {\n",
              "    // Cache the last promise value to make it available to the next\n",
              "    // step of the generator.\n",
              "    outputElement.lastPromiseValue = value;\n",
              "    return next.value.response;\n",
              "  });\n",
              "}\n",
              "\n",
              "/**\n",
              " * Generator function which is called between each async step of the upload\n",
              " * process.\n",
              " * @param {string} inputId Element ID of the input file picker element.\n",
              " * @param {string} outputId Element ID of the output display.\n",
              " * @return {!Iterable<!Object>} Iterable of next steps.\n",
              " */\n",
              "function* uploadFilesStep(inputId, outputId) {\n",
              "  const inputElement = document.getElementById(inputId);\n",
              "  inputElement.disabled = false;\n",
              "\n",
              "  const outputElement = document.getElementById(outputId);\n",
              "  outputElement.innerHTML = '';\n",
              "\n",
              "  const pickedPromise = new Promise((resolve) => {\n",
              "    inputElement.addEventListener('change', (e) => {\n",
              "      resolve(e.target.files);\n",
              "    });\n",
              "  });\n",
              "\n",
              "  const cancel = document.createElement('button');\n",
              "  inputElement.parentElement.appendChild(cancel);\n",
              "  cancel.textContent = 'Cancel upload';\n",
              "  const cancelPromise = new Promise((resolve) => {\n",
              "    cancel.onclick = () => {\n",
              "      resolve(null);\n",
              "    };\n",
              "  });\n",
              "\n",
              "  // Wait for the user to pick the files.\n",
              "  const files = yield {\n",
              "    promise: Promise.race([pickedPromise, cancelPromise]),\n",
              "    response: {\n",
              "      action: 'starting',\n",
              "    }\n",
              "  };\n",
              "\n",
              "  cancel.remove();\n",
              "\n",
              "  // Disable the input element since further picks are not allowed.\n",
              "  inputElement.disabled = true;\n",
              "\n",
              "  if (!files) {\n",
              "    return {\n",
              "      response: {\n",
              "        action: 'complete',\n",
              "      }\n",
              "    };\n",
              "  }\n",
              "\n",
              "  for (const file of files) {\n",
              "    const li = document.createElement('li');\n",
              "    li.append(span(file.name, {fontWeight: 'bold'}));\n",
              "    li.append(span(\n",
              "        `(${file.type || 'n/a'}) - ${file.size} bytes, ` +\n",
              "        `last modified: ${\n",
              "            file.lastModifiedDate ? file.lastModifiedDate.toLocaleDateString() :\n",
              "                                    'n/a'} - `));\n",
              "    const percent = span('0% done');\n",
              "    li.appendChild(percent);\n",
              "\n",
              "    outputElement.appendChild(li);\n",
              "\n",
              "    const fileDataPromise = new Promise((resolve) => {\n",
              "      const reader = new FileReader();\n",
              "      reader.onload = (e) => {\n",
              "        resolve(e.target.result);\n",
              "      };\n",
              "      reader.readAsArrayBuffer(file);\n",
              "    });\n",
              "    // Wait for the data to be ready.\n",
              "    let fileData = yield {\n",
              "      promise: fileDataPromise,\n",
              "      response: {\n",
              "        action: 'continue',\n",
              "      }\n",
              "    };\n",
              "\n",
              "    // Use a chunked sending to avoid message size limits. See b/62115660.\n",
              "    let position = 0;\n",
              "    do {\n",
              "      const length = Math.min(fileData.byteLength - position, MAX_PAYLOAD_SIZE);\n",
              "      const chunk = new Uint8Array(fileData, position, length);\n",
              "      position += length;\n",
              "\n",
              "      const base64 = btoa(String.fromCharCode.apply(null, chunk));\n",
              "      yield {\n",
              "        response: {\n",
              "          action: 'append',\n",
              "          file: file.name,\n",
              "          data: base64,\n",
              "        },\n",
              "      };\n",
              "\n",
              "      let percentDone = fileData.byteLength === 0 ?\n",
              "          100 :\n",
              "          Math.round((position / fileData.byteLength) * 100);\n",
              "      percent.textContent = `${percentDone}% done`;\n",
              "\n",
              "    } while (position < fileData.byteLength);\n",
              "  }\n",
              "\n",
              "  // All done.\n",
              "  yield {\n",
              "    response: {\n",
              "      action: 'complete',\n",
              "    }\n",
              "  };\n",
              "}\n",
              "\n",
              "scope.google = scope.google || {};\n",
              "scope.google.colab = scope.google.colab || {};\n",
              "scope.google.colab._files = {\n",
              "  _uploadFiles,\n",
              "  _uploadFilesContinue,\n",
              "};\n",
              "})(self);\n",
              "</script> "
            ]
          },
          "metadata": {}
        },
        {
          "output_type": "stream",
          "name": "stdout",
          "text": [
            "Saving kaggle.json to kaggle.json\n"
          ]
        },
        {
          "output_type": "execute_result",
          "data": {
            "text/plain": [
              "{'kaggle.json': b'{\"username\":\"pkasnesis\",\"key\":\"d202848b9a00e8f6959f9753b8abf697\"}'}"
            ]
          },
          "metadata": {},
          "execution_count": 3
        }
      ]
    },
    {
      "cell_type": "code",
      "metadata": {
        "id": "Xw-rHyoQMduZ"
      },
      "source": [
        "# Make directory named kaggle and copy kaggle.json file there.\n",
        "! mkdir ~/.kaggle\n",
        "! cp kaggle.json ~/.kaggle/\n",
        "! chmod 600 ~/.kaggle/kaggle.json"
      ],
      "execution_count": 4,
      "outputs": []
    },
    {
      "cell_type": "code",
      "metadata": {
        "colab": {
          "base_uri": "https://localhost:8080/"
        },
        "id": "OhSHPFKnMdxT",
        "outputId": "49f941ad-2a4e-48aa-da4f-fc44eb8155b8"
      },
      "source": [
        "# Download imdb dataset and unzip to imdb folder\n",
        "! kaggle datasets download 'lakshmi25npathi/imdb-dataset-of-50k-movie-reviews'\n",
        "! mkdir imdb\n",
        "! unzip imdb-dataset-of-50k-movie-reviews.zip  -d imdb"
      ],
      "execution_count": 5,
      "outputs": [
        {
          "output_type": "stream",
          "name": "stdout",
          "text": [
            "Downloading imdb-dataset-of-50k-movie-reviews.zip to /content\n",
            "\r  0% 0.00/25.7M [00:00<?, ?B/s]\r 19% 5.00M/25.7M [00:00<00:00, 37.3MB/s]\r 97% 25.0M/25.7M [00:00<00:00, 124MB/s] \n",
            "\r100% 25.7M/25.7M [00:00<00:00, 111MB/s]\n",
            "Archive:  imdb-dataset-of-50k-movie-reviews.zip\n",
            "  inflating: imdb/IMDB Dataset.csv   \n"
          ]
        }
      ]
    },
    {
      "cell_type": "markdown",
      "metadata": {
        "id": "iXcI3iopNHw3"
      },
      "source": [
        "# Read Data"
      ]
    },
    {
      "cell_type": "code",
      "metadata": {
        "id": "t-wNzZW2Md0W"
      },
      "source": [
        "import pandas as pd\n",
        "import numpy as np"
      ],
      "execution_count": 6,
      "outputs": []
    },
    {
      "cell_type": "code",
      "metadata": {
        "colab": {
          "base_uri": "https://localhost:8080/",
          "height": 206
        },
        "id": "rL4oYQuyNO1Q",
        "outputId": "8f713744-849a-4d37-c09e-b3693c861ba0"
      },
      "source": [
        "# Import Dataset\n",
        "df = pd.read_csv(\"imdb/IMDB Dataset.csv\")\n",
        "df.head()"
      ],
      "execution_count": 7,
      "outputs": [
        {
          "output_type": "execute_result",
          "data": {
            "text/plain": [
              "                                              review sentiment\n",
              "0  One of the other reviewers has mentioned that ...  positive\n",
              "1  A wonderful little production. <br /><br />The...  positive\n",
              "2  I thought this was a wonderful way to spend ti...  positive\n",
              "3  Basically there's a family where a little boy ...  negative\n",
              "4  Petter Mattei's \"Love in the Time of Money\" is...  positive"
            ],
            "text/html": [
              "\n",
              "  <div id=\"df-3ed2cbec-45e7-4956-9be8-7b037385b0e7\">\n",
              "    <div class=\"colab-df-container\">\n",
              "      <div>\n",
              "<style scoped>\n",
              "    .dataframe tbody tr th:only-of-type {\n",
              "        vertical-align: middle;\n",
              "    }\n",
              "\n",
              "    .dataframe tbody tr th {\n",
              "        vertical-align: top;\n",
              "    }\n",
              "\n",
              "    .dataframe thead th {\n",
              "        text-align: right;\n",
              "    }\n",
              "</style>\n",
              "<table border=\"1\" class=\"dataframe\">\n",
              "  <thead>\n",
              "    <tr style=\"text-align: right;\">\n",
              "      <th></th>\n",
              "      <th>review</th>\n",
              "      <th>sentiment</th>\n",
              "    </tr>\n",
              "  </thead>\n",
              "  <tbody>\n",
              "    <tr>\n",
              "      <th>0</th>\n",
              "      <td>One of the other reviewers has mentioned that ...</td>\n",
              "      <td>positive</td>\n",
              "    </tr>\n",
              "    <tr>\n",
              "      <th>1</th>\n",
              "      <td>A wonderful little production. &lt;br /&gt;&lt;br /&gt;The...</td>\n",
              "      <td>positive</td>\n",
              "    </tr>\n",
              "    <tr>\n",
              "      <th>2</th>\n",
              "      <td>I thought this was a wonderful way to spend ti...</td>\n",
              "      <td>positive</td>\n",
              "    </tr>\n",
              "    <tr>\n",
              "      <th>3</th>\n",
              "      <td>Basically there's a family where a little boy ...</td>\n",
              "      <td>negative</td>\n",
              "    </tr>\n",
              "    <tr>\n",
              "      <th>4</th>\n",
              "      <td>Petter Mattei's \"Love in the Time of Money\" is...</td>\n",
              "      <td>positive</td>\n",
              "    </tr>\n",
              "  </tbody>\n",
              "</table>\n",
              "</div>\n",
              "      <button class=\"colab-df-convert\" onclick=\"convertToInteractive('df-3ed2cbec-45e7-4956-9be8-7b037385b0e7')\"\n",
              "              title=\"Convert this dataframe to an interactive table.\"\n",
              "              style=\"display:none;\">\n",
              "        \n",
              "  <svg xmlns=\"http://www.w3.org/2000/svg\" height=\"24px\"viewBox=\"0 0 24 24\"\n",
              "       width=\"24px\">\n",
              "    <path d=\"M0 0h24v24H0V0z\" fill=\"none\"/>\n",
              "    <path d=\"M18.56 5.44l.94 2.06.94-2.06 2.06-.94-2.06-.94-.94-2.06-.94 2.06-2.06.94zm-11 1L8.5 8.5l.94-2.06 2.06-.94-2.06-.94L8.5 2.5l-.94 2.06-2.06.94zm10 10l.94 2.06.94-2.06 2.06-.94-2.06-.94-.94-2.06-.94 2.06-2.06.94z\"/><path d=\"M17.41 7.96l-1.37-1.37c-.4-.4-.92-.59-1.43-.59-.52 0-1.04.2-1.43.59L10.3 9.45l-7.72 7.72c-.78.78-.78 2.05 0 2.83L4 21.41c.39.39.9.59 1.41.59.51 0 1.02-.2 1.41-.59l7.78-7.78 2.81-2.81c.8-.78.8-2.07 0-2.86zM5.41 20L4 18.59l7.72-7.72 1.47 1.35L5.41 20z\"/>\n",
              "  </svg>\n",
              "      </button>\n",
              "      \n",
              "  <style>\n",
              "    .colab-df-container {\n",
              "      display:flex;\n",
              "      flex-wrap:wrap;\n",
              "      gap: 12px;\n",
              "    }\n",
              "\n",
              "    .colab-df-convert {\n",
              "      background-color: #E8F0FE;\n",
              "      border: none;\n",
              "      border-radius: 50%;\n",
              "      cursor: pointer;\n",
              "      display: none;\n",
              "      fill: #1967D2;\n",
              "      height: 32px;\n",
              "      padding: 0 0 0 0;\n",
              "      width: 32px;\n",
              "    }\n",
              "\n",
              "    .colab-df-convert:hover {\n",
              "      background-color: #E2EBFA;\n",
              "      box-shadow: 0px 1px 2px rgba(60, 64, 67, 0.3), 0px 1px 3px 1px rgba(60, 64, 67, 0.15);\n",
              "      fill: #174EA6;\n",
              "    }\n",
              "\n",
              "    [theme=dark] .colab-df-convert {\n",
              "      background-color: #3B4455;\n",
              "      fill: #D2E3FC;\n",
              "    }\n",
              "\n",
              "    [theme=dark] .colab-df-convert:hover {\n",
              "      background-color: #434B5C;\n",
              "      box-shadow: 0px 1px 3px 1px rgba(0, 0, 0, 0.15);\n",
              "      filter: drop-shadow(0px 1px 2px rgba(0, 0, 0, 0.3));\n",
              "      fill: #FFFFFF;\n",
              "    }\n",
              "  </style>\n",
              "\n",
              "      <script>\n",
              "        const buttonEl =\n",
              "          document.querySelector('#df-3ed2cbec-45e7-4956-9be8-7b037385b0e7 button.colab-df-convert');\n",
              "        buttonEl.style.display =\n",
              "          google.colab.kernel.accessAllowed ? 'block' : 'none';\n",
              "\n",
              "        async function convertToInteractive(key) {\n",
              "          const element = document.querySelector('#df-3ed2cbec-45e7-4956-9be8-7b037385b0e7');\n",
              "          const dataTable =\n",
              "            await google.colab.kernel.invokeFunction('convertToInteractive',\n",
              "                                                     [key], {});\n",
              "          if (!dataTable) return;\n",
              "\n",
              "          const docLinkHtml = 'Like what you see? Visit the ' +\n",
              "            '<a target=\"_blank\" href=https://colab.research.google.com/notebooks/data_table.ipynb>data table notebook</a>'\n",
              "            + ' to learn more about interactive tables.';\n",
              "          element.innerHTML = '';\n",
              "          dataTable['output_type'] = 'display_data';\n",
              "          await google.colab.output.renderOutput(dataTable, element);\n",
              "          const docLink = document.createElement('div');\n",
              "          docLink.innerHTML = docLinkHtml;\n",
              "          element.appendChild(docLink);\n",
              "        }\n",
              "      </script>\n",
              "    </div>\n",
              "  </div>\n",
              "  "
            ]
          },
          "metadata": {},
          "execution_count": 7
        }
      ]
    },
    {
      "cell_type": "code",
      "metadata": {
        "colab": {
          "base_uri": "https://localhost:8080/",
          "height": 206
        },
        "id": "cc6SQ41HNg4J",
        "outputId": "a73ca3ba-e9d1-4d23-f079-700e43262c30"
      },
      "source": [
        "# Replacing text values to numerical (positive: 1, negative: 0)\n",
        "df.replace({\"positive\":1,\"negative\":0},inplace=True)\n",
        "df.head()"
      ],
      "execution_count": 8,
      "outputs": [
        {
          "output_type": "execute_result",
          "data": {
            "text/plain": [
              "                                              review  sentiment\n",
              "0  One of the other reviewers has mentioned that ...          1\n",
              "1  A wonderful little production. <br /><br />The...          1\n",
              "2  I thought this was a wonderful way to spend ti...          1\n",
              "3  Basically there's a family where a little boy ...          0\n",
              "4  Petter Mattei's \"Love in the Time of Money\" is...          1"
            ],
            "text/html": [
              "\n",
              "  <div id=\"df-7b1f3faf-48c6-4b59-981e-756ecc1ccdb1\">\n",
              "    <div class=\"colab-df-container\">\n",
              "      <div>\n",
              "<style scoped>\n",
              "    .dataframe tbody tr th:only-of-type {\n",
              "        vertical-align: middle;\n",
              "    }\n",
              "\n",
              "    .dataframe tbody tr th {\n",
              "        vertical-align: top;\n",
              "    }\n",
              "\n",
              "    .dataframe thead th {\n",
              "        text-align: right;\n",
              "    }\n",
              "</style>\n",
              "<table border=\"1\" class=\"dataframe\">\n",
              "  <thead>\n",
              "    <tr style=\"text-align: right;\">\n",
              "      <th></th>\n",
              "      <th>review</th>\n",
              "      <th>sentiment</th>\n",
              "    </tr>\n",
              "  </thead>\n",
              "  <tbody>\n",
              "    <tr>\n",
              "      <th>0</th>\n",
              "      <td>One of the other reviewers has mentioned that ...</td>\n",
              "      <td>1</td>\n",
              "    </tr>\n",
              "    <tr>\n",
              "      <th>1</th>\n",
              "      <td>A wonderful little production. &lt;br /&gt;&lt;br /&gt;The...</td>\n",
              "      <td>1</td>\n",
              "    </tr>\n",
              "    <tr>\n",
              "      <th>2</th>\n",
              "      <td>I thought this was a wonderful way to spend ti...</td>\n",
              "      <td>1</td>\n",
              "    </tr>\n",
              "    <tr>\n",
              "      <th>3</th>\n",
              "      <td>Basically there's a family where a little boy ...</td>\n",
              "      <td>0</td>\n",
              "    </tr>\n",
              "    <tr>\n",
              "      <th>4</th>\n",
              "      <td>Petter Mattei's \"Love in the Time of Money\" is...</td>\n",
              "      <td>1</td>\n",
              "    </tr>\n",
              "  </tbody>\n",
              "</table>\n",
              "</div>\n",
              "      <button class=\"colab-df-convert\" onclick=\"convertToInteractive('df-7b1f3faf-48c6-4b59-981e-756ecc1ccdb1')\"\n",
              "              title=\"Convert this dataframe to an interactive table.\"\n",
              "              style=\"display:none;\">\n",
              "        \n",
              "  <svg xmlns=\"http://www.w3.org/2000/svg\" height=\"24px\"viewBox=\"0 0 24 24\"\n",
              "       width=\"24px\">\n",
              "    <path d=\"M0 0h24v24H0V0z\" fill=\"none\"/>\n",
              "    <path d=\"M18.56 5.44l.94 2.06.94-2.06 2.06-.94-2.06-.94-.94-2.06-.94 2.06-2.06.94zm-11 1L8.5 8.5l.94-2.06 2.06-.94-2.06-.94L8.5 2.5l-.94 2.06-2.06.94zm10 10l.94 2.06.94-2.06 2.06-.94-2.06-.94-.94-2.06-.94 2.06-2.06.94z\"/><path d=\"M17.41 7.96l-1.37-1.37c-.4-.4-.92-.59-1.43-.59-.52 0-1.04.2-1.43.59L10.3 9.45l-7.72 7.72c-.78.78-.78 2.05 0 2.83L4 21.41c.39.39.9.59 1.41.59.51 0 1.02-.2 1.41-.59l7.78-7.78 2.81-2.81c.8-.78.8-2.07 0-2.86zM5.41 20L4 18.59l7.72-7.72 1.47 1.35L5.41 20z\"/>\n",
              "  </svg>\n",
              "      </button>\n",
              "      \n",
              "  <style>\n",
              "    .colab-df-container {\n",
              "      display:flex;\n",
              "      flex-wrap:wrap;\n",
              "      gap: 12px;\n",
              "    }\n",
              "\n",
              "    .colab-df-convert {\n",
              "      background-color: #E8F0FE;\n",
              "      border: none;\n",
              "      border-radius: 50%;\n",
              "      cursor: pointer;\n",
              "      display: none;\n",
              "      fill: #1967D2;\n",
              "      height: 32px;\n",
              "      padding: 0 0 0 0;\n",
              "      width: 32px;\n",
              "    }\n",
              "\n",
              "    .colab-df-convert:hover {\n",
              "      background-color: #E2EBFA;\n",
              "      box-shadow: 0px 1px 2px rgba(60, 64, 67, 0.3), 0px 1px 3px 1px rgba(60, 64, 67, 0.15);\n",
              "      fill: #174EA6;\n",
              "    }\n",
              "\n",
              "    [theme=dark] .colab-df-convert {\n",
              "      background-color: #3B4455;\n",
              "      fill: #D2E3FC;\n",
              "    }\n",
              "\n",
              "    [theme=dark] .colab-df-convert:hover {\n",
              "      background-color: #434B5C;\n",
              "      box-shadow: 0px 1px 3px 1px rgba(0, 0, 0, 0.15);\n",
              "      filter: drop-shadow(0px 1px 2px rgba(0, 0, 0, 0.3));\n",
              "      fill: #FFFFFF;\n",
              "    }\n",
              "  </style>\n",
              "\n",
              "      <script>\n",
              "        const buttonEl =\n",
              "          document.querySelector('#df-7b1f3faf-48c6-4b59-981e-756ecc1ccdb1 button.colab-df-convert');\n",
              "        buttonEl.style.display =\n",
              "          google.colab.kernel.accessAllowed ? 'block' : 'none';\n",
              "\n",
              "        async function convertToInteractive(key) {\n",
              "          const element = document.querySelector('#df-7b1f3faf-48c6-4b59-981e-756ecc1ccdb1');\n",
              "          const dataTable =\n",
              "            await google.colab.kernel.invokeFunction('convertToInteractive',\n",
              "                                                     [key], {});\n",
              "          if (!dataTable) return;\n",
              "\n",
              "          const docLinkHtml = 'Like what you see? Visit the ' +\n",
              "            '<a target=\"_blank\" href=https://colab.research.google.com/notebooks/data_table.ipynb>data table notebook</a>'\n",
              "            + ' to learn more about interactive tables.';\n",
              "          element.innerHTML = '';\n",
              "          dataTable['output_type'] = 'display_data';\n",
              "          await google.colab.output.renderOutput(dataTable, element);\n",
              "          const docLink = document.createElement('div');\n",
              "          docLink.innerHTML = docLinkHtml;\n",
              "          element.appendChild(docLink);\n",
              "        }\n",
              "      </script>\n",
              "    </div>\n",
              "  </div>\n",
              "  "
            ]
          },
          "metadata": {},
          "execution_count": 8
        }
      ]
    },
    {
      "cell_type": "code",
      "metadata": {
        "id": "-iOuL1afOD_1"
      },
      "source": [
        "# split dataset\n",
        "x_train = df['review'].iloc[:25000]\n",
        "x_test = df['review'].iloc[25000:]\n",
        "y_train = df['sentiment'].iloc[:25000]\n",
        "y_test = df['sentiment'].iloc[25000:]"
      ],
      "execution_count": 9,
      "outputs": []
    },
    {
      "cell_type": "markdown",
      "metadata": {
        "id": "9kDo4AsVkam-"
      },
      "source": [
        "# Preprocess text"
      ]
    },
    {
      "cell_type": "code",
      "metadata": {
        "colab": {
          "base_uri": "https://localhost:8080/"
        },
        "id": "sRyDdQnUOgs9",
        "outputId": "25c28901-5ed9-43bc-f0ee-9ac8a6d67fcd"
      },
      "source": [
        "import re\n",
        "from collections import Counter\n",
        "import nltk\n",
        "nltk.download('stopwords')\n",
        "from nltk.corpus import stopwords\n",
        "nltk.download('punkt')\n",
        "from nltk.tokenize import word_tokenize\n",
        "print(stopwords.words('english'))\n",
        "stop_words = stopwords.words('english')"
      ],
      "execution_count": 10,
      "outputs": [
        {
          "output_type": "stream",
          "name": "stderr",
          "text": [
            "[nltk_data] Downloading package stopwords to /root/nltk_data...\n",
            "[nltk_data]   Unzipping corpora/stopwords.zip.\n",
            "[nltk_data] Downloading package punkt to /root/nltk_data...\n",
            "[nltk_data]   Unzipping tokenizers/punkt.zip.\n"
          ]
        },
        {
          "output_type": "stream",
          "name": "stdout",
          "text": [
            "['i', 'me', 'my', 'myself', 'we', 'our', 'ours', 'ourselves', 'you', \"you're\", \"you've\", \"you'll\", \"you'd\", 'your', 'yours', 'yourself', 'yourselves', 'he', 'him', 'his', 'himself', 'she', \"she's\", 'her', 'hers', 'herself', 'it', \"it's\", 'its', 'itself', 'they', 'them', 'their', 'theirs', 'themselves', 'what', 'which', 'who', 'whom', 'this', 'that', \"that'll\", 'these', 'those', 'am', 'is', 'are', 'was', 'were', 'be', 'been', 'being', 'have', 'has', 'had', 'having', 'do', 'does', 'did', 'doing', 'a', 'an', 'the', 'and', 'but', 'if', 'or', 'because', 'as', 'until', 'while', 'of', 'at', 'by', 'for', 'with', 'about', 'against', 'between', 'into', 'through', 'during', 'before', 'after', 'above', 'below', 'to', 'from', 'up', 'down', 'in', 'out', 'on', 'off', 'over', 'under', 'again', 'further', 'then', 'once', 'here', 'there', 'when', 'where', 'why', 'how', 'all', 'any', 'both', 'each', 'few', 'more', 'most', 'other', 'some', 'such', 'no', 'nor', 'not', 'only', 'own', 'same', 'so', 'than', 'too', 'very', 's', 't', 'can', 'will', 'just', 'don', \"don't\", 'should', \"should've\", 'now', 'd', 'll', 'm', 'o', 're', 've', 'y', 'ain', 'aren', \"aren't\", 'couldn', \"couldn't\", 'didn', \"didn't\", 'doesn', \"doesn't\", 'hadn', \"hadn't\", 'hasn', \"hasn't\", 'haven', \"haven't\", 'isn', \"isn't\", 'ma', 'mightn', \"mightn't\", 'mustn', \"mustn't\", 'needn', \"needn't\", 'shan', \"shan't\", 'shouldn', \"shouldn't\", 'wasn', \"wasn't\", 'weren', \"weren't\", 'won', \"won't\", 'wouldn', \"wouldn't\"]\n"
          ]
        }
      ]
    },
    {
      "cell_type": "code",
      "source": [
        "x_train[0]"
      ],
      "metadata": {
        "id": "is9xTnb1p-Ru",
        "outputId": "c9f4c105-2f57-46c4-eb15-b73e00434a7b",
        "colab": {
          "base_uri": "https://localhost:8080/",
          "height": 139
        }
      },
      "execution_count": 13,
      "outputs": [
        {
          "output_type": "execute_result",
          "data": {
            "text/plain": [
              "\"One of the other reviewers has mentioned that after watching just 1 Oz episode you'll be hooked. They are right, as this is exactly what happened with me.<br /><br />The first thing that struck me about Oz was its brutality and unflinching scenes of violence, which set in right from the word GO. Trust me, this is not a show for the faint hearted or timid. This show pulls no punches with regards to drugs, sex or violence. Its is hardcore, in the classic use of the word.<br /><br />It is called OZ as that is the nickname given to the Oswald Maximum Security State Penitentary. It focuses mainly on Emerald City, an experimental section of the prison where all the cells have glass fronts and face inwards, so privacy is not high on the agenda. Em City is home to many..Aryans, Muslims, gangstas, Latinos, Christians, Italians, Irish and more....so scuffles, death stares, dodgy dealings and shady agreements are never far away.<br /><br />I would say the main appeal of the show is due to the fact that it goes where other shows wouldn't dare. Forget pretty pictures painted for mainstream audiences, forget charm, forget romance...OZ doesn't mess around. The first episode I ever saw struck me as so nasty it was surreal, I couldn't say I was ready for it, but as I watched more, I developed a taste for Oz, and got accustomed to the high levels of graphic violence. Not just violence, but injustice (crooked guards who'll be sold out for a nickel, inmates who'll kill on order and get away with it, well mannered, middle class inmates being turned into prison bitches due to their lack of street skills or prison experience) Watching Oz, you may become comfortable with what is uncomfortable viewing....thats if you can get in touch with your darker side.\""
            ],
            "application/vnd.google.colaboratory.intrinsic+json": {
              "type": "string"
            }
          },
          "metadata": {},
          "execution_count": 13
        }
      ]
    },
    {
      "cell_type": "code",
      "metadata": {
        "colab": {
          "base_uri": "https://localhost:8080/"
        },
        "id": "y3zuRmTlUj2J",
        "outputId": "4647503a-54e8-4018-f962-c4042601d454"
      },
      "source": [
        "x_train.iloc[:10].apply(lambda x: nltk.word_tokenize(x))"
      ],
      "execution_count": 14,
      "outputs": [
        {
          "output_type": "execute_result",
          "data": {
            "text/plain": [
              "0    [One, of, the, other, reviewers, has, mentione...\n",
              "1    [A, wonderful, little, production, ., <, br, /...\n",
              "2    [I, thought, this, was, a, wonderful, way, to,...\n",
              "3    [Basically, there, 's, a, family, where, a, li...\n",
              "4    [Petter, Mattei, 's, ``, Love, in, the, Time, ...\n",
              "5    [Probably, my, all-time, favorite, movie, ,, a...\n",
              "6    [I, sure, would, like, to, see, a, resurrectio...\n",
              "7    [This, show, was, an, amazing, ,, fresh, &, in...\n",
              "8    [Encouraged, by, the, positive, comments, abou...\n",
              "9    [If, you, like, original, gut, wrenching, laug...\n",
              "Name: review, dtype: object"
            ]
          },
          "metadata": {},
          "execution_count": 14
        }
      ]
    },
    {
      "cell_type": "code",
      "metadata": {
        "id": "-HuSFhi0Ol_9"
      },
      "source": [
        "def preprocess(text):\n",
        "    text = re.sub(r'http\\S+', 'HTTPURL', text)#<URL>\n",
        "    text = re.sub(r'<br\\s?\\/>|<br>', \"\", text) #remove <br>\n",
        "    text = nltk.word_tokenize(text.lower()) #lower case\n",
        "    text = [w for w in text if not w in stop_words]\n",
        "    text = (\" \").join(text)\n",
        "    text = re.sub(r\"([.!?])\", r\" \\1\", text)\n",
        "    text = re.sub(r\"[^a-zA-Z.!?]+\", r\" \", text)\n",
        "    text = re.sub(r\"\\s+\", r\" \", text).strip()\n",
        "    return text\n",
        "\n",
        "x_train = x_train.apply(preprocess)\n",
        "x_test = x_test.apply(preprocess)"
      ],
      "execution_count": 15,
      "outputs": []
    },
    {
      "cell_type": "code",
      "metadata": {
        "colab": {
          "base_uri": "https://localhost:8080/"
        },
        "id": "mYiU5-K0Ol8l",
        "outputId": "45c9efc9-6011-4fac-cc6c-dd631457ca22"
      },
      "source": [
        "x_train.head()"
      ],
      "execution_count": 16,
      "outputs": [
        {
          "output_type": "execute_result",
          "data": {
            "text/plain": [
              "0    one reviewers mentioned watching oz episode ll...\n",
              "1    wonderful little production . filming techniqu...\n",
              "2    thought wonderful way spend time hot summer we...\n",
              "3    basically s family little boy jake thinks s zo...\n",
              "4    petter mattei s love time money visually stunn...\n",
              "Name: review, dtype: object"
            ]
          },
          "metadata": {},
          "execution_count": 16
        }
      ]
    },
    {
      "cell_type": "code",
      "metadata": {
        "id": "k3S04VkglmSf",
        "colab": {
          "base_uri": "https://localhost:8080/"
        },
        "outputId": "4be196c2-280f-4523-e94c-81672040c365"
      },
      "source": [
        "word_to_counts = x_train.str.split(expand=True).stack().value_counts()\n",
        "word_to_counts"
      ],
      "execution_count": 18,
      "outputs": [
        {
          "output_type": "execute_result",
          "data": {
            "text/plain": [
              ".                  282086\n",
              "s                   63539\n",
              "movie               44176\n",
              "film                39960\n",
              "t                   33612\n",
              "                    ...  \n",
              "krush                   1\n",
              "moussolini              1\n",
              ".showing                1\n",
              "parenthetically         1\n",
              "underlays               1\n",
              "Length: 79664, dtype: int64"
            ]
          },
          "metadata": {},
          "execution_count": 18
        }
      ]
    },
    {
      "cell_type": "code",
      "metadata": {
        "id": "lAvCGrp0l7u1"
      },
      "source": [
        "most_freq_words = word_to_counts.index[:10000]"
      ],
      "execution_count": 19,
      "outputs": []
    },
    {
      "cell_type": "code",
      "metadata": {
        "id": "s5ULS6AaOl6E"
      },
      "source": [
        "word_2_index = {\"SOS\":0, \"EOS\":1, \"UNK\":2, \"PAD\":3}\n",
        "index_2_word = {0: \"SOS\", 1: \"EOS\", 2:\"UNK\", 3:\"PAD\"}\n",
        "n_words = 4"
      ],
      "execution_count": 20,
      "outputs": []
    },
    {
      "cell_type": "code",
      "metadata": {
        "id": "beDvGsPmOluK"
      },
      "source": [
        "def add_to_voc(text, word_2_index, index_2_word, most_freq_words, n_words):\n",
        "  for word in text.split(' '):\n",
        "    if word not in word_2_index:\n",
        "      if word in most_freq_words:\n",
        "        word_2_index[word] = n_words\n",
        "        index_2_word[n_words] = word\n",
        "        n_words += 1\n",
        "      else:\n",
        "        word_2_index[word] = word_2_index['UNK']\n",
        "  return word_2_index, index_2_word, n_words"
      ],
      "execution_count": 21,
      "outputs": []
    },
    {
      "cell_type": "code",
      "metadata": {
        "id": "EGRcn1f-eVKu"
      },
      "source": [
        "for i in x_train:\n",
        "  word_2_index, index_2_word, n_words = add_to_voc(i, word_2_index, index_2_word, most_freq_words,n_words)"
      ],
      "execution_count": 22,
      "outputs": []
    },
    {
      "cell_type": "code",
      "metadata": {
        "id": "smWZbDw7Q--j",
        "colab": {
          "base_uri": "https://localhost:8080/"
        },
        "outputId": "a2891386-9095-4c08-e36e-7a70b307169c"
      },
      "source": [
        "word_2_index"
      ],
      "execution_count": 23,
      "outputs": [
        {
          "output_type": "execute_result",
          "data": {
            "text/plain": [
              "{'SOS': 0,\n",
              " 'EOS': 1,\n",
              " 'UNK': 2,\n",
              " 'PAD': 3,\n",
              " 'one': 4,\n",
              " 'reviewers': 5,\n",
              " 'mentioned': 6,\n",
              " 'watching': 7,\n",
              " 'oz': 8,\n",
              " 'episode': 9,\n",
              " 'll': 10,\n",
              " 'hooked': 11,\n",
              " '.': 12,\n",
              " 'right': 13,\n",
              " 'exactly': 14,\n",
              " 'happened': 15,\n",
              " 'me': 16,\n",
              " '.the': 17,\n",
              " 'first': 18,\n",
              " 'thing': 19,\n",
              " 'struck': 20,\n",
              " 'brutality': 21,\n",
              " 'unflinching': 2,\n",
              " 'scenes': 22,\n",
              " 'violence': 23,\n",
              " 'set': 24,\n",
              " 'word': 25,\n",
              " 'go': 26,\n",
              " 'trust': 27,\n",
              " 'show': 28,\n",
              " 'faint': 29,\n",
              " 'hearted': 30,\n",
              " 'timid': 2,\n",
              " 'pulls': 31,\n",
              " 'punches': 32,\n",
              " 'regards': 33,\n",
              " 'drugs': 34,\n",
              " 'sex': 35,\n",
              " 'hardcore': 36,\n",
              " 'classic': 37,\n",
              " 'use': 38,\n",
              " '.it': 39,\n",
              " 'called': 40,\n",
              " 'nickname': 2,\n",
              " 'given': 41,\n",
              " 'oswald': 2,\n",
              " 'maximum': 42,\n",
              " 'security': 43,\n",
              " 'state': 44,\n",
              " 'penitentary': 2,\n",
              " 'focuses': 45,\n",
              " 'mainly': 46,\n",
              " 'emerald': 2,\n",
              " 'city': 47,\n",
              " 'experimental': 48,\n",
              " 'section': 49,\n",
              " 'prison': 50,\n",
              " 'cells': 51,\n",
              " 'glass': 52,\n",
              " 'fronts': 2,\n",
              " 'face': 53,\n",
              " 'inwards': 2,\n",
              " 'privacy': 2,\n",
              " 'high': 54,\n",
              " 'agenda': 55,\n",
              " 'em': 56,\n",
              " 'home': 57,\n",
              " 'many': 58,\n",
              " 'aryans': 2,\n",
              " 'muslims': 59,\n",
              " 'gangstas': 2,\n",
              " 'latinos': 2,\n",
              " 'christians': 60,\n",
              " 'italians': 61,\n",
              " 'irish': 62,\n",
              " 'scuffles': 2,\n",
              " 'death': 63,\n",
              " 'stares': 64,\n",
              " 'dodgy': 65,\n",
              " 'dealings': 2,\n",
              " 'shady': 66,\n",
              " 'agreements': 2,\n",
              " 'never': 67,\n",
              " 'far': 68,\n",
              " 'away': 69,\n",
              " '.i': 70,\n",
              " 'would': 71,\n",
              " 'say': 72,\n",
              " 'main': 73,\n",
              " 'appeal': 74,\n",
              " 'due': 75,\n",
              " 'fact': 76,\n",
              " 'goes': 77,\n",
              " 'shows': 78,\n",
              " 'n': 79,\n",
              " 't': 80,\n",
              " 'dare': 81,\n",
              " 'forget': 82,\n",
              " 'pretty': 83,\n",
              " 'pictures': 84,\n",
              " 'painted': 85,\n",
              " 'mainstream': 86,\n",
              " 'audiences': 87,\n",
              " 'charm': 88,\n",
              " 'romance': 89,\n",
              " 'mess': 90,\n",
              " 'around': 91,\n",
              " 'ever': 92,\n",
              " 'saw': 93,\n",
              " 'nasty': 94,\n",
              " 'surreal': 95,\n",
              " 'could': 96,\n",
              " 'ready': 97,\n",
              " 'watched': 98,\n",
              " 'developed': 99,\n",
              " 'taste': 100,\n",
              " 'got': 101,\n",
              " 'accustomed': 102,\n",
              " 'levels': 103,\n",
              " 'graphic': 104,\n",
              " 'injustice': 105,\n",
              " 'crooked': 106,\n",
              " 'guards': 107,\n",
              " 'sold': 108,\n",
              " 'nickel': 2,\n",
              " 'inmates': 109,\n",
              " 'kill': 110,\n",
              " 'order': 111,\n",
              " 'get': 112,\n",
              " 'well': 113,\n",
              " 'mannered': 114,\n",
              " 'middle': 115,\n",
              " 'class': 116,\n",
              " 'turned': 117,\n",
              " 'bitches': 2,\n",
              " 'lack': 118,\n",
              " 'street': 119,\n",
              " 'skills': 120,\n",
              " 'experience': 121,\n",
              " 'may': 122,\n",
              " 'become': 123,\n",
              " 'comfortable': 124,\n",
              " 'uncomfortable': 125,\n",
              " 'viewing': 126,\n",
              " 'thats': 127,\n",
              " 'touch': 128,\n",
              " 'darker': 129,\n",
              " 'side': 130,\n",
              " 'wonderful': 131,\n",
              " 'little': 132,\n",
              " 'production': 133,\n",
              " 'filming': 134,\n",
              " 'technique': 135,\n",
              " 'unassuming': 2,\n",
              " 'old': 136,\n",
              " 'time': 137,\n",
              " 'bbc': 138,\n",
              " 'fashion': 139,\n",
              " 'gives': 140,\n",
              " 'comforting': 2,\n",
              " 'sometimes': 141,\n",
              " 'discomforting': 2,\n",
              " 'sense': 142,\n",
              " 'realism': 143,\n",
              " 'entire': 144,\n",
              " 'piece': 145,\n",
              " 'actors': 146,\n",
              " 'extremely': 147,\n",
              " 'chosen': 148,\n",
              " 'michael': 149,\n",
              " 'sheen': 150,\n",
              " 'polari': 2,\n",
              " 'voices': 151,\n",
              " 'pat': 152,\n",
              " '!': 153,\n",
              " 'truly': 154,\n",
              " 'see': 155,\n",
              " 'seamless': 2,\n",
              " 'editing': 156,\n",
              " 'guided': 157,\n",
              " 'references': 158,\n",
              " 'williams': 159,\n",
              " 'diary': 160,\n",
              " 'entries': 161,\n",
              " 'worth': 162,\n",
              " 'terrificly': 2,\n",
              " 'written': 163,\n",
              " 'performed': 164,\n",
              " 'masterful': 165,\n",
              " 'great': 166,\n",
              " 'master': 167,\n",
              " 's': 168,\n",
              " 'comedy': 169,\n",
              " 'life': 170,\n",
              " 'really': 171,\n",
              " 'comes': 172,\n",
              " 'things': 173,\n",
              " 'fantasy': 174,\n",
              " 'guard': 175,\n",
              " 'rather': 176,\n",
              " 'traditional': 177,\n",
              " 'dream': 178,\n",
              " 'techniques': 179,\n",
              " 'remains': 180,\n",
              " 'solid': 181,\n",
              " 'disappears': 182,\n",
              " 'plays': 183,\n",
              " 'knowledge': 184,\n",
              " 'senses': 185,\n",
              " 'particularly': 186,\n",
              " 'concerning': 187,\n",
              " 'orton': 2,\n",
              " 'halliwell': 2,\n",
              " 'sets': 188,\n",
              " 'flat': 189,\n",
              " 'murals': 2,\n",
              " 'decorating': 2,\n",
              " 'every': 190,\n",
              " 'surface': 191,\n",
              " 'terribly': 192,\n",
              " 'done': 193,\n",
              " 'thought': 194,\n",
              " 'way': 195,\n",
              " 'spend': 196,\n",
              " 'hot': 197,\n",
              " 'summer': 198,\n",
              " 'weekend': 199,\n",
              " 'sitting': 200,\n",
              " 'air': 201,\n",
              " 'conditioned': 2,\n",
              " 'theater': 202,\n",
              " 'light': 203,\n",
              " 'plot': 204,\n",
              " 'simplistic': 205,\n",
              " 'dialogue': 206,\n",
              " 'witty': 207,\n",
              " 'characters': 208,\n",
              " 'likable': 209,\n",
              " 'even': 210,\n",
              " 'bread': 211,\n",
              " 'suspected': 212,\n",
              " 'serial': 213,\n",
              " 'killer': 214,\n",
              " 'disappointed': 215,\n",
              " 'realize': 216,\n",
              " 'match': 217,\n",
              " 'point': 218,\n",
              " 'risk': 219,\n",
              " 'addiction': 220,\n",
              " 'proof': 221,\n",
              " 'woody': 222,\n",
              " 'allen': 223,\n",
              " 'still': 224,\n",
              " 'fully': 225,\n",
              " 'control': 226,\n",
              " 'style': 227,\n",
              " 'us': 228,\n",
              " 'grown': 229,\n",
              " 'love': 230,\n",
              " '.this': 231,\n",
              " 'd': 232,\n",
              " 'laughed': 233,\n",
              " 'comedies': 234,\n",
              " 'years': 235,\n",
              " 'decade': 236,\n",
              " '?': 237,\n",
              " 've': 238,\n",
              " 'impressed': 239,\n",
              " 'scarlet': 240,\n",
              " 'johanson': 2,\n",
              " 'managed': 241,\n",
              " 'tone': 242,\n",
              " 'sexy': 243,\n",
              " 'image': 244,\n",
              " 'jumped': 245,\n",
              " 'average': 246,\n",
              " 'spirited': 247,\n",
              " 'young': 248,\n",
              " 'woman': 249,\n",
              " 'crown': 250,\n",
              " 'jewel': 251,\n",
              " 'career': 252,\n",
              " 'wittier': 2,\n",
              " 'devil': 253,\n",
              " 'wears': 254,\n",
              " 'prada': 2,\n",
              " 'interesting': 255,\n",
              " 'superman': 256,\n",
              " 'friends': 257,\n",
              " 'basically': 258,\n",
              " 'family': 259,\n",
              " 'boy': 260,\n",
              " 'jake': 261,\n",
              " 'thinks': 262,\n",
              " 'zombie': 263,\n",
              " 'closet': 264,\n",
              " 'parents': 265,\n",
              " 'fighting': 266,\n",
              " 'movie': 267,\n",
              " 'slower': 268,\n",
              " 'soap': 269,\n",
              " 'opera': 270,\n",
              " 'suddenly': 271,\n",
              " 'decides': 272,\n",
              " 'rambo': 273,\n",
              " '.ok': 274,\n",
              " 're': 275,\n",
              " 'going': 276,\n",
              " 'make': 277,\n",
              " 'film': 278,\n",
              " 'must': 279,\n",
              " 'decide': 280,\n",
              " 'thriller': 281,\n",
              " 'drama': 282,\n",
              " 'watchable': 283,\n",
              " 'divorcing': 2,\n",
              " 'arguing': 284,\n",
              " 'like': 285,\n",
              " 'real': 286,\n",
              " 'totally': 287,\n",
              " 'ruins': 288,\n",
              " 'expected': 289,\n",
              " 'boogeyman': 2,\n",
              " 'similar': 290,\n",
              " 'instead': 291,\n",
              " 'meaningless': 292,\n",
              " 'spots': 293,\n",
              " 'playing': 294,\n",
              " 'descent': 295,\n",
              " 'dialogs': 296,\n",
              " 'shots': 297,\n",
              " 'ignore': 298,\n",
              " 'petter': 2,\n",
              " 'mattei': 299,\n",
              " 'money': 300,\n",
              " 'visually': 301,\n",
              " 'stunning': 302,\n",
              " 'watch': 303,\n",
              " 'mr': 304,\n",
              " 'offers': 305,\n",
              " 'vivid': 306,\n",
              " 'portrait': 307,\n",
              " 'human': 308,\n",
              " 'relations': 309,\n",
              " 'seems': 310,\n",
              " 'telling': 311,\n",
              " 'power': 312,\n",
              " 'success': 313,\n",
              " 'people': 314,\n",
              " 'different': 315,\n",
              " 'situations': 316,\n",
              " 'encounter': 317,\n",
              " 'variation': 318,\n",
              " 'arthur': 319,\n",
              " 'schnitzler': 2,\n",
              " 'play': 320,\n",
              " 'theme': 321,\n",
              " 'director': 322,\n",
              " 'transfers': 2,\n",
              " 'action': 323,\n",
              " 'present': 324,\n",
              " 'new': 325,\n",
              " 'york': 326,\n",
              " 'meet': 327,\n",
              " 'connect': 328,\n",
              " 'connected': 329,\n",
              " 'another': 330,\n",
              " 'next': 331,\n",
              " 'person': 332,\n",
              " 'know': 333,\n",
              " 'previous': 334,\n",
              " 'contact': 335,\n",
              " 'stylishly': 2,\n",
              " 'sophisticated': 336,\n",
              " 'luxurious': 2,\n",
              " 'look': 337,\n",
              " 'taken': 338,\n",
              " 'live': 339,\n",
              " 'world': 340,\n",
              " 'habitat': 2,\n",
              " 'gets': 341,\n",
              " 'souls': 342,\n",
              " 'picture': 343,\n",
              " 'stages': 344,\n",
              " 'loneliness': 345,\n",
              " 'inhabits': 2,\n",
              " 'big': 346,\n",
              " 'best': 347,\n",
              " 'place': 348,\n",
              " 'find': 349,\n",
              " 'sincere': 350,\n",
              " 'fulfillment': 2,\n",
              " 'discerns': 2,\n",
              " 'case': 351,\n",
              " 'acting': 352,\n",
              " 'good': 353,\n",
              " 'direction': 354,\n",
              " 'steve': 355,\n",
              " 'buscemi': 2,\n",
              " 'rosario': 356,\n",
              " 'dawson': 357,\n",
              " 'carol': 358,\n",
              " 'kane': 359,\n",
              " 'imperioli': 2,\n",
              " 'adrian': 360,\n",
              " 'grenier': 2,\n",
              " 'rest': 361,\n",
              " 'talented': 362,\n",
              " 'cast': 363,\n",
              " 'come': 364,\n",
              " 'alive': 365,\n",
              " '.we': 366,\n",
              " 'wish': 367,\n",
              " 'luck': 368,\n",
              " 'await': 2,\n",
              " 'anxiously': 2,\n",
              " 'work': 369,\n",
              " 'probably': 370,\n",
              " 'all': 371,\n",
              " 'favorite': 372,\n",
              " 'story': 373,\n",
              " 'selflessness': 2,\n",
              " 'sacrifice': 374,\n",
              " 'dedication': 375,\n",
              " 'noble': 376,\n",
              " 'cause': 377,\n",
              " 'preachy': 378,\n",
              " 'boring': 379,\n",
              " 'despite': 380,\n",
              " 'seen': 381,\n",
              " 'times': 382,\n",
              " 'last': 383,\n",
              " 'paul': 384,\n",
              " 'lukas': 385,\n",
              " 'performance': 386,\n",
              " 'brings': 387,\n",
              " 'tears': 388,\n",
              " 'eyes': 389,\n",
              " 'bette': 390,\n",
              " 'davis': 391,\n",
              " 'sympathetic': 392,\n",
              " 'roles': 393,\n",
              " 'delight': 394,\n",
              " 'kids': 395,\n",
              " 'grandma': 396,\n",
              " 'says': 397,\n",
              " 'dressed': 398,\n",
              " 'up': 399,\n",
              " 'midgets': 2,\n",
              " 'children': 400,\n",
              " 'makes': 401,\n",
              " 'fun': 402,\n",
              " 'mother': 403,\n",
              " 'slow': 404,\n",
              " 'awakening': 405,\n",
              " 'happening': 406,\n",
              " 'roof': 407,\n",
              " 'believable': 408,\n",
              " 'startling': 409,\n",
              " 'dozen': 410,\n",
              " 'thumbs': 411,\n",
              " 'sure': 412,\n",
              " 'resurrection': 413,\n",
              " 'dated': 414,\n",
              " 'seahunt': 2,\n",
              " 'series': 415,\n",
              " 'tech': 416,\n",
              " 'today': 417,\n",
              " 'bring': 418,\n",
              " 'back': 419,\n",
              " 'kid': 420,\n",
              " 'excitement': 421,\n",
              " 'grew': 422,\n",
              " 'black': 423,\n",
              " 'white': 424,\n",
              " 'tv': 425,\n",
              " 'gunsmoke': 2,\n",
              " 'hero': 426,\n",
              " 'week': 427,\n",
              " '.you': 428,\n",
              " 'vote': 429,\n",
              " 'comeback': 430,\n",
              " 'sea': 431,\n",
              " 'hunt': 432,\n",
              " 'need': 433,\n",
              " 'change': 434,\n",
              " 'pace': 435,\n",
              " 'water': 436,\n",
              " 'adventure': 437,\n",
              " '.oh': 438,\n",
              " 'thank': 439,\n",
              " 'outlet': 2,\n",
              " 'view': 440,\n",
              " 'viewpoints': 2,\n",
              " 'movies': 441,\n",
              " '.so': 442,\n",
              " 'ole': 2,\n",
              " 'believe': 443,\n",
              " 'wan': 444,\n",
              " 'na': 445,\n",
              " '.would': 2,\n",
              " 'nice': 446,\n",
              " 'read': 447,\n",
              " 'plus': 448,\n",
              " 'points': 449,\n",
              " '.if': 450,\n",
              " 'rhymes': 2,\n",
              " 'lines': 451,\n",
              " 'let': 452,\n",
              " 'submit': 453,\n",
              " 'leave': 454,\n",
              " 'doubt': 455,\n",
              " 'quit': 456,\n",
              " 'lets': 457,\n",
              " 'amazing': 458,\n",
              " 'fresh': 459,\n",
              " 'innovative': 460,\n",
              " 'idea': 461,\n",
              " 'aired': 462,\n",
              " 'brilliant': 463,\n",
              " 'dropped': 464,\n",
              " 'funny': 465,\n",
              " 'anymore': 466,\n",
              " 'continued': 467,\n",
              " 'decline': 468,\n",
              " 'complete': 469,\n",
              " 'waste': 470,\n",
              " 'disgraceful': 2,\n",
              " 'fallen': 471,\n",
              " 'writing': 472,\n",
              " 'painfully': 473,\n",
              " 'bad': 474,\n",
              " 'performances': 475,\n",
              " 'almost': 476,\n",
              " 'mildly': 477,\n",
              " 'entertaining': 478,\n",
              " 'respite': 2,\n",
              " 'guest': 479,\n",
              " 'hosts': 480,\n",
              " 'hard': 481,\n",
              " 'creator': 482,\n",
              " 'hand': 483,\n",
              " 'selected': 484,\n",
              " 'original': 485,\n",
              " 'also': 486,\n",
              " 'chose': 487,\n",
              " 'band': 488,\n",
              " 'hacks': 2,\n",
              " 'followed': 489,\n",
              " 'recognize': 490,\n",
              " 'brilliance': 491,\n",
              " 'fit': 492,\n",
              " 'replace': 493,\n",
              " 'mediocrity': 494,\n",
              " 'felt': 495,\n",
              " 'give': 496,\n",
              " 'stars': 497,\n",
              " 'respect': 498,\n",
              " 'made': 499,\n",
              " 'huge': 500,\n",
              " 'awful': 501,\n",
              " 'ca': 502,\n",
              " 'encouraged': 503,\n",
              " 'positive': 504,\n",
              " 'comments': 505,\n",
              " 'looking': 506,\n",
              " 'forward': 507,\n",
              " 'mistake': 508,\n",
              " 'films': 509,\n",
              " 'worst': 510,\n",
              " 'pacing': 511,\n",
              " 'storyline': 512,\n",
              " 'soundtrack': 513,\n",
              " 'song': 514,\n",
              " 'lame': 515,\n",
              " 'country': 516,\n",
              " 'tune': 517,\n",
              " 'played': 518,\n",
              " 'less': 519,\n",
              " 'four': 520,\n",
              " 'looks': 521,\n",
              " 'cheap': 522,\n",
              " 'extreme': 523,\n",
              " 'rarely': 524,\n",
              " 'happy': 525,\n",
              " 'end': 526,\n",
              " 'credits': 527,\n",
              " 'prevents': 528,\n",
              " 'giving': 529,\n",
              " 'score': 530,\n",
              " 'harvey': 531,\n",
              " 'keitel': 2,\n",
              " 'least': 532,\n",
              " 'making': 533,\n",
              " 'bit': 534,\n",
              " 'effort': 535,\n",
              " 'obsessives': 2,\n",
              " 'gut': 536,\n",
              " 'wrenching': 537,\n",
              " 'laughter': 538,\n",
              " 'hell': 539,\n",
              " 'mom': 540,\n",
              " 'liked': 541,\n",
              " 'it': 542,\n",
              " '.great': 543,\n",
              " 'camp': 544,\n",
              " 'phil': 545,\n",
              " 'alien': 546,\n",
              " 'quirky': 547,\n",
              " 'humour': 548,\n",
              " 'based': 549,\n",
              " 'oddness': 2,\n",
              " 'everything': 550,\n",
              " 'actual': 551,\n",
              " 'punchlines': 2,\n",
              " '.at': 552,\n",
              " 'odd': 553,\n",
              " 'progressed': 554,\n",
              " 'jokes': 555,\n",
              " '.its': 556,\n",
              " 'low': 557,\n",
              " 'budget': 558,\n",
              " 'problem': 559,\n",
              " 'eventually': 560,\n",
              " 'lost': 561,\n",
              " 'interest': 562,\n",
              " 'imagine': 563,\n",
              " 'stoner': 564,\n",
              " 'currently': 565,\n",
              " 'partaking': 2,\n",
              " '.for': 566,\n",
              " 'something': 567,\n",
              " 'better': 568,\n",
              " 'try': 569,\n",
              " 'brother': 570,\n",
              " 'planet': 571,\n",
              " 'came': 572,\n",
              " 'recall': 573,\n",
              " 'scariest': 574,\n",
              " 'scene': 575,\n",
              " 'bird': 576,\n",
              " 'eating': 577,\n",
              " 'men': 578,\n",
              " 'dangling': 2,\n",
              " 'helplessly': 2,\n",
              " 'parachutes': 2,\n",
              " 'horror': 579,\n",
              " '.as': 580,\n",
              " 'cheesy': 581,\n",
              " 'b': 582,\n",
              " 'saturday': 583,\n",
              " 'afternoons': 2,\n",
              " 'tired': 584,\n",
              " 'formula': 585,\n",
              " 'monster': 586,\n",
              " 'type': 587,\n",
              " 'usually': 588,\n",
              " 'included': 589,\n",
              " 'beautiful': 590,\n",
              " 'might': 591,\n",
              " 'daughter': 592,\n",
              " 'professor': 593,\n",
              " 'resolution': 594,\n",
              " 'died': 595,\n",
              " 'care': 596,\n",
              " 'much': 597,\n",
              " 'romantic': 598,\n",
              " 'angle': 599,\n",
              " 'year': 600,\n",
              " 'predictable': 601,\n",
              " 'plots': 602,\n",
              " 'unintentional': 603,\n",
              " 'humor': 604,\n",
              " '.but': 605,\n",
              " 'later': 606,\n",
              " 'psycho': 607,\n",
              " 'loved': 608,\n",
              " 'star': 609,\n",
              " 'janet': 610,\n",
              " 'leigh': 611,\n",
              " 'bumped': 2,\n",
              " 'early': 612,\n",
              " 'sat': 613,\n",
              " 'took': 614,\n",
              " 'notice': 615,\n",
              " 'since': 616,\n",
              " 'screenwriters': 617,\n",
              " 'scary': 618,\n",
              " 'possible': 619,\n",
              " 'worn': 620,\n",
              " 'rules': 621,\n",
              " 'im': 622,\n",
              " 'fan': 623,\n",
              " 'boll': 624,\n",
              " 'enjoyed': 625,\n",
              " 'postal': 2,\n",
              " 'maybe': 626,\n",
              " 'apparently': 627,\n",
              " 'bought': 628,\n",
              " 'rights': 629,\n",
              " 'cry': 630,\n",
              " 'long': 631,\n",
              " 'ago': 632,\n",
              " 'game': 633,\n",
              " 'finsished': 2,\n",
              " 'killing': 634,\n",
              " 'mercs': 2,\n",
              " 'infiltrating': 2,\n",
              " 'secret': 635,\n",
              " 'research': 636,\n",
              " 'labs': 2,\n",
              " 'located': 637,\n",
              " 'tropical': 2,\n",
              " 'island': 638,\n",
              " 'warned': 639,\n",
              " 'schemed': 2,\n",
              " 'together': 640,\n",
              " 'along': 641,\n",
              " 'legion': 2,\n",
              " 'schmucks': 2,\n",
              " 'feeling': 642,\n",
              " 'loneley': 2,\n",
              " 'invites': 643,\n",
              " 'three': 644,\n",
              " 'countrymen': 2,\n",
              " 'players': 645,\n",
              " 'names': 646,\n",
              " 'til': 647,\n",
              " 'schweiger': 2,\n",
              " 'udo': 2,\n",
              " 'kier': 2,\n",
              " 'ralf': 2,\n",
              " 'moeller': 2,\n",
              " '.three': 2,\n",
              " 'actually': 648,\n",
              " 'selfs': 2,\n",
              " 'biz': 2,\n",
              " 'tale': 649,\n",
              " 'jack': 650,\n",
              " 'carver': 2,\n",
              " 'yes': 651,\n",
              " 'german': 652,\n",
              " 'hail': 2,\n",
              " 'bratwurst': 2,\n",
              " 'dudes': 653,\n",
              " 'however': 654,\n",
              " 'tils': 2,\n",
              " 'badass': 2,\n",
              " 'complained': 655,\n",
              " 'staying': 656,\n",
              " 'true': 657,\n",
              " 'whole': 658,\n",
              " 'perspective': 659,\n",
              " 'looked': 660,\n",
              " 'kicking': 661,\n",
              " 'beyond': 662,\n",
              " 'demented': 663,\n",
              " 'evil': 664,\n",
              " 'mad': 665,\n",
              " 'scientist': 666,\n",
              " 'dr': 667,\n",
              " 'krieger': 2,\n",
              " 'genetically': 2,\n",
              " 'mutated': 668,\n",
              " 'soldiers': 669,\n",
              " 'gms': 2,\n",
              " 'performing': 670,\n",
              " 'top': 671,\n",
              " 'reminds': 672,\n",
              " 'spoiler': 673,\n",
              " 'vancouver': 2,\n",
              " 'reason': 674,\n",
              " 'palm': 675,\n",
              " 'trees': 676,\n",
              " 'rich': 677,\n",
              " 'lumberjack': 2,\n",
              " 'woods': 678,\n",
              " 'gone': 679,\n",
              " 'started': 680,\n",
              " 'mehehe': 2,\n",
              " 'stay': 681,\n",
              " 'bolls': 2,\n",
              " 'shenanigans': 2,\n",
              " 'delivers': 682,\n",
              " 'meaning': 683,\n",
              " 'suck': 684,\n",
              " '.there': 685,\n",
              " 'mentioning': 686,\n",
              " 'imply': 687,\n",
              " 'areas': 688,\n",
              " 'boat': 689,\n",
              " 'cromed': 2,\n",
              " 'albino': 2,\n",
              " 'squad': 690,\n",
              " 'enters': 691,\n",
              " 'laugh': 692,\n",
              " 'reeks': 693,\n",
              " 'scheisse': 2,\n",
              " 'poop': 2,\n",
              " 'simpletons': 2,\n",
              " 'fa': 2,\n",
              " 'r': 694,\n",
              " 'take': 695,\n",
              " 'wiff': 2,\n",
              " 'ahead': 696,\n",
              " 'btw': 697,\n",
              " 'annoying': 698,\n",
              " 'sidekick': 699,\n",
              " 'shoot': 700,\n",
              " 'minutes': 701,\n",
              " 'screen': 702,\n",
              " 'shakespeare': 703,\n",
              " '.shakespeare': 2,\n",
              " 'appreciate': 704,\n",
              " 'trying': 705,\n",
              " 'masses': 706,\n",
              " 'ruin': 707,\n",
              " '.is': 708,\n",
              " 'the': 709,\n",
              " 'scottish': 710,\n",
              " 'certain': 711,\n",
              " 'rev': 2,\n",
              " 'bowdler': 2,\n",
              " 'hence': 712,\n",
              " 'bowdlerization': 2,\n",
              " 'tried': 713,\n",
              " 'victorian': 714,\n",
              " 'era': 715,\n",
              " '.in': 716,\n",
              " 'words': 717,\n",
              " 'improve': 718,\n",
              " 'perfection': 719,\n",
              " 'write': 720,\n",
              " 'ten': 721,\n",
              " 'text': 722,\n",
              " 'english': 723,\n",
              " 'composition': 724,\n",
              " 'forte': 2,\n",
              " 'keep': 725,\n",
              " 'saying': 726,\n",
              " 'cut': 727,\n",
              " 'fantastic': 728,\n",
              " 'prisoners': 729,\n",
              " 'famous': 730,\n",
              " 'george': 731,\n",
              " 'clooney': 732,\n",
              " 'm': 733,\n",
              " 'roll': 734,\n",
              " 'man': 735,\n",
              " 'constant': 736,\n",
              " 'sorrow': 737,\n",
              " 'recommand': 2,\n",
              " 'everybody': 738,\n",
              " 'greetings': 2,\n",
              " 'bart': 739,\n",
              " 'kind': 740,\n",
              " 'drawn': 741,\n",
              " 'erotic': 742,\n",
              " 'amateurish': 743,\n",
              " 'unbelievable': 744,\n",
              " 'bits': 745,\n",
              " 'sort': 746,\n",
              " 'school': 747,\n",
              " 'project': 748,\n",
              " 'rosanna': 2,\n",
              " 'arquette': 749,\n",
              " 'thinking': 750,\n",
              " 'stock': 751,\n",
              " 'bizarre': 752,\n",
              " 'supposed': 753,\n",
              " 'midwest': 2,\n",
              " 'town': 754,\n",
              " 'involved': 755,\n",
              " 'lessons': 756,\n",
              " 'learned': 757,\n",
              " 'insights': 758,\n",
              " 'stilted': 759,\n",
              " 'quite': 760,\n",
              " 'ridiculous': 761,\n",
              " 'lots': 762,\n",
              " 'skin': 763,\n",
              " 'intrigues': 2,\n",
              " 'videotaped': 2,\n",
              " 'nonsense': 764,\n",
              " 'bisexual': 2,\n",
              " 'relationship': 765,\n",
              " 'nowhere': 766,\n",
              " 'heterosexual': 2,\n",
              " 'encounters': 767,\n",
              " 'absurd': 768,\n",
              " 'dance': 769,\n",
              " 'stereotyped': 770,\n",
              " 'pass': 771,\n",
              " 'million': 772,\n",
              " 'miles': 773,\n",
              " 'wasted': 774,\n",
              " 'spent': 775,\n",
              " 'starving': 776,\n",
              " 'aids': 777,\n",
              " 'africa': 778,\n",
              " 'simply': 779,\n",
              " 'remade': 780,\n",
              " 'fails': 781,\n",
              " 'capture': 782,\n",
              " 'flavor': 783,\n",
              " 'terror': 784,\n",
              " 'title': 785,\n",
              " 'liam': 786,\n",
              " 'neeson': 2,\n",
              " 'excellent': 787,\n",
              " 'always': 788,\n",
              " 'holds': 789,\n",
              " 'exception': 790,\n",
              " 'owen': 791,\n",
              " 'wilson': 792,\n",
              " 'feel': 793,\n",
              " 'character': 794,\n",
              " 'luke': 795,\n",
              " 'major': 796,\n",
              " 'fault': 797,\n",
              " 'version': 798,\n",
              " 'strayed': 2,\n",
              " 'shirley': 799,\n",
              " 'jackson': 800,\n",
              " 'attempts': 801,\n",
              " 'grandiose': 2,\n",
              " 'thrill': 802,\n",
              " 'earlier': 803,\n",
              " 'trade': 804,\n",
              " 'snazzier': 2,\n",
              " 'special': 805,\n",
              " 'effects': 806,\n",
              " 'enjoy': 807,\n",
              " 'friction': 2,\n",
              " 'older': 808,\n",
              " 'horrible': 809,\n",
              " 'continuous': 810,\n",
              " 'minute': 811,\n",
              " 'fight': 812,\n",
              " 'chance': 813,\n",
              " 'development': 814,\n",
              " 'busy': 815,\n",
              " 'running': 816,\n",
              " 'sword': 817,\n",
              " 'emotional': 818,\n",
              " 'attachment': 2,\n",
              " 'except': 819,\n",
              " 'machine': 820,\n",
              " 'wanted': 821,\n",
              " 'destroy': 822,\n",
              " 'blatantly': 823,\n",
              " 'stolen': 824,\n",
              " 'lotr': 2,\n",
              " 'wars': 825,\n",
              " 'matrix': 826,\n",
              " 'examples': 827,\n",
              " 'ghost': 828,\n",
              " 'final': 829,\n",
              " 'yoda': 2,\n",
              " 'obee': 2,\n",
              " 'vader': 830,\n",
              " 'spider': 831,\n",
              " 'beginning': 832,\n",
              " 'frodo': 2,\n",
              " 'attacked': 833,\n",
              " 'return': 834,\n",
              " 'kings': 835,\n",
              " 'elijah': 836,\n",
              " 'wood': 837,\n",
              " 'victim': 838,\n",
              " 'wait': 839,\n",
              " 'hypnotizes': 2,\n",
              " 'stings': 2,\n",
              " 'wraps': 840,\n",
              " 'uh': 841,\n",
              " 'hello': 842,\n",
              " 'vs': 843,\n",
              " 'humans': 844,\n",
              " 'terminator': 845,\n",
              " 'someone': 846,\n",
              " 'tell': 847,\n",
              " 'nazi': 848,\n",
              " 'juvenile': 849,\n",
              " 'line': 850,\n",
              " 'rushed': 851,\n",
              " 'conclusion': 852,\n",
              " 'adult': 853,\n",
              " 'either': 854,\n",
              " 'disappointment': 855,\n",
              " 'save': 856,\n",
              " 'remember': 857,\n",
              " 'cinema': 858,\n",
              " 'dark': 859,\n",
              " 'places': 860,\n",
              " 'nervous': 861,\n",
              " 'dad': 862,\n",
              " 'sister': 863,\n",
              " 'newbury': 2,\n",
              " 'berkshire': 2,\n",
              " 'england': 864,\n",
              " ...}"
            ]
          },
          "metadata": {},
          "execution_count": 23
        }
      ]
    },
    {
      "cell_type": "code",
      "metadata": {
        "id": "NUFlBXRdSP_1"
      },
      "source": [
        "def sentence_to_int(text): \n",
        "  text = nltk.word_tokenize(text.lower())\n",
        "  ints = [word_2_index['SOS']]\n",
        "  for word in text:\n",
        "    if word in word_2_index:\n",
        "      ints.append(word_2_index[word])\n",
        "    else:\n",
        "      ints.append(word_2_index['UNK'])\n",
        "\n",
        "  return ints"
      ],
      "execution_count": 24,
      "outputs": []
    },
    {
      "cell_type": "code",
      "metadata": {
        "id": "99rfdP7AdhcM"
      },
      "source": [
        "X_train = x_train.apply(sentence_to_int)\n",
        "X_test = x_test.apply(sentence_to_int)"
      ],
      "execution_count": 25,
      "outputs": []
    },
    {
      "cell_type": "code",
      "metadata": {
        "id": "RXFzrnfDd3j7",
        "colab": {
          "base_uri": "https://localhost:8080/"
        },
        "outputId": "8da37df0-1ba3-429a-ec4d-cda745c813a3"
      },
      "source": [
        "X_train"
      ],
      "execution_count": 26,
      "outputs": [
        {
          "output_type": "execute_result",
          "data": {
            "text/plain": [
              "0        [0, 4, 5, 6, 7, 8, 9, 10, 11, 12, 13, 14, 15, ...\n",
              "1        [0, 131, 132, 133, 12, 134, 135, 2, 136, 137, ...\n",
              "2        [0, 194, 131, 195, 196, 137, 197, 198, 199, 20...\n",
              "3        [0, 258, 168, 259, 132, 260, 261, 262, 168, 26...\n",
              "4        [0, 2, 299, 168, 230, 137, 300, 301, 302, 278,...\n",
              "                               ...                        \n",
              "24995    [0, 267, 286, 2743, 2275, 3234, 12, 18, 508, 4...\n",
              "24996    [0, 942, 4826, 2641, 2, 2912, 6530, 629, 1539,...\n",
              "24997    [0, 7685, 2, 3794, 168, 40, 2, 2201, 285, 330,...\n",
              "24998    [0, 2, 651, 2, 28, 166, 12, 58, 1002, 112, 364...\n",
              "24999    [0, 278, 67, 499, 12, 1066, 279, 4993, 93, 124...\n",
              "Name: review, Length: 25000, dtype: object"
            ]
          },
          "metadata": {},
          "execution_count": 26
        }
      ]
    },
    {
      "cell_type": "code",
      "metadata": {
        "id": "IssETZT9ec7K"
      },
      "source": [
        "# set max sentence length to 200\n",
        "def remove_and_pad(text):\n",
        "  max_length = 199\n",
        "  length = len(text)\n",
        "  if length >= max_length:\n",
        "    text = text[:max_length]\n",
        "    text.append(word_2_index['EOS'])\n",
        "  else:\n",
        "    text.append(word_2_index['EOS'])\n",
        "    diff = max_length-length\n",
        "    for _ in range(diff):\n",
        "      text.append(word_2_index['PAD'])\n",
        "\n",
        "\n",
        "  return text"
      ],
      "execution_count": 31,
      "outputs": []
    },
    {
      "cell_type": "code",
      "metadata": {
        "id": "zjFKcpEuhweJ"
      },
      "source": [
        "X_train = X_train.apply(remove_and_pad)\n",
        "X_test = X_test.apply(remove_and_pad)"
      ],
      "execution_count": 32,
      "outputs": []
    },
    {
      "cell_type": "code",
      "metadata": {
        "id": "TZjKszVRone9"
      },
      "source": [
        "train = np.zeros((25000, 200))\n",
        "for i, seq in enumerate(X_train):\n",
        "  train[i,:] = seq\n",
        "\n",
        "test = np.zeros((25000, 200))\n",
        "for i, seq in enumerate(X_test):\n",
        "  test[i,:] = seq"
      ],
      "execution_count": 34,
      "outputs": []
    },
    {
      "cell_type": "markdown",
      "metadata": {
        "id": "3mBq8rhFSMLE"
      },
      "source": [
        "# Create embedding-based model\n",
        "Keras makes it easy to use word [embedding](https://www.tensorflow.org/api_docs/python/tf/keras/layers/Embedding) layer."
      ]
    },
    {
      "cell_type": "code",
      "metadata": {
        "id": "RutaI-Tpev3T"
      },
      "source": [
        "import tensorflow as tf\n",
        "import tensorflow.keras as keras\n",
        "from tensorflow.keras import Model, Sequential\n",
        "from tensorflow.keras.layers import Activation, Dense, Embedding, GlobalAveragePooling1D, Dropout"
      ],
      "execution_count": 35,
      "outputs": []
    },
    {
      "cell_type": "code",
      "metadata": {
        "id": "-OjxLVrMvWUE",
        "colab": {
          "base_uri": "https://localhost:8080/"
        },
        "outputId": "7bb8ae57-766f-416f-b73d-074c35a3abf8"
      },
      "source": [
        "# Embeddings of 10000 words into 3 dimensions.\n",
        "embedding_layer = tf.keras.layers.Embedding(10000, 3)\n",
        "embed = embedding_layer(tf.constant([1,2,3,4,5]))\n",
        "embed.numpy()"
      ],
      "execution_count": 36,
      "outputs": [
        {
          "output_type": "execute_result",
          "data": {
            "text/plain": [
              "array([[ 0.04640773,  0.0003239 ,  0.03186974],\n",
              "       [-0.0471614 , -0.02548758, -0.02328636],\n",
              "       [-0.02645097,  0.03968341,  0.04903657],\n",
              "       [ 0.01702798, -0.00027541,  0.04973097],\n",
              "       [ 0.02942863,  0.02661182,  0.03408058]], dtype=float32)"
            ]
          },
          "metadata": {},
          "execution_count": 36
        }
      ]
    },
    {
      "cell_type": "code",
      "source": [
        "emb = np.random.randn(10004,32)"
      ],
      "metadata": {
        "id": "TFC_RDslwCYZ"
      },
      "execution_count": 42,
      "outputs": []
    },
    {
      "cell_type": "code",
      "source": [
        "emb.shape"
      ],
      "metadata": {
        "id": "xMEjVKXlwKri",
        "outputId": "b27daed8-6ac8-409b-e1cb-cb12b29cf856",
        "colab": {
          "base_uri": "https://localhost:8080/"
        }
      },
      "execution_count": 43,
      "outputs": [
        {
          "output_type": "execute_result",
          "data": {
            "text/plain": [
              "(10004, 32)"
            ]
          },
          "metadata": {},
          "execution_count": 43
        }
      ]
    },
    {
      "cell_type": "code",
      "source": [
        "token_i = np.zeros((1,10004))"
      ],
      "metadata": {
        "id": "7uBEKNo3wNL4"
      },
      "execution_count": 44,
      "outputs": []
    },
    {
      "cell_type": "code",
      "source": [
        "token_i[:,5] = 1"
      ],
      "metadata": {
        "id": "2X0T9PrTwV5F"
      },
      "execution_count": 46,
      "outputs": []
    },
    {
      "cell_type": "code",
      "source": [
        "token_i[:,:6]"
      ],
      "metadata": {
        "id": "n4sJGjkBwcpa",
        "outputId": "4bd95c0e-fee1-4f67-d6a8-08bbfc91e78c",
        "colab": {
          "base_uri": "https://localhost:8080/"
        }
      },
      "execution_count": 50,
      "outputs": [
        {
          "output_type": "execute_result",
          "data": {
            "text/plain": [
              "array([[0., 0., 0., 0., 0., 1.]])"
            ]
          },
          "metadata": {},
          "execution_count": 50
        }
      ]
    },
    {
      "cell_type": "code",
      "source": [
        "emb_i = np.dot(token_i,emb)"
      ],
      "metadata": {
        "id": "ullmjQUxwjkM"
      },
      "execution_count": 51,
      "outputs": []
    },
    {
      "cell_type": "code",
      "source": [
        "emb_i.shape"
      ],
      "metadata": {
        "id": "TF7gNDuBwpYl",
        "outputId": "eb0bbb0c-75ff-4437-8933-2eee7290c3dc",
        "colab": {
          "base_uri": "https://localhost:8080/"
        }
      },
      "execution_count": 52,
      "outputs": [
        {
          "output_type": "execute_result",
          "data": {
            "text/plain": [
              "(1, 32)"
            ]
          },
          "metadata": {},
          "execution_count": 52
        }
      ]
    },
    {
      "cell_type": "code",
      "metadata": {
        "id": "QklRMHaijxAB",
        "colab": {
          "base_uri": "https://localhost:8080/"
        },
        "outputId": "63075b30-6b1f-4e50-cfa4-a9603a5cb7ab"
      },
      "source": [
        "seed = 2\n",
        "tf.random.set_seed(seed)\n",
        "np.random.seed(seed)\n",
        "\n",
        "inputs = keras.Input(shape=(None,), dtype=\"int32\")\n",
        "# TO DO \n",
        "# define embedding layer with shape (10004,32)\n",
        "x = Embedding(10004, 32, name=\"embedding\")(inputs)\n",
        "x = GlobalAveragePooling1D()(x)\n",
        "x = Dense(32, activation='relu')(x)\n",
        "outputs = Dense(1, activation=\"sigmoid\")(x)\n",
        "model = keras.Model(inputs, outputs)\n",
        "model.summary()"
      ],
      "execution_count": 37,
      "outputs": [
        {
          "output_type": "stream",
          "name": "stdout",
          "text": [
            "Model: \"model\"\n",
            "_________________________________________________________________\n",
            " Layer (type)                Output Shape              Param #   \n",
            "=================================================================\n",
            " input_1 (InputLayer)        [(None, None)]            0         \n",
            "                                                                 \n",
            " embedding (Embedding)       (None, None, 32)          320128    \n",
            "                                                                 \n",
            " global_average_pooling1d (G  (None, 32)               0         \n",
            " lobalAveragePooling1D)                                          \n",
            "                                                                 \n",
            " dense (Dense)               (None, 32)                1056      \n",
            "                                                                 \n",
            " dense_1 (Dense)             (None, 1)                 33        \n",
            "                                                                 \n",
            "=================================================================\n",
            "Total params: 321,217\n",
            "Trainable params: 321,217\n",
            "Non-trainable params: 0\n",
            "_________________________________________________________________\n"
          ]
        }
      ]
    },
    {
      "cell_type": "code",
      "metadata": {
        "id": "zVqsynPzkYsz",
        "colab": {
          "base_uri": "https://localhost:8080/"
        },
        "outputId": "7a0bd846-47d1-4a15-8877-99b8f6e251ba"
      },
      "source": [
        "model.compile(optimizer=\"adam\", loss=\"binary_crossentropy\", metrics=[\"accuracy\"])\n",
        "history = model.fit(train, y_train.to_numpy(), batch_size=512, epochs=10, validation_data=(test, y_test.to_numpy()))"
      ],
      "execution_count": 38,
      "outputs": [
        {
          "output_type": "stream",
          "name": "stdout",
          "text": [
            "Epoch 1/10\n",
            "49/49 [==============================] - 3s 45ms/step - loss: 0.6874 - accuracy: 0.6008 - val_loss: 0.6757 - val_accuracy: 0.6621\n",
            "Epoch 2/10\n",
            "49/49 [==============================] - 1s 28ms/step - loss: 0.6450 - accuracy: 0.7636 - val_loss: 0.6044 - val_accuracy: 0.7986\n",
            "Epoch 3/10\n",
            "49/49 [==============================] - 1s 27ms/step - loss: 0.5433 - accuracy: 0.8231 - val_loss: 0.4930 - val_accuracy: 0.8358\n",
            "Epoch 4/10\n",
            "49/49 [==============================] - 2s 35ms/step - loss: 0.4288 - accuracy: 0.8601 - val_loss: 0.4018 - val_accuracy: 0.8547\n",
            "Epoch 5/10\n",
            "49/49 [==============================] - 2s 39ms/step - loss: 0.3448 - accuracy: 0.8864 - val_loss: 0.3467 - val_accuracy: 0.8732\n",
            "Epoch 6/10\n",
            "49/49 [==============================] - 2s 44ms/step - loss: 0.2930 - accuracy: 0.8992 - val_loss: 0.3182 - val_accuracy: 0.8787\n",
            "Epoch 7/10\n",
            "49/49 [==============================] - 2s 38ms/step - loss: 0.2584 - accuracy: 0.9094 - val_loss: 0.3010 - val_accuracy: 0.8833\n",
            "Epoch 8/10\n",
            "49/49 [==============================] - 2s 37ms/step - loss: 0.2338 - accuracy: 0.9181 - val_loss: 0.2909 - val_accuracy: 0.8853\n",
            "Epoch 9/10\n",
            "49/49 [==============================] - 2s 33ms/step - loss: 0.2145 - accuracy: 0.9234 - val_loss: 0.2880 - val_accuracy: 0.8851\n",
            "Epoch 10/10\n",
            "49/49 [==============================] - 2s 36ms/step - loss: 0.1999 - accuracy: 0.9293 - val_loss: 0.2854 - val_accuracy: 0.8872\n"
          ]
        }
      ]
    },
    {
      "cell_type": "code",
      "metadata": {
        "id": "t9dvSz6ckk8l",
        "colab": {
          "base_uri": "https://localhost:8080/",
          "height": 472
        },
        "outputId": "5b79e2d1-ddc6-4cda-8dd9-e169b379b1f7"
      },
      "source": [
        "import matplotlib.pyplot as plt\n",
        "%matplotlib inline\n",
        "\n",
        "# summarize history for loss\n",
        "plt.plot(history.history['loss'])\n",
        "plt.plot(history.history['val_loss'])\n",
        "plt.title('model loss')\n",
        "plt.ylabel('loss')\n",
        "plt.xlabel('epoch')\n",
        "plt.legend(['train', 'val'], loc='upper right')\n",
        "plt.show()"
      ],
      "execution_count": 39,
      "outputs": [
        {
          "output_type": "display_data",
          "data": {
            "text/plain": [
              "<Figure size 640x480 with 1 Axes>"
            ],
            "image/png": "[encoded data removed]"
          },
          "metadata": {}
        }
      ]
    },
    {
      "cell_type": "code",
      "metadata": {
        "id": "J1L9rkY7jjYi",
        "colab": {
          "base_uri": "https://localhost:8080/",
          "height": 472
        },
        "outputId": "e09fe5da-738f-4bd3-b4be-a045f19e56ad"
      },
      "source": [
        "# summarize history for accuracy\n",
        "plt.plot(history.history['accuracy'])\n",
        "plt.plot(history.history['val_accuracy'])\n",
        "plt.title('model accuracy')\n",
        "plt.ylabel('accuracy')\n",
        "plt.xlabel('epoch')\n",
        "plt.legend(['train', 'val'], loc='upper left')\n",
        "plt.show()"
      ],
      "execution_count": 40,
      "outputs": [
        {
          "output_type": "display_data",
          "data": {
            "text/plain": [
              "<Figure size 640x480 with 1 Axes>"
            ],
            "image/png": "[encoded data removed]"
          },
          "metadata": {}
        }
      ]
    },
    {
      "cell_type": "markdown",
      "metadata": {
        "id": "TvcP7EHEdNxt"
      },
      "source": [
        "### Visualize embeddings in 2D\n",
        "Check also the tensorflow [projector](http://projector.tensorflow.org/) use in this [example](https://www.tensorflow.org/tutorials/text/word_embeddings)"
      ]
    },
    {
      "cell_type": "code",
      "metadata": {
        "id": "QJGEBaG8dj7H"
      },
      "source": [
        "from sklearn.decomposition import PCA"
      ],
      "execution_count": null,
      "outputs": []
    },
    {
      "cell_type": "code",
      "metadata": {
        "id": "_Uamp1YH8RzU"
      },
      "source": [
        "embeddings = model.get_layer('embedding').get_weights()[0]"
      ],
      "execution_count": null,
      "outputs": []
    },
    {
      "cell_type": "code",
      "metadata": {
        "id": "Og8r3t7Pfpjt"
      },
      "source": [
        "pca = PCA(n_components=2)\n",
        "result = pca.fit_transform(embeddings)"
      ],
      "execution_count": null,
      "outputs": []
    },
    {
      "cell_type": "code",
      "metadata": {
        "id": "rugMtq84gGg1",
        "colab": {
          "base_uri": "https://localhost:8080/",
          "height": 283
        },
        "outputId": "f5740ed6-4157-4ecf-c95b-76824833c1a5"
      },
      "source": [
        "words = list(word_2_index.keys())[:50]\n",
        "for i, word in enumerate(words):\n",
        "\tplt.annotate(word, xy=(result[i, 0], result[i, 1]))\n",
        "plt.scatter(result[:50, 0], result[:50, 1])"
      ],
      "execution_count": null,
      "outputs": [
        {
          "output_type": "execute_result",
          "data": {
            "text/plain": [
              "<matplotlib.collections.PathCollection at 0x7fede1ddcc10>"
            ]
          },
          "metadata": {
            "tags": []
          },
          "execution_count": 39
        },
        {
          "output_type": "display_data",
          "data": {
            "image/png": "[encoded data removed]",
            "text/plain": [
              "<Figure size 432x288 with 1 Axes>"
            ]
          },
          "metadata": {
            "tags": [],
            "needs_background": "light"
          }
        }
      ]
    },
    {
      "cell_type": "code",
      "metadata": {
        "id": "vFgi-GnKi5LD"
      },
      "source": [],
      "execution_count": null,
      "outputs": []
    }
  ]
}