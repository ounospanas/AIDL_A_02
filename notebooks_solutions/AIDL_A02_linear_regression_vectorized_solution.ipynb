{
  "nbformat": 4,
  "nbformat_minor": 0,
  "metadata": {
    "colab": {
      "name": "AIDL_A02_linear_regression_vectorized_solution.ipynb",
      "provenance": []
    },
    "kernelspec": {
      "name": "python3",
      "display_name": "Python 3"
    }
  },
  "cells": [
    {
      "cell_type": "markdown",
      "metadata": {
        "id": "ZDNtwI5T9cQY"
      },
      "source": [
        "# Download house pricing data from Kaggle\n",
        "https://www.kaggle.com/general/74235"
      ]
    },
    {
      "cell_type": "markdown",
      "metadata": {
        "id": "-8DJ4g1Z9hHf"
      },
      "source": [
        "1. Create a Kaggle account or link it with an existing one (e.g., Gmail).\n",
        "\n",
        "2. Go to your account, Scroll to API section and Click Expire API Token to remove previous tokens\n",
        "\n",
        "3. Click on Create New API Token - It will download kaggle.json file on your machine."
      ]
    },
    {
      "cell_type": "code",
      "metadata": {
        "id": "BJcVyvJq9Jch"
      },
      "source": [
        "# import files class to upload files to colab\n",
        "from google.colab import files"
      ],
      "execution_count": null,
      "outputs": []
    },
    {
      "cell_type": "code",
      "metadata": {
        "colab": {
          "resources": {
            "http://localhost:8080/nbextensions/google.colab/files.js": {
              "data": "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",
              "ok": true,
              "headers": [
                [
                  "content-type",
                  "application/javascript"
                ]
              ],
              "status": 200,
              "status_text": ""
            }
          },
          "base_uri": "https://localhost:8080/",
          "height": 56
        },
        "id": "lrB3D3rV9JgJ",
        "outputId": "1028ef3d-3f49-42a0-c22a-c21ab4bce07e"
      },
      "source": [
        "# upload kaggle.json\n",
        "files.upload()"
      ],
      "execution_count": null,
      "outputs": [
        {
          "output_type": "display_data",
          "data": {
            "text/html": [
              "\n",
              "     <input type=\"file\" id=\"files-f4644cae-d2b3-486a-8c0b-00c2e29f4317\" name=\"files[]\" multiple disabled\n",
              "        style=\"border:none\" />\n",
              "     <output id=\"result-f4644cae-d2b3-486a-8c0b-00c2e29f4317\">\n",
              "      Upload widget is only available when the cell has been executed in the\n",
              "      current browser session. Please rerun this cell to enable.\n",
              "      </output>\n",
              "      <script src=\"/nbextensions/google.colab/files.js\"></script> "
            ],
            "text/plain": [
              "<IPython.core.display.HTML object>"
            ]
          },
          "metadata": {
            "tags": []
          }
        },
        {
          "output_type": "execute_result",
          "data": {
            "text/plain": [
              "{}"
            ]
          },
          "metadata": {
            "tags": []
          },
          "execution_count": 38
        }
      ]
    },
    {
      "cell_type": "code",
      "metadata": {
        "id": "vpCvMQvS9Ju9",
        "colab": {
          "base_uri": "https://localhost:8080/"
        },
        "outputId": "f91da190-319a-47be-de58-f1b8c4a39936"
      },
      "source": [
        "# Make directory named kaggle and copy kaggle.json file there.\n",
        "! mkdir ~/.kaggle\n",
        "! cp kaggle.json ~/.kaggle/\n",
        "! chmod 600 ~/.kaggle/kaggle.json"
      ],
      "execution_count": null,
      "outputs": [
        {
          "output_type": "stream",
          "text": [
            "mkdir: cannot create directory ‘/root/.kaggle’: File exists\n"
          ],
          "name": "stdout"
        }
      ]
    },
    {
      "cell_type": "code",
      "metadata": {
        "colab": {
          "base_uri": "https://localhost:8080/"
        },
        "id": "b-lo2kmL9zdj",
        "outputId": "4ce71b71-b76b-46f5-da3c-7393f4573a67"
      },
      "source": [
        "# Download house price dataset and unzip to the corresponding folder\n",
        "! kaggle datasets download 'shivachandel/kc-house-data'\n",
        "! mkdir house\n",
        "! unzip kc-house-data.zip  -d house"
      ],
      "execution_count": null,
      "outputs": [
        {
          "output_type": "stream",
          "text": [
            "kc-house-data.zip: Skipping, found more recently modified local copy (use --force to force download)\n",
            "mkdir: cannot create directory ‘house’: File exists\n",
            "Archive:  kc-house-data.zip\n",
            "replace house/kc_house_data.csv? [y]es, [n]o, [A]ll, [N]one, [r]ename: no\n"
          ],
          "name": "stdout"
        }
      ]
    },
    {
      "cell_type": "markdown",
      "metadata": {
        "id": "2PMMxNGBAZtG"
      },
      "source": [
        "# Linear Regression (sklearn)"
      ]
    },
    {
      "cell_type": "code",
      "source": [
        "!pip install scikit-learn==\"1.1.1\""
      ],
      "metadata": {
        "id": "bOhjBFcExaPA"
      },
      "execution_count": null,
      "outputs": []
    },
    {
      "cell_type": "code",
      "metadata": {
        "id": "kYmraysM9Jyo"
      },
      "source": [
        "import pandas as pd\n",
        "import numpy as np\n",
        "import matplotlib.pyplot as plt\n",
        "%matplotlib inline"
      ],
      "execution_count": null,
      "outputs": []
    },
    {
      "cell_type": "code",
      "metadata": {
        "colab": {
          "base_uri": "https://localhost:8080/",
          "height": 222
        },
        "id": "qVVIg0k3-MKW",
        "outputId": "6139a80d-2b71-4e1d-bf7a-1e0584020d15"
      },
      "source": [
        "#read data\n",
        "df = pd.read_csv('house/kc_house_data.csv')\n",
        "df.head()"
      ],
      "execution_count": null,
      "outputs": [
        {
          "output_type": "execute_result",
          "data": {
            "text/html": [
              "<div>\n",
              "<style scoped>\n",
              "    .dataframe tbody tr th:only-of-type {\n",
              "        vertical-align: middle;\n",
              "    }\n",
              "\n",
              "    .dataframe tbody tr th {\n",
              "        vertical-align: top;\n",
              "    }\n",
              "\n",
              "    .dataframe thead th {\n",
              "        text-align: right;\n",
              "    }\n",
              "</style>\n",
              "<table border=\"1\" class=\"dataframe\">\n",
              "  <thead>\n",
              "    <tr style=\"text-align: right;\">\n",
              "      <th></th>\n",
              "      <th>id</th>\n",
              "      <th>date</th>\n",
              "      <th>price</th>\n",
              "      <th>bedrooms</th>\n",
              "      <th>bathrooms</th>\n",
              "      <th>sqft_living</th>\n",
              "      <th>sqft_lot</th>\n",
              "      <th>floors</th>\n",
              "      <th>waterfront</th>\n",
              "      <th>view</th>\n",
              "      <th>condition</th>\n",
              "      <th>grade</th>\n",
              "      <th>sqft_above</th>\n",
              "      <th>sqft_basement</th>\n",
              "      <th>yr_built</th>\n",
              "      <th>yr_renovated</th>\n",
              "      <th>zipcode</th>\n",
              "      <th>lat</th>\n",
              "      <th>long</th>\n",
              "      <th>sqft_living15</th>\n",
              "      <th>sqft_lot15</th>\n",
              "    </tr>\n",
              "  </thead>\n",
              "  <tbody>\n",
              "    <tr>\n",
              "      <th>0</th>\n",
              "      <td>7129300520</td>\n",
              "      <td>20141013T000000</td>\n",
              "      <td>221900.0</td>\n",
              "      <td>3</td>\n",
              "      <td>1.00</td>\n",
              "      <td>1180</td>\n",
              "      <td>5650</td>\n",
              "      <td>1.0</td>\n",
              "      <td>0</td>\n",
              "      <td>0</td>\n",
              "      <td>3</td>\n",
              "      <td>7</td>\n",
              "      <td>1180.0</td>\n",
              "      <td>0</td>\n",
              "      <td>1955</td>\n",
              "      <td>0</td>\n",
              "      <td>98178</td>\n",
              "      <td>47.5112</td>\n",
              "      <td>-122.257</td>\n",
              "      <td>1340</td>\n",
              "      <td>5650</td>\n",
              "    </tr>\n",
              "    <tr>\n",
              "      <th>1</th>\n",
              "      <td>6414100192</td>\n",
              "      <td>20141209T000000</td>\n",
              "      <td>538000.0</td>\n",
              "      <td>3</td>\n",
              "      <td>2.25</td>\n",
              "      <td>2570</td>\n",
              "      <td>7242</td>\n",
              "      <td>2.0</td>\n",
              "      <td>0</td>\n",
              "      <td>0</td>\n",
              "      <td>3</td>\n",
              "      <td>7</td>\n",
              "      <td>2170.0</td>\n",
              "      <td>400</td>\n",
              "      <td>1951</td>\n",
              "      <td>1991</td>\n",
              "      <td>98125</td>\n",
              "      <td>47.7210</td>\n",
              "      <td>-122.319</td>\n",
              "      <td>1690</td>\n",
              "      <td>7639</td>\n",
              "    </tr>\n",
              "    <tr>\n",
              "      <th>2</th>\n",
              "      <td>5631500400</td>\n",
              "      <td>20150225T000000</td>\n",
              "      <td>180000.0</td>\n",
              "      <td>2</td>\n",
              "      <td>1.00</td>\n",
              "      <td>770</td>\n",
              "      <td>10000</td>\n",
              "      <td>1.0</td>\n",
              "      <td>0</td>\n",
              "      <td>0</td>\n",
              "      <td>3</td>\n",
              "      <td>6</td>\n",
              "      <td>770.0</td>\n",
              "      <td>0</td>\n",
              "      <td>1933</td>\n",
              "      <td>0</td>\n",
              "      <td>98028</td>\n",
              "      <td>47.7379</td>\n",
              "      <td>-122.233</td>\n",
              "      <td>2720</td>\n",
              "      <td>8062</td>\n",
              "    </tr>\n",
              "    <tr>\n",
              "      <th>3</th>\n",
              "      <td>2487200875</td>\n",
              "      <td>20141209T000000</td>\n",
              "      <td>604000.0</td>\n",
              "      <td>4</td>\n",
              "      <td>3.00</td>\n",
              "      <td>1960</td>\n",
              "      <td>5000</td>\n",
              "      <td>1.0</td>\n",
              "      <td>0</td>\n",
              "      <td>0</td>\n",
              "      <td>5</td>\n",
              "      <td>7</td>\n",
              "      <td>1050.0</td>\n",
              "      <td>910</td>\n",
              "      <td>1965</td>\n",
              "      <td>0</td>\n",
              "      <td>98136</td>\n",
              "      <td>47.5208</td>\n",
              "      <td>-122.393</td>\n",
              "      <td>1360</td>\n",
              "      <td>5000</td>\n",
              "    </tr>\n",
              "    <tr>\n",
              "      <th>4</th>\n",
              "      <td>1954400510</td>\n",
              "      <td>20150218T000000</td>\n",
              "      <td>510000.0</td>\n",
              "      <td>3</td>\n",
              "      <td>2.00</td>\n",
              "      <td>1680</td>\n",
              "      <td>8080</td>\n",
              "      <td>1.0</td>\n",
              "      <td>0</td>\n",
              "      <td>0</td>\n",
              "      <td>3</td>\n",
              "      <td>8</td>\n",
              "      <td>1680.0</td>\n",
              "      <td>0</td>\n",
              "      <td>1987</td>\n",
              "      <td>0</td>\n",
              "      <td>98074</td>\n",
              "      <td>47.6168</td>\n",
              "      <td>-122.045</td>\n",
              "      <td>1800</td>\n",
              "      <td>7503</td>\n",
              "    </tr>\n",
              "  </tbody>\n",
              "</table>\n",
              "</div>"
            ],
            "text/plain": [
              "           id             date     price  ...     long  sqft_living15  sqft_lot15\n",
              "0  7129300520  20141013T000000  221900.0  ... -122.257           1340        5650\n",
              "1  6414100192  20141209T000000  538000.0  ... -122.319           1690        7639\n",
              "2  5631500400  20150225T000000  180000.0  ... -122.233           2720        8062\n",
              "3  2487200875  20141209T000000  604000.0  ... -122.393           1360        5000\n",
              "4  1954400510  20150218T000000  510000.0  ... -122.045           1800        7503\n",
              "\n",
              "[5 rows x 21 columns]"
            ]
          },
          "metadata": {
            "tags": []
          },
          "execution_count": 77
        }
      ]
    },
    {
      "cell_type": "code",
      "metadata": {
        "id": "knu-dQD5_4AC"
      },
      "source": [
        "#set X and Y\n",
        "size = df['sqft_living']\n",
        "price = df['price']"
      ],
      "execution_count": null,
      "outputs": []
    },
    {
      "cell_type": "code",
      "metadata": {
        "id": "474nCwRtAwZY"
      },
      "source": [
        "#convert to numpy arrays\n",
        "X = np.asarray(size).reshape(-1, 1) #X must be a 2D array\n",
        "Y = np.asarray(price)"
      ],
      "execution_count": null,
      "outputs": []
    },
    {
      "cell_type": "code",
      "metadata": {
        "colab": {
          "base_uri": "https://localhost:8080/"
        },
        "id": "QtJMCoMjA3O6",
        "outputId": "49871874-bcab-4731-872b-d492c8ff5bd4"
      },
      "source": [
        "#split dataset\n",
        "from sklearn.model_selection import train_test_split \n",
        "x_train, x_test, y_train, y_test = train_test_split(X,Y,test_size=0.2, random_state=0)\n",
        "print(x_train.shape, x_test.shape)"
      ],
      "execution_count": null,
      "outputs": [
        {
          "output_type": "stream",
          "text": [
            "(17290, 1) (4323, 1)\n"
          ],
          "name": "stdout"
        }
      ]
    },
    {
      "cell_type": "code",
      "metadata": {
        "colab": {
          "base_uri": "https://localhost:8080/"
        },
        "id": "vpWdwjio-uaR",
        "outputId": "a02f37bb-be40-4707-a213-bc1274fc0c21"
      },
      "source": [
        "#train model\n",
        "from sklearn.linear_model import LinearRegression\n",
        "lr = LinearRegression()\n",
        "lr.fit(x_train, y_train)"
      ],
      "execution_count": null,
      "outputs": [
        {
          "output_type": "execute_result",
          "data": {
            "text/plain": [
              "LinearRegression(copy_X=True, fit_intercept=True, n_jobs=None, normalize=False)"
            ]
          },
          "metadata": {
            "tags": []
          },
          "execution_count": 81
        }
      ]
    },
    {
      "cell_type": "code",
      "metadata": {
        "colab": {
          "base_uri": "https://localhost:8080/"
        },
        "id": "QlzYHDbXBlQn",
        "outputId": "098d3c90-e8b6-4d50-aed2-bec7ef6395b4"
      },
      "source": [
        "#make predictions and estimate error\n",
        "from sklearn.metrics import mean_squared_error\n",
        "preds = lr.predict(x_test)\n",
        "mean_squared_error(y_test, preds)"
      ],
      "execution_count": null,
      "outputs": [
        {
          "output_type": "execute_result",
          "data": {
            "text/plain": [
              "61940787124.62475"
            ]
          },
          "metadata": {
            "tags": []
          },
          "execution_count": 82
        }
      ]
    },
    {
      "cell_type": "code",
      "metadata": {
        "colab": {
          "base_uri": "https://localhost:8080/",
          "height": 295
        },
        "id": "FAOSJCKS32WN",
        "outputId": "0010d3fe-75c9-4d86-a72d-0913fe830d25"
      },
      "source": [
        "#Visualizing predictions\n",
        "plt.scatter(x_test, y_test, color= 'blue')\n",
        "plt.plot(x_test, preds, color = 'red')\n",
        "plt.title (\"Linear Regression Predictions\")\n",
        "plt.xlabel(\"Size (sqft)\")\n",
        "plt.ylabel(\"Price\")\n",
        "plt.show()"
      ],
      "execution_count": null,
      "outputs": [
        {
          "output_type": "display_data",
          "data": {
            "image/png": "[encoded data removed]",
            "text/plain": [
              "<Figure size 432x288 with 1 Axes>"
            ]
          },
          "metadata": {
            "tags": [],
            "needs_background": "light"
          }
        }
      ]
    },
    {
      "cell_type": "markdown",
      "metadata": {
        "id": "jq0-4lNaFJcn"
      },
      "source": [
        "# TO DO! \n",
        "1. Train algorithm using sqft, number of bedroom and year build as features.\n",
        "(hint: normalize features https://scikit-learn.org/stable/modules/generated/sklearn.linear_model.LinearRegression.html)\n",
        "2. Estimate how much the algorithm improved."
      ]
    },
    {
      "cell_type": "code",
      "metadata": {
        "id": "0lQqaBKTGTA7",
        "colab": {
          "base_uri": "https://localhost:8080/"
        },
        "outputId": "68bd872d-e994-4436-9c5d-0f88ebdd58d1"
      },
      "source": [
        "# add your code\n",
        "#set X and Y\n",
        "size = df[['sqft_living', 'bedrooms','yr_built']]\n",
        "price = df['price']\n",
        "\n",
        "#convert to numpy arrays\n",
        "X = np.asarray(size)\n",
        "Y = np.asarray(price)\n",
        "\n",
        "#split dataset\n",
        "from sklearn.model_selection import train_test_split \n",
        "x_train, x_test, y_train, y_test = train_test_split(X,Y,test_size=0.2, random_state=0)\n",
        "print(x_train.shape, x_test.shape)"
      ],
      "execution_count": null,
      "outputs": [
        {
          "output_type": "stream",
          "text": [
            "(17290, 3) (4323, 3)\n"
          ],
          "name": "stdout"
        }
      ]
    },
    {
      "cell_type": "code",
      "metadata": {
        "colab": {
          "base_uri": "https://localhost:8080/"
        },
        "id": "-cPQ265aVg1v",
        "outputId": "429e7cd6-2ff9-4f7a-f78c-38ff9a1655fb"
      },
      "source": [
        "#train model\n",
        "from sklearn.linear_model import LinearRegression\n",
        "lr = LinearRegression(normalize=True)\n",
        "lr.fit(x_train, y_train)"
      ],
      "execution_count": null,
      "outputs": [
        {
          "output_type": "execute_result",
          "data": {
            "text/plain": [
              "LinearRegression(copy_X=True, fit_intercept=True, n_jobs=None, normalize=True)"
            ]
          },
          "metadata": {
            "tags": []
          },
          "execution_count": 85
        }
      ]
    },
    {
      "cell_type": "code",
      "metadata": {
        "colab": {
          "base_uri": "https://localhost:8080/"
        },
        "id": "SfLiJtW0Vjmp",
        "outputId": "319a4563-e320-45cb-dd14-9381d87a6949"
      },
      "source": [
        "#make predictions and estimate error\n",
        "from sklearn.metrics import mean_squared_error\n",
        "preds = lr.predict(x_test)\n",
        "error = mean_squared_error(y_test, preds)\n",
        "print(\"The test set's MSE reduction is: \",61940787124.62475 - error)"
      ],
      "execution_count": null,
      "outputs": [
        {
          "output_type": "stream",
          "text": [
            "The test set's MSE reduction is:  5982864403.930298\n"
          ],
          "name": "stdout"
        }
      ]
    },
    {
      "cell_type": "markdown",
      "metadata": {
        "id": "wXV9pQJoGYFG"
      },
      "source": [
        "# Linear Regression (Custom)"
      ]
    },
    {
      "cell_type": "code",
      "metadata": {
        "colab": {
          "base_uri": "https://localhost:8080/"
        },
        "id": "aTmWYjXyYUfE",
        "outputId": "05825af3-f61a-4a9c-b6f0-a1f9da6f938e"
      },
      "source": [
        "#set X and Y\n",
        "size = df['sqft_living']\n",
        "price = df['price']\n",
        "\n",
        "#convert to numpy arrays\n",
        "X = np.asarray(size)\n",
        "Y = np.asarray(price)\n",
        "\n",
        "#split dataset\n",
        "from sklearn.model_selection import train_test_split \n",
        "x_train, x_test, y_train, y_test = train_test_split(X,Y,test_size=0.2, random_state=0)\n",
        "print(x_train.shape, x_test.shape)"
      ],
      "execution_count": null,
      "outputs": [
        {
          "output_type": "stream",
          "text": [
            "(17290,) (4323,)\n"
          ],
          "name": "stdout"
        }
      ]
    },
    {
      "cell_type": "code",
      "metadata": {
        "colab": {
          "base_uri": "https://localhost:8080/"
        },
        "id": "pp67XKXwTz9Q",
        "outputId": "c69e399f-ae8b-4b16-ea6c-e0e0c3127a8d"
      },
      "source": [
        "# set m_train\n",
        "m_train = len(x_train)\n",
        "print('the length of the train datasets is equal to {}'.format(m_train))\n",
        "\n",
        "# TO DO\n",
        "#set m_test\n",
        "m_test = len(x_test)\n",
        "print('the length of the test datasets is equal to {}'.format(m_test))"
      ],
      "execution_count": null,
      "outputs": [
        {
          "output_type": "stream",
          "text": [
            "the length of the train datasets is equal to 17290\n",
            "the length of the test datasets is equal to 4323\n"
          ],
          "name": "stdout"
        }
      ]
    },
    {
      "cell_type": "code",
      "metadata": {
        "id": "xMNztCkTGYqm"
      },
      "source": [
        "# TO DO\n",
        "# Add one more column to x_train, x_test as x0\n",
        "# (hint) you can use np.ones and/or np.stack, np.concatenate\n",
        "x_train = np.concatenate([np.ones(m_train).reshape(-1,1), x_train.reshape(-1,1)], axis=1)\n",
        "x_test = np.concatenate([np.ones(m_test).reshape(-1,1), x_test.reshape(-1,1)], axis=1)"
      ],
      "execution_count": null,
      "outputs": []
    },
    {
      "cell_type": "markdown",
      "metadata": {
        "id": "CBucsQVijBSD"
      },
      "source": [
        "### Gradient Descent\n",
        "\n",
        "1. Estimate the cost function\n",
        "\n",
        "$$ J(w,b) = \\frac{1}{2m} \\sum_{i=1}^m \\left( \\hat{y}^{(i)} - y^{(i)}\\right)^2$$\n",
        "\n",
        "where the prediction given by the linear model\n",
        "$$ \\hat{y} = bx_0 + wx_1$$, and $$x_0 = 1$$.\n",
        "\n",
        "2. Simultaneously update all parameters\n",
        "\n",
        "$$ w := w - \\lambda \\frac{1}{m} \\sum_{i=1}^m \\left( \\hat{y}^{(i)} - y^{(i)}\\right)x_1^{(i)} $$\n",
        "\n",
        "$$ b := b - \\lambda \\frac{1}{m} \\sum_{i=1}^m \\left( \\hat{y}^{(i)} - y^{(i)}\\right)$$"
      ]
    },
    {
      "cell_type": "markdown",
      "metadata": {
        "id": "jsc3KynnF__4"
      },
      "source": [
        "### Gradient Descent\n",
        "\n",
        "1. Estimate the cost function\n",
        "\n",
        "$$ J(\\theta) = \\frac{1}{2m} \\sum_{i=1}^m \\left( h_{\\theta}(x^{(i)}) - y^{(i)}\\right)^2$$\n",
        "\n",
        "where the hypothesis $h_\\theta(x)$ is given by the linear model\n",
        "$$ h_\\theta(x) = \\theta^Tx = \\theta_0x_0 + \\theta_1 x_1$$, and $$x_0 = 1$$.\n",
        "\n",
        "2. Simultaneously update all parameters\n",
        "\n",
        "$$ \\theta_j := \\theta_j - \\lambda \\frac{1}{m} \\sum_{i=1}^m \\left( h_\\theta(x^{(i)}) - y^{(i)}\\right)x_j^{(i)} $$"
      ]
    },
    {
      "cell_type": "markdown",
      "metadata": {
        "id": "PHVxTTB225ky"
      },
      "source": [
        "### Vectorization example"
      ]
    },
    {
      "cell_type": "markdown",
      "metadata": {
        "id": "Ip4l1ok06m3h"
      },
      "source": [
        "![image.png](data:image/png;base64,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)"
      ]
    },
    {
      "cell_type": "code",
      "metadata": {
        "id": "b0ZSPPyH28-U"
      },
      "source": [
        "# W is b, w1, w2, w3\n",
        "# X is x0, x1, x2, x3 where x0 = 1\n",
        "W = np.array([[0.1, 0.2, 0.3, 0.4]])\n",
        "X = np.array([[ 1. , -0.55395019, -0.39003389, -1.05018286],\n",
        "              [ 1. , -0.32648492, -0.39003389,  0.30645855],\n",
        "              [ 1. , -1.07387079, -0.39003389,  0.54387079]])"
      ],
      "execution_count": null,
      "outputs": []
    },
    {
      "cell_type": "code",
      "metadata": {
        "colab": {
          "base_uri": "https://localhost:8080/"
        },
        "id": "1lfJXHL231p2",
        "outputId": "8ffc35ba-f40d-4dc8-f9f7-dfc8cd50ac52"
      },
      "source": [
        "#for approach\n",
        "y_hat = np.zeros((3, 1))\n",
        "for i in range(len(X)):\n",
        "  for j in range(len(X[i])):\n",
        "\t  y_hat[i,:] += X[i][j]*W[0,j]\n",
        "y_hat"
      ],
      "execution_count": null,
      "outputs": [
        {
          "output_type": "execute_result",
          "data": {
            "text/plain": [
              "array([[-0.54787335],\n",
              "       [ 0.04027627],\n",
              "       [-0.01423601]])"
            ]
          },
          "metadata": {
            "tags": []
          },
          "execution_count": 91
        }
      ]
    },
    {
      "cell_type": "code",
      "metadata": {
        "colab": {
          "base_uri": "https://localhost:8080/"
        },
        "id": "N4mtBUHt24xi",
        "outputId": "31da91f9-506f-416c-c8a6-3093db9ea59c"
      },
      "source": [
        "#MatMul approach\n",
        "y_hat = np.dot(X,W.T)\n",
        "y_hat"
      ],
      "execution_count": null,
      "outputs": [
        {
          "output_type": "execute_result",
          "data": {
            "text/plain": [
              "array([[-0.54787335],\n",
              "       [ 0.04027627],\n",
              "       [-0.01423601]])"
            ]
          },
          "metadata": {
            "tags": []
          },
          "execution_count": 92
        }
      ]
    },
    {
      "cell_type": "code",
      "metadata": {
        "id": "3J_nBP96Tw3R"
      },
      "source": [
        "def costFunction(X, y, theta, m):\n",
        "    \"\"\"\n",
        "    Computes cost for linear regression. \n",
        "    X : feature vector, shape (m x n+1)\n",
        "    y : labels (i.e., price), shape (m, )\n",
        "    theta : parameters for the linear regression, shape (n+1, )\n",
        "    m: data legth\n",
        "\n",
        "    returns\n",
        "    -------\n",
        "    J : value of cost function.\n",
        "    \"\"\"\n",
        "\n",
        "    # TO DO !!!\n",
        "    J = (1/(2 * m)) * np.sum(np.square(np.dot(X, theta) - y))\n",
        "  \n",
        "    return J"
      ],
      "execution_count": null,
      "outputs": []
    },
    {
      "cell_type": "code",
      "metadata": {
        "id": "gPy03lgFW960"
      },
      "source": [
        "def gradientDescent(X, y, theta, m, l, epochs):\n",
        "    \"\"\"\n",
        "    Updates parameters. \n",
        "    X : feature vector, shape (m x n+1)\n",
        "    y : labels (i.e., price), shape (m, )\n",
        "    theta : parameters for the linear regression, shape (n+1, )\n",
        "    m : data legth\n",
        "    l : learning rate\n",
        "    epochs : number of iterations\n",
        "    \n",
        "    returns\n",
        "    -------\n",
        "    thetas : updated parameters\n",
        "    cost_values : list of Js to check the training progress\n",
        "    \"\"\"\n",
        "    theta = np.copy(theta)\n",
        "    cost_values = []\n",
        "    \n",
        "    for i in range(epochs):\n",
        "        # TO DO\n",
        "        # 1. update theta\n",
        "        # 2. save J to cost values\n",
        "        theta = theta - (l / m) * (np.dot(X, theta) - y).dot(X)\n",
        "        cost_values.append(costFunction(X, y, theta, m))\n",
        "        # =====\n",
        "    return theta, cost_values"
      ],
      "execution_count": null,
      "outputs": []
    },
    {
      "cell_type": "code",
      "metadata": {
        "id": "RyflAZhrXLu_"
      },
      "source": [
        "# initialize variables\n",
        "np.random.seed(0)\n",
        "theta = np.random.rand(2)*0.1 # TO DO set random small values\n",
        "epochs = 1000\n",
        "l = 0.01"
      ],
      "execution_count": null,
      "outputs": []
    },
    {
      "cell_type": "code",
      "metadata": {
        "id": "qncwb-hgWgFr"
      },
      "source": [
        "mean = np.mean(x_train, axis = 0)\n",
        "sigma = np.std(x_train, axis = 0)"
      ],
      "execution_count": null,
      "outputs": []
    },
    {
      "cell_type": "code",
      "metadata": {
        "id": "1b9gD4I2iviW"
      },
      "source": [
        "# normalize \n",
        "def normalization(x, mean, sigma):\n",
        "\n",
        "    x_norm = np.ones_like(x)\n",
        "\n",
        "    # TO DO\n",
        "    for i in range(1,x_train.shape[1]):\n",
        "      x_norm[:,i] = (x[:,i] - mean[i]) / sigma[i]\n",
        "    \n",
        "    # =====\n",
        "    return x_norm"
      ],
      "execution_count": null,
      "outputs": []
    },
    {
      "cell_type": "code",
      "metadata": {
        "id": "MdX4ZCCPZ6P4"
      },
      "source": [
        "x_norm = normalization(x_train, mean, sigma)\n",
        "thetas, cost_values = gradientDescent(x_norm, y_train, theta, m_train, l, epochs)\n",
        "#print(np.round(thetas[0],2),np.round(thetas[1],2))\n",
        "assert np.round(thetas[0],2) == 542776.4\n",
        "assert np.round(thetas[1],2) == 262153.53"
      ],
      "execution_count": null,
      "outputs": []
    },
    {
      "cell_type": "code",
      "metadata": {
        "colab": {
          "base_uri": "https://localhost:8080/",
          "height": 295
        },
        "id": "71w043JDaKbY",
        "outputId": "21efd819-3e24-41bf-9f63-7a423282663e"
      },
      "source": [
        "plt.plot(cost_values)\n",
        "plt.title (\"Linear regression progress\")\n",
        "plt.xlabel(\"epochs\")\n",
        "plt.ylabel(\"J\")\n",
        "plt.show()"
      ],
      "execution_count": null,
      "outputs": [
        {
          "output_type": "display_data",
          "data": {
            "image/png": "[encoded data removed]",
            "text/plain": [
              "<Figure size 432x288 with 1 Axes>"
            ]
          },
          "metadata": {
            "tags": [],
            "needs_background": "light"
          }
        }
      ]
    },
    {
      "cell_type": "code",
      "metadata": {
        "colab": {
          "base_uri": "https://localhost:8080/",
          "height": 295
        },
        "id": "hK3R2hX3r8sH",
        "outputId": "5dd14f66-c081-425f-dfb5-c07e9bfc38e7"
      },
      "source": [
        "#Visualizing predictions\n",
        "x_test_norm = normalization(x_test, mean, sigma)\n",
        "preds = np.dot(x_test_norm,thetas)\n",
        "plt.scatter(x_test_norm[:,1], y_test, color= 'blue')\n",
        "plt.plot(x_test_norm[:,1], preds, color = 'red')\n",
        "plt.title (\"Linear Regression Predictions\")\n",
        "plt.xlabel(\"Size (sqft)\")\n",
        "plt.ylabel(\"Price\")\n",
        "plt.show()"
      ],
      "execution_count": null,
      "outputs": [
        {
          "output_type": "display_data",
          "data": {
            "image/png": "[encoded data removed]",
            "text/plain": [
              "<Figure size 432x288 with 1 Axes>"
            ]
          },
          "metadata": {
            "tags": [],
            "needs_background": "light"
          }
        }
      ]
    },
    {
      "cell_type": "markdown",
      "metadata": {
        "id": "nFuvAnVqVqhh"
      },
      "source": [
        "# Multivariate Linear Regression (Custom)\n",
        "\n",
        "1. Train custom LR algorithm using sqft, number of bedroom and year build as features.\n",
        "\n",
        "2. Follow similar procedure with the sqft feature including bias (x0)\n",
        "\n",
        "3. Change parameter size accordingly (n, ). Hint do not reshape x_train during concatenation.\n",
        "\n",
        "4. How much does your alogrithm think that the 20th house in the test dataset cost? (Hint thetas should be around [542776.40442377, 312955.5479766 , -52340.61575242, -70637.33360148])"
      ]
    },
    {
      "cell_type": "markdown",
      "metadata": {
        "id": "S8d_bmyEOX-4"
      },
      "source": [
        "### Gradient Descent\n",
        "\n",
        "1. Estimate the cost function\n",
        "\n",
        "$$ J(\\theta) = \\frac{1}{2m} \\sum_{i=1}^m \\left( \\hat{y}^{(i)} - y^{(i)}\\right)^2$$\n",
        "\n",
        "where the prediction given by the linear model\n",
        "$$ \\hat{y} = bx_0 + w_1x_1 + w_2x_2 + ... + w_nx_n$$, and $$x_0 = 1$$.\n",
        "\n",
        "2. Simultaneously update all parameters\n",
        "\n",
        "$$ w_j := w_j - \\lambda \\frac{1}{m} \\sum_{i=1}^m \\left( \\hat{y}^{(i)} - y^{(i)}\\right)x_j^{(i)} $$\n",
        "\n",
        "$$ b := b - \\lambda \\frac{1}{m} \\sum_{i=1}^m \\left( \\hat{y}^{(i)} - y^{(i)}\\right)$$"
      ]
    },
    {
      "cell_type": "code",
      "metadata": {
        "colab": {
          "base_uri": "https://localhost:8080/",
          "height": 415
        },
        "id": "ym3PXHStnqct",
        "outputId": "b309f9dc-bc3e-429c-8717-5ad3f4582ec3"
      },
      "source": [
        "df[['sqft_living', 'bedrooms','yr_built', 'price']]"
      ],
      "execution_count": null,
      "outputs": [
        {
          "output_type": "execute_result",
          "data": {
            "text/html": [
              "<div>\n",
              "<style scoped>\n",
              "    .dataframe tbody tr th:only-of-type {\n",
              "        vertical-align: middle;\n",
              "    }\n",
              "\n",
              "    .dataframe tbody tr th {\n",
              "        vertical-align: top;\n",
              "    }\n",
              "\n",
              "    .dataframe thead th {\n",
              "        text-align: right;\n",
              "    }\n",
              "</style>\n",
              "<table border=\"1\" class=\"dataframe\">\n",
              "  <thead>\n",
              "    <tr style=\"text-align: right;\">\n",
              "      <th></th>\n",
              "      <th>sqft_living</th>\n",
              "      <th>bedrooms</th>\n",
              "      <th>yr_built</th>\n",
              "      <th>price</th>\n",
              "    </tr>\n",
              "  </thead>\n",
              "  <tbody>\n",
              "    <tr>\n",
              "      <th>0</th>\n",
              "      <td>1180</td>\n",
              "      <td>3</td>\n",
              "      <td>1955</td>\n",
              "      <td>221900.0</td>\n",
              "    </tr>\n",
              "    <tr>\n",
              "      <th>1</th>\n",
              "      <td>2570</td>\n",
              "      <td>3</td>\n",
              "      <td>1951</td>\n",
              "      <td>538000.0</td>\n",
              "    </tr>\n",
              "    <tr>\n",
              "      <th>2</th>\n",
              "      <td>770</td>\n",
              "      <td>2</td>\n",
              "      <td>1933</td>\n",
              "      <td>180000.0</td>\n",
              "    </tr>\n",
              "    <tr>\n",
              "      <th>3</th>\n",
              "      <td>1960</td>\n",
              "      <td>4</td>\n",
              "      <td>1965</td>\n",
              "      <td>604000.0</td>\n",
              "    </tr>\n",
              "    <tr>\n",
              "      <th>4</th>\n",
              "      <td>1680</td>\n",
              "      <td>3</td>\n",
              "      <td>1987</td>\n",
              "      <td>510000.0</td>\n",
              "    </tr>\n",
              "    <tr>\n",
              "      <th>...</th>\n",
              "      <td>...</td>\n",
              "      <td>...</td>\n",
              "      <td>...</td>\n",
              "      <td>...</td>\n",
              "    </tr>\n",
              "    <tr>\n",
              "      <th>21608</th>\n",
              "      <td>1530</td>\n",
              "      <td>3</td>\n",
              "      <td>2009</td>\n",
              "      <td>360000.0</td>\n",
              "    </tr>\n",
              "    <tr>\n",
              "      <th>21609</th>\n",
              "      <td>2310</td>\n",
              "      <td>4</td>\n",
              "      <td>2014</td>\n",
              "      <td>400000.0</td>\n",
              "    </tr>\n",
              "    <tr>\n",
              "      <th>21610</th>\n",
              "      <td>1020</td>\n",
              "      <td>2</td>\n",
              "      <td>2009</td>\n",
              "      <td>402101.0</td>\n",
              "    </tr>\n",
              "    <tr>\n",
              "      <th>21611</th>\n",
              "      <td>1600</td>\n",
              "      <td>3</td>\n",
              "      <td>2004</td>\n",
              "      <td>400000.0</td>\n",
              "    </tr>\n",
              "    <tr>\n",
              "      <th>21612</th>\n",
              "      <td>1020</td>\n",
              "      <td>2</td>\n",
              "      <td>2008</td>\n",
              "      <td>325000.0</td>\n",
              "    </tr>\n",
              "  </tbody>\n",
              "</table>\n",
              "<p>21613 rows × 4 columns</p>\n",
              "</div>"
            ],
            "text/plain": [
              "       sqft_living  bedrooms  yr_built     price\n",
              "0             1180         3      1955  221900.0\n",
              "1             2570         3      1951  538000.0\n",
              "2              770         2      1933  180000.0\n",
              "3             1960         4      1965  604000.0\n",
              "4             1680         3      1987  510000.0\n",
              "...            ...       ...       ...       ...\n",
              "21608         1530         3      2009  360000.0\n",
              "21609         2310         4      2014  400000.0\n",
              "21610         1020         2      2009  402101.0\n",
              "21611         1600         3      2004  400000.0\n",
              "21612         1020         2      2008  325000.0\n",
              "\n",
              "[21613 rows x 4 columns]"
            ]
          },
          "metadata": {
            "tags": []
          },
          "execution_count": 101
        }
      ]
    },
    {
      "cell_type": "code",
      "metadata": {
        "id": "CM8WZ2jPtAVF",
        "colab": {
          "base_uri": "https://localhost:8080/"
        },
        "outputId": "989b4f31-1ede-4174-953a-1ef747852fe4"
      },
      "source": [
        "#set X and Y\n",
        "size = df[['sqft_living', 'bedrooms','yr_built']]\n",
        "price = df['price']\n",
        "\n",
        "#convert to numpy arrays\n",
        "X = np.asarray(size)\n",
        "Y = np.asarray(price)\n",
        "\n",
        "#split dataset\n",
        "from sklearn.model_selection import train_test_split \n",
        "x_train, x_test, y_train, y_test = train_test_split(X,Y,test_size=0.2, random_state=0)\n",
        "print(x_train.shape, x_test.shape)"
      ],
      "execution_count": null,
      "outputs": [
        {
          "output_type": "stream",
          "text": [
            "(17290, 3) (4323, 3)\n"
          ],
          "name": "stdout"
        }
      ]
    },
    {
      "cell_type": "code",
      "metadata": {
        "id": "8kZpy8RJX2eu"
      },
      "source": [
        "# initialize variables\n",
        "np.random.seed(0)\n",
        "theta = np.random.rand(4)*0.1 # TO DO set random small values\n",
        "epochs = 1000\n",
        "l = 0.01"
      ],
      "execution_count": null,
      "outputs": []
    },
    {
      "cell_type": "code",
      "metadata": {
        "id": "Humwqh86Zya4"
      },
      "source": [
        "x_train = np.concatenate([np.ones(m_train).reshape(-1,1), x_train], axis=1)\n",
        "x_test = np.concatenate([np.ones(m_test).reshape(-1,1), x_test], axis=1)"
      ],
      "execution_count": null,
      "outputs": []
    },
    {
      "cell_type": "code",
      "metadata": {
        "id": "me2s7Rn5Zmw_"
      },
      "source": [
        "mean = np.mean(x_train, axis = 0)\n",
        "sigma = np.std(x_train, axis = 0)"
      ],
      "execution_count": null,
      "outputs": []
    },
    {
      "cell_type": "code",
      "metadata": {
        "id": "pRy7maOIX_qm"
      },
      "source": [
        "x_norm = normalization(x_train, mean, sigma)\n",
        "thetas, cost_values = gradientDescent(x_norm, y_train, theta, m_train, l, epochs)"
      ],
      "execution_count": null,
      "outputs": []
    },
    {
      "cell_type": "code",
      "metadata": {
        "colab": {
          "base_uri": "https://localhost:8080/"
        },
        "id": "rfJ_fcfTnea1",
        "outputId": "08495939-404b-441a-81cc-693a9066135a"
      },
      "source": [
        "x_norm"
      ],
      "execution_count": null,
      "outputs": [
        {
          "output_type": "execute_result",
          "data": {
            "text/plain": [
              "array([[ 1.        , -0.55395019, -0.39003389, -1.05018286],\n",
              "       [ 1.        , -0.32648492, -0.39003389,  0.30645855],\n",
              "       [ 1.        , -1.07387079, -0.39003389,  0.54387079],\n",
              "       ...,\n",
              "       [ 1.        ,  0.30175248, -0.39003389,  0.23862648],\n",
              "       [ 1.        ,  0.31258416,  0.67029408,  0.23862648],\n",
              "       [ 1.        ,  0.32341584,  0.67029408, -0.33794612]])"
            ]
          },
          "metadata": {
            "tags": []
          },
          "execution_count": 107
        }
      ]
    },
    {
      "cell_type": "code",
      "metadata": {
        "colab": {
          "base_uri": "https://localhost:8080/",
          "height": 295
        },
        "id": "iIlV4Gq5YEbL",
        "outputId": "be9dd583-970e-4d72-c4e5-ff032f6834ce"
      },
      "source": [
        "plt.plot(cost_values)\n",
        "plt.title (\"Linear regression progress\")\n",
        "plt.xlabel(\"epochs\")\n",
        "plt.ylabel(\"J\")\n",
        "plt.show()"
      ],
      "execution_count": null,
      "outputs": [
        {
          "output_type": "display_data",
          "data": {
            "image/png": "[encoded data removed]",
            "text/plain": [
              "<Figure size 432x288 with 1 Axes>"
            ]
          },
          "metadata": {
            "tags": [],
            "needs_background": "light"
          }
        }
      ]
    },
    {
      "cell_type": "code",
      "metadata": {
        "id": "n2va334hZ8Qc"
      },
      "source": [
        "# TO DO.\n",
        "# estimate the test error\n",
        "# Hint: Normalize first the test set then use the costFunction\n",
        "x_norm_test = normalization(x_test, mean, sigma)\n",
        "test_error = costFunction(x_norm_test, y_test, thetas, len(y_test))\n",
        "#######\n",
        "assert test_error == 27971339477.682686"
      ],
      "execution_count": null,
      "outputs": []
    },
    {
      "cell_type": "code",
      "metadata": {
        "id": "dqle9P2oQaWZ",
        "colab": {
          "base_uri": "https://localhost:8080/"
        },
        "outputId": "21d0f764-91d3-4eb9-f883-b3f0fd127efc"
      },
      "source": [
        "#TO DO\n",
        "# Estimate the price for the 21st house in the test set\n",
        "pred = np.dot(x_norm_test[20],thetas)\n",
        "print('The price prediction for the 21st house in the test set is {}'.format(pred)) #should be arround 416454.59 dollars"
      ],
      "execution_count": null,
      "outputs": [
        {
          "output_type": "stream",
          "text": [
            "The price prediction for the 21st house in the test set is 416454.5906537639\n"
          ],
          "name": "stdout"
        }
      ]
    },
    {
      "cell_type": "code",
      "metadata": {
        "id": "TiRZnsgab2BT"
      },
      "source": [],
      "execution_count": null,
      "outputs": []
    }
  ]
}