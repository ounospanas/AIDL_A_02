{
  "nbformat": 4,
  "nbformat_minor": 0,
  "metadata": {
    "colab": {
      "name": "AIDL_A02_network_optimization_solution.ipynb",
      "provenance": [],
      "include_colab_link": true
    },
    "kernelspec": {
      "display_name": "Python 3",
      "language": "python",
      "name": "python3"
    },
    "language_info": {
      "codemirror_mode": {
        "name": "ipython",
        "version": 3
      },
      "file_extension": ".py",
      "mimetype": "text/x-python",
      "name": "python",
      "nbconvert_exporter": "python",
      "pygments_lexer": "ipython3",
      "version": "3.8.5"
    },
    "accelerator": "GPU",
    "widgets": {
      "application/vnd.jupyter.widget-state+json": {
        "85f4c7e611694044a04e1b14e8420e36": {
          "model_module": "@jupyter-widgets/controls",
          "model_name": "VBoxModel",
          "model_module_version": "1.5.0",
          "state": {
            "_dom_classes": [],
            "_model_module": "@jupyter-widgets/controls",
            "_model_module_version": "1.5.0",
            "_model_name": "VBoxModel",
            "_view_count": null,
            "_view_module": "@jupyter-widgets/controls",
            "_view_module_version": "1.5.0",
            "_view_name": "VBoxView",
            "box_style": "",
            "children": [
              "IPY_MODEL_d2f57984df7d4536a0e404657bf407ce",
              "IPY_MODEL_24d1325d97d4478d9c4ab1247ca89f77"
            ],
            "layout": "IPY_MODEL_e2a9ed741e1448dca6e90470fd64764e"
          }
        },
        "d2f57984df7d4536a0e404657bf407ce": {
          "model_module": "@jupyter-widgets/controls",
          "model_name": "LabelModel",
          "model_module_version": "1.5.0",
          "state": {
            "_dom_classes": [],
            "_model_module": "@jupyter-widgets/controls",
            "_model_module_version": "1.5.0",
            "_model_name": "LabelModel",
            "_view_count": null,
            "_view_module": "@jupyter-widgets/controls",
            "_view_module_version": "1.5.0",
            "_view_name": "LabelView",
            "description": "",
            "description_tooltip": null,
            "layout": "IPY_MODEL_85234922f07d4759ae2bc9b7d6e695e8",
            "placeholder": "​",
            "style": "IPY_MODEL_8e49c29bb43c407191771ea131f54969",
            "value": "20.068 MB of 20.068 MB uploaded (0.102 MB deduped)\r"
          }
        },
        "24d1325d97d4478d9c4ab1247ca89f77": {
          "model_module": "@jupyter-widgets/controls",
          "model_name": "FloatProgressModel",
          "model_module_version": "1.5.0",
          "state": {
            "_dom_classes": [],
            "_model_module": "@jupyter-widgets/controls",
            "_model_module_version": "1.5.0",
            "_model_name": "FloatProgressModel",
            "_view_count": null,
            "_view_module": "@jupyter-widgets/controls",
            "_view_module_version": "1.5.0",
            "_view_name": "ProgressView",
            "bar_style": "",
            "description": "",
            "description_tooltip": null,
            "layout": "IPY_MODEL_3b2f8d18c8724fe8a4580aea6c7a2bcd",
            "max": 1,
            "min": 0,
            "orientation": "horizontal",
            "style": "IPY_MODEL_76ac09b7dbef441aa87e8947f9b1ca65",
            "value": 1
          }
        },
        "e2a9ed741e1448dca6e90470fd64764e": {
          "model_module": "@jupyter-widgets/base",
          "model_name": "LayoutModel",
          "model_module_version": "1.2.0",
          "state": {
            "_model_module": "@jupyter-widgets/base",
            "_model_module_version": "1.2.0",
            "_model_name": "LayoutModel",
            "_view_count": null,
            "_view_module": "@jupyter-widgets/base",
            "_view_module_version": "1.2.0",
            "_view_name": "LayoutView",
            "align_content": null,
            "align_items": null,
            "align_self": null,
            "border": null,
            "bottom": null,
            "display": null,
            "flex": null,
            "flex_flow": null,
            "grid_area": null,
            "grid_auto_columns": null,
            "grid_auto_flow": null,
            "grid_auto_rows": null,
            "grid_column": null,
            "grid_gap": null,
            "grid_row": null,
            "grid_template_areas": null,
            "grid_template_columns": null,
            "grid_template_rows": null,
            "height": null,
            "justify_content": null,
            "justify_items": null,
            "left": null,
            "margin": null,
            "max_height": null,
            "max_width": null,
            "min_height": null,
            "min_width": null,
            "object_fit": null,
            "object_position": null,
            "order": null,
            "overflow": null,
            "overflow_x": null,
            "overflow_y": null,
            "padding": null,
            "right": null,
            "top": null,
            "visibility": null,
            "width": null
          }
        },
        "85234922f07d4759ae2bc9b7d6e695e8": {
          "model_module": "@jupyter-widgets/base",
          "model_name": "LayoutModel",
          "model_module_version": "1.2.0",
          "state": {
            "_model_module": "@jupyter-widgets/base",
            "_model_module_version": "1.2.0",
            "_model_name": "LayoutModel",
            "_view_count": null,
            "_view_module": "@jupyter-widgets/base",
            "_view_module_version": "1.2.0",
            "_view_name": "LayoutView",
            "align_content": null,
            "align_items": null,
            "align_self": null,
            "border": null,
            "bottom": null,
            "display": null,
            "flex": null,
            "flex_flow": null,
            "grid_area": null,
            "grid_auto_columns": null,
            "grid_auto_flow": null,
            "grid_auto_rows": null,
            "grid_column": null,
            "grid_gap": null,
            "grid_row": null,
            "grid_template_areas": null,
            "grid_template_columns": null,
            "grid_template_rows": null,
            "height": null,
            "justify_content": null,
            "justify_items": null,
            "left": null,
            "margin": null,
            "max_height": null,
            "max_width": null,
            "min_height": null,
            "min_width": null,
            "object_fit": null,
            "object_position": null,
            "order": null,
            "overflow": null,
            "overflow_x": null,
            "overflow_y": null,
            "padding": null,
            "right": null,
            "top": null,
            "visibility": null,
            "width": null
          }
        },
        "8e49c29bb43c407191771ea131f54969": {
          "model_module": "@jupyter-widgets/controls",
          "model_name": "DescriptionStyleModel",
          "model_module_version": "1.5.0",
          "state": {
            "_model_module": "@jupyter-widgets/controls",
            "_model_module_version": "1.5.0",
            "_model_name": "DescriptionStyleModel",
            "_view_count": null,
            "_view_module": "@jupyter-widgets/base",
            "_view_module_version": "1.2.0",
            "_view_name": "StyleView",
            "description_width": ""
          }
        },
        "3b2f8d18c8724fe8a4580aea6c7a2bcd": {
          "model_module": "@jupyter-widgets/base",
          "model_name": "LayoutModel",
          "model_module_version": "1.2.0",
          "state": {
            "_model_module": "@jupyter-widgets/base",
            "_model_module_version": "1.2.0",
            "_model_name": "LayoutModel",
            "_view_count": null,
            "_view_module": "@jupyter-widgets/base",
            "_view_module_version": "1.2.0",
            "_view_name": "LayoutView",
            "align_content": null,
            "align_items": null,
            "align_self": null,
            "border": null,
            "bottom": null,
            "display": null,
            "flex": null,
            "flex_flow": null,
            "grid_area": null,
            "grid_auto_columns": null,
            "grid_auto_flow": null,
            "grid_auto_rows": null,
            "grid_column": null,
            "grid_gap": null,
            "grid_row": null,
            "grid_template_areas": null,
            "grid_template_columns": null,
            "grid_template_rows": null,
            "height": null,
            "justify_content": null,
            "justify_items": null,
            "left": null,
            "margin": null,
            "max_height": null,
            "max_width": null,
            "min_height": null,
            "min_width": null,
            "object_fit": null,
            "object_position": null,
            "order": null,
            "overflow": null,
            "overflow_x": null,
            "overflow_y": null,
            "padding": null,
            "right": null,
            "top": null,
            "visibility": null,
            "width": null
          }
        },
        "76ac09b7dbef441aa87e8947f9b1ca65": {
          "model_module": "@jupyter-widgets/controls",
          "model_name": "ProgressStyleModel",
          "model_module_version": "1.5.0",
          "state": {
            "_model_module": "@jupyter-widgets/controls",
            "_model_module_version": "1.5.0",
            "_model_name": "ProgressStyleModel",
            "_view_count": null,
            "_view_module": "@jupyter-widgets/base",
            "_view_module_version": "1.2.0",
            "_view_name": "StyleView",
            "bar_color": null,
            "description_width": ""
          }
        },
        "a8c9c434dd2f4714ac03ec9e0e95556a": {
          "model_module": "@jupyter-widgets/controls",
          "model_name": "VBoxModel",
          "model_module_version": "1.5.0",
          "state": {
            "_dom_classes": [],
            "_model_module": "@jupyter-widgets/controls",
            "_model_module_version": "1.5.0",
            "_model_name": "VBoxModel",
            "_view_count": null,
            "_view_module": "@jupyter-widgets/controls",
            "_view_module_version": "1.5.0",
            "_view_name": "VBoxView",
            "box_style": "",
            "children": [
              "IPY_MODEL_2d712e2a48004889b068b55ad690ace8",
              "IPY_MODEL_8738751ab5ef43a6bdecf734173bba9c"
            ],
            "layout": "IPY_MODEL_6c52e3153d754b6082690d7f2fb98bf0"
          }
        },
        "2d712e2a48004889b068b55ad690ace8": {
          "model_module": "@jupyter-widgets/controls",
          "model_name": "LabelModel",
          "model_module_version": "1.5.0",
          "state": {
            "_dom_classes": [],
            "_model_module": "@jupyter-widgets/controls",
            "_model_module_version": "1.5.0",
            "_model_name": "LabelModel",
            "_view_count": null,
            "_view_module": "@jupyter-widgets/controls",
            "_view_module_version": "1.5.0",
            "_view_name": "LabelView",
            "description": "",
            "description_tooltip": null,
            "layout": "IPY_MODEL_3b190fef38214f689b853ce425ba8f64",
            "placeholder": "​",
            "style": "IPY_MODEL_81ba2f4d10cd41b8b9223d94e24f2c69",
            "value": "18.810 MB of 18.810 MB uploaded (0.095 MB deduped)\r"
          }
        },
        "8738751ab5ef43a6bdecf734173bba9c": {
          "model_module": "@jupyter-widgets/controls",
          "model_name": "FloatProgressModel",
          "model_module_version": "1.5.0",
          "state": {
            "_dom_classes": [],
            "_model_module": "@jupyter-widgets/controls",
            "_model_module_version": "1.5.0",
            "_model_name": "FloatProgressModel",
            "_view_count": null,
            "_view_module": "@jupyter-widgets/controls",
            "_view_module_version": "1.5.0",
            "_view_name": "ProgressView",
            "bar_style": "",
            "description": "",
            "description_tooltip": null,
            "layout": "IPY_MODEL_3e73c16df3164a5baf071309482e7460",
            "max": 1,
            "min": 0,
            "orientation": "horizontal",
            "style": "IPY_MODEL_36866a2d2d3f4b28bede5bc2dbae8875",
            "value": 1
          }
        },
        "6c52e3153d754b6082690d7f2fb98bf0": {
          "model_module": "@jupyter-widgets/base",
          "model_name": "LayoutModel",
          "model_module_version": "1.2.0",
          "state": {
            "_model_module": "@jupyter-widgets/base",
            "_model_module_version": "1.2.0",
            "_model_name": "LayoutModel",
            "_view_count": null,
            "_view_module": "@jupyter-widgets/base",
            "_view_module_version": "1.2.0",
            "_view_name": "LayoutView",
            "align_content": null,
            "align_items": null,
            "align_self": null,
            "border": null,
            "bottom": null,
            "display": null,
            "flex": null,
            "flex_flow": null,
            "grid_area": null,
            "grid_auto_columns": null,
            "grid_auto_flow": null,
            "grid_auto_rows": null,
            "grid_column": null,
            "grid_gap": null,
            "grid_row": null,
            "grid_template_areas": null,
            "grid_template_columns": null,
            "grid_template_rows": null,
            "height": null,
            "justify_content": null,
            "justify_items": null,
            "left": null,
            "margin": null,
            "max_height": null,
            "max_width": null,
            "min_height": null,
            "min_width": null,
            "object_fit": null,
            "object_position": null,
            "order": null,
            "overflow": null,
            "overflow_x": null,
            "overflow_y": null,
            "padding": null,
            "right": null,
            "top": null,
            "visibility": null,
            "width": null
          }
        },
        "3b190fef38214f689b853ce425ba8f64": {
          "model_module": "@jupyter-widgets/base",
          "model_name": "LayoutModel",
          "model_module_version": "1.2.0",
          "state": {
            "_model_module": "@jupyter-widgets/base",
            "_model_module_version": "1.2.0",
            "_model_name": "LayoutModel",
            "_view_count": null,
            "_view_module": "@jupyter-widgets/base",
            "_view_module_version": "1.2.0",
            "_view_name": "LayoutView",
            "align_content": null,
            "align_items": null,
            "align_self": null,
            "border": null,
            "bottom": null,
            "display": null,
            "flex": null,
            "flex_flow": null,
            "grid_area": null,
            "grid_auto_columns": null,
            "grid_auto_flow": null,
            "grid_auto_rows": null,
            "grid_column": null,
            "grid_gap": null,
            "grid_row": null,
            "grid_template_areas": null,
            "grid_template_columns": null,
            "grid_template_rows": null,
            "height": null,
            "justify_content": null,
            "justify_items": null,
            "left": null,
            "margin": null,
            "max_height": null,
            "max_width": null,
            "min_height": null,
            "min_width": null,
            "object_fit": null,
            "object_position": null,
            "order": null,
            "overflow": null,
            "overflow_x": null,
            "overflow_y": null,
            "padding": null,
            "right": null,
            "top": null,
            "visibility": null,
            "width": null
          }
        },
        "81ba2f4d10cd41b8b9223d94e24f2c69": {
          "model_module": "@jupyter-widgets/controls",
          "model_name": "DescriptionStyleModel",
          "model_module_version": "1.5.0",
          "state": {
            "_model_module": "@jupyter-widgets/controls",
            "_model_module_version": "1.5.0",
            "_model_name": "DescriptionStyleModel",
            "_view_count": null,
            "_view_module": "@jupyter-widgets/base",
            "_view_module_version": "1.2.0",
            "_view_name": "StyleView",
            "description_width": ""
          }
        },
        "3e73c16df3164a5baf071309482e7460": {
          "model_module": "@jupyter-widgets/base",
          "model_name": "LayoutModel",
          "model_module_version": "1.2.0",
          "state": {
            "_model_module": "@jupyter-widgets/base",
            "_model_module_version": "1.2.0",
            "_model_name": "LayoutModel",
            "_view_count": null,
            "_view_module": "@jupyter-widgets/base",
            "_view_module_version": "1.2.0",
            "_view_name": "LayoutView",
            "align_content": null,
            "align_items": null,
            "align_self": null,
            "border": null,
            "bottom": null,
            "display": null,
            "flex": null,
            "flex_flow": null,
            "grid_area": null,
            "grid_auto_columns": null,
            "grid_auto_flow": null,
            "grid_auto_rows": null,
            "grid_column": null,
            "grid_gap": null,
            "grid_row": null,
            "grid_template_areas": null,
            "grid_template_columns": null,
            "grid_template_rows": null,
            "height": null,
            "justify_content": null,
            "justify_items": null,
            "left": null,
            "margin": null,
            "max_height": null,
            "max_width": null,
            "min_height": null,
            "min_width": null,
            "object_fit": null,
            "object_position": null,
            "order": null,
            "overflow": null,
            "overflow_x": null,
            "overflow_y": null,
            "padding": null,
            "right": null,
            "top": null,
            "visibility": null,
            "width": null
          }
        },
        "36866a2d2d3f4b28bede5bc2dbae8875": {
          "model_module": "@jupyter-widgets/controls",
          "model_name": "ProgressStyleModel",
          "model_module_version": "1.5.0",
          "state": {
            "_model_module": "@jupyter-widgets/controls",
            "_model_module_version": "1.5.0",
            "_model_name": "ProgressStyleModel",
            "_view_count": null,
            "_view_module": "@jupyter-widgets/base",
            "_view_module_version": "1.2.0",
            "_view_name": "StyleView",
            "bar_color": null,
            "description_width": ""
          }
        },
        "07e1cd4765124383a2b31b93cc146996": {
          "model_module": "@jupyter-widgets/controls",
          "model_name": "VBoxModel",
          "model_module_version": "1.5.0",
          "state": {
            "_dom_classes": [],
            "_model_module": "@jupyter-widgets/controls",
            "_model_module_version": "1.5.0",
            "_model_name": "VBoxModel",
            "_view_count": null,
            "_view_module": "@jupyter-widgets/controls",
            "_view_module_version": "1.5.0",
            "_view_name": "VBoxView",
            "box_style": "",
            "children": [
              "IPY_MODEL_97fa058a631f4d389081c05e1bbfcf29",
              "IPY_MODEL_0e357e7601464433922341bd9020889d"
            ],
            "layout": "IPY_MODEL_3d332dea7dc74112a1a5a4218077f3d9"
          }
        },
        "97fa058a631f4d389081c05e1bbfcf29": {
          "model_module": "@jupyter-widgets/controls",
          "model_name": "LabelModel",
          "model_module_version": "1.5.0",
          "state": {
            "_dom_classes": [],
            "_model_module": "@jupyter-widgets/controls",
            "_model_module_version": "1.5.0",
            "_model_name": "LabelModel",
            "_view_count": null,
            "_view_module": "@jupyter-widgets/controls",
            "_view_module_version": "1.5.0",
            "_view_name": "LabelView",
            "description": "",
            "description_tooltip": null,
            "layout": "IPY_MODEL_1e9306c9e5f448ecb01d8d8d32dcf0d9",
            "placeholder": "​",
            "style": "IPY_MODEL_b4d4558d95114fcda99aba2f9c711bf2",
            "value": "21.324 MB of 21.324 MB uploaded (0.110 MB deduped)\r"
          }
        },
        "0e357e7601464433922341bd9020889d": {
          "model_module": "@jupyter-widgets/controls",
          "model_name": "FloatProgressModel",
          "model_module_version": "1.5.0",
          "state": {
            "_dom_classes": [],
            "_model_module": "@jupyter-widgets/controls",
            "_model_module_version": "1.5.0",
            "_model_name": "FloatProgressModel",
            "_view_count": null,
            "_view_module": "@jupyter-widgets/controls",
            "_view_module_version": "1.5.0",
            "_view_name": "ProgressView",
            "bar_style": "",
            "description": "",
            "description_tooltip": null,
            "layout": "IPY_MODEL_5fb9e2fac6ce4643a8a7fa97774cd7d7",
            "max": 1,
            "min": 0,
            "orientation": "horizontal",
            "style": "IPY_MODEL_a78edeb1455c4e9a869eda3b5a663cae",
            "value": 1
          }
        },
        "3d332dea7dc74112a1a5a4218077f3d9": {
          "model_module": "@jupyter-widgets/base",
          "model_name": "LayoutModel",
          "model_module_version": "1.2.0",
          "state": {
            "_model_module": "@jupyter-widgets/base",
            "_model_module_version": "1.2.0",
            "_model_name": "LayoutModel",
            "_view_count": null,
            "_view_module": "@jupyter-widgets/base",
            "_view_module_version": "1.2.0",
            "_view_name": "LayoutView",
            "align_content": null,
            "align_items": null,
            "align_self": null,
            "border": null,
            "bottom": null,
            "display": null,
            "flex": null,
            "flex_flow": null,
            "grid_area": null,
            "grid_auto_columns": null,
            "grid_auto_flow": null,
            "grid_auto_rows": null,
            "grid_column": null,
            "grid_gap": null,
            "grid_row": null,
            "grid_template_areas": null,
            "grid_template_columns": null,
            "grid_template_rows": null,
            "height": null,
            "justify_content": null,
            "justify_items": null,
            "left": null,
            "margin": null,
            "max_height": null,
            "max_width": null,
            "min_height": null,
            "min_width": null,
            "object_fit": null,
            "object_position": null,
            "order": null,
            "overflow": null,
            "overflow_x": null,
            "overflow_y": null,
            "padding": null,
            "right": null,
            "top": null,
            "visibility": null,
            "width": null
          }
        },
        "1e9306c9e5f448ecb01d8d8d32dcf0d9": {
          "model_module": "@jupyter-widgets/base",
          "model_name": "LayoutModel",
          "model_module_version": "1.2.0",
          "state": {
            "_model_module": "@jupyter-widgets/base",
            "_model_module_version": "1.2.0",
            "_model_name": "LayoutModel",
            "_view_count": null,
            "_view_module": "@jupyter-widgets/base",
            "_view_module_version": "1.2.0",
            "_view_name": "LayoutView",
            "align_content": null,
            "align_items": null,
            "align_self": null,
            "border": null,
            "bottom": null,
            "display": null,
            "flex": null,
            "flex_flow": null,
            "grid_area": null,
            "grid_auto_columns": null,
            "grid_auto_flow": null,
            "grid_auto_rows": null,
            "grid_column": null,
            "grid_gap": null,
            "grid_row": null,
            "grid_template_areas": null,
            "grid_template_columns": null,
            "grid_template_rows": null,
            "height": null,
            "justify_content": null,
            "justify_items": null,
            "left": null,
            "margin": null,
            "max_height": null,
            "max_width": null,
            "min_height": null,
            "min_width": null,
            "object_fit": null,
            "object_position": null,
            "order": null,
            "overflow": null,
            "overflow_x": null,
            "overflow_y": null,
            "padding": null,
            "right": null,
            "top": null,
            "visibility": null,
            "width": null
          }
        },
        "b4d4558d95114fcda99aba2f9c711bf2": {
          "model_module": "@jupyter-widgets/controls",
          "model_name": "DescriptionStyleModel",
          "model_module_version": "1.5.0",
          "state": {
            "_model_module": "@jupyter-widgets/controls",
            "_model_module_version": "1.5.0",
            "_model_name": "DescriptionStyleModel",
            "_view_count": null,
            "_view_module": "@jupyter-widgets/base",
            "_view_module_version": "1.2.0",
            "_view_name": "StyleView",
            "description_width": ""
          }
        },
        "5fb9e2fac6ce4643a8a7fa97774cd7d7": {
          "model_module": "@jupyter-widgets/base",
          "model_name": "LayoutModel",
          "model_module_version": "1.2.0",
          "state": {
            "_model_module": "@jupyter-widgets/base",
            "_model_module_version": "1.2.0",
            "_model_name": "LayoutModel",
            "_view_count": null,
            "_view_module": "@jupyter-widgets/base",
            "_view_module_version": "1.2.0",
            "_view_name": "LayoutView",
            "align_content": null,
            "align_items": null,
            "align_self": null,
            "border": null,
            "bottom": null,
            "display": null,
            "flex": null,
            "flex_flow": null,
            "grid_area": null,
            "grid_auto_columns": null,
            "grid_auto_flow": null,
            "grid_auto_rows": null,
            "grid_column": null,
            "grid_gap": null,
            "grid_row": null,
            "grid_template_areas": null,
            "grid_template_columns": null,
            "grid_template_rows": null,
            "height": null,
            "justify_content": null,
            "justify_items": null,
            "left": null,
            "margin": null,
            "max_height": null,
            "max_width": null,
            "min_height": null,
            "min_width": null,
            "object_fit": null,
            "object_position": null,
            "order": null,
            "overflow": null,
            "overflow_x": null,
            "overflow_y": null,
            "padding": null,
            "right": null,
            "top": null,
            "visibility": null,
            "width": null
          }
        },
        "a78edeb1455c4e9a869eda3b5a663cae": {
          "model_module": "@jupyter-widgets/controls",
          "model_name": "ProgressStyleModel",
          "model_module_version": "1.5.0",
          "state": {
            "_model_module": "@jupyter-widgets/controls",
            "_model_module_version": "1.5.0",
            "_model_name": "ProgressStyleModel",
            "_view_count": null,
            "_view_module": "@jupyter-widgets/base",
            "_view_module_version": "1.2.0",
            "_view_name": "StyleView",
            "bar_color": null,
            "description_width": ""
          }
        },
        "1a98722d9d874698b3b4c01a8219e535": {
          "model_module": "@jupyter-widgets/controls",
          "model_name": "VBoxModel",
          "model_module_version": "1.5.0",
          "state": {
            "_dom_classes": [],
            "_model_module": "@jupyter-widgets/controls",
            "_model_module_version": "1.5.0",
            "_model_name": "VBoxModel",
            "_view_count": null,
            "_view_module": "@jupyter-widgets/controls",
            "_view_module_version": "1.5.0",
            "_view_name": "VBoxView",
            "box_style": "",
            "children": [
              "IPY_MODEL_5adcea5e31834bb79afd0425d8c095c1",
              "IPY_MODEL_958b07bc8db54122b4415b5c185fb119"
            ],
            "layout": "IPY_MODEL_bf8512fe2d5b45568e2dbb1963766e6d"
          }
        },
        "5adcea5e31834bb79afd0425d8c095c1": {
          "model_module": "@jupyter-widgets/controls",
          "model_name": "LabelModel",
          "model_module_version": "1.5.0",
          "state": {
            "_dom_classes": [],
            "_model_module": "@jupyter-widgets/controls",
            "_model_module_version": "1.5.0",
            "_model_name": "LabelModel",
            "_view_count": null,
            "_view_module": "@jupyter-widgets/controls",
            "_view_module_version": "1.5.0",
            "_view_name": "LabelView",
            "description": "",
            "description_tooltip": null,
            "layout": "IPY_MODEL_17121dc1605046d1868794d06190ccfa",
            "placeholder": "​",
            "style": "IPY_MODEL_e5b2498c69e5441cb7072cae6b3e9bd0",
            "value": "33.858 MB of 33.858 MB uploaded (0.088 MB deduped)\r"
          }
        },
        "958b07bc8db54122b4415b5c185fb119": {
          "model_module": "@jupyter-widgets/controls",
          "model_name": "FloatProgressModel",
          "model_module_version": "1.5.0",
          "state": {
            "_dom_classes": [],
            "_model_module": "@jupyter-widgets/controls",
            "_model_module_version": "1.5.0",
            "_model_name": "FloatProgressModel",
            "_view_count": null,
            "_view_module": "@jupyter-widgets/controls",
            "_view_module_version": "1.5.0",
            "_view_name": "ProgressView",
            "bar_style": "",
            "description": "",
            "description_tooltip": null,
            "layout": "IPY_MODEL_85aa28607b934cdeba864c7350ded043",
            "max": 1,
            "min": 0,
            "orientation": "horizontal",
            "style": "IPY_MODEL_fc400191e3794462bf9f164571b960a8",
            "value": 1
          }
        },
        "bf8512fe2d5b45568e2dbb1963766e6d": {
          "model_module": "@jupyter-widgets/base",
          "model_name": "LayoutModel",
          "model_module_version": "1.2.0",
          "state": {
            "_model_module": "@jupyter-widgets/base",
            "_model_module_version": "1.2.0",
            "_model_name": "LayoutModel",
            "_view_count": null,
            "_view_module": "@jupyter-widgets/base",
            "_view_module_version": "1.2.0",
            "_view_name": "LayoutView",
            "align_content": null,
            "align_items": null,
            "align_self": null,
            "border": null,
            "bottom": null,
            "display": null,
            "flex": null,
            "flex_flow": null,
            "grid_area": null,
            "grid_auto_columns": null,
            "grid_auto_flow": null,
            "grid_auto_rows": null,
            "grid_column": null,
            "grid_gap": null,
            "grid_row": null,
            "grid_template_areas": null,
            "grid_template_columns": null,
            "grid_template_rows": null,
            "height": null,
            "justify_content": null,
            "justify_items": null,
            "left": null,
            "margin": null,
            "max_height": null,
            "max_width": null,
            "min_height": null,
            "min_width": null,
            "object_fit": null,
            "object_position": null,
            "order": null,
            "overflow": null,
            "overflow_x": null,
            "overflow_y": null,
            "padding": null,
            "right": null,
            "top": null,
            "visibility": null,
            "width": null
          }
        },
        "17121dc1605046d1868794d06190ccfa": {
          "model_module": "@jupyter-widgets/base",
          "model_name": "LayoutModel",
          "model_module_version": "1.2.0",
          "state": {
            "_model_module": "@jupyter-widgets/base",
            "_model_module_version": "1.2.0",
            "_model_name": "LayoutModel",
            "_view_count": null,
            "_view_module": "@jupyter-widgets/base",
            "_view_module_version": "1.2.0",
            "_view_name": "LayoutView",
            "align_content": null,
            "align_items": null,
            "align_self": null,
            "border": null,
            "bottom": null,
            "display": null,
            "flex": null,
            "flex_flow": null,
            "grid_area": null,
            "grid_auto_columns": null,
            "grid_auto_flow": null,
            "grid_auto_rows": null,
            "grid_column": null,
            "grid_gap": null,
            "grid_row": null,
            "grid_template_areas": null,
            "grid_template_columns": null,
            "grid_template_rows": null,
            "height": null,
            "justify_content": null,
            "justify_items": null,
            "left": null,
            "margin": null,
            "max_height": null,
            "max_width": null,
            "min_height": null,
            "min_width": null,
            "object_fit": null,
            "object_position": null,
            "order": null,
            "overflow": null,
            "overflow_x": null,
            "overflow_y": null,
            "padding": null,
            "right": null,
            "top": null,
            "visibility": null,
            "width": null
          }
        },
        "e5b2498c69e5441cb7072cae6b3e9bd0": {
          "model_module": "@jupyter-widgets/controls",
          "model_name": "DescriptionStyleModel",
          "model_module_version": "1.5.0",
          "state": {
            "_model_module": "@jupyter-widgets/controls",
            "_model_module_version": "1.5.0",
            "_model_name": "DescriptionStyleModel",
            "_view_count": null,
            "_view_module": "@jupyter-widgets/base",
            "_view_module_version": "1.2.0",
            "_view_name": "StyleView",
            "description_width": ""
          }
        },
        "85aa28607b934cdeba864c7350ded043": {
          "model_module": "@jupyter-widgets/base",
          "model_name": "LayoutModel",
          "model_module_version": "1.2.0",
          "state": {
            "_model_module": "@jupyter-widgets/base",
            "_model_module_version": "1.2.0",
            "_model_name": "LayoutModel",
            "_view_count": null,
            "_view_module": "@jupyter-widgets/base",
            "_view_module_version": "1.2.0",
            "_view_name": "LayoutView",
            "align_content": null,
            "align_items": null,
            "align_self": null,
            "border": null,
            "bottom": null,
            "display": null,
            "flex": null,
            "flex_flow": null,
            "grid_area": null,
            "grid_auto_columns": null,
            "grid_auto_flow": null,
            "grid_auto_rows": null,
            "grid_column": null,
            "grid_gap": null,
            "grid_row": null,
            "grid_template_areas": null,
            "grid_template_columns": null,
            "grid_template_rows": null,
            "height": null,
            "justify_content": null,
            "justify_items": null,
            "left": null,
            "margin": null,
            "max_height": null,
            "max_width": null,
            "min_height": null,
            "min_width": null,
            "object_fit": null,
            "object_position": null,
            "order": null,
            "overflow": null,
            "overflow_x": null,
            "overflow_y": null,
            "padding": null,
            "right": null,
            "top": null,
            "visibility": null,
            "width": null
          }
        },
        "fc400191e3794462bf9f164571b960a8": {
          "model_module": "@jupyter-widgets/controls",
          "model_name": "ProgressStyleModel",
          "model_module_version": "1.5.0",
          "state": {
            "_model_module": "@jupyter-widgets/controls",
            "_model_module_version": "1.5.0",
            "_model_name": "ProgressStyleModel",
            "_view_count": null,
            "_view_module": "@jupyter-widgets/base",
            "_view_module_version": "1.2.0",
            "_view_name": "StyleView",
            "bar_color": null,
            "description_width": ""
          }
        },
        "26ddf40970c440e783f00b72ff8b12e4": {
          "model_module": "@jupyter-widgets/controls",
          "model_name": "VBoxModel",
          "model_module_version": "1.5.0",
          "state": {
            "_dom_classes": [],
            "_model_module": "@jupyter-widgets/controls",
            "_model_module_version": "1.5.0",
            "_model_name": "VBoxModel",
            "_view_count": null,
            "_view_module": "@jupyter-widgets/controls",
            "_view_module_version": "1.5.0",
            "_view_name": "VBoxView",
            "box_style": "",
            "children": [
              "IPY_MODEL_92e13c37fc2c484496ddca4815b9aaeb",
              "IPY_MODEL_1ac6a310572d465480ee68f44111c6fb"
            ],
            "layout": "IPY_MODEL_f615c482fa3a4b3fa9b62e6df2b13046"
          }
        },
        "92e13c37fc2c484496ddca4815b9aaeb": {
          "model_module": "@jupyter-widgets/controls",
          "model_name": "LabelModel",
          "model_module_version": "1.5.0",
          "state": {
            "_dom_classes": [],
            "_model_module": "@jupyter-widgets/controls",
            "_model_module_version": "1.5.0",
            "_model_name": "LabelModel",
            "_view_count": null,
            "_view_module": "@jupyter-widgets/controls",
            "_view_module_version": "1.5.0",
            "_view_name": "LabelView",
            "description": "",
            "description_tooltip": null,
            "layout": "IPY_MODEL_bd8b072dd8b94627beebe9599064364e",
            "placeholder": "​",
            "style": "IPY_MODEL_c198d04135bf4f9fbfcd92a03c09080f",
            "value": "36.281 MB of 36.281 MB uploaded (0.095 MB deduped)\r"
          }
        },
        "1ac6a310572d465480ee68f44111c6fb": {
          "model_module": "@jupyter-widgets/controls",
          "model_name": "FloatProgressModel",
          "model_module_version": "1.5.0",
          "state": {
            "_dom_classes": [],
            "_model_module": "@jupyter-widgets/controls",
            "_model_module_version": "1.5.0",
            "_model_name": "FloatProgressModel",
            "_view_count": null,
            "_view_module": "@jupyter-widgets/controls",
            "_view_module_version": "1.5.0",
            "_view_name": "ProgressView",
            "bar_style": "",
            "description": "",
            "description_tooltip": null,
            "layout": "IPY_MODEL_1b55bd27953545cc92830fe1283f0d5d",
            "max": 1,
            "min": 0,
            "orientation": "horizontal",
            "style": "IPY_MODEL_4d29404fd9304f3cb8a3612a1f4e6c9d",
            "value": 1
          }
        },
        "f615c482fa3a4b3fa9b62e6df2b13046": {
          "model_module": "@jupyter-widgets/base",
          "model_name": "LayoutModel",
          "model_module_version": "1.2.0",
          "state": {
            "_model_module": "@jupyter-widgets/base",
            "_model_module_version": "1.2.0",
            "_model_name": "LayoutModel",
            "_view_count": null,
            "_view_module": "@jupyter-widgets/base",
            "_view_module_version": "1.2.0",
            "_view_name": "LayoutView",
            "align_content": null,
            "align_items": null,
            "align_self": null,
            "border": null,
            "bottom": null,
            "display": null,
            "flex": null,
            "flex_flow": null,
            "grid_area": null,
            "grid_auto_columns": null,
            "grid_auto_flow": null,
            "grid_auto_rows": null,
            "grid_column": null,
            "grid_gap": null,
            "grid_row": null,
            "grid_template_areas": null,
            "grid_template_columns": null,
            "grid_template_rows": null,
            "height": null,
            "justify_content": null,
            "justify_items": null,
            "left": null,
            "margin": null,
            "max_height": null,
            "max_width": null,
            "min_height": null,
            "min_width": null,
            "object_fit": null,
            "object_position": null,
            "order": null,
            "overflow": null,
            "overflow_x": null,
            "overflow_y": null,
            "padding": null,
            "right": null,
            "top": null,
            "visibility": null,
            "width": null
          }
        },
        "bd8b072dd8b94627beebe9599064364e": {
          "model_module": "@jupyter-widgets/base",
          "model_name": "LayoutModel",
          "model_module_version": "1.2.0",
          "state": {
            "_model_module": "@jupyter-widgets/base",
            "_model_module_version": "1.2.0",
            "_model_name": "LayoutModel",
            "_view_count": null,
            "_view_module": "@jupyter-widgets/base",
            "_view_module_version": "1.2.0",
            "_view_name": "LayoutView",
            "align_content": null,
            "align_items": null,
            "align_self": null,
            "border": null,
            "bottom": null,
            "display": null,
            "flex": null,
            "flex_flow": null,
            "grid_area": null,
            "grid_auto_columns": null,
            "grid_auto_flow": null,
            "grid_auto_rows": null,
            "grid_column": null,
            "grid_gap": null,
            "grid_row": null,
            "grid_template_areas": null,
            "grid_template_columns": null,
            "grid_template_rows": null,
            "height": null,
            "justify_content": null,
            "justify_items": null,
            "left": null,
            "margin": null,
            "max_height": null,
            "max_width": null,
            "min_height": null,
            "min_width": null,
            "object_fit": null,
            "object_position": null,
            "order": null,
            "overflow": null,
            "overflow_x": null,
            "overflow_y": null,
            "padding": null,
            "right": null,
            "top": null,
            "visibility": null,
            "width": null
          }
        },
        "c198d04135bf4f9fbfcd92a03c09080f": {
          "model_module": "@jupyter-widgets/controls",
          "model_name": "DescriptionStyleModel",
          "model_module_version": "1.5.0",
          "state": {
            "_model_module": "@jupyter-widgets/controls",
            "_model_module_version": "1.5.0",
            "_model_name": "DescriptionStyleModel",
            "_view_count": null,
            "_view_module": "@jupyter-widgets/base",
            "_view_module_version": "1.2.0",
            "_view_name": "StyleView",
            "description_width": ""
          }
        },
        "1b55bd27953545cc92830fe1283f0d5d": {
          "model_module": "@jupyter-widgets/base",
          "model_name": "LayoutModel",
          "model_module_version": "1.2.0",
          "state": {
            "_model_module": "@jupyter-widgets/base",
            "_model_module_version": "1.2.0",
            "_model_name": "LayoutModel",
            "_view_count": null,
            "_view_module": "@jupyter-widgets/base",
            "_view_module_version": "1.2.0",
            "_view_name": "LayoutView",
            "align_content": null,
            "align_items": null,
            "align_self": null,
            "border": null,
            "bottom": null,
            "display": null,
            "flex": null,
            "flex_flow": null,
            "grid_area": null,
            "grid_auto_columns": null,
            "grid_auto_flow": null,
            "grid_auto_rows": null,
            "grid_column": null,
            "grid_gap": null,
            "grid_row": null,
            "grid_template_areas": null,
            "grid_template_columns": null,
            "grid_template_rows": null,
            "height": null,
            "justify_content": null,
            "justify_items": null,
            "left": null,
            "margin": null,
            "max_height": null,
            "max_width": null,
            "min_height": null,
            "min_width": null,
            "object_fit": null,
            "object_position": null,
            "order": null,
            "overflow": null,
            "overflow_x": null,
            "overflow_y": null,
            "padding": null,
            "right": null,
            "top": null,
            "visibility": null,
            "width": null
          }
        },
        "4d29404fd9304f3cb8a3612a1f4e6c9d": {
          "model_module": "@jupyter-widgets/controls",
          "model_name": "ProgressStyleModel",
          "model_module_version": "1.5.0",
          "state": {
            "_model_module": "@jupyter-widgets/controls",
            "_model_module_version": "1.5.0",
            "_model_name": "ProgressStyleModel",
            "_view_count": null,
            "_view_module": "@jupyter-widgets/base",
            "_view_module_version": "1.2.0",
            "_view_name": "StyleView",
            "bar_color": null,
            "description_width": ""
          }
        },
        "71e9a3c0699e488dbef7b66fa902491d": {
          "model_module": "@jupyter-widgets/controls",
          "model_name": "VBoxModel",
          "model_module_version": "1.5.0",
          "state": {
            "_dom_classes": [],
            "_model_module": "@jupyter-widgets/controls",
            "_model_module_version": "1.5.0",
            "_model_name": "VBoxModel",
            "_view_count": null,
            "_view_module": "@jupyter-widgets/controls",
            "_view_module_version": "1.5.0",
            "_view_name": "VBoxView",
            "box_style": "",
            "children": [
              "IPY_MODEL_bb2dcdbbb8a343588151fe08f30d9725",
              "IPY_MODEL_f7f953a8079a48ed852d9e475410aef8"
            ],
            "layout": "IPY_MODEL_5749858d2baa4427a3aca6b6386c2e3d"
          }
        },
        "bb2dcdbbb8a343588151fe08f30d9725": {
          "model_module": "@jupyter-widgets/controls",
          "model_name": "LabelModel",
          "model_module_version": "1.5.0",
          "state": {
            "_dom_classes": [],
            "_model_module": "@jupyter-widgets/controls",
            "_model_module_version": "1.5.0",
            "_model_name": "LabelModel",
            "_view_count": null,
            "_view_module": "@jupyter-widgets/controls",
            "_view_module_version": "1.5.0",
            "_view_name": "LabelView",
            "description": "",
            "description_tooltip": null,
            "layout": "IPY_MODEL_8a5c8e8d6866459fb05552bdd684ee36",
            "placeholder": "​",
            "style": "IPY_MODEL_d1c91e287c7a4e0c9ebafe3383f45f27",
            "value": "38.703 MB of 38.703 MB uploaded (0.102 MB deduped)\r"
          }
        },
        "f7f953a8079a48ed852d9e475410aef8": {
          "model_module": "@jupyter-widgets/controls",
          "model_name": "FloatProgressModel",
          "model_module_version": "1.5.0",
          "state": {
            "_dom_classes": [],
            "_model_module": "@jupyter-widgets/controls",
            "_model_module_version": "1.5.0",
            "_model_name": "FloatProgressModel",
            "_view_count": null,
            "_view_module": "@jupyter-widgets/controls",
            "_view_module_version": "1.5.0",
            "_view_name": "ProgressView",
            "bar_style": "",
            "description": "",
            "description_tooltip": null,
            "layout": "IPY_MODEL_be686dcb9ab24290a556c0cf46387bdc",
            "max": 1,
            "min": 0,
            "orientation": "horizontal",
            "style": "IPY_MODEL_7fd7ecb1137a421ea939db834bffa36e",
            "value": 1
          }
        },
        "5749858d2baa4427a3aca6b6386c2e3d": {
          "model_module": "@jupyter-widgets/base",
          "model_name": "LayoutModel",
          "model_module_version": "1.2.0",
          "state": {
            "_model_module": "@jupyter-widgets/base",
            "_model_module_version": "1.2.0",
            "_model_name": "LayoutModel",
            "_view_count": null,
            "_view_module": "@jupyter-widgets/base",
            "_view_module_version": "1.2.0",
            "_view_name": "LayoutView",
            "align_content": null,
            "align_items": null,
            "align_self": null,
            "border": null,
            "bottom": null,
            "display": null,
            "flex": null,
            "flex_flow": null,
            "grid_area": null,
            "grid_auto_columns": null,
            "grid_auto_flow": null,
            "grid_auto_rows": null,
            "grid_column": null,
            "grid_gap": null,
            "grid_row": null,
            "grid_template_areas": null,
            "grid_template_columns": null,
            "grid_template_rows": null,
            "height": null,
            "justify_content": null,
            "justify_items": null,
            "left": null,
            "margin": null,
            "max_height": null,
            "max_width": null,
            "min_height": null,
            "min_width": null,
            "object_fit": null,
            "object_position": null,
            "order": null,
            "overflow": null,
            "overflow_x": null,
            "overflow_y": null,
            "padding": null,
            "right": null,
            "top": null,
            "visibility": null,
            "width": null
          }
        },
        "8a5c8e8d6866459fb05552bdd684ee36": {
          "model_module": "@jupyter-widgets/base",
          "model_name": "LayoutModel",
          "model_module_version": "1.2.0",
          "state": {
            "_model_module": "@jupyter-widgets/base",
            "_model_module_version": "1.2.0",
            "_model_name": "LayoutModel",
            "_view_count": null,
            "_view_module": "@jupyter-widgets/base",
            "_view_module_version": "1.2.0",
            "_view_name": "LayoutView",
            "align_content": null,
            "align_items": null,
            "align_self": null,
            "border": null,
            "bottom": null,
            "display": null,
            "flex": null,
            "flex_flow": null,
            "grid_area": null,
            "grid_auto_columns": null,
            "grid_auto_flow": null,
            "grid_auto_rows": null,
            "grid_column": null,
            "grid_gap": null,
            "grid_row": null,
            "grid_template_areas": null,
            "grid_template_columns": null,
            "grid_template_rows": null,
            "height": null,
            "justify_content": null,
            "justify_items": null,
            "left": null,
            "margin": null,
            "max_height": null,
            "max_width": null,
            "min_height": null,
            "min_width": null,
            "object_fit": null,
            "object_position": null,
            "order": null,
            "overflow": null,
            "overflow_x": null,
            "overflow_y": null,
            "padding": null,
            "right": null,
            "top": null,
            "visibility": null,
            "width": null
          }
        },
        "d1c91e287c7a4e0c9ebafe3383f45f27": {
          "model_module": "@jupyter-widgets/controls",
          "model_name": "DescriptionStyleModel",
          "model_module_version": "1.5.0",
          "state": {
            "_model_module": "@jupyter-widgets/controls",
            "_model_module_version": "1.5.0",
            "_model_name": "DescriptionStyleModel",
            "_view_count": null,
            "_view_module": "@jupyter-widgets/base",
            "_view_module_version": "1.2.0",
            "_view_name": "StyleView",
            "description_width": ""
          }
        },
        "be686dcb9ab24290a556c0cf46387bdc": {
          "model_module": "@jupyter-widgets/base",
          "model_name": "LayoutModel",
          "model_module_version": "1.2.0",
          "state": {
            "_model_module": "@jupyter-widgets/base",
            "_model_module_version": "1.2.0",
            "_model_name": "LayoutModel",
            "_view_count": null,
            "_view_module": "@jupyter-widgets/base",
            "_view_module_version": "1.2.0",
            "_view_name": "LayoutView",
            "align_content": null,
            "align_items": null,
            "align_self": null,
            "border": null,
            "bottom": null,
            "display": null,
            "flex": null,
            "flex_flow": null,
            "grid_area": null,
            "grid_auto_columns": null,
            "grid_auto_flow": null,
            "grid_auto_rows": null,
            "grid_column": null,
            "grid_gap": null,
            "grid_row": null,
            "grid_template_areas": null,
            "grid_template_columns": null,
            "grid_template_rows": null,
            "height": null,
            "justify_content": null,
            "justify_items": null,
            "left": null,
            "margin": null,
            "max_height": null,
            "max_width": null,
            "min_height": null,
            "min_width": null,
            "object_fit": null,
            "object_position": null,
            "order": null,
            "overflow": null,
            "overflow_x": null,
            "overflow_y": null,
            "padding": null,
            "right": null,
            "top": null,
            "visibility": null,
            "width": null
          }
        },
        "7fd7ecb1137a421ea939db834bffa36e": {
          "model_module": "@jupyter-widgets/controls",
          "model_name": "ProgressStyleModel",
          "model_module_version": "1.5.0",
          "state": {
            "_model_module": "@jupyter-widgets/controls",
            "_model_module_version": "1.5.0",
            "_model_name": "ProgressStyleModel",
            "_view_count": null,
            "_view_module": "@jupyter-widgets/base",
            "_view_module_version": "1.2.0",
            "_view_name": "StyleView",
            "bar_color": null,
            "description_width": ""
          }
        },
        "139cdbb14c93451ea6f664ff30ba7371": {
          "model_module": "@jupyter-widgets/controls",
          "model_name": "VBoxModel",
          "model_module_version": "1.5.0",
          "state": {
            "_dom_classes": [],
            "_model_module": "@jupyter-widgets/controls",
            "_model_module_version": "1.5.0",
            "_model_name": "VBoxModel",
            "_view_count": null,
            "_view_module": "@jupyter-widgets/controls",
            "_view_module_version": "1.5.0",
            "_view_name": "VBoxView",
            "box_style": "",
            "children": [
              "IPY_MODEL_066a22a7cd07412ead3ca32ca02d0320",
              "IPY_MODEL_47091aea5eae4def8a61dddcc4a3f262"
            ],
            "layout": "IPY_MODEL_c338a3f7ce33459aa41df273edb9eb1b"
          }
        },
        "066a22a7cd07412ead3ca32ca02d0320": {
          "model_module": "@jupyter-widgets/controls",
          "model_name": "LabelModel",
          "model_module_version": "1.5.0",
          "state": {
            "_dom_classes": [],
            "_model_module": "@jupyter-widgets/controls",
            "_model_module_version": "1.5.0",
            "_model_name": "LabelModel",
            "_view_count": null,
            "_view_module": "@jupyter-widgets/controls",
            "_view_module_version": "1.5.0",
            "_view_name": "LabelView",
            "description": "",
            "description_tooltip": null,
            "layout": "IPY_MODEL_8a612e3a4d254188a02cacb7382c697d",
            "placeholder": "​",
            "style": "IPY_MODEL_c480c6a87e3e45628142cce1d2b75774",
            "value": "66.468 MB of 66.468 MB uploaded (0.088 MB deduped)\r"
          }
        },
        "47091aea5eae4def8a61dddcc4a3f262": {
          "model_module": "@jupyter-widgets/controls",
          "model_name": "FloatProgressModel",
          "model_module_version": "1.5.0",
          "state": {
            "_dom_classes": [],
            "_model_module": "@jupyter-widgets/controls",
            "_model_module_version": "1.5.0",
            "_model_name": "FloatProgressModel",
            "_view_count": null,
            "_view_module": "@jupyter-widgets/controls",
            "_view_module_version": "1.5.0",
            "_view_name": "ProgressView",
            "bar_style": "",
            "description": "",
            "description_tooltip": null,
            "layout": "IPY_MODEL_fdf715e7dff945bfb1e3448f1f587731",
            "max": 1,
            "min": 0,
            "orientation": "horizontal",
            "style": "IPY_MODEL_88ada109a3a446768e14ea595f27817f",
            "value": 1
          }
        },
        "c338a3f7ce33459aa41df273edb9eb1b": {
          "model_module": "@jupyter-widgets/base",
          "model_name": "LayoutModel",
          "model_module_version": "1.2.0",
          "state": {
            "_model_module": "@jupyter-widgets/base",
            "_model_module_version": "1.2.0",
            "_model_name": "LayoutModel",
            "_view_count": null,
            "_view_module": "@jupyter-widgets/base",
            "_view_module_version": "1.2.0",
            "_view_name": "LayoutView",
            "align_content": null,
            "align_items": null,
            "align_self": null,
            "border": null,
            "bottom": null,
            "display": null,
            "flex": null,
            "flex_flow": null,
            "grid_area": null,
            "grid_auto_columns": null,
            "grid_auto_flow": null,
            "grid_auto_rows": null,
            "grid_column": null,
            "grid_gap": null,
            "grid_row": null,
            "grid_template_areas": null,
            "grid_template_columns": null,
            "grid_template_rows": null,
            "height": null,
            "justify_content": null,
            "justify_items": null,
            "left": null,
            "margin": null,
            "max_height": null,
            "max_width": null,
            "min_height": null,
            "min_width": null,
            "object_fit": null,
            "object_position": null,
            "order": null,
            "overflow": null,
            "overflow_x": null,
            "overflow_y": null,
            "padding": null,
            "right": null,
            "top": null,
            "visibility": null,
            "width": null
          }
        },
        "8a612e3a4d254188a02cacb7382c697d": {
          "model_module": "@jupyter-widgets/base",
          "model_name": "LayoutModel",
          "model_module_version": "1.2.0",
          "state": {
            "_model_module": "@jupyter-widgets/base",
            "_model_module_version": "1.2.0",
            "_model_name": "LayoutModel",
            "_view_count": null,
            "_view_module": "@jupyter-widgets/base",
            "_view_module_version": "1.2.0",
            "_view_name": "LayoutView",
            "align_content": null,
            "align_items": null,
            "align_self": null,
            "border": null,
            "bottom": null,
            "display": null,
            "flex": null,
            "flex_flow": null,
            "grid_area": null,
            "grid_auto_columns": null,
            "grid_auto_flow": null,
            "grid_auto_rows": null,
            "grid_column": null,
            "grid_gap": null,
            "grid_row": null,
            "grid_template_areas": null,
            "grid_template_columns": null,
            "grid_template_rows": null,
            "height": null,
            "justify_content": null,
            "justify_items": null,
            "left": null,
            "margin": null,
            "max_height": null,
            "max_width": null,
            "min_height": null,
            "min_width": null,
            "object_fit": null,
            "object_position": null,
            "order": null,
            "overflow": null,
            "overflow_x": null,
            "overflow_y": null,
            "padding": null,
            "right": null,
            "top": null,
            "visibility": null,
            "width": null
          }
        },
        "c480c6a87e3e45628142cce1d2b75774": {
          "model_module": "@jupyter-widgets/controls",
          "model_name": "DescriptionStyleModel",
          "model_module_version": "1.5.0",
          "state": {
            "_model_module": "@jupyter-widgets/controls",
            "_model_module_version": "1.5.0",
            "_model_name": "DescriptionStyleModel",
            "_view_count": null,
            "_view_module": "@jupyter-widgets/base",
            "_view_module_version": "1.2.0",
            "_view_name": "StyleView",
            "description_width": ""
          }
        },
        "fdf715e7dff945bfb1e3448f1f587731": {
          "model_module": "@jupyter-widgets/base",
          "model_name": "LayoutModel",
          "model_module_version": "1.2.0",
          "state": {
            "_model_module": "@jupyter-widgets/base",
            "_model_module_version": "1.2.0",
            "_model_name": "LayoutModel",
            "_view_count": null,
            "_view_module": "@jupyter-widgets/base",
            "_view_module_version": "1.2.0",
            "_view_name": "LayoutView",
            "align_content": null,
            "align_items": null,
            "align_self": null,
            "border": null,
            "bottom": null,
            "display": null,
            "flex": null,
            "flex_flow": null,
            "grid_area": null,
            "grid_auto_columns": null,
            "grid_auto_flow": null,
            "grid_auto_rows": null,
            "grid_column": null,
            "grid_gap": null,
            "grid_row": null,
            "grid_template_areas": null,
            "grid_template_columns": null,
            "grid_template_rows": null,
            "height": null,
            "justify_content": null,
            "justify_items": null,
            "left": null,
            "margin": null,
            "max_height": null,
            "max_width": null,
            "min_height": null,
            "min_width": null,
            "object_fit": null,
            "object_position": null,
            "order": null,
            "overflow": null,
            "overflow_x": null,
            "overflow_y": null,
            "padding": null,
            "right": null,
            "top": null,
            "visibility": null,
            "width": null
          }
        },
        "88ada109a3a446768e14ea595f27817f": {
          "model_module": "@jupyter-widgets/controls",
          "model_name": "ProgressStyleModel",
          "model_module_version": "1.5.0",
          "state": {
            "_model_module": "@jupyter-widgets/controls",
            "_model_module_version": "1.5.0",
            "_model_name": "ProgressStyleModel",
            "_view_count": null,
            "_view_module": "@jupyter-widgets/base",
            "_view_module_version": "1.2.0",
            "_view_name": "StyleView",
            "bar_color": null,
            "description_width": ""
          }
        },
        "05dae28880bc42df9190318ff119b3d9": {
          "model_module": "@jupyter-widgets/controls",
          "model_name": "VBoxModel",
          "model_module_version": "1.5.0",
          "state": {
            "_dom_classes": [],
            "_model_module": "@jupyter-widgets/controls",
            "_model_module_version": "1.5.0",
            "_model_name": "VBoxModel",
            "_view_count": null,
            "_view_module": "@jupyter-widgets/controls",
            "_view_module_version": "1.5.0",
            "_view_name": "VBoxView",
            "box_style": "",
            "children": [
              "IPY_MODEL_f9a629d8766b4720be534f7fac7737eb",
              "IPY_MODEL_a39c121262c54b29971d08a55da88939"
            ],
            "layout": "IPY_MODEL_d5f5cae8690047b5900db929a2e86227"
          }
        },
        "f9a629d8766b4720be534f7fac7737eb": {
          "model_module": "@jupyter-widgets/controls",
          "model_name": "LabelModel",
          "model_module_version": "1.5.0",
          "state": {
            "_dom_classes": [],
            "_model_module": "@jupyter-widgets/controls",
            "_model_module_version": "1.5.0",
            "_model_name": "LabelModel",
            "_view_count": null,
            "_view_module": "@jupyter-widgets/controls",
            "_view_module_version": "1.5.0",
            "_view_name": "LabelView",
            "description": "",
            "description_tooltip": null,
            "layout": "IPY_MODEL_4ce9f6d2c96a4f7b9f8ecf5ea42e910e",
            "placeholder": "​",
            "style": "IPY_MODEL_a0d6f70d56a541a6b5165b317c93a1f4",
            "value": "61.717 MB of 61.717 MB uploaded (0.080 MB deduped)\r"
          }
        },
        "a39c121262c54b29971d08a55da88939": {
          "model_module": "@jupyter-widgets/controls",
          "model_name": "FloatProgressModel",
          "model_module_version": "1.5.0",
          "state": {
            "_dom_classes": [],
            "_model_module": "@jupyter-widgets/controls",
            "_model_module_version": "1.5.0",
            "_model_name": "FloatProgressModel",
            "_view_count": null,
            "_view_module": "@jupyter-widgets/controls",
            "_view_module_version": "1.5.0",
            "_view_name": "ProgressView",
            "bar_style": "",
            "description": "",
            "description_tooltip": null,
            "layout": "IPY_MODEL_793bd520ea6a4c849692140189a9ffa5",
            "max": 1,
            "min": 0,
            "orientation": "horizontal",
            "style": "IPY_MODEL_6fe38f4fbf6643daac15c872c9612f6f",
            "value": 1
          }
        },
        "d5f5cae8690047b5900db929a2e86227": {
          "model_module": "@jupyter-widgets/base",
          "model_name": "LayoutModel",
          "model_module_version": "1.2.0",
          "state": {
            "_model_module": "@jupyter-widgets/base",
            "_model_module_version": "1.2.0",
            "_model_name": "LayoutModel",
            "_view_count": null,
            "_view_module": "@jupyter-widgets/base",
            "_view_module_version": "1.2.0",
            "_view_name": "LayoutView",
            "align_content": null,
            "align_items": null,
            "align_self": null,
            "border": null,
            "bottom": null,
            "display": null,
            "flex": null,
            "flex_flow": null,
            "grid_area": null,
            "grid_auto_columns": null,
            "grid_auto_flow": null,
            "grid_auto_rows": null,
            "grid_column": null,
            "grid_gap": null,
            "grid_row": null,
            "grid_template_areas": null,
            "grid_template_columns": null,
            "grid_template_rows": null,
            "height": null,
            "justify_content": null,
            "justify_items": null,
            "left": null,
            "margin": null,
            "max_height": null,
            "max_width": null,
            "min_height": null,
            "min_width": null,
            "object_fit": null,
            "object_position": null,
            "order": null,
            "overflow": null,
            "overflow_x": null,
            "overflow_y": null,
            "padding": null,
            "right": null,
            "top": null,
            "visibility": null,
            "width": null
          }
        },
        "4ce9f6d2c96a4f7b9f8ecf5ea42e910e": {
          "model_module": "@jupyter-widgets/base",
          "model_name": "LayoutModel",
          "model_module_version": "1.2.0",
          "state": {
            "_model_module": "@jupyter-widgets/base",
            "_model_module_version": "1.2.0",
            "_model_name": "LayoutModel",
            "_view_count": null,
            "_view_module": "@jupyter-widgets/base",
            "_view_module_version": "1.2.0",
            "_view_name": "LayoutView",
            "align_content": null,
            "align_items": null,
            "align_self": null,
            "border": null,
            "bottom": null,
            "display": null,
            "flex": null,
            "flex_flow": null,
            "grid_area": null,
            "grid_auto_columns": null,
            "grid_auto_flow": null,
            "grid_auto_rows": null,
            "grid_column": null,
            "grid_gap": null,
            "grid_row": null,
            "grid_template_areas": null,
            "grid_template_columns": null,
            "grid_template_rows": null,
            "height": null,
            "justify_content": null,
            "justify_items": null,
            "left": null,
            "margin": null,
            "max_height": null,
            "max_width": null,
            "min_height": null,
            "min_width": null,
            "object_fit": null,
            "object_position": null,
            "order": null,
            "overflow": null,
            "overflow_x": null,
            "overflow_y": null,
            "padding": null,
            "right": null,
            "top": null,
            "visibility": null,
            "width": null
          }
        },
        "a0d6f70d56a541a6b5165b317c93a1f4": {
          "model_module": "@jupyter-widgets/controls",
          "model_name": "DescriptionStyleModel",
          "model_module_version": "1.5.0",
          "state": {
            "_model_module": "@jupyter-widgets/controls",
            "_model_module_version": "1.5.0",
            "_model_name": "DescriptionStyleModel",
            "_view_count": null,
            "_view_module": "@jupyter-widgets/base",
            "_view_module_version": "1.2.0",
            "_view_name": "StyleView",
            "description_width": ""
          }
        },
        "793bd520ea6a4c849692140189a9ffa5": {
          "model_module": "@jupyter-widgets/base",
          "model_name": "LayoutModel",
          "model_module_version": "1.2.0",
          "state": {
            "_model_module": "@jupyter-widgets/base",
            "_model_module_version": "1.2.0",
            "_model_name": "LayoutModel",
            "_view_count": null,
            "_view_module": "@jupyter-widgets/base",
            "_view_module_version": "1.2.0",
            "_view_name": "LayoutView",
            "align_content": null,
            "align_items": null,
            "align_self": null,
            "border": null,
            "bottom": null,
            "display": null,
            "flex": null,
            "flex_flow": null,
            "grid_area": null,
            "grid_auto_columns": null,
            "grid_auto_flow": null,
            "grid_auto_rows": null,
            "grid_column": null,
            "grid_gap": null,
            "grid_row": null,
            "grid_template_areas": null,
            "grid_template_columns": null,
            "grid_template_rows": null,
            "height": null,
            "justify_content": null,
            "justify_items": null,
            "left": null,
            "margin": null,
            "max_height": null,
            "max_width": null,
            "min_height": null,
            "min_width": null,
            "object_fit": null,
            "object_position": null,
            "order": null,
            "overflow": null,
            "overflow_x": null,
            "overflow_y": null,
            "padding": null,
            "right": null,
            "top": null,
            "visibility": null,
            "width": null
          }
        },
        "6fe38f4fbf6643daac15c872c9612f6f": {
          "model_module": "@jupyter-widgets/controls",
          "model_name": "ProgressStyleModel",
          "model_module_version": "1.5.0",
          "state": {
            "_model_module": "@jupyter-widgets/controls",
            "_model_module_version": "1.5.0",
            "_model_name": "ProgressStyleModel",
            "_view_count": null,
            "_view_module": "@jupyter-widgets/base",
            "_view_module_version": "1.2.0",
            "_view_name": "StyleView",
            "bar_color": null,
            "description_width": ""
          }
        }
      }
    }
  },
  "cells": [
    {
      "cell_type": "markdown",
      "metadata": {
        "id": "view-in-github",
        "colab_type": "text"
      },
      "source": [
        "<a href=\"https://colab.research.google.com/github/ounospanas/AIDL_A_02/blob/main/notebooks_solutions/AIDL_A02_network_optimization_solution.ipynb\" target=\"_parent\"><img src=\"https://colab.research.google.com/assets/colab-badge.svg\" alt=\"Open In Colab\"/></a>"
      ]
    },
    {
      "cell_type": "code",
      "metadata": {
        "id": "j25rklnwD1-m"
      },
      "source": [
        "import numpy as np\n",
        "import matplotlib.pyplot as plt\n",
        "%matplotlib inline"
      ],
      "execution_count": 1,
      "outputs": []
    },
    {
      "cell_type": "code",
      "metadata": {
        "id": "JenmhPusFZ06",
        "colab": {
          "base_uri": "https://localhost:8080/"
        },
        "outputId": "7aeba021-05e4-4b97-dbbb-501c3c9983de"
      },
      "source": [
        "#load dataset\n",
        "import tensorflow as tf\n",
        "(x_train, y_train), (x_test, y_test) = tf.keras.datasets.fashion_mnist.load_data()"
      ],
      "execution_count": 2,
      "outputs": [
        {
          "output_type": "stream",
          "name": "stdout",
          "text": [
            "Downloading data from https://storage.googleapis.com/tensorflow/tf-keras-datasets/train-labels-idx1-ubyte.gz\n",
            "29515/29515 [==============================] - 0s 0us/step\n",
            "Downloading data from https://storage.googleapis.com/tensorflow/tf-keras-datasets/train-images-idx3-ubyte.gz\n",
            "26421880/26421880 [==============================] - 1s 0us/step\n",
            "Downloading data from https://storage.googleapis.com/tensorflow/tf-keras-datasets/t10k-labels-idx1-ubyte.gz\n",
            "5148/5148 [==============================] - 0s 0us/step\n",
            "Downloading data from https://storage.googleapis.com/tensorflow/tf-keras-datasets/t10k-images-idx3-ubyte.gz\n",
            "4422102/4422102 [==============================] - 1s 0us/step\n"
          ]
        }
      ]
    },
    {
      "cell_type": "code",
      "metadata": {
        "colab": {
          "base_uri": "https://localhost:8080/",
          "height": 371
        },
        "id": "V7uVONPjF1PP",
        "outputId": "b242a760-4538-44ea-84f7-89a443c90d97"
      },
      "source": [
        "#visualize some data\n",
        "classes = ['T-shirt/top', 'Trouser', 'Pullover', 'Dress', 'Coat', 'Sandal', 'Shirt', 'Sneaker', 'Bag', 'Ankle boot']\n",
        "selected = [0,1,3,5,6,8,16,18,19,23]\n",
        "plt.figure(figsize=(11, 11))\n",
        "for i, s in enumerate(selected):\n",
        "    plt.subplot(5,5,i+1)\n",
        "    plt.xticks([])\n",
        "    plt.yticks([])\n",
        "    #img = plt.imread(x_train[s])\n",
        "    plt.imshow(x_train[s], cmap='gray')\n",
        "    plt.xlabel(classes[y_train[s]],)"
      ],
      "execution_count": 3,
      "outputs": [
        {
          "output_type": "display_data",
          "data": {
            "text/plain": [
              "<Figure size 1100x1100 with 10 Axes>"
            ],
            "image/png": "[encoded data removed]"
          },
          "metadata": {}
        }
      ]
    },
    {
      "cell_type": "code",
      "metadata": {
        "id": "I8NenH6QEPlH"
      },
      "source": [
        "# normalize data\n",
        "x_train = x_train.reshape(x_train.shape[0],-1)/255\n",
        "x_test = x_test.reshape(x_test.shape[0],-1)/255"
      ],
      "execution_count": 4,
      "outputs": []
    },
    {
      "cell_type": "markdown",
      "metadata": {
        "id": "5zD2QsqukISO"
      },
      "source": [
        "# Binary Classification"
      ]
    },
    {
      "cell_type": "code",
      "metadata": {
        "id": "CWtYiD_eEJsq"
      },
      "source": [
        "# select only t-shirts and ankle boots\n",
        "shirt_train = np.where(y_train==0)\n",
        "dress_train = np.where(y_train==3)\n",
        "\n",
        "shirt_test = np.where(y_test==0)\n",
        "dress_test = np.where(y_test==3)"
      ],
      "execution_count": 5,
      "outputs": []
    },
    {
      "cell_type": "code",
      "metadata": {
        "id": "ugGWzBtFJA_1"
      },
      "source": [
        "# concatenate them\n",
        "x_train_s = x_train[shirt_train]\n",
        "y_train_s = y_train[shirt_train]\n",
        "\n",
        "x_test_s = x_test[shirt_test]\n",
        "y_test_s = y_test[shirt_test]\n",
        "\n",
        "x_train_d = x_train[dress_train]\n",
        "y_train_d = y_train[dress_train]\n",
        "\n",
        "x_test_d = x_test[dress_test]\n",
        "y_test_d = y_test[dress_test]\n",
        "\n",
        "x_train_binary = np.concatenate([x_train_s, x_train_d])\n",
        "x_test_binary = np.concatenate([x_test_s, x_test_d])\n",
        "\n",
        "y_train_binary = np.concatenate([y_train_s, np.ones_like(y_train_d)])\n",
        "y_test_binary = np.concatenate([y_test_s, np.ones_like(y_test_d)])"
      ],
      "execution_count": 6,
      "outputs": []
    },
    {
      "cell_type": "markdown",
      "metadata": {
        "id": "NDtVPYLzMAIL"
      },
      "source": [
        "# Neural Network (Custom)"
      ]
    },
    {
      "cell_type": "markdown",
      "metadata": {
        "id": "lW49UROyzfn-"
      },
      "source": [
        "Compute the sigmoid function:\n",
        "$$sigmoid( w^T x + b) = \\frac{1}{1 + e^{-(w^T x + b)}}$$"
      ]
    },
    {
      "cell_type": "code",
      "metadata": {
        "id": "rYBih-MhImZZ"
      },
      "source": [
        "def sigmoid(z):\n",
        "    \"\"\"\n",
        "    Compute sigmoid function.\n",
        "    z : the product theta.T * x + b\n",
        "    Returns\n",
        "    -------\n",
        "    g : The sigmoid function.\n",
        "    \"\"\"\n",
        "    a = 1./(1+np.exp(-z))\n",
        "\n",
        "    return a"
      ],
      "execution_count": 7,
      "outputs": []
    },
    {
      "cell_type": "markdown",
      "metadata": {
        "id": "-0wm-R3JFEvH"
      },
      "source": [
        "$a = ReLU(z) = max(z,0)$"
      ]
    },
    {
      "cell_type": "code",
      "metadata": {
        "id": "m3w8lOkkExcO"
      },
      "source": [
        "def relu(z):\n",
        "    \"\"\"\n",
        "    Compute relu function.\n",
        "    z : the product theta.T * x + b\n",
        "    Returns\n",
        "    -------\n",
        "    a : The relu function.\n",
        "    \"\"\"\n",
        "    a = np.maximum(z,0)\n",
        "\n",
        "    return a"
      ],
      "execution_count": 8,
      "outputs": []
    },
    {
      "cell_type": "code",
      "metadata": {
        "id": "_iElu6cUL-aZ"
      },
      "source": [
        "# check relu function\n",
        "assert relu(-1) == 0\n",
        "assert relu(2) == 2"
      ],
      "execution_count": 9,
      "outputs": []
    },
    {
      "cell_type": "markdown",
      "metadata": {
        "id": "v435SmJ2hSGF"
      },
      "source": [
        "# Parameter Initialization"
      ]
    },
    {
      "cell_type": "markdown",
      "metadata": {
        "id": "a1dql9nfxkAd"
      },
      "source": [
        "Xavier initialization: $$[-\\sqrt{\\frac{6}{n_{in}+n_{out}}}, \\sqrt{\\frac{6}{n_{in}+n_{out}}}]$$"
      ]
    },
    {
      "cell_type": "code",
      "metadata": {
        "id": "X0CIw-A92vsz"
      },
      "source": [
        "def init_params_xavier(n_in, n_out):\n",
        "    # TO DO\n",
        "    # set random seed to 0\n",
        "    # Hint, check np.random.uniform\n",
        "    np.random.seed(0)\n",
        "    # init random params and multiply it with 0.1\n",
        "    w = np.random.uniform(-np.sqrt(6./(n_in+n_out)), np.sqrt(6./(n_in+n_out)), (n_in, n_out))\n",
        "    b = np.random.randn(n_out)*0.01\n",
        "    return w, b"
      ],
      "execution_count": 10,
      "outputs": []
    },
    {
      "cell_type": "code",
      "metadata": {
        "colab": {
          "base_uri": "https://localhost:8080/"
        },
        "id": "RyflAZhrXLu_",
        "outputId": "00900a13-f67d-4b8a-be36-0b5e8b48b654"
      },
      "source": [
        "# check init params\n",
        "w, b  = init_params_xavier(2,3)\n",
        "print(np.round(w,4) == np.array([[ 0.1069,  0.4715,  0.2251],[ 0.0983, -0.1673,  0.3196]]))\n",
        "print(np.round(b,4) == np.array([0.0095, -0.0015, -0.001]))"
      ],
      "execution_count": 11,
      "outputs": [
        {
          "output_type": "stream",
          "name": "stdout",
          "text": [
            "[[ True  True  True]\n",
            " [ True  True  True]]\n",
            "[ True  True  True]\n"
          ]
        }
      ]
    },
    {
      "cell_type": "markdown",
      "metadata": {
        "id": "7S_vu4QwaBxU"
      },
      "source": [
        "He initialization: $$np.random.randn(n_{in}, n_{out})*\\sqrt{\\frac{2}{n_{in}}}$$, not multiply using 0.01."
      ]
    },
    {
      "cell_type": "code",
      "metadata": {
        "id": "pK-3JBi2aAxp"
      },
      "source": [
        "def init_params_he(n_in, n_out):\n",
        "    # TO DO\n",
        "    # set random seed to 0\n",
        "    # Hint, check np.random.uniform\n",
        "    np.random.seed(0)\n",
        "    # init random params and multiply it with 0.1\n",
        "    w = np.random.randn(n_in, n_out)*np.sqrt(2/n_in)\n",
        "    b = np.random.randn(n_out)*np.sqrt(2/n_in)\n",
        "    return w, b"
      ],
      "execution_count": 12,
      "outputs": []
    },
    {
      "cell_type": "code",
      "metadata": {
        "id": "3xEjaH9Vde3h",
        "colab": {
          "base_uri": "https://localhost:8080/"
        },
        "outputId": "f1996ef7-1806-4541-a4a7-9c95a0a45f77"
      },
      "source": [
        "# check init params\n",
        "w, b  = init_params_he(2,3)\n",
        "print(np.round(w,4) == np.array([[ 1.7641,  0.4002,  0.9787], [ 2.2409,  1.8676, -0.9773]]))\n",
        "print(np.round(b,4) == np.array([0.9501, -0.1514, -0.1032]))"
      ],
      "execution_count": 13,
      "outputs": [
        {
          "output_type": "stream",
          "name": "stdout",
          "text": [
            "[[ True  True  True]\n",
            " [ True  True  True]]\n",
            "[ True  True  True]\n"
          ]
        }
      ]
    },
    {
      "cell_type": "markdown",
      "metadata": {
        "id": "9_M6bkSI46hd"
      },
      "source": [
        "Calculate the cost function: $J = -\\frac{1}{m}\\sum_{i=1}^{m}y^{(i)}\\log(a^{(i)})+(1-y^{(i)})\\log(1-a^{(i)})$"
      ]
    },
    {
      "cell_type": "code",
      "metadata": {
        "id": "kdAJJ67d4gmD"
      },
      "source": [
        "def costFunction(y, m, a):\n",
        "    \"\"\"\n",
        "    Computes cost for linear regression.\n",
        "    X : feature vector, shape (m x n+1)\n",
        "    y : labels (i.e., dog or cat), shape (m, )\n",
        "    w : parameters for the linear regression, shape (n+1, )\n",
        "    m: data legth\n",
        "\n",
        "    returns\n",
        "    -------\n",
        "    J : value of cost function.\n",
        "    \"\"\"\n",
        "\n",
        "    J = -1/m * np.sum(y*np.log(a) + (1-y)*np.log(1-a))\n",
        "\n",
        "\n",
        "    return J"
      ],
      "execution_count": 14,
      "outputs": []
    },
    {
      "cell_type": "code",
      "metadata": {
        "id": "EcKNlaT8XZuG"
      },
      "source": [
        "#forward pass\n",
        "def forward(X, w, b, activation = 'relu'):\n",
        "    z = np.dot(X,w) + b\n",
        "    if activation=='relu':\n",
        "        a = relu(z)\n",
        "    else:\n",
        "        a = sigmoid(z)\n",
        "    return a"
      ],
      "execution_count": 15,
      "outputs": []
    },
    {
      "cell_type": "code",
      "metadata": {
        "id": "AivWfcIMY5ib",
        "colab": {
          "base_uri": "https://localhost:8080/"
        },
        "outputId": "c1331dbe-72b7-4115-9563-48d982f5e4cf"
      },
      "source": [
        "w, b  = init_params_he(2,3)\n",
        "forward(np.asarray([[1,2],[3,4]]), w, b, 'relu')[0].shape"
      ],
      "execution_count": 16,
      "outputs": [
        {
          "output_type": "execute_result",
          "data": {
            "text/plain": [
              "(3,)"
            ]
          },
          "metadata": {},
          "execution_count": 16
        }
      ]
    },
    {
      "cell_type": "markdown",
      "metadata": {
        "id": "6zraP5X4zhYq"
      },
      "source": [
        "\\begin{split}ReLU'(z)= \\begin{Bmatrix}1 & z>0 \\\\\n",
        "0 & z<0 \\end{Bmatrix}\\end{split}"
      ]
    },
    {
      "cell_type": "code",
      "metadata": {
        "id": "vOOTSR774duI"
      },
      "source": [
        "#relu gradient\n",
        "def reluBackward(z):\n",
        "    z[z<=0] = 0\n",
        "    z[z>0] = 1\n",
        "    return z"
      ],
      "execution_count": 17,
      "outputs": []
    },
    {
      "cell_type": "markdown",
      "metadata": {
        "id": "_CJK4wk_EA4t"
      },
      "source": [
        "Calculate the derivatives: $$ \\frac{\\partial J}{\\partial w} = \\frac{1}{m}X(A-Y)^T$$\n",
        "$$ \\frac{\\partial J}{\\partial b} = \\frac{1}{m} \\sum_{i=1}^m (A^{(i)}-Y^{(i)})$$"
      ]
    },
    {
      "cell_type": "code",
      "metadata": {
        "id": "WbHnEJsZX3Eu"
      },
      "source": [
        "#backpropagation\n",
        "def backward(a, dz):\n",
        "    m = len(a)\n",
        "    dw = np.dot(a.T, dz) / m\n",
        "    db = np.sum(dz, axis=0, keepdims=True) / m\n",
        "\n",
        "    return dw, db"
      ],
      "execution_count": 18,
      "outputs": []
    },
    {
      "cell_type": "markdown",
      "metadata": {
        "id": "KbgF0t0pRDfX"
      },
      "source": [
        "$$ w_j := w_j - \\alpha dw_j $$\n",
        "$$ b := b - \\alpha db $$"
      ]
    },
    {
      "cell_type": "code",
      "metadata": {
        "id": "L7IbXv7rQgyt"
      },
      "source": [
        "# update parameters for optimization\n",
        "def update(w, b, dw, db, learning_rate=0.01):\n",
        "    w = w - learning_rate*dw\n",
        "    b = b - learning_rate*db\n",
        "    return w, b"
      ],
      "execution_count": 19,
      "outputs": []
    },
    {
      "cell_type": "code",
      "metadata": {
        "id": "wPnS1ExVDffM"
      },
      "source": [
        "#forward pass\n",
        "def dummy_neural(X, y, n_layer_1, lr = 0.01, epochs = 100):\n",
        "    parameters = {}\n",
        "    gradients = {}\n",
        "    costs = []\n",
        "\n",
        "    n_in = X.shape[1]\n",
        "    n_out = 1\n",
        "\n",
        "    # initialize network with 1 hidden layer (and 1 output of course).\n",
        "    # Layer 1 should have 200 neurons\n",
        "    w1, b1 = init_params_xavier(n_in, n_layer_1)\n",
        "    w2, b2 = init_params_xavier(n_layer_1, n_out)\n",
        "\n",
        "    parameters['w1'] = w1\n",
        "    parameters['b1'] = b1\n",
        "    parameters['w2'] = w2\n",
        "    parameters['b2'] = b2\n",
        "\n",
        "    for i in range(epochs):\n",
        "\n",
        "        #forward pass\n",
        "        a1 = forward(X, w1, b1, activation = 'relu')\n",
        "        a2 = forward(a1, w2, b2, activation = 'sigmoid')\n",
        "\n",
        "        #cost function\n",
        "        cost = costFunction(y, len(y), a2)\n",
        "        costs.append(cost)\n",
        "\n",
        "        #backward pass\n",
        "        dz2 = a2-y\n",
        "        dw2, db2 = backward(a2, dz2)\n",
        "        dz1 = np.dot((dz2),w2.T)*reluBackward(np.dot(X,w1) + b1)\n",
        "        dw1, db1 = backward(X, dz1)\n",
        "\n",
        "        gradients['dw1'] = dw1\n",
        "        gradients['db1'] = db1\n",
        "        gradients['dw2'] = dw2\n",
        "        gradients['db2'] = db2\n",
        "\n",
        "        #update weights\n",
        "        w2, b2 = update(w2, b2, dw2, db2, lr)\n",
        "        w1, b1 = update(w1, b1, dw1, db1, lr)\n",
        "\n",
        "        parameters['w1'] = w1\n",
        "        parameters['b1'] = b1\n",
        "        parameters['w2'] = w2\n",
        "        parameters['b2'] = b2\n",
        "\n",
        "        if i%10==0:\n",
        "\n",
        "            a1t = forward(x_test_binary, w1, b1, activation = 'relu')\n",
        "            a2t = forward(a1t, w2, b2, activation = 'sigmoid')\n",
        "\n",
        "            print(\"epoch {} with cost {}\".format(i,cost))\n",
        "            print(\"train:\", np.mean(np.round(a2)==y))\n",
        "            print(\"test:\", np.mean(np.round(a2t.reshape(-1))==y_test_binary))\n",
        "\n",
        "    return parameters, a2, costs, gradients"
      ],
      "execution_count": 20,
      "outputs": []
    },
    {
      "cell_type": "code",
      "metadata": {
        "id": "A1v9e_cjDeaa",
        "colab": {
          "base_uri": "https://localhost:8080/"
        },
        "outputId": "2b553be7-dc29-4713-ce1b-a8abaf625017"
      },
      "source": [
        "learning_rate = 0.1\n",
        "a = dummy_neural(x_train_binary, y_train_binary.reshape(-1,1), 200, learning_rate, 1000)"
      ],
      "execution_count": 21,
      "outputs": [
        {
          "output_type": "stream",
          "name": "stdout",
          "text": [
            "epoch 0 with cost 0.73222077432145\n",
            "train: 0.5068333333333334\n",
            "test: 0.5\n",
            "epoch 10 with cost 0.3449637483262826\n",
            "train: 0.8908333333333334\n",
            "test: 0.882\n",
            "epoch 20 with cost 0.2831690845443682\n",
            "train: 0.897\n",
            "test: 0.894\n",
            "epoch 30 with cost 0.25933951989654164\n",
            "train: 0.9028333333333334\n",
            "test: 0.9015\n",
            "epoch 40 with cost 0.2452727337640431\n",
            "train: 0.9095833333333333\n",
            "test: 0.907\n",
            "epoch 50 with cost 0.2353781215718836\n",
            "train: 0.9139166666666667\n",
            "test: 0.913\n",
            "epoch 60 with cost 0.22785751996816328\n",
            "train: 0.9176666666666666\n",
            "test: 0.917\n",
            "epoch 70 with cost 0.22213162272876213\n",
            "train: 0.9193333333333333\n",
            "test: 0.921\n",
            "epoch 80 with cost 0.2175448627414139\n",
            "train: 0.9216666666666666\n",
            "test: 0.9225\n",
            "epoch 90 with cost 0.2136466884836102\n",
            "train: 0.9239166666666667\n",
            "test: 0.9235\n",
            "epoch 100 with cost 0.21042192808580462\n",
            "train: 0.9250833333333334\n",
            "test: 0.924\n",
            "epoch 110 with cost 0.20771532431056405\n",
            "train: 0.927\n",
            "test: 0.9255\n",
            "epoch 120 with cost 0.20538208768692795\n",
            "train: 0.928\n",
            "test: 0.9275\n",
            "epoch 130 with cost 0.20328904868104014\n",
            "train: 0.9290833333333334\n",
            "test: 0.928\n",
            "epoch 140 with cost 0.20138009637749288\n",
            "train: 0.93\n",
            "test: 0.9285\n",
            "epoch 150 with cost 0.19961861534254216\n",
            "train: 0.9319166666666666\n",
            "test: 0.9285\n",
            "epoch 160 with cost 0.1980201693774248\n",
            "train: 0.93275\n",
            "test: 0.9295\n",
            "epoch 170 with cost 0.19658358890152214\n",
            "train: 0.9340833333333334\n",
            "test: 0.931\n",
            "epoch 180 with cost 0.19526674275538497\n",
            "train: 0.9343333333333333\n",
            "test: 0.931\n",
            "epoch 190 with cost 0.194094280049121\n",
            "train: 0.9348333333333333\n",
            "test: 0.9315\n",
            "epoch 200 with cost 0.19305596820873597\n",
            "train: 0.9354166666666667\n",
            "test: 0.9335\n",
            "epoch 210 with cost 0.19210040498229924\n",
            "train: 0.9358333333333333\n",
            "test: 0.933\n",
            "epoch 220 with cost 0.19120432289433179\n",
            "train: 0.9358333333333333\n",
            "test: 0.933\n",
            "epoch 230 with cost 0.19038629547882224\n",
            "train: 0.9366666666666666\n",
            "test: 0.933\n",
            "epoch 240 with cost 0.18963014105840983\n",
            "train: 0.9370833333333334\n",
            "test: 0.933\n",
            "epoch 250 with cost 0.18898113489003063\n",
            "train: 0.9373333333333334\n",
            "test: 0.9325\n",
            "epoch 260 with cost 0.188389577236539\n",
            "train: 0.93825\n",
            "test: 0.933\n",
            "epoch 270 with cost 0.187873027260566\n",
            "train: 0.9393333333333334\n",
            "test: 0.9335\n",
            "epoch 280 with cost 0.18747552213510194\n",
            "train: 0.9395833333333333\n",
            "test: 0.9335\n",
            "epoch 290 with cost 0.1871796391116818\n",
            "train: 0.9396666666666667\n",
            "test: 0.9345\n",
            "epoch 300 with cost 0.18691658572297354\n",
            "train: 0.94025\n",
            "test: 0.935\n",
            "epoch 310 with cost 0.18668543902830698\n",
            "train: 0.9406666666666667\n",
            "test: 0.9345\n",
            "epoch 320 with cost 0.18646291693002687\n",
            "train: 0.9413333333333334\n",
            "test: 0.9355\n",
            "epoch 330 with cost 0.1862074862746406\n",
            "train: 0.942\n",
            "test: 0.9355\n",
            "epoch 340 with cost 0.18595601232142633\n",
            "train: 0.943\n",
            "test: 0.936\n",
            "epoch 350 with cost 0.1856838792859512\n",
            "train: 0.9429166666666666\n",
            "test: 0.9355\n",
            "epoch 360 with cost 0.18555748742851813\n",
            "train: 0.9430833333333334\n",
            "test: 0.9355\n",
            "epoch 370 with cost 0.1855693916822616\n",
            "train: 0.9435833333333333\n",
            "test: 0.9355\n",
            "epoch 380 with cost 0.18558261349135038\n",
            "train: 0.9435833333333333\n",
            "test: 0.936\n",
            "epoch 390 with cost 0.18558809649233152\n",
            "train: 0.9436666666666667\n",
            "test: 0.936\n",
            "epoch 400 with cost 0.18560110893932233\n",
            "train: 0.9438333333333333\n",
            "test: 0.9365\n",
            "epoch 410 with cost 0.18559470291092012\n",
            "train: 0.9445\n",
            "test: 0.9365\n",
            "epoch 420 with cost 0.18554222013773664\n",
            "train: 0.9449166666666666\n",
            "test: 0.9365\n",
            "epoch 430 with cost 0.1854775006794311\n",
            "train: 0.9450833333333334\n",
            "test: 0.9365\n",
            "epoch 440 with cost 0.18540716338808846\n",
            "train: 0.9449166666666666\n",
            "test: 0.9355\n",
            "epoch 450 with cost 0.1853119127049839\n",
            "train: 0.9454166666666667\n",
            "test: 0.9355\n",
            "epoch 460 with cost 0.1852470697827609\n",
            "train: 0.9453333333333334\n",
            "test: 0.935\n",
            "epoch 470 with cost 0.18528987254863657\n",
            "train: 0.9456666666666667\n",
            "test: 0.935\n",
            "epoch 480 with cost 0.18534556042763517\n",
            "train: 0.9458333333333333\n",
            "test: 0.936\n",
            "epoch 490 with cost 0.1854095584445661\n",
            "train: 0.9461666666666667\n",
            "test: 0.9355\n",
            "epoch 500 with cost 0.18544449207712987\n",
            "train: 0.9466666666666667\n",
            "test: 0.9365\n",
            "epoch 510 with cost 0.18546397792969813\n",
            "train: 0.9470833333333334\n",
            "test: 0.9365\n",
            "epoch 520 with cost 0.1854318020703331\n",
            "train: 0.9471666666666667\n",
            "test: 0.9355\n",
            "epoch 530 with cost 0.18533391388229103\n",
            "train: 0.94725\n",
            "test: 0.9355\n",
            "epoch 540 with cost 0.18520164011777926\n",
            "train: 0.9474166666666667\n",
            "test: 0.9355\n",
            "epoch 550 with cost 0.18500245360806464\n",
            "train: 0.9474166666666667\n",
            "test: 0.936\n",
            "epoch 560 with cost 0.18479215772975674\n",
            "train: 0.94775\n",
            "test: 0.9365\n",
            "epoch 570 with cost 0.18457449350813657\n",
            "train: 0.9479166666666666\n",
            "test: 0.9365\n",
            "epoch 580 with cost 0.18436324952597358\n",
            "train: 0.9481666666666667\n",
            "test: 0.9365\n",
            "epoch 590 with cost 0.18413452920873039\n",
            "train: 0.9485\n",
            "test: 0.937\n",
            "epoch 600 with cost 0.18388537526060436\n",
            "train: 0.9486666666666667\n",
            "test: 0.9375\n",
            "epoch 610 with cost 0.18365383403333743\n",
            "train: 0.9486666666666667\n",
            "test: 0.9375\n",
            "epoch 620 with cost 0.183475157722536\n",
            "train: 0.9489166666666666\n",
            "test: 0.938\n",
            "epoch 630 with cost 0.18335629214785285\n",
            "train: 0.949\n",
            "test: 0.938\n",
            "epoch 640 with cost 0.18329601244757218\n",
            "train: 0.9489166666666666\n",
            "test: 0.937\n",
            "epoch 650 with cost 0.1832072981939873\n",
            "train: 0.9488333333333333\n",
            "test: 0.937\n",
            "epoch 660 with cost 0.18303959212553536\n",
            "train: 0.94875\n",
            "test: 0.937\n",
            "epoch 670 with cost 0.1828566338471163\n",
            "train: 0.94875\n",
            "test: 0.937\n",
            "epoch 680 with cost 0.18263981999875428\n",
            "train: 0.94875\n",
            "test: 0.9375\n",
            "epoch 690 with cost 0.18242524939504207\n",
            "train: 0.949\n",
            "test: 0.937\n",
            "epoch 700 with cost 0.1821788914209484\n",
            "train: 0.9493333333333334\n",
            "test: 0.937\n",
            "epoch 710 with cost 0.18187524025287466\n",
            "train: 0.9495\n",
            "test: 0.9375\n",
            "epoch 720 with cost 0.1815771549619678\n",
            "train: 0.9494166666666667\n",
            "test: 0.9375\n",
            "epoch 730 with cost 0.1812786783802568\n",
            "train: 0.9493333333333334\n",
            "test: 0.938\n",
            "epoch 740 with cost 0.1809804301190431\n",
            "train: 0.9494166666666667\n",
            "test: 0.938\n",
            "epoch 750 with cost 0.18069876969145768\n",
            "train: 0.9496666666666667\n",
            "test: 0.938\n",
            "epoch 760 with cost 0.18038430345474746\n",
            "train: 0.94975\n",
            "test: 0.938\n",
            "epoch 770 with cost 0.18006445641494628\n",
            "train: 0.9496666666666667\n",
            "test: 0.938\n",
            "epoch 780 with cost 0.17972750066760862\n",
            "train: 0.9496666666666667\n",
            "test: 0.938\n",
            "epoch 790 with cost 0.1793622912055191\n",
            "train: 0.94975\n",
            "test: 0.9375\n",
            "epoch 800 with cost 0.17897629633334394\n",
            "train: 0.9498333333333333\n",
            "test: 0.938\n",
            "epoch 810 with cost 0.1785524328653271\n",
            "train: 0.94975\n",
            "test: 0.9385\n",
            "epoch 820 with cost 0.178114482759856\n",
            "train: 0.9496666666666667\n",
            "test: 0.9385\n",
            "epoch 830 with cost 0.17765248385333446\n",
            "train: 0.94975\n",
            "test: 0.9385\n",
            "epoch 840 with cost 0.17717400769478717\n",
            "train: 0.9495833333333333\n",
            "test: 0.9385\n",
            "epoch 850 with cost 0.17667338666793175\n",
            "train: 0.9496666666666667\n",
            "test: 0.9385\n",
            "epoch 860 with cost 0.1761279791456748\n",
            "train: 0.9495833333333333\n",
            "test: 0.9385\n",
            "epoch 870 with cost 0.17555430983877715\n",
            "train: 0.94975\n",
            "test: 0.9385\n",
            "epoch 880 with cost 0.17496176963723115\n",
            "train: 0.9496666666666667\n",
            "test: 0.9385\n",
            "epoch 890 with cost 0.17439185782164873\n",
            "train: 0.9498333333333333\n",
            "test: 0.9385\n",
            "epoch 900 with cost 0.17380425833356472\n",
            "train: 0.9498333333333333\n",
            "test: 0.939\n",
            "epoch 910 with cost 0.17316233668657127\n",
            "train: 0.95\n",
            "test: 0.939\n",
            "epoch 920 with cost 0.17243172368725487\n",
            "train: 0.9503333333333334\n",
            "test: 0.939\n",
            "epoch 930 with cost 0.17162811197693179\n",
            "train: 0.9504166666666667\n",
            "test: 0.94\n",
            "epoch 940 with cost 0.17083657717350387\n",
            "train: 0.9505833333333333\n",
            "test: 0.9405\n",
            "epoch 950 with cost 0.17007292482784608\n",
            "train: 0.95075\n",
            "test: 0.9405\n",
            "epoch 960 with cost 0.16932735637589205\n",
            "train: 0.9509166666666666\n",
            "test: 0.9405\n",
            "epoch 970 with cost 0.168593144310811\n",
            "train: 0.95125\n",
            "test: 0.9405\n",
            "epoch 980 with cost 0.16785928356436833\n",
            "train: 0.9514166666666667\n",
            "test: 0.9405\n",
            "epoch 990 with cost 0.16705609907695887\n",
            "train: 0.9515\n",
            "test: 0.9405\n"
          ]
        }
      ]
    },
    {
      "cell_type": "code",
      "metadata": {
        "id": "V3mztup8zhYw"
      },
      "source": [
        "# check the test accuracy\n",
        "a1t = forward(x_test_binary, a[0]['w1'], a[0]['b1'], activation = 'relu')\n",
        "a2t = forward(a1t, a[0]['w2'], a[0]['b2'], activation = 'sigmoid')\n",
        "# if you used xavier\n",
        "# assert np.mean(np.round(a2t.reshape(-1))==y_test_binary) == 0.9255\n",
        "# if you used he\n",
        "assert np.mean(np.round(a2t.reshape(-1))==y_test_binary) == 0.9405"
      ],
      "execution_count": 22,
      "outputs": []
    },
    {
      "cell_type": "markdown",
      "metadata": {
        "id": "7cR9l1cxie3T"
      },
      "source": [
        "# Learning rate scheduling"
      ]
    },
    {
      "cell_type": "code",
      "metadata": {
        "id": "itxh7L79idt_"
      },
      "source": [
        "def lr_scheduling(lr, epoch, schedule = 'step_decay'):\n",
        "\n",
        "  if schedule=='step_decay':\n",
        "    #TO DO, every 50 epochs divide lr by 2\n",
        "    if epoch%50==0:\n",
        "      lr = lr/2\n",
        "  elif schedule=='exponential_decay':\n",
        "    #TO DO, multiply rl every epoch by exp(k), where k = 0.01\n",
        "    k = 0.01\n",
        "    lr = lr * np.exp(-k)\n",
        "  else:\n",
        "    print('No scheduler, please define a correct scheduler!')\n",
        "\n",
        "  return lr"
      ],
      "execution_count": 23,
      "outputs": []
    },
    {
      "cell_type": "code",
      "metadata": {
        "id": "9To5w026l8cO"
      },
      "source": [
        "lr = 0.1\n",
        "for i in range(200):\n",
        "  lr = lr_scheduling(lr, i, schedule = 'step_decay')\n",
        "assert lr==0.00625\n",
        "\n",
        "lr = 0.1\n",
        "for i in range(200):\n",
        "  lr = lr_scheduling(lr, i, schedule = 'exponential_decay')\n",
        "assert np.round(lr,4)==0.0135"
      ],
      "execution_count": 24,
      "outputs": []
    },
    {
      "cell_type": "markdown",
      "metadata": {
        "id": "qyY3lT0K8KKk"
      },
      "source": [
        "# Dropout"
      ]
    },
    {
      "cell_type": "code",
      "metadata": {
        "id": "gft-lLiF8PcO"
      },
      "source": [
        "def dropout_forward(a, keep_prob):\n",
        "    dr = np.random.rand(a.shape[0], a.shape[1])                   # Step 1: initialize matrix D1 = np.random.rand(..., ...)\n",
        "    dr = (dr < keep_prob)                                         # Step 2: convert entries of D1 to 0 or 1 (using keep_prob as the threshold)\n",
        "    a = a*dr                                                      # Step 3: shut down some neurons of A1\n",
        "    a = a/keep_prob\n",
        "    return a, dr"
      ],
      "execution_count": 25,
      "outputs": []
    },
    {
      "cell_type": "code",
      "metadata": {
        "id": "GRAoEAQn8tUC"
      },
      "source": [
        "def dropout_backward(da, dr, keep_prob):\n",
        "    da = da*dr              # Step 1: Apply mask D2 to shut down the same neurons as during the forward propagation\n",
        "    da = da/keep_prob       # Step 2: Scale the value of neurons that haven't been shut down\n",
        "    return da"
      ],
      "execution_count": 26,
      "outputs": []
    },
    {
      "cell_type": "code",
      "metadata": {
        "id": "yD346J1Z_eWt"
      },
      "source": [
        "#forward pass\n",
        "def dummy_neural_dr(X, y, n_layer_1, lr = 0.01, epochs = 100, keep_prob=1.0):\n",
        "    parameters = {}\n",
        "    gradients = {}\n",
        "    costs = []\n",
        "\n",
        "    n_in = X.shape[1]\n",
        "    n_out = 1\n",
        "\n",
        "    # initialize network with 1 hidden layer (and 1 output of course).\n",
        "    # Layer 1 should have 200 neurons\n",
        "    w1, b1 = init_params_xavier(n_in, n_layer_1)\n",
        "    w2, b2 = init_params_xavier(n_layer_1, n_out)\n",
        "\n",
        "    parameters['w1'] = w1\n",
        "    parameters['b1'] = b1\n",
        "    parameters['w2'] = w2\n",
        "    parameters['b2'] = b2\n",
        "\n",
        "    for i in range(epochs):\n",
        "\n",
        "        #forward pass\n",
        "        a1 = forward(X, w1, b1, activation = 'relu')\n",
        "        a1, dr = dropout_forward(a1, keep_prob)\n",
        "        a2 = forward(a1, w2, b2, activation = 'sigmoid')\n",
        "\n",
        "        #cost function\n",
        "        cost = costFunction(y, len(y), a2)\n",
        "        costs.append(cost)\n",
        "\n",
        "        #backward pass\n",
        "        dz2 = a2-y\n",
        "        dw2, db2 = backward(a2, dz2)\n",
        "        da1 = np.dot((dz2),w2.T)\n",
        "        da1 = dropout_backward(da1,dr,keep_prob)\n",
        "        dz1 = da1*reluBackward(np.dot(X,w1) + b1)\n",
        "        dw1, db1 = backward(X, dz1)\n",
        "\n",
        "        gradients['dw1'] = dw1\n",
        "        gradients['db1'] = db1\n",
        "        gradients['dw2'] = dw2\n",
        "        gradients['db2'] = db2\n",
        "\n",
        "        #update weights\n",
        "        w2, b2 = update(w2, b2, dw2, db2, lr)\n",
        "        w1, b1 = update(w1, b1, dw1, db1, lr)\n",
        "\n",
        "        parameters['w1'] = w1\n",
        "        parameters['b1'] = b1\n",
        "        parameters['w2'] = w2\n",
        "        parameters['b2'] = b2\n",
        "\n",
        "        if i%10==0:\n",
        "\n",
        "            a1t = forward(x_test_binary, w1, b1, activation = 'relu')\n",
        "            a2t = forward(a1t, w2, b2, activation = 'sigmoid')\n",
        "\n",
        "            print(\"epoch {} with cost {}\".format(i,cost))\n",
        "            print(\"train:\", np.mean(np.round(a2)==y))\n",
        "            print(\"test:\", np.mean(np.round(a2t.reshape(-1))==y_test_binary))\n",
        "\n",
        "    return parameters, a2, costs, gradients"
      ],
      "execution_count": 27,
      "outputs": []
    },
    {
      "cell_type": "code",
      "metadata": {
        "id": "lZPqVszmBG08",
        "colab": {
          "base_uri": "https://localhost:8080/"
        },
        "outputId": "04be174a-0a57-48d2-c168-d2d0cb7d97f8"
      },
      "source": [
        "learning_rate = 0.1\n",
        "a = dummy_neural_dr(x_train_binary, y_train_binary.reshape(-1,1), 200, learning_rate, 1000, 0.8)"
      ],
      "execution_count": null,
      "outputs": [
        {
          "output_type": "stream",
          "name": "stdout",
          "text": [
            "epoch 0 with cost 0.7400915087985281\n",
            "train: 0.5015\n",
            "test: 0.5\n",
            "epoch 10 with cost 0.3479958667942149\n",
            "train: 0.88675\n",
            "test: 0.883\n",
            "epoch 20 with cost 0.28823039171222914\n",
            "train: 0.8973333333333333\n",
            "test: 0.8935\n",
            "epoch 30 with cost 0.26628643339401936\n",
            "train: 0.9026666666666666\n",
            "test: 0.9035\n",
            "epoch 40 with cost 0.250557733758381\n",
            "train: 0.9058333333333334\n",
            "test: 0.9065\n",
            "epoch 50 with cost 0.24166767823940236\n",
            "train: 0.9090833333333334\n",
            "test: 0.913\n",
            "epoch 60 with cost 0.23348936992067992\n",
            "train: 0.9135\n",
            "test: 0.9165\n",
            "epoch 70 with cost 0.22803327412241614\n",
            "train: 0.9165\n",
            "test: 0.92\n",
            "epoch 80 with cost 0.22259621810282093\n",
            "train: 0.9174166666666667\n",
            "test: 0.9225\n",
            "epoch 90 with cost 0.21845386209811007\n",
            "train: 0.92\n",
            "test: 0.923\n",
            "epoch 100 with cost 0.21576787803067748\n",
            "train: 0.9215833333333333\n",
            "test: 0.9245\n",
            "epoch 110 with cost 0.21476061539802085\n",
            "train: 0.9211666666666667\n",
            "test: 0.9255\n",
            "epoch 120 with cost 0.2098592280641482\n",
            "train: 0.9239166666666667\n",
            "test: 0.9265\n",
            "epoch 130 with cost 0.20793163021058145\n",
            "train: 0.9269166666666667\n",
            "test: 0.928\n",
            "epoch 140 with cost 0.2041850112826872\n",
            "train: 0.9290833333333334\n",
            "test: 0.928\n",
            "epoch 150 with cost 0.20364047869641225\n",
            "train: 0.928\n",
            "test: 0.9285\n",
            "epoch 160 with cost 0.20391931558560314\n",
            "train: 0.9260833333333334\n",
            "test: 0.929\n",
            "epoch 170 with cost 0.20079871888781917\n",
            "train: 0.9313333333333333\n",
            "test: 0.931\n",
            "epoch 180 with cost 0.20047685375853275\n",
            "train: 0.9305833333333333\n",
            "test: 0.931\n",
            "epoch 190 with cost 0.1971891857897493\n",
            "train: 0.9319166666666666\n",
            "test: 0.931\n",
            "epoch 200 with cost 0.1960601575825789\n",
            "train: 0.9331666666666667\n",
            "test: 0.9315\n",
            "epoch 210 with cost 0.19409770949770616\n",
            "train: 0.9323333333333333\n",
            "test: 0.9315\n",
            "epoch 220 with cost 0.19330190049447998\n",
            "train: 0.93175\n",
            "test: 0.9335\n",
            "epoch 230 with cost 0.19283954575623832\n",
            "train: 0.93325\n",
            "test: 0.9325\n",
            "epoch 240 with cost 0.1914635123173751\n",
            "train: 0.9360833333333334\n",
            "test: 0.9325\n",
            "epoch 250 with cost 0.1914981055108382\n",
            "train: 0.9368333333333333\n",
            "test: 0.9325\n",
            "epoch 260 with cost 0.19183267750433752\n",
            "train: 0.9341666666666667\n",
            "test: 0.9325\n",
            "epoch 270 with cost 0.18793434697465855\n",
            "train: 0.93875\n",
            "test: 0.933\n",
            "epoch 280 with cost 0.18872658786143082\n",
            "train: 0.937\n",
            "test: 0.9335\n",
            "epoch 290 with cost 0.18753095962872093\n",
            "train: 0.938\n",
            "test: 0.9345\n",
            "epoch 300 with cost 0.18721509989356377\n",
            "train: 0.9391666666666667\n",
            "test: 0.935\n",
            "epoch 310 with cost 0.18698926655900122\n",
            "train: 0.9374166666666667\n",
            "test: 0.9345\n",
            "epoch 320 with cost 0.1872712765745987\n",
            "train: 0.9384166666666667\n",
            "test: 0.934\n",
            "epoch 330 with cost 0.18728192228939444\n",
            "train: 0.9391666666666667\n",
            "test: 0.9345\n",
            "epoch 340 with cost 0.18555743275638534\n",
            "train: 0.9400833333333334\n",
            "test: 0.9355\n",
            "epoch 350 with cost 0.18545910568530252\n",
            "train: 0.9400833333333334\n",
            "test: 0.9355\n",
            "epoch 360 with cost 0.183726484273947\n",
            "train: 0.94325\n",
            "test: 0.9355\n",
            "epoch 370 with cost 0.18544836842599852\n",
            "train: 0.9396666666666667\n",
            "test: 0.9355\n",
            "epoch 380 with cost 0.18519979865596034\n",
            "train: 0.9424166666666667\n",
            "test: 0.936\n",
            "epoch 390 with cost 0.18486346419856814\n",
            "train: 0.94125\n",
            "test: 0.935\n",
            "epoch 400 with cost 0.18491676518289973\n",
            "train: 0.9421666666666667\n",
            "test: 0.9345\n",
            "epoch 410 with cost 0.1840048668786882\n",
            "train: 0.9425\n",
            "test: 0.935\n",
            "epoch 420 with cost 0.1834255291782021\n",
            "train: 0.9424166666666667\n",
            "test: 0.936\n",
            "epoch 430 with cost 0.1828084948508718\n",
            "train: 0.9435833333333333\n",
            "test: 0.936\n",
            "epoch 440 with cost 0.1834245095283503\n",
            "train: 0.9429166666666666\n",
            "test: 0.9365\n",
            "epoch 450 with cost 0.18285938175339803\n",
            "train: 0.9425833333333333\n",
            "test: 0.936\n",
            "epoch 460 with cost 0.18338588555377477\n",
            "train: 0.9446666666666667\n",
            "test: 0.9375\n",
            "epoch 470 with cost 0.18343810203323574\n",
            "train: 0.9455\n",
            "test: 0.9375\n",
            "epoch 480 with cost 0.18323952589309234\n",
            "train: 0.945\n",
            "test: 0.9375\n",
            "epoch 490 with cost 0.1834277469233904\n",
            "train: 0.9465833333333333\n",
            "test: 0.9375\n",
            "epoch 500 with cost 0.18315556949087036\n",
            "train: 0.9466666666666667\n",
            "test: 0.9375\n",
            "epoch 510 with cost 0.1832438198911123\n",
            "train: 0.9439166666666666\n",
            "test: 0.937\n",
            "epoch 520 with cost 0.1834747939051392\n",
            "train: 0.9448333333333333\n",
            "test: 0.9365\n",
            "epoch 530 with cost 0.18307581250332244\n",
            "train: 0.9460833333333334\n",
            "test: 0.9365\n",
            "epoch 540 with cost 0.1828712246200538\n",
            "train: 0.9478333333333333\n",
            "test: 0.937\n",
            "epoch 550 with cost 0.1848253782471425\n",
            "train: 0.9480833333333333\n",
            "test: 0.9375\n",
            "epoch 560 with cost 0.18374448541358732\n",
            "train: 0.9475\n",
            "test: 0.937\n",
            "epoch 570 with cost 0.18360233433098103\n",
            "train: 0.947\n",
            "test: 0.936\n",
            "epoch 580 with cost 0.1842666088799611\n",
            "train: 0.9465\n",
            "test: 0.9365\n",
            "epoch 590 with cost 0.184182369811633\n",
            "train: 0.947\n",
            "test: 0.936\n",
            "epoch 600 with cost 0.18483407382126119\n",
            "train: 0.9464166666666667\n",
            "test: 0.936\n",
            "epoch 610 with cost 0.18266241865162464\n",
            "train: 0.94725\n",
            "test: 0.9365\n",
            "epoch 620 with cost 0.18312324081710485\n",
            "train: 0.9485833333333333\n",
            "test: 0.9365\n",
            "epoch 630 with cost 0.18186164595134172\n",
            "train: 0.94925\n",
            "test: 0.9375\n",
            "epoch 640 with cost 0.18247453663441013\n",
            "train: 0.9484166666666667\n",
            "test: 0.9375\n",
            "epoch 650 with cost 0.1825617333653253\n",
            "train: 0.9485\n",
            "test: 0.9375\n",
            "epoch 660 with cost 0.18244548168825012\n",
            "train: 0.94775\n",
            "test: 0.938\n",
            "epoch 670 with cost 0.18268380917297905\n",
            "train: 0.9478333333333333\n",
            "test: 0.938\n",
            "epoch 680 with cost 0.18289735781984495\n",
            "train: 0.94775\n",
            "test: 0.938\n",
            "epoch 690 with cost 0.1823929361447015\n",
            "train: 0.9481666666666667\n",
            "test: 0.938\n",
            "epoch 700 with cost 0.18181678108838234\n",
            "train: 0.9485\n",
            "test: 0.938\n",
            "epoch 710 with cost 0.18168409224313475\n",
            "train: 0.9481666666666667\n",
            "test: 0.9375\n",
            "epoch 720 with cost 0.18224436069550218\n",
            "train: 0.9485\n",
            "test: 0.937\n",
            "epoch 730 with cost 0.18309403021443502\n",
            "train: 0.9488333333333333\n",
            "test: 0.938\n",
            "epoch 740 with cost 0.1823026758602279\n",
            "train: 0.9479166666666666\n",
            "test: 0.9375\n",
            "epoch 750 with cost 0.1816001603129512\n",
            "train: 0.9495833333333333\n",
            "test: 0.937\n",
            "epoch 760 with cost 0.18143283942262833\n",
            "train: 0.9485\n",
            "test: 0.9385\n",
            "epoch 770 with cost 0.18082240809013167\n",
            "train: 0.9493333333333334\n",
            "test: 0.938\n",
            "epoch 780 with cost 0.18122135171558257\n",
            "train: 0.94875\n",
            "test: 0.938\n",
            "epoch 790 with cost 0.18042013981277022\n",
            "train: 0.9485\n",
            "test: 0.938\n",
            "epoch 800 with cost 0.17899789908542285\n",
            "train: 0.9490833333333333\n",
            "test: 0.938\n",
            "epoch 810 with cost 0.17973305163459227\n",
            "train: 0.9485\n",
            "test: 0.938\n",
            "epoch 820 with cost 0.1801940207509119\n",
            "train: 0.9483333333333334\n",
            "test: 0.938\n",
            "epoch 830 with cost 0.17877943483652942\n",
            "train: 0.9491666666666667\n",
            "test: 0.938\n",
            "epoch 840 with cost 0.1784370454514955\n",
            "train: 0.9496666666666667\n",
            "test: 0.938\n",
            "epoch 850 with cost 0.17769319723983687\n",
            "train: 0.9483333333333334\n",
            "test: 0.938\n",
            "epoch 860 with cost 0.1786531741263652\n",
            "train: 0.9485\n",
            "test: 0.9385\n",
            "epoch 870 with cost 0.17788406603020934\n",
            "train: 0.9489166666666666\n",
            "test: 0.9385\n",
            "epoch 880 with cost 0.17703309632713018\n",
            "train: 0.949\n",
            "test: 0.939\n",
            "epoch 890 with cost 0.17761662004256493\n",
            "train: 0.94925\n",
            "test: 0.939\n",
            "epoch 900 with cost 0.176893385639643\n",
            "train: 0.9484166666666667\n",
            "test: 0.939\n",
            "epoch 910 with cost 0.17553763832962832\n",
            "train: 0.9486666666666667\n",
            "test: 0.939\n",
            "epoch 920 with cost 0.17519395172989569\n",
            "train: 0.9495\n",
            "test: 0.9395\n",
            "epoch 930 with cost 0.17473615742571783\n",
            "train: 0.9501666666666667\n",
            "test: 0.94\n",
            "epoch 940 with cost 0.17391375068344345\n",
            "train: 0.9505\n",
            "test: 0.94\n",
            "epoch 950 with cost 0.17309154455653497\n",
            "train: 0.9494166666666667\n",
            "test: 0.9405\n",
            "epoch 960 with cost 0.1740266973195349\n",
            "train: 0.9490833333333333\n",
            "test: 0.9405\n",
            "epoch 970 with cost 0.17232282211101357\n",
            "train: 0.9500833333333333\n",
            "test: 0.9405\n",
            "epoch 980 with cost 0.17105886298463963\n",
            "train: 0.9515833333333333\n",
            "test: 0.9405\n",
            "epoch 990 with cost 0.16969248218988056\n",
            "train: 0.9503333333333334\n",
            "test: 0.9405\n"
          ]
        }
      ]
    },
    {
      "cell_type": "code",
      "metadata": {
        "id": "XXvWE3BNBN8K",
        "colab": {
          "base_uri": "https://localhost:8080/"
        },
        "outputId": "67e061df-b563-4226-bb58-71f05731e8f8"
      },
      "source": [
        "# check the test accuracy\n",
        "a1t = forward(x_test_binary, a[0]['w1'], a[0]['b1'], activation = 'relu')\n",
        "a2t = forward(a1t, a[0]['w2'], a[0]['b2'], activation = 'sigmoid')\n",
        "# if you used xavier\n",
        "np.mean(np.round(a2t.reshape(-1))==y_test_binary)"
      ],
      "execution_count": null,
      "outputs": [
        {
          "output_type": "execute_result",
          "data": {
            "text/plain": [
              "0.9405"
            ]
          },
          "metadata": {},
          "execution_count": 30
        }
      ]
    },
    {
      "cell_type": "markdown",
      "metadata": {
        "id": "16PSfYXDoqui"
      },
      "source": [
        "# Neural Network Binary (Keras)"
      ]
    },
    {
      "cell_type": "code",
      "metadata": {
        "id": "qRAQd0oGotCA"
      },
      "source": [
        "import tensorflow as tf\n",
        "from tensorflow import keras\n",
        "from tensorflow.keras.models import Sequential\n",
        "from tensorflow.keras.layers import Dense\n",
        "import matplotlib.pyplot as plt\n",
        "%matplotlib inline"
      ],
      "execution_count": 28,
      "outputs": []
    },
    {
      "cell_type": "code",
      "metadata": {
        "id": "10ghY0rEo6CF",
        "colab": {
          "base_uri": "https://localhost:8080/"
        },
        "outputId": "b53f7f38-8e5b-4236-dbbc-7b0be7855535"
      },
      "source": [
        "seed = 2\n",
        "tf.random.set_seed(seed)\n",
        "np.random.seed(seed)\n",
        "\n",
        "model = Sequential()\n",
        "model.add(Dense(200, activation=\"relu\"))\n",
        "model.add(Dense(1, activation=\"sigmoid\"))\n",
        "\n",
        "batch_size = 128\n",
        "epochs = 200\n",
        "\n",
        "\n",
        "model.compile(loss=\"binary_crossentropy\", optimizer=\"sgd\", metrics=[\"accuracy\"])\n",
        "history_1 = model.fit(x_train_binary, y_train_binary, batch_size=batch_size, epochs=epochs,\n",
        "          validation_data=(x_test_binary, y_test_binary))"
      ],
      "execution_count": 29,
      "outputs": [
        {
          "output_type": "stream",
          "name": "stdout",
          "text": [
            "Epoch 1/200\n",
            "94/94 [==============================] - 3s 6ms/step - loss: 0.4599 - accuracy: 0.8262 - val_loss: 0.3280 - val_accuracy: 0.8900\n",
            "Epoch 2/200\n",
            "94/94 [==============================] - 0s 4ms/step - loss: 0.2818 - accuracy: 0.9045 - val_loss: 0.2685 - val_accuracy: 0.8975\n",
            "Epoch 3/200\n",
            "94/94 [==============================] - 0s 4ms/step - loss: 0.2425 - accuracy: 0.9092 - val_loss: 0.2431 - val_accuracy: 0.9050\n",
            "Epoch 4/200\n",
            "94/94 [==============================] - 0s 4ms/step - loss: 0.2229 - accuracy: 0.9136 - val_loss: 0.2280 - val_accuracy: 0.9070\n",
            "Epoch 5/200\n",
            "94/94 [==============================] - 0s 4ms/step - loss: 0.2102 - accuracy: 0.9185 - val_loss: 0.2165 - val_accuracy: 0.9155\n",
            "Epoch 6/200\n",
            "94/94 [==============================] - 0s 4ms/step - loss: 0.2009 - accuracy: 0.9215 - val_loss: 0.2105 - val_accuracy: 0.9175\n",
            "Epoch 7/200\n",
            "94/94 [==============================] - 0s 4ms/step - loss: 0.1942 - accuracy: 0.9230 - val_loss: 0.2029 - val_accuracy: 0.9215\n",
            "Epoch 8/200\n",
            "94/94 [==============================] - 0s 4ms/step - loss: 0.1888 - accuracy: 0.9264 - val_loss: 0.1980 - val_accuracy: 0.9240\n",
            "Epoch 9/200\n",
            "94/94 [==============================] - 0s 4ms/step - loss: 0.1842 - accuracy: 0.9268 - val_loss: 0.1942 - val_accuracy: 0.9275\n",
            "Epoch 10/200\n",
            "94/94 [==============================] - 0s 4ms/step - loss: 0.1808 - accuracy: 0.9286 - val_loss: 0.1918 - val_accuracy: 0.9260\n",
            "Epoch 11/200\n",
            "94/94 [==============================] - 0s 4ms/step - loss: 0.1779 - accuracy: 0.9295 - val_loss: 0.1884 - val_accuracy: 0.9290\n",
            "Epoch 12/200\n",
            "94/94 [==============================] - 0s 4ms/step - loss: 0.1753 - accuracy: 0.9309 - val_loss: 0.1868 - val_accuracy: 0.9305\n",
            "Epoch 13/200\n",
            "94/94 [==============================] - 0s 4ms/step - loss: 0.1730 - accuracy: 0.9323 - val_loss: 0.1844 - val_accuracy: 0.9300\n",
            "Epoch 14/200\n",
            "94/94 [==============================] - 0s 4ms/step - loss: 0.1708 - accuracy: 0.9325 - val_loss: 0.1827 - val_accuracy: 0.9310\n",
            "Epoch 15/200\n",
            "94/94 [==============================] - 0s 4ms/step - loss: 0.1687 - accuracy: 0.9344 - val_loss: 0.1825 - val_accuracy: 0.9300\n",
            "Epoch 16/200\n",
            "94/94 [==============================] - 0s 4ms/step - loss: 0.1671 - accuracy: 0.9353 - val_loss: 0.1793 - val_accuracy: 0.9320\n",
            "Epoch 17/200\n",
            "94/94 [==============================] - 0s 4ms/step - loss: 0.1656 - accuracy: 0.9354 - val_loss: 0.1787 - val_accuracy: 0.9345\n",
            "Epoch 18/200\n",
            "94/94 [==============================] - 0s 4ms/step - loss: 0.1643 - accuracy: 0.9360 - val_loss: 0.1769 - val_accuracy: 0.9335\n",
            "Epoch 19/200\n",
            "94/94 [==============================] - 0s 4ms/step - loss: 0.1630 - accuracy: 0.9366 - val_loss: 0.1759 - val_accuracy: 0.9335\n",
            "Epoch 20/200\n",
            "94/94 [==============================] - 0s 4ms/step - loss: 0.1613 - accuracy: 0.9385 - val_loss: 0.1750 - val_accuracy: 0.9345\n",
            "Epoch 21/200\n",
            "94/94 [==============================] - 0s 5ms/step - loss: 0.1607 - accuracy: 0.9375 - val_loss: 0.1740 - val_accuracy: 0.9345\n",
            "Epoch 22/200\n",
            "94/94 [==============================] - 0s 5ms/step - loss: 0.1595 - accuracy: 0.9383 - val_loss: 0.1732 - val_accuracy: 0.9345\n",
            "Epoch 23/200\n",
            "94/94 [==============================] - 1s 5ms/step - loss: 0.1582 - accuracy: 0.9388 - val_loss: 0.1727 - val_accuracy: 0.9350\n",
            "Epoch 24/200\n",
            "94/94 [==============================] - 1s 5ms/step - loss: 0.1575 - accuracy: 0.9392 - val_loss: 0.1716 - val_accuracy: 0.9355\n",
            "Epoch 25/200\n",
            "94/94 [==============================] - 1s 6ms/step - loss: 0.1566 - accuracy: 0.9401 - val_loss: 0.1717 - val_accuracy: 0.9340\n",
            "Epoch 26/200\n",
            "94/94 [==============================] - 0s 4ms/step - loss: 0.1555 - accuracy: 0.9404 - val_loss: 0.1702 - val_accuracy: 0.9370\n",
            "Epoch 27/200\n",
            "94/94 [==============================] - 0s 4ms/step - loss: 0.1544 - accuracy: 0.9409 - val_loss: 0.1698 - val_accuracy: 0.9345\n",
            "Epoch 28/200\n",
            "94/94 [==============================] - 0s 4ms/step - loss: 0.1541 - accuracy: 0.9408 - val_loss: 0.1692 - val_accuracy: 0.9350\n",
            "Epoch 29/200\n",
            "94/94 [==============================] - 0s 4ms/step - loss: 0.1531 - accuracy: 0.9413 - val_loss: 0.1685 - val_accuracy: 0.9380\n",
            "Epoch 30/200\n",
            "94/94 [==============================] - 0s 4ms/step - loss: 0.1525 - accuracy: 0.9410 - val_loss: 0.1681 - val_accuracy: 0.9360\n",
            "Epoch 31/200\n",
            "94/94 [==============================] - 0s 4ms/step - loss: 0.1517 - accuracy: 0.9417 - val_loss: 0.1675 - val_accuracy: 0.9370\n",
            "Epoch 32/200\n",
            "94/94 [==============================] - 0s 4ms/step - loss: 0.1504 - accuracy: 0.9428 - val_loss: 0.1690 - val_accuracy: 0.9350\n",
            "Epoch 33/200\n",
            "94/94 [==============================] - 0s 4ms/step - loss: 0.1505 - accuracy: 0.9412 - val_loss: 0.1663 - val_accuracy: 0.9370\n",
            "Epoch 34/200\n",
            "94/94 [==============================] - 0s 4ms/step - loss: 0.1496 - accuracy: 0.9430 - val_loss: 0.1667 - val_accuracy: 0.9365\n",
            "Epoch 35/200\n",
            "94/94 [==============================] - 0s 4ms/step - loss: 0.1490 - accuracy: 0.9427 - val_loss: 0.1655 - val_accuracy: 0.9380\n",
            "Epoch 36/200\n",
            "94/94 [==============================] - 0s 4ms/step - loss: 0.1484 - accuracy: 0.9426 - val_loss: 0.1654 - val_accuracy: 0.9375\n",
            "Epoch 37/200\n",
            "94/94 [==============================] - 0s 4ms/step - loss: 0.1471 - accuracy: 0.9430 - val_loss: 0.1650 - val_accuracy: 0.9385\n",
            "Epoch 38/200\n",
            "94/94 [==============================] - 0s 4ms/step - loss: 0.1470 - accuracy: 0.9426 - val_loss: 0.1653 - val_accuracy: 0.9390\n",
            "Epoch 39/200\n",
            "94/94 [==============================] - 0s 4ms/step - loss: 0.1463 - accuracy: 0.9443 - val_loss: 0.1636 - val_accuracy: 0.9395\n",
            "Epoch 40/200\n",
            "94/94 [==============================] - 0s 4ms/step - loss: 0.1458 - accuracy: 0.9440 - val_loss: 0.1652 - val_accuracy: 0.9380\n",
            "Epoch 41/200\n",
            "94/94 [==============================] - 0s 4ms/step - loss: 0.1454 - accuracy: 0.9446 - val_loss: 0.1630 - val_accuracy: 0.9410\n",
            "Epoch 42/200\n",
            "94/94 [==============================] - 0s 4ms/step - loss: 0.1444 - accuracy: 0.9452 - val_loss: 0.1624 - val_accuracy: 0.9380\n",
            "Epoch 43/200\n",
            "94/94 [==============================] - 0s 4ms/step - loss: 0.1444 - accuracy: 0.9442 - val_loss: 0.1620 - val_accuracy: 0.9410\n",
            "Epoch 44/200\n",
            "94/94 [==============================] - 0s 4ms/step - loss: 0.1439 - accuracy: 0.9456 - val_loss: 0.1618 - val_accuracy: 0.9410\n",
            "Epoch 45/200\n",
            "94/94 [==============================] - 0s 4ms/step - loss: 0.1434 - accuracy: 0.9452 - val_loss: 0.1616 - val_accuracy: 0.9405\n",
            "Epoch 46/200\n",
            "94/94 [==============================] - 0s 4ms/step - loss: 0.1424 - accuracy: 0.9464 - val_loss: 0.1642 - val_accuracy: 0.9365\n",
            "Epoch 47/200\n",
            "94/94 [==============================] - 0s 4ms/step - loss: 0.1423 - accuracy: 0.9457 - val_loss: 0.1607 - val_accuracy: 0.9400\n",
            "Epoch 48/200\n",
            "94/94 [==============================] - 0s 4ms/step - loss: 0.1418 - accuracy: 0.9464 - val_loss: 0.1609 - val_accuracy: 0.9405\n",
            "Epoch 49/200\n",
            "94/94 [==============================] - 0s 4ms/step - loss: 0.1411 - accuracy: 0.9462 - val_loss: 0.1611 - val_accuracy: 0.9390\n",
            "Epoch 50/200\n",
            "94/94 [==============================] - 0s 4ms/step - loss: 0.1407 - accuracy: 0.9470 - val_loss: 0.1598 - val_accuracy: 0.9395\n",
            "Epoch 51/200\n",
            "94/94 [==============================] - 0s 4ms/step - loss: 0.1402 - accuracy: 0.9466 - val_loss: 0.1597 - val_accuracy: 0.9415\n",
            "Epoch 52/200\n",
            "94/94 [==============================] - 0s 4ms/step - loss: 0.1399 - accuracy: 0.9475 - val_loss: 0.1591 - val_accuracy: 0.9410\n",
            "Epoch 53/200\n",
            "94/94 [==============================] - 0s 5ms/step - loss: 0.1394 - accuracy: 0.9474 - val_loss: 0.1593 - val_accuracy: 0.9410\n",
            "Epoch 54/200\n",
            "94/94 [==============================] - 0s 5ms/step - loss: 0.1389 - accuracy: 0.9477 - val_loss: 0.1585 - val_accuracy: 0.9405\n",
            "Epoch 55/200\n",
            "94/94 [==============================] - 0s 5ms/step - loss: 0.1388 - accuracy: 0.9477 - val_loss: 0.1584 - val_accuracy: 0.9405\n",
            "Epoch 56/200\n",
            "94/94 [==============================] - 1s 5ms/step - loss: 0.1382 - accuracy: 0.9485 - val_loss: 0.1582 - val_accuracy: 0.9405\n",
            "Epoch 57/200\n",
            "94/94 [==============================] - 1s 5ms/step - loss: 0.1376 - accuracy: 0.9484 - val_loss: 0.1603 - val_accuracy: 0.9420\n",
            "Epoch 58/200\n",
            "94/94 [==============================] - 0s 4ms/step - loss: 0.1370 - accuracy: 0.9480 - val_loss: 0.1592 - val_accuracy: 0.9405\n",
            "Epoch 59/200\n",
            "94/94 [==============================] - 0s 4ms/step - loss: 0.1370 - accuracy: 0.9479 - val_loss: 0.1577 - val_accuracy: 0.9415\n",
            "Epoch 60/200\n",
            "94/94 [==============================] - 0s 4ms/step - loss: 0.1365 - accuracy: 0.9488 - val_loss: 0.1573 - val_accuracy: 0.9415\n",
            "Epoch 61/200\n",
            "94/94 [==============================] - 0s 4ms/step - loss: 0.1360 - accuracy: 0.9492 - val_loss: 0.1571 - val_accuracy: 0.9425\n",
            "Epoch 62/200\n",
            "94/94 [==============================] - 0s 4ms/step - loss: 0.1354 - accuracy: 0.9493 - val_loss: 0.1588 - val_accuracy: 0.9400\n",
            "Epoch 63/200\n",
            "94/94 [==============================] - 0s 4ms/step - loss: 0.1355 - accuracy: 0.9493 - val_loss: 0.1566 - val_accuracy: 0.9420\n",
            "Epoch 64/200\n",
            "94/94 [==============================] - 0s 4ms/step - loss: 0.1349 - accuracy: 0.9497 - val_loss: 0.1564 - val_accuracy: 0.9415\n",
            "Epoch 65/200\n",
            "94/94 [==============================] - 0s 4ms/step - loss: 0.1343 - accuracy: 0.9493 - val_loss: 0.1563 - val_accuracy: 0.9435\n",
            "Epoch 66/200\n",
            "94/94 [==============================] - 0s 4ms/step - loss: 0.1345 - accuracy: 0.9504 - val_loss: 0.1567 - val_accuracy: 0.9435\n",
            "Epoch 67/200\n",
            "94/94 [==============================] - 0s 4ms/step - loss: 0.1334 - accuracy: 0.9508 - val_loss: 0.1561 - val_accuracy: 0.9425\n",
            "Epoch 68/200\n",
            "94/94 [==============================] - 0s 4ms/step - loss: 0.1333 - accuracy: 0.9500 - val_loss: 0.1554 - val_accuracy: 0.9430\n",
            "Epoch 69/200\n",
            "94/94 [==============================] - 0s 4ms/step - loss: 0.1333 - accuracy: 0.9501 - val_loss: 0.1560 - val_accuracy: 0.9420\n",
            "Epoch 70/200\n",
            "94/94 [==============================] - 0s 4ms/step - loss: 0.1327 - accuracy: 0.9500 - val_loss: 0.1549 - val_accuracy: 0.9455\n",
            "Epoch 71/200\n",
            "94/94 [==============================] - 0s 4ms/step - loss: 0.1318 - accuracy: 0.9513 - val_loss: 0.1547 - val_accuracy: 0.9435\n",
            "Epoch 72/200\n",
            "94/94 [==============================] - 0s 4ms/step - loss: 0.1319 - accuracy: 0.9507 - val_loss: 0.1546 - val_accuracy: 0.9455\n",
            "Epoch 73/200\n",
            "94/94 [==============================] - 0s 4ms/step - loss: 0.1314 - accuracy: 0.9508 - val_loss: 0.1568 - val_accuracy: 0.9450\n",
            "Epoch 74/200\n",
            "94/94 [==============================] - 0s 4ms/step - loss: 0.1314 - accuracy: 0.9498 - val_loss: 0.1544 - val_accuracy: 0.9455\n",
            "Epoch 75/200\n",
            "94/94 [==============================] - 0s 3ms/step - loss: 0.1311 - accuracy: 0.9512 - val_loss: 0.1538 - val_accuracy: 0.9440\n",
            "Epoch 76/200\n",
            "94/94 [==============================] - 0s 4ms/step - loss: 0.1304 - accuracy: 0.9516 - val_loss: 0.1542 - val_accuracy: 0.9440\n",
            "Epoch 77/200\n",
            "94/94 [==============================] - 0s 4ms/step - loss: 0.1303 - accuracy: 0.9515 - val_loss: 0.1538 - val_accuracy: 0.9450\n",
            "Epoch 78/200\n",
            "94/94 [==============================] - 0s 4ms/step - loss: 0.1300 - accuracy: 0.9518 - val_loss: 0.1535 - val_accuracy: 0.9460\n",
            "Epoch 79/200\n",
            "94/94 [==============================] - 0s 4ms/step - loss: 0.1295 - accuracy: 0.9524 - val_loss: 0.1538 - val_accuracy: 0.9465\n",
            "Epoch 80/200\n",
            "94/94 [==============================] - 0s 4ms/step - loss: 0.1288 - accuracy: 0.9523 - val_loss: 0.1534 - val_accuracy: 0.9445\n",
            "Epoch 81/200\n",
            "94/94 [==============================] - 0s 4ms/step - loss: 0.1288 - accuracy: 0.9520 - val_loss: 0.1527 - val_accuracy: 0.9455\n",
            "Epoch 82/200\n",
            "94/94 [==============================] - 0s 4ms/step - loss: 0.1282 - accuracy: 0.9528 - val_loss: 0.1525 - val_accuracy: 0.9465\n",
            "Epoch 83/200\n",
            "94/94 [==============================] - 0s 4ms/step - loss: 0.1280 - accuracy: 0.9527 - val_loss: 0.1525 - val_accuracy: 0.9460\n",
            "Epoch 84/200\n",
            "94/94 [==============================] - 0s 4ms/step - loss: 0.1277 - accuracy: 0.9530 - val_loss: 0.1529 - val_accuracy: 0.9470\n",
            "Epoch 85/200\n",
            "94/94 [==============================] - 0s 5ms/step - loss: 0.1274 - accuracy: 0.9530 - val_loss: 0.1531 - val_accuracy: 0.9455\n",
            "Epoch 86/200\n",
            "94/94 [==============================] - 1s 5ms/step - loss: 0.1273 - accuracy: 0.9535 - val_loss: 0.1526 - val_accuracy: 0.9465\n",
            "Epoch 87/200\n",
            "94/94 [==============================] - 0s 5ms/step - loss: 0.1268 - accuracy: 0.9532 - val_loss: 0.1520 - val_accuracy: 0.9460\n",
            "Epoch 88/200\n",
            "94/94 [==============================] - 1s 6ms/step - loss: 0.1266 - accuracy: 0.9548 - val_loss: 0.1516 - val_accuracy: 0.9470\n",
            "Epoch 89/200\n",
            "94/94 [==============================] - 0s 5ms/step - loss: 0.1261 - accuracy: 0.9533 - val_loss: 0.1533 - val_accuracy: 0.9455\n",
            "Epoch 90/200\n",
            "94/94 [==============================] - 0s 4ms/step - loss: 0.1258 - accuracy: 0.9538 - val_loss: 0.1514 - val_accuracy: 0.9475\n",
            "Epoch 91/200\n",
            "94/94 [==============================] - 0s 4ms/step - loss: 0.1257 - accuracy: 0.9536 - val_loss: 0.1514 - val_accuracy: 0.9475\n",
            "Epoch 92/200\n",
            "94/94 [==============================] - 0s 4ms/step - loss: 0.1251 - accuracy: 0.9541 - val_loss: 0.1523 - val_accuracy: 0.9450\n",
            "Epoch 93/200\n",
            "94/94 [==============================] - 0s 4ms/step - loss: 0.1252 - accuracy: 0.9536 - val_loss: 0.1503 - val_accuracy: 0.9475\n",
            "Epoch 94/200\n",
            "94/94 [==============================] - 0s 4ms/step - loss: 0.1244 - accuracy: 0.9550 - val_loss: 0.1506 - val_accuracy: 0.9470\n",
            "Epoch 95/200\n",
            "94/94 [==============================] - 0s 4ms/step - loss: 0.1247 - accuracy: 0.9541 - val_loss: 0.1506 - val_accuracy: 0.9475\n",
            "Epoch 96/200\n",
            "94/94 [==============================] - 0s 4ms/step - loss: 0.1240 - accuracy: 0.9542 - val_loss: 0.1498 - val_accuracy: 0.9490\n",
            "Epoch 97/200\n",
            "94/94 [==============================] - 0s 4ms/step - loss: 0.1234 - accuracy: 0.9554 - val_loss: 0.1502 - val_accuracy: 0.9475\n",
            "Epoch 98/200\n",
            "94/94 [==============================] - 0s 4ms/step - loss: 0.1235 - accuracy: 0.9557 - val_loss: 0.1522 - val_accuracy: 0.9465\n",
            "Epoch 99/200\n",
            "94/94 [==============================] - 0s 4ms/step - loss: 0.1231 - accuracy: 0.9556 - val_loss: 0.1492 - val_accuracy: 0.9490\n",
            "Epoch 100/200\n",
            "94/94 [==============================] - 0s 4ms/step - loss: 0.1227 - accuracy: 0.9556 - val_loss: 0.1493 - val_accuracy: 0.9475\n",
            "Epoch 101/200\n",
            "94/94 [==============================] - 0s 4ms/step - loss: 0.1223 - accuracy: 0.9553 - val_loss: 0.1493 - val_accuracy: 0.9485\n",
            "Epoch 102/200\n",
            "94/94 [==============================] - 0s 4ms/step - loss: 0.1220 - accuracy: 0.9559 - val_loss: 0.1490 - val_accuracy: 0.9475\n",
            "Epoch 103/200\n",
            "94/94 [==============================] - 0s 4ms/step - loss: 0.1218 - accuracy: 0.9550 - val_loss: 0.1488 - val_accuracy: 0.9475\n",
            "Epoch 104/200\n",
            "94/94 [==============================] - 0s 4ms/step - loss: 0.1211 - accuracy: 0.9561 - val_loss: 0.1489 - val_accuracy: 0.9485\n",
            "Epoch 105/200\n",
            "94/94 [==============================] - 0s 4ms/step - loss: 0.1213 - accuracy: 0.9564 - val_loss: 0.1483 - val_accuracy: 0.9495\n",
            "Epoch 106/200\n",
            "94/94 [==============================] - 0s 4ms/step - loss: 0.1208 - accuracy: 0.9569 - val_loss: 0.1482 - val_accuracy: 0.9485\n",
            "Epoch 107/200\n",
            "94/94 [==============================] - 0s 4ms/step - loss: 0.1207 - accuracy: 0.9557 - val_loss: 0.1480 - val_accuracy: 0.9485\n",
            "Epoch 108/200\n",
            "94/94 [==============================] - 0s 4ms/step - loss: 0.1200 - accuracy: 0.9571 - val_loss: 0.1495 - val_accuracy: 0.9460\n",
            "Epoch 109/200\n",
            "94/94 [==============================] - 0s 4ms/step - loss: 0.1200 - accuracy: 0.9570 - val_loss: 0.1482 - val_accuracy: 0.9480\n",
            "Epoch 110/200\n",
            "94/94 [==============================] - 0s 4ms/step - loss: 0.1195 - accuracy: 0.9574 - val_loss: 0.1481 - val_accuracy: 0.9475\n",
            "Epoch 111/200\n",
            "94/94 [==============================] - 0s 4ms/step - loss: 0.1191 - accuracy: 0.9572 - val_loss: 0.1472 - val_accuracy: 0.9500\n",
            "Epoch 112/200\n",
            "94/94 [==============================] - 0s 4ms/step - loss: 0.1188 - accuracy: 0.9569 - val_loss: 0.1472 - val_accuracy: 0.9500\n",
            "Epoch 113/200\n",
            "94/94 [==============================] - 0s 4ms/step - loss: 0.1188 - accuracy: 0.9570 - val_loss: 0.1470 - val_accuracy: 0.9500\n",
            "Epoch 114/200\n",
            "94/94 [==============================] - 0s 4ms/step - loss: 0.1182 - accuracy: 0.9585 - val_loss: 0.1482 - val_accuracy: 0.9480\n",
            "Epoch 115/200\n",
            "94/94 [==============================] - 0s 4ms/step - loss: 0.1182 - accuracy: 0.9568 - val_loss: 0.1483 - val_accuracy: 0.9475\n",
            "Epoch 116/200\n",
            "94/94 [==============================] - 0s 5ms/step - loss: 0.1178 - accuracy: 0.9576 - val_loss: 0.1469 - val_accuracy: 0.9495\n",
            "Epoch 117/200\n",
            "94/94 [==============================] - 0s 5ms/step - loss: 0.1176 - accuracy: 0.9587 - val_loss: 0.1464 - val_accuracy: 0.9500\n",
            "Epoch 118/200\n",
            "94/94 [==============================] - 0s 5ms/step - loss: 0.1170 - accuracy: 0.9582 - val_loss: 0.1463 - val_accuracy: 0.9500\n",
            "Epoch 119/200\n",
            "94/94 [==============================] - 0s 5ms/step - loss: 0.1169 - accuracy: 0.9590 - val_loss: 0.1493 - val_accuracy: 0.9475\n",
            "Epoch 120/200\n",
            "94/94 [==============================] - 1s 6ms/step - loss: 0.1170 - accuracy: 0.9578 - val_loss: 0.1460 - val_accuracy: 0.9505\n",
            "Epoch 121/200\n",
            "94/94 [==============================] - 0s 4ms/step - loss: 0.1161 - accuracy: 0.9582 - val_loss: 0.1456 - val_accuracy: 0.9500\n",
            "Epoch 122/200\n",
            "94/94 [==============================] - 0s 4ms/step - loss: 0.1159 - accuracy: 0.9593 - val_loss: 0.1455 - val_accuracy: 0.9500\n",
            "Epoch 123/200\n",
            "94/94 [==============================] - 0s 4ms/step - loss: 0.1158 - accuracy: 0.9580 - val_loss: 0.1457 - val_accuracy: 0.9510\n",
            "Epoch 124/200\n",
            "94/94 [==============================] - 0s 4ms/step - loss: 0.1156 - accuracy: 0.9590 - val_loss: 0.1451 - val_accuracy: 0.9525\n",
            "Epoch 125/200\n",
            "94/94 [==============================] - 0s 4ms/step - loss: 0.1150 - accuracy: 0.9584 - val_loss: 0.1461 - val_accuracy: 0.9495\n",
            "Epoch 126/200\n",
            "94/94 [==============================] - 0s 4ms/step - loss: 0.1147 - accuracy: 0.9585 - val_loss: 0.1453 - val_accuracy: 0.9505\n",
            "Epoch 127/200\n",
            "94/94 [==============================] - 0s 4ms/step - loss: 0.1145 - accuracy: 0.9598 - val_loss: 0.1447 - val_accuracy: 0.9530\n",
            "Epoch 128/200\n",
            "94/94 [==============================] - 0s 4ms/step - loss: 0.1143 - accuracy: 0.9598 - val_loss: 0.1449 - val_accuracy: 0.9510\n",
            "Epoch 129/200\n",
            "94/94 [==============================] - 0s 4ms/step - loss: 0.1140 - accuracy: 0.9597 - val_loss: 0.1446 - val_accuracy: 0.9505\n",
            "Epoch 130/200\n",
            "94/94 [==============================] - 0s 4ms/step - loss: 0.1135 - accuracy: 0.9600 - val_loss: 0.1442 - val_accuracy: 0.9515\n",
            "Epoch 131/200\n",
            "94/94 [==============================] - 0s 4ms/step - loss: 0.1135 - accuracy: 0.9597 - val_loss: 0.1445 - val_accuracy: 0.9510\n",
            "Epoch 132/200\n",
            "94/94 [==============================] - 0s 4ms/step - loss: 0.1131 - accuracy: 0.9600 - val_loss: 0.1441 - val_accuracy: 0.9525\n",
            "Epoch 133/200\n",
            "94/94 [==============================] - 0s 4ms/step - loss: 0.1130 - accuracy: 0.9599 - val_loss: 0.1440 - val_accuracy: 0.9515\n",
            "Epoch 134/200\n",
            "94/94 [==============================] - 0s 4ms/step - loss: 0.1124 - accuracy: 0.9598 - val_loss: 0.1443 - val_accuracy: 0.9510\n",
            "Epoch 135/200\n",
            "94/94 [==============================] - 0s 4ms/step - loss: 0.1124 - accuracy: 0.9605 - val_loss: 0.1441 - val_accuracy: 0.9515\n",
            "Epoch 136/200\n",
            "94/94 [==============================] - 0s 4ms/step - loss: 0.1120 - accuracy: 0.9596 - val_loss: 0.1446 - val_accuracy: 0.9510\n",
            "Epoch 137/200\n",
            "94/94 [==============================] - 0s 4ms/step - loss: 0.1116 - accuracy: 0.9607 - val_loss: 0.1429 - val_accuracy: 0.9525\n",
            "Epoch 138/200\n",
            "94/94 [==============================] - 0s 4ms/step - loss: 0.1112 - accuracy: 0.9617 - val_loss: 0.1437 - val_accuracy: 0.9510\n",
            "Epoch 139/200\n",
            "94/94 [==============================] - 0s 4ms/step - loss: 0.1111 - accuracy: 0.9603 - val_loss: 0.1425 - val_accuracy: 0.9535\n",
            "Epoch 140/200\n",
            "94/94 [==============================] - 0s 4ms/step - loss: 0.1106 - accuracy: 0.9612 - val_loss: 0.1429 - val_accuracy: 0.9530\n",
            "Epoch 141/200\n",
            "94/94 [==============================] - 0s 4ms/step - loss: 0.1104 - accuracy: 0.9611 - val_loss: 0.1440 - val_accuracy: 0.9485\n",
            "Epoch 142/200\n",
            "94/94 [==============================] - 0s 4ms/step - loss: 0.1105 - accuracy: 0.9603 - val_loss: 0.1419 - val_accuracy: 0.9535\n",
            "Epoch 143/200\n",
            "94/94 [==============================] - 0s 4ms/step - loss: 0.1100 - accuracy: 0.9607 - val_loss: 0.1426 - val_accuracy: 0.9510\n",
            "Epoch 144/200\n",
            "94/94 [==============================] - 0s 4ms/step - loss: 0.1098 - accuracy: 0.9616 - val_loss: 0.1417 - val_accuracy: 0.9535\n",
            "Epoch 145/200\n",
            "94/94 [==============================] - 0s 4ms/step - loss: 0.1096 - accuracy: 0.9607 - val_loss: 0.1418 - val_accuracy: 0.9540\n",
            "Epoch 146/200\n",
            "94/94 [==============================] - 0s 4ms/step - loss: 0.1090 - accuracy: 0.9616 - val_loss: 0.1421 - val_accuracy: 0.9515\n",
            "Epoch 147/200\n",
            "94/94 [==============================] - 0s 4ms/step - loss: 0.1090 - accuracy: 0.9622 - val_loss: 0.1414 - val_accuracy: 0.9535\n",
            "Epoch 148/200\n",
            "94/94 [==============================] - 0s 5ms/step - loss: 0.1086 - accuracy: 0.9617 - val_loss: 0.1438 - val_accuracy: 0.9485\n",
            "Epoch 149/200\n",
            "94/94 [==============================] - 0s 5ms/step - loss: 0.1082 - accuracy: 0.9625 - val_loss: 0.1415 - val_accuracy: 0.9525\n",
            "Epoch 150/200\n",
            "94/94 [==============================] - 0s 5ms/step - loss: 0.1081 - accuracy: 0.9622 - val_loss: 0.1407 - val_accuracy: 0.9545\n",
            "Epoch 151/200\n",
            "94/94 [==============================] - 0s 5ms/step - loss: 0.1076 - accuracy: 0.9629 - val_loss: 0.1410 - val_accuracy: 0.9540\n",
            "Epoch 152/200\n",
            "94/94 [==============================] - 1s 6ms/step - loss: 0.1073 - accuracy: 0.9624 - val_loss: 0.1437 - val_accuracy: 0.9480\n",
            "Epoch 153/200\n",
            "94/94 [==============================] - 0s 5ms/step - loss: 0.1069 - accuracy: 0.9632 - val_loss: 0.1469 - val_accuracy: 0.9480\n",
            "Epoch 154/200\n",
            "94/94 [==============================] - 0s 4ms/step - loss: 0.1070 - accuracy: 0.9620 - val_loss: 0.1430 - val_accuracy: 0.9485\n",
            "Epoch 155/200\n",
            "94/94 [==============================] - 0s 4ms/step - loss: 0.1069 - accuracy: 0.9622 - val_loss: 0.1402 - val_accuracy: 0.9535\n",
            "Epoch 156/200\n",
            "94/94 [==============================] - 0s 4ms/step - loss: 0.1062 - accuracy: 0.9624 - val_loss: 0.1399 - val_accuracy: 0.9530\n",
            "Epoch 157/200\n",
            "94/94 [==============================] - 0s 4ms/step - loss: 0.1058 - accuracy: 0.9632 - val_loss: 0.1401 - val_accuracy: 0.9525\n",
            "Epoch 158/200\n",
            "94/94 [==============================] - 0s 4ms/step - loss: 0.1055 - accuracy: 0.9636 - val_loss: 0.1421 - val_accuracy: 0.9500\n",
            "Epoch 159/200\n",
            "94/94 [==============================] - 0s 4ms/step - loss: 0.1052 - accuracy: 0.9639 - val_loss: 0.1394 - val_accuracy: 0.9545\n",
            "Epoch 160/200\n",
            "94/94 [==============================] - 0s 4ms/step - loss: 0.1047 - accuracy: 0.9635 - val_loss: 0.1393 - val_accuracy: 0.9545\n",
            "Epoch 161/200\n",
            "94/94 [==============================] - 0s 4ms/step - loss: 0.1046 - accuracy: 0.9644 - val_loss: 0.1405 - val_accuracy: 0.9510\n",
            "Epoch 162/200\n",
            "94/94 [==============================] - 0s 4ms/step - loss: 0.1044 - accuracy: 0.9638 - val_loss: 0.1385 - val_accuracy: 0.9540\n",
            "Epoch 163/200\n",
            "94/94 [==============================] - 0s 4ms/step - loss: 0.1041 - accuracy: 0.9643 - val_loss: 0.1384 - val_accuracy: 0.9535\n",
            "Epoch 164/200\n",
            "94/94 [==============================] - 0s 4ms/step - loss: 0.1037 - accuracy: 0.9636 - val_loss: 0.1383 - val_accuracy: 0.9540\n",
            "Epoch 165/200\n",
            "94/94 [==============================] - 0s 4ms/step - loss: 0.1036 - accuracy: 0.9638 - val_loss: 0.1382 - val_accuracy: 0.9540\n",
            "Epoch 166/200\n",
            "94/94 [==============================] - 0s 4ms/step - loss: 0.1034 - accuracy: 0.9644 - val_loss: 0.1380 - val_accuracy: 0.9535\n",
            "Epoch 167/200\n",
            "94/94 [==============================] - 0s 4ms/step - loss: 0.1030 - accuracy: 0.9640 - val_loss: 0.1388 - val_accuracy: 0.9530\n",
            "Epoch 168/200\n",
            "94/94 [==============================] - 0s 4ms/step - loss: 0.1025 - accuracy: 0.9645 - val_loss: 0.1395 - val_accuracy: 0.9520\n",
            "Epoch 169/200\n",
            "94/94 [==============================] - 0s 4ms/step - loss: 0.1024 - accuracy: 0.9649 - val_loss: 0.1389 - val_accuracy: 0.9530\n",
            "Epoch 170/200\n",
            "94/94 [==============================] - 0s 4ms/step - loss: 0.1021 - accuracy: 0.9646 - val_loss: 0.1389 - val_accuracy: 0.9545\n",
            "Epoch 171/200\n",
            "94/94 [==============================] - 0s 4ms/step - loss: 0.1018 - accuracy: 0.9647 - val_loss: 0.1376 - val_accuracy: 0.9550\n",
            "Epoch 172/200\n",
            "94/94 [==============================] - 0s 4ms/step - loss: 0.1017 - accuracy: 0.9647 - val_loss: 0.1369 - val_accuracy: 0.9540\n",
            "Epoch 173/200\n",
            "94/94 [==============================] - 0s 4ms/step - loss: 0.1014 - accuracy: 0.9651 - val_loss: 0.1372 - val_accuracy: 0.9555\n",
            "Epoch 174/200\n",
            "94/94 [==============================] - 0s 4ms/step - loss: 0.1011 - accuracy: 0.9659 - val_loss: 0.1369 - val_accuracy: 0.9540\n",
            "Epoch 175/200\n",
            "94/94 [==============================] - 0s 4ms/step - loss: 0.1004 - accuracy: 0.9657 - val_loss: 0.1373 - val_accuracy: 0.9545\n",
            "Epoch 176/200\n",
            "94/94 [==============================] - 0s 4ms/step - loss: 0.1008 - accuracy: 0.9650 - val_loss: 0.1365 - val_accuracy: 0.9545\n",
            "Epoch 177/200\n",
            "94/94 [==============================] - 0s 4ms/step - loss: 0.1002 - accuracy: 0.9663 - val_loss: 0.1368 - val_accuracy: 0.9530\n",
            "Epoch 178/200\n",
            "94/94 [==============================] - 0s 4ms/step - loss: 0.1001 - accuracy: 0.9650 - val_loss: 0.1364 - val_accuracy: 0.9545\n",
            "Epoch 179/200\n",
            "94/94 [==============================] - 0s 4ms/step - loss: 0.0997 - accuracy: 0.9657 - val_loss: 0.1361 - val_accuracy: 0.9545\n",
            "Epoch 180/200\n",
            "94/94 [==============================] - 0s 5ms/step - loss: 0.0996 - accuracy: 0.9658 - val_loss: 0.1361 - val_accuracy: 0.9540\n",
            "Epoch 181/200\n",
            "94/94 [==============================] - 1s 5ms/step - loss: 0.0991 - accuracy: 0.9662 - val_loss: 0.1357 - val_accuracy: 0.9545\n",
            "Epoch 182/200\n",
            "94/94 [==============================] - 0s 5ms/step - loss: 0.0990 - accuracy: 0.9658 - val_loss: 0.1355 - val_accuracy: 0.9550\n",
            "Epoch 183/200\n",
            "94/94 [==============================] - 0s 5ms/step - loss: 0.0987 - accuracy: 0.9662 - val_loss: 0.1354 - val_accuracy: 0.9545\n",
            "Epoch 184/200\n",
            "94/94 [==============================] - 1s 6ms/step - loss: 0.0982 - accuracy: 0.9666 - val_loss: 0.1359 - val_accuracy: 0.9555\n",
            "Epoch 185/200\n",
            "94/94 [==============================] - 0s 5ms/step - loss: 0.0980 - accuracy: 0.9668 - val_loss: 0.1406 - val_accuracy: 0.9475\n",
            "Epoch 186/200\n",
            "94/94 [==============================] - 0s 4ms/step - loss: 0.0980 - accuracy: 0.9667 - val_loss: 0.1350 - val_accuracy: 0.9545\n",
            "Epoch 187/200\n",
            "94/94 [==============================] - 0s 4ms/step - loss: 0.0975 - accuracy: 0.9670 - val_loss: 0.1351 - val_accuracy: 0.9540\n",
            "Epoch 188/200\n",
            "94/94 [==============================] - 0s 4ms/step - loss: 0.0973 - accuracy: 0.9672 - val_loss: 0.1347 - val_accuracy: 0.9535\n",
            "Epoch 189/200\n",
            "94/94 [==============================] - 0s 4ms/step - loss: 0.0971 - accuracy: 0.9667 - val_loss: 0.1360 - val_accuracy: 0.9565\n",
            "Epoch 190/200\n",
            "94/94 [==============================] - 0s 4ms/step - loss: 0.0968 - accuracy: 0.9672 - val_loss: 0.1354 - val_accuracy: 0.9560\n",
            "Epoch 191/200\n",
            "94/94 [==============================] - 0s 4ms/step - loss: 0.0967 - accuracy: 0.9669 - val_loss: 0.1361 - val_accuracy: 0.9540\n",
            "Epoch 192/200\n",
            "94/94 [==============================] - 0s 4ms/step - loss: 0.0964 - accuracy: 0.9668 - val_loss: 0.1359 - val_accuracy: 0.9535\n",
            "Epoch 193/200\n",
            "94/94 [==============================] - 0s 3ms/step - loss: 0.0958 - accuracy: 0.9671 - val_loss: 0.1337 - val_accuracy: 0.9550\n",
            "Epoch 194/200\n",
            "94/94 [==============================] - 0s 4ms/step - loss: 0.0957 - accuracy: 0.9678 - val_loss: 0.1351 - val_accuracy: 0.9545\n",
            "Epoch 195/200\n",
            "94/94 [==============================] - 0s 4ms/step - loss: 0.0953 - accuracy: 0.9677 - val_loss: 0.1345 - val_accuracy: 0.9560\n",
            "Epoch 196/200\n",
            "94/94 [==============================] - 0s 4ms/step - loss: 0.0952 - accuracy: 0.9679 - val_loss: 0.1338 - val_accuracy: 0.9535\n",
            "Epoch 197/200\n",
            "94/94 [==============================] - 0s 4ms/step - loss: 0.0947 - accuracy: 0.9679 - val_loss: 0.1330 - val_accuracy: 0.9540\n",
            "Epoch 198/200\n",
            "94/94 [==============================] - 0s 4ms/step - loss: 0.0950 - accuracy: 0.9678 - val_loss: 0.1336 - val_accuracy: 0.9545\n",
            "Epoch 199/200\n",
            "94/94 [==============================] - 0s 4ms/step - loss: 0.0946 - accuracy: 0.9676 - val_loss: 0.1330 - val_accuracy: 0.9545\n",
            "Epoch 200/200\n",
            "94/94 [==============================] - 0s 4ms/step - loss: 0.0947 - accuracy: 0.9672 - val_loss: 0.1328 - val_accuracy: 0.9545\n"
          ]
        }
      ]
    },
    {
      "cell_type": "code",
      "metadata": {
        "id": "xTbTkk3Fpu1X",
        "colab": {
          "base_uri": "https://localhost:8080/"
        },
        "outputId": "56f1e77c-8e0e-406d-db9b-4cc46b76a67c"
      },
      "source": [
        "from tensorflow.keras.layers import Dense, Dropout\n",
        "seed = 2\n",
        "tf.random.set_seed(seed)\n",
        "np.random.seed(seed)\n",
        "\n",
        "model = Sequential()\n",
        "model.add(Dense(200, activation=\"relu\"))\n",
        "model.add(Dropout(0.25))\n",
        "model.add(Dense(1, activation=\"sigmoid\"))\n",
        "\n",
        "batch_size = 128\n",
        "epochs = 200\n",
        "\n",
        "\n",
        "model.compile(loss=\"binary_crossentropy\", optimizer=\"sgd\", metrics=[\"accuracy\"])\n",
        "history_2 = model.fit(x_train_binary, y_train_binary, batch_size=batch_size, epochs=epochs,\n",
        "          validation_data=(x_test_binary, y_test_binary))"
      ],
      "execution_count": 33,
      "outputs": [
        {
          "output_type": "stream",
          "name": "stdout",
          "text": [
            "Epoch 1/200\n",
            "94/94 [==============================] - 2s 6ms/step - loss: 0.4479 - accuracy: 0.8279 - val_loss: 0.3333 - val_accuracy: 0.8825\n",
            "Epoch 2/200\n",
            "94/94 [==============================] - 0s 5ms/step - loss: 0.2967 - accuracy: 0.8942 - val_loss: 0.2761 - val_accuracy: 0.8925\n",
            "Epoch 3/200\n",
            "94/94 [==============================] - 1s 5ms/step - loss: 0.2561 - accuracy: 0.9018 - val_loss: 0.2506 - val_accuracy: 0.9030\n",
            "Epoch 4/200\n",
            "94/94 [==============================] - 1s 6ms/step - loss: 0.2367 - accuracy: 0.9086 - val_loss: 0.2351 - val_accuracy: 0.9030\n",
            "Epoch 5/200\n",
            "94/94 [==============================] - 1s 6ms/step - loss: 0.2251 - accuracy: 0.9105 - val_loss: 0.2241 - val_accuracy: 0.9120\n",
            "Epoch 6/200\n",
            "94/94 [==============================] - 0s 4ms/step - loss: 0.2146 - accuracy: 0.9163 - val_loss: 0.2186 - val_accuracy: 0.9120\n",
            "Epoch 7/200\n",
            "94/94 [==============================] - 0s 4ms/step - loss: 0.2078 - accuracy: 0.9168 - val_loss: 0.2103 - val_accuracy: 0.9205\n",
            "Epoch 8/200\n",
            "94/94 [==============================] - 0s 4ms/step - loss: 0.2017 - accuracy: 0.9194 - val_loss: 0.2054 - val_accuracy: 0.9255\n",
            "Epoch 9/200\n",
            "94/94 [==============================] - 0s 4ms/step - loss: 0.1975 - accuracy: 0.9213 - val_loss: 0.2021 - val_accuracy: 0.9230\n",
            "Epoch 10/200\n",
            "94/94 [==============================] - 0s 4ms/step - loss: 0.1915 - accuracy: 0.9243 - val_loss: 0.1990 - val_accuracy: 0.9245\n",
            "Epoch 11/200\n",
            "94/94 [==============================] - 0s 4ms/step - loss: 0.1907 - accuracy: 0.9222 - val_loss: 0.1958 - val_accuracy: 0.9265\n",
            "Epoch 12/200\n",
            "94/94 [==============================] - 0s 4ms/step - loss: 0.1879 - accuracy: 0.9262 - val_loss: 0.1941 - val_accuracy: 0.9270\n",
            "Epoch 13/200\n",
            "94/94 [==============================] - 0s 4ms/step - loss: 0.1859 - accuracy: 0.9281 - val_loss: 0.1922 - val_accuracy: 0.9260\n",
            "Epoch 14/200\n",
            "94/94 [==============================] - 0s 4ms/step - loss: 0.1820 - accuracy: 0.9277 - val_loss: 0.1898 - val_accuracy: 0.9290\n",
            "Epoch 15/200\n",
            "94/94 [==============================] - 0s 4ms/step - loss: 0.1812 - accuracy: 0.9293 - val_loss: 0.1889 - val_accuracy: 0.9270\n",
            "Epoch 16/200\n",
            "94/94 [==============================] - 0s 4ms/step - loss: 0.1793 - accuracy: 0.9271 - val_loss: 0.1862 - val_accuracy: 0.9295\n",
            "Epoch 17/200\n",
            "94/94 [==============================] - 0s 4ms/step - loss: 0.1776 - accuracy: 0.9318 - val_loss: 0.1852 - val_accuracy: 0.9315\n",
            "Epoch 18/200\n",
            "94/94 [==============================] - 0s 4ms/step - loss: 0.1740 - accuracy: 0.9323 - val_loss: 0.1834 - val_accuracy: 0.9305\n",
            "Epoch 19/200\n",
            "94/94 [==============================] - 0s 4ms/step - loss: 0.1728 - accuracy: 0.9326 - val_loss: 0.1822 - val_accuracy: 0.9315\n",
            "Epoch 20/200\n",
            "94/94 [==============================] - 0s 4ms/step - loss: 0.1715 - accuracy: 0.9353 - val_loss: 0.1810 - val_accuracy: 0.9310\n",
            "Epoch 21/200\n",
            "94/94 [==============================] - 0s 4ms/step - loss: 0.1721 - accuracy: 0.9348 - val_loss: 0.1798 - val_accuracy: 0.9315\n",
            "Epoch 22/200\n",
            "94/94 [==============================] - 0s 4ms/step - loss: 0.1687 - accuracy: 0.9345 - val_loss: 0.1789 - val_accuracy: 0.9335\n",
            "Epoch 23/200\n",
            "94/94 [==============================] - 0s 4ms/step - loss: 0.1671 - accuracy: 0.9350 - val_loss: 0.1780 - val_accuracy: 0.9320\n",
            "Epoch 24/200\n",
            "94/94 [==============================] - 0s 4ms/step - loss: 0.1664 - accuracy: 0.9350 - val_loss: 0.1768 - val_accuracy: 0.9335\n",
            "Epoch 25/200\n",
            "94/94 [==============================] - 0s 4ms/step - loss: 0.1654 - accuracy: 0.9362 - val_loss: 0.1759 - val_accuracy: 0.9330\n",
            "Epoch 26/200\n",
            "94/94 [==============================] - 0s 4ms/step - loss: 0.1635 - accuracy: 0.9345 - val_loss: 0.1750 - val_accuracy: 0.9340\n",
            "Epoch 27/200\n",
            "94/94 [==============================] - 0s 4ms/step - loss: 0.1628 - accuracy: 0.9377 - val_loss: 0.1740 - val_accuracy: 0.9365\n",
            "Epoch 28/200\n",
            "94/94 [==============================] - 0s 4ms/step - loss: 0.1620 - accuracy: 0.9373 - val_loss: 0.1733 - val_accuracy: 0.9335\n",
            "Epoch 29/200\n",
            "94/94 [==============================] - 0s 4ms/step - loss: 0.1620 - accuracy: 0.9382 - val_loss: 0.1727 - val_accuracy: 0.9360\n",
            "Epoch 30/200\n",
            "94/94 [==============================] - 0s 4ms/step - loss: 0.1589 - accuracy: 0.9397 - val_loss: 0.1719 - val_accuracy: 0.9365\n",
            "Epoch 31/200\n",
            "94/94 [==============================] - 0s 4ms/step - loss: 0.1584 - accuracy: 0.9408 - val_loss: 0.1712 - val_accuracy: 0.9340\n",
            "Epoch 32/200\n",
            "94/94 [==============================] - 0s 4ms/step - loss: 0.1575 - accuracy: 0.9393 - val_loss: 0.1720 - val_accuracy: 0.9350\n",
            "Epoch 33/200\n",
            "94/94 [==============================] - 1s 6ms/step - loss: 0.1564 - accuracy: 0.9403 - val_loss: 0.1696 - val_accuracy: 0.9355\n",
            "Epoch 34/200\n",
            "94/94 [==============================] - 1s 5ms/step - loss: 0.1559 - accuracy: 0.9390 - val_loss: 0.1694 - val_accuracy: 0.9345\n",
            "Epoch 35/200\n",
            "94/94 [==============================] - 0s 5ms/step - loss: 0.1558 - accuracy: 0.9401 - val_loss: 0.1685 - val_accuracy: 0.9365\n",
            "Epoch 36/200\n",
            "94/94 [==============================] - 1s 5ms/step - loss: 0.1544 - accuracy: 0.9392 - val_loss: 0.1682 - val_accuracy: 0.9355\n",
            "Epoch 37/200\n",
            "94/94 [==============================] - 0s 5ms/step - loss: 0.1536 - accuracy: 0.9402 - val_loss: 0.1674 - val_accuracy: 0.9355\n",
            "Epoch 38/200\n",
            "94/94 [==============================] - 0s 4ms/step - loss: 0.1519 - accuracy: 0.9419 - val_loss: 0.1677 - val_accuracy: 0.9360\n",
            "Epoch 39/200\n",
            "94/94 [==============================] - 0s 4ms/step - loss: 0.1542 - accuracy: 0.9413 - val_loss: 0.1660 - val_accuracy: 0.9375\n",
            "Epoch 40/200\n",
            "94/94 [==============================] - 0s 4ms/step - loss: 0.1502 - accuracy: 0.9427 - val_loss: 0.1666 - val_accuracy: 0.9355\n",
            "Epoch 41/200\n",
            "94/94 [==============================] - 0s 4ms/step - loss: 0.1510 - accuracy: 0.9435 - val_loss: 0.1649 - val_accuracy: 0.9385\n",
            "Epoch 42/200\n",
            "94/94 [==============================] - 0s 4ms/step - loss: 0.1490 - accuracy: 0.9437 - val_loss: 0.1642 - val_accuracy: 0.9375\n",
            "Epoch 43/200\n",
            "94/94 [==============================] - 0s 4ms/step - loss: 0.1484 - accuracy: 0.9434 - val_loss: 0.1635 - val_accuracy: 0.9395\n",
            "Epoch 44/200\n",
            "94/94 [==============================] - 0s 4ms/step - loss: 0.1491 - accuracy: 0.9438 - val_loss: 0.1632 - val_accuracy: 0.9390\n",
            "Epoch 45/200\n",
            "94/94 [==============================] - 0s 4ms/step - loss: 0.1458 - accuracy: 0.9440 - val_loss: 0.1628 - val_accuracy: 0.9390\n",
            "Epoch 46/200\n",
            "94/94 [==============================] - 0s 4ms/step - loss: 0.1476 - accuracy: 0.9423 - val_loss: 0.1646 - val_accuracy: 0.9375\n",
            "Epoch 47/200\n",
            "94/94 [==============================] - 0s 4ms/step - loss: 0.1466 - accuracy: 0.9442 - val_loss: 0.1615 - val_accuracy: 0.9400\n",
            "Epoch 48/200\n",
            "94/94 [==============================] - 0s 4ms/step - loss: 0.1451 - accuracy: 0.9428 - val_loss: 0.1616 - val_accuracy: 0.9390\n",
            "Epoch 49/200\n",
            "94/94 [==============================] - 0s 4ms/step - loss: 0.1441 - accuracy: 0.9438 - val_loss: 0.1608 - val_accuracy: 0.9395\n",
            "Epoch 50/200\n",
            "94/94 [==============================] - 0s 4ms/step - loss: 0.1437 - accuracy: 0.9447 - val_loss: 0.1602 - val_accuracy: 0.9400\n",
            "Epoch 51/200\n",
            "94/94 [==============================] - 0s 4ms/step - loss: 0.1437 - accuracy: 0.9464 - val_loss: 0.1602 - val_accuracy: 0.9410\n",
            "Epoch 52/200\n",
            "94/94 [==============================] - 0s 4ms/step - loss: 0.1422 - accuracy: 0.9455 - val_loss: 0.1590 - val_accuracy: 0.9410\n",
            "Epoch 53/200\n",
            "94/94 [==============================] - 0s 4ms/step - loss: 0.1419 - accuracy: 0.9441 - val_loss: 0.1588 - val_accuracy: 0.9400\n",
            "Epoch 54/200\n",
            "94/94 [==============================] - 0s 4ms/step - loss: 0.1423 - accuracy: 0.9455 - val_loss: 0.1580 - val_accuracy: 0.9410\n",
            "Epoch 55/200\n",
            "94/94 [==============================] - 0s 4ms/step - loss: 0.1419 - accuracy: 0.9482 - val_loss: 0.1579 - val_accuracy: 0.9395\n",
            "Epoch 56/200\n",
            "94/94 [==============================] - 0s 4ms/step - loss: 0.1402 - accuracy: 0.9459 - val_loss: 0.1573 - val_accuracy: 0.9410\n",
            "Epoch 57/200\n",
            "94/94 [==============================] - 0s 4ms/step - loss: 0.1401 - accuracy: 0.9480 - val_loss: 0.1579 - val_accuracy: 0.9420\n",
            "Epoch 58/200\n",
            "94/94 [==============================] - 0s 4ms/step - loss: 0.1372 - accuracy: 0.9471 - val_loss: 0.1578 - val_accuracy: 0.9400\n",
            "Epoch 59/200\n",
            "94/94 [==============================] - 0s 4ms/step - loss: 0.1382 - accuracy: 0.9487 - val_loss: 0.1563 - val_accuracy: 0.9415\n",
            "Epoch 60/200\n",
            "94/94 [==============================] - 0s 4ms/step - loss: 0.1385 - accuracy: 0.9482 - val_loss: 0.1558 - val_accuracy: 0.9400\n",
            "Epoch 61/200\n",
            "94/94 [==============================] - 0s 4ms/step - loss: 0.1378 - accuracy: 0.9488 - val_loss: 0.1555 - val_accuracy: 0.9410\n",
            "Epoch 62/200\n",
            "94/94 [==============================] - 0s 4ms/step - loss: 0.1374 - accuracy: 0.9488 - val_loss: 0.1561 - val_accuracy: 0.9405\n",
            "Epoch 63/200\n",
            "94/94 [==============================] - 0s 4ms/step - loss: 0.1357 - accuracy: 0.9488 - val_loss: 0.1546 - val_accuracy: 0.9405\n",
            "Epoch 64/200\n",
            "94/94 [==============================] - 0s 5ms/step - loss: 0.1366 - accuracy: 0.9484 - val_loss: 0.1540 - val_accuracy: 0.9410\n",
            "Epoch 65/200\n",
            "94/94 [==============================] - 1s 6ms/step - loss: 0.1354 - accuracy: 0.9479 - val_loss: 0.1536 - val_accuracy: 0.9405\n",
            "Epoch 66/200\n",
            "94/94 [==============================] - 1s 6ms/step - loss: 0.1347 - accuracy: 0.9507 - val_loss: 0.1538 - val_accuracy: 0.9430\n",
            "Epoch 67/200\n",
            "94/94 [==============================] - 1s 6ms/step - loss: 0.1334 - accuracy: 0.9503 - val_loss: 0.1532 - val_accuracy: 0.9415\n",
            "Epoch 68/200\n",
            "94/94 [==============================] - 1s 6ms/step - loss: 0.1320 - accuracy: 0.9514 - val_loss: 0.1522 - val_accuracy: 0.9415\n",
            "Epoch 69/200\n",
            "94/94 [==============================] - 0s 4ms/step - loss: 0.1339 - accuracy: 0.9513 - val_loss: 0.1521 - val_accuracy: 0.9420\n",
            "Epoch 70/200\n",
            "94/94 [==============================] - 0s 4ms/step - loss: 0.1317 - accuracy: 0.9506 - val_loss: 0.1514 - val_accuracy: 0.9420\n",
            "Epoch 71/200\n",
            "94/94 [==============================] - 0s 4ms/step - loss: 0.1317 - accuracy: 0.9506 - val_loss: 0.1513 - val_accuracy: 0.9415\n",
            "Epoch 72/200\n",
            "94/94 [==============================] - 0s 4ms/step - loss: 0.1308 - accuracy: 0.9515 - val_loss: 0.1513 - val_accuracy: 0.9440\n",
            "Epoch 73/200\n",
            "94/94 [==============================] - 0s 4ms/step - loss: 0.1296 - accuracy: 0.9517 - val_loss: 0.1528 - val_accuracy: 0.9470\n",
            "Epoch 74/200\n",
            "94/94 [==============================] - 0s 4ms/step - loss: 0.1296 - accuracy: 0.9504 - val_loss: 0.1501 - val_accuracy: 0.9425\n",
            "Epoch 75/200\n",
            "94/94 [==============================] - 0s 4ms/step - loss: 0.1302 - accuracy: 0.9533 - val_loss: 0.1498 - val_accuracy: 0.9420\n",
            "Epoch 76/200\n",
            "94/94 [==============================] - 0s 4ms/step - loss: 0.1291 - accuracy: 0.9513 - val_loss: 0.1502 - val_accuracy: 0.9445\n",
            "Epoch 77/200\n",
            "94/94 [==============================] - 0s 4ms/step - loss: 0.1302 - accuracy: 0.9519 - val_loss: 0.1495 - val_accuracy: 0.9430\n",
            "Epoch 78/200\n",
            "94/94 [==============================] - 0s 4ms/step - loss: 0.1295 - accuracy: 0.9523 - val_loss: 0.1486 - val_accuracy: 0.9440\n",
            "Epoch 79/200\n",
            "94/94 [==============================] - 0s 4ms/step - loss: 0.1287 - accuracy: 0.9526 - val_loss: 0.1484 - val_accuracy: 0.9455\n",
            "Epoch 80/200\n",
            "94/94 [==============================] - 0s 4ms/step - loss: 0.1270 - accuracy: 0.9524 - val_loss: 0.1484 - val_accuracy: 0.9455\n",
            "Epoch 81/200\n",
            "94/94 [==============================] - 0s 4ms/step - loss: 0.1268 - accuracy: 0.9521 - val_loss: 0.1476 - val_accuracy: 0.9440\n",
            "Epoch 82/200\n",
            "94/94 [==============================] - 0s 4ms/step - loss: 0.1269 - accuracy: 0.9524 - val_loss: 0.1474 - val_accuracy: 0.9445\n",
            "Epoch 83/200\n",
            "94/94 [==============================] - 0s 4ms/step - loss: 0.1257 - accuracy: 0.9531 - val_loss: 0.1471 - val_accuracy: 0.9435\n",
            "Epoch 84/200\n",
            "94/94 [==============================] - 0s 4ms/step - loss: 0.1258 - accuracy: 0.9520 - val_loss: 0.1472 - val_accuracy: 0.9465\n",
            "Epoch 85/200\n",
            "94/94 [==============================] - 0s 4ms/step - loss: 0.1242 - accuracy: 0.9554 - val_loss: 0.1473 - val_accuracy: 0.9450\n",
            "Epoch 86/200\n",
            "94/94 [==============================] - 0s 4ms/step - loss: 0.1247 - accuracy: 0.9533 - val_loss: 0.1464 - val_accuracy: 0.9475\n",
            "Epoch 87/200\n",
            "94/94 [==============================] - 0s 4ms/step - loss: 0.1243 - accuracy: 0.9550 - val_loss: 0.1461 - val_accuracy: 0.9455\n",
            "Epoch 88/200\n",
            "94/94 [==============================] - 0s 4ms/step - loss: 0.1236 - accuracy: 0.9554 - val_loss: 0.1455 - val_accuracy: 0.9465\n",
            "Epoch 89/200\n",
            "94/94 [==============================] - 0s 4ms/step - loss: 0.1228 - accuracy: 0.9560 - val_loss: 0.1468 - val_accuracy: 0.9500\n",
            "Epoch 90/200\n",
            "94/94 [==============================] - 0s 4ms/step - loss: 0.1246 - accuracy: 0.9556 - val_loss: 0.1449 - val_accuracy: 0.9465\n",
            "Epoch 91/200\n",
            "94/94 [==============================] - 0s 4ms/step - loss: 0.1236 - accuracy: 0.9539 - val_loss: 0.1448 - val_accuracy: 0.9485\n",
            "Epoch 92/200\n",
            "94/94 [==============================] - 0s 4ms/step - loss: 0.1228 - accuracy: 0.9534 - val_loss: 0.1452 - val_accuracy: 0.9485\n",
            "Epoch 93/200\n",
            "94/94 [==============================] - 0s 4ms/step - loss: 0.1221 - accuracy: 0.9553 - val_loss: 0.1435 - val_accuracy: 0.9475\n",
            "Epoch 94/200\n",
            "94/94 [==============================] - 0s 4ms/step - loss: 0.1214 - accuracy: 0.9566 - val_loss: 0.1436 - val_accuracy: 0.9480\n",
            "Epoch 95/200\n",
            "94/94 [==============================] - 0s 5ms/step - loss: 0.1213 - accuracy: 0.9558 - val_loss: 0.1434 - val_accuracy: 0.9485\n",
            "Epoch 96/200\n",
            "94/94 [==============================] - 0s 5ms/step - loss: 0.1205 - accuracy: 0.9557 - val_loss: 0.1428 - val_accuracy: 0.9480\n",
            "Epoch 97/200\n",
            "94/94 [==============================] - 1s 5ms/step - loss: 0.1198 - accuracy: 0.9566 - val_loss: 0.1427 - val_accuracy: 0.9480\n",
            "Epoch 98/200\n",
            "94/94 [==============================] - 1s 5ms/step - loss: 0.1207 - accuracy: 0.9561 - val_loss: 0.1434 - val_accuracy: 0.9475\n",
            "Epoch 99/200\n",
            "94/94 [==============================] - 1s 6ms/step - loss: 0.1195 - accuracy: 0.9572 - val_loss: 0.1417 - val_accuracy: 0.9490\n",
            "Epoch 100/200\n",
            "94/94 [==============================] - 0s 4ms/step - loss: 0.1189 - accuracy: 0.9563 - val_loss: 0.1423 - val_accuracy: 0.9515\n",
            "Epoch 101/200\n",
            "94/94 [==============================] - 0s 4ms/step - loss: 0.1191 - accuracy: 0.9563 - val_loss: 0.1415 - val_accuracy: 0.9490\n",
            "Epoch 102/200\n",
            "94/94 [==============================] - 0s 4ms/step - loss: 0.1184 - accuracy: 0.9591 - val_loss: 0.1413 - val_accuracy: 0.9505\n",
            "Epoch 103/200\n",
            "94/94 [==============================] - 0s 4ms/step - loss: 0.1174 - accuracy: 0.9577 - val_loss: 0.1406 - val_accuracy: 0.9500\n",
            "Epoch 104/200\n",
            "94/94 [==============================] - 0s 4ms/step - loss: 0.1175 - accuracy: 0.9584 - val_loss: 0.1409 - val_accuracy: 0.9490\n",
            "Epoch 105/200\n",
            "94/94 [==============================] - 0s 4ms/step - loss: 0.1181 - accuracy: 0.9569 - val_loss: 0.1401 - val_accuracy: 0.9510\n",
            "Epoch 106/200\n",
            "94/94 [==============================] - 0s 4ms/step - loss: 0.1166 - accuracy: 0.9591 - val_loss: 0.1400 - val_accuracy: 0.9515\n",
            "Epoch 107/200\n",
            "94/94 [==============================] - 0s 4ms/step - loss: 0.1173 - accuracy: 0.9571 - val_loss: 0.1395 - val_accuracy: 0.9530\n",
            "Epoch 108/200\n",
            "94/94 [==============================] - 0s 4ms/step - loss: 0.1146 - accuracy: 0.9588 - val_loss: 0.1400 - val_accuracy: 0.9515\n",
            "Epoch 109/200\n",
            "94/94 [==============================] - 0s 4ms/step - loss: 0.1173 - accuracy: 0.9577 - val_loss: 0.1392 - val_accuracy: 0.9520\n",
            "Epoch 110/200\n",
            "94/94 [==============================] - 0s 4ms/step - loss: 0.1145 - accuracy: 0.9582 - val_loss: 0.1392 - val_accuracy: 0.9515\n",
            "Epoch 111/200\n",
            "94/94 [==============================] - 0s 4ms/step - loss: 0.1155 - accuracy: 0.9568 - val_loss: 0.1383 - val_accuracy: 0.9530\n",
            "Epoch 112/200\n",
            "94/94 [==============================] - 0s 4ms/step - loss: 0.1138 - accuracy: 0.9605 - val_loss: 0.1387 - val_accuracy: 0.9540\n",
            "Epoch 113/200\n",
            "94/94 [==============================] - 0s 4ms/step - loss: 0.1144 - accuracy: 0.9592 - val_loss: 0.1378 - val_accuracy: 0.9545\n",
            "Epoch 114/200\n",
            "94/94 [==============================] - 0s 4ms/step - loss: 0.1142 - accuracy: 0.9587 - val_loss: 0.1383 - val_accuracy: 0.9530\n",
            "Epoch 115/200\n",
            "94/94 [==============================] - 0s 4ms/step - loss: 0.1127 - accuracy: 0.9610 - val_loss: 0.1376 - val_accuracy: 0.9540\n",
            "Epoch 116/200\n",
            "94/94 [==============================] - 0s 4ms/step - loss: 0.1144 - accuracy: 0.9585 - val_loss: 0.1370 - val_accuracy: 0.9535\n",
            "Epoch 117/200\n",
            "94/94 [==============================] - 0s 4ms/step - loss: 0.1113 - accuracy: 0.9605 - val_loss: 0.1370 - val_accuracy: 0.9545\n",
            "Epoch 118/200\n",
            "94/94 [==============================] - 0s 4ms/step - loss: 0.1123 - accuracy: 0.9610 - val_loss: 0.1366 - val_accuracy: 0.9540\n",
            "Epoch 119/200\n",
            "94/94 [==============================] - 0s 4ms/step - loss: 0.1104 - accuracy: 0.9607 - val_loss: 0.1370 - val_accuracy: 0.9525\n",
            "Epoch 120/200\n",
            "94/94 [==============================] - 0s 4ms/step - loss: 0.1118 - accuracy: 0.9614 - val_loss: 0.1360 - val_accuracy: 0.9540\n",
            "Epoch 121/200\n",
            "94/94 [==============================] - 0s 4ms/step - loss: 0.1108 - accuracy: 0.9608 - val_loss: 0.1362 - val_accuracy: 0.9555\n",
            "Epoch 122/200\n",
            "94/94 [==============================] - 0s 4ms/step - loss: 0.1107 - accuracy: 0.9596 - val_loss: 0.1356 - val_accuracy: 0.9545\n",
            "Epoch 123/200\n",
            "94/94 [==============================] - 0s 4ms/step - loss: 0.1111 - accuracy: 0.9605 - val_loss: 0.1352 - val_accuracy: 0.9550\n",
            "Epoch 124/200\n",
            "94/94 [==============================] - 0s 4ms/step - loss: 0.1096 - accuracy: 0.9615 - val_loss: 0.1349 - val_accuracy: 0.9540\n",
            "Epoch 125/200\n",
            "94/94 [==============================] - 0s 4ms/step - loss: 0.1109 - accuracy: 0.9621 - val_loss: 0.1350 - val_accuracy: 0.9550\n",
            "Epoch 126/200\n",
            "94/94 [==============================] - 1s 5ms/step - loss: 0.1104 - accuracy: 0.9624 - val_loss: 0.1344 - val_accuracy: 0.9550\n",
            "Epoch 127/200\n",
            "94/94 [==============================] - 1s 5ms/step - loss: 0.1095 - accuracy: 0.9629 - val_loss: 0.1345 - val_accuracy: 0.9540\n",
            "Epoch 128/200\n",
            "94/94 [==============================] - 1s 6ms/step - loss: 0.1091 - accuracy: 0.9617 - val_loss: 0.1345 - val_accuracy: 0.9540\n",
            "Epoch 129/200\n",
            "94/94 [==============================] - 1s 6ms/step - loss: 0.1089 - accuracy: 0.9630 - val_loss: 0.1337 - val_accuracy: 0.9545\n",
            "Epoch 130/200\n",
            "94/94 [==============================] - 0s 5ms/step - loss: 0.1077 - accuracy: 0.9622 - val_loss: 0.1335 - val_accuracy: 0.9545\n",
            "Epoch 131/200\n",
            "94/94 [==============================] - 0s 4ms/step - loss: 0.1084 - accuracy: 0.9623 - val_loss: 0.1338 - val_accuracy: 0.9525\n",
            "Epoch 132/200\n",
            "94/94 [==============================] - 0s 4ms/step - loss: 0.1089 - accuracy: 0.9622 - val_loss: 0.1329 - val_accuracy: 0.9540\n",
            "Epoch 133/200\n",
            "94/94 [==============================] - 0s 4ms/step - loss: 0.1077 - accuracy: 0.9626 - val_loss: 0.1330 - val_accuracy: 0.9550\n",
            "Epoch 134/200\n",
            "94/94 [==============================] - 0s 4ms/step - loss: 0.1065 - accuracy: 0.9633 - val_loss: 0.1327 - val_accuracy: 0.9540\n",
            "Epoch 135/200\n",
            "94/94 [==============================] - 0s 4ms/step - loss: 0.1071 - accuracy: 0.9622 - val_loss: 0.1328 - val_accuracy: 0.9545\n",
            "Epoch 136/200\n",
            "94/94 [==============================] - 0s 4ms/step - loss: 0.1074 - accuracy: 0.9617 - val_loss: 0.1332 - val_accuracy: 0.9540\n",
            "Epoch 137/200\n",
            "94/94 [==============================] - 0s 4ms/step - loss: 0.1053 - accuracy: 0.9641 - val_loss: 0.1317 - val_accuracy: 0.9545\n",
            "Epoch 138/200\n",
            "94/94 [==============================] - 0s 5ms/step - loss: 0.1062 - accuracy: 0.9631 - val_loss: 0.1320 - val_accuracy: 0.9540\n",
            "Epoch 139/200\n",
            "94/94 [==============================] - 0s 4ms/step - loss: 0.1053 - accuracy: 0.9632 - val_loss: 0.1318 - val_accuracy: 0.9540\n",
            "Epoch 140/200\n",
            "94/94 [==============================] - 0s 4ms/step - loss: 0.1065 - accuracy: 0.9630 - val_loss: 0.1313 - val_accuracy: 0.9545\n",
            "Epoch 141/200\n",
            "94/94 [==============================] - 0s 4ms/step - loss: 0.1030 - accuracy: 0.9643 - val_loss: 0.1322 - val_accuracy: 0.9535\n",
            "Epoch 142/200\n",
            "94/94 [==============================] - 0s 4ms/step - loss: 0.1042 - accuracy: 0.9647 - val_loss: 0.1307 - val_accuracy: 0.9545\n",
            "Epoch 143/200\n",
            "94/94 [==============================] - 0s 4ms/step - loss: 0.1053 - accuracy: 0.9632 - val_loss: 0.1306 - val_accuracy: 0.9550\n",
            "Epoch 144/200\n",
            "94/94 [==============================] - 0s 4ms/step - loss: 0.1039 - accuracy: 0.9627 - val_loss: 0.1304 - val_accuracy: 0.9555\n",
            "Epoch 145/200\n",
            "94/94 [==============================] - 0s 4ms/step - loss: 0.1044 - accuracy: 0.9634 - val_loss: 0.1305 - val_accuracy: 0.9560\n",
            "Epoch 146/200\n",
            "94/94 [==============================] - 0s 4ms/step - loss: 0.1029 - accuracy: 0.9643 - val_loss: 0.1298 - val_accuracy: 0.9550\n",
            "Epoch 147/200\n",
            "94/94 [==============================] - 0s 4ms/step - loss: 0.1039 - accuracy: 0.9639 - val_loss: 0.1303 - val_accuracy: 0.9545\n",
            "Epoch 148/200\n",
            "94/94 [==============================] - 0s 4ms/step - loss: 0.1022 - accuracy: 0.9644 - val_loss: 0.1302 - val_accuracy: 0.9545\n",
            "Epoch 149/200\n",
            "94/94 [==============================] - 0s 4ms/step - loss: 0.1024 - accuracy: 0.9660 - val_loss: 0.1292 - val_accuracy: 0.9560\n",
            "Epoch 150/200\n",
            "94/94 [==============================] - 0s 4ms/step - loss: 0.1014 - accuracy: 0.9658 - val_loss: 0.1291 - val_accuracy: 0.9560\n",
            "Epoch 151/200\n",
            "94/94 [==============================] - 0s 4ms/step - loss: 0.1013 - accuracy: 0.9661 - val_loss: 0.1291 - val_accuracy: 0.9560\n",
            "Epoch 152/200\n",
            "94/94 [==============================] - 0s 4ms/step - loss: 0.0999 - accuracy: 0.9657 - val_loss: 0.1305 - val_accuracy: 0.9535\n",
            "Epoch 153/200\n",
            "94/94 [==============================] - 0s 4ms/step - loss: 0.1018 - accuracy: 0.9650 - val_loss: 0.1310 - val_accuracy: 0.9555\n",
            "Epoch 154/200\n",
            "94/94 [==============================] - 0s 4ms/step - loss: 0.1004 - accuracy: 0.9661 - val_loss: 0.1299 - val_accuracy: 0.9540\n",
            "Epoch 155/200\n",
            "94/94 [==============================] - 0s 4ms/step - loss: 0.1013 - accuracy: 0.9643 - val_loss: 0.1285 - val_accuracy: 0.9555\n",
            "Epoch 156/200\n",
            "94/94 [==============================] - 0s 4ms/step - loss: 0.1019 - accuracy: 0.9644 - val_loss: 0.1282 - val_accuracy: 0.9550\n",
            "Epoch 157/200\n",
            "94/94 [==============================] - 1s 6ms/step - loss: 0.0988 - accuracy: 0.9661 - val_loss: 0.1279 - val_accuracy: 0.9545\n",
            "Epoch 158/200\n",
            "94/94 [==============================] - 1s 5ms/step - loss: 0.0993 - accuracy: 0.9650 - val_loss: 0.1288 - val_accuracy: 0.9545\n",
            "Epoch 159/200\n",
            "94/94 [==============================] - 1s 6ms/step - loss: 0.1002 - accuracy: 0.9662 - val_loss: 0.1275 - val_accuracy: 0.9565\n",
            "Epoch 160/200\n",
            "94/94 [==============================] - 1s 6ms/step - loss: 0.0986 - accuracy: 0.9672 - val_loss: 0.1273 - val_accuracy: 0.9570\n",
            "Epoch 161/200\n",
            "94/94 [==============================] - 0s 4ms/step - loss: 0.1000 - accuracy: 0.9650 - val_loss: 0.1270 - val_accuracy: 0.9545\n",
            "Epoch 162/200\n",
            "94/94 [==============================] - 0s 4ms/step - loss: 0.0973 - accuracy: 0.9669 - val_loss: 0.1265 - val_accuracy: 0.9565\n",
            "Epoch 163/200\n",
            "94/94 [==============================] - 0s 4ms/step - loss: 0.0975 - accuracy: 0.9663 - val_loss: 0.1264 - val_accuracy: 0.9560\n",
            "Epoch 164/200\n",
            "94/94 [==============================] - 0s 4ms/step - loss: 0.0970 - accuracy: 0.9672 - val_loss: 0.1266 - val_accuracy: 0.9560\n",
            "Epoch 165/200\n",
            "94/94 [==============================] - 0s 4ms/step - loss: 0.0986 - accuracy: 0.9652 - val_loss: 0.1259 - val_accuracy: 0.9560\n",
            "Epoch 166/200\n",
            "94/94 [==============================] - 0s 4ms/step - loss: 0.0974 - accuracy: 0.9663 - val_loss: 0.1259 - val_accuracy: 0.9560\n",
            "Epoch 167/200\n",
            "94/94 [==============================] - 0s 4ms/step - loss: 0.0963 - accuracy: 0.9682 - val_loss: 0.1258 - val_accuracy: 0.9565\n",
            "Epoch 168/200\n",
            "94/94 [==============================] - 0s 4ms/step - loss: 0.0974 - accuracy: 0.9662 - val_loss: 0.1260 - val_accuracy: 0.9550\n",
            "Epoch 169/200\n",
            "94/94 [==============================] - 0s 4ms/step - loss: 0.0961 - accuracy: 0.9675 - val_loss: 0.1260 - val_accuracy: 0.9560\n",
            "Epoch 170/200\n",
            "94/94 [==============================] - 0s 4ms/step - loss: 0.0954 - accuracy: 0.9682 - val_loss: 0.1258 - val_accuracy: 0.9555\n",
            "Epoch 171/200\n",
            "94/94 [==============================] - 0s 4ms/step - loss: 0.0958 - accuracy: 0.9683 - val_loss: 0.1256 - val_accuracy: 0.9555\n",
            "Epoch 172/200\n",
            "94/94 [==============================] - 0s 4ms/step - loss: 0.0953 - accuracy: 0.9679 - val_loss: 0.1248 - val_accuracy: 0.9570\n",
            "Epoch 173/200\n",
            "94/94 [==============================] - 0s 4ms/step - loss: 0.0950 - accuracy: 0.9685 - val_loss: 0.1252 - val_accuracy: 0.9570\n",
            "Epoch 174/200\n",
            "94/94 [==============================] - 0s 4ms/step - loss: 0.0945 - accuracy: 0.9681 - val_loss: 0.1248 - val_accuracy: 0.9565\n",
            "Epoch 175/200\n",
            "94/94 [==============================] - 0s 4ms/step - loss: 0.0948 - accuracy: 0.9677 - val_loss: 0.1249 - val_accuracy: 0.9570\n",
            "Epoch 176/200\n",
            "94/94 [==============================] - 0s 4ms/step - loss: 0.0954 - accuracy: 0.9687 - val_loss: 0.1245 - val_accuracy: 0.9565\n",
            "Epoch 177/200\n",
            "94/94 [==============================] - 0s 4ms/step - loss: 0.0952 - accuracy: 0.9678 - val_loss: 0.1242 - val_accuracy: 0.9565\n",
            "Epoch 178/200\n",
            "94/94 [==============================] - 0s 4ms/step - loss: 0.0953 - accuracy: 0.9665 - val_loss: 0.1240 - val_accuracy: 0.9560\n",
            "Epoch 179/200\n",
            "94/94 [==============================] - 0s 4ms/step - loss: 0.0938 - accuracy: 0.9675 - val_loss: 0.1238 - val_accuracy: 0.9555\n",
            "Epoch 180/200\n",
            "94/94 [==============================] - 0s 4ms/step - loss: 0.0945 - accuracy: 0.9682 - val_loss: 0.1242 - val_accuracy: 0.9560\n",
            "Epoch 181/200\n",
            "94/94 [==============================] - 0s 4ms/step - loss: 0.0947 - accuracy: 0.9672 - val_loss: 0.1234 - val_accuracy: 0.9550\n",
            "Epoch 182/200\n",
            "94/94 [==============================] - 0s 4ms/step - loss: 0.0924 - accuracy: 0.9694 - val_loss: 0.1234 - val_accuracy: 0.9560\n",
            "Epoch 183/200\n",
            "94/94 [==============================] - 0s 4ms/step - loss: 0.0915 - accuracy: 0.9691 - val_loss: 0.1229 - val_accuracy: 0.9565\n",
            "Epoch 184/200\n",
            "94/94 [==============================] - 0s 4ms/step - loss: 0.0921 - accuracy: 0.9698 - val_loss: 0.1237 - val_accuracy: 0.9565\n",
            "Epoch 185/200\n",
            "94/94 [==============================] - 0s 4ms/step - loss: 0.0921 - accuracy: 0.9697 - val_loss: 0.1249 - val_accuracy: 0.9565\n",
            "Epoch 186/200\n",
            "94/94 [==============================] - 0s 4ms/step - loss: 0.0925 - accuracy: 0.9689 - val_loss: 0.1231 - val_accuracy: 0.9570\n",
            "Epoch 187/200\n",
            "94/94 [==============================] - 0s 4ms/step - loss: 0.0926 - accuracy: 0.9712 - val_loss: 0.1226 - val_accuracy: 0.9570\n",
            "Epoch 188/200\n",
            "94/94 [==============================] - 1s 6ms/step - loss: 0.0910 - accuracy: 0.9703 - val_loss: 0.1224 - val_accuracy: 0.9565\n",
            "Epoch 189/200\n",
            "94/94 [==============================] - 0s 5ms/step - loss: 0.0925 - accuracy: 0.9696 - val_loss: 0.1227 - val_accuracy: 0.9565\n",
            "Epoch 190/200\n",
            "94/94 [==============================] - 0s 5ms/step - loss: 0.0926 - accuracy: 0.9685 - val_loss: 0.1223 - val_accuracy: 0.9575\n",
            "Epoch 191/200\n",
            "94/94 [==============================] - 1s 6ms/step - loss: 0.0919 - accuracy: 0.9691 - val_loss: 0.1226 - val_accuracy: 0.9560\n",
            "Epoch 192/200\n",
            "94/94 [==============================] - 0s 5ms/step - loss: 0.0899 - accuracy: 0.9708 - val_loss: 0.1232 - val_accuracy: 0.9565\n",
            "Epoch 193/200\n",
            "94/94 [==============================] - 0s 4ms/step - loss: 0.0901 - accuracy: 0.9710 - val_loss: 0.1214 - val_accuracy: 0.9575\n",
            "Epoch 194/200\n",
            "94/94 [==============================] - 0s 4ms/step - loss: 0.0888 - accuracy: 0.9710 - val_loss: 0.1223 - val_accuracy: 0.9560\n",
            "Epoch 195/200\n",
            "94/94 [==============================] - 0s 4ms/step - loss: 0.0897 - accuracy: 0.9704 - val_loss: 0.1218 - val_accuracy: 0.9580\n",
            "Epoch 196/200\n",
            "94/94 [==============================] - 0s 4ms/step - loss: 0.0894 - accuracy: 0.9721 - val_loss: 0.1219 - val_accuracy: 0.9555\n",
            "Epoch 197/200\n",
            "94/94 [==============================] - 0s 4ms/step - loss: 0.0894 - accuracy: 0.9703 - val_loss: 0.1212 - val_accuracy: 0.9575\n",
            "Epoch 198/200\n",
            "94/94 [==============================] - 0s 4ms/step - loss: 0.0900 - accuracy: 0.9701 - val_loss: 0.1211 - val_accuracy: 0.9575\n",
            "Epoch 199/200\n",
            "94/94 [==============================] - 0s 4ms/step - loss: 0.0898 - accuracy: 0.9705 - val_loss: 0.1211 - val_accuracy: 0.9560\n",
            "Epoch 200/200\n",
            "94/94 [==============================] - 0s 4ms/step - loss: 0.0881 - accuracy: 0.9707 - val_loss: 0.1208 - val_accuracy: 0.9575\n"
          ]
        }
      ]
    },
    {
      "cell_type": "code",
      "metadata": {
        "id": "oZrVlg-BHkES",
        "colab": {
          "base_uri": "https://localhost:8080/",
          "height": 472
        },
        "outputId": "18b9ae14-e05f-41f3-c2d6-aeca3f305c15"
      },
      "source": [
        "# summarize history for loss\n",
        "plt.plot(history_1.history['val_loss'])\n",
        "plt.plot(history_2.history['val_loss'])\n",
        "plt.title('model loss')\n",
        "plt.ylabel('loss')\n",
        "plt.xlabel('epoch')\n",
        "plt.legend(['test', 'test_dropout'], loc='upper left')\n",
        "plt.show()"
      ],
      "execution_count": 34,
      "outputs": [
        {
          "output_type": "display_data",
          "data": {
            "text/plain": [
              "<Figure size 640x480 with 1 Axes>"
            ],
            "image/png": "[encoded data removed]"
          },
          "metadata": {}
        }
      ]
    },
    {
      "cell_type": "code",
      "metadata": {
        "id": "Jggp33GTHkN3",
        "colab": {
          "base_uri": "https://localhost:8080/",
          "height": 472
        },
        "outputId": "28989f01-77cb-4a8a-85a0-c929ad493b99"
      },
      "source": [
        "# summarize history for loss\n",
        "plt.plot(history_1.history['val_accuracy'])\n",
        "plt.plot(history_2.history['val_accuracy'])\n",
        "plt.title('model accuracy')\n",
        "plt.ylabel('accuracy')\n",
        "plt.xlabel('epoch')\n",
        "plt.legend(['test', 'test_dropout'], loc='upper left')\n",
        "plt.show()"
      ],
      "execution_count": 35,
      "outputs": [
        {
          "output_type": "display_data",
          "data": {
            "text/plain": [
              "<Figure size 640x480 with 1 Axes>"
            ],
            "image/png": "[encoded data removed]"
          },
          "metadata": {}
        }
      ]
    },
    {
      "cell_type": "markdown",
      "metadata": {
        "id": "9lBU4uykrOqH"
      },
      "source": [
        "# Validation Set (The CORRECT way of training and evaluation process)"
      ]
    },
    {
      "cell_type": "code",
      "metadata": {
        "id": "9hz7bgmgH4lu"
      },
      "source": [
        "#cross validation example\n",
        "from sklearn.model_selection import KFold\n",
        "\n",
        "from tensorflow.keras.callbacks import ModelCheckpoint #save the model version that achieved lower loss!\n",
        "\n",
        "kfold = KFold(n_splits=5, shuffle=True, random_state=2) # number of folds, shuffle, seed"
      ],
      "execution_count": 36,
      "outputs": []
    },
    {
      "cell_type": "code",
      "metadata": {
        "id": "CYqB1wQNMPfQ",
        "colab": {
          "base_uri": "https://localhost:8080/"
        },
        "outputId": "65389d86-c77b-42f4-ef6f-63721b82cddc"
      },
      "source": [
        "# enumerate splits\n",
        "fold = 1\n",
        "for train, val in kfold.split(x_train_binary):\n",
        "  print('train: %s, val: %s' % (train, val))\n",
        "  X_train_binary = x_train_binary[train]\n",
        "  Y_train_binary = y_train_binary[train]\n",
        "  X_val_binary = x_train_binary[val]\n",
        "  Y_val_binary = y_train_binary[val]\n",
        "\n",
        "  seed = 2\n",
        "  tf.random.set_seed(seed)\n",
        "  np.random.seed(seed)\n",
        "\n",
        "  model = Sequential()\n",
        "  model.add(Dense(200, activation=\"relu\"))\n",
        "  model.add(Dropout(0.25))\n",
        "  model.add(Dense(1, activation=\"sigmoid\"))\n",
        "\n",
        "  batch_size = 128\n",
        "  epochs = 20\n",
        "\n",
        "  save_model = ModelCheckpoint('best_model_'+str(fold)+'.h5', save_best_only=True, monitor='val_loss', mode='min', verbose=2)\n",
        "\n",
        "  model.compile(loss=\"binary_crossentropy\", optimizer=\"adam\", metrics=[\"accuracy\"])\n",
        "  history_3 = model.fit(X_train_binary, Y_train_binary, batch_size=batch_size, epochs=epochs, callbacks=[save_model],\n",
        "            validation_data=(X_val_binary, Y_val_binary))\n",
        "  fold+=1"
      ],
      "execution_count": 44,
      "outputs": [
        {
          "output_type": "stream",
          "name": "stdout",
          "text": [
            "train: [    0     1     3 ... 11997 11998 11999], val: [    2     4    10 ... 11991 11992 11994]\n",
            "Epoch 1/20\n",
            "59/75 [======================>.......] - ETA: 0s - loss: 0.2298 - accuracy: 0.9082\n",
            "Epoch 1: val_loss improved from inf to 0.16141, saving model to best_model_1.h5\n",
            "75/75 [==============================] - 1s 6ms/step - loss: 0.2266 - accuracy: 0.9100 - val_loss: 0.1614 - val_accuracy: 0.9371\n",
            "Epoch 2/20\n",
            "56/75 [=====================>........] - ETA: 0s - loss: 0.1713 - accuracy: 0.9371"
          ]
        },
        {
          "output_type": "stream",
          "name": "stderr",
          "text": [
            "/usr/local/lib/python3.10/dist-packages/keras/src/engine/training.py:3103: UserWarning: You are saving your model as an HDF5 file via `model.save()`. This file format is considered legacy. We recommend using instead the native Keras format, e.g. `model.save('my_model.keras')`.\n",
            "  saving_api.save_model(\n"
          ]
        },
        {
          "output_type": "stream",
          "name": "stdout",
          "text": [
            "\b\b\b\b\b\b\b\b\b\b\b\b\b\b\b\b\b\b\b\b\b\b\b\b\b\b\b\b\b\b\b\b\b\b\b\b\b\b\b\b\b\b\b\b\b\b\b\b\b\b\b\b\b\b\b\b\b\b\b\b\b\b\b\b\b\b\b\b\b\b\b\b\b\b\b\b\b\b\b\b\b\b\r71/75 [===========================>..] - ETA: 0s - loss: 0.1744 - accuracy: 0.9362\n",
            "Epoch 2: val_loss improved from 0.16141 to 0.14355, saving model to best_model_1.h5\n",
            "75/75 [==============================] - 0s 4ms/step - loss: 0.1727 - accuracy: 0.9362 - val_loss: 0.1436 - val_accuracy: 0.9479\n",
            "Epoch 3/20\n",
            "59/75 [======================>.......] - ETA: 0s - loss: 0.1550 - accuracy: 0.9409\n",
            "Epoch 3: val_loss improved from 0.14355 to 0.12733, saving model to best_model_1.h5\n",
            "75/75 [==============================] - 0s 4ms/step - loss: 0.1532 - accuracy: 0.9399 - val_loss: 0.1273 - val_accuracy: 0.9500\n",
            "Epoch 4/20\n",
            "61/75 [=======================>......] - ETA: 0s - loss: 0.1396 - accuracy: 0.9484\n",
            "Epoch 4: val_loss did not improve from 0.12733\n",
            "75/75 [==============================] - 0s 4ms/step - loss: 0.1375 - accuracy: 0.9484 - val_loss: 0.1276 - val_accuracy: 0.9504\n",
            "Epoch 5/20\n",
            "59/75 [======================>.......] - ETA: 0s - loss: 0.1327 - accuracy: 0.9503\n",
            "Epoch 5: val_loss improved from 0.12733 to 0.11226, saving model to best_model_1.h5\n",
            "75/75 [==============================] - 0s 4ms/step - loss: 0.1307 - accuracy: 0.9502 - val_loss: 0.1123 - val_accuracy: 0.9538\n",
            "Epoch 6/20\n",
            "60/75 [=======================>......] - ETA: 0s - loss: 0.1162 - accuracy: 0.9560\n",
            "Epoch 6: val_loss did not improve from 0.11226\n",
            "75/75 [==============================] - 0s 4ms/step - loss: 0.1171 - accuracy: 0.9567 - val_loss: 0.1144 - val_accuracy: 0.9575\n",
            "Epoch 7/20\n",
            "62/75 [=======================>......] - ETA: 0s - loss: 0.1094 - accuracy: 0.9599\n",
            "Epoch 7: val_loss improved from 0.11226 to 0.10205, saving model to best_model_1.h5\n",
            "75/75 [==============================] - 0s 4ms/step - loss: 0.1067 - accuracy: 0.9615 - val_loss: 0.1021 - val_accuracy: 0.9654\n",
            "Epoch 8/20\n",
            "74/75 [============================>.] - ETA: 0s - loss: 0.1064 - accuracy: 0.9608\n",
            "Epoch 8: val_loss did not improve from 0.10205\n",
            "75/75 [==============================] - 0s 4ms/step - loss: 0.1075 - accuracy: 0.9606 - val_loss: 0.1101 - val_accuracy: 0.9608\n",
            "Epoch 9/20\n",
            "59/75 [======================>.......] - ETA: 0s - loss: 0.0970 - accuracy: 0.9653\n",
            "Epoch 9: val_loss improved from 0.10205 to 0.10069, saving model to best_model_1.h5\n",
            "75/75 [==============================] - 0s 4ms/step - loss: 0.0971 - accuracy: 0.9660 - val_loss: 0.1007 - val_accuracy: 0.9663\n",
            "Epoch 10/20\n",
            "75/75 [==============================] - ETA: 0s - loss: 0.0921 - accuracy: 0.9684\n",
            "Epoch 10: val_loss improved from 0.10069 to 0.09422, saving model to best_model_1.h5\n",
            "75/75 [==============================] - 0s 4ms/step - loss: 0.0921 - accuracy: 0.9684 - val_loss: 0.0942 - val_accuracy: 0.9663\n",
            "Epoch 11/20\n",
            "74/75 [============================>.] - ETA: 0s - loss: 0.0873 - accuracy: 0.9691\n",
            "Epoch 11: val_loss improved from 0.09422 to 0.09279, saving model to best_model_1.h5\n",
            "75/75 [==============================] - 0s 4ms/step - loss: 0.0869 - accuracy: 0.9693 - val_loss: 0.0928 - val_accuracy: 0.9696\n",
            "Epoch 12/20\n",
            "74/75 [============================>.] - ETA: 0s - loss: 0.0899 - accuracy: 0.9676\n",
            "Epoch 12: val_loss did not improve from 0.09279\n",
            "75/75 [==============================] - 0s 4ms/step - loss: 0.0901 - accuracy: 0.9676 - val_loss: 0.0971 - val_accuracy: 0.9646\n",
            "Epoch 13/20\n",
            "75/75 [==============================] - ETA: 0s - loss: 0.0793 - accuracy: 0.9723\n",
            "Epoch 13: val_loss did not improve from 0.09279\n",
            "75/75 [==============================] - 0s 4ms/step - loss: 0.0793 - accuracy: 0.9723 - val_loss: 0.0976 - val_accuracy: 0.9658\n",
            "Epoch 14/20\n",
            "75/75 [==============================] - ETA: 0s - loss: 0.0760 - accuracy: 0.9726\n",
            "Epoch 14: val_loss improved from 0.09279 to 0.09025, saving model to best_model_1.h5\n",
            "75/75 [==============================] - 0s 4ms/step - loss: 0.0760 - accuracy: 0.9726 - val_loss: 0.0903 - val_accuracy: 0.9696\n",
            "Epoch 15/20\n",
            "62/75 [=======================>......] - ETA: 0s - loss: 0.0720 - accuracy: 0.9769\n",
            "Epoch 15: val_loss improved from 0.09025 to 0.08959, saving model to best_model_1.h5\n",
            "75/75 [==============================] - 0s 4ms/step - loss: 0.0729 - accuracy: 0.9755 - val_loss: 0.0896 - val_accuracy: 0.9679\n",
            "Epoch 16/20\n",
            "62/75 [=======================>......] - ETA: 0s - loss: 0.0676 - accuracy: 0.9774\n",
            "Epoch 16: val_loss improved from 0.08959 to 0.08623, saving model to best_model_1.h5\n",
            "75/75 [==============================] - 0s 4ms/step - loss: 0.0699 - accuracy: 0.9761 - val_loss: 0.0862 - val_accuracy: 0.9704\n",
            "Epoch 17/20\n",
            "59/75 [======================>.......] - ETA: 0s - loss: 0.0653 - accuracy: 0.9780\n",
            "Epoch 17: val_loss did not improve from 0.08623\n",
            "75/75 [==============================] - 0s 4ms/step - loss: 0.0652 - accuracy: 0.9778 - val_loss: 0.0893 - val_accuracy: 0.9675\n",
            "Epoch 18/20\n",
            "75/75 [==============================] - ETA: 0s - loss: 0.0687 - accuracy: 0.9773\n",
            "Epoch 18: val_loss improved from 0.08623 to 0.08600, saving model to best_model_1.h5\n",
            "75/75 [==============================] - 0s 4ms/step - loss: 0.0687 - accuracy: 0.9773 - val_loss: 0.0860 - val_accuracy: 0.9700\n",
            "Epoch 19/20\n",
            "59/75 [======================>.......] - ETA: 0s - loss: 0.0627 - accuracy: 0.9783\n",
            "Epoch 19: val_loss did not improve from 0.08600\n",
            "75/75 [==============================] - 0s 4ms/step - loss: 0.0623 - accuracy: 0.9779 - val_loss: 0.1118 - val_accuracy: 0.9592\n",
            "Epoch 20/20\n",
            "58/75 [======================>.......] - ETA: 0s - loss: 0.0655 - accuracy: 0.9780\n",
            "Epoch 20: val_loss did not improve from 0.08600\n",
            "75/75 [==============================] - 0s 4ms/step - loss: 0.0651 - accuracy: 0.9778 - val_loss: 0.0865 - val_accuracy: 0.9688\n",
            "train: [    0     1     2 ... 11997 11998 11999], val: [    3     5     6 ... 11988 11989 11993]\n",
            "Epoch 1/20\n",
            "72/75 [===========================>..] - ETA: 0s - loss: 0.2396 - accuracy: 0.8987\n",
            "Epoch 1: val_loss improved from inf to 0.19015, saving model to best_model_2.h5\n",
            "75/75 [==============================] - 1s 6ms/step - loss: 0.2375 - accuracy: 0.8997 - val_loss: 0.1901 - val_accuracy: 0.9271\n",
            "Epoch 2/20\n",
            "60/75 [=======================>......] - ETA: 0s - loss: 0.1764 - accuracy: 0.9299\n",
            "Epoch 2: val_loss improved from 0.19015 to 0.16452, saving model to best_model_2.h5\n",
            "75/75 [==============================] - 0s 4ms/step - loss: 0.1725 - accuracy: 0.9323 - val_loss: 0.1645 - val_accuracy: 0.9325\n",
            "Epoch 3/20\n",
            "67/75 [=========================>....] - ETA: 0s - loss: 0.1489 - accuracy: 0.9415\n",
            "Epoch 3: val_loss improved from 0.16452 to 0.15283, saving model to best_model_2.h5\n",
            "75/75 [==============================] - 0s 5ms/step - loss: 0.1488 - accuracy: 0.9421 - val_loss: 0.1528 - val_accuracy: 0.9396\n",
            "Epoch 4/20\n",
            "66/75 [=========================>....] - ETA: 0s - loss: 0.1394 - accuracy: 0.9444\n",
            "Epoch 4: val_loss improved from 0.15283 to 0.14631, saving model to best_model_2.h5\n",
            "75/75 [==============================] - 0s 5ms/step - loss: 0.1376 - accuracy: 0.9459 - val_loss: 0.1463 - val_accuracy: 0.9413\n",
            "Epoch 5/20\n",
            "67/75 [=========================>....] - ETA: 0s - loss: 0.1296 - accuracy: 0.9522\n",
            "Epoch 5: val_loss improved from 0.14631 to 0.13262, saving model to best_model_2.h5\n",
            "75/75 [==============================] - 0s 6ms/step - loss: 0.1294 - accuracy: 0.9523 - val_loss: 0.1326 - val_accuracy: 0.9463\n",
            "Epoch 6/20\n",
            "66/75 [=========================>....] - ETA: 0s - loss: 0.1186 - accuracy: 0.9580\n",
            "Epoch 6: val_loss improved from 0.13262 to 0.12555, saving model to best_model_2.h5\n",
            "75/75 [==============================] - 0s 5ms/step - loss: 0.1207 - accuracy: 0.9572 - val_loss: 0.1256 - val_accuracy: 0.9538\n",
            "Epoch 7/20\n",
            "72/75 [===========================>..] - ETA: 0s - loss: 0.1114 - accuracy: 0.9592\n",
            "Epoch 7: val_loss did not improve from 0.12555\n",
            "75/75 [==============================] - 0s 5ms/step - loss: 0.1128 - accuracy: 0.9583 - val_loss: 0.1274 - val_accuracy: 0.9517\n",
            "Epoch 8/20\n",
            "67/75 [=========================>....] - ETA: 0s - loss: 0.1034 - accuracy: 0.9630\n",
            "Epoch 8: val_loss improved from 0.12555 to 0.11857, saving model to best_model_2.h5\n",
            "75/75 [==============================] - 0s 6ms/step - loss: 0.1051 - accuracy: 0.9626 - val_loss: 0.1186 - val_accuracy: 0.9538\n",
            "Epoch 9/20\n",
            "71/75 [===========================>..] - ETA: 0s - loss: 0.0998 - accuracy: 0.9662\n",
            "Epoch 9: val_loss improved from 0.11857 to 0.11750, saving model to best_model_2.h5\n",
            "75/75 [==============================] - 0s 4ms/step - loss: 0.0995 - accuracy: 0.9666 - val_loss: 0.1175 - val_accuracy: 0.9563\n",
            "Epoch 10/20\n",
            "60/75 [=======================>......] - ETA: 0s - loss: 0.0930 - accuracy: 0.9680\n",
            "Epoch 10: val_loss improved from 0.11750 to 0.11407, saving model to best_model_2.h5\n",
            "75/75 [==============================] - 0s 4ms/step - loss: 0.0934 - accuracy: 0.9681 - val_loss: 0.1141 - val_accuracy: 0.9554\n",
            "Epoch 11/20\n",
            "56/75 [=====================>........] - ETA: 0s - loss: 0.0932 - accuracy: 0.9675\n",
            "Epoch 11: val_loss improved from 0.11407 to 0.10970, saving model to best_model_2.h5\n",
            "75/75 [==============================] - 0s 4ms/step - loss: 0.0905 - accuracy: 0.9684 - val_loss: 0.1097 - val_accuracy: 0.9633\n",
            "Epoch 12/20\n",
            "58/75 [======================>.......] - ETA: 0s - loss: 0.0870 - accuracy: 0.9705\n",
            "Epoch 12: val_loss improved from 0.10970 to 0.10672, saving model to best_model_2.h5\n",
            "75/75 [==============================] - 0s 4ms/step - loss: 0.0853 - accuracy: 0.9716 - val_loss: 0.1067 - val_accuracy: 0.9638\n",
            "Epoch 13/20\n",
            "59/75 [======================>.......] - ETA: 0s - loss: 0.0839 - accuracy: 0.9695\n",
            "Epoch 13: val_loss did not improve from 0.10672\n",
            "75/75 [==============================] - 0s 4ms/step - loss: 0.0838 - accuracy: 0.9688 - val_loss: 0.1182 - val_accuracy: 0.9571\n",
            "Epoch 14/20\n",
            "73/75 [============================>.] - ETA: 0s - loss: 0.0798 - accuracy: 0.9728\n",
            "Epoch 14: val_loss improved from 0.10672 to 0.10556, saving model to best_model_2.h5\n",
            "75/75 [==============================] - 0s 4ms/step - loss: 0.0796 - accuracy: 0.9725 - val_loss: 0.1056 - val_accuracy: 0.9663\n",
            "Epoch 15/20\n",
            "58/75 [======================>.......] - ETA: 0s - loss: 0.0703 - accuracy: 0.9756\n",
            "Epoch 15: val_loss improved from 0.10556 to 0.10086, saving model to best_model_2.h5\n",
            "75/75 [==============================] - 0s 4ms/step - loss: 0.0738 - accuracy: 0.9743 - val_loss: 0.1009 - val_accuracy: 0.9642\n",
            "Epoch 16/20\n",
            "60/75 [=======================>......] - ETA: 0s - loss: 0.0711 - accuracy: 0.9770\n",
            "Epoch 16: val_loss did not improve from 0.10086\n",
            "75/75 [==============================] - 0s 4ms/step - loss: 0.0709 - accuracy: 0.9768 - val_loss: 0.1071 - val_accuracy: 0.9629\n",
            "Epoch 17/20\n",
            "60/75 [=======================>......] - ETA: 0s - loss: 0.0672 - accuracy: 0.9784\n",
            "Epoch 17: val_loss improved from 0.10086 to 0.10008, saving model to best_model_2.h5\n",
            "75/75 [==============================] - 0s 4ms/step - loss: 0.0697 - accuracy: 0.9776 - val_loss: 0.1001 - val_accuracy: 0.9633\n",
            "Epoch 18/20\n",
            "73/75 [============================>.] - ETA: 0s - loss: 0.0716 - accuracy: 0.9735\n",
            "Epoch 18: val_loss did not improve from 0.10008\n",
            "75/75 [==============================] - 0s 4ms/step - loss: 0.0707 - accuracy: 0.9740 - val_loss: 0.1027 - val_accuracy: 0.9633\n",
            "Epoch 19/20\n",
            "72/75 [===========================>..] - ETA: 0s - loss: 0.0660 - accuracy: 0.9762\n",
            "Epoch 19: val_loss improved from 0.10008 to 0.09931, saving model to best_model_2.h5\n",
            "75/75 [==============================] - 0s 4ms/step - loss: 0.0653 - accuracy: 0.9766 - val_loss: 0.0993 - val_accuracy: 0.9633\n",
            "Epoch 20/20\n",
            "57/75 [=====================>........] - ETA: 0s - loss: 0.0599 - accuracy: 0.9782\n",
            "Epoch 20: val_loss did not improve from 0.09931\n",
            "75/75 [==============================] - 0s 4ms/step - loss: 0.0612 - accuracy: 0.9780 - val_loss: 0.1153 - val_accuracy: 0.9554\n",
            "train: [    1     2     3 ... 11994 11995 11996], val: [    0    13    19 ... 11997 11998 11999]\n",
            "Epoch 1/20\n",
            "60/75 [=======================>......] - ETA: 0s - loss: 0.2270 - accuracy: 0.9046\n",
            "Epoch 1: val_loss improved from inf to 0.17015, saving model to best_model_3.h5\n",
            "75/75 [==============================] - 1s 6ms/step - loss: 0.2170 - accuracy: 0.9096 - val_loss: 0.1702 - val_accuracy: 0.9362\n",
            "Epoch 2/20\n",
            "59/75 [======================>.......] - ETA: 0s - loss: 0.1624 - accuracy: 0.9360\n",
            "Epoch 2: val_loss improved from 0.17015 to 0.15439, saving model to best_model_3.h5\n",
            "75/75 [==============================] - 0s 4ms/step - loss: 0.1630 - accuracy: 0.9356 - val_loss: 0.1544 - val_accuracy: 0.9333\n",
            "Epoch 3/20\n",
            "59/75 [======================>.......] - ETA: 0s - loss: 0.1559 - accuracy: 0.9403\n",
            "Epoch 3: val_loss improved from 0.15439 to 0.14148, saving model to best_model_3.h5\n",
            "75/75 [==============================] - 0s 4ms/step - loss: 0.1527 - accuracy: 0.9411 - val_loss: 0.1415 - val_accuracy: 0.9488\n",
            "Epoch 4/20\n",
            "72/75 [===========================>..] - ETA: 0s - loss: 0.1367 - accuracy: 0.9467\n",
            "Epoch 4: val_loss improved from 0.14148 to 0.13944, saving model to best_model_3.h5\n",
            "75/75 [==============================] - 0s 4ms/step - loss: 0.1355 - accuracy: 0.9474 - val_loss: 0.1394 - val_accuracy: 0.9442\n",
            "Epoch 5/20\n",
            "59/75 [======================>.......] - ETA: 0s - loss: 0.1249 - accuracy: 0.9538\n",
            "Epoch 5: val_loss did not improve from 0.13944\n",
            "75/75 [==============================] - 0s 4ms/step - loss: 0.1228 - accuracy: 0.9540 - val_loss: 0.1474 - val_accuracy: 0.9458\n",
            "Epoch 6/20\n",
            "60/75 [=======================>......] - ETA: 0s - loss: 0.1154 - accuracy: 0.9587\n",
            "Epoch 6: val_loss improved from 0.13944 to 0.12367, saving model to best_model_3.h5\n",
            "75/75 [==============================] - 0s 4ms/step - loss: 0.1177 - accuracy: 0.9566 - val_loss: 0.1237 - val_accuracy: 0.9496\n",
            "Epoch 7/20\n",
            "60/75 [=======================>......] - ETA: 0s - loss: 0.1060 - accuracy: 0.9622\n",
            "Epoch 7: val_loss improved from 0.12367 to 0.11480, saving model to best_model_3.h5\n",
            "75/75 [==============================] - 0s 4ms/step - loss: 0.1087 - accuracy: 0.9622 - val_loss: 0.1148 - val_accuracy: 0.9546\n",
            "Epoch 8/20\n",
            "70/75 [===========================>..] - ETA: 0s - loss: 0.1025 - accuracy: 0.9633\n",
            "Epoch 8: val_loss improved from 0.11480 to 0.11294, saving model to best_model_3.h5\n",
            "75/75 [==============================] - 0s 4ms/step - loss: 0.1031 - accuracy: 0.9633 - val_loss: 0.1129 - val_accuracy: 0.9546\n",
            "Epoch 9/20\n",
            "69/75 [==========================>...] - ETA: 0s - loss: 0.0929 - accuracy: 0.9676\n",
            "Epoch 9: val_loss did not improve from 0.11294\n",
            "75/75 [==============================] - 0s 4ms/step - loss: 0.0948 - accuracy: 0.9675 - val_loss: 0.1208 - val_accuracy: 0.9533\n",
            "Epoch 10/20\n",
            "68/75 [==========================>...] - ETA: 0s - loss: 0.0877 - accuracy: 0.9696\n",
            "Epoch 10: val_loss did not improve from 0.11294\n",
            "75/75 [==============================] - 0s 4ms/step - loss: 0.0893 - accuracy: 0.9689 - val_loss: 0.1140 - val_accuracy: 0.9542\n",
            "Epoch 11/20\n",
            "63/75 [========================>.....] - ETA: 0s - loss: 0.0881 - accuracy: 0.9692\n",
            "Epoch 11: val_loss did not improve from 0.11294\n",
            "75/75 [==============================] - 0s 4ms/step - loss: 0.0877 - accuracy: 0.9699 - val_loss: 0.1205 - val_accuracy: 0.9546\n",
            "Epoch 12/20\n",
            "75/75 [==============================] - ETA: 0s - loss: 0.0817 - accuracy: 0.9715\n",
            "Epoch 12: val_loss did not improve from 0.11294\n",
            "75/75 [==============================] - 0s 4ms/step - loss: 0.0817 - accuracy: 0.9715 - val_loss: 0.1191 - val_accuracy: 0.9575\n",
            "Epoch 13/20\n",
            "60/75 [=======================>......] - ETA: 0s - loss: 0.0758 - accuracy: 0.9745\n",
            "Epoch 13: val_loss improved from 0.11294 to 0.10112, saving model to best_model_3.h5\n",
            "75/75 [==============================] - 0s 4ms/step - loss: 0.0775 - accuracy: 0.9747 - val_loss: 0.1011 - val_accuracy: 0.9633\n",
            "Epoch 14/20\n",
            "69/75 [==========================>...] - ETA: 0s - loss: 0.0768 - accuracy: 0.9728\n",
            "Epoch 14: val_loss did not improve from 0.10112\n",
            "75/75 [==============================] - 0s 4ms/step - loss: 0.0763 - accuracy: 0.9731 - val_loss: 0.1053 - val_accuracy: 0.9588\n",
            "Epoch 15/20\n",
            "69/75 [==========================>...] - ETA: 0s - loss: 0.0733 - accuracy: 0.9731\n",
            "Epoch 15: val_loss did not improve from 0.10112\n",
            "75/75 [==============================] - 0s 4ms/step - loss: 0.0744 - accuracy: 0.9727 - val_loss: 0.1135 - val_accuracy: 0.9546\n",
            "Epoch 16/20\n",
            "58/75 [======================>.......] - ETA: 0s - loss: 0.0641 - accuracy: 0.9778\n",
            "Epoch 16: val_loss improved from 0.10112 to 0.09862, saving model to best_model_3.h5\n",
            "75/75 [==============================] - 0s 4ms/step - loss: 0.0659 - accuracy: 0.9778 - val_loss: 0.0986 - val_accuracy: 0.9638\n",
            "Epoch 17/20\n",
            "75/75 [==============================] - ETA: 0s - loss: 0.0624 - accuracy: 0.9790\n",
            "Epoch 17: val_loss improved from 0.09862 to 0.09483, saving model to best_model_3.h5\n",
            "75/75 [==============================] - 0s 4ms/step - loss: 0.0624 - accuracy: 0.9790 - val_loss: 0.0948 - val_accuracy: 0.9646\n",
            "Epoch 18/20\n",
            "71/75 [===========================>..] - ETA: 0s - loss: 0.0621 - accuracy: 0.9785\n",
            "Epoch 18: val_loss did not improve from 0.09483\n",
            "75/75 [==============================] - 0s 4ms/step - loss: 0.0627 - accuracy: 0.9786 - val_loss: 0.0978 - val_accuracy: 0.9646\n",
            "Epoch 19/20\n",
            "68/75 [==========================>...] - ETA: 0s - loss: 0.0603 - accuracy: 0.9800\n",
            "Epoch 19: val_loss did not improve from 0.09483\n",
            "75/75 [==============================] - 0s 5ms/step - loss: 0.0593 - accuracy: 0.9804 - val_loss: 0.1092 - val_accuracy: 0.9592\n",
            "Epoch 20/20\n",
            "75/75 [==============================] - ETA: 0s - loss: 0.0582 - accuracy: 0.9810\n",
            "Epoch 20: val_loss did not improve from 0.09483\n",
            "75/75 [==============================] - 0s 5ms/step - loss: 0.0582 - accuracy: 0.9810 - val_loss: 0.0982 - val_accuracy: 0.9654\n",
            "train: [    0     1     2 ... 11997 11998 11999], val: [    7     9    21 ... 11948 11952 11955]\n",
            "Epoch 1/20\n",
            "74/75 [============================>.] - ETA: 0s - loss: 0.2461 - accuracy: 0.8961\n",
            "Epoch 1: val_loss improved from inf to 0.19542, saving model to best_model_4.h5\n",
            "75/75 [==============================] - 1s 6ms/step - loss: 0.2452 - accuracy: 0.8960 - val_loss: 0.1954 - val_accuracy: 0.9292\n",
            "Epoch 2/20\n",
            "57/75 [=====================>........] - ETA: 0s - loss: 0.1734 - accuracy: 0.9326\n",
            "Epoch 2: val_loss improved from 0.19542 to 0.15902, saving model to best_model_4.h5\n",
            "75/75 [==============================] - 0s 4ms/step - loss: 0.1703 - accuracy: 0.9328 - val_loss: 0.1590 - val_accuracy: 0.9408\n",
            "Epoch 3/20\n",
            "73/75 [============================>.] - ETA: 0s - loss: 0.1535 - accuracy: 0.9417\n",
            "Epoch 3: val_loss improved from 0.15902 to 0.15706, saving model to best_model_4.h5\n",
            "75/75 [==============================] - 0s 4ms/step - loss: 0.1521 - accuracy: 0.9420 - val_loss: 0.1571 - val_accuracy: 0.9367\n",
            "Epoch 4/20\n",
            "60/75 [=======================>......] - ETA: 0s - loss: 0.1411 - accuracy: 0.9475\n",
            "Epoch 4: val_loss improved from 0.15706 to 0.13875, saving model to best_model_4.h5\n",
            "75/75 [==============================] - 0s 4ms/step - loss: 0.1383 - accuracy: 0.9480 - val_loss: 0.1387 - val_accuracy: 0.9442\n",
            "Epoch 5/20\n",
            "57/75 [=====================>........] - ETA: 0s - loss: 0.1276 - accuracy: 0.9524\n",
            "Epoch 5: val_loss improved from 0.13875 to 0.12843, saving model to best_model_4.h5\n",
            "75/75 [==============================] - 0s 4ms/step - loss: 0.1308 - accuracy: 0.9511 - val_loss: 0.1284 - val_accuracy: 0.9525\n",
            "Epoch 6/20\n",
            "57/75 [=====================>........] - ETA: 0s - loss: 0.1224 - accuracy: 0.9524\n",
            "Epoch 6: val_loss did not improve from 0.12843\n",
            "75/75 [==============================] - 0s 4ms/step - loss: 0.1189 - accuracy: 0.9543 - val_loss: 0.1456 - val_accuracy: 0.9475\n",
            "Epoch 7/20\n",
            "58/75 [======================>.......] - ETA: 0s - loss: 0.1122 - accuracy: 0.9599\n",
            "Epoch 7: val_loss improved from 0.12843 to 0.12109, saving model to best_model_4.h5\n",
            "75/75 [==============================] - 0s 4ms/step - loss: 0.1127 - accuracy: 0.9581 - val_loss: 0.1211 - val_accuracy: 0.9525\n",
            "Epoch 8/20\n",
            "60/75 [=======================>......] - ETA: 0s - loss: 0.1135 - accuracy: 0.9603\n",
            "Epoch 8: val_loss improved from 0.12109 to 0.10824, saving model to best_model_4.h5\n",
            "75/75 [==============================] - 0s 4ms/step - loss: 0.1093 - accuracy: 0.9611 - val_loss: 0.1082 - val_accuracy: 0.9625\n",
            "Epoch 9/20\n",
            "73/75 [============================>.] - ETA: 0s - loss: 0.1012 - accuracy: 0.9646\n",
            "Epoch 9: val_loss did not improve from 0.10824\n",
            "75/75 [==============================] - 0s 4ms/step - loss: 0.1016 - accuracy: 0.9647 - val_loss: 0.1086 - val_accuracy: 0.9596\n",
            "Epoch 10/20\n",
            "74/75 [============================>.] - ETA: 0s - loss: 0.0953 - accuracy: 0.9660\n",
            "Epoch 10: val_loss improved from 0.10824 to 0.10745, saving model to best_model_4.h5\n",
            "75/75 [==============================] - 0s 4ms/step - loss: 0.0956 - accuracy: 0.9658 - val_loss: 0.1075 - val_accuracy: 0.9563\n",
            "Epoch 11/20\n",
            "58/75 [======================>.......] - ETA: 0s - loss: 0.0939 - accuracy: 0.9659\n",
            "Epoch 11: val_loss did not improve from 0.10745\n",
            "75/75 [==============================] - 0s 4ms/step - loss: 0.0903 - accuracy: 0.9685 - val_loss: 0.1133 - val_accuracy: 0.9592\n",
            "Epoch 12/20\n",
            "60/75 [=======================>......] - ETA: 0s - loss: 0.0930 - accuracy: 0.9676\n",
            "Epoch 12: val_loss improved from 0.10745 to 0.09976, saving model to best_model_4.h5\n",
            "75/75 [==============================] - 0s 4ms/step - loss: 0.0913 - accuracy: 0.9678 - val_loss: 0.0998 - val_accuracy: 0.9617\n",
            "Epoch 13/20\n",
            "60/75 [=======================>......] - ETA: 0s - loss: 0.0807 - accuracy: 0.9707\n",
            "Epoch 13: val_loss improved from 0.09976 to 0.09765, saving model to best_model_4.h5\n",
            "75/75 [==============================] - 0s 4ms/step - loss: 0.0817 - accuracy: 0.9709 - val_loss: 0.0977 - val_accuracy: 0.9633\n",
            "Epoch 14/20\n",
            "56/75 [=====================>........] - ETA: 0s - loss: 0.0838 - accuracy: 0.9701\n",
            "Epoch 14: val_loss improved from 0.09765 to 0.09720, saving model to best_model_4.h5\n",
            "75/75 [==============================] - 0s 4ms/step - loss: 0.0807 - accuracy: 0.9717 - val_loss: 0.0972 - val_accuracy: 0.9638\n",
            "Epoch 15/20\n",
            "59/75 [======================>.......] - ETA: 0s - loss: 0.0740 - accuracy: 0.9740\n",
            "Epoch 15: val_loss did not improve from 0.09720\n",
            "75/75 [==============================] - 0s 3ms/step - loss: 0.0768 - accuracy: 0.9736 - val_loss: 0.1137 - val_accuracy: 0.9613\n",
            "Epoch 16/20\n",
            "58/75 [======================>.......] - ETA: 0s - loss: 0.0768 - accuracy: 0.9716\n",
            "Epoch 16: val_loss did not improve from 0.09720\n",
            "75/75 [==============================] - 0s 4ms/step - loss: 0.0762 - accuracy: 0.9723 - val_loss: 0.0978 - val_accuracy: 0.9646\n",
            "Epoch 17/20\n",
            "75/75 [==============================] - ETA: 0s - loss: 0.0694 - accuracy: 0.9757\n",
            "Epoch 17: val_loss did not improve from 0.09720\n",
            "75/75 [==============================] - 0s 4ms/step - loss: 0.0694 - accuracy: 0.9757 - val_loss: 0.0999 - val_accuracy: 0.9633\n",
            "Epoch 18/20\n",
            "58/75 [======================>.......] - ETA: 0s - loss: 0.0744 - accuracy: 0.9732\n",
            "Epoch 18: val_loss improved from 0.09720 to 0.09132, saving model to best_model_4.h5\n",
            "75/75 [==============================] - 0s 4ms/step - loss: 0.0706 - accuracy: 0.9749 - val_loss: 0.0913 - val_accuracy: 0.9671\n",
            "Epoch 19/20\n",
            "58/75 [======================>.......] - ETA: 0s - loss: 0.0650 - accuracy: 0.9779\n",
            "Epoch 19: val_loss did not improve from 0.09132\n",
            "75/75 [==============================] - 0s 3ms/step - loss: 0.0649 - accuracy: 0.9784 - val_loss: 0.0926 - val_accuracy: 0.9650\n",
            "Epoch 20/20\n",
            "56/75 [=====================>........] - ETA: 0s - loss: 0.0627 - accuracy: 0.9768\n",
            "Epoch 20: val_loss did not improve from 0.09132\n",
            "75/75 [==============================] - 0s 3ms/step - loss: 0.0632 - accuracy: 0.9765 - val_loss: 0.0918 - val_accuracy: 0.9658\n",
            "train: [    0     2     3 ... 11997 11998 11999], val: [    1    12    14 ... 11985 11995 11996]\n",
            "Epoch 1/20\n",
            "71/75 [===========================>..] - ETA: 0s - loss: 0.2401 - accuracy: 0.9004\n",
            "Epoch 1: val_loss improved from inf to 0.18841, saving model to best_model_5.h5\n",
            "75/75 [==============================] - 2s 8ms/step - loss: 0.2370 - accuracy: 0.9015 - val_loss: 0.1884 - val_accuracy: 0.9242\n",
            "Epoch 2/20\n",
            "69/75 [==========================>...] - ETA: 0s - loss: 0.1678 - accuracy: 0.9348\n",
            "Epoch 2: val_loss improved from 0.18841 to 0.17561, saving model to best_model_5.h5\n",
            "75/75 [==============================] - 0s 5ms/step - loss: 0.1660 - accuracy: 0.9352 - val_loss: 0.1756 - val_accuracy: 0.9333\n",
            "Epoch 3/20\n",
            "68/75 [==========================>...] - ETA: 0s - loss: 0.1479 - accuracy: 0.9444\n",
            "Epoch 3: val_loss improved from 0.17561 to 0.14748, saving model to best_model_5.h5\n",
            "75/75 [==============================] - 0s 5ms/step - loss: 0.1460 - accuracy: 0.9443 - val_loss: 0.1475 - val_accuracy: 0.9429\n",
            "Epoch 4/20\n",
            "62/75 [=======================>......] - ETA: 0s - loss: 0.1428 - accuracy: 0.9444\n",
            "Epoch 4: val_loss improved from 0.14748 to 0.13909, saving model to best_model_5.h5\n",
            "75/75 [==============================] - 0s 4ms/step - loss: 0.1426 - accuracy: 0.9438 - val_loss: 0.1391 - val_accuracy: 0.9488\n",
            "Epoch 5/20\n",
            "75/75 [==============================] - ETA: 0s - loss: 0.1237 - accuracy: 0.9539\n",
            "Epoch 5: val_loss improved from 0.13909 to 0.13267, saving model to best_model_5.h5\n",
            "75/75 [==============================] - 0s 4ms/step - loss: 0.1237 - accuracy: 0.9539 - val_loss: 0.1327 - val_accuracy: 0.9538\n",
            "Epoch 6/20\n",
            "74/75 [============================>.] - ETA: 0s - loss: 0.1179 - accuracy: 0.9573\n",
            "Epoch 6: val_loss did not improve from 0.13267\n",
            "75/75 [==============================] - 0s 4ms/step - loss: 0.1184 - accuracy: 0.9570 - val_loss: 0.1337 - val_accuracy: 0.9571\n",
            "Epoch 7/20\n",
            "62/75 [=======================>......] - ETA: 0s - loss: 0.1128 - accuracy: 0.9596\n",
            "Epoch 7: val_loss improved from 0.13267 to 0.13165, saving model to best_model_5.h5\n",
            "75/75 [==============================] - 0s 4ms/step - loss: 0.1107 - accuracy: 0.9604 - val_loss: 0.1316 - val_accuracy: 0.9529\n",
            "Epoch 8/20\n",
            "58/75 [======================>.......] - ETA: 0s - loss: 0.1036 - accuracy: 0.9652\n",
            "Epoch 8: val_loss improved from 0.13165 to 0.11772, saving model to best_model_5.h5\n",
            "75/75 [==============================] - 0s 4ms/step - loss: 0.1022 - accuracy: 0.9647 - val_loss: 0.1177 - val_accuracy: 0.9604\n",
            "Epoch 9/20\n",
            "63/75 [========================>.....] - ETA: 0s - loss: 0.0999 - accuracy: 0.9625\n",
            "Epoch 9: val_loss did not improve from 0.11772\n",
            "75/75 [==============================] - 0s 3ms/step - loss: 0.0962 - accuracy: 0.9642 - val_loss: 0.1182 - val_accuracy: 0.9633\n",
            "Epoch 10/20\n",
            "57/75 [=====================>........] - ETA: 0s - loss: 0.0915 - accuracy: 0.9667\n",
            "Epoch 10: val_loss did not improve from 0.11772\n",
            "75/75 [==============================] - 0s 4ms/step - loss: 0.0927 - accuracy: 0.9674 - val_loss: 0.1225 - val_accuracy: 0.9600\n",
            "Epoch 11/20\n",
            "75/75 [==============================] - ETA: 0s - loss: 0.0892 - accuracy: 0.9684\n",
            "Epoch 11: val_loss did not improve from 0.11772\n",
            "75/75 [==============================] - 0s 4ms/step - loss: 0.0892 - accuracy: 0.9684 - val_loss: 0.1190 - val_accuracy: 0.9592\n",
            "Epoch 12/20\n",
            "73/75 [============================>.] - ETA: 0s - loss: 0.0825 - accuracy: 0.9708\n",
            "Epoch 12: val_loss improved from 0.11772 to 0.11318, saving model to best_model_5.h5\n",
            "75/75 [==============================] - 0s 4ms/step - loss: 0.0830 - accuracy: 0.9705 - val_loss: 0.1132 - val_accuracy: 0.9621\n",
            "Epoch 13/20\n",
            "73/75 [============================>.] - ETA: 0s - loss: 0.0806 - accuracy: 0.9702\n",
            "Epoch 13: val_loss improved from 0.11318 to 0.10914, saving model to best_model_5.h5\n",
            "75/75 [==============================] - 0s 4ms/step - loss: 0.0798 - accuracy: 0.9705 - val_loss: 0.1091 - val_accuracy: 0.9650\n",
            "Epoch 14/20\n",
            "74/75 [============================>.] - ETA: 0s - loss: 0.0779 - accuracy: 0.9730\n",
            "Epoch 14: val_loss improved from 0.10914 to 0.10894, saving model to best_model_5.h5\n",
            "75/75 [==============================] - 0s 5ms/step - loss: 0.0777 - accuracy: 0.9730 - val_loss: 0.1089 - val_accuracy: 0.9663\n",
            "Epoch 15/20\n",
            "68/75 [==========================>...] - ETA: 0s - loss: 0.0752 - accuracy: 0.9730\n",
            "Epoch 15: val_loss improved from 0.10894 to 0.10863, saving model to best_model_5.h5\n",
            "75/75 [==============================] - 1s 8ms/step - loss: 0.0734 - accuracy: 0.9734 - val_loss: 0.1086 - val_accuracy: 0.9642\n",
            "Epoch 16/20\n",
            "57/75 [=====================>........] - ETA: 0s - loss: 0.0718 - accuracy: 0.9753\n",
            "Epoch 16: val_loss improved from 0.10863 to 0.10636, saving model to best_model_5.h5\n",
            "75/75 [==============================] - 0s 4ms/step - loss: 0.0707 - accuracy: 0.9752 - val_loss: 0.1064 - val_accuracy: 0.9692\n",
            "Epoch 17/20\n",
            "75/75 [==============================] - ETA: 0s - loss: 0.0701 - accuracy: 0.9759\n",
            "Epoch 17: val_loss improved from 0.10636 to 0.10288, saving model to best_model_5.h5\n",
            "75/75 [==============================] - 0s 4ms/step - loss: 0.0701 - accuracy: 0.9759 - val_loss: 0.1029 - val_accuracy: 0.9683\n",
            "Epoch 18/20\n",
            "74/75 [============================>.] - ETA: 0s - loss: 0.0674 - accuracy: 0.9775\n",
            "Epoch 18: val_loss did not improve from 0.10288\n",
            "75/75 [==============================] - 0s 4ms/step - loss: 0.0677 - accuracy: 0.9773 - val_loss: 0.1172 - val_accuracy: 0.9654\n",
            "Epoch 19/20\n",
            "58/75 [======================>.......] - ETA: 0s - loss: 0.0645 - accuracy: 0.9786\n",
            "Epoch 19: val_loss did not improve from 0.10288\n",
            "75/75 [==============================] - 0s 3ms/step - loss: 0.0626 - accuracy: 0.9791 - val_loss: 0.1153 - val_accuracy: 0.9650\n",
            "Epoch 20/20\n",
            "56/75 [=====================>........] - ETA: 0s - loss: 0.0653 - accuracy: 0.9767\n",
            "Epoch 20: val_loss did not improve from 0.10288\n",
            "75/75 [==============================] - 0s 4ms/step - loss: 0.0665 - accuracy: 0.9759 - val_loss: 0.1080 - val_accuracy: 0.9667\n"
          ]
        }
      ]
    },
    {
      "cell_type": "code",
      "metadata": {
        "id": "k6PBgtRoOCEK",
        "colab": {
          "base_uri": "https://localhost:8080/"
        },
        "outputId": "c76bc2ee-d442-401e-dc86-e95c5b7016cb"
      },
      "source": [
        "print(np.mean(np.round(history_3.model.predict(X_val_binary))==Y_val_binary.reshape(-1,1)))\n",
        "print(np.mean(np.round(history_3.model.predict(x_test_binary))==y_test_binary.reshape(-1,1)))"
      ],
      "execution_count": 45,
      "outputs": [
        {
          "output_type": "stream",
          "name": "stdout",
          "text": [
            "75/75 [==============================] - 0s 2ms/step\n",
            "0.9666666666666667\n",
            "63/63 [==============================] - 0s 2ms/step\n",
            "0.963\n"
          ]
        }
      ]
    },
    {
      "cell_type": "code",
      "metadata": {
        "id": "lgBoo6qwOePl",
        "colab": {
          "base_uri": "https://localhost:8080/"
        },
        "outputId": "e794c1ad-3aae-49d1-cf1e-d9611822bcaa"
      },
      "source": [
        "history_3.model.load_weights('best_model_'+str(5)+'.h5')\n",
        "print(np.mean(np.round(history_3.model.predict(X_val_binary))==Y_val_binary.reshape(-1,1)))\n",
        "print(np.mean(np.round(history_3.model.predict(x_test_binary))==y_test_binary.reshape(-1,1)))"
      ],
      "execution_count": 46,
      "outputs": [
        {
          "output_type": "stream",
          "name": "stdout",
          "text": [
            "75/75 [==============================] - 0s 2ms/step\n",
            "0.9683333333333334\n",
            "63/63 [==============================] - 0s 2ms/step\n",
            "0.962\n"
          ]
        }
      ]
    },
    {
      "cell_type": "markdown",
      "metadata": {
        "id": "iqBE6nvYZM-V"
      },
      "source": [
        "#Automatic hyperparameter search platform -> wandb sweeps"
      ]
    },
    {
      "cell_type": "markdown",
      "metadata": {
        "id": "R-OPEMo0Zgg4"
      },
      "source": [
        "example_1: https://colab.research.google.com/github/wandb/examples/blob/master/colabs/pytorch/Organizing_Hyperparameter_Sweeps_in_PyTorch_with_W%26B.ipynb\n",
        "\n",
        "example_2: https://colab.research.google.com/drive/181GCGp36_75C2zm7WLxr9U2QjMXXoibt"
      ]
    },
    {
      "cell_type": "markdown",
      "metadata": {
        "id": "T3MtwB1waCIb"
      },
      "source": [
        "TO DO:\n",
        "Using grid search and x[:10000] as val set, so x[10000:] as training execute a dummy hyperparameter on the multiclass classification task (not binary).\n",
        "Search for 100 epochs:\n",
        "1. layers: [64, 96, 128]\n",
        "2. learning rate: [0.001, 0.003, 0.005]\n",
        "3. dropout: [0.3, 0.4, 0.5]\n",
        "4. minimize loss"
      ]
    },
    {
      "cell_type": "code",
      "metadata": {
        "id": "iZWYNFH_Zdfp",
        "colab": {
          "base_uri": "https://localhost:8080/"
        },
        "outputId": "e761ba16-369b-435a-c858-d1ae58ab2e2f"
      },
      "source": [
        "# WandB – Install the W&B library\n",
        "%pip install wandb -q\n",
        "import wandb\n",
        "from wandb.keras import WandbCallback"
      ],
      "execution_count": 47,
      "outputs": [
        {
          "output_type": "stream",
          "name": "stdout",
          "text": [
            "\u001b[2K     \u001b[90m━━━━━━━━━━━━━━━━━━━━━━━━━━━━━━━━━━━━━━━━\u001b[0m \u001b[32m2.2/2.2 MB\u001b[0m \u001b[31m14.8 MB/s\u001b[0m eta \u001b[36m0:00:00\u001b[0m\n",
            "\u001b[2K     \u001b[90m━━━━━━━━━━━━━━━━━━━━━━━━━━━━━━━━━━━━━━━━\u001b[0m \u001b[32m207.3/207.3 kB\u001b[0m \u001b[31m17.1 MB/s\u001b[0m eta \u001b[36m0:00:00\u001b[0m\n",
            "\u001b[2K     \u001b[90m━━━━━━━━━━━━━━━━━━━━━━━━━━━━━━━━━━━━━━━━\u001b[0m \u001b[32m267.1/267.1 kB\u001b[0m \u001b[31m20.2 MB/s\u001b[0m eta \u001b[36m0:00:00\u001b[0m\n",
            "\u001b[2K     \u001b[90m━━━━━━━━━━━━━━━━━━━━━━━━━━━━━━━━━━━━━━━━\u001b[0m \u001b[32m62.7/62.7 kB\u001b[0m \u001b[31m8.1 MB/s\u001b[0m eta \u001b[36m0:00:00\u001b[0m\n",
            "\u001b[?25h"
          ]
        }
      ]
    },
    {
      "cell_type": "code",
      "metadata": {
        "id": "xosCy6fLwnOC",
        "colab": {
          "base_uri": "https://localhost:8080/"
        },
        "outputId": "107640d8-c736-4882-cbff-eef6c1920d58"
      },
      "source": [
        "import tensorflow as tf\n",
        "from tensorflow import keras\n",
        "from tensorflow.keras.models import Sequential\n",
        "from tensorflow.keras.layers import Dense, Dropout\n",
        "import matplotlib.pyplot as plt\n",
        "%matplotlib inline\n",
        "\n",
        "!pip install wandb -qq\n",
        "import wandb\n",
        "from wandb.keras import WandbCallback\n",
        "from tensorflow.keras.callbacks import Callback, ModelCheckpoint,EarlyStopping\n",
        "\n",
        "!wandb login --relogin\n",
        "wandb.login() #just click the link and copy paste the pass"
      ],
      "execution_count": 48,
      "outputs": [
        {
          "output_type": "stream",
          "name": "stdout",
          "text": [
            "\u001b[34m\u001b[1mwandb\u001b[0m: Logging into wandb.ai. (Learn how to deploy a W&B server locally: https://wandb.me/wandb-server)\n",
            "\u001b[34m\u001b[1mwandb\u001b[0m: You can find your API key in your browser here: https://wandb.ai/authorize\n",
            "\u001b[34m\u001b[1mwandb\u001b[0m: Paste an API key from your profile and hit enter, or press ctrl+c to quit: \n",
            "\u001b[34m\u001b[1mwandb\u001b[0m: Appending key for api.wandb.ai to your netrc file: /root/.netrc\n"
          ]
        },
        {
          "output_type": "stream",
          "name": "stderr",
          "text": [
            "\u001b[34m\u001b[1mwandb\u001b[0m: Currently logged in as: \u001b[33mpkasnesis\u001b[0m. Use \u001b[1m`wandb login --relogin`\u001b[0m to force relogin\n"
          ]
        },
        {
          "output_type": "execute_result",
          "data": {
            "text/plain": [
              "True"
            ]
          },
          "metadata": {},
          "execution_count": 48
        }
      ]
    },
    {
      "cell_type": "code",
      "metadata": {
        "id": "V9F9rxx2uzLM"
      },
      "source": [
        "sweep_config = {\n",
        "    'method': 'grid'\n",
        "    }"
      ],
      "execution_count": 49,
      "outputs": []
    },
    {
      "cell_type": "code",
      "metadata": {
        "id": "XBvktAlbvGeV"
      },
      "source": [
        "metric = {\n",
        "    'name': 'loss',\n",
        "    'goal': 'minimize'\n",
        "    }\n",
        "\n",
        "sweep_config['metric'] = metric"
      ],
      "execution_count": 50,
      "outputs": []
    },
    {
      "cell_type": "code",
      "metadata": {
        "id": "cLq0AxCYvJIp"
      },
      "source": [
        "parameters_dict = {\n",
        " 'learning-rate':{\n",
        "        'values': [0.001, 0.003, 0.005]\n",
        "        },\n",
        "    'fc_layer_size': {\n",
        "        'values': [128, 256, 512]\n",
        "        },\n",
        "    'dropout': {\n",
        "          'values': [0.3, 0.4, 0.5]\n",
        "        },\n",
        "    }\n",
        "\n",
        "sweep_config['parameters'] = parameters_dict"
      ],
      "execution_count": 51,
      "outputs": []
    },
    {
      "cell_type": "code",
      "metadata": {
        "id": "ey0INJUYwbus"
      },
      "source": [
        "parameters_dict.update({\n",
        "    'epochs': {\n",
        "        'value': 100}\n",
        "    })"
      ],
      "execution_count": 52,
      "outputs": []
    },
    {
      "cell_type": "code",
      "metadata": {
        "colab": {
          "base_uri": "https://localhost:8080/"
        },
        "id": "zWp0T2IwwlQA",
        "outputId": "36cf7521-f7c4-4019-ed14-020cb6e30618"
      },
      "source": [
        "import pprint\n",
        "\n",
        "pprint.pprint(sweep_config)"
      ],
      "execution_count": 53,
      "outputs": [
        {
          "output_type": "stream",
          "name": "stdout",
          "text": [
            "{'method': 'grid',\n",
            " 'metric': {'goal': 'minimize', 'name': 'loss'},\n",
            " 'parameters': {'dropout': {'values': [0.3, 0.4, 0.5]},\n",
            "                'epochs': {'value': 100},\n",
            "                'fc_layer_size': {'values': [128, 256, 512]},\n",
            "                'learning-rate': {'values': [0.001, 0.003, 0.005]}}}\n"
          ]
        }
      ]
    },
    {
      "cell_type": "code",
      "metadata": {
        "colab": {
          "base_uri": "https://localhost:8080/"
        },
        "id": "5o9MxdqEws6Z",
        "outputId": "6e18e02a-75e4-499b-dd30-637673ca26b5"
      },
      "source": [
        "sweep_id = wandb.sweep(sweep_config, entity=\"pkasnesis\", project=\"aidl-a02-week5\")"
      ],
      "execution_count": 54,
      "outputs": [
        {
          "output_type": "stream",
          "name": "stdout",
          "text": [
            "Create sweep with ID: 846jlb6t\n",
            "Sweep URL: https://wandb.ai/pkasnesis/aidl-a02-week5/sweeps/846jlb6t\n"
          ]
        }
      ]
    },
    {
      "cell_type": "code",
      "metadata": {
        "id": "1EE2OVphzANh"
      },
      "source": [
        "X_val = x_train[:10000]\n",
        "X_train = x_train[10000:]\n",
        "X_test = x_test\n",
        "\n",
        "Y_train = tf.keras.utils.to_categorical(y_train[10000:],10)\n",
        "Y_val = tf.keras.utils.to_categorical(y_train[:10000],10)\n",
        "Y_test = tf.keras.utils.to_categorical(y_test,10)"
      ],
      "execution_count": 55,
      "outputs": []
    },
    {
      "cell_type": "code",
      "metadata": {
        "id": "5D71E1Y7xxJu"
      },
      "source": [
        "# The sweep calls this function with each set of hyperparameters\n",
        "def train():\n",
        "    # Default values for hyper-parameters we're going to sweep over\n",
        "    config_defaults = {\n",
        "        'learning_rate': 1e-3,\n",
        "        'dropout': 0.3,\n",
        "        'fc_layer_size': 128,\n",
        "        'seed': 42\n",
        "    }\n",
        "\n",
        "    # Initialize a new wandb run\n",
        "    wandb.init(config=config_defaults)\n",
        "\n",
        "    # Config is a variable that holds and saves hyperparameters and inputs\n",
        "    config = wandb.config\n",
        "\n",
        "    # Define the model architecture\n",
        "    model = Sequential()\n",
        "    model.add(Dense(config.fc_layer_size, activation=\"relu\", input_shape=(x_train.shape[1],)))\n",
        "    model.add(Dropout(config.dropout))\n",
        "    model.add(Dense(10, activation=\"softmax\"))\n",
        "\n",
        "    batch_size = 128\n",
        "\n",
        "    #save_model = ModelCheckpoint('best_model.h5', save_best_only=True, monitor='val_loss', mode='min', verbose=2)\n",
        "    adam = tf.keras.optimizers.Adam(lr=config.learning_rate)\n",
        "\n",
        "    model.compile(loss=\"categorical_crossentropy\", optimizer=adam, metrics=[\"accuracy\"])\n",
        "    model.fit(X_train, Y_train, batch_size=batch_size,\n",
        "              epochs=config.epochs,\n",
        "              validation_data=(X_val, Y_val),\n",
        "              callbacks=[WandbCallback(validation_data=(X_val, Y_val), labels=classes),\n",
        "                          ])#EarlyStopping(patience=10, restore_best_weights=True)\n"
      ],
      "execution_count": 56,
      "outputs": []
    },
    {
      "cell_type": "code",
      "metadata": {
        "colab": {
          "base_uri": "https://localhost:8080/",
          "height": 1000,
          "referenced_widgets": [
            "85f4c7e611694044a04e1b14e8420e36",
            "d2f57984df7d4536a0e404657bf407ce",
            "24d1325d97d4478d9c4ab1247ca89f77",
            "e2a9ed741e1448dca6e90470fd64764e",
            "85234922f07d4759ae2bc9b7d6e695e8",
            "8e49c29bb43c407191771ea131f54969",
            "3b2f8d18c8724fe8a4580aea6c7a2bcd",
            "76ac09b7dbef441aa87e8947f9b1ca65",
            "a8c9c434dd2f4714ac03ec9e0e95556a",
            "2d712e2a48004889b068b55ad690ace8",
            "8738751ab5ef43a6bdecf734173bba9c",
            "6c52e3153d754b6082690d7f2fb98bf0",
            "3b190fef38214f689b853ce425ba8f64",
            "81ba2f4d10cd41b8b9223d94e24f2c69",
            "3e73c16df3164a5baf071309482e7460",
            "36866a2d2d3f4b28bede5bc2dbae8875",
            "07e1cd4765124383a2b31b93cc146996",
            "97fa058a631f4d389081c05e1bbfcf29",
            "0e357e7601464433922341bd9020889d",
            "3d332dea7dc74112a1a5a4218077f3d9",
            "1e9306c9e5f448ecb01d8d8d32dcf0d9",
            "b4d4558d95114fcda99aba2f9c711bf2",
            "5fb9e2fac6ce4643a8a7fa97774cd7d7",
            "a78edeb1455c4e9a869eda3b5a663cae",
            "1a98722d9d874698b3b4c01a8219e535",
            "5adcea5e31834bb79afd0425d8c095c1",
            "958b07bc8db54122b4415b5c185fb119",
            "bf8512fe2d5b45568e2dbb1963766e6d",
            "17121dc1605046d1868794d06190ccfa",
            "e5b2498c69e5441cb7072cae6b3e9bd0",
            "85aa28607b934cdeba864c7350ded043",
            "fc400191e3794462bf9f164571b960a8",
            "26ddf40970c440e783f00b72ff8b12e4",
            "92e13c37fc2c484496ddca4815b9aaeb",
            "1ac6a310572d465480ee68f44111c6fb",
            "f615c482fa3a4b3fa9b62e6df2b13046",
            "bd8b072dd8b94627beebe9599064364e",
            "c198d04135bf4f9fbfcd92a03c09080f",
            "1b55bd27953545cc92830fe1283f0d5d",
            "4d29404fd9304f3cb8a3612a1f4e6c9d",
            "71e9a3c0699e488dbef7b66fa902491d",
            "bb2dcdbbb8a343588151fe08f30d9725",
            "f7f953a8079a48ed852d9e475410aef8",
            "5749858d2baa4427a3aca6b6386c2e3d",
            "8a5c8e8d6866459fb05552bdd684ee36",
            "d1c91e287c7a4e0c9ebafe3383f45f27",
            "be686dcb9ab24290a556c0cf46387bdc",
            "7fd7ecb1137a421ea939db834bffa36e",
            "139cdbb14c93451ea6f664ff30ba7371",
            "066a22a7cd07412ead3ca32ca02d0320",
            "47091aea5eae4def8a61dddcc4a3f262",
            "c338a3f7ce33459aa41df273edb9eb1b",
            "8a612e3a4d254188a02cacb7382c697d",
            "c480c6a87e3e45628142cce1d2b75774",
            "fdf715e7dff945bfb1e3448f1f587731",
            "88ada109a3a446768e14ea595f27817f",
            "05dae28880bc42df9190318ff119b3d9",
            "f9a629d8766b4720be534f7fac7737eb",
            "a39c121262c54b29971d08a55da88939",
            "d5f5cae8690047b5900db929a2e86227",
            "4ce9f6d2c96a4f7b9f8ecf5ea42e910e",
            "a0d6f70d56a541a6b5165b317c93a1f4",
            "793bd520ea6a4c849692140189a9ffa5",
            "6fe38f4fbf6643daac15c872c9612f6f"
          ]
        },
        "id": "5WeOPz-xxxYe",
        "outputId": "af159970-1382-4610-8ce2-d40c40176b24"
      },
      "source": [
        "wandb.agent(sweep_id, train)"
      ],
      "execution_count": null,
      "outputs": [
        {
          "output_type": "stream",
          "name": "stderr",
          "text": [
            "\u001b[34m\u001b[1mwandb\u001b[0m: Agent Starting Run: q4vov1jt with config:\n",
            "\u001b[34m\u001b[1mwandb\u001b[0m: \tdropout: 0.3\n",
            "\u001b[34m\u001b[1mwandb\u001b[0m: \tepochs: 100\n",
            "\u001b[34m\u001b[1mwandb\u001b[0m: \tfc_layer_size: 128\n",
            "\u001b[34m\u001b[1mwandb\u001b[0m: \tlearning-rate: 0.001\n"
          ]
        },
        {
          "output_type": "display_data",
          "data": {
            "text/plain": [
              "<IPython.core.display.HTML object>"
            ],
            "text/html": [
              "Tracking run with wandb version 0.16.6"
            ]
          },
          "metadata": {}
        },
        {
          "output_type": "display_data",
          "data": {
            "text/plain": [
              "<IPython.core.display.HTML object>"
            ],
            "text/html": [
              "Run data is saved locally in <code>/content/wandb/run-20240424_133847-q4vov1jt</code>"
            ]
          },
          "metadata": {}
        },
        {
          "output_type": "display_data",
          "data": {
            "text/plain": [
              "<IPython.core.display.HTML object>"
            ],
            "text/html": [
              "Syncing run <strong><a href='https://wandb.ai/pkasnesis/aidl-a02-week5/runs/q4vov1jt' target=\"_blank\">desert-sweep-1</a></strong> to <a href='https://wandb.ai/pkasnesis/aidl-a02-week5' target=\"_blank\">Weights & Biases</a> (<a href='https://wandb.me/run' target=\"_blank\">docs</a>)<br/>Sweep page: <a href='https://wandb.ai/pkasnesis/aidl-a02-week5/sweeps/846jlb6t' target=\"_blank\">https://wandb.ai/pkasnesis/aidl-a02-week5/sweeps/846jlb6t</a>"
            ]
          },
          "metadata": {}
        },
        {
          "output_type": "display_data",
          "data": {
            "text/plain": [
              "<IPython.core.display.HTML object>"
            ],
            "text/html": [
              " View project at <a href='https://wandb.ai/pkasnesis/aidl-a02-week5' target=\"_blank\">https://wandb.ai/pkasnesis/aidl-a02-week5</a>"
            ]
          },
          "metadata": {}
        },
        {
          "output_type": "display_data",
          "data": {
            "text/plain": [
              "<IPython.core.display.HTML object>"
            ],
            "text/html": [
              " View sweep at <a href='https://wandb.ai/pkasnesis/aidl-a02-week5/sweeps/846jlb6t' target=\"_blank\">https://wandb.ai/pkasnesis/aidl-a02-week5/sweeps/846jlb6t</a>"
            ]
          },
          "metadata": {}
        },
        {
          "output_type": "display_data",
          "data": {
            "text/plain": [
              "<IPython.core.display.HTML object>"
            ],
            "text/html": [
              " View run at <a href='https://wandb.ai/pkasnesis/aidl-a02-week5/runs/q4vov1jt' target=\"_blank\">https://wandb.ai/pkasnesis/aidl-a02-week5/runs/q4vov1jt</a>"
            ]
          },
          "metadata": {}
        },
        {
          "output_type": "stream",
          "name": "stderr",
          "text": [
            "WARNING:absl:`lr` is deprecated in Keras optimizer, please use `learning_rate` or use the legacy optimizer, e.g.,tf.keras.optimizers.legacy.Adam.\n",
            "\u001b[34m\u001b[1mwandb\u001b[0m: \u001b[33mWARNING\u001b[0m The save_model argument by default saves the model in the HDF5 format that cannot save custom objects like subclassed models and custom layers. This behavior will be deprecated in a future release in favor of the SavedModel format. Meanwhile, the HDF5 model is saved as W&B files and the SavedModel as W&B Artifacts.\n"
          ]
        },
        {
          "output_type": "stream",
          "name": "stdout",
          "text": [
            "Epoch 1/100\n",
            "389/391 [============================>.] - ETA: 0s - loss: 0.6471 - accuracy: 0.7743"
          ]
        },
        {
          "output_type": "stream",
          "name": "stderr",
          "text": [
            "/usr/local/lib/python3.10/dist-packages/keras/src/engine/training.py:3103: UserWarning: You are saving your model as an HDF5 file via `model.save()`. This file format is considered legacy. We recommend using instead the native Keras format, e.g. `model.save('my_model.keras')`.\n",
            "  saving_api.save_model(\n",
            "\u001b[34m\u001b[1mwandb\u001b[0m: Adding directory to artifact (/content/wandb/run-20240424_133847-q4vov1jt/files/model-best)... Done. 0.0s\n"
          ]
        },
        {
          "output_type": "stream",
          "name": "stdout",
          "text": [
            "\b\b\b\b\b\b\b\b\b\b\b\b\b\b\b\b\b\b\b\b\b\b\b\b\b\b\b\b\b\b\b\b\b\b\b\b\b\b\b\b\b\b\b\b\b\b\b\b\b\b\b\b\b\b\b\b\b\b\b\b\b\b\b\b\b\b\b\b\b\b\b\b\b\b\b\b\b\b\b\b\b\b\b\b\r391/391 [==============================] - 4s 6ms/step - loss: 0.6467 - accuracy: 0.7744 - val_loss: 0.4497 - val_accuracy: 0.8411\n",
            "Epoch 2/100\n",
            "386/391 [============================>.] - ETA: 0s - loss: 0.4582 - accuracy: 0.8382"
          ]
        },
        {
          "output_type": "stream",
          "name": "stderr",
          "text": [
            "/usr/local/lib/python3.10/dist-packages/keras/src/engine/training.py:3103: UserWarning: You are saving your model as an HDF5 file via `model.save()`. This file format is considered legacy. We recommend using instead the native Keras format, e.g. `model.save('my_model.keras')`.\n",
            "  saving_api.save_model(\n",
            "\u001b[34m\u001b[1mwandb\u001b[0m: Adding directory to artifact (/content/wandb/run-20240424_133847-q4vov1jt/files/model-best)... Done. 0.0s\n"
          ]
        },
        {
          "output_type": "stream",
          "name": "stdout",
          "text": [
            "\b\b\b\b\b\b\b\b\b\b\b\b\b\b\b\b\b\b\b\b\b\b\b\b\b\b\b\b\b\b\b\b\b\b\b\b\b\b\b\b\b\b\b\b\b\b\b\b\b\b\b\b\b\b\b\b\b\b\b\b\b\b\b\b\b\b\b\b\b\b\b\b\b\b\b\b\b\b\b\b\b\b\b\b\r391/391 [==============================] - 2s 6ms/step - loss: 0.4572 - accuracy: 0.8388 - val_loss: 0.4004 - val_accuracy: 0.8562\n",
            "Epoch 3/100\n",
            "387/391 [============================>.] - ETA: 0s - loss: 0.4136 - accuracy: 0.8521"
          ]
        },
        {
          "output_type": "stream",
          "name": "stderr",
          "text": [
            "/usr/local/lib/python3.10/dist-packages/keras/src/engine/training.py:3103: UserWarning: You are saving your model as an HDF5 file via `model.save()`. This file format is considered legacy. We recommend using instead the native Keras format, e.g. `model.save('my_model.keras')`.\n",
            "  saving_api.save_model(\n",
            "\u001b[34m\u001b[1mwandb\u001b[0m: Adding directory to artifact (/content/wandb/run-20240424_133847-q4vov1jt/files/model-best)... Done. 0.0s\n"
          ]
        },
        {
          "output_type": "stream",
          "name": "stdout",
          "text": [
            "\b\b\b\b\b\b\b\b\b\b\b\b\b\b\b\b\b\b\b\b\b\b\b\b\b\b\b\b\b\b\b\b\b\b\b\b\b\b\b\b\b\b\b\b\b\b\b\b\b\b\b\b\b\b\b\b\b\b\b\b\b\b\b\b\b\b\b\b\b\b\b\b\b\b\b\b\b\b\b\b\b\b\b\b\r391/391 [==============================] - 2s 5ms/step - loss: 0.4141 - accuracy: 0.8518 - val_loss: 0.3905 - val_accuracy: 0.8585\n",
            "Epoch 4/100\n",
            "381/391 [============================>.] - ETA: 0s - loss: 0.3893 - accuracy: 0.8609"
          ]
        },
        {
          "output_type": "stream",
          "name": "stderr",
          "text": [
            "/usr/local/lib/python3.10/dist-packages/keras/src/engine/training.py:3103: UserWarning: You are saving your model as an HDF5 file via `model.save()`. This file format is considered legacy. We recommend using instead the native Keras format, e.g. `model.save('my_model.keras')`.\n",
            "  saving_api.save_model(\n",
            "\u001b[34m\u001b[1mwandb\u001b[0m: Adding directory to artifact (/content/wandb/run-20240424_133847-q4vov1jt/files/model-best)... Done. 0.0s\n"
          ]
        },
        {
          "output_type": "stream",
          "name": "stdout",
          "text": [
            "\b\b\b\b\b\b\b\b\b\b\b\b\b\b\b\b\b\b\b\b\b\b\b\b\b\b\b\b\b\b\b\b\b\b\b\b\b\b\b\b\b\b\b\b\b\b\b\b\b\b\b\b\b\b\b\b\b\b\b\b\b\b\b\b\b\b\b\b\b\b\b\b\b\b\b\b\b\b\b\b\b\b\b\b\r391/391 [==============================] - 2s 6ms/step - loss: 0.3890 - accuracy: 0.8610 - val_loss: 0.3556 - val_accuracy: 0.8706\n",
            "Epoch 5/100\n",
            "384/391 [============================>.] - ETA: 0s - loss: 0.3694 - accuracy: 0.8677"
          ]
        },
        {
          "output_type": "stream",
          "name": "stderr",
          "text": [
            "/usr/local/lib/python3.10/dist-packages/keras/src/engine/training.py:3103: UserWarning: You are saving your model as an HDF5 file via `model.save()`. This file format is considered legacy. We recommend using instead the native Keras format, e.g. `model.save('my_model.keras')`.\n",
            "  saving_api.save_model(\n",
            "\u001b[34m\u001b[1mwandb\u001b[0m: Adding directory to artifact (/content/wandb/run-20240424_133847-q4vov1jt/files/model-best)... Done. 0.0s\n"
          ]
        },
        {
          "output_type": "stream",
          "name": "stdout",
          "text": [
            "\b\b\b\b\b\b\b\b\b\b\b\b\b\b\b\b\b\b\b\b\b\b\b\b\b\b\b\b\b\b\b\b\b\b\b\b\b\b\b\b\b\b\b\b\b\b\b\b\b\b\b\b\b\b\b\b\b\b\b\b\b\b\b\b\b\b\b\b\b\b\b\b\b\b\b\b\b\b\b\b\b\b\b\b\r391/391 [==============================] - 2s 6ms/step - loss: 0.3694 - accuracy: 0.8679 - val_loss: 0.3460 - val_accuracy: 0.8746\n",
            "Epoch 6/100\n",
            "391/391 [==============================] - 1s 4ms/step - loss: 0.3580 - accuracy: 0.8714 - val_loss: 0.3549 - val_accuracy: 0.8713\n",
            "Epoch 7/100\n",
            "386/391 [============================>.] - ETA: 0s - loss: 0.3433 - accuracy: 0.8766"
          ]
        },
        {
          "output_type": "stream",
          "name": "stderr",
          "text": [
            "/usr/local/lib/python3.10/dist-packages/keras/src/engine/training.py:3103: UserWarning: You are saving your model as an HDF5 file via `model.save()`. This file format is considered legacy. We recommend using instead the native Keras format, e.g. `model.save('my_model.keras')`.\n",
            "  saving_api.save_model(\n",
            "\u001b[34m\u001b[1mwandb\u001b[0m: Adding directory to artifact (/content/wandb/run-20240424_133847-q4vov1jt/files/model-best)... Done. 0.0s\n"
          ]
        },
        {
          "output_type": "stream",
          "name": "stdout",
          "text": [
            "\b\b\b\b\b\b\b\b\b\b\b\b\b\b\b\b\b\b\b\b\b\b\b\b\b\b\b\b\b\b\b\b\b\b\b\b\b\b\b\b\b\b\b\b\b\b\b\b\b\b\b\b\b\b\b\b\b\b\b\b\b\b\b\b\b\b\b\b\b\b\b\b\b\b\b\b\b\b\b\b\b\b\b\b\r391/391 [==============================] - 2s 5ms/step - loss: 0.3436 - accuracy: 0.8767 - val_loss: 0.3312 - val_accuracy: 0.8778\n",
            "Epoch 8/100\n",
            "391/391 [==============================] - 1s 4ms/step - loss: 0.3323 - accuracy: 0.8812 - val_loss: 0.3344 - val_accuracy: 0.8760\n",
            "Epoch 9/100\n",
            "390/391 [============================>.] - ETA: 0s - loss: 0.3236 - accuracy: 0.8792"
          ]
        },
        {
          "output_type": "stream",
          "name": "stderr",
          "text": [
            "/usr/local/lib/python3.10/dist-packages/keras/src/engine/training.py:3103: UserWarning: You are saving your model as an HDF5 file via `model.save()`. This file format is considered legacy. We recommend using instead the native Keras format, e.g. `model.save('my_model.keras')`.\n",
            "  saving_api.save_model(\n",
            "\u001b[34m\u001b[1mwandb\u001b[0m: Adding directory to artifact (/content/wandb/run-20240424_133847-q4vov1jt/files/model-best)... Done. 0.0s\n"
          ]
        },
        {
          "output_type": "stream",
          "name": "stdout",
          "text": [
            "\b\b\b\b\b\b\b\b\b\b\b\b\b\b\b\b\b\b\b\b\b\b\b\b\b\b\b\b\b\b\b\b\b\b\b\b\b\b\b\b\b\b\b\b\b\b\b\b\b\b\b\b\b\b\b\b\b\b\b\b\b\b\b\b\b\b\b\b\b\b\b\b\b\b\b\b\b\b\b\b\b\b\b\b\r391/391 [==============================] - 3s 8ms/step - loss: 0.3236 - accuracy: 0.8792 - val_loss: 0.3182 - val_accuracy: 0.8841\n",
            "Epoch 10/100\n",
            "389/391 [============================>.] - ETA: 0s - loss: 0.3177 - accuracy: 0.8838"
          ]
        },
        {
          "output_type": "stream",
          "name": "stderr",
          "text": [
            "/usr/local/lib/python3.10/dist-packages/keras/src/engine/training.py:3103: UserWarning: You are saving your model as an HDF5 file via `model.save()`. This file format is considered legacy. We recommend using instead the native Keras format, e.g. `model.save('my_model.keras')`.\n",
            "  saving_api.save_model(\n",
            "\u001b[34m\u001b[1mwandb\u001b[0m: Adding directory to artifact (/content/wandb/run-20240424_133847-q4vov1jt/files/model-best)... Done. 0.0s\n"
          ]
        },
        {
          "output_type": "stream",
          "name": "stdout",
          "text": [
            "\b\b\b\b\b\b\b\b\b\b\b\b\b\b\b\b\b\b\b\b\b\b\b\b\b\b\b\b\b\b\b\b\b\b\b\b\b\b\b\b\b\b\b\b\b\b\b\b\b\b\b\b\b\b\b\b\b\b\b\b\b\b\b\b\b\b\b\b\b\b\b\b\b\b\b\b\b\b\b\b\b\b\b\b\r391/391 [==============================] - 3s 8ms/step - loss: 0.3177 - accuracy: 0.8838 - val_loss: 0.3145 - val_accuracy: 0.8848\n",
            "Epoch 11/100\n",
            "391/391 [==============================] - ETA: 0s - loss: 0.3084 - accuracy: 0.8867"
          ]
        },
        {
          "output_type": "stream",
          "name": "stderr",
          "text": [
            "/usr/local/lib/python3.10/dist-packages/keras/src/engine/training.py:3103: UserWarning: You are saving your model as an HDF5 file via `model.save()`. This file format is considered legacy. We recommend using instead the native Keras format, e.g. `model.save('my_model.keras')`.\n",
            "  saving_api.save_model(\n",
            "\u001b[34m\u001b[1mwandb\u001b[0m: Adding directory to artifact (/content/wandb/run-20240424_133847-q4vov1jt/files/model-best)... Done. 0.0s\n"
          ]
        },
        {
          "output_type": "stream",
          "name": "stdout",
          "text": [
            "\b\b\b\b\b\b\b\b\b\b\b\b\b\b\b\b\b\b\b\b\b\b\b\b\b\b\b\b\b\b\b\b\b\b\b\b\b\b\b\b\b\b\b\b\b\b\b\b\b\b\b\b\b\b\b\b\b\b\b\b\b\b\b\b\b\b\b\b\b\b\b\b\b\b\b\b\b\b\b\b\b\b\b\b\r391/391 [==============================] - 2s 6ms/step - loss: 0.3084 - accuracy: 0.8867 - val_loss: 0.3142 - val_accuracy: 0.8826\n",
            "Epoch 12/100\n",
            "385/391 [============================>.] - ETA: 0s - loss: 0.3044 - accuracy: 0.8876"
          ]
        },
        {
          "output_type": "stream",
          "name": "stderr",
          "text": [
            "/usr/local/lib/python3.10/dist-packages/keras/src/engine/training.py:3103: UserWarning: You are saving your model as an HDF5 file via `model.save()`. This file format is considered legacy. We recommend using instead the native Keras format, e.g. `model.save('my_model.keras')`.\n",
            "  saving_api.save_model(\n",
            "\u001b[34m\u001b[1mwandb\u001b[0m: Adding directory to artifact (/content/wandb/run-20240424_133847-q4vov1jt/files/model-best)... Done. 0.0s\n"
          ]
        },
        {
          "output_type": "stream",
          "name": "stdout",
          "text": [
            "\b\b\b\b\b\b\b\b\b\b\b\b\b\b\b\b\b\b\b\b\b\b\b\b\b\b\b\b\b\b\b\b\b\b\b\b\b\b\b\b\b\b\b\b\b\b\b\b\b\b\b\b\b\b\b\b\b\b\b\b\b\b\b\b\b\b\b\b\b\b\b\b\b\b\b\b\b\b\b\b\b\b\b\b\r391/391 [==============================] - 3s 8ms/step - loss: 0.3047 - accuracy: 0.8876 - val_loss: 0.3116 - val_accuracy: 0.8857\n",
            "Epoch 13/100\n",
            "379/391 [============================>.] - ETA: 0s - loss: 0.2981 - accuracy: 0.8905"
          ]
        },
        {
          "output_type": "stream",
          "name": "stderr",
          "text": [
            "/usr/local/lib/python3.10/dist-packages/keras/src/engine/training.py:3103: UserWarning: You are saving your model as an HDF5 file via `model.save()`. This file format is considered legacy. We recommend using instead the native Keras format, e.g. `model.save('my_model.keras')`.\n",
            "  saving_api.save_model(\n",
            "\u001b[34m\u001b[1mwandb\u001b[0m: Adding directory to artifact (/content/wandb/run-20240424_133847-q4vov1jt/files/model-best)... Done. 0.0s\n"
          ]
        },
        {
          "output_type": "stream",
          "name": "stdout",
          "text": [
            "\b\b\b\b\b\b\b\b\b\b\b\b\b\b\b\b\b\b\b\b\b\b\b\b\b\b\b\b\b\b\b\b\b\b\b\b\b\b\b\b\b\b\b\b\b\b\b\b\b\b\b\b\b\b\b\b\b\b\b\b\b\b\b\b\b\b\b\b\b\b\b\b\b\b\b\b\b\b\b\b\b\b\b\b\r391/391 [==============================] - 2s 5ms/step - loss: 0.2977 - accuracy: 0.8905 - val_loss: 0.3058 - val_accuracy: 0.8882\n",
            "Epoch 14/100\n",
            "391/391 [==============================] - 2s 4ms/step - loss: 0.2894 - accuracy: 0.8934 - val_loss: 0.3074 - val_accuracy: 0.8894\n",
            "Epoch 15/100\n",
            "382/391 [============================>.] - ETA: 0s - loss: 0.2859 - accuracy: 0.8949"
          ]
        },
        {
          "output_type": "stream",
          "name": "stderr",
          "text": [
            "/usr/local/lib/python3.10/dist-packages/keras/src/engine/training.py:3103: UserWarning: You are saving your model as an HDF5 file via `model.save()`. This file format is considered legacy. We recommend using instead the native Keras format, e.g. `model.save('my_model.keras')`.\n",
            "  saving_api.save_model(\n",
            "\u001b[34m\u001b[1mwandb\u001b[0m: Adding directory to artifact (/content/wandb/run-20240424_133847-q4vov1jt/files/model-best)... Done. 0.0s\n"
          ]
        },
        {
          "output_type": "stream",
          "name": "stdout",
          "text": [
            "\b\b\b\b\b\b\b\b\b\b\b\b\b\b\b\b\b\b\b\b\b\b\b\b\b\b\b\b\b\b\b\b\b\b\b\b\b\b\b\b\b\b\b\b\b\b\b\b\b\b\b\b\b\b\b\b\b\b\b\b\b\b\b\b\b\b\b\b\b\b\b\b\b\b\b\b\b\b\b\b\b\b\b\b\r391/391 [==============================] - 3s 7ms/step - loss: 0.2852 - accuracy: 0.8952 - val_loss: 0.3039 - val_accuracy: 0.8923\n",
            "Epoch 16/100\n",
            "378/391 [============================>.] - ETA: 0s - loss: 0.2823 - accuracy: 0.8941"
          ]
        },
        {
          "output_type": "stream",
          "name": "stderr",
          "text": [
            "/usr/local/lib/python3.10/dist-packages/keras/src/engine/training.py:3103: UserWarning: You are saving your model as an HDF5 file via `model.save()`. This file format is considered legacy. We recommend using instead the native Keras format, e.g. `model.save('my_model.keras')`.\n",
            "  saving_api.save_model(\n",
            "\u001b[34m\u001b[1mwandb\u001b[0m: Adding directory to artifact (/content/wandb/run-20240424_133847-q4vov1jt/files/model-best)... Done. 0.0s\n"
          ]
        },
        {
          "output_type": "stream",
          "name": "stdout",
          "text": [
            "\b\b\b\b\b\b\b\b\b\b\b\b\b\b\b\b\b\b\b\b\b\b\b\b\b\b\b\b\b\b\b\b\b\b\b\b\b\b\b\b\b\b\b\b\b\b\b\b\b\b\b\b\b\b\b\b\b\b\b\b\b\b\b\b\b\b\b\b\b\b\b\b\b\b\b\b\b\b\b\b\b\b\b\b\r391/391 [==============================] - 2s 6ms/step - loss: 0.2823 - accuracy: 0.8941 - val_loss: 0.2970 - val_accuracy: 0.8913\n",
            "Epoch 17/100\n",
            "391/391 [==============================] - 1s 4ms/step - loss: 0.2764 - accuracy: 0.8973 - val_loss: 0.3151 - val_accuracy: 0.8861\n",
            "Epoch 18/100\n",
            "391/391 [==============================] - 1s 4ms/step - loss: 0.2713 - accuracy: 0.9000 - val_loss: 0.3039 - val_accuracy: 0.8880\n",
            "Epoch 19/100\n",
            "391/391 [==============================] - 1s 3ms/step - loss: 0.2712 - accuracy: 0.8983 - val_loss: 0.3021 - val_accuracy: 0.8907\n",
            "Epoch 20/100\n",
            "391/391 [==============================] - 2s 4ms/step - loss: 0.2635 - accuracy: 0.9011 - val_loss: 0.3061 - val_accuracy: 0.8895\n",
            "Epoch 21/100\n",
            "391/391 [==============================] - ETA: 0s - loss: 0.2607 - accuracy: 0.9028"
          ]
        },
        {
          "output_type": "stream",
          "name": "stderr",
          "text": [
            "/usr/local/lib/python3.10/dist-packages/keras/src/engine/training.py:3103: UserWarning: You are saving your model as an HDF5 file via `model.save()`. This file format is considered legacy. We recommend using instead the native Keras format, e.g. `model.save('my_model.keras')`.\n",
            "  saving_api.save_model(\n",
            "\u001b[34m\u001b[1mwandb\u001b[0m: Adding directory to artifact (/content/wandb/run-20240424_133847-q4vov1jt/files/model-best)... Done. 0.0s\n"
          ]
        },
        {
          "output_type": "stream",
          "name": "stdout",
          "text": [
            "\b\b\b\b\b\b\b\b\b\b\b\b\b\b\b\b\b\b\b\b\b\b\b\b\b\b\b\b\b\b\b\b\b\b\b\b\b\b\b\b\b\b\b\b\b\b\b\b\b\b\b\b\b\b\b\b\b\b\b\b\b\b\b\b\b\b\b\b\b\b\b\b\b\b\b\b\b\b\b\b\b\b\b\b\r391/391 [==============================] - 2s 6ms/step - loss: 0.2607 - accuracy: 0.9028 - val_loss: 0.2957 - val_accuracy: 0.8946\n",
            "Epoch 22/100\n",
            "391/391 [==============================] - 2s 5ms/step - loss: 0.2547 - accuracy: 0.9054 - val_loss: 0.3014 - val_accuracy: 0.8925\n",
            "Epoch 23/100\n",
            "386/391 [============================>.] - ETA: 0s - loss: 0.2535 - accuracy: 0.9040"
          ]
        },
        {
          "output_type": "stream",
          "name": "stderr",
          "text": [
            "/usr/local/lib/python3.10/dist-packages/keras/src/engine/training.py:3103: UserWarning: You are saving your model as an HDF5 file via `model.save()`. This file format is considered legacy. We recommend using instead the native Keras format, e.g. `model.save('my_model.keras')`.\n",
            "  saving_api.save_model(\n",
            "\u001b[34m\u001b[1mwandb\u001b[0m: Adding directory to artifact (/content/wandb/run-20240424_133847-q4vov1jt/files/model-best)... Done. 0.0s\n"
          ]
        },
        {
          "output_type": "stream",
          "name": "stdout",
          "text": [
            "\b\b\b\b\b\b\b\b\b\b\b\b\b\b\b\b\b\b\b\b\b\b\b\b\b\b\b\b\b\b\b\b\b\b\b\b\b\b\b\b\b\b\b\b\b\b\b\b\b\b\b\b\b\b\b\b\b\b\b\b\b\b\b\b\b\b\b\b\b\b\b\b\b\b\b\b\b\b\b\b\b\b\b\b\r391/391 [==============================] - 2s 6ms/step - loss: 0.2534 - accuracy: 0.9040 - val_loss: 0.2911 - val_accuracy: 0.8956\n",
            "Epoch 24/100\n",
            "391/391 [==============================] - 1s 4ms/step - loss: 0.2527 - accuracy: 0.9067 - val_loss: 0.3029 - val_accuracy: 0.8910\n",
            "Epoch 25/100\n",
            "391/391 [==============================] - 1s 4ms/step - loss: 0.2483 - accuracy: 0.9055 - val_loss: 0.2975 - val_accuracy: 0.8957\n",
            "Epoch 26/100\n",
            "391/391 [==============================] - 1s 3ms/step - loss: 0.2424 - accuracy: 0.9095 - val_loss: 0.2994 - val_accuracy: 0.8949\n",
            "Epoch 27/100\n",
            "391/391 [==============================] - 2s 4ms/step - loss: 0.2409 - accuracy: 0.9092 - val_loss: 0.2962 - val_accuracy: 0.8942\n",
            "Epoch 28/100\n",
            "391/391 [==============================] - 1s 3ms/step - loss: 0.2387 - accuracy: 0.9097 - val_loss: 0.2971 - val_accuracy: 0.8952\n",
            "Epoch 29/100\n",
            "391/391 [==============================] - 1s 4ms/step - loss: 0.2365 - accuracy: 0.9101 - val_loss: 0.2978 - val_accuracy: 0.8938\n",
            "Epoch 30/100\n",
            "391/391 [==============================] - 2s 5ms/step - loss: 0.2330 - accuracy: 0.9131 - val_loss: 0.2987 - val_accuracy: 0.8934\n",
            "Epoch 31/100\n",
            "391/391 [==============================] - 1s 4ms/step - loss: 0.2283 - accuracy: 0.9144 - val_loss: 0.3012 - val_accuracy: 0.8932\n",
            "Epoch 32/100\n",
            "391/391 [==============================] - 1s 4ms/step - loss: 0.2284 - accuracy: 0.9146 - val_loss: 0.3119 - val_accuracy: 0.8892\n",
            "Epoch 33/100\n",
            "391/391 [==============================] - 1s 4ms/step - loss: 0.2251 - accuracy: 0.9145 - val_loss: 0.3063 - val_accuracy: 0.8925\n",
            "Epoch 34/100\n",
            "391/391 [==============================] - 1s 4ms/step - loss: 0.2229 - accuracy: 0.9162 - val_loss: 0.3058 - val_accuracy: 0.8956\n",
            "Epoch 35/100\n",
            "391/391 [==============================] - 2s 4ms/step - loss: 0.2226 - accuracy: 0.9156 - val_loss: 0.3140 - val_accuracy: 0.8928\n",
            "Epoch 36/100\n",
            "391/391 [==============================] - 2s 4ms/step - loss: 0.2190 - accuracy: 0.9168 - val_loss: 0.3115 - val_accuracy: 0.8925\n",
            "Epoch 37/100\n",
            "391/391 [==============================] - 1s 4ms/step - loss: 0.2164 - accuracy: 0.9185 - val_loss: 0.3004 - val_accuracy: 0.8977\n",
            "Epoch 38/100\n",
            "391/391 [==============================] - 2s 5ms/step - loss: 0.2141 - accuracy: 0.9180 - val_loss: 0.3053 - val_accuracy: 0.8941\n",
            "Epoch 39/100\n",
            "391/391 [==============================] - 1s 4ms/step - loss: 0.2142 - accuracy: 0.9178 - val_loss: 0.3057 - val_accuracy: 0.8968\n",
            "Epoch 40/100\n",
            "391/391 [==============================] - 2s 4ms/step - loss: 0.2100 - accuracy: 0.9193 - val_loss: 0.3039 - val_accuracy: 0.8960\n",
            "Epoch 41/100\n",
            "391/391 [==============================] - 1s 3ms/step - loss: 0.2112 - accuracy: 0.9199 - val_loss: 0.3111 - val_accuracy: 0.8934\n",
            "Epoch 42/100\n",
            "391/391 [==============================] - 1s 3ms/step - loss: 0.2068 - accuracy: 0.9209 - val_loss: 0.3070 - val_accuracy: 0.8956\n",
            "Epoch 43/100\n",
            "391/391 [==============================] - 2s 4ms/step - loss: 0.2049 - accuracy: 0.9232 - val_loss: 0.3116 - val_accuracy: 0.8916\n",
            "Epoch 44/100\n",
            "391/391 [==============================] - 1s 4ms/step - loss: 0.2009 - accuracy: 0.9228 - val_loss: 0.3106 - val_accuracy: 0.8926\n",
            "Epoch 45/100\n",
            "391/391 [==============================] - 1s 4ms/step - loss: 0.2005 - accuracy: 0.9232 - val_loss: 0.3202 - val_accuracy: 0.8930\n",
            "Epoch 46/100\n",
            "391/391 [==============================] - 2s 5ms/step - loss: 0.1987 - accuracy: 0.9242 - val_loss: 0.3127 - val_accuracy: 0.8969\n",
            "Epoch 47/100\n",
            "391/391 [==============================] - 2s 5ms/step - loss: 0.1999 - accuracy: 0.9236 - val_loss: 0.3069 - val_accuracy: 0.8937\n",
            "Epoch 48/100\n",
            "391/391 [==============================] - 1s 4ms/step - loss: 0.1978 - accuracy: 0.9251 - val_loss: 0.3111 - val_accuracy: 0.8974\n",
            "Epoch 49/100\n",
            "391/391 [==============================] - 1s 4ms/step - loss: 0.1930 - accuracy: 0.9259 - val_loss: 0.3214 - val_accuracy: 0.8922\n",
            "Epoch 50/100\n",
            "391/391 [==============================] - 1s 3ms/step - loss: 0.1960 - accuracy: 0.9261 - val_loss: 0.3126 - val_accuracy: 0.8943\n",
            "Epoch 51/100\n",
            "391/391 [==============================] - 1s 4ms/step - loss: 0.1942 - accuracy: 0.9265 - val_loss: 0.3174 - val_accuracy: 0.8911\n",
            "Epoch 52/100\n",
            "391/391 [==============================] - 2s 4ms/step - loss: 0.1906 - accuracy: 0.9286 - val_loss: 0.3220 - val_accuracy: 0.8927\n",
            "Epoch 53/100\n",
            "391/391 [==============================] - 2s 4ms/step - loss: 0.1890 - accuracy: 0.9273 - val_loss: 0.3345 - val_accuracy: 0.8925\n",
            "Epoch 54/100\n",
            "391/391 [==============================] - 2s 5ms/step - loss: 0.1880 - accuracy: 0.9284 - val_loss: 0.3184 - val_accuracy: 0.8951\n",
            "Epoch 55/100\n",
            "391/391 [==============================] - 2s 4ms/step - loss: 0.1863 - accuracy: 0.9297 - val_loss: 0.3161 - val_accuracy: 0.8953\n",
            "Epoch 56/100\n",
            "391/391 [==============================] - 1s 4ms/step - loss: 0.1833 - accuracy: 0.9302 - val_loss: 0.3306 - val_accuracy: 0.8934\n",
            "Epoch 57/100\n",
            "391/391 [==============================] - 1s 4ms/step - loss: 0.1843 - accuracy: 0.9295 - val_loss: 0.3190 - val_accuracy: 0.8979\n",
            "Epoch 58/100\n",
            "391/391 [==============================] - 2s 4ms/step - loss: 0.1841 - accuracy: 0.9291 - val_loss: 0.3254 - val_accuracy: 0.8947\n",
            "Epoch 59/100\n",
            "391/391 [==============================] - 1s 4ms/step - loss: 0.1813 - accuracy: 0.9308 - val_loss: 0.3273 - val_accuracy: 0.8918\n",
            "Epoch 60/100\n",
            "391/391 [==============================] - 1s 4ms/step - loss: 0.1793 - accuracy: 0.9312 - val_loss: 0.3282 - val_accuracy: 0.8938\n",
            "Epoch 61/100\n",
            "391/391 [==============================] - 1s 3ms/step - loss: 0.1793 - accuracy: 0.9316 - val_loss: 0.3240 - val_accuracy: 0.8956\n",
            "Epoch 62/100\n",
            "391/391 [==============================] - 2s 5ms/step - loss: 0.1764 - accuracy: 0.9327 - val_loss: 0.3415 - val_accuracy: 0.8923\n",
            "Epoch 63/100\n",
            "391/391 [==============================] - 2s 4ms/step - loss: 0.1722 - accuracy: 0.9344 - val_loss: 0.3303 - val_accuracy: 0.8942\n",
            "Epoch 64/100\n",
            "391/391 [==============================] - 2s 4ms/step - loss: 0.1771 - accuracy: 0.9324 - val_loss: 0.3408 - val_accuracy: 0.8960\n",
            "Epoch 65/100\n",
            "391/391 [==============================] - 1s 4ms/step - loss: 0.1759 - accuracy: 0.9325 - val_loss: 0.3343 - val_accuracy: 0.8953\n",
            "Epoch 66/100\n",
            "391/391 [==============================] - 1s 4ms/step - loss: 0.1783 - accuracy: 0.9314 - val_loss: 0.3314 - val_accuracy: 0.8965\n",
            "Epoch 67/100\n",
            "391/391 [==============================] - 1s 4ms/step - loss: 0.1736 - accuracy: 0.9345 - val_loss: 0.3387 - val_accuracy: 0.8943\n",
            "Epoch 68/100\n",
            "391/391 [==============================] - 2s 4ms/step - loss: 0.1693 - accuracy: 0.9353 - val_loss: 0.3548 - val_accuracy: 0.8897\n",
            "Epoch 69/100\n",
            "391/391 [==============================] - 2s 4ms/step - loss: 0.1714 - accuracy: 0.9341 - val_loss: 0.3411 - val_accuracy: 0.8967\n",
            "Epoch 70/100\n",
            "391/391 [==============================] - 2s 5ms/step - loss: 0.1688 - accuracy: 0.9346 - val_loss: 0.3381 - val_accuracy: 0.8938\n",
            "Epoch 71/100\n",
            "391/391 [==============================] - 1s 4ms/step - loss: 0.1673 - accuracy: 0.9348 - val_loss: 0.3449 - val_accuracy: 0.8939\n",
            "Epoch 72/100\n",
            "391/391 [==============================] - 2s 4ms/step - loss: 0.1684 - accuracy: 0.9346 - val_loss: 0.3349 - val_accuracy: 0.8938\n",
            "Epoch 73/100\n",
            "391/391 [==============================] - 2s 4ms/step - loss: 0.1665 - accuracy: 0.9360 - val_loss: 0.3472 - val_accuracy: 0.8913\n",
            "Epoch 74/100\n",
            "391/391 [==============================] - 2s 4ms/step - loss: 0.1675 - accuracy: 0.9347 - val_loss: 0.3459 - val_accuracy: 0.8935\n",
            "Epoch 75/100\n",
            "391/391 [==============================] - 2s 4ms/step - loss: 0.1658 - accuracy: 0.9359 - val_loss: 0.3479 - val_accuracy: 0.8952\n",
            "Epoch 76/100\n",
            "391/391 [==============================] - 1s 3ms/step - loss: 0.1643 - accuracy: 0.9362 - val_loss: 0.3530 - val_accuracy: 0.8963\n",
            "Epoch 77/100\n",
            "391/391 [==============================] - 2s 4ms/step - loss: 0.1688 - accuracy: 0.9339 - val_loss: 0.3618 - val_accuracy: 0.8942\n",
            "Epoch 78/100\n",
            "391/391 [==============================] - 2s 5ms/step - loss: 0.1641 - accuracy: 0.9379 - val_loss: 0.3555 - val_accuracy: 0.8908\n",
            "Epoch 79/100\n",
            "391/391 [==============================] - 1s 4ms/step - loss: 0.1614 - accuracy: 0.9381 - val_loss: 0.3503 - val_accuracy: 0.8970\n",
            "Epoch 80/100\n",
            "391/391 [==============================] - 1s 4ms/step - loss: 0.1629 - accuracy: 0.9364 - val_loss: 0.3449 - val_accuracy: 0.8930\n",
            "Epoch 81/100\n",
            "391/391 [==============================] - 1s 4ms/step - loss: 0.1578 - accuracy: 0.9402 - val_loss: 0.3628 - val_accuracy: 0.8927\n",
            "Epoch 82/100\n",
            "391/391 [==============================] - 2s 4ms/step - loss: 0.1610 - accuracy: 0.9391 - val_loss: 0.3589 - val_accuracy: 0.8934\n",
            "Epoch 83/100\n",
            "391/391 [==============================] - 2s 4ms/step - loss: 0.1607 - accuracy: 0.9387 - val_loss: 0.3612 - val_accuracy: 0.8930\n",
            "Epoch 84/100\n",
            "391/391 [==============================] - 1s 4ms/step - loss: 0.1572 - accuracy: 0.9399 - val_loss: 0.3625 - val_accuracy: 0.8936\n",
            "Epoch 85/100\n",
            "391/391 [==============================] - 2s 4ms/step - loss: 0.1562 - accuracy: 0.9403 - val_loss: 0.3667 - val_accuracy: 0.8968\n",
            "Epoch 86/100\n",
            "391/391 [==============================] - 2s 5ms/step - loss: 0.1580 - accuracy: 0.9390 - val_loss: 0.3597 - val_accuracy: 0.8917\n",
            "Epoch 87/100\n",
            "391/391 [==============================] - 1s 4ms/step - loss: 0.1559 - accuracy: 0.9401 - val_loss: 0.3805 - val_accuracy: 0.8921\n",
            "Epoch 88/100\n",
            "391/391 [==============================] - 1s 4ms/step - loss: 0.1535 - accuracy: 0.9399 - val_loss: 0.3669 - val_accuracy: 0.8934\n",
            "Epoch 89/100\n",
            "391/391 [==============================] - 2s 4ms/step - loss: 0.1560 - accuracy: 0.9386 - val_loss: 0.3681 - val_accuracy: 0.8923\n",
            "Epoch 90/100\n",
            "391/391 [==============================] - 2s 4ms/step - loss: 0.1521 - accuracy: 0.9405 - val_loss: 0.3647 - val_accuracy: 0.8940\n",
            "Epoch 91/100\n",
            "391/391 [==============================] - 1s 4ms/step - loss: 0.1511 - accuracy: 0.9415 - val_loss: 0.3727 - val_accuracy: 0.8954\n",
            "Epoch 92/100\n",
            "391/391 [==============================] - 1s 3ms/step - loss: 0.1480 - accuracy: 0.9426 - val_loss: 0.3842 - val_accuracy: 0.8952\n",
            "Epoch 93/100\n",
            "391/391 [==============================] - 2s 4ms/step - loss: 0.1502 - accuracy: 0.9417 - val_loss: 0.3899 - val_accuracy: 0.8901\n",
            "Epoch 94/100\n",
            "391/391 [==============================] - 2s 5ms/step - loss: 0.1493 - accuracy: 0.9430 - val_loss: 0.3931 - val_accuracy: 0.8914\n",
            "Epoch 95/100\n",
            "391/391 [==============================] - 1s 4ms/step - loss: 0.1460 - accuracy: 0.9442 - val_loss: 0.3743 - val_accuracy: 0.8951\n",
            "Epoch 96/100\n",
            "391/391 [==============================] - 2s 4ms/step - loss: 0.1524 - accuracy: 0.9409 - val_loss: 0.3831 - val_accuracy: 0.8945\n",
            "Epoch 97/100\n",
            "391/391 [==============================] - 1s 4ms/step - loss: 0.1474 - accuracy: 0.9424 - val_loss: 0.3877 - val_accuracy: 0.8927\n",
            "Epoch 98/100\n",
            "391/391 [==============================] - 1s 4ms/step - loss: 0.1493 - accuracy: 0.9421 - val_loss: 0.4009 - val_accuracy: 0.8943\n",
            "Epoch 99/100\n",
            "391/391 [==============================] - 2s 4ms/step - loss: 0.1438 - accuracy: 0.9449 - val_loss: 0.3752 - val_accuracy: 0.8944\n",
            "Epoch 100/100\n",
            "391/391 [==============================] - 2s 4ms/step - loss: 0.1462 - accuracy: 0.9439 - val_loss: 0.3928 - val_accuracy: 0.8957\n"
          ]
        },
        {
          "output_type": "display_data",
          "data": {
            "text/plain": [
              "VBox(children=(Label(value='18.850 MB of 20.068 MB uploaded (0.102 MB deduped)\\r'), FloatProgress(value=0.9393…"
            ],
            "application/vnd.jupyter.widget-view+json": {
              "version_major": 2,
              "version_minor": 0,
              "model_id": "85f4c7e611694044a04e1b14e8420e36"
            }
          },
          "metadata": {}
        },
        {
          "output_type": "display_data",
          "data": {
            "text/plain": [
              "<IPython.core.display.HTML object>"
            ],
            "text/html": [
              "<style>\n",
              "    table.wandb td:nth-child(1) { padding: 0 10px; text-align: left ; width: auto;} td:nth-child(2) {text-align: left ; width: 100%}\n",
              "    .wandb-row { display: flex; flex-direction: row; flex-wrap: wrap; justify-content: flex-start; width: 100% }\n",
              "    .wandb-col { display: flex; flex-direction: column; flex-basis: 100%; flex: 1; padding: 10px; }\n",
              "    </style>\n",
              "<div class=\"wandb-row\"><div class=\"wandb-col\"><h3>Run history:</h3><br/><table class=\"wandb\"><tr><td>accuracy</td><td>▁▄▅▅▆▆▆▆▆▆▇▇▇▇▇▇▇▇▇▇▇▇▇▇▇███████████████</td></tr><tr><td>epoch</td><td>▁▁▁▁▂▂▂▂▂▃▃▃▃▃▃▄▄▄▄▄▅▅▅▅▅▅▆▆▆▆▆▇▇▇▇▇▇███</td></tr><tr><td>loss</td><td>█▅▄▄▃▃▃▃▃▃▂▂▂▂▂▂▂▂▂▂▂▂▂▁▁▁▁▁▁▁▁▁▁▁▁▁▁▁▁▁</td></tr><tr><td>val_accuracy</td><td>▁▃▅▅▆▇▇▇██████▇██▇█▇▇██▇██████████▇▇█▇▇█</td></tr><tr><td>val_loss</td><td>█▅▄▃▂▂▁▂▁▁▁▁▁▂▂▂▂▂▂▂▂▂▃▃▂▃▃▃▃▃▄▄▄▄▅▄▅▆▅▅</td></tr></table><br/></div><div class=\"wandb-col\"><h3>Run summary:</h3><br/><table class=\"wandb\"><tr><td>accuracy</td><td>0.94386</td></tr><tr><td>best_epoch</td><td>22</td></tr><tr><td>best_val_loss</td><td>0.29106</td></tr><tr><td>epoch</td><td>99</td></tr><tr><td>loss</td><td>0.14616</td></tr><tr><td>val_accuracy</td><td>0.8957</td></tr><tr><td>val_loss</td><td>0.39278</td></tr></table><br/></div></div>"
            ]
          },
          "metadata": {}
        },
        {
          "output_type": "display_data",
          "data": {
            "text/plain": [
              "<IPython.core.display.HTML object>"
            ],
            "text/html": [
              " View run <strong style=\"color:#cdcd00\">desert-sweep-1</strong> at: <a href='https://wandb.ai/pkasnesis/aidl-a02-week5/runs/q4vov1jt' target=\"_blank\">https://wandb.ai/pkasnesis/aidl-a02-week5/runs/q4vov1jt</a><br/> View project at: <a href='https://wandb.ai/pkasnesis/aidl-a02-week5' target=\"_blank\">https://wandb.ai/pkasnesis/aidl-a02-week5</a><br/>Synced 5 W&B file(s), 1 media file(s), 75 artifact file(s) and 1 other file(s)"
            ]
          },
          "metadata": {}
        },
        {
          "output_type": "display_data",
          "data": {
            "text/plain": [
              "<IPython.core.display.HTML object>"
            ],
            "text/html": [
              "Find logs at: <code>./wandb/run-20240424_133847-q4vov1jt/logs</code>"
            ]
          },
          "metadata": {}
        },
        {
          "output_type": "stream",
          "name": "stderr",
          "text": [
            "\u001b[34m\u001b[1mwandb\u001b[0m: Sweep Agent: Waiting for job.\n",
            "\u001b[34m\u001b[1mwandb\u001b[0m: Job received.\n",
            "\u001b[34m\u001b[1mwandb\u001b[0m: Agent Starting Run: 2zdm2cpo with config:\n",
            "\u001b[34m\u001b[1mwandb\u001b[0m: \tdropout: 0.3\n",
            "\u001b[34m\u001b[1mwandb\u001b[0m: \tepochs: 100\n",
            "\u001b[34m\u001b[1mwandb\u001b[0m: \tfc_layer_size: 128\n",
            "\u001b[34m\u001b[1mwandb\u001b[0m: \tlearning-rate: 0.003\n"
          ]
        },
        {
          "output_type": "display_data",
          "data": {
            "text/plain": [
              "<IPython.core.display.HTML object>"
            ],
            "text/html": [
              "Tracking run with wandb version 0.16.6"
            ]
          },
          "metadata": {}
        },
        {
          "output_type": "display_data",
          "data": {
            "text/plain": [
              "<IPython.core.display.HTML object>"
            ],
            "text/html": [
              "Run data is saved locally in <code>/content/wandb/run-20240424_134200-2zdm2cpo</code>"
            ]
          },
          "metadata": {}
        },
        {
          "output_type": "display_data",
          "data": {
            "text/plain": [
              "<IPython.core.display.HTML object>"
            ],
            "text/html": [
              "Syncing run <strong><a href='https://wandb.ai/pkasnesis/aidl-a02-week5/runs/2zdm2cpo' target=\"_blank\">usual-sweep-2</a></strong> to <a href='https://wandb.ai/pkasnesis/aidl-a02-week5' target=\"_blank\">Weights & Biases</a> (<a href='https://wandb.me/run' target=\"_blank\">docs</a>)<br/>Sweep page: <a href='https://wandb.ai/pkasnesis/aidl-a02-week5/sweeps/846jlb6t' target=\"_blank\">https://wandb.ai/pkasnesis/aidl-a02-week5/sweeps/846jlb6t</a>"
            ]
          },
          "metadata": {}
        },
        {
          "output_type": "display_data",
          "data": {
            "text/plain": [
              "<IPython.core.display.HTML object>"
            ],
            "text/html": [
              " View project at <a href='https://wandb.ai/pkasnesis/aidl-a02-week5' target=\"_blank\">https://wandb.ai/pkasnesis/aidl-a02-week5</a>"
            ]
          },
          "metadata": {}
        },
        {
          "output_type": "display_data",
          "data": {
            "text/plain": [
              "<IPython.core.display.HTML object>"
            ],
            "text/html": [
              " View sweep at <a href='https://wandb.ai/pkasnesis/aidl-a02-week5/sweeps/846jlb6t' target=\"_blank\">https://wandb.ai/pkasnesis/aidl-a02-week5/sweeps/846jlb6t</a>"
            ]
          },
          "metadata": {}
        },
        {
          "output_type": "display_data",
          "data": {
            "text/plain": [
              "<IPython.core.display.HTML object>"
            ],
            "text/html": [
              " View run at <a href='https://wandb.ai/pkasnesis/aidl-a02-week5/runs/2zdm2cpo' target=\"_blank\">https://wandb.ai/pkasnesis/aidl-a02-week5/runs/2zdm2cpo</a>"
            ]
          },
          "metadata": {}
        },
        {
          "output_type": "stream",
          "name": "stderr",
          "text": [
            "WARNING:absl:`lr` is deprecated in Keras optimizer, please use `learning_rate` or use the legacy optimizer, e.g.,tf.keras.optimizers.legacy.Adam.\n"
          ]
        },
        {
          "output_type": "stream",
          "name": "stdout",
          "text": [
            "Epoch 1/100\n",
            "  1/391 [..............................] - ETA: 6:34 - loss: 2.5069 - accuracy: 0.0781"
          ]
        },
        {
          "output_type": "stream",
          "name": "stderr",
          "text": [
            "WARNING:tensorflow:Callback method `on_train_batch_end` is slow compared to the batch time (batch time: 0.0038s vs `on_train_batch_end` time: 0.0040s). Check your callbacks.\n"
          ]
        },
        {
          "output_type": "stream",
          "name": "stdout",
          "text": [
            "387/391 [============================>.] - ETA: 0s - loss: 0.6554 - accuracy: 0.7742"
          ]
        },
        {
          "output_type": "stream",
          "name": "stderr",
          "text": [
            "/usr/local/lib/python3.10/dist-packages/keras/src/engine/training.py:3103: UserWarning: You are saving your model as an HDF5 file via `model.save()`. This file format is considered legacy. We recommend using instead the native Keras format, e.g. `model.save('my_model.keras')`.\n",
            "  saving_api.save_model(\n",
            "\u001b[34m\u001b[1mwandb\u001b[0m: Adding directory to artifact (/content/wandb/run-20240424_134200-2zdm2cpo/files/model-best)... Done. 0.0s\n"
          ]
        },
        {
          "output_type": "stream",
          "name": "stdout",
          "text": [
            "\b\b\b\b\b\b\b\b\b\b\b\b\b\b\b\b\b\b\b\b\b\b\b\b\b\b\b\b\b\b\b\b\b\b\b\b\b\b\b\b\b\b\b\b\b\b\b\b\b\b\b\b\b\b\b\b\b\b\b\b\b\b\b\b\b\b\b\b\b\b\b\b\b\b\b\b\b\b\b\b\b\b\b\b\r391/391 [==============================] - 4s 7ms/step - loss: 0.6541 - accuracy: 0.7746 - val_loss: 0.4438 - val_accuracy: 0.8455\n",
            "Epoch 2/100\n",
            "379/391 [============================>.] - ETA: 0s - loss: 0.4539 - accuracy: 0.8392"
          ]
        },
        {
          "output_type": "stream",
          "name": "stderr",
          "text": [
            "/usr/local/lib/python3.10/dist-packages/keras/src/engine/training.py:3103: UserWarning: You are saving your model as an HDF5 file via `model.save()`. This file format is considered legacy. We recommend using instead the native Keras format, e.g. `model.save('my_model.keras')`.\n",
            "  saving_api.save_model(\n",
            "\u001b[34m\u001b[1mwandb\u001b[0m: Adding directory to artifact (/content/wandb/run-20240424_134200-2zdm2cpo/files/model-best)... Done. 0.0s\n"
          ]
        },
        {
          "output_type": "stream",
          "name": "stdout",
          "text": [
            "\b\b\b\b\b\b\b\b\b\b\b\b\b\b\b\b\b\b\b\b\b\b\b\b\b\b\b\b\b\b\b\b\b\b\b\b\b\b\b\b\b\b\b\b\b\b\b\b\b\b\b\b\b\b\b\b\b\b\b\b\b\b\b\b\b\b\b\b\b\b\b\b\b\b\b\b\b\b\b\b\b\b\b\b\r391/391 [==============================] - 2s 6ms/step - loss: 0.4527 - accuracy: 0.8399 - val_loss: 0.3965 - val_accuracy: 0.8586\n",
            "Epoch 3/100\n",
            "377/391 [===========================>..] - ETA: 0s - loss: 0.4104 - accuracy: 0.8539"
          ]
        },
        {
          "output_type": "stream",
          "name": "stderr",
          "text": [
            "/usr/local/lib/python3.10/dist-packages/keras/src/engine/training.py:3103: UserWarning: You are saving your model as an HDF5 file via `model.save()`. This file format is considered legacy. We recommend using instead the native Keras format, e.g. `model.save('my_model.keras')`.\n",
            "  saving_api.save_model(\n",
            "\u001b[34m\u001b[1mwandb\u001b[0m: Adding directory to artifact (/content/wandb/run-20240424_134200-2zdm2cpo/files/model-best)... Done. 0.0s\n"
          ]
        },
        {
          "output_type": "stream",
          "name": "stdout",
          "text": [
            "\b\b\b\b\b\b\b\b\b\b\b\b\b\b\b\b\b\b\b\b\b\b\b\b\b\b\b\b\b\b\b\b\b\b\b\b\b\b\b\b\b\b\b\b\b\b\b\b\b\b\b\b\b\b\b\b\b\b\b\b\b\b\b\b\b\b\b\b\b\b\b\b\b\b\b\b\b\b\b\b\b\b\b\b\r391/391 [==============================] - 2s 5ms/step - loss: 0.4119 - accuracy: 0.8532 - val_loss: 0.3866 - val_accuracy: 0.8624\n",
            "Epoch 4/100\n",
            "389/391 [============================>.] - ETA: 0s - loss: 0.3869 - accuracy: 0.8614"
          ]
        },
        {
          "output_type": "stream",
          "name": "stderr",
          "text": [
            "/usr/local/lib/python3.10/dist-packages/keras/src/engine/training.py:3103: UserWarning: You are saving your model as an HDF5 file via `model.save()`. This file format is considered legacy. We recommend using instead the native Keras format, e.g. `model.save('my_model.keras')`.\n",
            "  saving_api.save_model(\n",
            "\u001b[34m\u001b[1mwandb\u001b[0m: Adding directory to artifact (/content/wandb/run-20240424_134200-2zdm2cpo/files/model-best)... Done. 0.0s\n"
          ]
        },
        {
          "output_type": "stream",
          "name": "stdout",
          "text": [
            "\b\b\b\b\b\b\b\b\b\b\b\b\b\b\b\b\b\b\b\b\b\b\b\b\b\b\b\b\b\b\b\b\b\b\b\b\b\b\b\b\b\b\b\b\b\b\b\b\b\b\b\b\b\b\b\b\b\b\b\b\b\b\b\b\b\b\b\b\b\b\b\b\b\b\b\b\b\b\b\b\b\b\b\b\r391/391 [==============================] - 2s 5ms/step - loss: 0.3867 - accuracy: 0.8615 - val_loss: 0.3497 - val_accuracy: 0.8741\n",
            "Epoch 5/100\n",
            "391/391 [==============================] - 2s 4ms/step - loss: 0.3639 - accuracy: 0.8686 - val_loss: 0.3549 - val_accuracy: 0.8720\n",
            "Epoch 6/100\n",
            "391/391 [==============================] - 2s 5ms/step - loss: 0.3557 - accuracy: 0.8717 - val_loss: 0.3576 - val_accuracy: 0.8694\n",
            "Epoch 7/100\n",
            "387/391 [============================>.] - ETA: 0s - loss: 0.3460 - accuracy: 0.8756"
          ]
        },
        {
          "output_type": "stream",
          "name": "stderr",
          "text": [
            "/usr/local/lib/python3.10/dist-packages/keras/src/engine/training.py:3103: UserWarning: You are saving your model as an HDF5 file via `model.save()`. This file format is considered legacy. We recommend using instead the native Keras format, e.g. `model.save('my_model.keras')`.\n",
            "  saving_api.save_model(\n",
            "\u001b[34m\u001b[1mwandb\u001b[0m: Adding directory to artifact (/content/wandb/run-20240424_134200-2zdm2cpo/files/model-best)... Done. 0.0s\n"
          ]
        },
        {
          "output_type": "stream",
          "name": "stdout",
          "text": [
            "\b\b\b\b\b\b\b\b\b\b\b\b\b\b\b\b\b\b\b\b\b\b\b\b\b\b\b\b\b\b\b\b\b\b\b\b\b\b\b\b\b\b\b\b\b\b\b\b\b\b\b\b\b\b\b\b\b\b\b\b\b\b\b\b\b\b\b\b\b\b\b\b\b\b\b\b\b\b\b\b\b\b\b\b\r391/391 [==============================] - 2s 6ms/step - loss: 0.3462 - accuracy: 0.8755 - val_loss: 0.3286 - val_accuracy: 0.8803\n",
            "Epoch 8/100\n",
            "380/391 [============================>.] - ETA: 0s - loss: 0.3333 - accuracy: 0.8789"
          ]
        },
        {
          "output_type": "stream",
          "name": "stderr",
          "text": [
            "/usr/local/lib/python3.10/dist-packages/keras/src/engine/training.py:3103: UserWarning: You are saving your model as an HDF5 file via `model.save()`. This file format is considered legacy. We recommend using instead the native Keras format, e.g. `model.save('my_model.keras')`.\n",
            "  saving_api.save_model(\n",
            "\u001b[34m\u001b[1mwandb\u001b[0m: Adding directory to artifact (/content/wandb/run-20240424_134200-2zdm2cpo/files/model-best)... Done. 0.0s\n"
          ]
        },
        {
          "output_type": "stream",
          "name": "stdout",
          "text": [
            "\b\b\b\b\b\b\b\b\b\b\b\b\b\b\b\b\b\b\b\b\b\b\b\b\b\b\b\b\b\b\b\b\b\b\b\b\b\b\b\b\b\b\b\b\b\b\b\b\b\b\b\b\b\b\b\b\b\b\b\b\b\b\b\b\b\b\b\b\b\b\b\b\b\b\b\b\b\b\b\b\b\b\b\b\r391/391 [==============================] - 2s 6ms/step - loss: 0.3331 - accuracy: 0.8791 - val_loss: 0.3181 - val_accuracy: 0.8844\n",
            "Epoch 9/100\n",
            "391/391 [==============================] - 2s 4ms/step - loss: 0.3225 - accuracy: 0.8823 - val_loss: 0.3189 - val_accuracy: 0.8852\n",
            "Epoch 10/100\n",
            "389/391 [============================>.] - ETA: 0s - loss: 0.3166 - accuracy: 0.8841"
          ]
        },
        {
          "output_type": "stream",
          "name": "stderr",
          "text": [
            "/usr/local/lib/python3.10/dist-packages/keras/src/engine/training.py:3103: UserWarning: You are saving your model as an HDF5 file via `model.save()`. This file format is considered legacy. We recommend using instead the native Keras format, e.g. `model.save('my_model.keras')`.\n",
            "  saving_api.save_model(\n",
            "\u001b[34m\u001b[1mwandb\u001b[0m: Adding directory to artifact (/content/wandb/run-20240424_134200-2zdm2cpo/files/model-best)... Done. 0.0s\n"
          ]
        },
        {
          "output_type": "stream",
          "name": "stdout",
          "text": [
            "\b\b\b\b\b\b\b\b\b\b\b\b\b\b\b\b\b\b\b\b\b\b\b\b\b\b\b\b\b\b\b\b\b\b\b\b\b\b\b\b\b\b\b\b\b\b\b\b\b\b\b\b\b\b\b\b\b\b\b\b\b\b\b\b\b\b\b\b\b\b\b\b\b\b\b\b\b\b\b\b\b\b\b\b\r391/391 [==============================] - 2s 6ms/step - loss: 0.3166 - accuracy: 0.8841 - val_loss: 0.3156 - val_accuracy: 0.8839\n",
            "Epoch 11/100\n",
            "391/391 [==============================] - 2s 4ms/step - loss: 0.3086 - accuracy: 0.8876 - val_loss: 0.3198 - val_accuracy: 0.8822\n",
            "Epoch 12/100\n",
            "382/391 [============================>.] - ETA: 0s - loss: 0.3010 - accuracy: 0.8900"
          ]
        },
        {
          "output_type": "stream",
          "name": "stderr",
          "text": [
            "/usr/local/lib/python3.10/dist-packages/keras/src/engine/training.py:3103: UserWarning: You are saving your model as an HDF5 file via `model.save()`. This file format is considered legacy. We recommend using instead the native Keras format, e.g. `model.save('my_model.keras')`.\n",
            "  saving_api.save_model(\n",
            "\u001b[34m\u001b[1mwandb\u001b[0m: Adding directory to artifact (/content/wandb/run-20240424_134200-2zdm2cpo/files/model-best)... Done. 0.0s\n"
          ]
        },
        {
          "output_type": "stream",
          "name": "stdout",
          "text": [
            "\b\b\b\b\b\b\b\b\b\b\b\b\b\b\b\b\b\b\b\b\b\b\b\b\b\b\b\b\b\b\b\b\b\b\b\b\b\b\b\b\b\b\b\b\b\b\b\b\b\b\b\b\b\b\b\b\b\b\b\b\b\b\b\b\b\b\b\b\b\b\b\b\b\b\b\b\b\b\b\b\b\b\b\b\r391/391 [==============================] - 3s 7ms/step - loss: 0.3012 - accuracy: 0.8896 - val_loss: 0.3128 - val_accuracy: 0.8828\n",
            "Epoch 13/100\n",
            "388/391 [============================>.] - ETA: 0s - loss: 0.2992 - accuracy: 0.8894"
          ]
        },
        {
          "output_type": "stream",
          "name": "stderr",
          "text": [
            "/usr/local/lib/python3.10/dist-packages/keras/src/engine/training.py:3103: UserWarning: You are saving your model as an HDF5 file via `model.save()`. This file format is considered legacy. We recommend using instead the native Keras format, e.g. `model.save('my_model.keras')`.\n",
            "  saving_api.save_model(\n",
            "\u001b[34m\u001b[1mwandb\u001b[0m: Adding directory to artifact (/content/wandb/run-20240424_134200-2zdm2cpo/files/model-best)... Done. 0.0s\n"
          ]
        },
        {
          "output_type": "stream",
          "name": "stdout",
          "text": [
            "\b\b\b\b\b\b\b\b\b\b\b\b\b\b\b\b\b\b\b\b\b\b\b\b\b\b\b\b\b\b\b\b\b\b\b\b\b\b\b\b\b\b\b\b\b\b\b\b\b\b\b\b\b\b\b\b\b\b\b\b\b\b\b\b\b\b\b\b\b\b\b\b\b\b\b\b\b\b\b\b\b\b\b\b\r391/391 [==============================] - 2s 5ms/step - loss: 0.2990 - accuracy: 0.8895 - val_loss: 0.3065 - val_accuracy: 0.8880\n",
            "Epoch 14/100\n",
            "391/391 [==============================] - 1s 4ms/step - loss: 0.2931 - accuracy: 0.8905 - val_loss: 0.3096 - val_accuracy: 0.8871\n",
            "Epoch 15/100\n",
            "391/391 [==============================] - 2s 4ms/step - loss: 0.2887 - accuracy: 0.8935 - val_loss: 0.3070 - val_accuracy: 0.8890\n",
            "Epoch 16/100\n",
            "391/391 [==============================] - 1s 4ms/step - loss: 0.2858 - accuracy: 0.8949 - val_loss: 0.3083 - val_accuracy: 0.8870\n",
            "Epoch 17/100\n",
            "391/391 [==============================] - 2s 4ms/step - loss: 0.2796 - accuracy: 0.8972 - val_loss: 0.3123 - val_accuracy: 0.8857\n",
            "Epoch 18/100\n",
            "377/391 [===========================>..] - ETA: 0s - loss: 0.2731 - accuracy: 0.8997"
          ]
        },
        {
          "output_type": "stream",
          "name": "stderr",
          "text": [
            "/usr/local/lib/python3.10/dist-packages/keras/src/engine/training.py:3103: UserWarning: You are saving your model as an HDF5 file via `model.save()`. This file format is considered legacy. We recommend using instead the native Keras format, e.g. `model.save('my_model.keras')`.\n",
            "  saving_api.save_model(\n",
            "\u001b[34m\u001b[1mwandb\u001b[0m: Adding directory to artifact (/content/wandb/run-20240424_134200-2zdm2cpo/files/model-best)... Done. 0.0s\n"
          ]
        },
        {
          "output_type": "stream",
          "name": "stdout",
          "text": [
            "\b\b\b\b\b\b\b\b\b\b\b\b\b\b\b\b\b\b\b\b\b\b\b\b\b\b\b\b\b\b\b\b\b\b\b\b\b\b\b\b\b\b\b\b\b\b\b\b\b\b\b\b\b\b\b\b\b\b\b\b\b\b\b\b\b\b\b\b\b\b\b\b\b\b\b\b\b\b\b\b\b\b\b\b\r391/391 [==============================] - 2s 6ms/step - loss: 0.2729 - accuracy: 0.8997 - val_loss: 0.3036 - val_accuracy: 0.8860\n",
            "Epoch 19/100\n",
            "391/391 [==============================] - 2s 5ms/step - loss: 0.2693 - accuracy: 0.9003 - val_loss: 0.3037 - val_accuracy: 0.8881\n",
            "Epoch 20/100\n",
            "391/391 [==============================] - 2s 4ms/step - loss: 0.2665 - accuracy: 0.9014 - val_loss: 0.3081 - val_accuracy: 0.8883\n",
            "Epoch 21/100\n",
            "380/391 [============================>.] - ETA: 0s - loss: 0.2649 - accuracy: 0.9019"
          ]
        },
        {
          "output_type": "stream",
          "name": "stderr",
          "text": [
            "/usr/local/lib/python3.10/dist-packages/keras/src/engine/training.py:3103: UserWarning: You are saving your model as an HDF5 file via `model.save()`. This file format is considered legacy. We recommend using instead the native Keras format, e.g. `model.save('my_model.keras')`.\n",
            "  saving_api.save_model(\n",
            "\u001b[34m\u001b[1mwandb\u001b[0m: Adding directory to artifact (/content/wandb/run-20240424_134200-2zdm2cpo/files/model-best)... Done. 0.0s\n"
          ]
        },
        {
          "output_type": "stream",
          "name": "stdout",
          "text": [
            "\b\b\b\b\b\b\b\b\b\b\b\b\b\b\b\b\b\b\b\b\b\b\b\b\b\b\b\b\b\b\b\b\b\b\b\b\b\b\b\b\b\b\b\b\b\b\b\b\b\b\b\b\b\b\b\b\b\b\b\b\b\b\b\b\b\b\b\b\b\b\b\b\b\b\b\b\b\b\b\b\b\b\b\b\r391/391 [==============================] - 3s 7ms/step - loss: 0.2649 - accuracy: 0.9020 - val_loss: 0.3016 - val_accuracy: 0.8916\n",
            "Epoch 22/100\n",
            "385/391 [============================>.] - ETA: 0s - loss: 0.2613 - accuracy: 0.9039"
          ]
        },
        {
          "output_type": "stream",
          "name": "stderr",
          "text": [
            "/usr/local/lib/python3.10/dist-packages/keras/src/engine/training.py:3103: UserWarning: You are saving your model as an HDF5 file via `model.save()`. This file format is considered legacy. We recommend using instead the native Keras format, e.g. `model.save('my_model.keras')`.\n",
            "  saving_api.save_model(\n",
            "\u001b[34m\u001b[1mwandb\u001b[0m: Adding directory to artifact (/content/wandb/run-20240424_134200-2zdm2cpo/files/model-best)... Done. 0.0s\n"
          ]
        },
        {
          "output_type": "stream",
          "name": "stdout",
          "text": [
            "\b\b\b\b\b\b\b\b\b\b\b\b\b\b\b\b\b\b\b\b\b\b\b\b\b\b\b\b\b\b\b\b\b\b\b\b\b\b\b\b\b\b\b\b\b\b\b\b\b\b\b\b\b\b\b\b\b\b\b\b\b\b\b\b\b\b\b\b\b\b\b\b\b\b\b\b\b\b\b\b\b\b\b\b\r391/391 [==============================] - 2s 5ms/step - loss: 0.2616 - accuracy: 0.9038 - val_loss: 0.3003 - val_accuracy: 0.8947\n",
            "Epoch 23/100\n",
            "386/391 [============================>.] - ETA: 0s - loss: 0.2563 - accuracy: 0.9043"
          ]
        },
        {
          "output_type": "stream",
          "name": "stderr",
          "text": [
            "/usr/local/lib/python3.10/dist-packages/keras/src/engine/training.py:3103: UserWarning: You are saving your model as an HDF5 file via `model.save()`. This file format is considered legacy. We recommend using instead the native Keras format, e.g. `model.save('my_model.keras')`.\n",
            "  saving_api.save_model(\n",
            "\u001b[34m\u001b[1mwandb\u001b[0m: Adding directory to artifact (/content/wandb/run-20240424_134200-2zdm2cpo/files/model-best)... Done. 0.0s\n"
          ]
        },
        {
          "output_type": "stream",
          "name": "stdout",
          "text": [
            "\b\b\b\b\b\b\b\b\b\b\b\b\b\b\b\b\b\b\b\b\b\b\b\b\b\b\b\b\b\b\b\b\b\b\b\b\b\b\b\b\b\b\b\b\b\b\b\b\b\b\b\b\b\b\b\b\b\b\b\b\b\b\b\b\b\b\b\b\b\b\b\b\b\b\b\b\b\b\b\b\b\b\b\b\r391/391 [==============================] - 2s 5ms/step - loss: 0.2564 - accuracy: 0.9044 - val_loss: 0.2969 - val_accuracy: 0.8938\n",
            "Epoch 24/100\n",
            "391/391 [==============================] - 1s 4ms/step - loss: 0.2524 - accuracy: 0.9057 - val_loss: 0.2972 - val_accuracy: 0.8913\n",
            "Epoch 25/100\n",
            "391/391 [==============================] - 2s 5ms/step - loss: 0.2487 - accuracy: 0.9068 - val_loss: 0.3000 - val_accuracy: 0.8955\n",
            "Epoch 26/100\n",
            "391/391 [==============================] - 2s 5ms/step - loss: 0.2496 - accuracy: 0.9062 - val_loss: 0.2997 - val_accuracy: 0.8944\n",
            "Epoch 27/100\n",
            "388/391 [============================>.] - ETA: 0s - loss: 0.2471 - accuracy: 0.9081"
          ]
        },
        {
          "output_type": "stream",
          "name": "stderr",
          "text": [
            "/usr/local/lib/python3.10/dist-packages/keras/src/engine/training.py:3103: UserWarning: You are saving your model as an HDF5 file via `model.save()`. This file format is considered legacy. We recommend using instead the native Keras format, e.g. `model.save('my_model.keras')`.\n",
            "  saving_api.save_model(\n",
            "\u001b[34m\u001b[1mwandb\u001b[0m: Adding directory to artifact (/content/wandb/run-20240424_134200-2zdm2cpo/files/model-best)... Done. 0.0s\n"
          ]
        },
        {
          "output_type": "stream",
          "name": "stdout",
          "text": [
            "\b\b\b\b\b\b\b\b\b\b\b\b\b\b\b\b\b\b\b\b\b\b\b\b\b\b\b\b\b\b\b\b\b\b\b\b\b\b\b\b\b\b\b\b\b\b\b\b\b\b\b\b\b\b\b\b\b\b\b\b\b\b\b\b\b\b\b\b\b\b\b\b\b\b\b\b\b\b\b\b\b\b\b\b\r391/391 [==============================] - 2s 5ms/step - loss: 0.2468 - accuracy: 0.9083 - val_loss: 0.2917 - val_accuracy: 0.8956\n",
            "Epoch 28/100\n",
            "391/391 [==============================] - 2s 4ms/step - loss: 0.2432 - accuracy: 0.9097 - val_loss: 0.3037 - val_accuracy: 0.8924\n",
            "Epoch 29/100\n",
            "391/391 [==============================] - 2s 4ms/step - loss: 0.2390 - accuracy: 0.9099 - val_loss: 0.2971 - val_accuracy: 0.8925\n",
            "Epoch 30/100\n",
            "391/391 [==============================] - 1s 4ms/step - loss: 0.2377 - accuracy: 0.9105 - val_loss: 0.2934 - val_accuracy: 0.8939\n",
            "Epoch 31/100\n",
            "391/391 [==============================] - 2s 4ms/step - loss: 0.2334 - accuracy: 0.9136 - val_loss: 0.2999 - val_accuracy: 0.8930\n",
            "Epoch 32/100\n",
            "391/391 [==============================] - 2s 4ms/step - loss: 0.2306 - accuracy: 0.9138 - val_loss: 0.3044 - val_accuracy: 0.8910\n",
            "Epoch 33/100\n",
            "391/391 [==============================] - 2s 5ms/step - loss: 0.2293 - accuracy: 0.9137 - val_loss: 0.2981 - val_accuracy: 0.8946\n",
            "Epoch 34/100\n",
            "391/391 [==============================] - 1s 4ms/step - loss: 0.2276 - accuracy: 0.9148 - val_loss: 0.3031 - val_accuracy: 0.8923\n",
            "Epoch 35/100\n",
            "391/391 [==============================] - 2s 4ms/step - loss: 0.2232 - accuracy: 0.9164 - val_loss: 0.3069 - val_accuracy: 0.8929\n",
            "Epoch 36/100\n",
            "391/391 [==============================] - 2s 4ms/step - loss: 0.2211 - accuracy: 0.9171 - val_loss: 0.3030 - val_accuracy: 0.8958\n",
            "Epoch 37/100\n",
            "391/391 [==============================] - 2s 4ms/step - loss: 0.2197 - accuracy: 0.9182 - val_loss: 0.3152 - val_accuracy: 0.8938\n",
            "Epoch 38/100\n",
            "391/391 [==============================] - 2s 4ms/step - loss: 0.2172 - accuracy: 0.9182 - val_loss: 0.2983 - val_accuracy: 0.8965\n",
            "Epoch 39/100\n",
            "391/391 [==============================] - 1s 4ms/step - loss: 0.2156 - accuracy: 0.9186 - val_loss: 0.3036 - val_accuracy: 0.8966\n",
            "Epoch 40/100\n",
            "391/391 [==============================] - 2s 5ms/step - loss: 0.2123 - accuracy: 0.9207 - val_loss: 0.3061 - val_accuracy: 0.8923\n",
            "Epoch 41/100\n",
            "391/391 [==============================] - 2s 5ms/step - loss: 0.2118 - accuracy: 0.9198 - val_loss: 0.3069 - val_accuracy: 0.8953\n",
            "Epoch 42/100\n",
            "391/391 [==============================] - 2s 4ms/step - loss: 0.2114 - accuracy: 0.9193 - val_loss: 0.3115 - val_accuracy: 0.8927\n",
            "Epoch 43/100\n",
            "391/391 [==============================] - 1s 4ms/step - loss: 0.2099 - accuracy: 0.9207 - val_loss: 0.3113 - val_accuracy: 0.8961\n",
            "Epoch 44/100\n",
            "391/391 [==============================] - 1s 4ms/step - loss: 0.2113 - accuracy: 0.9206 - val_loss: 0.3042 - val_accuracy: 0.8927\n",
            "Epoch 45/100\n",
            "391/391 [==============================] - 2s 4ms/step - loss: 0.2057 - accuracy: 0.9216 - val_loss: 0.3104 - val_accuracy: 0.8943\n",
            "Epoch 46/100\n",
            "391/391 [==============================] - 1s 4ms/step - loss: 0.2030 - accuracy: 0.9229 - val_loss: 0.3077 - val_accuracy: 0.8964\n",
            "Epoch 47/100\n",
            "391/391 [==============================] - 1s 4ms/step - loss: 0.2025 - accuracy: 0.9238 - val_loss: 0.3062 - val_accuracy: 0.8957\n",
            "Epoch 48/100\n",
            "391/391 [==============================] - 2s 4ms/step - loss: 0.2016 - accuracy: 0.9245 - val_loss: 0.3164 - val_accuracy: 0.8972\n",
            "Epoch 49/100\n",
            "391/391 [==============================] - 2s 5ms/step - loss: 0.1970 - accuracy: 0.9248 - val_loss: 0.3078 - val_accuracy: 0.8971\n",
            "Epoch 50/100\n",
            "391/391 [==============================] - 1s 4ms/step - loss: 0.1965 - accuracy: 0.9258 - val_loss: 0.3187 - val_accuracy: 0.8934\n",
            "Epoch 51/100\n",
            "391/391 [==============================] - 1s 4ms/step - loss: 0.1938 - accuracy: 0.9268 - val_loss: 0.3152 - val_accuracy: 0.8941\n",
            "Epoch 52/100\n",
            "391/391 [==============================] - 2s 4ms/step - loss: 0.1922 - accuracy: 0.9275 - val_loss: 0.3222 - val_accuracy: 0.8945\n",
            "Epoch 53/100\n",
            "391/391 [==============================] - 2s 4ms/step - loss: 0.1932 - accuracy: 0.9260 - val_loss: 0.3204 - val_accuracy: 0.8947\n",
            "Epoch 54/100\n",
            "391/391 [==============================] - 2s 4ms/step - loss: 0.1926 - accuracy: 0.9267 - val_loss: 0.3172 - val_accuracy: 0.8955\n",
            "Epoch 55/100\n",
            "391/391 [==============================] - 2s 4ms/step - loss: 0.1919 - accuracy: 0.9281 - val_loss: 0.3131 - val_accuracy: 0.8925\n",
            "Epoch 56/100\n",
            "391/391 [==============================] - 2s 5ms/step - loss: 0.1855 - accuracy: 0.9291 - val_loss: 0.3221 - val_accuracy: 0.8949\n",
            "Epoch 57/100\n",
            "391/391 [==============================] - 2s 5ms/step - loss: 0.1871 - accuracy: 0.9290 - val_loss: 0.3207 - val_accuracy: 0.8941\n",
            "Epoch 58/100\n",
            "391/391 [==============================] - 1s 4ms/step - loss: 0.1856 - accuracy: 0.9312 - val_loss: 0.3075 - val_accuracy: 0.8957\n",
            "Epoch 59/100\n",
            "391/391 [==============================] - 1s 4ms/step - loss: 0.1867 - accuracy: 0.9303 - val_loss: 0.3344 - val_accuracy: 0.8940\n",
            "Epoch 60/100\n",
            "391/391 [==============================] - 1s 4ms/step - loss: 0.1857 - accuracy: 0.9299 - val_loss: 0.3268 - val_accuracy: 0.8940\n",
            "Epoch 61/100\n",
            "391/391 [==============================] - 2s 4ms/step - loss: 0.1816 - accuracy: 0.9316 - val_loss: 0.3190 - val_accuracy: 0.8952\n",
            "Epoch 62/100\n",
            "391/391 [==============================] - 2s 4ms/step - loss: 0.1805 - accuracy: 0.9315 - val_loss: 0.3273 - val_accuracy: 0.8965\n",
            "Epoch 63/100\n",
            "391/391 [==============================] - 2s 4ms/step - loss: 0.1765 - accuracy: 0.9328 - val_loss: 0.3304 - val_accuracy: 0.8960\n",
            "Epoch 64/100\n",
            "391/391 [==============================] - 2s 5ms/step - loss: 0.1795 - accuracy: 0.9317 - val_loss: 0.3303 - val_accuracy: 0.8949\n",
            "Epoch 65/100\n",
            "391/391 [==============================] - 2s 4ms/step - loss: 0.1770 - accuracy: 0.9326 - val_loss: 0.3231 - val_accuracy: 0.8973\n",
            "Epoch 66/100\n",
            "391/391 [==============================] - 2s 4ms/step - loss: 0.1746 - accuracy: 0.9334 - val_loss: 0.3307 - val_accuracy: 0.8951\n",
            "Epoch 67/100\n",
            "391/391 [==============================] - 2s 4ms/step - loss: 0.1758 - accuracy: 0.9333 - val_loss: 0.3333 - val_accuracy: 0.8955\n",
            "Epoch 68/100\n",
            "391/391 [==============================] - 1s 4ms/step - loss: 0.1752 - accuracy: 0.9339 - val_loss: 0.3516 - val_accuracy: 0.8901\n",
            "Epoch 69/100\n",
            "391/391 [==============================] - 1s 4ms/step - loss: 0.1751 - accuracy: 0.9335 - val_loss: 0.3371 - val_accuracy: 0.8950\n",
            "Epoch 70/100\n",
            "391/391 [==============================] - 1s 4ms/step - loss: 0.1727 - accuracy: 0.9337 - val_loss: 0.3582 - val_accuracy: 0.8918\n",
            "Epoch 71/100\n",
            "391/391 [==============================] - 2s 4ms/step - loss: 0.1686 - accuracy: 0.9363 - val_loss: 0.3336 - val_accuracy: 0.8932\n",
            "Epoch 72/100\n",
            "391/391 [==============================] - 2s 5ms/step - loss: 0.1733 - accuracy: 0.9333 - val_loss: 0.3342 - val_accuracy: 0.8953\n",
            "Epoch 73/100\n",
            "391/391 [==============================] - 1s 3ms/step - loss: 0.1681 - accuracy: 0.9355 - val_loss: 0.3472 - val_accuracy: 0.8948\n",
            "Epoch 74/100\n",
            "391/391 [==============================] - 1s 3ms/step - loss: 0.1712 - accuracy: 0.9352 - val_loss: 0.3429 - val_accuracy: 0.8962\n",
            "Epoch 75/100\n",
            "391/391 [==============================] - 1s 4ms/step - loss: 0.1670 - accuracy: 0.9360 - val_loss: 0.3467 - val_accuracy: 0.8963\n",
            "Epoch 76/100\n",
            "391/391 [==============================] - 1s 4ms/step - loss: 0.1650 - accuracy: 0.9392 - val_loss: 0.3515 - val_accuracy: 0.8957\n",
            "Epoch 77/100\n",
            "391/391 [==============================] - 2s 4ms/step - loss: 0.1660 - accuracy: 0.9366 - val_loss: 0.3430 - val_accuracy: 0.8952\n",
            "Epoch 78/100\n",
            "391/391 [==============================] - 2s 4ms/step - loss: 0.1644 - accuracy: 0.9373 - val_loss: 0.3373 - val_accuracy: 0.8968\n",
            "Epoch 79/100\n",
            "391/391 [==============================] - 2s 4ms/step - loss: 0.1648 - accuracy: 0.9363 - val_loss: 0.3593 - val_accuracy: 0.8948\n",
            "Epoch 80/100\n",
            "391/391 [==============================] - 2s 5ms/step - loss: 0.1630 - accuracy: 0.9381 - val_loss: 0.3500 - val_accuracy: 0.8970\n",
            "Epoch 81/100\n",
            "391/391 [==============================] - 1s 4ms/step - loss: 0.1636 - accuracy: 0.9379 - val_loss: 0.3515 - val_accuracy: 0.8969\n",
            "Epoch 82/100\n",
            "391/391 [==============================] - 1s 4ms/step - loss: 0.1598 - accuracy: 0.9390 - val_loss: 0.3565 - val_accuracy: 0.8949\n",
            "Epoch 83/100\n",
            "391/391 [==============================] - 1s 4ms/step - loss: 0.1560 - accuracy: 0.9408 - val_loss: 0.3508 - val_accuracy: 0.8959\n",
            "Epoch 84/100\n",
            "391/391 [==============================] - 1s 4ms/step - loss: 0.1551 - accuracy: 0.9411 - val_loss: 0.3566 - val_accuracy: 0.8935\n",
            "Epoch 85/100\n",
            "391/391 [==============================] - 2s 4ms/step - loss: 0.1609 - accuracy: 0.9375 - val_loss: 0.3535 - val_accuracy: 0.8948\n",
            "Epoch 86/100\n",
            "391/391 [==============================] - 1s 4ms/step - loss: 0.1569 - accuracy: 0.9408 - val_loss: 0.3441 - val_accuracy: 0.8969\n",
            "Epoch 87/100\n",
            "391/391 [==============================] - 2s 4ms/step - loss: 0.1599 - accuracy: 0.9389 - val_loss: 0.3587 - val_accuracy: 0.8939\n",
            "Epoch 88/100\n",
            "391/391 [==============================] - 2s 5ms/step - loss: 0.1566 - accuracy: 0.9402 - val_loss: 0.3489 - val_accuracy: 0.8966\n",
            "Epoch 89/100\n",
            "391/391 [==============================] - 1s 4ms/step - loss: 0.1557 - accuracy: 0.9397 - val_loss: 0.3581 - val_accuracy: 0.8951\n",
            "Epoch 90/100\n",
            "391/391 [==============================] - 1s 4ms/step - loss: 0.1567 - accuracy: 0.9396 - val_loss: 0.3557 - val_accuracy: 0.8947\n",
            "Epoch 91/100\n",
            "391/391 [==============================] - 2s 4ms/step - loss: 0.1530 - accuracy: 0.9414 - val_loss: 0.3614 - val_accuracy: 0.8938\n",
            "Epoch 92/100\n",
            "391/391 [==============================] - 1s 4ms/step - loss: 0.1559 - accuracy: 0.9410 - val_loss: 0.3580 - val_accuracy: 0.8963\n",
            "Epoch 93/100\n",
            "391/391 [==============================] - 2s 4ms/step - loss: 0.1532 - accuracy: 0.9420 - val_loss: 0.3841 - val_accuracy: 0.8908\n",
            "Epoch 94/100\n",
            "391/391 [==============================] - 1s 4ms/step - loss: 0.1490 - accuracy: 0.9418 - val_loss: 0.3496 - val_accuracy: 0.8970\n",
            "Epoch 95/100\n",
            "391/391 [==============================] - 2s 4ms/step - loss: 0.1487 - accuracy: 0.9418 - val_loss: 0.3680 - val_accuracy: 0.8951\n",
            "Epoch 96/100\n",
            "391/391 [==============================] - 2s 6ms/step - loss: 0.1493 - accuracy: 0.9424 - val_loss: 0.3717 - val_accuracy: 0.8929\n",
            "Epoch 97/100\n",
            "391/391 [==============================] - 2s 4ms/step - loss: 0.1501 - accuracy: 0.9428 - val_loss: 0.3783 - val_accuracy: 0.8951\n",
            "Epoch 98/100\n",
            "391/391 [==============================] - 2s 4ms/step - loss: 0.1470 - accuracy: 0.9443 - val_loss: 0.3886 - val_accuracy: 0.8952\n",
            "Epoch 99/100\n",
            "391/391 [==============================] - 2s 4ms/step - loss: 0.1483 - accuracy: 0.9428 - val_loss: 0.3696 - val_accuracy: 0.8977\n",
            "Epoch 100/100\n",
            "391/391 [==============================] - 2s 4ms/step - loss: 0.1468 - accuracy: 0.9434 - val_loss: 0.3757 - val_accuracy: 0.8973\n"
          ]
        },
        {
          "output_type": "display_data",
          "data": {
            "text/plain": [
              "VBox(children=(Label(value='17.594 MB of 18.810 MB uploaded (0.095 MB deduped)\\r'), FloatProgress(value=0.9353…"
            ],
            "application/vnd.jupyter.widget-view+json": {
              "version_major": 2,
              "version_minor": 0,
              "model_id": "a8c9c434dd2f4714ac03ec9e0e95556a"
            }
          },
          "metadata": {}
        },
        {
          "output_type": "display_data",
          "data": {
            "text/plain": [
              "<IPython.core.display.HTML object>"
            ],
            "text/html": [
              "<style>\n",
              "    table.wandb td:nth-child(1) { padding: 0 10px; text-align: left ; width: auto;} td:nth-child(2) {text-align: left ; width: 100%}\n",
              "    .wandb-row { display: flex; flex-direction: row; flex-wrap: wrap; justify-content: flex-start; width: 100% }\n",
              "    .wandb-col { display: flex; flex-direction: column; flex-basis: 100%; flex: 1; padding: 10px; }\n",
              "    </style>\n",
              "<div class=\"wandb-row\"><div class=\"wandb-col\"><h3>Run history:</h3><br/><table class=\"wandb\"><tr><td>accuracy</td><td>▁▄▅▅▆▆▆▆▆▆▆▇▇▇▇▇▇▇▇▇▇▇▇▇████████████████</td></tr><tr><td>epoch</td><td>▁▁▁▁▂▂▂▂▂▃▃▃▃▃▃▄▄▄▄▄▅▅▅▅▅▅▆▆▆▆▆▇▇▇▇▇▇███</td></tr><tr><td>loss</td><td>█▅▄▄▃▃▃▃▃▃▂▂▂▂▂▂▂▂▂▂▂▂▂▂▁▁▁▁▁▁▁▁▁▁▁▁▁▁▁▁</td></tr><tr><td>val_accuracy</td><td>▁▃▄▆▆▇▇▆▇██▇▇▇███▇███████████████▇██████</td></tr><tr><td>val_loss</td><td>█▅▄▂▂▁▂▁▁▁▁▁▁▁▁▁▁▁▂▂▂▂▂▃▂▃▃▃▃▃▃▄▄▄▄▄▄▄▅▅</td></tr></table><br/></div><div class=\"wandb-col\"><h3>Run summary:</h3><br/><table class=\"wandb\"><tr><td>accuracy</td><td>0.94344</td></tr><tr><td>best_epoch</td><td>26</td></tr><tr><td>best_val_loss</td><td>0.29173</td></tr><tr><td>epoch</td><td>99</td></tr><tr><td>loss</td><td>0.14681</td></tr><tr><td>val_accuracy</td><td>0.8973</td></tr><tr><td>val_loss</td><td>0.37572</td></tr></table><br/></div></div>"
            ]
          },
          "metadata": {}
        },
        {
          "output_type": "display_data",
          "data": {
            "text/plain": [
              "<IPython.core.display.HTML object>"
            ],
            "text/html": [
              " View run <strong style=\"color:#cdcd00\">usual-sweep-2</strong> at: <a href='https://wandb.ai/pkasnesis/aidl-a02-week5/runs/2zdm2cpo' target=\"_blank\">https://wandb.ai/pkasnesis/aidl-a02-week5/runs/2zdm2cpo</a><br/> View project at: <a href='https://wandb.ai/pkasnesis/aidl-a02-week5' target=\"_blank\">https://wandb.ai/pkasnesis/aidl-a02-week5</a><br/>Synced 5 W&B file(s), 1 media file(s), 70 artifact file(s) and 1 other file(s)"
            ]
          },
          "metadata": {}
        },
        {
          "output_type": "display_data",
          "data": {
            "text/plain": [
              "<IPython.core.display.HTML object>"
            ],
            "text/html": [
              "Find logs at: <code>./wandb/run-20240424_134200-2zdm2cpo/logs</code>"
            ]
          },
          "metadata": {}
        },
        {
          "output_type": "stream",
          "name": "stderr",
          "text": [
            "\u001b[34m\u001b[1mwandb\u001b[0m: Sweep Agent: Waiting for job.\n",
            "\u001b[34m\u001b[1mwandb\u001b[0m: Job received.\n",
            "\u001b[34m\u001b[1mwandb\u001b[0m: Agent Starting Run: 5ovcw5av with config:\n",
            "\u001b[34m\u001b[1mwandb\u001b[0m: \tdropout: 0.3\n",
            "\u001b[34m\u001b[1mwandb\u001b[0m: \tepochs: 100\n",
            "\u001b[34m\u001b[1mwandb\u001b[0m: \tfc_layer_size: 128\n",
            "\u001b[34m\u001b[1mwandb\u001b[0m: \tlearning-rate: 0.005\n"
          ]
        },
        {
          "output_type": "display_data",
          "data": {
            "text/plain": [
              "<IPython.core.display.HTML object>"
            ],
            "text/html": [
              "Tracking run with wandb version 0.16.6"
            ]
          },
          "metadata": {}
        },
        {
          "output_type": "display_data",
          "data": {
            "text/plain": [
              "<IPython.core.display.HTML object>"
            ],
            "text/html": [
              "Run data is saved locally in <code>/content/wandb/run-20240424_134513-5ovcw5av</code>"
            ]
          },
          "metadata": {}
        },
        {
          "output_type": "display_data",
          "data": {
            "text/plain": [
              "<IPython.core.display.HTML object>"
            ],
            "text/html": [
              "Syncing run <strong><a href='https://wandb.ai/pkasnesis/aidl-a02-week5/runs/5ovcw5av' target=\"_blank\">major-sweep-3</a></strong> to <a href='https://wandb.ai/pkasnesis/aidl-a02-week5' target=\"_blank\">Weights & Biases</a> (<a href='https://wandb.me/run' target=\"_blank\">docs</a>)<br/>Sweep page: <a href='https://wandb.ai/pkasnesis/aidl-a02-week5/sweeps/846jlb6t' target=\"_blank\">https://wandb.ai/pkasnesis/aidl-a02-week5/sweeps/846jlb6t</a>"
            ]
          },
          "metadata": {}
        },
        {
          "output_type": "display_data",
          "data": {
            "text/plain": [
              "<IPython.core.display.HTML object>"
            ],
            "text/html": [
              " View project at <a href='https://wandb.ai/pkasnesis/aidl-a02-week5' target=\"_blank\">https://wandb.ai/pkasnesis/aidl-a02-week5</a>"
            ]
          },
          "metadata": {}
        },
        {
          "output_type": "display_data",
          "data": {
            "text/plain": [
              "<IPython.core.display.HTML object>"
            ],
            "text/html": [
              " View sweep at <a href='https://wandb.ai/pkasnesis/aidl-a02-week5/sweeps/846jlb6t' target=\"_blank\">https://wandb.ai/pkasnesis/aidl-a02-week5/sweeps/846jlb6t</a>"
            ]
          },
          "metadata": {}
        },
        {
          "output_type": "display_data",
          "data": {
            "text/plain": [
              "<IPython.core.display.HTML object>"
            ],
            "text/html": [
              " View run at <a href='https://wandb.ai/pkasnesis/aidl-a02-week5/runs/5ovcw5av' target=\"_blank\">https://wandb.ai/pkasnesis/aidl-a02-week5/runs/5ovcw5av</a>"
            ]
          },
          "metadata": {}
        },
        {
          "output_type": "stream",
          "name": "stderr",
          "text": [
            "WARNING:absl:`lr` is deprecated in Keras optimizer, please use `learning_rate` or use the legacy optimizer, e.g.,tf.keras.optimizers.legacy.Adam.\n"
          ]
        },
        {
          "output_type": "stream",
          "name": "stdout",
          "text": [
            "Epoch 1/100\n",
            "377/391 [===========================>..] - ETA: 0s - loss: 0.6522 - accuracy: 0.7757"
          ]
        },
        {
          "output_type": "stream",
          "name": "stderr",
          "text": [
            "/usr/local/lib/python3.10/dist-packages/keras/src/engine/training.py:3103: UserWarning: You are saving your model as an HDF5 file via `model.save()`. This file format is considered legacy. We recommend using instead the native Keras format, e.g. `model.save('my_model.keras')`.\n",
            "  saving_api.save_model(\n",
            "\u001b[34m\u001b[1mwandb\u001b[0m: Adding directory to artifact (/content/wandb/run-20240424_134513-5ovcw5av/files/model-best)... Done. 0.0s\n"
          ]
        },
        {
          "output_type": "stream",
          "name": "stdout",
          "text": [
            "\b\b\b\b\b\b\b\b\b\b\b\b\b\b\b\b\b\b\b\b\b\b\b\b\b\b\b\b\b\b\b\b\b\b\b\b\b\b\b\b\b\b\b\b\b\b\b\b\b\b\b\b\b\b\b\b\b\b\b\b\b\b\b\b\b\b\b\b\b\b\b\b\b\b\b\b\b\b\b\b\b\b\b\b\r391/391 [==============================] - 3s 6ms/step - loss: 0.6467 - accuracy: 0.7772 - val_loss: 0.4479 - val_accuracy: 0.8421\n",
            "Epoch 2/100\n",
            "382/391 [============================>.] - ETA: 0s - loss: 0.4509 - accuracy: 0.8414"
          ]
        },
        {
          "output_type": "stream",
          "name": "stderr",
          "text": [
            "/usr/local/lib/python3.10/dist-packages/keras/src/engine/training.py:3103: UserWarning: You are saving your model as an HDF5 file via `model.save()`. This file format is considered legacy. We recommend using instead the native Keras format, e.g. `model.save('my_model.keras')`.\n",
            "  saving_api.save_model(\n",
            "\u001b[34m\u001b[1mwandb\u001b[0m: Adding directory to artifact (/content/wandb/run-20240424_134513-5ovcw5av/files/model-best)... Done. 0.0s\n"
          ]
        },
        {
          "output_type": "stream",
          "name": "stdout",
          "text": [
            "\b\b\b\b\b\b\b\b\b\b\b\b\b\b\b\b\b\b\b\b\b\b\b\b\b\b\b\b\b\b\b\b\b\b\b\b\b\b\b\b\b\b\b\b\b\b\b\b\b\b\b\b\b\b\b\b\b\b\b\b\b\b\b\b\b\b\b\b\b\b\b\b\b\b\b\b\b\b\b\b\b\b\b\b\r391/391 [==============================] - 3s 8ms/step - loss: 0.4498 - accuracy: 0.8418 - val_loss: 0.3978 - val_accuracy: 0.8564\n",
            "Epoch 3/100\n",
            "389/391 [============================>.] - ETA: 0s - loss: 0.4067 - accuracy: 0.8542"
          ]
        },
        {
          "output_type": "stream",
          "name": "stderr",
          "text": [
            "/usr/local/lib/python3.10/dist-packages/keras/src/engine/training.py:3103: UserWarning: You are saving your model as an HDF5 file via `model.save()`. This file format is considered legacy. We recommend using instead the native Keras format, e.g. `model.save('my_model.keras')`.\n",
            "  saving_api.save_model(\n",
            "\u001b[34m\u001b[1mwandb\u001b[0m: Adding directory to artifact (/content/wandb/run-20240424_134513-5ovcw5av/files/model-best)... Done. 0.0s\n"
          ]
        },
        {
          "output_type": "stream",
          "name": "stdout",
          "text": [
            "\b\b\b\b\b\b\b\b\b\b\b\b\b\b\b\b\b\b\b\b\b\b\b\b\b\b\b\b\b\b\b\b\b\b\b\b\b\b\b\b\b\b\b\b\b\b\b\b\b\b\b\b\b\b\b\b\b\b\b\b\b\b\b\b\b\b\b\b\b\b\b\b\b\b\b\b\b\b\b\b\b\b\b\b\r391/391 [==============================] - 2s 5ms/step - loss: 0.4070 - accuracy: 0.8540 - val_loss: 0.3880 - val_accuracy: 0.8581\n",
            "Epoch 4/100\n",
            "384/391 [============================>.] - ETA: 0s - loss: 0.3815 - accuracy: 0.8635"
          ]
        },
        {
          "output_type": "stream",
          "name": "stderr",
          "text": [
            "/usr/local/lib/python3.10/dist-packages/keras/src/engine/training.py:3103: UserWarning: You are saving your model as an HDF5 file via `model.save()`. This file format is considered legacy. We recommend using instead the native Keras format, e.g. `model.save('my_model.keras')`.\n",
            "  saving_api.save_model(\n",
            "\u001b[34m\u001b[1mwandb\u001b[0m: Adding directory to artifact (/content/wandb/run-20240424_134513-5ovcw5av/files/model-best)... Done. 0.0s\n"
          ]
        },
        {
          "output_type": "stream",
          "name": "stdout",
          "text": [
            "\b\b\b\b\b\b\b\b\b\b\b\b\b\b\b\b\b\b\b\b\b\b\b\b\b\b\b\b\b\b\b\b\b\b\b\b\b\b\b\b\b\b\b\b\b\b\b\b\b\b\b\b\b\b\b\b\b\b\b\b\b\b\b\b\b\b\b\b\b\b\b\b\b\b\b\b\b\b\b\b\b\b\b\b\r391/391 [==============================] - 2s 5ms/step - loss: 0.3812 - accuracy: 0.8635 - val_loss: 0.3487 - val_accuracy: 0.8738\n",
            "Epoch 5/100\n",
            "391/391 [==============================] - 2s 4ms/step - loss: 0.3618 - accuracy: 0.8694 - val_loss: 0.3515 - val_accuracy: 0.8729\n",
            "Epoch 6/100\n",
            "387/391 [============================>.] - ETA: 0s - loss: 0.3508 - accuracy: 0.8727"
          ]
        },
        {
          "output_type": "stream",
          "name": "stderr",
          "text": [
            "/usr/local/lib/python3.10/dist-packages/keras/src/engine/training.py:3103: UserWarning: You are saving your model as an HDF5 file via `model.save()`. This file format is considered legacy. We recommend using instead the native Keras format, e.g. `model.save('my_model.keras')`.\n",
            "  saving_api.save_model(\n",
            "\u001b[34m\u001b[1mwandb\u001b[0m: Adding directory to artifact (/content/wandb/run-20240424_134513-5ovcw5av/files/model-best)... Done. 0.0s\n"
          ]
        },
        {
          "output_type": "stream",
          "name": "stdout",
          "text": [
            "\b\b\b\b\b\b\b\b\b\b\b\b\b\b\b\b\b\b\b\b\b\b\b\b\b\b\b\b\b\b\b\b\b\b\b\b\b\b\b\b\b\b\b\b\b\b\b\b\b\b\b\b\b\b\b\b\b\b\b\b\b\b\b\b\b\b\b\b\b\b\b\b\b\b\b\b\b\b\b\b\b\b\b\b\r391/391 [==============================] - 2s 6ms/step - loss: 0.3506 - accuracy: 0.8727 - val_loss: 0.3429 - val_accuracy: 0.8772\n",
            "Epoch 7/100\n",
            "384/391 [============================>.] - ETA: 0s - loss: 0.3391 - accuracy: 0.8779"
          ]
        },
        {
          "output_type": "stream",
          "name": "stderr",
          "text": [
            "/usr/local/lib/python3.10/dist-packages/keras/src/engine/training.py:3103: UserWarning: You are saving your model as an HDF5 file via `model.save()`. This file format is considered legacy. We recommend using instead the native Keras format, e.g. `model.save('my_model.keras')`.\n",
            "  saving_api.save_model(\n",
            "\u001b[34m\u001b[1mwandb\u001b[0m: Adding directory to artifact (/content/wandb/run-20240424_134513-5ovcw5av/files/model-best)... Done. 0.0s\n"
          ]
        },
        {
          "output_type": "stream",
          "name": "stdout",
          "text": [
            "\b\b\b\b\b\b\b\b\b\b\b\b\b\b\b\b\b\b\b\b\b\b\b\b\b\b\b\b\b\b\b\b\b\b\b\b\b\b\b\b\b\b\b\b\b\b\b\b\b\b\b\b\b\b\b\b\b\b\b\b\b\b\b\b\b\b\b\b\b\b\b\b\b\b\b\b\b\b\b\b\b\b\b\b\r391/391 [==============================] - 2s 6ms/step - loss: 0.3388 - accuracy: 0.8779 - val_loss: 0.3313 - val_accuracy: 0.8801\n",
            "Epoch 8/100\n",
            "380/391 [============================>.] - ETA: 0s - loss: 0.3297 - accuracy: 0.8802"
          ]
        },
        {
          "output_type": "stream",
          "name": "stderr",
          "text": [
            "/usr/local/lib/python3.10/dist-packages/keras/src/engine/training.py:3103: UserWarning: You are saving your model as an HDF5 file via `model.save()`. This file format is considered legacy. We recommend using instead the native Keras format, e.g. `model.save('my_model.keras')`.\n",
            "  saving_api.save_model(\n",
            "\u001b[34m\u001b[1mwandb\u001b[0m: Adding directory to artifact (/content/wandb/run-20240424_134513-5ovcw5av/files/model-best)... Done. 0.0s\n"
          ]
        },
        {
          "output_type": "stream",
          "name": "stdout",
          "text": [
            "\b\b\b\b\b\b\b\b\b\b\b\b\b\b\b\b\b\b\b\b\b\b\b\b\b\b\b\b\b\b\b\b\b\b\b\b\b\b\b\b\b\b\b\b\b\b\b\b\b\b\b\b\b\b\b\b\b\b\b\b\b\b\b\b\b\b\b\b\b\b\b\b\b\b\b\b\b\b\b\b\b\b\b\b\r391/391 [==============================] - 3s 7ms/step - loss: 0.3297 - accuracy: 0.8802 - val_loss: 0.3245 - val_accuracy: 0.8835\n",
            "Epoch 9/100\n",
            "385/391 [============================>.] - ETA: 0s - loss: 0.3183 - accuracy: 0.8836"
          ]
        },
        {
          "output_type": "stream",
          "name": "stderr",
          "text": [
            "/usr/local/lib/python3.10/dist-packages/keras/src/engine/training.py:3103: UserWarning: You are saving your model as an HDF5 file via `model.save()`. This file format is considered legacy. We recommend using instead the native Keras format, e.g. `model.save('my_model.keras')`.\n",
            "  saving_api.save_model(\n",
            "\u001b[34m\u001b[1mwandb\u001b[0m: Adding directory to artifact (/content/wandb/run-20240424_134513-5ovcw5av/files/model-best)... Done. 0.0s\n"
          ]
        },
        {
          "output_type": "stream",
          "name": "stdout",
          "text": [
            "\b\b\b\b\b\b\b\b\b\b\b\b\b\b\b\b\b\b\b\b\b\b\b\b\b\b\b\b\b\b\b\b\b\b\b\b\b\b\b\b\b\b\b\b\b\b\b\b\b\b\b\b\b\b\b\b\b\b\b\b\b\b\b\b\b\b\b\b\b\b\b\b\b\b\b\b\b\b\b\b\b\b\b\b\r391/391 [==============================] - 2s 5ms/step - loss: 0.3177 - accuracy: 0.8838 - val_loss: 0.3137 - val_accuracy: 0.8881\n",
            "Epoch 10/100\n",
            "377/391 [===========================>..] - ETA: 0s - loss: 0.3116 - accuracy: 0.8865"
          ]
        },
        {
          "output_type": "stream",
          "name": "stderr",
          "text": [
            "/usr/local/lib/python3.10/dist-packages/keras/src/engine/training.py:3103: UserWarning: You are saving your model as an HDF5 file via `model.save()`. This file format is considered legacy. We recommend using instead the native Keras format, e.g. `model.save('my_model.keras')`.\n",
            "  saving_api.save_model(\n",
            "\u001b[34m\u001b[1mwandb\u001b[0m: Adding directory to artifact (/content/wandb/run-20240424_134513-5ovcw5av/files/model-best)... Done. 0.0s\n"
          ]
        },
        {
          "output_type": "stream",
          "name": "stdout",
          "text": [
            "\b\b\b\b\b\b\b\b\b\b\b\b\b\b\b\b\b\b\b\b\b\b\b\b\b\b\b\b\b\b\b\b\b\b\b\b\b\b\b\b\b\b\b\b\b\b\b\b\b\b\b\b\b\b\b\b\b\b\b\b\b\b\b\b\b\b\b\b\b\b\b\b\b\b\b\b\b\b\b\b\b\b\b\b\r391/391 [==============================] - 2s 5ms/step - loss: 0.3114 - accuracy: 0.8864 - val_loss: 0.3076 - val_accuracy: 0.8853\n",
            "Epoch 11/100\n",
            "391/391 [==============================] - 1s 4ms/step - loss: 0.3040 - accuracy: 0.8884 - val_loss: 0.3211 - val_accuracy: 0.8857\n",
            "Epoch 12/100\n",
            "391/391 [==============================] - 1s 4ms/step - loss: 0.3004 - accuracy: 0.8904 - val_loss: 0.3140 - val_accuracy: 0.8842\n",
            "Epoch 13/100\n",
            "382/391 [============================>.] - ETA: 0s - loss: 0.2949 - accuracy: 0.8912"
          ]
        },
        {
          "output_type": "stream",
          "name": "stderr",
          "text": [
            "/usr/local/lib/python3.10/dist-packages/keras/src/engine/training.py:3103: UserWarning: You are saving your model as an HDF5 file via `model.save()`. This file format is considered legacy. We recommend using instead the native Keras format, e.g. `model.save('my_model.keras')`.\n",
            "  saving_api.save_model(\n",
            "\u001b[34m\u001b[1mwandb\u001b[0m: Adding directory to artifact (/content/wandb/run-20240424_134513-5ovcw5av/files/model-best)... Done. 0.0s\n"
          ]
        },
        {
          "output_type": "stream",
          "name": "stdout",
          "text": [
            "\b\b\b\b\b\b\b\b\b\b\b\b\b\b\b\b\b\b\b\b\b\b\b\b\b\b\b\b\b\b\b\b\b\b\b\b\b\b\b\b\b\b\b\b\b\b\b\b\b\b\b\b\b\b\b\b\b\b\b\b\b\b\b\b\b\b\b\b\b\b\b\b\b\b\b\b\b\b\b\b\b\b\b\b\r391/391 [==============================] - 2s 6ms/step - loss: 0.2942 - accuracy: 0.8915 - val_loss: 0.3065 - val_accuracy: 0.8882\n",
            "Epoch 14/100\n",
            "387/391 [============================>.] - ETA: 0s - loss: 0.2888 - accuracy: 0.8931"
          ]
        },
        {
          "output_type": "stream",
          "name": "stderr",
          "text": [
            "/usr/local/lib/python3.10/dist-packages/keras/src/engine/training.py:3103: UserWarning: You are saving your model as an HDF5 file via `model.save()`. This file format is considered legacy. We recommend using instead the native Keras format, e.g. `model.save('my_model.keras')`.\n",
            "  saving_api.save_model(\n",
            "\u001b[34m\u001b[1mwandb\u001b[0m: Adding directory to artifact (/content/wandb/run-20240424_134513-5ovcw5av/files/model-best)... Done. 0.0s\n"
          ]
        },
        {
          "output_type": "stream",
          "name": "stdout",
          "text": [
            "\b\b\b\b\b\b\b\b\b\b\b\b\b\b\b\b\b\b\b\b\b\b\b\b\b\b\b\b\b\b\b\b\b\b\b\b\b\b\b\b\b\b\b\b\b\b\b\b\b\b\b\b\b\b\b\b\b\b\b\b\b\b\b\b\b\b\b\b\b\b\b\b\b\b\b\b\b\b\b\b\b\b\b\b\r391/391 [==============================] - 4s 10ms/step - loss: 0.2884 - accuracy: 0.8931 - val_loss: 0.3020 - val_accuracy: 0.8877\n",
            "Epoch 15/100\n",
            "391/391 [==============================] - 2s 4ms/step - loss: 0.2858 - accuracy: 0.8955 - val_loss: 0.3147 - val_accuracy: 0.8882\n",
            "Epoch 16/100\n",
            "391/391 [==============================] - 1s 3ms/step - loss: 0.2776 - accuracy: 0.8977 - val_loss: 0.3064 - val_accuracy: 0.8922\n",
            "Epoch 17/100\n",
            "391/391 [==============================] - 1s 4ms/step - loss: 0.2733 - accuracy: 0.8989 - val_loss: 0.3056 - val_accuracy: 0.8908\n",
            "Epoch 18/100\n",
            "391/391 [==============================] - ETA: 0s - loss: 0.2665 - accuracy: 0.9000"
          ]
        },
        {
          "output_type": "stream",
          "name": "stderr",
          "text": [
            "/usr/local/lib/python3.10/dist-packages/keras/src/engine/training.py:3103: UserWarning: You are saving your model as an HDF5 file via `model.save()`. This file format is considered legacy. We recommend using instead the native Keras format, e.g. `model.save('my_model.keras')`.\n",
            "  saving_api.save_model(\n",
            "\u001b[34m\u001b[1mwandb\u001b[0m: Adding directory to artifact (/content/wandb/run-20240424_134513-5ovcw5av/files/model-best)... Done. 0.0s\n"
          ]
        },
        {
          "output_type": "stream",
          "name": "stdout",
          "text": [
            "\b\b\b\b\b\b\b\b\b\b\b\b\b\b\b\b\b\b\b\b\b\b\b\b\b\b\b\b\b\b\b\b\b\b\b\b\b\b\b\b\b\b\b\b\b\b\b\b\b\b\b\b\b\b\b\b\b\b\b\b\b\b\b\b\b\b\b\b\b\b\b\b\b\b\b\b\b\b\b\b\b\b\b\b\r391/391 [==============================] - 2s 5ms/step - loss: 0.2665 - accuracy: 0.9000 - val_loss: 0.3015 - val_accuracy: 0.8879\n",
            "Epoch 19/100\n",
            "391/391 [==============================] - 1s 4ms/step - loss: 0.2669 - accuracy: 0.9008 - val_loss: 0.3016 - val_accuracy: 0.8899\n",
            "Epoch 20/100\n",
            "391/391 [==============================] - 2s 4ms/step - loss: 0.2628 - accuracy: 0.9018 - val_loss: 0.3069 - val_accuracy: 0.8888\n",
            "Epoch 21/100\n",
            "378/391 [============================>.] - ETA: 0s - loss: 0.2601 - accuracy: 0.9026"
          ]
        },
        {
          "output_type": "stream",
          "name": "stderr",
          "text": [
            "/usr/local/lib/python3.10/dist-packages/keras/src/engine/training.py:3103: UserWarning: You are saving your model as an HDF5 file via `model.save()`. This file format is considered legacy. We recommend using instead the native Keras format, e.g. `model.save('my_model.keras')`.\n",
            "  saving_api.save_model(\n",
            "\u001b[34m\u001b[1mwandb\u001b[0m: Adding directory to artifact (/content/wandb/run-20240424_134513-5ovcw5av/files/model-best)... Done. 0.0s\n"
          ]
        },
        {
          "output_type": "stream",
          "name": "stdout",
          "text": [
            "\b\b\b\b\b\b\b\b\b\b\b\b\b\b\b\b\b\b\b\b\b\b\b\b\b\b\b\b\b\b\b\b\b\b\b\b\b\b\b\b\b\b\b\b\b\b\b\b\b\b\b\b\b\b\b\b\b\b\b\b\b\b\b\b\b\b\b\b\b\b\b\b\b\b\b\b\b\b\b\b\b\b\b\b\r391/391 [==============================] - 3s 7ms/step - loss: 0.2604 - accuracy: 0.9026 - val_loss: 0.2996 - val_accuracy: 0.8959\n",
            "Epoch 22/100\n",
            "391/391 [==============================] - 2s 4ms/step - loss: 0.2554 - accuracy: 0.9039 - val_loss: 0.3021 - val_accuracy: 0.8940\n",
            "Epoch 23/100\n",
            "391/391 [==============================] - 2s 4ms/step - loss: 0.2504 - accuracy: 0.9067 - val_loss: 0.3011 - val_accuracy: 0.8932\n",
            "Epoch 24/100\n",
            "381/391 [============================>.] - ETA: 0s - loss: 0.2477 - accuracy: 0.9086"
          ]
        },
        {
          "output_type": "stream",
          "name": "stderr",
          "text": [
            "/usr/local/lib/python3.10/dist-packages/keras/src/engine/training.py:3103: UserWarning: You are saving your model as an HDF5 file via `model.save()`. This file format is considered legacy. We recommend using instead the native Keras format, e.g. `model.save('my_model.keras')`.\n",
            "  saving_api.save_model(\n",
            "\u001b[34m\u001b[1mwandb\u001b[0m: Adding directory to artifact (/content/wandb/run-20240424_134513-5ovcw5av/files/model-best)... Done. 0.0s\n"
          ]
        },
        {
          "output_type": "stream",
          "name": "stdout",
          "text": [
            "\b\b\b\b\b\b\b\b\b\b\b\b\b\b\b\b\b\b\b\b\b\b\b\b\b\b\b\b\b\b\b\b\b\b\b\b\b\b\b\b\b\b\b\b\b\b\b\b\b\b\b\b\b\b\b\b\b\b\b\b\b\b\b\b\b\b\b\b\b\b\b\b\b\b\b\b\b\b\b\b\b\b\b\b\r391/391 [==============================] - 2s 6ms/step - loss: 0.2482 - accuracy: 0.9082 - val_loss: 0.2983 - val_accuracy: 0.8952\n",
            "Epoch 25/100\n",
            "383/391 [============================>.] - ETA: 0s - loss: 0.2455 - accuracy: 0.9094"
          ]
        },
        {
          "output_type": "stream",
          "name": "stderr",
          "text": [
            "/usr/local/lib/python3.10/dist-packages/keras/src/engine/training.py:3103: UserWarning: You are saving your model as an HDF5 file via `model.save()`. This file format is considered legacy. We recommend using instead the native Keras format, e.g. `model.save('my_model.keras')`.\n",
            "  saving_api.save_model(\n",
            "\u001b[34m\u001b[1mwandb\u001b[0m: Adding directory to artifact (/content/wandb/run-20240424_134513-5ovcw5av/files/model-best)... Done. 0.0s\n"
          ]
        },
        {
          "output_type": "stream",
          "name": "stdout",
          "text": [
            "\b\b\b\b\b\b\b\b\b\b\b\b\b\b\b\b\b\b\b\b\b\b\b\b\b\b\b\b\b\b\b\b\b\b\b\b\b\b\b\b\b\b\b\b\b\b\b\b\b\b\b\b\b\b\b\b\b\b\b\b\b\b\b\b\b\b\b\b\b\b\b\b\b\b\b\b\b\b\b\b\b\b\b\b\r391/391 [==============================] - 2s 6ms/step - loss: 0.2454 - accuracy: 0.9093 - val_loss: 0.2948 - val_accuracy: 0.8949\n",
            "Epoch 26/100\n",
            "391/391 [==============================] - 2s 4ms/step - loss: 0.2433 - accuracy: 0.9082 - val_loss: 0.2994 - val_accuracy: 0.8929\n",
            "Epoch 27/100\n",
            "384/391 [============================>.] - ETA: 0s - loss: 0.2370 - accuracy: 0.9118"
          ]
        },
        {
          "output_type": "stream",
          "name": "stderr",
          "text": [
            "/usr/local/lib/python3.10/dist-packages/keras/src/engine/training.py:3103: UserWarning: You are saving your model as an HDF5 file via `model.save()`. This file format is considered legacy. We recommend using instead the native Keras format, e.g. `model.save('my_model.keras')`.\n",
            "  saving_api.save_model(\n",
            "\u001b[34m\u001b[1mwandb\u001b[0m: Adding directory to artifact (/content/wandb/run-20240424_134513-5ovcw5av/files/model-best)... Done. 0.0s\n"
          ]
        },
        {
          "output_type": "stream",
          "name": "stdout",
          "text": [
            "\b\b\b\b\b\b\b\b\b\b\b\b\b\b\b\b\b\b\b\b\b\b\b\b\b\b\b\b\b\b\b\b\b\b\b\b\b\b\b\b\b\b\b\b\b\b\b\b\b\b\b\b\b\b\b\b\b\b\b\b\b\b\b\b\b\b\b\b\b\b\b\b\b\b\b\b\b\b\b\b\b\b\b\b\r391/391 [==============================] - 3s 7ms/step - loss: 0.2367 - accuracy: 0.9121 - val_loss: 0.2943 - val_accuracy: 0.8972\n",
            "Epoch 28/100\n",
            "391/391 [==============================] - 1s 3ms/step - loss: 0.2379 - accuracy: 0.9112 - val_loss: 0.3081 - val_accuracy: 0.8935\n",
            "Epoch 29/100\n",
            "391/391 [==============================] - 1s 4ms/step - loss: 0.2368 - accuracy: 0.9106 - val_loss: 0.3015 - val_accuracy: 0.8917\n",
            "Epoch 30/100\n",
            "391/391 [==============================] - 1s 3ms/step - loss: 0.2336 - accuracy: 0.9125 - val_loss: 0.3093 - val_accuracy: 0.8937\n",
            "Epoch 31/100\n",
            "391/391 [==============================] - 2s 4ms/step - loss: 0.2304 - accuracy: 0.9143 - val_loss: 0.3051 - val_accuracy: 0.8936\n",
            "Epoch 32/100\n",
            "391/391 [==============================] - 2s 4ms/step - loss: 0.2254 - accuracy: 0.9153 - val_loss: 0.3069 - val_accuracy: 0.8943\n",
            "Epoch 33/100\n",
            "391/391 [==============================] - 1s 4ms/step - loss: 0.2254 - accuracy: 0.9150 - val_loss: 0.3011 - val_accuracy: 0.8960\n",
            "Epoch 34/100\n",
            "391/391 [==============================] - 2s 4ms/step - loss: 0.2202 - accuracy: 0.9173 - val_loss: 0.2999 - val_accuracy: 0.8946\n",
            "Epoch 35/100\n",
            "391/391 [==============================] - 2s 5ms/step - loss: 0.2215 - accuracy: 0.9178 - val_loss: 0.3059 - val_accuracy: 0.8935\n",
            "Epoch 36/100\n",
            "391/391 [==============================] - 2s 4ms/step - loss: 0.2148 - accuracy: 0.9190 - val_loss: 0.2989 - val_accuracy: 0.8963\n",
            "Epoch 37/100\n",
            "391/391 [==============================] - 1s 4ms/step - loss: 0.2113 - accuracy: 0.9211 - val_loss: 0.3014 - val_accuracy: 0.8993\n",
            "Epoch 38/100\n",
            "391/391 [==============================] - 1s 3ms/step - loss: 0.2105 - accuracy: 0.9200 - val_loss: 0.2969 - val_accuracy: 0.8996\n",
            "Epoch 39/100\n",
            "391/391 [==============================] - 2s 4ms/step - loss: 0.2105 - accuracy: 0.9200 - val_loss: 0.3110 - val_accuracy: 0.8960\n",
            "Epoch 40/100\n",
            "391/391 [==============================] - 2s 4ms/step - loss: 0.2096 - accuracy: 0.9204 - val_loss: 0.3057 - val_accuracy: 0.8989\n",
            "Epoch 41/100\n",
            "391/391 [==============================] - 2s 4ms/step - loss: 0.2089 - accuracy: 0.9222 - val_loss: 0.3026 - val_accuracy: 0.8969\n",
            "Epoch 42/100\n",
            "391/391 [==============================] - 2s 5ms/step - loss: 0.2063 - accuracy: 0.9222 - val_loss: 0.3054 - val_accuracy: 0.8986\n",
            "Epoch 43/100\n",
            "391/391 [==============================] - 2s 4ms/step - loss: 0.2041 - accuracy: 0.9220 - val_loss: 0.3162 - val_accuracy: 0.8946\n",
            "Epoch 44/100\n",
            "391/391 [==============================] - 1s 4ms/step - loss: 0.2027 - accuracy: 0.9228 - val_loss: 0.3073 - val_accuracy: 0.8938\n",
            "Epoch 45/100\n",
            "391/391 [==============================] - 1s 4ms/step - loss: 0.1998 - accuracy: 0.9240 - val_loss: 0.3149 - val_accuracy: 0.8964\n",
            "Epoch 46/100\n",
            "391/391 [==============================] - 1s 4ms/step - loss: 0.1992 - accuracy: 0.9237 - val_loss: 0.3077 - val_accuracy: 0.8981\n",
            "Epoch 47/100\n",
            "391/391 [==============================] - 2s 4ms/step - loss: 0.1979 - accuracy: 0.9254 - val_loss: 0.3104 - val_accuracy: 0.8963\n",
            "Epoch 48/100\n",
            "391/391 [==============================] - 1s 4ms/step - loss: 0.1972 - accuracy: 0.9255 - val_loss: 0.3161 - val_accuracy: 0.8963\n",
            "Epoch 49/100\n",
            "391/391 [==============================] - 2s 4ms/step - loss: 0.1944 - accuracy: 0.9269 - val_loss: 0.3076 - val_accuracy: 0.8973\n",
            "Epoch 50/100\n",
            "391/391 [==============================] - 2s 5ms/step - loss: 0.1924 - accuracy: 0.9280 - val_loss: 0.3132 - val_accuracy: 0.8984\n",
            "Epoch 51/100\n",
            "391/391 [==============================] - 2s 5ms/step - loss: 0.1855 - accuracy: 0.9289 - val_loss: 0.3153 - val_accuracy: 0.8962\n",
            "Epoch 52/100\n",
            "391/391 [==============================] - 1s 4ms/step - loss: 0.1927 - accuracy: 0.9279 - val_loss: 0.3277 - val_accuracy: 0.8928\n",
            "Epoch 53/100\n",
            "391/391 [==============================] - 2s 4ms/step - loss: 0.1868 - accuracy: 0.9299 - val_loss: 0.3237 - val_accuracy: 0.8957\n",
            "Epoch 54/100\n",
            "391/391 [==============================] - 2s 4ms/step - loss: 0.1906 - accuracy: 0.9274 - val_loss: 0.3198 - val_accuracy: 0.8976\n",
            "Epoch 55/100\n",
            "391/391 [==============================] - 2s 4ms/step - loss: 0.1858 - accuracy: 0.9280 - val_loss: 0.3120 - val_accuracy: 0.8978\n",
            "Epoch 56/100\n",
            "391/391 [==============================] - 2s 4ms/step - loss: 0.1827 - accuracy: 0.9310 - val_loss: 0.3220 - val_accuracy: 0.8986\n",
            "Epoch 57/100\n",
            "391/391 [==============================] - 2s 4ms/step - loss: 0.1806 - accuracy: 0.9320 - val_loss: 0.3281 - val_accuracy: 0.8975\n",
            "Epoch 58/100\n",
            "391/391 [==============================] - 2s 5ms/step - loss: 0.1814 - accuracy: 0.9313 - val_loss: 0.3209 - val_accuracy: 0.8955\n",
            "Epoch 59/100\n",
            "391/391 [==============================] - 2s 4ms/step - loss: 0.1804 - accuracy: 0.9307 - val_loss: 0.3266 - val_accuracy: 0.8948\n",
            "Epoch 60/100\n",
            "391/391 [==============================] - 1s 4ms/step - loss: 0.1785 - accuracy: 0.9313 - val_loss: 0.3203 - val_accuracy: 0.9007\n",
            "Epoch 61/100\n",
            "391/391 [==============================] - 1s 4ms/step - loss: 0.1742 - accuracy: 0.9339 - val_loss: 0.3308 - val_accuracy: 0.8982\n",
            "Epoch 62/100\n",
            "391/391 [==============================] - 1s 4ms/step - loss: 0.1748 - accuracy: 0.9339 - val_loss: 0.3327 - val_accuracy: 0.8960\n",
            "Epoch 63/100\n",
            "391/391 [==============================] - 1s 4ms/step - loss: 0.1739 - accuracy: 0.9337 - val_loss: 0.3369 - val_accuracy: 0.8983\n",
            "Epoch 64/100\n",
            "391/391 [==============================] - 1s 4ms/step - loss: 0.1734 - accuracy: 0.9344 - val_loss: 0.3294 - val_accuracy: 0.8994\n",
            "Epoch 65/100\n",
            "391/391 [==============================] - 2s 4ms/step - loss: 0.1743 - accuracy: 0.9344 - val_loss: 0.3303 - val_accuracy: 0.8961\n",
            "Epoch 66/100\n",
            "391/391 [==============================] - 2s 5ms/step - loss: 0.1743 - accuracy: 0.9340 - val_loss: 0.3193 - val_accuracy: 0.8999\n",
            "Epoch 67/100\n",
            "391/391 [==============================] - 2s 4ms/step - loss: 0.1706 - accuracy: 0.9358 - val_loss: 0.3344 - val_accuracy: 0.8949\n",
            "Epoch 68/100\n",
            "391/391 [==============================] - 2s 4ms/step - loss: 0.1701 - accuracy: 0.9357 - val_loss: 0.3457 - val_accuracy: 0.8952\n",
            "Epoch 69/100\n",
            "391/391 [==============================] - 2s 4ms/step - loss: 0.1673 - accuracy: 0.9367 - val_loss: 0.3399 - val_accuracy: 0.8964\n",
            "Epoch 70/100\n",
            "391/391 [==============================] - 2s 4ms/step - loss: 0.1679 - accuracy: 0.9352 - val_loss: 0.3331 - val_accuracy: 0.8957\n",
            "Epoch 71/100\n",
            "391/391 [==============================] - 2s 4ms/step - loss: 0.1653 - accuracy: 0.9376 - val_loss: 0.3373 - val_accuracy: 0.8978\n",
            "Epoch 72/100\n",
            "391/391 [==============================] - 2s 4ms/step - loss: 0.1646 - accuracy: 0.9373 - val_loss: 0.3366 - val_accuracy: 0.8987\n",
            "Epoch 73/100\n",
            "391/391 [==============================] - 2s 5ms/step - loss: 0.1652 - accuracy: 0.9378 - val_loss: 0.3319 - val_accuracy: 0.8999\n",
            "Epoch 74/100\n",
            "391/391 [==============================] - 2s 5ms/step - loss: 0.1622 - accuracy: 0.9381 - val_loss: 0.3349 - val_accuracy: 0.8982\n",
            "Epoch 75/100\n",
            "391/391 [==============================] - 2s 4ms/step - loss: 0.1639 - accuracy: 0.9376 - val_loss: 0.3358 - val_accuracy: 0.8965\n",
            "Epoch 76/100\n",
            "391/391 [==============================] - 1s 4ms/step - loss: 0.1623 - accuracy: 0.9380 - val_loss: 0.3422 - val_accuracy: 0.8967\n",
            "Epoch 77/100\n",
            "391/391 [==============================] - 2s 4ms/step - loss: 0.1591 - accuracy: 0.9388 - val_loss: 0.3424 - val_accuracy: 0.8978\n",
            "Epoch 78/100\n",
            "391/391 [==============================] - 2s 4ms/step - loss: 0.1597 - accuracy: 0.9394 - val_loss: 0.3400 - val_accuracy: 0.8972\n",
            "Epoch 79/100\n",
            "391/391 [==============================] - 1s 4ms/step - loss: 0.1574 - accuracy: 0.9394 - val_loss: 0.3451 - val_accuracy: 0.8967\n",
            "Epoch 80/100\n",
            "391/391 [==============================] - 1s 4ms/step - loss: 0.1545 - accuracy: 0.9421 - val_loss: 0.3399 - val_accuracy: 0.8982\n",
            "Epoch 81/100\n",
            "391/391 [==============================] - 2s 5ms/step - loss: 0.1556 - accuracy: 0.9406 - val_loss: 0.3515 - val_accuracy: 0.8951\n",
            "Epoch 82/100\n",
            "391/391 [==============================] - 2s 4ms/step - loss: 0.1548 - accuracy: 0.9412 - val_loss: 0.3540 - val_accuracy: 0.8944\n",
            "Epoch 83/100\n",
            "391/391 [==============================] - 1s 4ms/step - loss: 0.1530 - accuracy: 0.9420 - val_loss: 0.3477 - val_accuracy: 0.8976\n",
            "Epoch 84/100\n",
            "391/391 [==============================] - 1s 4ms/step - loss: 0.1534 - accuracy: 0.9409 - val_loss: 0.3513 - val_accuracy: 0.8963\n",
            "Epoch 85/100\n",
            "391/391 [==============================] - 1s 4ms/step - loss: 0.1541 - accuracy: 0.9412 - val_loss: 0.3586 - val_accuracy: 0.8997\n",
            "Epoch 86/100\n",
            "391/391 [==============================] - 1s 4ms/step - loss: 0.1529 - accuracy: 0.9419 - val_loss: 0.3475 - val_accuracy: 0.8972\n",
            "Epoch 87/100\n",
            "391/391 [==============================] - 2s 4ms/step - loss: 0.1529 - accuracy: 0.9411 - val_loss: 0.3744 - val_accuracy: 0.8923\n",
            "Epoch 88/100\n",
            "391/391 [==============================] - 1s 4ms/step - loss: 0.1538 - accuracy: 0.9408 - val_loss: 0.3645 - val_accuracy: 0.8942\n",
            "Epoch 89/100\n",
            "391/391 [==============================] - 2s 5ms/step - loss: 0.1517 - accuracy: 0.9426 - val_loss: 0.3607 - val_accuracy: 0.8923\n",
            "Epoch 90/100\n",
            "391/391 [==============================] - 2s 5ms/step - loss: 0.1481 - accuracy: 0.9430 - val_loss: 0.3543 - val_accuracy: 0.8940\n",
            "Epoch 91/100\n",
            "391/391 [==============================] - 2s 4ms/step - loss: 0.1467 - accuracy: 0.9438 - val_loss: 0.3651 - val_accuracy: 0.8929\n",
            "Epoch 92/100\n",
            "391/391 [==============================] - 1s 4ms/step - loss: 0.1469 - accuracy: 0.9435 - val_loss: 0.3620 - val_accuracy: 0.8988\n",
            "Epoch 93/100\n",
            "391/391 [==============================] - 2s 4ms/step - loss: 0.1467 - accuracy: 0.9445 - val_loss: 0.3714 - val_accuracy: 0.8953\n",
            "Epoch 94/100\n",
            "391/391 [==============================] - 2s 4ms/step - loss: 0.1479 - accuracy: 0.9443 - val_loss: 0.3670 - val_accuracy: 0.8979\n",
            "Epoch 95/100\n",
            "391/391 [==============================] - 1s 4ms/step - loss: 0.1468 - accuracy: 0.9449 - val_loss: 0.3735 - val_accuracy: 0.8967\n",
            "Epoch 96/100\n",
            "391/391 [==============================] - 2s 4ms/step - loss: 0.1455 - accuracy: 0.9452 - val_loss: 0.3708 - val_accuracy: 0.8947\n",
            "Epoch 97/100\n",
            "391/391 [==============================] - 2s 5ms/step - loss: 0.1432 - accuracy: 0.9450 - val_loss: 0.3663 - val_accuracy: 0.8963\n",
            "Epoch 98/100\n",
            "391/391 [==============================] - 2s 5ms/step - loss: 0.1404 - accuracy: 0.9459 - val_loss: 0.3813 - val_accuracy: 0.8975\n",
            "Epoch 99/100\n",
            "391/391 [==============================] - 1s 4ms/step - loss: 0.1439 - accuracy: 0.9458 - val_loss: 0.3642 - val_accuracy: 0.8950\n",
            "Epoch 100/100\n",
            "391/391 [==============================] - 2s 4ms/step - loss: 0.1410 - accuracy: 0.9454 - val_loss: 0.3743 - val_accuracy: 0.8987\n"
          ]
        },
        {
          "output_type": "display_data",
          "data": {
            "text/plain": [
              "VBox(children=(Label(value='20.107 MB of 20.107 MB uploaded (0.110 MB deduped)\\r'), FloatProgress(value=1.0, m…"
            ],
            "application/vnd.jupyter.widget-view+json": {
              "version_major": 2,
              "version_minor": 0,
              "model_id": "07e1cd4765124383a2b31b93cc146996"
            }
          },
          "metadata": {}
        },
        {
          "output_type": "display_data",
          "data": {
            "text/plain": [
              "<IPython.core.display.HTML object>"
            ],
            "text/html": [
              "<style>\n",
              "    table.wandb td:nth-child(1) { padding: 0 10px; text-align: left ; width: auto;} td:nth-child(2) {text-align: left ; width: 100%}\n",
              "    .wandb-row { display: flex; flex-direction: row; flex-wrap: wrap; justify-content: flex-start; width: 100% }\n",
              "    .wandb-col { display: flex; flex-direction: column; flex-basis: 100%; flex: 1; padding: 10px; }\n",
              "    </style>\n",
              "<div class=\"wandb-row\"><div class=\"wandb-col\"><h3>Run history:</h3><br/><table class=\"wandb\"><tr><td>accuracy</td><td>▁▄▅▅▆▆▆▆▆▆▆▇▇▇▇▇▇▇▇▇▇▇▇▇████████████████</td></tr><tr><td>epoch</td><td>▁▁▁▁▂▂▂▂▂▃▃▃▃▃▃▄▄▄▄▄▅▅▅▅▅▅▆▆▆▆▆▇▇▇▇▇▇███</td></tr><tr><td>loss</td><td>█▅▄▄▃▃▃▃▃▃▂▂▂▂▂▂▂▂▂▂▂▂▂▂▁▁▁▁▁▁▁▁▁▁▁▁▁▁▁▁</td></tr><tr><td>val_accuracy</td><td>▁▃▅▆▆▇▇▇█▇▇▇▇▇███▇█████▇██▇█████▇█▇▇████</td></tr><tr><td>val_loss</td><td>█▅▃▂▂▁▁▁▁▁▁▁▁▁▁▂▁▁▁▁▂▂▂▂▂▂▃▃▃▃▃▃▄▃▅▄▄▄▄▅</td></tr></table><br/></div><div class=\"wandb-col\"><h3>Run summary:</h3><br/><table class=\"wandb\"><tr><td>accuracy</td><td>0.94544</td></tr><tr><td>best_epoch</td><td>26</td></tr><tr><td>best_val_loss</td><td>0.29433</td></tr><tr><td>epoch</td><td>99</td></tr><tr><td>loss</td><td>0.14102</td></tr><tr><td>val_accuracy</td><td>0.8987</td></tr><tr><td>val_loss</td><td>0.37432</td></tr></table><br/></div></div>"
            ]
          },
          "metadata": {}
        },
        {
          "output_type": "display_data",
          "data": {
            "text/plain": [
              "<IPython.core.display.HTML object>"
            ],
            "text/html": [
              " View run <strong style=\"color:#cdcd00\">major-sweep-3</strong> at: <a href='https://wandb.ai/pkasnesis/aidl-a02-week5/runs/5ovcw5av' target=\"_blank\">https://wandb.ai/pkasnesis/aidl-a02-week5/runs/5ovcw5av</a><br/> View project at: <a href='https://wandb.ai/pkasnesis/aidl-a02-week5' target=\"_blank\">https://wandb.ai/pkasnesis/aidl-a02-week5</a><br/>Synced 5 W&B file(s), 1 media file(s), 80 artifact file(s) and 1 other file(s)"
            ]
          },
          "metadata": {}
        },
        {
          "output_type": "display_data",
          "data": {
            "text/plain": [
              "<IPython.core.display.HTML object>"
            ],
            "text/html": [
              "Find logs at: <code>./wandb/run-20240424_134513-5ovcw5av/logs</code>"
            ]
          },
          "metadata": {}
        },
        {
          "output_type": "stream",
          "name": "stderr",
          "text": [
            "\u001b[34m\u001b[1mwandb\u001b[0m: Agent Starting Run: c0yekmt7 with config:\n",
            "\u001b[34m\u001b[1mwandb\u001b[0m: \tdropout: 0.3\n",
            "\u001b[34m\u001b[1mwandb\u001b[0m: \tepochs: 100\n",
            "\u001b[34m\u001b[1mwandb\u001b[0m: \tfc_layer_size: 256\n",
            "\u001b[34m\u001b[1mwandb\u001b[0m: \tlearning-rate: 0.001\n"
          ]
        },
        {
          "output_type": "display_data",
          "data": {
            "text/plain": [
              "<IPython.core.display.HTML object>"
            ],
            "text/html": [
              "Tracking run with wandb version 0.16.6"
            ]
          },
          "metadata": {}
        },
        {
          "output_type": "display_data",
          "data": {
            "text/plain": [
              "<IPython.core.display.HTML object>"
            ],
            "text/html": [
              "Run data is saved locally in <code>/content/wandb/run-20240424_134851-c0yekmt7</code>"
            ]
          },
          "metadata": {}
        },
        {
          "output_type": "display_data",
          "data": {
            "text/plain": [
              "<IPython.core.display.HTML object>"
            ],
            "text/html": [
              "Syncing run <strong><a href='https://wandb.ai/pkasnesis/aidl-a02-week5/runs/c0yekmt7' target=\"_blank\">good-sweep-4</a></strong> to <a href='https://wandb.ai/pkasnesis/aidl-a02-week5' target=\"_blank\">Weights & Biases</a> (<a href='https://wandb.me/run' target=\"_blank\">docs</a>)<br/>Sweep page: <a href='https://wandb.ai/pkasnesis/aidl-a02-week5/sweeps/846jlb6t' target=\"_blank\">https://wandb.ai/pkasnesis/aidl-a02-week5/sweeps/846jlb6t</a>"
            ]
          },
          "metadata": {}
        },
        {
          "output_type": "display_data",
          "data": {
            "text/plain": [
              "<IPython.core.display.HTML object>"
            ],
            "text/html": [
              " View project at <a href='https://wandb.ai/pkasnesis/aidl-a02-week5' target=\"_blank\">https://wandb.ai/pkasnesis/aidl-a02-week5</a>"
            ]
          },
          "metadata": {}
        },
        {
          "output_type": "display_data",
          "data": {
            "text/plain": [
              "<IPython.core.display.HTML object>"
            ],
            "text/html": [
              " View sweep at <a href='https://wandb.ai/pkasnesis/aidl-a02-week5/sweeps/846jlb6t' target=\"_blank\">https://wandb.ai/pkasnesis/aidl-a02-week5/sweeps/846jlb6t</a>"
            ]
          },
          "metadata": {}
        },
        {
          "output_type": "display_data",
          "data": {
            "text/plain": [
              "<IPython.core.display.HTML object>"
            ],
            "text/html": [
              " View run at <a href='https://wandb.ai/pkasnesis/aidl-a02-week5/runs/c0yekmt7' target=\"_blank\">https://wandb.ai/pkasnesis/aidl-a02-week5/runs/c0yekmt7</a>"
            ]
          },
          "metadata": {}
        },
        {
          "output_type": "stream",
          "name": "stderr",
          "text": [
            "WARNING:absl:`lr` is deprecated in Keras optimizer, please use `learning_rate` or use the legacy optimizer, e.g.,tf.keras.optimizers.legacy.Adam.\n"
          ]
        },
        {
          "output_type": "stream",
          "name": "stdout",
          "text": [
            "Epoch 1/100\n",
            "382/391 [============================>.] - ETA: 0s - loss: 0.5969 - accuracy: 0.7918"
          ]
        },
        {
          "output_type": "stream",
          "name": "stderr",
          "text": [
            "/usr/local/lib/python3.10/dist-packages/keras/src/engine/training.py:3103: UserWarning: You are saving your model as an HDF5 file via `model.save()`. This file format is considered legacy. We recommend using instead the native Keras format, e.g. `model.save('my_model.keras')`.\n",
            "  saving_api.save_model(\n",
            "\u001b[34m\u001b[1mwandb\u001b[0m: Adding directory to artifact (/content/wandb/run-20240424_134851-c0yekmt7/files/model-best)... Done. 0.0s\n"
          ]
        },
        {
          "output_type": "stream",
          "name": "stdout",
          "text": [
            "\b\b\b\b\b\b\b\b\b\b\b\b\b\b\b\b\b\b\b\b\b\b\b\b\b\b\b\b\b\b\b\b\b\b\b\b\b\b\b\b\b\b\b\b\b\b\b\b\b\b\b\b\b\b\b\b\b\b\b\b\b\b\b\b\b\b\b\b\b\b\b\b\b\b\b\b\b\b\b\b\b\b\b\b\r391/391 [==============================] - 4s 8ms/step - loss: 0.5938 - accuracy: 0.7928 - val_loss: 0.4270 - val_accuracy: 0.8523\n",
            "Epoch 2/100\n",
            "388/391 [============================>.] - ETA: 0s - loss: 0.4241 - accuracy: 0.8486"
          ]
        },
        {
          "output_type": "stream",
          "name": "stderr",
          "text": [
            "/usr/local/lib/python3.10/dist-packages/keras/src/engine/training.py:3103: UserWarning: You are saving your model as an HDF5 file via `model.save()`. This file format is considered legacy. We recommend using instead the native Keras format, e.g. `model.save('my_model.keras')`.\n",
            "  saving_api.save_model(\n",
            "\u001b[34m\u001b[1mwandb\u001b[0m: Adding directory to artifact (/content/wandb/run-20240424_134851-c0yekmt7/files/model-best)... Done. 0.0s\n"
          ]
        },
        {
          "output_type": "stream",
          "name": "stdout",
          "text": [
            "\b\b\b\b\b\b\b\b\b\b\b\b\b\b\b\b\b\b\b\b\b\b\b\b\b\b\b\b\b\b\b\b\b\b\b\b\b\b\b\b\b\b\b\b\b\b\b\b\b\b\b\b\b\b\b\b\b\b\b\b\b\b\b\b\b\b\b\b\b\b\b\b\b\b\b\b\b\b\b\b\b\b\b\b\r391/391 [==============================] - 2s 6ms/step - loss: 0.4241 - accuracy: 0.8488 - val_loss: 0.3856 - val_accuracy: 0.8612\n",
            "Epoch 3/100\n",
            "391/391 [==============================] - 2s 4ms/step - loss: 0.3837 - accuracy: 0.8611 - val_loss: 0.3878 - val_accuracy: 0.8580\n",
            "Epoch 4/100\n",
            "374/391 [===========================>..] - ETA: 0s - loss: 0.3582 - accuracy: 0.8705"
          ]
        },
        {
          "output_type": "stream",
          "name": "stderr",
          "text": [
            "/usr/local/lib/python3.10/dist-packages/keras/src/engine/training.py:3103: UserWarning: You are saving your model as an HDF5 file via `model.save()`. This file format is considered legacy. We recommend using instead the native Keras format, e.g. `model.save('my_model.keras')`.\n",
            "  saving_api.save_model(\n",
            "\u001b[34m\u001b[1mwandb\u001b[0m: Adding directory to artifact (/content/wandb/run-20240424_134851-c0yekmt7/files/model-best)... Done. 0.0s\n"
          ]
        },
        {
          "output_type": "stream",
          "name": "stdout",
          "text": [
            "\b\b\b\b\b\b\b\b\b\b\b\b\b\b\b\b\b\b\b\b\b\b\b\b\b\b\b\b\b\b\b\b\b\b\b\b\b\b\b\b\b\b\b\b\b\b\b\b\b\b\b\b\b\b\b\b\b\b\b\b\b\b\b\b\b\b\b\b\b\b\b\b\b\b\b\b\b\b\b\b\b\b\b\b\r391/391 [==============================] - 2s 5ms/step - loss: 0.3574 - accuracy: 0.8708 - val_loss: 0.3349 - val_accuracy: 0.8788\n",
            "Epoch 5/100\n",
            "377/391 [===========================>..] - ETA: 0s - loss: 0.3398 - accuracy: 0.8761"
          ]
        },
        {
          "output_type": "stream",
          "name": "stderr",
          "text": [
            "/usr/local/lib/python3.10/dist-packages/keras/src/engine/training.py:3103: UserWarning: You are saving your model as an HDF5 file via `model.save()`. This file format is considered legacy. We recommend using instead the native Keras format, e.g. `model.save('my_model.keras')`.\n",
            "  saving_api.save_model(\n",
            "\u001b[34m\u001b[1mwandb\u001b[0m: Adding directory to artifact (/content/wandb/run-20240424_134851-c0yekmt7/files/model-best)... Done. 0.0s\n"
          ]
        },
        {
          "output_type": "stream",
          "name": "stdout",
          "text": [
            "\b\b\b\b\b\b\b\b\b\b\b\b\b\b\b\b\b\b\b\b\b\b\b\b\b\b\b\b\b\b\b\b\b\b\b\b\b\b\b\b\b\b\b\b\b\b\b\b\b\b\b\b\b\b\b\b\b\b\b\b\b\b\b\b\b\b\b\b\b\b\b\b\b\b\b\b\b\b\b\b\b\b\b\b\r391/391 [==============================] - 2s 5ms/step - loss: 0.3392 - accuracy: 0.8763 - val_loss: 0.3347 - val_accuracy: 0.8778\n",
            "Epoch 6/100\n",
            "378/391 [============================>.] - ETA: 0s - loss: 0.3297 - accuracy: 0.8788"
          ]
        },
        {
          "output_type": "stream",
          "name": "stderr",
          "text": [
            "/usr/local/lib/python3.10/dist-packages/keras/src/engine/training.py:3103: UserWarning: You are saving your model as an HDF5 file via `model.save()`. This file format is considered legacy. We recommend using instead the native Keras format, e.g. `model.save('my_model.keras')`.\n",
            "  saving_api.save_model(\n",
            "\u001b[34m\u001b[1mwandb\u001b[0m: Adding directory to artifact (/content/wandb/run-20240424_134851-c0yekmt7/files/model-best)... Done. 0.0s\n"
          ]
        },
        {
          "output_type": "stream",
          "name": "stdout",
          "text": [
            "\b\b\b\b\b\b\b\b\b\b\b\b\b\b\b\b\b\b\b\b\b\b\b\b\b\b\b\b\b\b\b\b\b\b\b\b\b\b\b\b\b\b\b\b\b\b\b\b\b\b\b\b\b\b\b\b\b\b\b\b\b\b\b\b\b\b\b\b\b\b\b\b\b\b\b\b\b\b\b\b\b\b\b\b\r391/391 [==============================] - 2s 6ms/step - loss: 0.3300 - accuracy: 0.8787 - val_loss: 0.3245 - val_accuracy: 0.8836\n",
            "Epoch 7/100\n",
            "380/391 [============================>.] - ETA: 0s - loss: 0.3177 - accuracy: 0.8822"
          ]
        },
        {
          "output_type": "stream",
          "name": "stderr",
          "text": [
            "/usr/local/lib/python3.10/dist-packages/keras/src/engine/training.py:3103: UserWarning: You are saving your model as an HDF5 file via `model.save()`. This file format is considered legacy. We recommend using instead the native Keras format, e.g. `model.save('my_model.keras')`.\n",
            "  saving_api.save_model(\n",
            "\u001b[34m\u001b[1mwandb\u001b[0m: Adding directory to artifact (/content/wandb/run-20240424_134851-c0yekmt7/files/model-best)... Done. 0.0s\n"
          ]
        },
        {
          "output_type": "stream",
          "name": "stdout",
          "text": [
            "\b\b\b\b\b\b\b\b\b\b\b\b\b\b\b\b\b\b\b\b\b\b\b\b\b\b\b\b\b\b\b\b\b\b\b\b\b\b\b\b\b\b\b\b\b\b\b\b\b\b\b\b\b\b\b\b\b\b\b\b\b\b\b\b\b\b\b\b\b\b\b\b\b\b\b\b\b\b\b\b\b\b\b\b\r391/391 [==============================] - 3s 7ms/step - loss: 0.3182 - accuracy: 0.8818 - val_loss: 0.3162 - val_accuracy: 0.8830\n",
            "Epoch 8/100\n",
            "391/391 [==============================] - 2s 4ms/step - loss: 0.3057 - accuracy: 0.8891 - val_loss: 0.3179 - val_accuracy: 0.8828\n",
            "Epoch 9/100\n",
            "389/391 [============================>.] - ETA: 0s - loss: 0.2985 - accuracy: 0.8894"
          ]
        },
        {
          "output_type": "stream",
          "name": "stderr",
          "text": [
            "/usr/local/lib/python3.10/dist-packages/keras/src/engine/training.py:3103: UserWarning: You are saving your model as an HDF5 file via `model.save()`. This file format is considered legacy. We recommend using instead the native Keras format, e.g. `model.save('my_model.keras')`.\n",
            "  saving_api.save_model(\n",
            "\u001b[34m\u001b[1mwandb\u001b[0m: Adding directory to artifact (/content/wandb/run-20240424_134851-c0yekmt7/files/model-best)... Done. 0.0s\n"
          ]
        },
        {
          "output_type": "stream",
          "name": "stdout",
          "text": [
            "\b\b\b\b\b\b\b\b\b\b\b\b\b\b\b\b\b\b\b\b\b\b\b\b\b\b\b\b\b\b\b\b\b\b\b\b\b\b\b\b\b\b\b\b\b\b\b\b\b\b\b\b\b\b\b\b\b\b\b\b\b\b\b\b\b\b\b\b\b\b\b\b\b\b\b\b\b\b\b\b\b\b\b\b\r391/391 [==============================] - 2s 6ms/step - loss: 0.2984 - accuracy: 0.8895 - val_loss: 0.3078 - val_accuracy: 0.8867\n",
            "Epoch 10/100\n",
            "375/391 [===========================>..] - ETA: 0s - loss: 0.2875 - accuracy: 0.8947"
          ]
        },
        {
          "output_type": "stream",
          "name": "stderr",
          "text": [
            "/usr/local/lib/python3.10/dist-packages/keras/src/engine/training.py:3103: UserWarning: You are saving your model as an HDF5 file via `model.save()`. This file format is considered legacy. We recommend using instead the native Keras format, e.g. `model.save('my_model.keras')`.\n",
            "  saving_api.save_model(\n",
            "\u001b[34m\u001b[1mwandb\u001b[0m: Adding directory to artifact (/content/wandb/run-20240424_134851-c0yekmt7/files/model-best)... Done. 0.0s\n"
          ]
        },
        {
          "output_type": "stream",
          "name": "stdout",
          "text": [
            "\b\b\b\b\b\b\b\b\b\b\b\b\b\b\b\b\b\b\b\b\b\b\b\b\b\b\b\b\b\b\b\b\b\b\b\b\b\b\b\b\b\b\b\b\b\b\b\b\b\b\b\b\b\b\b\b\b\b\b\b\b\b\b\b\b\b\b\b\b\b\b\b\b\b\b\b\b\b\b\b\b\b\b\b\r391/391 [==============================] - 3s 7ms/step - loss: 0.2884 - accuracy: 0.8941 - val_loss: 0.2976 - val_accuracy: 0.8926\n",
            "Epoch 11/100\n",
            "391/391 [==============================] - 1s 4ms/step - loss: 0.2835 - accuracy: 0.8954 - val_loss: 0.3046 - val_accuracy: 0.8892\n",
            "Epoch 12/100\n",
            "391/391 [==============================] - 2s 4ms/step - loss: 0.2737 - accuracy: 0.8978 - val_loss: 0.2989 - val_accuracy: 0.8889\n",
            "Epoch 13/100\n",
            "382/391 [============================>.] - ETA: 0s - loss: 0.2685 - accuracy: 0.9001"
          ]
        },
        {
          "output_type": "stream",
          "name": "stderr",
          "text": [
            "/usr/local/lib/python3.10/dist-packages/keras/src/engine/training.py:3103: UserWarning: You are saving your model as an HDF5 file via `model.save()`. This file format is considered legacy. We recommend using instead the native Keras format, e.g. `model.save('my_model.keras')`.\n",
            "  saving_api.save_model(\n",
            "\u001b[34m\u001b[1mwandb\u001b[0m: Adding directory to artifact (/content/wandb/run-20240424_134851-c0yekmt7/files/model-best)... Done. 0.0s\n"
          ]
        },
        {
          "output_type": "stream",
          "name": "stdout",
          "text": [
            "\b\b\b\b\b\b\b\b\b\b\b\b\b\b\b\b\b\b\b\b\b\b\b\b\b\b\b\b\b\b\b\b\b\b\b\b\b\b\b\b\b\b\b\b\b\b\b\b\b\b\b\b\b\b\b\b\b\b\b\b\b\b\b\b\b\b\b\b\b\b\b\b\b\b\b\b\b\b\b\b\b\b\b\b\r391/391 [==============================] - 3s 7ms/step - loss: 0.2678 - accuracy: 0.9004 - val_loss: 0.2953 - val_accuracy: 0.8916\n",
            "Epoch 14/100\n",
            "389/391 [============================>.] - ETA: 0s - loss: 0.2666 - accuracy: 0.9012"
          ]
        },
        {
          "output_type": "stream",
          "name": "stderr",
          "text": [
            "/usr/local/lib/python3.10/dist-packages/keras/src/engine/training.py:3103: UserWarning: You are saving your model as an HDF5 file via `model.save()`. This file format is considered legacy. We recommend using instead the native Keras format, e.g. `model.save('my_model.keras')`.\n",
            "  saving_api.save_model(\n",
            "\u001b[34m\u001b[1mwandb\u001b[0m: Adding directory to artifact (/content/wandb/run-20240424_134851-c0yekmt7/files/model-best)... Done. 0.0s\n"
          ]
        },
        {
          "output_type": "stream",
          "name": "stdout",
          "text": [
            "\b\b\b\b\b\b\b\b\b\b\b\b\b\b\b\b\b\b\b\b\b\b\b\b\b\b\b\b\b\b\b\b\b\b\b\b\b\b\b\b\b\b\b\b\b\b\b\b\b\b\b\b\b\b\b\b\b\b\b\b\b\b\b\b\b\b\b\b\b\b\b\b\b\b\b\b\b\b\b\b\b\b\b\b\r391/391 [==============================] - 2s 6ms/step - loss: 0.2664 - accuracy: 0.9011 - val_loss: 0.2943 - val_accuracy: 0.8925\n",
            "Epoch 15/100\n",
            "391/391 [==============================] - 2s 4ms/step - loss: 0.2578 - accuracy: 0.9044 - val_loss: 0.2954 - val_accuracy: 0.8929\n",
            "Epoch 16/100\n",
            "381/391 [============================>.] - ETA: 0s - loss: 0.2541 - accuracy: 0.9057"
          ]
        },
        {
          "output_type": "stream",
          "name": "stderr",
          "text": [
            "/usr/local/lib/python3.10/dist-packages/keras/src/engine/training.py:3103: UserWarning: You are saving your model as an HDF5 file via `model.save()`. This file format is considered legacy. We recommend using instead the native Keras format, e.g. `model.save('my_model.keras')`.\n",
            "  saving_api.save_model(\n",
            "\u001b[34m\u001b[1mwandb\u001b[0m: Adding directory to artifact (/content/wandb/run-20240424_134851-c0yekmt7/files/model-best)... Done. 0.0s\n"
          ]
        },
        {
          "output_type": "stream",
          "name": "stdout",
          "text": [
            "\b\b\b\b\b\b\b\b\b\b\b\b\b\b\b\b\b\b\b\b\b\b\b\b\b\b\b\b\b\b\b\b\b\b\b\b\b\b\b\b\b\b\b\b\b\b\b\b\b\b\b\b\b\b\b\b\b\b\b\b\b\b\b\b\b\b\b\b\b\b\b\b\b\b\b\b\b\b\b\b\b\b\b\b\r391/391 [==============================] - 2s 6ms/step - loss: 0.2544 - accuracy: 0.9056 - val_loss: 0.2876 - val_accuracy: 0.8938\n",
            "Epoch 17/100\n",
            "391/391 [==============================] - 2s 4ms/step - loss: 0.2470 - accuracy: 0.9087 - val_loss: 0.2932 - val_accuracy: 0.8958\n",
            "Epoch 18/100\n",
            "391/391 [==============================] - 2s 4ms/step - loss: 0.2472 - accuracy: 0.9070 - val_loss: 0.2905 - val_accuracy: 0.8937\n",
            "Epoch 19/100\n",
            "391/391 [==============================] - 2s 5ms/step - loss: 0.2395 - accuracy: 0.9103 - val_loss: 0.2994 - val_accuracy: 0.8907\n",
            "Epoch 20/100\n",
            "391/391 [==============================] - 1s 4ms/step - loss: 0.2339 - accuracy: 0.9108 - val_loss: 0.3065 - val_accuracy: 0.8837\n",
            "Epoch 21/100\n",
            "391/391 [==============================] - 1s 4ms/step - loss: 0.2333 - accuracy: 0.9123 - val_loss: 0.2952 - val_accuracy: 0.8946\n",
            "Epoch 22/100\n",
            "391/391 [==============================] - 1s 4ms/step - loss: 0.2285 - accuracy: 0.9134 - val_loss: 0.2890 - val_accuracy: 0.8965\n",
            "Epoch 23/100\n",
            "383/391 [============================>.] - ETA: 0s - loss: 0.2235 - accuracy: 0.9158"
          ]
        },
        {
          "output_type": "stream",
          "name": "stderr",
          "text": [
            "/usr/local/lib/python3.10/dist-packages/keras/src/engine/training.py:3103: UserWarning: You are saving your model as an HDF5 file via `model.save()`. This file format is considered legacy. We recommend using instead the native Keras format, e.g. `model.save('my_model.keras')`.\n",
            "  saving_api.save_model(\n",
            "\u001b[34m\u001b[1mwandb\u001b[0m: Adding directory to artifact (/content/wandb/run-20240424_134851-c0yekmt7/files/model-best)... Done. 0.0s\n"
          ]
        },
        {
          "output_type": "stream",
          "name": "stdout",
          "text": [
            "\b\b\b\b\b\b\b\b\b\b\b\b\b\b\b\b\b\b\b\b\b\b\b\b\b\b\b\b\b\b\b\b\b\b\b\b\b\b\b\b\b\b\b\b\b\b\b\b\b\b\b\b\b\b\b\b\b\b\b\b\b\b\b\b\b\b\b\b\b\b\b\b\b\b\b\b\b\b\b\b\b\b\b\b\r391/391 [==============================] - 2s 6ms/step - loss: 0.2236 - accuracy: 0.9160 - val_loss: 0.2860 - val_accuracy: 0.9005\n",
            "Epoch 24/100\n",
            "391/391 [==============================] - 2s 4ms/step - loss: 0.2208 - accuracy: 0.9174 - val_loss: 0.2956 - val_accuracy: 0.8958\n",
            "Epoch 25/100\n",
            "386/391 [============================>.] - ETA: 0s - loss: 0.2178 - accuracy: 0.9175"
          ]
        },
        {
          "output_type": "stream",
          "name": "stderr",
          "text": [
            "/usr/local/lib/python3.10/dist-packages/keras/src/engine/training.py:3103: UserWarning: You are saving your model as an HDF5 file via `model.save()`. This file format is considered legacy. We recommend using instead the native Keras format, e.g. `model.save('my_model.keras')`.\n",
            "  saving_api.save_model(\n",
            "\u001b[34m\u001b[1mwandb\u001b[0m: Adding directory to artifact (/content/wandb/run-20240424_134851-c0yekmt7/files/model-best)... Done. 0.0s\n"
          ]
        },
        {
          "output_type": "stream",
          "name": "stdout",
          "text": [
            "\b\b\b\b\b\b\b\b\b\b\b\b\b\b\b\b\b\b\b\b\b\b\b\b\b\b\b\b\b\b\b\b\b\b\b\b\b\b\b\b\b\b\b\b\b\b\b\b\b\b\b\b\b\b\b\b\b\b\b\b\b\b\b\b\b\b\b\b\b\b\b\b\b\b\b\b\b\b\b\b\b\b\b\b\r391/391 [==============================] - 2s 6ms/step - loss: 0.2174 - accuracy: 0.9176 - val_loss: 0.2838 - val_accuracy: 0.8986\n",
            "Epoch 26/100\n",
            "391/391 [==============================] - 2s 5ms/step - loss: 0.2138 - accuracy: 0.9196 - val_loss: 0.2861 - val_accuracy: 0.8970\n",
            "Epoch 27/100\n",
            "391/391 [==============================] - 2s 4ms/step - loss: 0.2128 - accuracy: 0.9194 - val_loss: 0.2885 - val_accuracy: 0.8977\n",
            "Epoch 28/100\n",
            "391/391 [==============================] - 2s 4ms/step - loss: 0.2098 - accuracy: 0.9210 - val_loss: 0.2918 - val_accuracy: 0.8987\n",
            "Epoch 29/100\n",
            "391/391 [==============================] - 2s 4ms/step - loss: 0.2044 - accuracy: 0.9231 - val_loss: 0.2939 - val_accuracy: 0.8953\n",
            "Epoch 30/100\n",
            "391/391 [==============================] - 1s 4ms/step - loss: 0.2002 - accuracy: 0.9241 - val_loss: 0.2884 - val_accuracy: 0.8954\n",
            "Epoch 31/100\n",
            "391/391 [==============================] - 2s 4ms/step - loss: 0.1974 - accuracy: 0.9254 - val_loss: 0.2894 - val_accuracy: 0.8978\n",
            "Epoch 32/100\n",
            "391/391 [==============================] - 1s 4ms/step - loss: 0.1940 - accuracy: 0.9277 - val_loss: 0.3033 - val_accuracy: 0.8938\n",
            "Epoch 33/100\n",
            "391/391 [==============================] - 1s 4ms/step - loss: 0.1937 - accuracy: 0.9250 - val_loss: 0.3009 - val_accuracy: 0.8959\n",
            "Epoch 34/100\n",
            "391/391 [==============================] - 2s 5ms/step - loss: 0.1907 - accuracy: 0.9276 - val_loss: 0.3036 - val_accuracy: 0.8961\n",
            "Epoch 35/100\n",
            "391/391 [==============================] - 1s 4ms/step - loss: 0.1876 - accuracy: 0.9292 - val_loss: 0.3032 - val_accuracy: 0.8975\n",
            "Epoch 36/100\n",
            "391/391 [==============================] - 2s 4ms/step - loss: 0.1856 - accuracy: 0.9298 - val_loss: 0.3007 - val_accuracy: 0.8983\n",
            "Epoch 37/100\n",
            "391/391 [==============================] - 1s 4ms/step - loss: 0.1834 - accuracy: 0.9310 - val_loss: 0.3053 - val_accuracy: 0.8999\n",
            "Epoch 38/100\n",
            "391/391 [==============================] - 1s 4ms/step - loss: 0.1844 - accuracy: 0.9307 - val_loss: 0.2934 - val_accuracy: 0.9006\n",
            "Epoch 39/100\n",
            "391/391 [==============================] - 2s 4ms/step - loss: 0.1808 - accuracy: 0.9324 - val_loss: 0.2919 - val_accuracy: 0.9029\n",
            "Epoch 40/100\n",
            "391/391 [==============================] - 1s 4ms/step - loss: 0.1766 - accuracy: 0.9336 - val_loss: 0.2933 - val_accuracy: 0.9027\n",
            "Epoch 41/100\n",
            "391/391 [==============================] - 1s 4ms/step - loss: 0.1756 - accuracy: 0.9327 - val_loss: 0.3065 - val_accuracy: 0.8964\n",
            "Epoch 42/100\n",
            "391/391 [==============================] - 2s 5ms/step - loss: 0.1729 - accuracy: 0.9349 - val_loss: 0.3028 - val_accuracy: 0.8995\n",
            "Epoch 43/100\n",
            "391/391 [==============================] - 1s 4ms/step - loss: 0.1726 - accuracy: 0.9341 - val_loss: 0.3050 - val_accuracy: 0.8971\n",
            "Epoch 44/100\n",
            "391/391 [==============================] - 1s 4ms/step - loss: 0.1700 - accuracy: 0.9356 - val_loss: 0.3019 - val_accuracy: 0.8991\n",
            "Epoch 45/100\n",
            "391/391 [==============================] - 2s 4ms/step - loss: 0.1672 - accuracy: 0.9356 - val_loss: 0.3157 - val_accuracy: 0.8986\n",
            "Epoch 46/100\n",
            "391/391 [==============================] - 1s 4ms/step - loss: 0.1648 - accuracy: 0.9382 - val_loss: 0.3120 - val_accuracy: 0.8977\n",
            "Epoch 47/100\n",
            "391/391 [==============================] - 2s 4ms/step - loss: 0.1620 - accuracy: 0.9381 - val_loss: 0.3099 - val_accuracy: 0.9003\n",
            "Epoch 48/100\n",
            "391/391 [==============================] - 1s 4ms/step - loss: 0.1603 - accuracy: 0.9398 - val_loss: 0.3156 - val_accuracy: 0.8988\n",
            "Epoch 49/100\n",
            "391/391 [==============================] - 1s 4ms/step - loss: 0.1595 - accuracy: 0.9396 - val_loss: 0.3139 - val_accuracy: 0.8972\n",
            "Epoch 50/100\n",
            "391/391 [==============================] - 2s 5ms/step - loss: 0.1567 - accuracy: 0.9410 - val_loss: 0.3054 - val_accuracy: 0.9013\n",
            "Epoch 51/100\n",
            "391/391 [==============================] - 2s 4ms/step - loss: 0.1581 - accuracy: 0.9393 - val_loss: 0.3107 - val_accuracy: 0.8981\n",
            "Epoch 52/100\n",
            "391/391 [==============================] - 2s 4ms/step - loss: 0.1537 - accuracy: 0.9420 - val_loss: 0.3233 - val_accuracy: 0.8992\n",
            "Epoch 53/100\n",
            "391/391 [==============================] - 2s 4ms/step - loss: 0.1521 - accuracy: 0.9420 - val_loss: 0.3215 - val_accuracy: 0.8990\n",
            "Epoch 54/100\n",
            "391/391 [==============================] - 2s 4ms/step - loss: 0.1541 - accuracy: 0.9412 - val_loss: 0.3255 - val_accuracy: 0.8989\n",
            "Epoch 55/100\n",
            "391/391 [==============================] - 1s 4ms/step - loss: 0.1541 - accuracy: 0.9408 - val_loss: 0.3165 - val_accuracy: 0.9016\n",
            "Epoch 56/100\n",
            "391/391 [==============================] - 2s 4ms/step - loss: 0.1480 - accuracy: 0.9431 - val_loss: 0.3201 - val_accuracy: 0.9001\n",
            "Epoch 57/100\n",
            "391/391 [==============================] - 1s 4ms/step - loss: 0.1451 - accuracy: 0.9446 - val_loss: 0.3212 - val_accuracy: 0.8997\n",
            "Epoch 58/100\n",
            "391/391 [==============================] - 2s 5ms/step - loss: 0.1428 - accuracy: 0.9436 - val_loss: 0.3111 - val_accuracy: 0.9025\n",
            "Epoch 59/100\n",
            "391/391 [==============================] - 1s 4ms/step - loss: 0.1433 - accuracy: 0.9439 - val_loss: 0.3250 - val_accuracy: 0.8998\n",
            "Epoch 60/100\n",
            "391/391 [==============================] - 2s 4ms/step - loss: 0.1458 - accuracy: 0.9438 - val_loss: 0.3274 - val_accuracy: 0.8993\n",
            "Epoch 61/100\n",
            "391/391 [==============================] - 1s 4ms/step - loss: 0.1419 - accuracy: 0.9458 - val_loss: 0.3222 - val_accuracy: 0.9011\n",
            "Epoch 62/100\n",
            "391/391 [==============================] - 2s 4ms/step - loss: 0.1438 - accuracy: 0.9451 - val_loss: 0.3395 - val_accuracy: 0.8977\n",
            "Epoch 63/100\n",
            "391/391 [==============================] - 1s 4ms/step - loss: 0.1366 - accuracy: 0.9477 - val_loss: 0.3382 - val_accuracy: 0.8978\n",
            "Epoch 64/100\n",
            "391/391 [==============================] - 1s 4ms/step - loss: 0.1332 - accuracy: 0.9488 - val_loss: 0.3409 - val_accuracy: 0.9008\n",
            "Epoch 65/100\n",
            "391/391 [==============================] - 1s 3ms/step - loss: 0.1390 - accuracy: 0.9466 - val_loss: 0.3385 - val_accuracy: 0.8997\n",
            "Epoch 66/100\n",
            "391/391 [==============================] - 2s 5ms/step - loss: 0.1342 - accuracy: 0.9480 - val_loss: 0.3320 - val_accuracy: 0.8996\n",
            "Epoch 67/100\n",
            "391/391 [==============================] - 2s 5ms/step - loss: 0.1337 - accuracy: 0.9483 - val_loss: 0.3406 - val_accuracy: 0.9015\n",
            "Epoch 68/100\n",
            "391/391 [==============================] - 1s 4ms/step - loss: 0.1330 - accuracy: 0.9484 - val_loss: 0.3416 - val_accuracy: 0.9003\n",
            "Epoch 69/100\n",
            "391/391 [==============================] - 2s 4ms/step - loss: 0.1330 - accuracy: 0.9489 - val_loss: 0.3435 - val_accuracy: 0.8991\n",
            "Epoch 70/100\n",
            "391/391 [==============================] - 1s 4ms/step - loss: 0.1292 - accuracy: 0.9500 - val_loss: 0.3470 - val_accuracy: 0.9014\n",
            "Epoch 71/100\n",
            "391/391 [==============================] - 2s 4ms/step - loss: 0.1288 - accuracy: 0.9502 - val_loss: 0.3467 - val_accuracy: 0.8998\n",
            "Epoch 72/100\n",
            "391/391 [==============================] - 1s 4ms/step - loss: 0.1313 - accuracy: 0.9493 - val_loss: 0.3533 - val_accuracy: 0.9016\n",
            "Epoch 73/100\n",
            "391/391 [==============================] - 1s 4ms/step - loss: 0.1287 - accuracy: 0.9502 - val_loss: 0.3539 - val_accuracy: 0.8964\n",
            "Epoch 74/100\n",
            "391/391 [==============================] - 2s 5ms/step - loss: 0.1249 - accuracy: 0.9519 - val_loss: 0.3516 - val_accuracy: 0.9012\n",
            "Epoch 75/100\n",
            "391/391 [==============================] - 2s 4ms/step - loss: 0.1277 - accuracy: 0.9509 - val_loss: 0.3496 - val_accuracy: 0.9014\n",
            "Epoch 76/100\n",
            "391/391 [==============================] - 1s 4ms/step - loss: 0.1260 - accuracy: 0.9519 - val_loss: 0.3601 - val_accuracy: 0.8991\n",
            "Epoch 77/100\n",
            "391/391 [==============================] - 1s 4ms/step - loss: 0.1231 - accuracy: 0.9528 - val_loss: 0.3654 - val_accuracy: 0.9022\n",
            "Epoch 78/100\n",
            "391/391 [==============================] - 2s 4ms/step - loss: 0.1266 - accuracy: 0.9513 - val_loss: 0.3525 - val_accuracy: 0.9000\n",
            "Epoch 79/100\n",
            "391/391 [==============================] - 2s 4ms/step - loss: 0.1229 - accuracy: 0.9534 - val_loss: 0.3664 - val_accuracy: 0.9004\n",
            "Epoch 80/100\n",
            "391/391 [==============================] - 2s 4ms/step - loss: 0.1208 - accuracy: 0.9539 - val_loss: 0.3584 - val_accuracy: 0.8995\n",
            "Epoch 81/100\n",
            "391/391 [==============================] - 2s 4ms/step - loss: 0.1197 - accuracy: 0.9531 - val_loss: 0.3611 - val_accuracy: 0.9017\n",
            "Epoch 82/100\n",
            "391/391 [==============================] - 2s 5ms/step - loss: 0.1191 - accuracy: 0.9545 - val_loss: 0.3781 - val_accuracy: 0.9021\n",
            "Epoch 83/100\n",
            "391/391 [==============================] - 1s 4ms/step - loss: 0.1194 - accuracy: 0.9542 - val_loss: 0.3539 - val_accuracy: 0.9021\n",
            "Epoch 84/100\n",
            "391/391 [==============================] - 1s 4ms/step - loss: 0.1179 - accuracy: 0.9548 - val_loss: 0.3762 - val_accuracy: 0.8958\n",
            "Epoch 85/100\n",
            "391/391 [==============================] - 2s 4ms/step - loss: 0.1197 - accuracy: 0.9542 - val_loss: 0.3722 - val_accuracy: 0.8982\n",
            "Epoch 86/100\n",
            "391/391 [==============================] - 1s 4ms/step - loss: 0.1154 - accuracy: 0.9557 - val_loss: 0.3831 - val_accuracy: 0.9015\n",
            "Epoch 87/100\n",
            "391/391 [==============================] - 2s 4ms/step - loss: 0.1135 - accuracy: 0.9569 - val_loss: 0.3843 - val_accuracy: 0.8993\n",
            "Epoch 88/100\n",
            "391/391 [==============================] - 1s 4ms/step - loss: 0.1125 - accuracy: 0.9576 - val_loss: 0.3770 - val_accuracy: 0.8996\n",
            "Epoch 89/100\n",
            "391/391 [==============================] - 2s 4ms/step - loss: 0.1135 - accuracy: 0.9564 - val_loss: 0.3806 - val_accuracy: 0.9005\n",
            "Epoch 90/100\n",
            "391/391 [==============================] - 2s 5ms/step - loss: 0.1126 - accuracy: 0.9563 - val_loss: 0.3754 - val_accuracy: 0.8991\n",
            "Epoch 91/100\n",
            "391/391 [==============================] - 2s 4ms/step - loss: 0.1076 - accuracy: 0.9590 - val_loss: 0.3932 - val_accuracy: 0.8979\n",
            "Epoch 92/100\n",
            "391/391 [==============================] - 1s 4ms/step - loss: 0.1126 - accuracy: 0.9574 - val_loss: 0.3816 - val_accuracy: 0.8986\n",
            "Epoch 93/100\n",
            "391/391 [==============================] - 1s 4ms/step - loss: 0.1110 - accuracy: 0.9582 - val_loss: 0.4044 - val_accuracy: 0.8996\n",
            "Epoch 94/100\n",
            "391/391 [==============================] - 1s 4ms/step - loss: 0.1089 - accuracy: 0.9582 - val_loss: 0.3814 - val_accuracy: 0.9021\n",
            "Epoch 95/100\n",
            "391/391 [==============================] - 1s 4ms/step - loss: 0.1090 - accuracy: 0.9577 - val_loss: 0.4027 - val_accuracy: 0.8948\n",
            "Epoch 96/100\n",
            "391/391 [==============================] - 2s 4ms/step - loss: 0.1102 - accuracy: 0.9574 - val_loss: 0.4037 - val_accuracy: 0.9004\n",
            "Epoch 97/100\n",
            "391/391 [==============================] - 2s 4ms/step - loss: 0.1060 - accuracy: 0.9584 - val_loss: 0.3908 - val_accuracy: 0.9006\n",
            "Epoch 98/100\n",
            "391/391 [==============================] - 2s 5ms/step - loss: 0.1092 - accuracy: 0.9568 - val_loss: 0.4107 - val_accuracy: 0.8995\n",
            "Epoch 99/100\n",
            "391/391 [==============================] - 1s 4ms/step - loss: 0.1033 - accuracy: 0.9608 - val_loss: 0.3925 - val_accuracy: 0.8980\n",
            "Epoch 100/100\n",
            "391/391 [==============================] - 1s 4ms/step - loss: 0.1050 - accuracy: 0.9601 - val_loss: 0.3991 - val_accuracy: 0.9037\n"
          ]
        },
        {
          "output_type": "display_data",
          "data": {
            "text/plain": [
              "VBox(children=(Label(value='31.476 MB of 31.476 MB uploaded (0.088 MB deduped)\\r'), FloatProgress(value=1.0, m…"
            ],
            "application/vnd.jupyter.widget-view+json": {
              "version_major": 2,
              "version_minor": 0,
              "model_id": "1a98722d9d874698b3b4c01a8219e535"
            }
          },
          "metadata": {}
        },
        {
          "output_type": "display_data",
          "data": {
            "text/plain": [
              "<IPython.core.display.HTML object>"
            ],
            "text/html": [
              "<style>\n",
              "    table.wandb td:nth-child(1) { padding: 0 10px; text-align: left ; width: auto;} td:nth-child(2) {text-align: left ; width: 100%}\n",
              "    .wandb-row { display: flex; flex-direction: row; flex-wrap: wrap; justify-content: flex-start; width: 100% }\n",
              "    .wandb-col { display: flex; flex-direction: column; flex-basis: 100%; flex: 1; padding: 10px; }\n",
              "    </style>\n",
              "<div class=\"wandb-row\"><div class=\"wandb-col\"><h3>Run history:</h3><br/><table class=\"wandb\"><tr><td>accuracy</td><td>▁▄▅▅▅▆▆▆▆▆▆▆▇▇▇▇▇▇▇▇▇▇▇▇▇███████████████</td></tr><tr><td>epoch</td><td>▁▁▁▁▂▂▂▂▂▃▃▃▃▃▃▄▄▄▄▄▅▅▅▅▅▅▆▆▆▆▆▇▇▇▇▇▇███</td></tr><tr><td>loss</td><td>█▅▄▄▄▃▃▃▃▃▃▃▂▂▂▂▂▂▂▂▂▂▂▂▂▁▁▁▁▁▁▁▁▁▁▁▁▁▁▁</td></tr><tr><td>val_accuracy</td><td>▁▂▅▅▆▆▇▇▇█▇▇▇▇▇█▇▇▇▇▇▇█▇███▇█████▇▇█▇███</td></tr><tr><td>val_loss</td><td>█▆▃▃▂▁▁▁▁▁▁▁▁▂▂▁▂▂▂▂▂▃▃▃▃▄▄▄▄▄▅▅▆▅▆▆▆▆▆▇</td></tr></table><br/></div><div class=\"wandb-col\"><h3>Run summary:</h3><br/><table class=\"wandb\"><tr><td>accuracy</td><td>0.9601</td></tr><tr><td>best_epoch</td><td>24</td></tr><tr><td>best_val_loss</td><td>0.28378</td></tr><tr><td>epoch</td><td>99</td></tr><tr><td>loss</td><td>0.10504</td></tr><tr><td>val_accuracy</td><td>0.9037</td></tr><tr><td>val_loss</td><td>0.39915</td></tr></table><br/></div></div>"
            ]
          },
          "metadata": {}
        },
        {
          "output_type": "display_data",
          "data": {
            "text/plain": [
              "<IPython.core.display.HTML object>"
            ],
            "text/html": [
              " View run <strong style=\"color:#cdcd00\">good-sweep-4</strong> at: <a href='https://wandb.ai/pkasnesis/aidl-a02-week5/runs/c0yekmt7' target=\"_blank\">https://wandb.ai/pkasnesis/aidl-a02-week5/runs/c0yekmt7</a><br/> View project at: <a href='https://wandb.ai/pkasnesis/aidl-a02-week5' target=\"_blank\">https://wandb.ai/pkasnesis/aidl-a02-week5</a><br/>Synced 5 W&B file(s), 1 media file(s), 65 artifact file(s) and 1 other file(s)"
            ]
          },
          "metadata": {}
        },
        {
          "output_type": "display_data",
          "data": {
            "text/plain": [
              "<IPython.core.display.HTML object>"
            ],
            "text/html": [
              "Find logs at: <code>./wandb/run-20240424_134851-c0yekmt7/logs</code>"
            ]
          },
          "metadata": {}
        },
        {
          "output_type": "stream",
          "name": "stderr",
          "text": [
            "\u001b[34m\u001b[1mwandb\u001b[0m: Agent Starting Run: hed5zhpe with config:\n",
            "\u001b[34m\u001b[1mwandb\u001b[0m: \tdropout: 0.3\n",
            "\u001b[34m\u001b[1mwandb\u001b[0m: \tepochs: 100\n",
            "\u001b[34m\u001b[1mwandb\u001b[0m: \tfc_layer_size: 256\n",
            "\u001b[34m\u001b[1mwandb\u001b[0m: \tlearning-rate: 0.003\n"
          ]
        },
        {
          "output_type": "display_data",
          "data": {
            "text/plain": [
              "<IPython.core.display.HTML object>"
            ],
            "text/html": [
              "Tracking run with wandb version 0.16.6"
            ]
          },
          "metadata": {}
        },
        {
          "output_type": "display_data",
          "data": {
            "text/plain": [
              "<IPython.core.display.HTML object>"
            ],
            "text/html": [
              "Run data is saved locally in <code>/content/wandb/run-20240424_135202-hed5zhpe</code>"
            ]
          },
          "metadata": {}
        },
        {
          "output_type": "display_data",
          "data": {
            "text/plain": [
              "<IPython.core.display.HTML object>"
            ],
            "text/html": [
              "Syncing run <strong><a href='https://wandb.ai/pkasnesis/aidl-a02-week5/runs/hed5zhpe' target=\"_blank\">glowing-sweep-5</a></strong> to <a href='https://wandb.ai/pkasnesis/aidl-a02-week5' target=\"_blank\">Weights & Biases</a> (<a href='https://wandb.me/run' target=\"_blank\">docs</a>)<br/>Sweep page: <a href='https://wandb.ai/pkasnesis/aidl-a02-week5/sweeps/846jlb6t' target=\"_blank\">https://wandb.ai/pkasnesis/aidl-a02-week5/sweeps/846jlb6t</a>"
            ]
          },
          "metadata": {}
        },
        {
          "output_type": "display_data",
          "data": {
            "text/plain": [
              "<IPython.core.display.HTML object>"
            ],
            "text/html": [
              " View project at <a href='https://wandb.ai/pkasnesis/aidl-a02-week5' target=\"_blank\">https://wandb.ai/pkasnesis/aidl-a02-week5</a>"
            ]
          },
          "metadata": {}
        },
        {
          "output_type": "display_data",
          "data": {
            "text/plain": [
              "<IPython.core.display.HTML object>"
            ],
            "text/html": [
              " View sweep at <a href='https://wandb.ai/pkasnesis/aidl-a02-week5/sweeps/846jlb6t' target=\"_blank\">https://wandb.ai/pkasnesis/aidl-a02-week5/sweeps/846jlb6t</a>"
            ]
          },
          "metadata": {}
        },
        {
          "output_type": "display_data",
          "data": {
            "text/plain": [
              "<IPython.core.display.HTML object>"
            ],
            "text/html": [
              " View run at <a href='https://wandb.ai/pkasnesis/aidl-a02-week5/runs/hed5zhpe' target=\"_blank\">https://wandb.ai/pkasnesis/aidl-a02-week5/runs/hed5zhpe</a>"
            ]
          },
          "metadata": {}
        },
        {
          "output_type": "stream",
          "name": "stderr",
          "text": [
            "WARNING:absl:`lr` is deprecated in Keras optimizer, please use `learning_rate` or use the legacy optimizer, e.g.,tf.keras.optimizers.legacy.Adam.\n"
          ]
        },
        {
          "output_type": "stream",
          "name": "stdout",
          "text": [
            "Epoch 1/100\n",
            "390/391 [============================>.] - ETA: 0s - loss: 0.5931 - accuracy: 0.7911"
          ]
        },
        {
          "output_type": "stream",
          "name": "stderr",
          "text": [
            "/usr/local/lib/python3.10/dist-packages/keras/src/engine/training.py:3103: UserWarning: You are saving your model as an HDF5 file via `model.save()`. This file format is considered legacy. We recommend using instead the native Keras format, e.g. `model.save('my_model.keras')`.\n",
            "  saving_api.save_model(\n",
            "\u001b[34m\u001b[1mwandb\u001b[0m: Adding directory to artifact (/content/wandb/run-20240424_135202-hed5zhpe/files/model-best)... Done. 0.0s\n"
          ]
        },
        {
          "output_type": "stream",
          "name": "stdout",
          "text": [
            "\b\b\b\b\b\b\b\b\b\b\b\b\b\b\b\b\b\b\b\b\b\b\b\b\b\b\b\b\b\b\b\b\b\b\b\b\b\b\b\b\b\b\b\b\b\b\b\b\b\b\b\b\b\b\b\b\b\b\b\b\b\b\b\b\b\b\b\b\b\b\b\b\b\b\b\b\b\b\b\b\b\b\b\b\r391/391 [==============================] - 3s 6ms/step - loss: 0.5932 - accuracy: 0.7910 - val_loss: 0.4286 - val_accuracy: 0.8498\n",
            "Epoch 2/100\n",
            "378/391 [============================>.] - ETA: 0s - loss: 0.4263 - accuracy: 0.8477"
          ]
        },
        {
          "output_type": "stream",
          "name": "stderr",
          "text": [
            "/usr/local/lib/python3.10/dist-packages/keras/src/engine/training.py:3103: UserWarning: You are saving your model as an HDF5 file via `model.save()`. This file format is considered legacy. We recommend using instead the native Keras format, e.g. `model.save('my_model.keras')`.\n",
            "  saving_api.save_model(\n",
            "\u001b[34m\u001b[1mwandb\u001b[0m: Adding directory to artifact (/content/wandb/run-20240424_135202-hed5zhpe/files/model-best)... Done. 0.0s\n"
          ]
        },
        {
          "output_type": "stream",
          "name": "stdout",
          "text": [
            "\b\b\b\b\b\b\b\b\b\b\b\b\b\b\b\b\b\b\b\b\b\b\b\b\b\b\b\b\b\b\b\b\b\b\b\b\b\b\b\b\b\b\b\b\b\b\b\b\b\b\b\b\b\b\b\b\b\b\b\b\b\b\b\b\b\b\b\b\b\b\b\b\b\b\b\b\b\b\b\b\b\b\b\b\r391/391 [==============================] - 2s 6ms/step - loss: 0.4248 - accuracy: 0.8483 - val_loss: 0.3809 - val_accuracy: 0.8627\n",
            "Epoch 3/100\n",
            "383/391 [============================>.] - ETA: 0s - loss: 0.3816 - accuracy: 0.8632"
          ]
        },
        {
          "output_type": "stream",
          "name": "stderr",
          "text": [
            "/usr/local/lib/python3.10/dist-packages/keras/src/engine/training.py:3103: UserWarning: You are saving your model as an HDF5 file via `model.save()`. This file format is considered legacy. We recommend using instead the native Keras format, e.g. `model.save('my_model.keras')`.\n",
            "  saving_api.save_model(\n",
            "\u001b[34m\u001b[1mwandb\u001b[0m: Adding directory to artifact (/content/wandb/run-20240424_135202-hed5zhpe/files/model-best)... Done. 0.0s\n"
          ]
        },
        {
          "output_type": "stream",
          "name": "stdout",
          "text": [
            "\b\b\b\b\b\b\b\b\b\b\b\b\b\b\b\b\b\b\b\b\b\b\b\b\b\b\b\b\b\b\b\b\b\b\b\b\b\b\b\b\b\b\b\b\b\b\b\b\b\b\b\b\b\b\b\b\b\b\b\b\b\b\b\b\b\b\b\b\b\b\b\b\b\b\b\b\b\b\b\b\b\b\b\b\r391/391 [==============================] - 2s 6ms/step - loss: 0.3818 - accuracy: 0.8631 - val_loss: 0.3755 - val_accuracy: 0.8618\n",
            "Epoch 4/100\n",
            "389/391 [============================>.] - ETA: 0s - loss: 0.3574 - accuracy: 0.8710"
          ]
        },
        {
          "output_type": "stream",
          "name": "stderr",
          "text": [
            "/usr/local/lib/python3.10/dist-packages/keras/src/engine/training.py:3103: UserWarning: You are saving your model as an HDF5 file via `model.save()`. This file format is considered legacy. We recommend using instead the native Keras format, e.g. `model.save('my_model.keras')`.\n",
            "  saving_api.save_model(\n",
            "\u001b[34m\u001b[1mwandb\u001b[0m: Adding directory to artifact (/content/wandb/run-20240424_135202-hed5zhpe/files/model-best)... Done. 0.0s\n"
          ]
        },
        {
          "output_type": "stream",
          "name": "stdout",
          "text": [
            "\b\b\b\b\b\b\b\b\b\b\b\b\b\b\b\b\b\b\b\b\b\b\b\b\b\b\b\b\b\b\b\b\b\b\b\b\b\b\b\b\b\b\b\b\b\b\b\b\b\b\b\b\b\b\b\b\b\b\b\b\b\b\b\b\b\b\b\b\b\b\b\b\b\b\b\b\b\b\b\b\b\b\b\b\r391/391 [==============================] - 3s 7ms/step - loss: 0.3572 - accuracy: 0.8711 - val_loss: 0.3344 - val_accuracy: 0.8805\n",
            "Epoch 5/100\n",
            "391/391 [==============================] - 1s 4ms/step - loss: 0.3377 - accuracy: 0.8783 - val_loss: 0.3417 - val_accuracy: 0.8778\n",
            "Epoch 6/100\n",
            "376/391 [===========================>..] - ETA: 0s - loss: 0.3292 - accuracy: 0.8806"
          ]
        },
        {
          "output_type": "stream",
          "name": "stderr",
          "text": [
            "/usr/local/lib/python3.10/dist-packages/keras/src/engine/training.py:3103: UserWarning: You are saving your model as an HDF5 file via `model.save()`. This file format is considered legacy. We recommend using instead the native Keras format, e.g. `model.save('my_model.keras')`.\n",
            "  saving_api.save_model(\n",
            "\u001b[34m\u001b[1mwandb\u001b[0m: Adding directory to artifact (/content/wandb/run-20240424_135202-hed5zhpe/files/model-best)... Done. 0.0s\n"
          ]
        },
        {
          "output_type": "stream",
          "name": "stdout",
          "text": [
            "\b\b\b\b\b\b\b\b\b\b\b\b\b\b\b\b\b\b\b\b\b\b\b\b\b\b\b\b\b\b\b\b\b\b\b\b\b\b\b\b\b\b\b\b\b\b\b\b\b\b\b\b\b\b\b\b\b\b\b\b\b\b\b\b\b\b\b\b\b\b\b\b\b\b\b\b\b\b\b\b\b\b\b\b\r391/391 [==============================] - 3s 7ms/step - loss: 0.3296 - accuracy: 0.8804 - val_loss: 0.3254 - val_accuracy: 0.8822\n",
            "Epoch 7/100\n",
            "388/391 [============================>.] - ETA: 0s - loss: 0.3158 - accuracy: 0.8838"
          ]
        },
        {
          "output_type": "stream",
          "name": "stderr",
          "text": [
            "/usr/local/lib/python3.10/dist-packages/keras/src/engine/training.py:3103: UserWarning: You are saving your model as an HDF5 file via `model.save()`. This file format is considered legacy. We recommend using instead the native Keras format, e.g. `model.save('my_model.keras')`.\n",
            "  saving_api.save_model(\n",
            "\u001b[34m\u001b[1mwandb\u001b[0m: Adding directory to artifact (/content/wandb/run-20240424_135202-hed5zhpe/files/model-best)... Done. 0.0s\n"
          ]
        },
        {
          "output_type": "stream",
          "name": "stdout",
          "text": [
            "\b\b\b\b\b\b\b\b\b\b\b\b\b\b\b\b\b\b\b\b\b\b\b\b\b\b\b\b\b\b\b\b\b\b\b\b\b\b\b\b\b\b\b\b\b\b\b\b\b\b\b\b\b\b\b\b\b\b\b\b\b\b\b\b\b\b\b\b\b\b\b\b\b\b\b\b\b\b\b\b\b\b\b\b\r391/391 [==============================] - 2s 5ms/step - loss: 0.3160 - accuracy: 0.8837 - val_loss: 0.3214 - val_accuracy: 0.8827\n",
            "Epoch 8/100\n",
            "382/391 [============================>.] - ETA: 0s - loss: 0.3059 - accuracy: 0.8881"
          ]
        },
        {
          "output_type": "stream",
          "name": "stderr",
          "text": [
            "/usr/local/lib/python3.10/dist-packages/keras/src/engine/training.py:3103: UserWarning: You are saving your model as an HDF5 file via `model.save()`. This file format is considered legacy. We recommend using instead the native Keras format, e.g. `model.save('my_model.keras')`.\n",
            "  saving_api.save_model(\n",
            "\u001b[34m\u001b[1mwandb\u001b[0m: Adding directory to artifact (/content/wandb/run-20240424_135202-hed5zhpe/files/model-best)... Done. 0.0s\n"
          ]
        },
        {
          "output_type": "stream",
          "name": "stdout",
          "text": [
            "\b\b\b\b\b\b\b\b\b\b\b\b\b\b\b\b\b\b\b\b\b\b\b\b\b\b\b\b\b\b\b\b\b\b\b\b\b\b\b\b\b\b\b\b\b\b\b\b\b\b\b\b\b\b\b\b\b\b\b\b\b\b\b\b\b\b\b\b\b\b\b\b\b\b\b\b\b\b\b\b\b\b\b\b\r391/391 [==============================] - 2s 6ms/step - loss: 0.3054 - accuracy: 0.8882 - val_loss: 0.3096 - val_accuracy: 0.8844\n",
            "Epoch 9/100\n",
            "382/391 [============================>.] - ETA: 0s - loss: 0.2980 - accuracy: 0.8911"
          ]
        },
        {
          "output_type": "stream",
          "name": "stderr",
          "text": [
            "/usr/local/lib/python3.10/dist-packages/keras/src/engine/training.py:3103: UserWarning: You are saving your model as an HDF5 file via `model.save()`. This file format is considered legacy. We recommend using instead the native Keras format, e.g. `model.save('my_model.keras')`.\n",
            "  saving_api.save_model(\n",
            "\u001b[34m\u001b[1mwandb\u001b[0m: Adding directory to artifact (/content/wandb/run-20240424_135202-hed5zhpe/files/model-best)... Done. 0.0s\n"
          ]
        },
        {
          "output_type": "stream",
          "name": "stdout",
          "text": [
            "\b\b\b\b\b\b\b\b\b\b\b\b\b\b\b\b\b\b\b\b\b\b\b\b\b\b\b\b\b\b\b\b\b\b\b\b\b\b\b\b\b\b\b\b\b\b\b\b\b\b\b\b\b\b\b\b\b\b\b\b\b\b\b\b\b\b\b\b\b\b\b\b\b\b\b\b\b\b\b\b\b\b\b\b\r391/391 [==============================] - 2s 6ms/step - loss: 0.2978 - accuracy: 0.8910 - val_loss: 0.3072 - val_accuracy: 0.8877\n",
            "Epoch 10/100\n",
            "386/391 [============================>.] - ETA: 0s - loss: 0.2905 - accuracy: 0.8930"
          ]
        },
        {
          "output_type": "stream",
          "name": "stderr",
          "text": [
            "/usr/local/lib/python3.10/dist-packages/keras/src/engine/training.py:3103: UserWarning: You are saving your model as an HDF5 file via `model.save()`. This file format is considered legacy. We recommend using instead the native Keras format, e.g. `model.save('my_model.keras')`.\n",
            "  saving_api.save_model(\n",
            "\u001b[34m\u001b[1mwandb\u001b[0m: Adding directory to artifact (/content/wandb/run-20240424_135202-hed5zhpe/files/model-best)... Done. 0.0s\n"
          ]
        },
        {
          "output_type": "stream",
          "name": "stdout",
          "text": [
            "\b\b\b\b\b\b\b\b\b\b\b\b\b\b\b\b\b\b\b\b\b\b\b\b\b\b\b\b\b\b\b\b\b\b\b\b\b\b\b\b\b\b\b\b\b\b\b\b\b\b\b\b\b\b\b\b\b\b\b\b\b\b\b\b\b\b\b\b\b\b\b\b\b\b\b\b\b\b\b\b\b\b\b\b\r391/391 [==============================] - 3s 7ms/step - loss: 0.2904 - accuracy: 0.8930 - val_loss: 0.2986 - val_accuracy: 0.8902\n",
            "Epoch 11/100\n",
            "391/391 [==============================] - 2s 4ms/step - loss: 0.2819 - accuracy: 0.8962 - val_loss: 0.3105 - val_accuracy: 0.8863\n",
            "Epoch 12/100\n",
            "391/391 [==============================] - 1s 4ms/step - loss: 0.2756 - accuracy: 0.8986 - val_loss: 0.3077 - val_accuracy: 0.8860\n",
            "Epoch 13/100\n",
            "380/391 [============================>.] - ETA: 0s - loss: 0.2724 - accuracy: 0.8976"
          ]
        },
        {
          "output_type": "stream",
          "name": "stderr",
          "text": [
            "/usr/local/lib/python3.10/dist-packages/keras/src/engine/training.py:3103: UserWarning: You are saving your model as an HDF5 file via `model.save()`. This file format is considered legacy. We recommend using instead the native Keras format, e.g. `model.save('my_model.keras')`.\n",
            "  saving_api.save_model(\n",
            "\u001b[34m\u001b[1mwandb\u001b[0m: Adding directory to artifact (/content/wandb/run-20240424_135202-hed5zhpe/files/model-best)... Done. 0.0s\n"
          ]
        },
        {
          "output_type": "stream",
          "name": "stdout",
          "text": [
            "\b\b\b\b\b\b\b\b\b\b\b\b\b\b\b\b\b\b\b\b\b\b\b\b\b\b\b\b\b\b\b\b\b\b\b\b\b\b\b\b\b\b\b\b\b\b\b\b\b\b\b\b\b\b\b\b\b\b\b\b\b\b\b\b\b\b\b\b\b\b\b\b\b\b\b\b\b\b\b\b\b\b\b\b\r391/391 [==============================] - 2s 5ms/step - loss: 0.2720 - accuracy: 0.8978 - val_loss: 0.2927 - val_accuracy: 0.8927\n",
            "Epoch 14/100\n",
            "391/391 [==============================] - 2s 4ms/step - loss: 0.2660 - accuracy: 0.9013 - val_loss: 0.2983 - val_accuracy: 0.8908\n",
            "Epoch 15/100\n",
            "391/391 [==============================] - 2s 4ms/step - loss: 0.2605 - accuracy: 0.9024 - val_loss: 0.2983 - val_accuracy: 0.8938\n",
            "Epoch 16/100\n",
            "391/391 [==============================] - 2s 5ms/step - loss: 0.2551 - accuracy: 0.9042 - val_loss: 0.2968 - val_accuracy: 0.8925\n",
            "Epoch 17/100\n",
            "391/391 [==============================] - 2s 5ms/step - loss: 0.2476 - accuracy: 0.9081 - val_loss: 0.2955 - val_accuracy: 0.8937\n",
            "Epoch 18/100\n",
            "389/391 [============================>.] - ETA: 0s - loss: 0.2456 - accuracy: 0.9090"
          ]
        },
        {
          "output_type": "stream",
          "name": "stderr",
          "text": [
            "/usr/local/lib/python3.10/dist-packages/keras/src/engine/training.py:3103: UserWarning: You are saving your model as an HDF5 file via `model.save()`. This file format is considered legacy. We recommend using instead the native Keras format, e.g. `model.save('my_model.keras')`.\n",
            "  saving_api.save_model(\n",
            "\u001b[34m\u001b[1mwandb\u001b[0m: Adding directory to artifact (/content/wandb/run-20240424_135202-hed5zhpe/files/model-best)... Done. 0.0s\n"
          ]
        },
        {
          "output_type": "stream",
          "name": "stdout",
          "text": [
            "\b\b\b\b\b\b\b\b\b\b\b\b\b\b\b\b\b\b\b\b\b\b\b\b\b\b\b\b\b\b\b\b\b\b\b\b\b\b\b\b\b\b\b\b\b\b\b\b\b\b\b\b\b\b\b\b\b\b\b\b\b\b\b\b\b\b\b\b\b\b\b\b\b\b\b\b\b\b\b\b\b\b\b\b\r391/391 [==============================] - 2s 6ms/step - loss: 0.2455 - accuracy: 0.9090 - val_loss: 0.2920 - val_accuracy: 0.8878\n",
            "Epoch 19/100\n",
            "391/391 [==============================] - 1s 4ms/step - loss: 0.2421 - accuracy: 0.9089 - val_loss: 0.2959 - val_accuracy: 0.8926\n",
            "Epoch 20/100\n",
            "388/391 [============================>.] - ETA: 0s - loss: 0.2387 - accuracy: 0.9100"
          ]
        },
        {
          "output_type": "stream",
          "name": "stderr",
          "text": [
            "/usr/local/lib/python3.10/dist-packages/keras/src/engine/training.py:3103: UserWarning: You are saving your model as an HDF5 file via `model.save()`. This file format is considered legacy. We recommend using instead the native Keras format, e.g. `model.save('my_model.keras')`.\n",
            "  saving_api.save_model(\n",
            "\u001b[34m\u001b[1mwandb\u001b[0m: Adding directory to artifact (/content/wandb/run-20240424_135202-hed5zhpe/files/model-best)... Done. 0.0s\n"
          ]
        },
        {
          "output_type": "stream",
          "name": "stdout",
          "text": [
            "\b\b\b\b\b\b\b\b\b\b\b\b\b\b\b\b\b\b\b\b\b\b\b\b\b\b\b\b\b\b\b\b\b\b\b\b\b\b\b\b\b\b\b\b\b\b\b\b\b\b\b\b\b\b\b\b\b\b\b\b\b\b\b\b\b\b\b\b\b\b\b\b\b\b\b\b\b\b\b\b\b\b\b\b\r391/391 [==============================] - 2s 5ms/step - loss: 0.2387 - accuracy: 0.9101 - val_loss: 0.2919 - val_accuracy: 0.8927\n",
            "Epoch 21/100\n",
            "387/391 [============================>.] - ETA: 0s - loss: 0.2330 - accuracy: 0.9114"
          ]
        },
        {
          "output_type": "stream",
          "name": "stderr",
          "text": [
            "/usr/local/lib/python3.10/dist-packages/keras/src/engine/training.py:3103: UserWarning: You are saving your model as an HDF5 file via `model.save()`. This file format is considered legacy. We recommend using instead the native Keras format, e.g. `model.save('my_model.keras')`.\n",
            "  saving_api.save_model(\n",
            "\u001b[34m\u001b[1mwandb\u001b[0m: Adding directory to artifact (/content/wandb/run-20240424_135202-hed5zhpe/files/model-best)... Done. 0.0s\n"
          ]
        },
        {
          "output_type": "stream",
          "name": "stdout",
          "text": [
            "\b\b\b\b\b\b\b\b\b\b\b\b\b\b\b\b\b\b\b\b\b\b\b\b\b\b\b\b\b\b\b\b\b\b\b\b\b\b\b\b\b\b\b\b\b\b\b\b\b\b\b\b\b\b\b\b\b\b\b\b\b\b\b\b\b\b\b\b\b\b\b\b\b\b\b\b\b\b\b\b\b\b\b\b\r391/391 [==============================] - 2s 6ms/step - loss: 0.2329 - accuracy: 0.9116 - val_loss: 0.2901 - val_accuracy: 0.8998\n",
            "Epoch 22/100\n",
            "391/391 [==============================] - 1s 4ms/step - loss: 0.2298 - accuracy: 0.9140 - val_loss: 0.3009 - val_accuracy: 0.8929\n",
            "Epoch 23/100\n",
            "382/391 [============================>.] - ETA: 0s - loss: 0.2206 - accuracy: 0.9168"
          ]
        },
        {
          "output_type": "stream",
          "name": "stderr",
          "text": [
            "/usr/local/lib/python3.10/dist-packages/keras/src/engine/training.py:3103: UserWarning: You are saving your model as an HDF5 file via `model.save()`. This file format is considered legacy. We recommend using instead the native Keras format, e.g. `model.save('my_model.keras')`.\n",
            "  saving_api.save_model(\n",
            "\u001b[34m\u001b[1mwandb\u001b[0m: Adding directory to artifact (/content/wandb/run-20240424_135202-hed5zhpe/files/model-best)... Done. 0.0s\n"
          ]
        },
        {
          "output_type": "stream",
          "name": "stdout",
          "text": [
            "\b\b\b\b\b\b\b\b\b\b\b\b\b\b\b\b\b\b\b\b\b\b\b\b\b\b\b\b\b\b\b\b\b\b\b\b\b\b\b\b\b\b\b\b\b\b\b\b\b\b\b\b\b\b\b\b\b\b\b\b\b\b\b\b\b\b\b\b\b\b\b\b\b\b\b\b\b\b\b\b\b\b\b\b\r391/391 [==============================] - 3s 7ms/step - loss: 0.2208 - accuracy: 0.9168 - val_loss: 0.2793 - val_accuracy: 0.8989\n",
            "Epoch 24/100\n",
            "391/391 [==============================] - 1s 4ms/step - loss: 0.2195 - accuracy: 0.9158 - val_loss: 0.2925 - val_accuracy: 0.8972\n",
            "Epoch 25/100\n",
            "391/391 [==============================] - 2s 4ms/step - loss: 0.2186 - accuracy: 0.9179 - val_loss: 0.2877 - val_accuracy: 0.9001\n",
            "Epoch 26/100\n",
            "391/391 [==============================] - 1s 4ms/step - loss: 0.2132 - accuracy: 0.9193 - val_loss: 0.2827 - val_accuracy: 0.9010\n",
            "Epoch 27/100\n",
            "391/391 [==============================] - 2s 4ms/step - loss: 0.2118 - accuracy: 0.9193 - val_loss: 0.2887 - val_accuracy: 0.8985\n",
            "Epoch 28/100\n",
            "391/391 [==============================] - 1s 4ms/step - loss: 0.2104 - accuracy: 0.9214 - val_loss: 0.2924 - val_accuracy: 0.8954\n",
            "Epoch 29/100\n",
            "391/391 [==============================] - 2s 4ms/step - loss: 0.2041 - accuracy: 0.9225 - val_loss: 0.2918 - val_accuracy: 0.8957\n",
            "Epoch 30/100\n",
            "391/391 [==============================] - 2s 4ms/step - loss: 0.2021 - accuracy: 0.9241 - val_loss: 0.2917 - val_accuracy: 0.8984\n",
            "Epoch 31/100\n",
            "391/391 [==============================] - 2s 5ms/step - loss: 0.1988 - accuracy: 0.9247 - val_loss: 0.2892 - val_accuracy: 0.8980\n",
            "Epoch 32/100\n",
            "391/391 [==============================] - 1s 4ms/step - loss: 0.1933 - accuracy: 0.9266 - val_loss: 0.2964 - val_accuracy: 0.8979\n",
            "Epoch 33/100\n",
            "391/391 [==============================] - 2s 4ms/step - loss: 0.1939 - accuracy: 0.9269 - val_loss: 0.2952 - val_accuracy: 0.8977\n",
            "Epoch 34/100\n",
            "391/391 [==============================] - 2s 4ms/step - loss: 0.1905 - accuracy: 0.9277 - val_loss: 0.3114 - val_accuracy: 0.8970\n",
            "Epoch 35/100\n",
            "391/391 [==============================] - 1s 4ms/step - loss: 0.1849 - accuracy: 0.9291 - val_loss: 0.3010 - val_accuracy: 0.8978\n",
            "Epoch 36/100\n",
            "391/391 [==============================] - 1s 4ms/step - loss: 0.1812 - accuracy: 0.9320 - val_loss: 0.3031 - val_accuracy: 0.8977\n",
            "Epoch 37/100\n",
            "391/391 [==============================] - 2s 4ms/step - loss: 0.1797 - accuracy: 0.9311 - val_loss: 0.3135 - val_accuracy: 0.8990\n",
            "Epoch 38/100\n",
            "391/391 [==============================] - 2s 5ms/step - loss: 0.1822 - accuracy: 0.9315 - val_loss: 0.2943 - val_accuracy: 0.9007\n",
            "Epoch 39/100\n",
            "391/391 [==============================] - 2s 5ms/step - loss: 0.1783 - accuracy: 0.9327 - val_loss: 0.3020 - val_accuracy: 0.9031\n",
            "Epoch 40/100\n",
            "391/391 [==============================] - 2s 4ms/step - loss: 0.1769 - accuracy: 0.9341 - val_loss: 0.3008 - val_accuracy: 0.9016\n",
            "Epoch 41/100\n",
            "391/391 [==============================] - 2s 4ms/step - loss: 0.1718 - accuracy: 0.9348 - val_loss: 0.3066 - val_accuracy: 0.9011\n",
            "Epoch 42/100\n",
            "391/391 [==============================] - 2s 4ms/step - loss: 0.1732 - accuracy: 0.9343 - val_loss: 0.2996 - val_accuracy: 0.8999\n",
            "Epoch 43/100\n",
            "391/391 [==============================] - 2s 4ms/step - loss: 0.1685 - accuracy: 0.9356 - val_loss: 0.3164 - val_accuracy: 0.8963\n",
            "Epoch 44/100\n",
            "391/391 [==============================] - 1s 4ms/step - loss: 0.1684 - accuracy: 0.9356 - val_loss: 0.3129 - val_accuracy: 0.8952\n",
            "Epoch 45/100\n",
            "391/391 [==============================] - 1s 4ms/step - loss: 0.1699 - accuracy: 0.9354 - val_loss: 0.3262 - val_accuracy: 0.8967\n",
            "Epoch 46/100\n",
            "391/391 [==============================] - 2s 6ms/step - loss: 0.1614 - accuracy: 0.9377 - val_loss: 0.3025 - val_accuracy: 0.9020\n",
            "Epoch 47/100\n",
            "391/391 [==============================] - 2s 4ms/step - loss: 0.1622 - accuracy: 0.9387 - val_loss: 0.3198 - val_accuracy: 0.8986\n",
            "Epoch 48/100\n",
            "391/391 [==============================] - 1s 4ms/step - loss: 0.1604 - accuracy: 0.9386 - val_loss: 0.3211 - val_accuracy: 0.8989\n",
            "Epoch 49/100\n",
            "391/391 [==============================] - 2s 4ms/step - loss: 0.1585 - accuracy: 0.9400 - val_loss: 0.3151 - val_accuracy: 0.8979\n",
            "Epoch 50/100\n",
            "391/391 [==============================] - 1s 4ms/step - loss: 0.1563 - accuracy: 0.9403 - val_loss: 0.3244 - val_accuracy: 0.8993\n",
            "Epoch 51/100\n",
            "391/391 [==============================] - 2s 4ms/step - loss: 0.1581 - accuracy: 0.9393 - val_loss: 0.3170 - val_accuracy: 0.9000\n",
            "Epoch 52/100\n",
            "391/391 [==============================] - 2s 4ms/step - loss: 0.1547 - accuracy: 0.9414 - val_loss: 0.3281 - val_accuracy: 0.8982\n",
            "Epoch 53/100\n",
            "391/391 [==============================] - 1s 4ms/step - loss: 0.1512 - accuracy: 0.9427 - val_loss: 0.3348 - val_accuracy: 0.8992\n",
            "Epoch 54/100\n",
            "391/391 [==============================] - 2s 5ms/step - loss: 0.1524 - accuracy: 0.9417 - val_loss: 0.3221 - val_accuracy: 0.8979\n",
            "Epoch 55/100\n",
            "391/391 [==============================] - 1s 4ms/step - loss: 0.1503 - accuracy: 0.9425 - val_loss: 0.3269 - val_accuracy: 0.8965\n",
            "Epoch 56/100\n",
            "391/391 [==============================] - 1s 4ms/step - loss: 0.1418 - accuracy: 0.9456 - val_loss: 0.3202 - val_accuracy: 0.9004\n",
            "Epoch 57/100\n",
            "391/391 [==============================] - 2s 4ms/step - loss: 0.1468 - accuracy: 0.9440 - val_loss: 0.3192 - val_accuracy: 0.8986\n",
            "Epoch 58/100\n",
            "391/391 [==============================] - 1s 4ms/step - loss: 0.1451 - accuracy: 0.9446 - val_loss: 0.3330 - val_accuracy: 0.8967\n",
            "Epoch 59/100\n",
            "391/391 [==============================] - 1s 4ms/step - loss: 0.1467 - accuracy: 0.9446 - val_loss: 0.3368 - val_accuracy: 0.8994\n",
            "Epoch 60/100\n",
            "391/391 [==============================] - 2s 4ms/step - loss: 0.1430 - accuracy: 0.9449 - val_loss: 0.3316 - val_accuracy: 0.9002\n",
            "Epoch 61/100\n",
            "391/391 [==============================] - 2s 4ms/step - loss: 0.1379 - accuracy: 0.9475 - val_loss: 0.3359 - val_accuracy: 0.8974\n",
            "Epoch 62/100\n",
            "391/391 [==============================] - 2s 5ms/step - loss: 0.1378 - accuracy: 0.9466 - val_loss: 0.3495 - val_accuracy: 0.8936\n",
            "Epoch 63/100\n",
            "391/391 [==============================] - 2s 4ms/step - loss: 0.1368 - accuracy: 0.9474 - val_loss: 0.3408 - val_accuracy: 0.9007\n",
            "Epoch 64/100\n",
            "391/391 [==============================] - 2s 4ms/step - loss: 0.1353 - accuracy: 0.9482 - val_loss: 0.3383 - val_accuracy: 0.8982\n",
            "Epoch 65/100\n",
            "391/391 [==============================] - 2s 4ms/step - loss: 0.1379 - accuracy: 0.9476 - val_loss: 0.3411 - val_accuracy: 0.9004\n",
            "Epoch 66/100\n",
            "391/391 [==============================] - 2s 4ms/step - loss: 0.1361 - accuracy: 0.9492 - val_loss: 0.3404 - val_accuracy: 0.9005\n",
            "Epoch 67/100\n",
            "391/391 [==============================] - 1s 4ms/step - loss: 0.1317 - accuracy: 0.9494 - val_loss: 0.3544 - val_accuracy: 0.8998\n",
            "Epoch 68/100\n",
            "391/391 [==============================] - 2s 4ms/step - loss: 0.1313 - accuracy: 0.9495 - val_loss: 0.3624 - val_accuracy: 0.8994\n",
            "Epoch 69/100\n",
            "391/391 [==============================] - 2s 5ms/step - loss: 0.1337 - accuracy: 0.9489 - val_loss: 0.3527 - val_accuracy: 0.8976\n",
            "Epoch 70/100\n",
            "391/391 [==============================] - 2s 5ms/step - loss: 0.1302 - accuracy: 0.9501 - val_loss: 0.3551 - val_accuracy: 0.9012\n",
            "Epoch 71/100\n",
            "391/391 [==============================] - 1s 4ms/step - loss: 0.1279 - accuracy: 0.9516 - val_loss: 0.3484 - val_accuracy: 0.8985\n",
            "Epoch 72/100\n",
            "391/391 [==============================] - 2s 4ms/step - loss: 0.1287 - accuracy: 0.9516 - val_loss: 0.3391 - val_accuracy: 0.9015\n",
            "Epoch 73/100\n",
            "391/391 [==============================] - 2s 5ms/step - loss: 0.1245 - accuracy: 0.9523 - val_loss: 0.3579 - val_accuracy: 0.9000\n",
            "Epoch 74/100\n",
            "391/391 [==============================] - 3s 7ms/step - loss: 0.1266 - accuracy: 0.9531 - val_loss: 0.3514 - val_accuracy: 0.9011\n",
            "Epoch 75/100\n",
            "391/391 [==============================] - 3s 8ms/step - loss: 0.1276 - accuracy: 0.9502 - val_loss: 0.3561 - val_accuracy: 0.8972\n",
            "Epoch 76/100\n",
            "391/391 [==============================] - 3s 9ms/step - loss: 0.1225 - accuracy: 0.9522 - val_loss: 0.3589 - val_accuracy: 0.8982\n",
            "Epoch 77/100\n",
            "391/391 [==============================] - 3s 7ms/step - loss: 0.1219 - accuracy: 0.9533 - val_loss: 0.3630 - val_accuracy: 0.9032\n",
            "Epoch 78/100\n",
            "391/391 [==============================] - 1s 4ms/step - loss: 0.1205 - accuracy: 0.9550 - val_loss: 0.3779 - val_accuracy: 0.8968\n",
            "Epoch 79/100\n",
            "391/391 [==============================] - 2s 4ms/step - loss: 0.1223 - accuracy: 0.9534 - val_loss: 0.3798 - val_accuracy: 0.9000\n",
            "Epoch 80/100\n",
            "391/391 [==============================] - 1s 4ms/step - loss: 0.1205 - accuracy: 0.9535 - val_loss: 0.3552 - val_accuracy: 0.9034\n",
            "Epoch 81/100\n",
            "391/391 [==============================] - 2s 4ms/step - loss: 0.1210 - accuracy: 0.9538 - val_loss: 0.3709 - val_accuracy: 0.9007\n",
            "Epoch 82/100\n",
            "391/391 [==============================] - 2s 5ms/step - loss: 0.1187 - accuracy: 0.9542 - val_loss: 0.3768 - val_accuracy: 0.8999\n",
            "Epoch 83/100\n",
            "391/391 [==============================] - 1s 4ms/step - loss: 0.1145 - accuracy: 0.9561 - val_loss: 0.3843 - val_accuracy: 0.8994\n",
            "Epoch 84/100\n",
            "391/391 [==============================] - 1s 4ms/step - loss: 0.1142 - accuracy: 0.9571 - val_loss: 0.3833 - val_accuracy: 0.8954\n",
            "Epoch 85/100\n",
            "391/391 [==============================] - 1s 4ms/step - loss: 0.1138 - accuracy: 0.9559 - val_loss: 0.3730 - val_accuracy: 0.9018\n",
            "Epoch 86/100\n",
            "391/391 [==============================] - 1s 4ms/step - loss: 0.1131 - accuracy: 0.9565 - val_loss: 0.3806 - val_accuracy: 0.8994\n",
            "Epoch 87/100\n",
            "391/391 [==============================] - 2s 4ms/step - loss: 0.1126 - accuracy: 0.9563 - val_loss: 0.3914 - val_accuracy: 0.8974\n",
            "Epoch 88/100\n",
            "391/391 [==============================] - 2s 4ms/step - loss: 0.1163 - accuracy: 0.9547 - val_loss: 0.3749 - val_accuracy: 0.9022\n",
            "Epoch 89/100\n",
            "391/391 [==============================] - 2s 4ms/step - loss: 0.1129 - accuracy: 0.9562 - val_loss: 0.3877 - val_accuracy: 0.9019\n",
            "Epoch 90/100\n",
            "391/391 [==============================] - 2s 5ms/step - loss: 0.1139 - accuracy: 0.9566 - val_loss: 0.3953 - val_accuracy: 0.8963\n",
            "Epoch 91/100\n",
            "391/391 [==============================] - 1s 4ms/step - loss: 0.1106 - accuracy: 0.9576 - val_loss: 0.3956 - val_accuracy: 0.8955\n",
            "Epoch 92/100\n",
            "391/391 [==============================] - 1s 4ms/step - loss: 0.1105 - accuracy: 0.9577 - val_loss: 0.3936 - val_accuracy: 0.9004\n",
            "Epoch 93/100\n",
            "391/391 [==============================] - 2s 4ms/step - loss: 0.1096 - accuracy: 0.9593 - val_loss: 0.4161 - val_accuracy: 0.8955\n",
            "Epoch 94/100\n",
            "391/391 [==============================] - 1s 4ms/step - loss: 0.1075 - accuracy: 0.9588 - val_loss: 0.4009 - val_accuracy: 0.9020\n",
            "Epoch 95/100\n",
            "391/391 [==============================] - 1s 4ms/step - loss: 0.1093 - accuracy: 0.9586 - val_loss: 0.3994 - val_accuracy: 0.8996\n",
            "Epoch 96/100\n",
            "391/391 [==============================] - 1s 3ms/step - loss: 0.1057 - accuracy: 0.9587 - val_loss: 0.3821 - val_accuracy: 0.9022\n",
            "Epoch 97/100\n",
            "391/391 [==============================] - 1s 4ms/step - loss: 0.1049 - accuracy: 0.9599 - val_loss: 0.4131 - val_accuracy: 0.8971\n",
            "Epoch 98/100\n",
            "391/391 [==============================] - 2s 5ms/step - loss: 0.1057 - accuracy: 0.9589 - val_loss: 0.4052 - val_accuracy: 0.9007\n",
            "Epoch 99/100\n",
            "391/391 [==============================] - 2s 4ms/step - loss: 0.1060 - accuracy: 0.9592 - val_loss: 0.4173 - val_accuracy: 0.8950\n",
            "Epoch 100/100\n",
            "391/391 [==============================] - 1s 4ms/step - loss: 0.1009 - accuracy: 0.9616 - val_loss: 0.4333 - val_accuracy: 0.8999\n"
          ]
        },
        {
          "output_type": "display_data",
          "data": {
            "text/plain": [
              "VBox(children=(Label(value='33.899 MB of 33.899 MB uploaded (0.095 MB deduped)\\r'), FloatProgress(value=1.0, m…"
            ],
            "application/vnd.jupyter.widget-view+json": {
              "version_major": 2,
              "version_minor": 0,
              "model_id": "26ddf40970c440e783f00b72ff8b12e4"
            }
          },
          "metadata": {}
        },
        {
          "output_type": "display_data",
          "data": {
            "text/plain": [
              "<IPython.core.display.HTML object>"
            ],
            "text/html": [
              "<style>\n",
              "    table.wandb td:nth-child(1) { padding: 0 10px; text-align: left ; width: auto;} td:nth-child(2) {text-align: left ; width: 100%}\n",
              "    .wandb-row { display: flex; flex-direction: row; flex-wrap: wrap; justify-content: flex-start; width: 100% }\n",
              "    .wandb-col { display: flex; flex-direction: column; flex-basis: 100%; flex: 1; padding: 10px; }\n",
              "    </style>\n",
              "<div class=\"wandb-row\"><div class=\"wandb-col\"><h3>Run history:</h3><br/><table class=\"wandb\"><tr><td>accuracy</td><td>▁▄▅▅▅▅▆▆▆▆▆▆▆▇▇▇▇▇▇▇▇▇▇▇▇▇▇▇████████████</td></tr><tr><td>epoch</td><td>▁▁▁▁▂▂▂▂▂▃▃▃▃▃▃▄▄▄▄▄▅▅▅▅▅▅▆▆▆▆▆▇▇▇▇▇▇███</td></tr><tr><td>loss</td><td>█▅▄▄▄▃▃▃▃▃▃▃▂▂▂▂▂▂▂▂▂▂▂▂▂▁▁▁▁▁▁▁▁▁▁▁▁▁▁▁</td></tr><tr><td>val_accuracy</td><td>▁▃▅▆▆▇▇▆█▇█▇▇▇▇██▇█▇█▇██▇▇█▇█████▇▇███▇█</td></tr><tr><td>val_loss</td><td>█▅▃▂▂▂▂▂▁▁▁▂▁▂▂▂▂▃▂▃▃▃▃▄▄▄▄▄▄▄▅▆▅▆▆▆▆▇▇█</td></tr></table><br/></div><div class=\"wandb-col\"><h3>Run summary:</h3><br/><table class=\"wandb\"><tr><td>accuracy</td><td>0.9616</td></tr><tr><td>best_epoch</td><td>22</td></tr><tr><td>best_val_loss</td><td>0.27933</td></tr><tr><td>epoch</td><td>99</td></tr><tr><td>loss</td><td>0.10088</td></tr><tr><td>val_accuracy</td><td>0.8999</td></tr><tr><td>val_loss</td><td>0.43327</td></tr></table><br/></div></div>"
            ]
          },
          "metadata": {}
        },
        {
          "output_type": "display_data",
          "data": {
            "text/plain": [
              "<IPython.core.display.HTML object>"
            ],
            "text/html": [
              " View run <strong style=\"color:#cdcd00\">glowing-sweep-5</strong> at: <a href='https://wandb.ai/pkasnesis/aidl-a02-week5/runs/hed5zhpe' target=\"_blank\">https://wandb.ai/pkasnesis/aidl-a02-week5/runs/hed5zhpe</a><br/> View project at: <a href='https://wandb.ai/pkasnesis/aidl-a02-week5' target=\"_blank\">https://wandb.ai/pkasnesis/aidl-a02-week5</a><br/>Synced 5 W&B file(s), 1 media file(s), 70 artifact file(s) and 1 other file(s)"
            ]
          },
          "metadata": {}
        },
        {
          "output_type": "display_data",
          "data": {
            "text/plain": [
              "<IPython.core.display.HTML object>"
            ],
            "text/html": [
              "Find logs at: <code>./wandb/run-20240424_135202-hed5zhpe/logs</code>"
            ]
          },
          "metadata": {}
        },
        {
          "output_type": "stream",
          "name": "stderr",
          "text": [
            "\u001b[34m\u001b[1mwandb\u001b[0m: Agent Starting Run: c4di01t1 with config:\n",
            "\u001b[34m\u001b[1mwandb\u001b[0m: \tdropout: 0.3\n",
            "\u001b[34m\u001b[1mwandb\u001b[0m: \tepochs: 100\n",
            "\u001b[34m\u001b[1mwandb\u001b[0m: \tfc_layer_size: 256\n",
            "\u001b[34m\u001b[1mwandb\u001b[0m: \tlearning-rate: 0.005\n"
          ]
        },
        {
          "output_type": "display_data",
          "data": {
            "text/plain": [
              "<IPython.core.display.HTML object>"
            ],
            "text/html": [
              "Tracking run with wandb version 0.16.6"
            ]
          },
          "metadata": {}
        },
        {
          "output_type": "display_data",
          "data": {
            "text/plain": [
              "<IPython.core.display.HTML object>"
            ],
            "text/html": [
              "Run data is saved locally in <code>/content/wandb/run-20240424_135544-c4di01t1</code>"
            ]
          },
          "metadata": {}
        },
        {
          "output_type": "display_data",
          "data": {
            "text/plain": [
              "<IPython.core.display.HTML object>"
            ],
            "text/html": [
              "Syncing run <strong><a href='https://wandb.ai/pkasnesis/aidl-a02-week5/runs/c4di01t1' target=\"_blank\">hopeful-sweep-6</a></strong> to <a href='https://wandb.ai/pkasnesis/aidl-a02-week5' target=\"_blank\">Weights & Biases</a> (<a href='https://wandb.me/run' target=\"_blank\">docs</a>)<br/>Sweep page: <a href='https://wandb.ai/pkasnesis/aidl-a02-week5/sweeps/846jlb6t' target=\"_blank\">https://wandb.ai/pkasnesis/aidl-a02-week5/sweeps/846jlb6t</a>"
            ]
          },
          "metadata": {}
        },
        {
          "output_type": "display_data",
          "data": {
            "text/plain": [
              "<IPython.core.display.HTML object>"
            ],
            "text/html": [
              " View project at <a href='https://wandb.ai/pkasnesis/aidl-a02-week5' target=\"_blank\">https://wandb.ai/pkasnesis/aidl-a02-week5</a>"
            ]
          },
          "metadata": {}
        },
        {
          "output_type": "display_data",
          "data": {
            "text/plain": [
              "<IPython.core.display.HTML object>"
            ],
            "text/html": [
              " View sweep at <a href='https://wandb.ai/pkasnesis/aidl-a02-week5/sweeps/846jlb6t' target=\"_blank\">https://wandb.ai/pkasnesis/aidl-a02-week5/sweeps/846jlb6t</a>"
            ]
          },
          "metadata": {}
        },
        {
          "output_type": "display_data",
          "data": {
            "text/plain": [
              "<IPython.core.display.HTML object>"
            ],
            "text/html": [
              " View run at <a href='https://wandb.ai/pkasnesis/aidl-a02-week5/runs/c4di01t1' target=\"_blank\">https://wandb.ai/pkasnesis/aidl-a02-week5/runs/c4di01t1</a>"
            ]
          },
          "metadata": {}
        },
        {
          "output_type": "stream",
          "name": "stderr",
          "text": [
            "WARNING:absl:`lr` is deprecated in Keras optimizer, please use `learning_rate` or use the legacy optimizer, e.g.,tf.keras.optimizers.legacy.Adam.\n"
          ]
        },
        {
          "output_type": "stream",
          "name": "stdout",
          "text": [
            "Epoch 1/100\n",
            "383/391 [============================>.] - ETA: 0s - loss: 0.6019 - accuracy: 0.7907"
          ]
        },
        {
          "output_type": "stream",
          "name": "stderr",
          "text": [
            "/usr/local/lib/python3.10/dist-packages/keras/src/engine/training.py:3103: UserWarning: You are saving your model as an HDF5 file via `model.save()`. This file format is considered legacy. We recommend using instead the native Keras format, e.g. `model.save('my_model.keras')`.\n",
            "  saving_api.save_model(\n",
            "\u001b[34m\u001b[1mwandb\u001b[0m: Adding directory to artifact (/content/wandb/run-20240424_135544-c4di01t1/files/model-best)... Done. 0.0s\n"
          ]
        },
        {
          "output_type": "stream",
          "name": "stdout",
          "text": [
            "\b\b\b\b\b\b\b\b\b\b\b\b\b\b\b\b\b\b\b\b\b\b\b\b\b\b\b\b\b\b\b\b\b\b\b\b\b\b\b\b\b\b\b\b\b\b\b\b\b\b\b\b\b\b\b\b\b\b\b\b\b\b\b\b\b\b\b\b\b\b\b\b\b\b\b\b\b\b\b\b\b\b\b\b\r391/391 [==============================] - 3s 6ms/step - loss: 0.5990 - accuracy: 0.7916 - val_loss: 0.4244 - val_accuracy: 0.8508\n",
            "Epoch 2/100\n",
            "385/391 [============================>.] - ETA: 0s - loss: 0.4267 - accuracy: 0.8486"
          ]
        },
        {
          "output_type": "stream",
          "name": "stderr",
          "text": [
            "/usr/local/lib/python3.10/dist-packages/keras/src/engine/training.py:3103: UserWarning: You are saving your model as an HDF5 file via `model.save()`. This file format is considered legacy. We recommend using instead the native Keras format, e.g. `model.save('my_model.keras')`.\n",
            "  saving_api.save_model(\n",
            "\u001b[34m\u001b[1mwandb\u001b[0m: Adding directory to artifact (/content/wandb/run-20240424_135544-c4di01t1/files/model-best)... Done. 0.0s\n"
          ]
        },
        {
          "output_type": "stream",
          "name": "stdout",
          "text": [
            "\b\b\b\b\b\b\b\b\b\b\b\b\b\b\b\b\b\b\b\b\b\b\b\b\b\b\b\b\b\b\b\b\b\b\b\b\b\b\b\b\b\b\b\b\b\b\b\b\b\b\b\b\b\b\b\b\b\b\b\b\b\b\b\b\b\b\b\b\b\b\b\b\b\b\b\b\b\b\b\b\b\b\b\b\r391/391 [==============================] - 2s 6ms/step - loss: 0.4257 - accuracy: 0.8489 - val_loss: 0.3860 - val_accuracy: 0.8585\n",
            "Epoch 3/100\n",
            "382/391 [============================>.] - ETA: 0s - loss: 0.3825 - accuracy: 0.8622"
          ]
        },
        {
          "output_type": "stream",
          "name": "stderr",
          "text": [
            "/usr/local/lib/python3.10/dist-packages/keras/src/engine/training.py:3103: UserWarning: You are saving your model as an HDF5 file via `model.save()`. This file format is considered legacy. We recommend using instead the native Keras format, e.g. `model.save('my_model.keras')`.\n",
            "  saving_api.save_model(\n",
            "\u001b[34m\u001b[1mwandb\u001b[0m: Adding directory to artifact (/content/wandb/run-20240424_135544-c4di01t1/files/model-best)... Done. 0.0s\n"
          ]
        },
        {
          "output_type": "stream",
          "name": "stdout",
          "text": [
            "\b\b\b\b\b\b\b\b\b\b\b\b\b\b\b\b\b\b\b\b\b\b\b\b\b\b\b\b\b\b\b\b\b\b\b\b\b\b\b\b\b\b\b\b\b\b\b\b\b\b\b\b\b\b\b\b\b\b\b\b\b\b\b\b\b\b\b\b\b\b\b\b\b\b\b\b\b\b\b\b\b\b\b\b\r391/391 [==============================] - 3s 6ms/step - loss: 0.3831 - accuracy: 0.8620 - val_loss: 0.3808 - val_accuracy: 0.8564\n",
            "Epoch 4/100\n",
            "385/391 [============================>.] - ETA: 0s - loss: 0.3570 - accuracy: 0.8725"
          ]
        },
        {
          "output_type": "stream",
          "name": "stderr",
          "text": [
            "/usr/local/lib/python3.10/dist-packages/keras/src/engine/training.py:3103: UserWarning: You are saving your model as an HDF5 file via `model.save()`. This file format is considered legacy. We recommend using instead the native Keras format, e.g. `model.save('my_model.keras')`.\n",
            "  saving_api.save_model(\n",
            "\u001b[34m\u001b[1mwandb\u001b[0m: Adding directory to artifact (/content/wandb/run-20240424_135544-c4di01t1/files/model-best)... Done. 0.0s\n"
          ]
        },
        {
          "output_type": "stream",
          "name": "stdout",
          "text": [
            "\b\b\b\b\b\b\b\b\b\b\b\b\b\b\b\b\b\b\b\b\b\b\b\b\b\b\b\b\b\b\b\b\b\b\b\b\b\b\b\b\b\b\b\b\b\b\b\b\b\b\b\b\b\b\b\b\b\b\b\b\b\b\b\b\b\b\b\b\b\b\b\b\b\b\b\b\b\b\b\b\b\b\b\b\r391/391 [==============================] - 2s 6ms/step - loss: 0.3569 - accuracy: 0.8724 - val_loss: 0.3326 - val_accuracy: 0.8791\n",
            "Epoch 5/100\n",
            "376/391 [===========================>..] - ETA: 0s - loss: 0.3385 - accuracy: 0.8772"
          ]
        },
        {
          "output_type": "stream",
          "name": "stderr",
          "text": [
            "/usr/local/lib/python3.10/dist-packages/keras/src/engine/training.py:3103: UserWarning: You are saving your model as an HDF5 file via `model.save()`. This file format is considered legacy. We recommend using instead the native Keras format, e.g. `model.save('my_model.keras')`.\n",
            "  saving_api.save_model(\n",
            "\u001b[34m\u001b[1mwandb\u001b[0m: Adding directory to artifact (/content/wandb/run-20240424_135544-c4di01t1/files/model-best)... Done. 0.0s\n"
          ]
        },
        {
          "output_type": "stream",
          "name": "stdout",
          "text": [
            "\b\b\b\b\b\b\b\b\b\b\b\b\b\b\b\b\b\b\b\b\b\b\b\b\b\b\b\b\b\b\b\b\b\b\b\b\b\b\b\b\b\b\b\b\b\b\b\b\b\b\b\b\b\b\b\b\b\b\b\b\b\b\b\b\b\b\b\b\b\b\b\b\b\b\b\b\b\b\b\b\b\b\b\b\r391/391 [==============================] - 2s 5ms/step - loss: 0.3379 - accuracy: 0.8774 - val_loss: 0.3325 - val_accuracy: 0.8795\n",
            "Epoch 6/100\n",
            "380/391 [============================>.] - ETA: 0s - loss: 0.3258 - accuracy: 0.8810"
          ]
        },
        {
          "output_type": "stream",
          "name": "stderr",
          "text": [
            "/usr/local/lib/python3.10/dist-packages/keras/src/engine/training.py:3103: UserWarning: You are saving your model as an HDF5 file via `model.save()`. This file format is considered legacy. We recommend using instead the native Keras format, e.g. `model.save('my_model.keras')`.\n",
            "  saving_api.save_model(\n",
            "\u001b[34m\u001b[1mwandb\u001b[0m: Adding directory to artifact (/content/wandb/run-20240424_135544-c4di01t1/files/model-best)... Done. 0.0s\n"
          ]
        },
        {
          "output_type": "stream",
          "name": "stdout",
          "text": [
            "\b\b\b\b\b\b\b\b\b\b\b\b\b\b\b\b\b\b\b\b\b\b\b\b\b\b\b\b\b\b\b\b\b\b\b\b\b\b\b\b\b\b\b\b\b\b\b\b\b\b\b\b\b\b\b\b\b\b\b\b\b\b\b\b\b\b\b\b\b\b\b\b\b\b\b\b\b\b\b\b\b\b\b\b\r391/391 [==============================] - 2s 5ms/step - loss: 0.3258 - accuracy: 0.8810 - val_loss: 0.3249 - val_accuracy: 0.8847\n",
            "Epoch 7/100\n",
            "386/391 [============================>.] - ETA: 0s - loss: 0.3173 - accuracy: 0.8842"
          ]
        },
        {
          "output_type": "stream",
          "name": "stderr",
          "text": [
            "/usr/local/lib/python3.10/dist-packages/keras/src/engine/training.py:3103: UserWarning: You are saving your model as an HDF5 file via `model.save()`. This file format is considered legacy. We recommend using instead the native Keras format, e.g. `model.save('my_model.keras')`.\n",
            "  saving_api.save_model(\n",
            "\u001b[34m\u001b[1mwandb\u001b[0m: Adding directory to artifact (/content/wandb/run-20240424_135544-c4di01t1/files/model-best)... Done. 0.0s\n"
          ]
        },
        {
          "output_type": "stream",
          "name": "stdout",
          "text": [
            "\b\b\b\b\b\b\b\b\b\b\b\b\b\b\b\b\b\b\b\b\b\b\b\b\b\b\b\b\b\b\b\b\b\b\b\b\b\b\b\b\b\b\b\b\b\b\b\b\b\b\b\b\b\b\b\b\b\b\b\b\b\b\b\b\b\b\b\b\b\b\b\b\b\b\b\b\b\b\b\b\b\b\b\b\r391/391 [==============================] - 2s 6ms/step - loss: 0.3173 - accuracy: 0.8843 - val_loss: 0.3180 - val_accuracy: 0.8850\n",
            "Epoch 8/100\n",
            "377/391 [===========================>..] - ETA: 0s - loss: 0.3076 - accuracy: 0.8869"
          ]
        },
        {
          "output_type": "stream",
          "name": "stderr",
          "text": [
            "/usr/local/lib/python3.10/dist-packages/keras/src/engine/training.py:3103: UserWarning: You are saving your model as an HDF5 file via `model.save()`. This file format is considered legacy. We recommend using instead the native Keras format, e.g. `model.save('my_model.keras')`.\n",
            "  saving_api.save_model(\n",
            "\u001b[34m\u001b[1mwandb\u001b[0m: Adding directory to artifact (/content/wandb/run-20240424_135544-c4di01t1/files/model-best)... Done. 0.0s\n"
          ]
        },
        {
          "output_type": "stream",
          "name": "stdout",
          "text": [
            "\b\b\b\b\b\b\b\b\b\b\b\b\b\b\b\b\b\b\b\b\b\b\b\b\b\b\b\b\b\b\b\b\b\b\b\b\b\b\b\b\b\b\b\b\b\b\b\b\b\b\b\b\b\b\b\b\b\b\b\b\b\b\b\b\b\b\b\b\b\b\b\b\b\b\b\b\b\b\b\b\b\b\b\b\r391/391 [==============================] - 2s 5ms/step - loss: 0.3074 - accuracy: 0.8870 - val_loss: 0.3125 - val_accuracy: 0.8858\n",
            "Epoch 9/100\n",
            "383/391 [============================>.] - ETA: 0s - loss: 0.2996 - accuracy: 0.8889"
          ]
        },
        {
          "output_type": "stream",
          "name": "stderr",
          "text": [
            "/usr/local/lib/python3.10/dist-packages/keras/src/engine/training.py:3103: UserWarning: You are saving your model as an HDF5 file via `model.save()`. This file format is considered legacy. We recommend using instead the native Keras format, e.g. `model.save('my_model.keras')`.\n",
            "  saving_api.save_model(\n",
            "\u001b[34m\u001b[1mwandb\u001b[0m: Adding directory to artifact (/content/wandb/run-20240424_135544-c4di01t1/files/model-best)... Done. 0.0s\n"
          ]
        },
        {
          "output_type": "stream",
          "name": "stdout",
          "text": [
            "\b\b\b\b\b\b\b\b\b\b\b\b\b\b\b\b\b\b\b\b\b\b\b\b\b\b\b\b\b\b\b\b\b\b\b\b\b\b\b\b\b\b\b\b\b\b\b\b\b\b\b\b\b\b\b\b\b\b\b\b\b\b\b\b\b\b\b\b\b\b\b\b\b\b\b\b\b\b\b\b\b\b\b\b\r391/391 [==============================] - 3s 7ms/step - loss: 0.2997 - accuracy: 0.8889 - val_loss: 0.3028 - val_accuracy: 0.8898\n",
            "Epoch 10/100\n",
            "388/391 [============================>.] - ETA: 0s - loss: 0.2892 - accuracy: 0.8922"
          ]
        },
        {
          "output_type": "stream",
          "name": "stderr",
          "text": [
            "/usr/local/lib/python3.10/dist-packages/keras/src/engine/training.py:3103: UserWarning: You are saving your model as an HDF5 file via `model.save()`. This file format is considered legacy. We recommend using instead the native Keras format, e.g. `model.save('my_model.keras')`.\n",
            "  saving_api.save_model(\n",
            "\u001b[34m\u001b[1mwandb\u001b[0m: Adding directory to artifact (/content/wandb/run-20240424_135544-c4di01t1/files/model-best)... Done. 0.0s\n"
          ]
        },
        {
          "output_type": "stream",
          "name": "stdout",
          "text": [
            "\b\b\b\b\b\b\b\b\b\b\b\b\b\b\b\b\b\b\b\b\b\b\b\b\b\b\b\b\b\b\b\b\b\b\b\b\b\b\b\b\b\b\b\b\b\b\b\b\b\b\b\b\b\b\b\b\b\b\b\b\b\b\b\b\b\b\b\b\b\b\b\b\b\b\b\b\b\b\b\b\b\b\b\b\r391/391 [==============================] - 2s 6ms/step - loss: 0.2892 - accuracy: 0.8923 - val_loss: 0.2991 - val_accuracy: 0.8904\n",
            "Epoch 11/100\n",
            "391/391 [==============================] - 2s 4ms/step - loss: 0.2821 - accuracy: 0.8961 - val_loss: 0.3042 - val_accuracy: 0.8915\n",
            "Epoch 12/100\n",
            "391/391 [==============================] - 2s 4ms/step - loss: 0.2783 - accuracy: 0.8968 - val_loss: 0.3016 - val_accuracy: 0.8892\n",
            "Epoch 13/100\n",
            "386/391 [============================>.] - ETA: 0s - loss: 0.2714 - accuracy: 0.8993"
          ]
        },
        {
          "output_type": "stream",
          "name": "stderr",
          "text": [
            "/usr/local/lib/python3.10/dist-packages/keras/src/engine/training.py:3103: UserWarning: You are saving your model as an HDF5 file via `model.save()`. This file format is considered legacy. We recommend using instead the native Keras format, e.g. `model.save('my_model.keras')`.\n",
            "  saving_api.save_model(\n",
            "\u001b[34m\u001b[1mwandb\u001b[0m: Adding directory to artifact (/content/wandb/run-20240424_135544-c4di01t1/files/model-best)... Done. 0.0s\n"
          ]
        },
        {
          "output_type": "stream",
          "name": "stdout",
          "text": [
            "\b\b\b\b\b\b\b\b\b\b\b\b\b\b\b\b\b\b\b\b\b\b\b\b\b\b\b\b\b\b\b\b\b\b\b\b\b\b\b\b\b\b\b\b\b\b\b\b\b\b\b\b\b\b\b\b\b\b\b\b\b\b\b\b\b\b\b\b\b\b\b\b\b\b\b\b\b\b\b\b\b\b\b\b\r391/391 [==============================] - 4s 10ms/step - loss: 0.2710 - accuracy: 0.8994 - val_loss: 0.2945 - val_accuracy: 0.8929\n",
            "Epoch 14/100\n",
            "389/391 [============================>.] - ETA: 0s - loss: 0.2662 - accuracy: 0.9008"
          ]
        },
        {
          "output_type": "stream",
          "name": "stderr",
          "text": [
            "/usr/local/lib/python3.10/dist-packages/keras/src/engine/training.py:3103: UserWarning: You are saving your model as an HDF5 file via `model.save()`. This file format is considered legacy. We recommend using instead the native Keras format, e.g. `model.save('my_model.keras')`.\n",
            "  saving_api.save_model(\n",
            "\u001b[34m\u001b[1mwandb\u001b[0m: Adding directory to artifact (/content/wandb/run-20240424_135544-c4di01t1/files/model-best)... Done. 0.0s\n"
          ]
        },
        {
          "output_type": "stream",
          "name": "stdout",
          "text": [
            "\b\b\b\b\b\b\b\b\b\b\b\b\b\b\b\b\b\b\b\b\b\b\b\b\b\b\b\b\b\b\b\b\b\b\b\b\b\b\b\b\b\b\b\b\b\b\b\b\b\b\b\b\b\b\b\b\b\b\b\b\b\b\b\b\b\b\b\b\b\b\b\b\b\b\b\b\b\b\b\b\b\b\b\b\r391/391 [==============================] - 3s 7ms/step - loss: 0.2661 - accuracy: 0.9008 - val_loss: 0.2923 - val_accuracy: 0.8976\n",
            "Epoch 15/100\n",
            "391/391 [==============================] - 1s 4ms/step - loss: 0.2617 - accuracy: 0.9023 - val_loss: 0.3019 - val_accuracy: 0.8930\n",
            "Epoch 16/100\n",
            "377/391 [===========================>..] - ETA: 0s - loss: 0.2567 - accuracy: 0.9046"
          ]
        },
        {
          "output_type": "stream",
          "name": "stderr",
          "text": [
            "/usr/local/lib/python3.10/dist-packages/keras/src/engine/training.py:3103: UserWarning: You are saving your model as an HDF5 file via `model.save()`. This file format is considered legacy. We recommend using instead the native Keras format, e.g. `model.save('my_model.keras')`.\n",
            "  saving_api.save_model(\n",
            "\u001b[34m\u001b[1mwandb\u001b[0m: Adding directory to artifact (/content/wandb/run-20240424_135544-c4di01t1/files/model-best)... Done. 0.0s\n"
          ]
        },
        {
          "output_type": "stream",
          "name": "stdout",
          "text": [
            "\b\b\b\b\b\b\b\b\b\b\b\b\b\b\b\b\b\b\b\b\b\b\b\b\b\b\b\b\b\b\b\b\b\b\b\b\b\b\b\b\b\b\b\b\b\b\b\b\b\b\b\b\b\b\b\b\b\b\b\b\b\b\b\b\b\b\b\b\b\b\b\b\b\b\b\b\b\b\b\b\b\b\b\b\r391/391 [==============================] - 2s 5ms/step - loss: 0.2568 - accuracy: 0.9047 - val_loss: 0.2918 - val_accuracy: 0.8946\n",
            "Epoch 17/100\n",
            "391/391 [==============================] - 1s 4ms/step - loss: 0.2503 - accuracy: 0.9064 - val_loss: 0.3003 - val_accuracy: 0.8917\n",
            "Epoch 18/100\n",
            "391/391 [==============================] - 2s 4ms/step - loss: 0.2487 - accuracy: 0.9076 - val_loss: 0.2993 - val_accuracy: 0.8906\n",
            "Epoch 19/100\n",
            "391/391 [==============================] - 2s 4ms/step - loss: 0.2422 - accuracy: 0.9090 - val_loss: 0.2921 - val_accuracy: 0.8953\n",
            "Epoch 20/100\n",
            "391/391 [==============================] - 1s 4ms/step - loss: 0.2359 - accuracy: 0.9115 - val_loss: 0.2987 - val_accuracy: 0.8905\n",
            "Epoch 21/100\n",
            "391/391 [==============================] - 2s 5ms/step - loss: 0.2329 - accuracy: 0.9117 - val_loss: 0.2928 - val_accuracy: 0.8968\n",
            "Epoch 22/100\n",
            "377/391 [===========================>..] - ETA: 0s - loss: 0.2302 - accuracy: 0.9128"
          ]
        },
        {
          "output_type": "stream",
          "name": "stderr",
          "text": [
            "/usr/local/lib/python3.10/dist-packages/keras/src/engine/training.py:3103: UserWarning: You are saving your model as an HDF5 file via `model.save()`. This file format is considered legacy. We recommend using instead the native Keras format, e.g. `model.save('my_model.keras')`.\n",
            "  saving_api.save_model(\n",
            "\u001b[34m\u001b[1mwandb\u001b[0m: Adding directory to artifact (/content/wandb/run-20240424_135544-c4di01t1/files/model-best)... Done. 0.0s\n"
          ]
        },
        {
          "output_type": "stream",
          "name": "stdout",
          "text": [
            "\b\b\b\b\b\b\b\b\b\b\b\b\b\b\b\b\b\b\b\b\b\b\b\b\b\b\b\b\b\b\b\b\b\b\b\b\b\b\b\b\b\b\b\b\b\b\b\b\b\b\b\b\b\b\b\b\b\b\b\b\b\b\b\b\b\b\b\b\b\b\b\b\b\b\b\b\b\b\b\b\b\b\b\b\r391/391 [==============================] - 2s 6ms/step - loss: 0.2302 - accuracy: 0.9127 - val_loss: 0.2914 - val_accuracy: 0.8988\n",
            "Epoch 23/100\n",
            "382/391 [============================>.] - ETA: 0s - loss: 0.2248 - accuracy: 0.9161"
          ]
        },
        {
          "output_type": "stream",
          "name": "stderr",
          "text": [
            "/usr/local/lib/python3.10/dist-packages/keras/src/engine/training.py:3103: UserWarning: You are saving your model as an HDF5 file via `model.save()`. This file format is considered legacy. We recommend using instead the native Keras format, e.g. `model.save('my_model.keras')`.\n",
            "  saving_api.save_model(\n",
            "\u001b[34m\u001b[1mwandb\u001b[0m: Adding directory to artifact (/content/wandb/run-20240424_135544-c4di01t1/files/model-best)... Done. 0.0s\n"
          ]
        },
        {
          "output_type": "stream",
          "name": "stdout",
          "text": [
            "\b\b\b\b\b\b\b\b\b\b\b\b\b\b\b\b\b\b\b\b\b\b\b\b\b\b\b\b\b\b\b\b\b\b\b\b\b\b\b\b\b\b\b\b\b\b\b\b\b\b\b\b\b\b\b\b\b\b\b\b\b\b\b\b\b\b\b\b\b\b\b\b\b\b\b\b\b\b\b\b\b\b\b\b\r391/391 [==============================] - 2s 6ms/step - loss: 0.2247 - accuracy: 0.9164 - val_loss: 0.2830 - val_accuracy: 0.8999\n",
            "Epoch 24/100\n",
            "391/391 [==============================] - 1s 4ms/step - loss: 0.2232 - accuracy: 0.9163 - val_loss: 0.2907 - val_accuracy: 0.8956\n",
            "Epoch 25/100\n",
            "391/391 [==============================] - 2s 4ms/step - loss: 0.2191 - accuracy: 0.9175 - val_loss: 0.2863 - val_accuracy: 0.9007\n",
            "Epoch 26/100\n",
            "391/391 [==============================] - 2s 4ms/step - loss: 0.2175 - accuracy: 0.9184 - val_loss: 0.2891 - val_accuracy: 0.8973\n",
            "Epoch 27/100\n",
            "391/391 [==============================] - 2s 4ms/step - loss: 0.2137 - accuracy: 0.9195 - val_loss: 0.2883 - val_accuracy: 0.8980\n",
            "Epoch 28/100\n",
            "391/391 [==============================] - 2s 5ms/step - loss: 0.2123 - accuracy: 0.9205 - val_loss: 0.2967 - val_accuracy: 0.8994\n",
            "Epoch 29/100\n",
            "391/391 [==============================] - 1s 4ms/step - loss: 0.2052 - accuracy: 0.9225 - val_loss: 0.2940 - val_accuracy: 0.8958\n",
            "Epoch 30/100\n",
            "391/391 [==============================] - 2s 4ms/step - loss: 0.2022 - accuracy: 0.9242 - val_loss: 0.2902 - val_accuracy: 0.9008\n",
            "Epoch 31/100\n",
            "391/391 [==============================] - 1s 4ms/step - loss: 0.2022 - accuracy: 0.9238 - val_loss: 0.2918 - val_accuracy: 0.8982\n",
            "Epoch 32/100\n",
            "391/391 [==============================] - 2s 4ms/step - loss: 0.1967 - accuracy: 0.9256 - val_loss: 0.3057 - val_accuracy: 0.8952\n",
            "Epoch 33/100\n",
            "391/391 [==============================] - 2s 4ms/step - loss: 0.1977 - accuracy: 0.9249 - val_loss: 0.2948 - val_accuracy: 0.8972\n",
            "Epoch 34/100\n",
            "391/391 [==============================] - 2s 4ms/step - loss: 0.1928 - accuracy: 0.9267 - val_loss: 0.3076 - val_accuracy: 0.8966\n",
            "Epoch 35/100\n",
            "391/391 [==============================] - 2s 4ms/step - loss: 0.1946 - accuracy: 0.9275 - val_loss: 0.2985 - val_accuracy: 0.9024\n",
            "Epoch 36/100\n",
            "391/391 [==============================] - 2s 5ms/step - loss: 0.1865 - accuracy: 0.9290 - val_loss: 0.2918 - val_accuracy: 0.9019\n",
            "Epoch 37/100\n",
            "391/391 [==============================] - 1s 4ms/step - loss: 0.1842 - accuracy: 0.9308 - val_loss: 0.2960 - val_accuracy: 0.9030\n",
            "Epoch 38/100\n",
            "391/391 [==============================] - 1s 4ms/step - loss: 0.1855 - accuracy: 0.9295 - val_loss: 0.2982 - val_accuracy: 0.8964\n",
            "Epoch 39/100\n",
            "391/391 [==============================] - 1s 4ms/step - loss: 0.1820 - accuracy: 0.9313 - val_loss: 0.2990 - val_accuracy: 0.9017\n",
            "Epoch 40/100\n",
            "391/391 [==============================] - 2s 4ms/step - loss: 0.1776 - accuracy: 0.9315 - val_loss: 0.2994 - val_accuracy: 0.9000\n",
            "Epoch 41/100\n",
            "391/391 [==============================] - 1s 4ms/step - loss: 0.1796 - accuracy: 0.9324 - val_loss: 0.3045 - val_accuracy: 0.9000\n",
            "Epoch 42/100\n",
            "391/391 [==============================] - 1s 4ms/step - loss: 0.1757 - accuracy: 0.9333 - val_loss: 0.3029 - val_accuracy: 0.9025\n",
            "Epoch 43/100\n",
            "391/391 [==============================] - 2s 5ms/step - loss: 0.1714 - accuracy: 0.9358 - val_loss: 0.3012 - val_accuracy: 0.9017\n",
            "Epoch 44/100\n",
            "391/391 [==============================] - 2s 5ms/step - loss: 0.1752 - accuracy: 0.9341 - val_loss: 0.3162 - val_accuracy: 0.8991\n",
            "Epoch 45/100\n",
            "391/391 [==============================] - 1s 4ms/step - loss: 0.1719 - accuracy: 0.9344 - val_loss: 0.3115 - val_accuracy: 0.9006\n",
            "Epoch 46/100\n",
            "391/391 [==============================] - 1s 3ms/step - loss: 0.1674 - accuracy: 0.9360 - val_loss: 0.3138 - val_accuracy: 0.8990\n",
            "Epoch 47/100\n",
            "391/391 [==============================] - 2s 4ms/step - loss: 0.1656 - accuracy: 0.9367 - val_loss: 0.2990 - val_accuracy: 0.9026\n",
            "Epoch 48/100\n",
            "391/391 [==============================] - 2s 4ms/step - loss: 0.1662 - accuracy: 0.9374 - val_loss: 0.3052 - val_accuracy: 0.8994\n",
            "Epoch 49/100\n",
            "391/391 [==============================] - 1s 4ms/step - loss: 0.1620 - accuracy: 0.9374 - val_loss: 0.3031 - val_accuracy: 0.9024\n",
            "Epoch 50/100\n",
            "391/391 [==============================] - 1s 4ms/step - loss: 0.1611 - accuracy: 0.9386 - val_loss: 0.3025 - val_accuracy: 0.9034\n",
            "Epoch 51/100\n",
            "391/391 [==============================] - 2s 5ms/step - loss: 0.1586 - accuracy: 0.9393 - val_loss: 0.3124 - val_accuracy: 0.8998\n",
            "Epoch 52/100\n",
            "391/391 [==============================] - 2s 5ms/step - loss: 0.1549 - accuracy: 0.9412 - val_loss: 0.3196 - val_accuracy: 0.8998\n",
            "Epoch 53/100\n",
            "391/391 [==============================] - 1s 4ms/step - loss: 0.1563 - accuracy: 0.9400 - val_loss: 0.3359 - val_accuracy: 0.8973\n",
            "Epoch 54/100\n",
            "391/391 [==============================] - 1s 4ms/step - loss: 0.1540 - accuracy: 0.9414 - val_loss: 0.3224 - val_accuracy: 0.8988\n",
            "Epoch 55/100\n",
            "391/391 [==============================] - 2s 4ms/step - loss: 0.1516 - accuracy: 0.9437 - val_loss: 0.3242 - val_accuracy: 0.9001\n",
            "Epoch 56/100\n",
            "391/391 [==============================] - 2s 4ms/step - loss: 0.1513 - accuracy: 0.9427 - val_loss: 0.3283 - val_accuracy: 0.8977\n",
            "Epoch 57/100\n",
            "391/391 [==============================] - 2s 4ms/step - loss: 0.1495 - accuracy: 0.9428 - val_loss: 0.3247 - val_accuracy: 0.8990\n",
            "Epoch 58/100\n",
            "391/391 [==============================] - 1s 4ms/step - loss: 0.1504 - accuracy: 0.9430 - val_loss: 0.3214 - val_accuracy: 0.8972\n",
            "Epoch 59/100\n",
            "391/391 [==============================] - 2s 5ms/step - loss: 0.1514 - accuracy: 0.9435 - val_loss: 0.3257 - val_accuracy: 0.8956\n",
            "Epoch 60/100\n",
            "391/391 [==============================] - 2s 5ms/step - loss: 0.1451 - accuracy: 0.9450 - val_loss: 0.3259 - val_accuracy: 0.9003\n",
            "Epoch 61/100\n",
            "391/391 [==============================] - 2s 4ms/step - loss: 0.1417 - accuracy: 0.9467 - val_loss: 0.3268 - val_accuracy: 0.9013\n",
            "Epoch 62/100\n",
            "391/391 [==============================] - 1s 4ms/step - loss: 0.1422 - accuracy: 0.9467 - val_loss: 0.3363 - val_accuracy: 0.8985\n",
            "Epoch 63/100\n",
            "391/391 [==============================] - 2s 4ms/step - loss: 0.1404 - accuracy: 0.9463 - val_loss: 0.3411 - val_accuracy: 0.8985\n",
            "Epoch 64/100\n",
            "391/391 [==============================] - 1s 4ms/step - loss: 0.1426 - accuracy: 0.9459 - val_loss: 0.3414 - val_accuracy: 0.8981\n",
            "Epoch 65/100\n",
            "391/391 [==============================] - 2s 4ms/step - loss: 0.1386 - accuracy: 0.9472 - val_loss: 0.3465 - val_accuracy: 0.9002\n",
            "Epoch 66/100\n",
            "391/391 [==============================] - 2s 4ms/step - loss: 0.1361 - accuracy: 0.9483 - val_loss: 0.3283 - val_accuracy: 0.8998\n",
            "Epoch 67/100\n",
            "391/391 [==============================] - 2s 6ms/step - loss: 0.1371 - accuracy: 0.9477 - val_loss: 0.3255 - val_accuracy: 0.9014\n",
            "Epoch 68/100\n",
            "391/391 [==============================] - 2s 4ms/step - loss: 0.1357 - accuracy: 0.9486 - val_loss: 0.3447 - val_accuracy: 0.8995\n",
            "Epoch 69/100\n",
            "391/391 [==============================] - 1s 4ms/step - loss: 0.1341 - accuracy: 0.9491 - val_loss: 0.3398 - val_accuracy: 0.9011\n",
            "Epoch 70/100\n",
            "391/391 [==============================] - 1s 4ms/step - loss: 0.1334 - accuracy: 0.9480 - val_loss: 0.3374 - val_accuracy: 0.9008\n",
            "Epoch 71/100\n",
            "391/391 [==============================] - 2s 4ms/step - loss: 0.1301 - accuracy: 0.9498 - val_loss: 0.3425 - val_accuracy: 0.8981\n",
            "Epoch 72/100\n",
            "391/391 [==============================] - 1s 4ms/step - loss: 0.1306 - accuracy: 0.9507 - val_loss: 0.3411 - val_accuracy: 0.9032\n",
            "Epoch 73/100\n",
            "391/391 [==============================] - 1s 4ms/step - loss: 0.1316 - accuracy: 0.9491 - val_loss: 0.3434 - val_accuracy: 0.8995\n",
            "Epoch 74/100\n",
            "391/391 [==============================] - 2s 4ms/step - loss: 0.1264 - accuracy: 0.9511 - val_loss: 0.3427 - val_accuracy: 0.9012\n",
            "Epoch 75/100\n",
            "391/391 [==============================] - 2s 5ms/step - loss: 0.1272 - accuracy: 0.9511 - val_loss: 0.3568 - val_accuracy: 0.8971\n",
            "Epoch 76/100\n",
            "391/391 [==============================] - 2s 4ms/step - loss: 0.1242 - accuracy: 0.9531 - val_loss: 0.3489 - val_accuracy: 0.8991\n",
            "Epoch 77/100\n",
            "391/391 [==============================] - 1s 4ms/step - loss: 0.1253 - accuracy: 0.9523 - val_loss: 0.3658 - val_accuracy: 0.9019\n",
            "Epoch 78/100\n",
            "391/391 [==============================] - 1s 4ms/step - loss: 0.1238 - accuracy: 0.9526 - val_loss: 0.3476 - val_accuracy: 0.9017\n",
            "Epoch 79/100\n",
            "391/391 [==============================] - 1s 4ms/step - loss: 0.1259 - accuracy: 0.9513 - val_loss: 0.3641 - val_accuracy: 0.9012\n",
            "Epoch 80/100\n",
            "391/391 [==============================] - 2s 4ms/step - loss: 0.1232 - accuracy: 0.9526 - val_loss: 0.3571 - val_accuracy: 0.8994\n",
            "Epoch 81/100\n",
            "391/391 [==============================] - 1s 4ms/step - loss: 0.1216 - accuracy: 0.9535 - val_loss: 0.3769 - val_accuracy: 0.8985\n",
            "Epoch 82/100\n",
            "391/391 [==============================] - 2s 4ms/step - loss: 0.1232 - accuracy: 0.9539 - val_loss: 0.3693 - val_accuracy: 0.9009\n",
            "Epoch 83/100\n",
            "391/391 [==============================] - 2s 6ms/step - loss: 0.1192 - accuracy: 0.9539 - val_loss: 0.3863 - val_accuracy: 0.8979\n",
            "Epoch 84/100\n",
            "391/391 [==============================] - 1s 4ms/step - loss: 0.1153 - accuracy: 0.9560 - val_loss: 0.3621 - val_accuracy: 0.9016\n",
            "Epoch 85/100\n",
            "391/391 [==============================] - 1s 4ms/step - loss: 0.1183 - accuracy: 0.9554 - val_loss: 0.3774 - val_accuracy: 0.8989\n",
            "Epoch 86/100\n",
            "391/391 [==============================] - 1s 4ms/step - loss: 0.1167 - accuracy: 0.9559 - val_loss: 0.3740 - val_accuracy: 0.8997\n",
            "Epoch 87/100\n",
            "391/391 [==============================] - 2s 4ms/step - loss: 0.1186 - accuracy: 0.9544 - val_loss: 0.3847 - val_accuracy: 0.8966\n",
            "Epoch 88/100\n",
            "391/391 [==============================] - 2s 4ms/step - loss: 0.1143 - accuracy: 0.9563 - val_loss: 0.3956 - val_accuracy: 0.8989\n",
            "Epoch 89/100\n",
            "391/391 [==============================] - 1s 4ms/step - loss: 0.1147 - accuracy: 0.9561 - val_loss: 0.3766 - val_accuracy: 0.9013\n",
            "Epoch 90/100\n",
            "391/391 [==============================] - 2s 4ms/step - loss: 0.1114 - accuracy: 0.9573 - val_loss: 0.3726 - val_accuracy: 0.8990\n",
            "Epoch 91/100\n",
            "391/391 [==============================] - 2s 5ms/step - loss: 0.1150 - accuracy: 0.9557 - val_loss: 0.3829 - val_accuracy: 0.9000\n",
            "Epoch 92/100\n",
            "391/391 [==============================] - 1s 4ms/step - loss: 0.1141 - accuracy: 0.9558 - val_loss: 0.3890 - val_accuracy: 0.9003\n",
            "Epoch 93/100\n",
            "391/391 [==============================] - 1s 4ms/step - loss: 0.1125 - accuracy: 0.9585 - val_loss: 0.3829 - val_accuracy: 0.9009\n",
            "Epoch 94/100\n",
            "391/391 [==============================] - 1s 4ms/step - loss: 0.1110 - accuracy: 0.9572 - val_loss: 0.3902 - val_accuracy: 0.9020\n",
            "Epoch 95/100\n",
            "391/391 [==============================] - 2s 4ms/step - loss: 0.1111 - accuracy: 0.9573 - val_loss: 0.3802 - val_accuracy: 0.8994\n",
            "Epoch 96/100\n",
            "391/391 [==============================] - 2s 4ms/step - loss: 0.1104 - accuracy: 0.9575 - val_loss: 0.3817 - val_accuracy: 0.8973\n",
            "Epoch 97/100\n",
            "391/391 [==============================] - 2s 4ms/step - loss: 0.1070 - accuracy: 0.9598 - val_loss: 0.3925 - val_accuracy: 0.9025\n",
            "Epoch 98/100\n",
            "391/391 [==============================] - 2s 4ms/step - loss: 0.1086 - accuracy: 0.9587 - val_loss: 0.3972 - val_accuracy: 0.8990\n",
            "Epoch 99/100\n",
            "391/391 [==============================] - 2s 5ms/step - loss: 0.1085 - accuracy: 0.9585 - val_loss: 0.3901 - val_accuracy: 0.8957\n",
            "Epoch 100/100\n",
            "391/391 [==============================] - 1s 4ms/step - loss: 0.1059 - accuracy: 0.9603 - val_loss: 0.3994 - val_accuracy: 0.9023\n"
          ]
        },
        {
          "output_type": "display_data",
          "data": {
            "text/plain": [
              "VBox(children=(Label(value='36.320 MB of 36.320 MB uploaded (0.102 MB deduped)\\r'), FloatProgress(value=1.0, m…"
            ],
            "application/vnd.jupyter.widget-view+json": {
              "version_major": 2,
              "version_minor": 0,
              "model_id": "71e9a3c0699e488dbef7b66fa902491d"
            }
          },
          "metadata": {}
        },
        {
          "output_type": "display_data",
          "data": {
            "text/plain": [
              "<IPython.core.display.HTML object>"
            ],
            "text/html": [
              "<style>\n",
              "    table.wandb td:nth-child(1) { padding: 0 10px; text-align: left ; width: auto;} td:nth-child(2) {text-align: left ; width: 100%}\n",
              "    .wandb-row { display: flex; flex-direction: row; flex-wrap: wrap; justify-content: flex-start; width: 100% }\n",
              "    .wandb-col { display: flex; flex-direction: column; flex-basis: 100%; flex: 1; padding: 10px; }\n",
              "    </style>\n",
              "<div class=\"wandb-row\"><div class=\"wandb-col\"><h3>Run history:</h3><br/><table class=\"wandb\"><tr><td>accuracy</td><td>▁▄▅▅▅▅▆▆▆▆▆▆▆▇▇▇▇▇▇▇▇▇▇▇▇▇▇█████████████</td></tr><tr><td>epoch</td><td>▁▁▁▁▂▂▂▂▂▃▃▃▃▃▃▄▄▄▄▄▅▅▅▅▅▅▆▆▆▆▆▇▇▇▇▇▇███</td></tr><tr><td>loss</td><td>█▅▄▄▄▃▃▃▃▃▃▃▂▂▂▂▂▂▂▂▂▂▂▂▂▂▁▁▁▁▁▁▁▁▁▁▁▁▁▁</td></tr><tr><td>val_accuracy</td><td>▁▂▆▆▆▇▇▆▇█▇▇▇▇███▇▇██▇▇▇█▇████████▇█████</td></tr><tr><td>val_loss</td><td>█▆▃▂▂▂▁▂▁▁▁▂▁▂▁▂▂▃▃▂▂▃▃▃▃▄▃▄▄▄▅▅▅▅▆▆▆▆▆▇</td></tr></table><br/></div><div class=\"wandb-col\"><h3>Run summary:</h3><br/><table class=\"wandb\"><tr><td>accuracy</td><td>0.96026</td></tr><tr><td>best_epoch</td><td>22</td></tr><tr><td>best_val_loss</td><td>0.28299</td></tr><tr><td>epoch</td><td>99</td></tr><tr><td>loss</td><td>0.10595</td></tr><tr><td>val_accuracy</td><td>0.9023</td></tr><tr><td>val_loss</td><td>0.3994</td></tr></table><br/></div></div>"
            ]
          },
          "metadata": {}
        },
        {
          "output_type": "display_data",
          "data": {
            "text/plain": [
              "<IPython.core.display.HTML object>"
            ],
            "text/html": [
              " View run <strong style=\"color:#cdcd00\">hopeful-sweep-6</strong> at: <a href='https://wandb.ai/pkasnesis/aidl-a02-week5/runs/c4di01t1' target=\"_blank\">https://wandb.ai/pkasnesis/aidl-a02-week5/runs/c4di01t1</a><br/> View project at: <a href='https://wandb.ai/pkasnesis/aidl-a02-week5' target=\"_blank\">https://wandb.ai/pkasnesis/aidl-a02-week5</a><br/>Synced 5 W&B file(s), 1 media file(s), 75 artifact file(s) and 1 other file(s)"
            ]
          },
          "metadata": {}
        },
        {
          "output_type": "display_data",
          "data": {
            "text/plain": [
              "<IPython.core.display.HTML object>"
            ],
            "text/html": [
              "Find logs at: <code>./wandb/run-20240424_135544-c4di01t1/logs</code>"
            ]
          },
          "metadata": {}
        },
        {
          "output_type": "stream",
          "name": "stderr",
          "text": [
            "\u001b[34m\u001b[1mwandb\u001b[0m: Agent Starting Run: joh87sk1 with config:\n",
            "\u001b[34m\u001b[1mwandb\u001b[0m: \tdropout: 0.3\n",
            "\u001b[34m\u001b[1mwandb\u001b[0m: \tepochs: 100\n",
            "\u001b[34m\u001b[1mwandb\u001b[0m: \tfc_layer_size: 512\n",
            "\u001b[34m\u001b[1mwandb\u001b[0m: \tlearning-rate: 0.001\n"
          ]
        },
        {
          "output_type": "display_data",
          "data": {
            "text/plain": [
              "<IPython.core.display.HTML object>"
            ],
            "text/html": [
              "Tracking run with wandb version 0.16.6"
            ]
          },
          "metadata": {}
        },
        {
          "output_type": "display_data",
          "data": {
            "text/plain": [
              "<IPython.core.display.HTML object>"
            ],
            "text/html": [
              "Run data is saved locally in <code>/content/wandb/run-20240424_135857-joh87sk1</code>"
            ]
          },
          "metadata": {}
        },
        {
          "output_type": "display_data",
          "data": {
            "text/plain": [
              "<IPython.core.display.HTML object>"
            ],
            "text/html": [
              "Syncing run <strong><a href='https://wandb.ai/pkasnesis/aidl-a02-week5/runs/joh87sk1' target=\"_blank\">fine-sweep-7</a></strong> to <a href='https://wandb.ai/pkasnesis/aidl-a02-week5' target=\"_blank\">Weights & Biases</a> (<a href='https://wandb.me/run' target=\"_blank\">docs</a>)<br/>Sweep page: <a href='https://wandb.ai/pkasnesis/aidl-a02-week5/sweeps/846jlb6t' target=\"_blank\">https://wandb.ai/pkasnesis/aidl-a02-week5/sweeps/846jlb6t</a>"
            ]
          },
          "metadata": {}
        },
        {
          "output_type": "display_data",
          "data": {
            "text/plain": [
              "<IPython.core.display.HTML object>"
            ],
            "text/html": [
              " View project at <a href='https://wandb.ai/pkasnesis/aidl-a02-week5' target=\"_blank\">https://wandb.ai/pkasnesis/aidl-a02-week5</a>"
            ]
          },
          "metadata": {}
        },
        {
          "output_type": "display_data",
          "data": {
            "text/plain": [
              "<IPython.core.display.HTML object>"
            ],
            "text/html": [
              " View sweep at <a href='https://wandb.ai/pkasnesis/aidl-a02-week5/sweeps/846jlb6t' target=\"_blank\">https://wandb.ai/pkasnesis/aidl-a02-week5/sweeps/846jlb6t</a>"
            ]
          },
          "metadata": {}
        },
        {
          "output_type": "display_data",
          "data": {
            "text/plain": [
              "<IPython.core.display.HTML object>"
            ],
            "text/html": [
              " View run at <a href='https://wandb.ai/pkasnesis/aidl-a02-week5/runs/joh87sk1' target=\"_blank\">https://wandb.ai/pkasnesis/aidl-a02-week5/runs/joh87sk1</a>"
            ]
          },
          "metadata": {}
        },
        {
          "output_type": "stream",
          "name": "stderr",
          "text": [
            "WARNING:absl:`lr` is deprecated in Keras optimizer, please use `learning_rate` or use the legacy optimizer, e.g.,tf.keras.optimizers.legacy.Adam.\n"
          ]
        },
        {
          "output_type": "stream",
          "name": "stdout",
          "text": [
            "Epoch 1/100\n",
            "386/391 [============================>.] - ETA: 0s - loss: 0.5587 - accuracy: 0.8047"
          ]
        },
        {
          "output_type": "stream",
          "name": "stderr",
          "text": [
            "/usr/local/lib/python3.10/dist-packages/keras/src/engine/training.py:3103: UserWarning: You are saving your model as an HDF5 file via `model.save()`. This file format is considered legacy. We recommend using instead the native Keras format, e.g. `model.save('my_model.keras')`.\n",
            "  saving_api.save_model(\n",
            "\u001b[34m\u001b[1mwandb\u001b[0m: Adding directory to artifact (/content/wandb/run-20240424_135857-joh87sk1/files/model-best)... Done. 0.0s\n"
          ]
        },
        {
          "output_type": "stream",
          "name": "stdout",
          "text": [
            "\b\b\b\b\b\b\b\b\b\b\b\b\b\b\b\b\b\b\b\b\b\b\b\b\b\b\b\b\b\b\b\b\b\b\b\b\b\b\b\b\b\b\b\b\b\b\b\b\b\b\b\b\b\b\b\b\b\b\b\b\b\b\b\b\b\b\b\b\b\b\b\b\b\b\b\b\b\b\b\b\b\b\b\b\r391/391 [==============================] - 4s 7ms/step - loss: 0.5573 - accuracy: 0.8052 - val_loss: 0.4138 - val_accuracy: 0.8559\n",
            "Epoch 2/100\n",
            "390/391 [============================>.] - ETA: 0s - loss: 0.4105 - accuracy: 0.8531"
          ]
        },
        {
          "output_type": "stream",
          "name": "stderr",
          "text": [
            "/usr/local/lib/python3.10/dist-packages/keras/src/engine/training.py:3103: UserWarning: You are saving your model as an HDF5 file via `model.save()`. This file format is considered legacy. We recommend using instead the native Keras format, e.g. `model.save('my_model.keras')`.\n",
            "  saving_api.save_model(\n",
            "\u001b[34m\u001b[1mwandb\u001b[0m: Adding directory to artifact (/content/wandb/run-20240424_135857-joh87sk1/files/model-best)... Done. 0.0s\n"
          ]
        },
        {
          "output_type": "stream",
          "name": "stdout",
          "text": [
            "\b\b\b\b\b\b\b\b\b\b\b\b\b\b\b\b\b\b\b\b\b\b\b\b\b\b\b\b\b\b\b\b\b\b\b\b\b\b\b\b\b\b\b\b\b\b\b\b\b\b\b\b\b\b\b\b\b\b\b\b\b\b\b\b\b\b\b\b\b\b\b\b\b\b\b\b\b\b\b\b\b\b\b\b\r391/391 [==============================] - 2s 6ms/step - loss: 0.4106 - accuracy: 0.8531 - val_loss: 0.3776 - val_accuracy: 0.8612\n",
            "Epoch 3/100\n",
            "387/391 [============================>.] - ETA: 0s - loss: 0.3693 - accuracy: 0.8672"
          ]
        },
        {
          "output_type": "stream",
          "name": "stderr",
          "text": [
            "/usr/local/lib/python3.10/dist-packages/keras/src/engine/training.py:3103: UserWarning: You are saving your model as an HDF5 file via `model.save()`. This file format is considered legacy. We recommend using instead the native Keras format, e.g. `model.save('my_model.keras')`.\n",
            "  saving_api.save_model(\n",
            "\u001b[34m\u001b[1mwandb\u001b[0m: Adding directory to artifact (/content/wandb/run-20240424_135857-joh87sk1/files/model-best)... Done. 0.0s\n"
          ]
        },
        {
          "output_type": "stream",
          "name": "stdout",
          "text": [
            "\b\b\b\b\b\b\b\b\b\b\b\b\b\b\b\b\b\b\b\b\b\b\b\b\b\b\b\b\b\b\b\b\b\b\b\b\b\b\b\b\b\b\b\b\b\b\b\b\b\b\b\b\b\b\b\b\b\b\b\b\b\b\b\b\b\b\b\b\b\b\b\b\b\b\b\b\b\b\b\b\b\b\b\b\r391/391 [==============================] - 2s 6ms/step - loss: 0.3697 - accuracy: 0.8670 - val_loss: 0.3758 - val_accuracy: 0.8603\n",
            "Epoch 4/100\n",
            "381/391 [============================>.] - ETA: 0s - loss: 0.3477 - accuracy: 0.8739"
          ]
        },
        {
          "output_type": "stream",
          "name": "stderr",
          "text": [
            "/usr/local/lib/python3.10/dist-packages/keras/src/engine/training.py:3103: UserWarning: You are saving your model as an HDF5 file via `model.save()`. This file format is considered legacy. We recommend using instead the native Keras format, e.g. `model.save('my_model.keras')`.\n",
            "  saving_api.save_model(\n",
            "\u001b[34m\u001b[1mwandb\u001b[0m: Adding directory to artifact (/content/wandb/run-20240424_135857-joh87sk1/files/model-best)... Done. 0.0s\n"
          ]
        },
        {
          "output_type": "stream",
          "name": "stdout",
          "text": [
            "\b\b\b\b\b\b\b\b\b\b\b\b\b\b\b\b\b\b\b\b\b\b\b\b\b\b\b\b\b\b\b\b\b\b\b\b\b\b\b\b\b\b\b\b\b\b\b\b\b\b\b\b\b\b\b\b\b\b\b\b\b\b\b\b\b\b\b\b\b\b\b\b\b\b\b\b\b\b\b\b\b\b\b\b\r391/391 [==============================] - 2s 6ms/step - loss: 0.3472 - accuracy: 0.8738 - val_loss: 0.3365 - val_accuracy: 0.8754\n",
            "Epoch 5/100\n",
            "383/391 [============================>.] - ETA: 0s - loss: 0.3283 - accuracy: 0.8791"
          ]
        },
        {
          "output_type": "stream",
          "name": "stderr",
          "text": [
            "/usr/local/lib/python3.10/dist-packages/keras/src/engine/training.py:3103: UserWarning: You are saving your model as an HDF5 file via `model.save()`. This file format is considered legacy. We recommend using instead the native Keras format, e.g. `model.save('my_model.keras')`.\n",
            "  saving_api.save_model(\n",
            "\u001b[34m\u001b[1mwandb\u001b[0m: Adding directory to artifact (/content/wandb/run-20240424_135857-joh87sk1/files/model-best)... Done. 0.0s\n"
          ]
        },
        {
          "output_type": "stream",
          "name": "stdout",
          "text": [
            "\b\b\b\b\b\b\b\b\b\b\b\b\b\b\b\b\b\b\b\b\b\b\b\b\b\b\b\b\b\b\b\b\b\b\b\b\b\b\b\b\b\b\b\b\b\b\b\b\b\b\b\b\b\b\b\b\b\b\b\b\b\b\b\b\b\b\b\b\b\b\b\b\b\b\b\b\b\b\b\b\b\b\b\b\r391/391 [==============================] - 3s 7ms/step - loss: 0.3283 - accuracy: 0.8791 - val_loss: 0.3332 - val_accuracy: 0.8776\n",
            "Epoch 6/100\n",
            "380/391 [============================>.] - ETA: 0s - loss: 0.3175 - accuracy: 0.8830"
          ]
        },
        {
          "output_type": "stream",
          "name": "stderr",
          "text": [
            "/usr/local/lib/python3.10/dist-packages/keras/src/engine/training.py:3103: UserWarning: You are saving your model as an HDF5 file via `model.save()`. This file format is considered legacy. We recommend using instead the native Keras format, e.g. `model.save('my_model.keras')`.\n",
            "  saving_api.save_model(\n",
            "\u001b[34m\u001b[1mwandb\u001b[0m: Adding directory to artifact (/content/wandb/run-20240424_135857-joh87sk1/files/model-best)... Done. 0.0s\n"
          ]
        },
        {
          "output_type": "stream",
          "name": "stdout",
          "text": [
            "\b\b\b\b\b\b\b\b\b\b\b\b\b\b\b\b\b\b\b\b\b\b\b\b\b\b\b\b\b\b\b\b\b\b\b\b\b\b\b\b\b\b\b\b\b\b\b\b\b\b\b\b\b\b\b\b\b\b\b\b\b\b\b\b\b\b\b\b\b\b\b\b\b\b\b\b\b\b\b\b\b\b\b\b\r391/391 [==============================] - 3s 6ms/step - loss: 0.3174 - accuracy: 0.8830 - val_loss: 0.3154 - val_accuracy: 0.8856\n",
            "Epoch 7/100\n",
            "391/391 [==============================] - ETA: 0s - loss: 0.3076 - accuracy: 0.8870"
          ]
        },
        {
          "output_type": "stream",
          "name": "stderr",
          "text": [
            "/usr/local/lib/python3.10/dist-packages/keras/src/engine/training.py:3103: UserWarning: You are saving your model as an HDF5 file via `model.save()`. This file format is considered legacy. We recommend using instead the native Keras format, e.g. `model.save('my_model.keras')`.\n",
            "  saving_api.save_model(\n",
            "\u001b[34m\u001b[1mwandb\u001b[0m: Adding directory to artifact (/content/wandb/run-20240424_135857-joh87sk1/files/model-best)... Done. 0.0s\n"
          ]
        },
        {
          "output_type": "stream",
          "name": "stdout",
          "text": [
            "\b\b\b\b\b\b\b\b\b\b\b\b\b\b\b\b\b\b\b\b\b\b\b\b\b\b\b\b\b\b\b\b\b\b\b\b\b\b\b\b\b\b\b\b\b\b\b\b\b\b\b\b\b\b\b\b\b\b\b\b\b\b\b\b\b\b\b\b\b\b\b\b\b\b\b\b\b\b\b\b\b\b\b\b\r391/391 [==============================] - 2s 5ms/step - loss: 0.3076 - accuracy: 0.8870 - val_loss: 0.3149 - val_accuracy: 0.8829\n",
            "Epoch 8/100\n",
            "391/391 [==============================] - 1s 4ms/step - loss: 0.2921 - accuracy: 0.8923 - val_loss: 0.3205 - val_accuracy: 0.8824\n",
            "Epoch 9/100\n",
            "384/391 [============================>.] - ETA: 0s - loss: 0.2883 - accuracy: 0.8933"
          ]
        },
        {
          "output_type": "stream",
          "name": "stderr",
          "text": [
            "/usr/local/lib/python3.10/dist-packages/keras/src/engine/training.py:3103: UserWarning: You are saving your model as an HDF5 file via `model.save()`. This file format is considered legacy. We recommend using instead the native Keras format, e.g. `model.save('my_model.keras')`.\n",
            "  saving_api.save_model(\n",
            "\u001b[34m\u001b[1mwandb\u001b[0m: Adding directory to artifact (/content/wandb/run-20240424_135857-joh87sk1/files/model-best)... Done. 0.0s\n"
          ]
        },
        {
          "output_type": "stream",
          "name": "stdout",
          "text": [
            "\b\b\b\b\b\b\b\b\b\b\b\b\b\b\b\b\b\b\b\b\b\b\b\b\b\b\b\b\b\b\b\b\b\b\b\b\b\b\b\b\b\b\b\b\b\b\b\b\b\b\b\b\b\b\b\b\b\b\b\b\b\b\b\b\b\b\b\b\b\b\b\b\b\b\b\b\b\b\b\b\b\b\b\b\r391/391 [==============================] - 2s 6ms/step - loss: 0.2880 - accuracy: 0.8934 - val_loss: 0.3078 - val_accuracy: 0.8870\n",
            "Epoch 10/100\n",
            "381/391 [============================>.] - ETA: 0s - loss: 0.2793 - accuracy: 0.8973"
          ]
        },
        {
          "output_type": "stream",
          "name": "stderr",
          "text": [
            "/usr/local/lib/python3.10/dist-packages/keras/src/engine/training.py:3103: UserWarning: You are saving your model as an HDF5 file via `model.save()`. This file format is considered legacy. We recommend using instead the native Keras format, e.g. `model.save('my_model.keras')`.\n",
            "  saving_api.save_model(\n",
            "\u001b[34m\u001b[1mwandb\u001b[0m: Adding directory to artifact (/content/wandb/run-20240424_135857-joh87sk1/files/model-best)... Done. 0.0s\n"
          ]
        },
        {
          "output_type": "stream",
          "name": "stdout",
          "text": [
            "\b\b\b\b\b\b\b\b\b\b\b\b\b\b\b\b\b\b\b\b\b\b\b\b\b\b\b\b\b\b\b\b\b\b\b\b\b\b\b\b\b\b\b\b\b\b\b\b\b\b\b\b\b\b\b\b\b\b\b\b\b\b\b\b\b\b\b\b\b\b\b\b\b\b\b\b\b\b\b\b\b\b\b\b\r391/391 [==============================] - 2s 5ms/step - loss: 0.2791 - accuracy: 0.8973 - val_loss: 0.2933 - val_accuracy: 0.8881\n",
            "Epoch 11/100\n",
            "391/391 [==============================] - 2s 5ms/step - loss: 0.2703 - accuracy: 0.9001 - val_loss: 0.3022 - val_accuracy: 0.8883\n",
            "Epoch 12/100\n",
            "391/391 [==============================] - 2s 4ms/step - loss: 0.2662 - accuracy: 0.9007 - val_loss: 0.2942 - val_accuracy: 0.8909\n",
            "Epoch 13/100\n",
            "391/391 [==============================] - 2s 4ms/step - loss: 0.2587 - accuracy: 0.9024 - val_loss: 0.2977 - val_accuracy: 0.8922\n",
            "Epoch 14/100\n",
            "384/391 [============================>.] - ETA: 0s - loss: 0.2522 - accuracy: 0.9061"
          ]
        },
        {
          "output_type": "stream",
          "name": "stderr",
          "text": [
            "/usr/local/lib/python3.10/dist-packages/keras/src/engine/training.py:3103: UserWarning: You are saving your model as an HDF5 file via `model.save()`. This file format is considered legacy. We recommend using instead the native Keras format, e.g. `model.save('my_model.keras')`.\n",
            "  saving_api.save_model(\n",
            "\u001b[34m\u001b[1mwandb\u001b[0m: Adding directory to artifact (/content/wandb/run-20240424_135857-joh87sk1/files/model-best)... Done. 0.0s\n"
          ]
        },
        {
          "output_type": "stream",
          "name": "stdout",
          "text": [
            "\b\b\b\b\b\b\b\b\b\b\b\b\b\b\b\b\b\b\b\b\b\b\b\b\b\b\b\b\b\b\b\b\b\b\b\b\b\b\b\b\b\b\b\b\b\b\b\b\b\b\b\b\b\b\b\b\b\b\b\b\b\b\b\b\b\b\b\b\b\b\b\b\b\b\b\b\b\b\b\b\b\b\b\b\r391/391 [==============================] - 2s 6ms/step - loss: 0.2517 - accuracy: 0.9062 - val_loss: 0.2917 - val_accuracy: 0.8975\n",
            "Epoch 15/100\n",
            "391/391 [==============================] - 2s 4ms/step - loss: 0.2480 - accuracy: 0.9070 - val_loss: 0.2953 - val_accuracy: 0.8951\n",
            "Epoch 16/100\n",
            "391/391 [==============================] - 1s 4ms/step - loss: 0.2455 - accuracy: 0.9066 - val_loss: 0.2977 - val_accuracy: 0.8921\n",
            "Epoch 17/100\n",
            "391/391 [==============================] - 2s 4ms/step - loss: 0.2359 - accuracy: 0.9114 - val_loss: 0.2975 - val_accuracy: 0.8926\n",
            "Epoch 18/100\n",
            "391/391 [==============================] - 2s 5ms/step - loss: 0.2341 - accuracy: 0.9133 - val_loss: 0.2930 - val_accuracy: 0.8936\n",
            "Epoch 19/100\n",
            "391/391 [==============================] - 2s 4ms/step - loss: 0.2298 - accuracy: 0.9140 - val_loss: 0.2952 - val_accuracy: 0.8929\n",
            "Epoch 20/100\n",
            "391/391 [==============================] - 2s 4ms/step - loss: 0.2235 - accuracy: 0.9147 - val_loss: 0.3006 - val_accuracy: 0.8881\n",
            "Epoch 21/100\n",
            "391/391 [==============================] - 2s 4ms/step - loss: 0.2185 - accuracy: 0.9171 - val_loss: 0.2998 - val_accuracy: 0.8957\n",
            "Epoch 22/100\n",
            "391/391 [==============================] - 1s 4ms/step - loss: 0.2160 - accuracy: 0.9174 - val_loss: 0.3021 - val_accuracy: 0.8952\n",
            "Epoch 23/100\n",
            "391/391 [==============================] - 1s 4ms/step - loss: 0.2114 - accuracy: 0.9193 - val_loss: 0.2932 - val_accuracy: 0.8966\n",
            "Epoch 24/100\n",
            "376/391 [===========================>..] - ETA: 0s - loss: 0.2080 - accuracy: 0.9213"
          ]
        },
        {
          "output_type": "stream",
          "name": "stderr",
          "text": [
            "/usr/local/lib/python3.10/dist-packages/keras/src/engine/training.py:3103: UserWarning: You are saving your model as an HDF5 file via `model.save()`. This file format is considered legacy. We recommend using instead the native Keras format, e.g. `model.save('my_model.keras')`.\n",
            "  saving_api.save_model(\n",
            "\u001b[34m\u001b[1mwandb\u001b[0m: Adding directory to artifact (/content/wandb/run-20240424_135857-joh87sk1/files/model-best)... Done. 0.0s\n"
          ]
        },
        {
          "output_type": "stream",
          "name": "stdout",
          "text": [
            "\b\b\b\b\b\b\b\b\b\b\b\b\b\b\b\b\b\b\b\b\b\b\b\b\b\b\b\b\b\b\b\b\b\b\b\b\b\b\b\b\b\b\b\b\b\b\b\b\b\b\b\b\b\b\b\b\b\b\b\b\b\b\b\b\b\b\b\b\b\b\b\b\b\b\b\b\b\b\b\b\b\b\b\b\r391/391 [==============================] - 2s 5ms/step - loss: 0.2088 - accuracy: 0.9210 - val_loss: 0.2890 - val_accuracy: 0.8986\n",
            "Epoch 25/100\n",
            "383/391 [============================>.] - ETA: 0s - loss: 0.2040 - accuracy: 0.9226"
          ]
        },
        {
          "output_type": "stream",
          "name": "stderr",
          "text": [
            "/usr/local/lib/python3.10/dist-packages/keras/src/engine/training.py:3103: UserWarning: You are saving your model as an HDF5 file via `model.save()`. This file format is considered legacy. We recommend using instead the native Keras format, e.g. `model.save('my_model.keras')`.\n",
            "  saving_api.save_model(\n",
            "\u001b[34m\u001b[1mwandb\u001b[0m: Adding directory to artifact (/content/wandb/run-20240424_135857-joh87sk1/files/model-best)... Done. 0.0s\n"
          ]
        },
        {
          "output_type": "stream",
          "name": "stdout",
          "text": [
            "\b\b\b\b\b\b\b\b\b\b\b\b\b\b\b\b\b\b\b\b\b\b\b\b\b\b\b\b\b\b\b\b\b\b\b\b\b\b\b\b\b\b\b\b\b\b\b\b\b\b\b\b\b\b\b\b\b\b\b\b\b\b\b\b\b\b\b\b\b\b\b\b\b\b\b\b\b\b\b\b\b\b\b\b\r391/391 [==============================] - 3s 7ms/step - loss: 0.2042 - accuracy: 0.9226 - val_loss: 0.2870 - val_accuracy: 0.8989\n",
            "Epoch 26/100\n",
            "380/391 [============================>.] - ETA: 0s - loss: 0.2000 - accuracy: 0.9249"
          ]
        },
        {
          "output_type": "stream",
          "name": "stderr",
          "text": [
            "/usr/local/lib/python3.10/dist-packages/keras/src/engine/training.py:3103: UserWarning: You are saving your model as an HDF5 file via `model.save()`. This file format is considered legacy. We recommend using instead the native Keras format, e.g. `model.save('my_model.keras')`.\n",
            "  saving_api.save_model(\n",
            "\u001b[34m\u001b[1mwandb\u001b[0m: Adding directory to artifact (/content/wandb/run-20240424_135857-joh87sk1/files/model-best)... Done. 0.0s\n"
          ]
        },
        {
          "output_type": "stream",
          "name": "stdout",
          "text": [
            "\b\b\b\b\b\b\b\b\b\b\b\b\b\b\b\b\b\b\b\b\b\b\b\b\b\b\b\b\b\b\b\b\b\b\b\b\b\b\b\b\b\b\b\b\b\b\b\b\b\b\b\b\b\b\b\b\b\b\b\b\b\b\b\b\b\b\b\b\b\b\b\b\b\b\b\b\b\b\b\b\b\b\b\b\r391/391 [==============================] - 2s 6ms/step - loss: 0.2008 - accuracy: 0.9247 - val_loss: 0.2764 - val_accuracy: 0.9033\n",
            "Epoch 27/100\n",
            "391/391 [==============================] - 1s 4ms/step - loss: 0.1968 - accuracy: 0.9259 - val_loss: 0.2908 - val_accuracy: 0.8983\n",
            "Epoch 28/100\n",
            "391/391 [==============================] - 2s 4ms/step - loss: 0.1935 - accuracy: 0.9261 - val_loss: 0.2967 - val_accuracy: 0.9008\n",
            "Epoch 29/100\n",
            "391/391 [==============================] - 2s 4ms/step - loss: 0.1916 - accuracy: 0.9274 - val_loss: 0.3047 - val_accuracy: 0.8949\n",
            "Epoch 30/100\n",
            "391/391 [==============================] - 1s 4ms/step - loss: 0.1838 - accuracy: 0.9311 - val_loss: 0.2906 - val_accuracy: 0.9001\n",
            "Epoch 31/100\n",
            "391/391 [==============================] - 1s 4ms/step - loss: 0.1836 - accuracy: 0.9297 - val_loss: 0.2999 - val_accuracy: 0.8951\n",
            "Epoch 32/100\n",
            "391/391 [==============================] - 2s 5ms/step - loss: 0.1822 - accuracy: 0.9310 - val_loss: 0.3012 - val_accuracy: 0.8987\n",
            "Epoch 33/100\n",
            "391/391 [==============================] - 2s 4ms/step - loss: 0.1803 - accuracy: 0.9317 - val_loss: 0.2991 - val_accuracy: 0.8971\n",
            "Epoch 34/100\n",
            "391/391 [==============================] - 2s 4ms/step - loss: 0.1755 - accuracy: 0.9328 - val_loss: 0.3048 - val_accuracy: 0.8990\n",
            "Epoch 35/100\n",
            "391/391 [==============================] - 2s 4ms/step - loss: 0.1713 - accuracy: 0.9350 - val_loss: 0.3060 - val_accuracy: 0.8974\n",
            "Epoch 36/100\n",
            "391/391 [==============================] - 1s 4ms/step - loss: 0.1665 - accuracy: 0.9374 - val_loss: 0.2993 - val_accuracy: 0.9031\n",
            "Epoch 37/100\n",
            "391/391 [==============================] - 1s 4ms/step - loss: 0.1644 - accuracy: 0.9376 - val_loss: 0.3109 - val_accuracy: 0.9007\n",
            "Epoch 38/100\n",
            "391/391 [==============================] - 2s 4ms/step - loss: 0.1686 - accuracy: 0.9361 - val_loss: 0.2965 - val_accuracy: 0.9035\n",
            "Epoch 39/100\n",
            "391/391 [==============================] - 2s 4ms/step - loss: 0.1617 - accuracy: 0.9383 - val_loss: 0.3201 - val_accuracy: 0.9002\n",
            "Epoch 40/100\n",
            "391/391 [==============================] - 2s 6ms/step - loss: 0.1601 - accuracy: 0.9399 - val_loss: 0.3071 - val_accuracy: 0.8994\n",
            "Epoch 41/100\n",
            "391/391 [==============================] - 1s 4ms/step - loss: 0.1583 - accuracy: 0.9397 - val_loss: 0.3203 - val_accuracy: 0.8982\n",
            "Epoch 42/100\n",
            "391/391 [==============================] - 2s 4ms/step - loss: 0.1567 - accuracy: 0.9408 - val_loss: 0.3212 - val_accuracy: 0.9025\n",
            "Epoch 43/100\n",
            "391/391 [==============================] - 1s 4ms/step - loss: 0.1558 - accuracy: 0.9407 - val_loss: 0.3271 - val_accuracy: 0.8982\n",
            "Epoch 44/100\n",
            "391/391 [==============================] - 1s 4ms/step - loss: 0.1542 - accuracy: 0.9408 - val_loss: 0.3047 - val_accuracy: 0.9044\n",
            "Epoch 45/100\n",
            "391/391 [==============================] - 1s 4ms/step - loss: 0.1511 - accuracy: 0.9419 - val_loss: 0.3159 - val_accuracy: 0.9036\n",
            "Epoch 46/100\n",
            "391/391 [==============================] - 2s 4ms/step - loss: 0.1472 - accuracy: 0.9429 - val_loss: 0.3123 - val_accuracy: 0.9017\n",
            "Epoch 47/100\n",
            "391/391 [==============================] - 2s 4ms/step - loss: 0.1453 - accuracy: 0.9442 - val_loss: 0.3162 - val_accuracy: 0.9033\n",
            "Epoch 48/100\n",
            "391/391 [==============================] - 2s 5ms/step - loss: 0.1457 - accuracy: 0.9441 - val_loss: 0.3216 - val_accuracy: 0.9034\n",
            "Epoch 49/100\n",
            "391/391 [==============================] - 2s 4ms/step - loss: 0.1410 - accuracy: 0.9463 - val_loss: 0.3217 - val_accuracy: 0.9044\n",
            "Epoch 50/100\n",
            "391/391 [==============================] - 1s 4ms/step - loss: 0.1372 - accuracy: 0.9468 - val_loss: 0.3332 - val_accuracy: 0.9010\n",
            "Epoch 51/100\n",
            "391/391 [==============================] - 1s 4ms/step - loss: 0.1371 - accuracy: 0.9463 - val_loss: 0.3374 - val_accuracy: 0.9019\n",
            "Epoch 52/100\n",
            "391/391 [==============================] - 2s 4ms/step - loss: 0.1386 - accuracy: 0.9471 - val_loss: 0.3423 - val_accuracy: 0.8998\n",
            "Epoch 53/100\n",
            "391/391 [==============================] - 2s 4ms/step - loss: 0.1358 - accuracy: 0.9484 - val_loss: 0.3437 - val_accuracy: 0.9019\n",
            "Epoch 54/100\n",
            "391/391 [==============================] - 2s 4ms/step - loss: 0.1340 - accuracy: 0.9488 - val_loss: 0.3378 - val_accuracy: 0.9038\n",
            "Epoch 55/100\n",
            "391/391 [==============================] - 2s 5ms/step - loss: 0.1330 - accuracy: 0.9491 - val_loss: 0.3279 - val_accuracy: 0.9034\n",
            "Epoch 56/100\n",
            "391/391 [==============================] - 2s 5ms/step - loss: 0.1318 - accuracy: 0.9489 - val_loss: 0.3410 - val_accuracy: 0.9013\n",
            "Epoch 57/100\n",
            "391/391 [==============================] - 2s 4ms/step - loss: 0.1298 - accuracy: 0.9491 - val_loss: 0.3360 - val_accuracy: 0.9043\n",
            "Epoch 58/100\n",
            "391/391 [==============================] - 2s 4ms/step - loss: 0.1268 - accuracy: 0.9510 - val_loss: 0.3336 - val_accuracy: 0.9018\n",
            "Epoch 59/100\n",
            "391/391 [==============================] - 1s 4ms/step - loss: 0.1256 - accuracy: 0.9517 - val_loss: 0.3506 - val_accuracy: 0.8953\n",
            "Epoch 60/100\n",
            "391/391 [==============================] - 1s 4ms/step - loss: 0.1289 - accuracy: 0.9504 - val_loss: 0.3433 - val_accuracy: 0.9029\n",
            "Epoch 61/100\n",
            "391/391 [==============================] - 2s 4ms/step - loss: 0.1234 - accuracy: 0.9529 - val_loss: 0.3559 - val_accuracy: 0.9013\n",
            "Epoch 62/100\n",
            "391/391 [==============================] - 1s 4ms/step - loss: 0.1242 - accuracy: 0.9516 - val_loss: 0.3523 - val_accuracy: 0.8994\n",
            "Epoch 63/100\n",
            "391/391 [==============================] - 2s 5ms/step - loss: 0.1209 - accuracy: 0.9537 - val_loss: 0.3669 - val_accuracy: 0.8981\n",
            "Epoch 64/100\n",
            "391/391 [==============================] - 2s 4ms/step - loss: 0.1187 - accuracy: 0.9537 - val_loss: 0.3525 - val_accuracy: 0.9018\n",
            "Epoch 65/100\n",
            "391/391 [==============================] - 1s 4ms/step - loss: 0.1197 - accuracy: 0.9554 - val_loss: 0.3543 - val_accuracy: 0.9033\n",
            "Epoch 66/100\n",
            "391/391 [==============================] - 2s 4ms/step - loss: 0.1172 - accuracy: 0.9556 - val_loss: 0.3608 - val_accuracy: 0.9016\n",
            "Epoch 67/100\n",
            "391/391 [==============================] - 1s 4ms/step - loss: 0.1145 - accuracy: 0.9567 - val_loss: 0.3677 - val_accuracy: 0.9037\n",
            "Epoch 68/100\n",
            "391/391 [==============================] - 2s 4ms/step - loss: 0.1170 - accuracy: 0.9550 - val_loss: 0.3752 - val_accuracy: 0.9010\n",
            "Epoch 69/100\n",
            "391/391 [==============================] - 1s 4ms/step - loss: 0.1155 - accuracy: 0.9555 - val_loss: 0.3624 - val_accuracy: 0.9062\n",
            "Epoch 70/100\n",
            "391/391 [==============================] - 1s 4ms/step - loss: 0.1119 - accuracy: 0.9564 - val_loss: 0.3851 - val_accuracy: 0.9021\n",
            "Epoch 71/100\n",
            "391/391 [==============================] - 2s 5ms/step - loss: 0.1142 - accuracy: 0.9554 - val_loss: 0.3778 - val_accuracy: 0.9006\n",
            "Epoch 72/100\n",
            "391/391 [==============================] - 2s 4ms/step - loss: 0.1123 - accuracy: 0.9571 - val_loss: 0.3655 - val_accuracy: 0.8983\n",
            "Epoch 73/100\n",
            "391/391 [==============================] - 2s 4ms/step - loss: 0.1067 - accuracy: 0.9589 - val_loss: 0.3903 - val_accuracy: 0.8995\n",
            "Epoch 74/100\n",
            "391/391 [==============================] - 2s 4ms/step - loss: 0.1110 - accuracy: 0.9585 - val_loss: 0.3796 - val_accuracy: 0.9002\n",
            "Epoch 75/100\n",
            "391/391 [==============================] - 2s 4ms/step - loss: 0.1093 - accuracy: 0.9573 - val_loss: 0.3964 - val_accuracy: 0.9010\n",
            "Epoch 76/100\n",
            "391/391 [==============================] - 2s 4ms/step - loss: 0.1054 - accuracy: 0.9585 - val_loss: 0.3866 - val_accuracy: 0.9010\n",
            "Epoch 77/100\n",
            "391/391 [==============================] - 1s 4ms/step - loss: 0.1085 - accuracy: 0.9581 - val_loss: 0.3954 - val_accuracy: 0.9024\n",
            "Epoch 78/100\n",
            "391/391 [==============================] - 2s 4ms/step - loss: 0.1005 - accuracy: 0.9613 - val_loss: 0.3940 - val_accuracy: 0.9003\n",
            "Epoch 79/100\n",
            "391/391 [==============================] - 2s 5ms/step - loss: 0.1036 - accuracy: 0.9592 - val_loss: 0.4046 - val_accuracy: 0.8995\n",
            "Epoch 80/100\n",
            "391/391 [==============================] - 1s 4ms/step - loss: 0.1000 - accuracy: 0.9618 - val_loss: 0.3829 - val_accuracy: 0.9019\n",
            "Epoch 81/100\n",
            "391/391 [==============================] - 1s 4ms/step - loss: 0.1049 - accuracy: 0.9592 - val_loss: 0.3860 - val_accuracy: 0.9013\n",
            "Epoch 82/100\n",
            "391/391 [==============================] - 2s 4ms/step - loss: 0.1020 - accuracy: 0.9606 - val_loss: 0.3989 - val_accuracy: 0.8999\n",
            "Epoch 83/100\n",
            "391/391 [==============================] - 2s 4ms/step - loss: 0.1016 - accuracy: 0.9600 - val_loss: 0.3999 - val_accuracy: 0.8998\n",
            "Epoch 84/100\n",
            "391/391 [==============================] - 1s 4ms/step - loss: 0.0988 - accuracy: 0.9616 - val_loss: 0.4191 - val_accuracy: 0.9025\n",
            "Epoch 85/100\n",
            "391/391 [==============================] - 2s 4ms/step - loss: 0.0989 - accuracy: 0.9612 - val_loss: 0.4322 - val_accuracy: 0.8975\n",
            "Epoch 86/100\n",
            "391/391 [==============================] - 2s 4ms/step - loss: 0.0966 - accuracy: 0.9634 - val_loss: 0.3877 - val_accuracy: 0.9026\n",
            "Epoch 87/100\n",
            "391/391 [==============================] - 2s 5ms/step - loss: 0.0954 - accuracy: 0.9625 - val_loss: 0.4169 - val_accuracy: 0.8982\n",
            "Epoch 88/100\n",
            "391/391 [==============================] - 1s 4ms/step - loss: 0.0969 - accuracy: 0.9629 - val_loss: 0.3956 - val_accuracy: 0.9006\n",
            "Epoch 89/100\n",
            "391/391 [==============================] - 2s 4ms/step - loss: 0.0943 - accuracy: 0.9632 - val_loss: 0.4120 - val_accuracy: 0.9010\n",
            "Epoch 90/100\n",
            "391/391 [==============================] - 2s 4ms/step - loss: 0.0994 - accuracy: 0.9625 - val_loss: 0.4105 - val_accuracy: 0.9006\n",
            "Epoch 91/100\n",
            "391/391 [==============================] - 1s 4ms/step - loss: 0.0951 - accuracy: 0.9631 - val_loss: 0.4116 - val_accuracy: 0.9027\n",
            "Epoch 92/100\n",
            "391/391 [==============================] - 2s 4ms/step - loss: 0.0921 - accuracy: 0.9650 - val_loss: 0.4110 - val_accuracy: 0.9008\n",
            "Epoch 93/100\n",
            "391/391 [==============================] - 2s 4ms/step - loss: 0.0893 - accuracy: 0.9653 - val_loss: 0.4168 - val_accuracy: 0.9027\n",
            "Epoch 94/100\n",
            "391/391 [==============================] - 2s 5ms/step - loss: 0.0908 - accuracy: 0.9645 - val_loss: 0.4115 - val_accuracy: 0.9019\n",
            "Epoch 95/100\n",
            "391/391 [==============================] - 2s 4ms/step - loss: 0.0894 - accuracy: 0.9659 - val_loss: 0.4245 - val_accuracy: 0.9033\n",
            "Epoch 96/100\n",
            "391/391 [==============================] - 2s 4ms/step - loss: 0.0901 - accuracy: 0.9647 - val_loss: 0.4272 - val_accuracy: 0.9038\n",
            "Epoch 97/100\n",
            "391/391 [==============================] - 2s 4ms/step - loss: 0.0907 - accuracy: 0.9651 - val_loss: 0.4229 - val_accuracy: 0.9011\n",
            "Epoch 98/100\n",
            "391/391 [==============================] - 1s 4ms/step - loss: 0.0905 - accuracy: 0.9655 - val_loss: 0.4418 - val_accuracy: 0.9014\n",
            "Epoch 99/100\n",
            "391/391 [==============================] - 2s 4ms/step - loss: 0.0889 - accuracy: 0.9659 - val_loss: 0.4402 - val_accuracy: 0.8991\n",
            "Epoch 100/100\n",
            "391/391 [==============================] - 1s 4ms/step - loss: 0.0891 - accuracy: 0.9671 - val_loss: 0.4398 - val_accuracy: 0.9015\n"
          ]
        },
        {
          "output_type": "display_data",
          "data": {
            "text/plain": [
              "VBox(children=(Label(value='61.756 MB of 61.756 MB uploaded (0.088 MB deduped)\\r'), FloatProgress(value=1.0, m…"
            ],
            "application/vnd.jupyter.widget-view+json": {
              "version_major": 2,
              "version_minor": 0,
              "model_id": "139cdbb14c93451ea6f664ff30ba7371"
            }
          },
          "metadata": {}
        },
        {
          "output_type": "display_data",
          "data": {
            "text/plain": [
              "<IPython.core.display.HTML object>"
            ],
            "text/html": [
              "<style>\n",
              "    table.wandb td:nth-child(1) { padding: 0 10px; text-align: left ; width: auto;} td:nth-child(2) {text-align: left ; width: 100%}\n",
              "    .wandb-row { display: flex; flex-direction: row; flex-wrap: wrap; justify-content: flex-start; width: 100% }\n",
              "    .wandb-col { display: flex; flex-direction: column; flex-basis: 100%; flex: 1; padding: 10px; }\n",
              "    </style>\n",
              "<div class=\"wandb-row\"><div class=\"wandb-col\"><h3>Run history:</h3><br/><table class=\"wandb\"><tr><td>accuracy</td><td>▁▄▄▅▅▅▅▆▆▆▆▆▆▇▇▇▇▇▇▇▇▇▇▇▇▇█▇████████████</td></tr><tr><td>epoch</td><td>▁▁▁▁▂▂▂▂▂▃▃▃▃▃▃▄▄▄▄▄▅▅▅▅▅▅▆▆▆▆▆▇▇▇▇▇▇███</td></tr><tr><td>loss</td><td>█▅▄▄▄▄▃▃▃▃▃▃▂▂▂▂▂▂▂▂▂▂▂▂▂▁▁▁▁▁▁▁▁▁▁▁▁▁▁▁</td></tr><tr><td>val_accuracy</td><td>▁▂▅▅▆▆▆▆▇▇█▇▆▇█▇▇█▇█▇█▇▆▇▇██▇▇▇▇▇▇▇▇▇▇▇▇</td></tr><tr><td>val_loss</td><td>▇▅▃▃▂▂▂▂▂▂▁▂▂▂▂▃▃▂▃▃▄▄▄▄▄▄▅▅▅▅▆▆▆▇▇▇▇▇▇█</td></tr></table><br/></div><div class=\"wandb-col\"><h3>Run summary:</h3><br/><table class=\"wandb\"><tr><td>accuracy</td><td>0.96714</td></tr><tr><td>best_epoch</td><td>25</td></tr><tr><td>best_val_loss</td><td>0.27636</td></tr><tr><td>epoch</td><td>99</td></tr><tr><td>loss</td><td>0.08908</td></tr><tr><td>val_accuracy</td><td>0.9015</td></tr><tr><td>val_loss</td><td>0.43976</td></tr></table><br/></div></div>"
            ]
          },
          "metadata": {}
        },
        {
          "output_type": "display_data",
          "data": {
            "text/plain": [
              "<IPython.core.display.HTML object>"
            ],
            "text/html": [
              " View run <strong style=\"color:#cdcd00\">fine-sweep-7</strong> at: <a href='https://wandb.ai/pkasnesis/aidl-a02-week5/runs/joh87sk1' target=\"_blank\">https://wandb.ai/pkasnesis/aidl-a02-week5/runs/joh87sk1</a><br/> View project at: <a href='https://wandb.ai/pkasnesis/aidl-a02-week5' target=\"_blank\">https://wandb.ai/pkasnesis/aidl-a02-week5</a><br/>Synced 5 W&B file(s), 1 media file(s), 65 artifact file(s) and 1 other file(s)"
            ]
          },
          "metadata": {}
        },
        {
          "output_type": "display_data",
          "data": {
            "text/plain": [
              "<IPython.core.display.HTML object>"
            ],
            "text/html": [
              "Find logs at: <code>./wandb/run-20240424_135857-joh87sk1/logs</code>"
            ]
          },
          "metadata": {}
        },
        {
          "output_type": "stream",
          "name": "stderr",
          "text": [
            "\u001b[34m\u001b[1mwandb\u001b[0m: Agent Starting Run: 699xrad9 with config:\n",
            "\u001b[34m\u001b[1mwandb\u001b[0m: \tdropout: 0.3\n",
            "\u001b[34m\u001b[1mwandb\u001b[0m: \tepochs: 100\n",
            "\u001b[34m\u001b[1mwandb\u001b[0m: \tfc_layer_size: 512\n",
            "\u001b[34m\u001b[1mwandb\u001b[0m: \tlearning-rate: 0.003\n"
          ]
        },
        {
          "output_type": "display_data",
          "data": {
            "text/plain": [
              "<IPython.core.display.HTML object>"
            ],
            "text/html": [
              "Tracking run with wandb version 0.16.6"
            ]
          },
          "metadata": {}
        },
        {
          "output_type": "display_data",
          "data": {
            "text/plain": [
              "<IPython.core.display.HTML object>"
            ],
            "text/html": [
              "Run data is saved locally in <code>/content/wandb/run-20240424_140239-699xrad9</code>"
            ]
          },
          "metadata": {}
        },
        {
          "output_type": "display_data",
          "data": {
            "text/plain": [
              "<IPython.core.display.HTML object>"
            ],
            "text/html": [
              "Syncing run <strong><a href='https://wandb.ai/pkasnesis/aidl-a02-week5/runs/699xrad9' target=\"_blank\">dark-sweep-8</a></strong> to <a href='https://wandb.ai/pkasnesis/aidl-a02-week5' target=\"_blank\">Weights & Biases</a> (<a href='https://wandb.me/run' target=\"_blank\">docs</a>)<br/>Sweep page: <a href='https://wandb.ai/pkasnesis/aidl-a02-week5/sweeps/846jlb6t' target=\"_blank\">https://wandb.ai/pkasnesis/aidl-a02-week5/sweeps/846jlb6t</a>"
            ]
          },
          "metadata": {}
        },
        {
          "output_type": "display_data",
          "data": {
            "text/plain": [
              "<IPython.core.display.HTML object>"
            ],
            "text/html": [
              " View project at <a href='https://wandb.ai/pkasnesis/aidl-a02-week5' target=\"_blank\">https://wandb.ai/pkasnesis/aidl-a02-week5</a>"
            ]
          },
          "metadata": {}
        },
        {
          "output_type": "display_data",
          "data": {
            "text/plain": [
              "<IPython.core.display.HTML object>"
            ],
            "text/html": [
              " View sweep at <a href='https://wandb.ai/pkasnesis/aidl-a02-week5/sweeps/846jlb6t' target=\"_blank\">https://wandb.ai/pkasnesis/aidl-a02-week5/sweeps/846jlb6t</a>"
            ]
          },
          "metadata": {}
        },
        {
          "output_type": "display_data",
          "data": {
            "text/plain": [
              "<IPython.core.display.HTML object>"
            ],
            "text/html": [
              " View run at <a href='https://wandb.ai/pkasnesis/aidl-a02-week5/runs/699xrad9' target=\"_blank\">https://wandb.ai/pkasnesis/aidl-a02-week5/runs/699xrad9</a>"
            ]
          },
          "metadata": {}
        },
        {
          "output_type": "stream",
          "name": "stderr",
          "text": [
            "WARNING:absl:`lr` is deprecated in Keras optimizer, please use `learning_rate` or use the legacy optimizer, e.g.,tf.keras.optimizers.legacy.Adam.\n"
          ]
        },
        {
          "output_type": "stream",
          "name": "stdout",
          "text": [
            "Epoch 1/100\n",
            "379/391 [============================>.] - ETA: 0s - loss: 0.5612 - accuracy: 0.8015"
          ]
        },
        {
          "output_type": "stream",
          "name": "stderr",
          "text": [
            "/usr/local/lib/python3.10/dist-packages/keras/src/engine/training.py:3103: UserWarning: You are saving your model as an HDF5 file via `model.save()`. This file format is considered legacy. We recommend using instead the native Keras format, e.g. `model.save('my_model.keras')`.\n",
            "  saving_api.save_model(\n",
            "\u001b[34m\u001b[1mwandb\u001b[0m: Adding directory to artifact (/content/wandb/run-20240424_140239-699xrad9/files/model-best)... Done. 0.0s\n"
          ]
        },
        {
          "output_type": "stream",
          "name": "stdout",
          "text": [
            "\b\b\b\b\b\b\b\b\b\b\b\b\b\b\b\b\b\b\b\b\b\b\b\b\b\b\b\b\b\b\b\b\b\b\b\b\b\b\b\b\b\b\b\b\b\b\b\b\b\b\b\b\b\b\b\b\b\b\b\b\b\b\b\b\b\b\b\b\b\b\b\b\b\b\b\b\b\b\b\b\b\b\b\b\r391/391 [==============================] - 3s 6ms/step - loss: 0.5574 - accuracy: 0.8024 - val_loss: 0.4138 - val_accuracy: 0.8541\n",
            "Epoch 2/100\n",
            "385/391 [============================>.] - ETA: 0s - loss: 0.4110 - accuracy: 0.8515"
          ]
        },
        {
          "output_type": "stream",
          "name": "stderr",
          "text": [
            "/usr/local/lib/python3.10/dist-packages/keras/src/engine/training.py:3103: UserWarning: You are saving your model as an HDF5 file via `model.save()`. This file format is considered legacy. We recommend using instead the native Keras format, e.g. `model.save('my_model.keras')`.\n",
            "  saving_api.save_model(\n",
            "\u001b[34m\u001b[1mwandb\u001b[0m: Adding directory to artifact (/content/wandb/run-20240424_140239-699xrad9/files/model-best)... Done. 0.0s\n"
          ]
        },
        {
          "output_type": "stream",
          "name": "stdout",
          "text": [
            "\b\b\b\b\b\b\b\b\b\b\b\b\b\b\b\b\b\b\b\b\b\b\b\b\b\b\b\b\b\b\b\b\b\b\b\b\b\b\b\b\b\b\b\b\b\b\b\b\b\b\b\b\b\b\b\b\b\b\b\b\b\b\b\b\b\b\b\b\b\b\b\b\b\b\b\b\b\b\b\b\b\b\b\b\r391/391 [==============================] - 3s 7ms/step - loss: 0.4098 - accuracy: 0.8521 - val_loss: 0.3730 - val_accuracy: 0.8644\n",
            "Epoch 3/100\n",
            "381/391 [============================>.] - ETA: 0s - loss: 0.3691 - accuracy: 0.8666"
          ]
        },
        {
          "output_type": "stream",
          "name": "stderr",
          "text": [
            "/usr/local/lib/python3.10/dist-packages/keras/src/engine/training.py:3103: UserWarning: You are saving your model as an HDF5 file via `model.save()`. This file format is considered legacy. We recommend using instead the native Keras format, e.g. `model.save('my_model.keras')`.\n",
            "  saving_api.save_model(\n",
            "\u001b[34m\u001b[1mwandb\u001b[0m: Adding directory to artifact (/content/wandb/run-20240424_140239-699xrad9/files/model-best)... Done. 0.0s\n"
          ]
        },
        {
          "output_type": "stream",
          "name": "stdout",
          "text": [
            "\b\b\b\b\b\b\b\b\b\b\b\b\b\b\b\b\b\b\b\b\b\b\b\b\b\b\b\b\b\b\b\b\b\b\b\b\b\b\b\b\b\b\b\b\b\b\b\b\b\b\b\b\b\b\b\b\b\b\b\b\b\b\b\b\b\b\b\b\b\b\b\b\b\b\b\b\b\b\b\b\b\b\b\b\r391/391 [==============================] - 2s 6ms/step - loss: 0.3694 - accuracy: 0.8664 - val_loss: 0.3664 - val_accuracy: 0.8649\n",
            "Epoch 4/100\n",
            "390/391 [============================>.] - ETA: 0s - loss: 0.3470 - accuracy: 0.8741"
          ]
        },
        {
          "output_type": "stream",
          "name": "stderr",
          "text": [
            "/usr/local/lib/python3.10/dist-packages/keras/src/engine/training.py:3103: UserWarning: You are saving your model as an HDF5 file via `model.save()`. This file format is considered legacy. We recommend using instead the native Keras format, e.g. `model.save('my_model.keras')`.\n",
            "  saving_api.save_model(\n",
            "\u001b[34m\u001b[1mwandb\u001b[0m: Adding directory to artifact (/content/wandb/run-20240424_140239-699xrad9/files/model-best)... Done. 0.0s\n"
          ]
        },
        {
          "output_type": "stream",
          "name": "stdout",
          "text": [
            "\b\b\b\b\b\b\b\b\b\b\b\b\b\b\b\b\b\b\b\b\b\b\b\b\b\b\b\b\b\b\b\b\b\b\b\b\b\b\b\b\b\b\b\b\b\b\b\b\b\b\b\b\b\b\b\b\b\b\b\b\b\b\b\b\b\b\b\b\b\b\b\b\b\b\b\b\b\b\b\b\b\b\b\b\r391/391 [==============================] - 3s 7ms/step - loss: 0.3469 - accuracy: 0.8741 - val_loss: 0.3278 - val_accuracy: 0.8803\n",
            "Epoch 5/100\n",
            "376/391 [===========================>..] - ETA: 0s - loss: 0.3273 - accuracy: 0.8816"
          ]
        },
        {
          "output_type": "stream",
          "name": "stderr",
          "text": [
            "/usr/local/lib/python3.10/dist-packages/keras/src/engine/training.py:3103: UserWarning: You are saving your model as an HDF5 file via `model.save()`. This file format is considered legacy. We recommend using instead the native Keras format, e.g. `model.save('my_model.keras')`.\n",
            "  saving_api.save_model(\n",
            "\u001b[34m\u001b[1mwandb\u001b[0m: Adding directory to artifact (/content/wandb/run-20240424_140239-699xrad9/files/model-best)... Done. 0.0s\n"
          ]
        },
        {
          "output_type": "stream",
          "name": "stdout",
          "text": [
            "\b\b\b\b\b\b\b\b\b\b\b\b\b\b\b\b\b\b\b\b\b\b\b\b\b\b\b\b\b\b\b\b\b\b\b\b\b\b\b\b\b\b\b\b\b\b\b\b\b\b\b\b\b\b\b\b\b\b\b\b\b\b\b\b\b\b\b\b\b\b\b\b\b\b\b\b\b\b\b\b\b\b\b\b\r391/391 [==============================] - 2s 5ms/step - loss: 0.3270 - accuracy: 0.8818 - val_loss: 0.3276 - val_accuracy: 0.8821\n",
            "Epoch 6/100\n",
            "384/391 [============================>.] - ETA: 0s - loss: 0.3162 - accuracy: 0.8834"
          ]
        },
        {
          "output_type": "stream",
          "name": "stderr",
          "text": [
            "/usr/local/lib/python3.10/dist-packages/keras/src/engine/training.py:3103: UserWarning: You are saving your model as an HDF5 file via `model.save()`. This file format is considered legacy. We recommend using instead the native Keras format, e.g. `model.save('my_model.keras')`.\n",
            "  saving_api.save_model(\n",
            "\u001b[34m\u001b[1mwandb\u001b[0m: Adding directory to artifact (/content/wandb/run-20240424_140239-699xrad9/files/model-best)... Done. 0.0s\n"
          ]
        },
        {
          "output_type": "stream",
          "name": "stdout",
          "text": [
            "\b\b\b\b\b\b\b\b\b\b\b\b\b\b\b\b\b\b\b\b\b\b\b\b\b\b\b\b\b\b\b\b\b\b\b\b\b\b\b\b\b\b\b\b\b\b\b\b\b\b\b\b\b\b\b\b\b\b\b\b\b\b\b\b\b\b\b\b\b\b\b\b\b\b\b\b\b\b\b\b\b\b\b\b\r391/391 [==============================] - 2s 5ms/step - loss: 0.3161 - accuracy: 0.8834 - val_loss: 0.3106 - val_accuracy: 0.8897\n",
            "Epoch 7/100\n",
            "391/391 [==============================] - 1s 4ms/step - loss: 0.3102 - accuracy: 0.8850 - val_loss: 0.3291 - val_accuracy: 0.8796\n",
            "Epoch 8/100\n",
            "380/391 [============================>.] - ETA: 0s - loss: 0.2948 - accuracy: 0.8914"
          ]
        },
        {
          "output_type": "stream",
          "name": "stderr",
          "text": [
            "/usr/local/lib/python3.10/dist-packages/keras/src/engine/training.py:3103: UserWarning: You are saving your model as an HDF5 file via `model.save()`. This file format is considered legacy. We recommend using instead the native Keras format, e.g. `model.save('my_model.keras')`.\n",
            "  saving_api.save_model(\n",
            "\u001b[34m\u001b[1mwandb\u001b[0m: Adding directory to artifact (/content/wandb/run-20240424_140239-699xrad9/files/model-best)... Done. 0.0s\n"
          ]
        },
        {
          "output_type": "stream",
          "name": "stdout",
          "text": [
            "\b\b\b\b\b\b\b\b\b\b\b\b\b\b\b\b\b\b\b\b\b\b\b\b\b\b\b\b\b\b\b\b\b\b\b\b\b\b\b\b\b\b\b\b\b\b\b\b\b\b\b\b\b\b\b\b\b\b\b\b\b\b\b\b\b\b\b\b\b\b\b\b\b\b\b\b\b\b\b\b\b\b\b\b\r391/391 [==============================] - 2s 6ms/step - loss: 0.2946 - accuracy: 0.8915 - val_loss: 0.3080 - val_accuracy: 0.8867\n",
            "Epoch 9/100\n",
            "391/391 [==============================] - 2s 4ms/step - loss: 0.2880 - accuracy: 0.8928 - val_loss: 0.3087 - val_accuracy: 0.8890\n",
            "Epoch 10/100\n",
            "388/391 [============================>.] - ETA: 0s - loss: 0.2780 - accuracy: 0.8971"
          ]
        },
        {
          "output_type": "stream",
          "name": "stderr",
          "text": [
            "/usr/local/lib/python3.10/dist-packages/keras/src/engine/training.py:3103: UserWarning: You are saving your model as an HDF5 file via `model.save()`. This file format is considered legacy. We recommend using instead the native Keras format, e.g. `model.save('my_model.keras')`.\n",
            "  saving_api.save_model(\n",
            "\u001b[34m\u001b[1mwandb\u001b[0m: Adding directory to artifact (/content/wandb/run-20240424_140239-699xrad9/files/model-best)... Done. 0.0s\n"
          ]
        },
        {
          "output_type": "stream",
          "name": "stdout",
          "text": [
            "\b\b\b\b\b\b\b\b\b\b\b\b\b\b\b\b\b\b\b\b\b\b\b\b\b\b\b\b\b\b\b\b\b\b\b\b\b\b\b\b\b\b\b\b\b\b\b\b\b\b\b\b\b\b\b\b\b\b\b\b\b\b\b\b\b\b\b\b\b\b\b\b\b\b\b\b\b\b\b\b\b\b\b\b\r391/391 [==============================] - 3s 7ms/step - loss: 0.2781 - accuracy: 0.8971 - val_loss: 0.2915 - val_accuracy: 0.8918\n",
            "Epoch 11/100\n",
            "391/391 [==============================] - 2s 4ms/step - loss: 0.2701 - accuracy: 0.9014 - val_loss: 0.2946 - val_accuracy: 0.8948\n",
            "Epoch 12/100\n",
            "378/391 [============================>.] - ETA: 0s - loss: 0.2621 - accuracy: 0.9021"
          ]
        },
        {
          "output_type": "stream",
          "name": "stderr",
          "text": [
            "/usr/local/lib/python3.10/dist-packages/keras/src/engine/training.py:3103: UserWarning: You are saving your model as an HDF5 file via `model.save()`. This file format is considered legacy. We recommend using instead the native Keras format, e.g. `model.save('my_model.keras')`.\n",
            "  saving_api.save_model(\n",
            "\u001b[34m\u001b[1mwandb\u001b[0m: Adding directory to artifact (/content/wandb/run-20240424_140239-699xrad9/files/model-best)... Done. 0.0s\n"
          ]
        },
        {
          "output_type": "stream",
          "name": "stdout",
          "text": [
            "\b\b\b\b\b\b\b\b\b\b\b\b\b\b\b\b\b\b\b\b\b\b\b\b\b\b\b\b\b\b\b\b\b\b\b\b\b\b\b\b\b\b\b\b\b\b\b\b\b\b\b\b\b\b\b\b\b\b\b\b\b\b\b\b\b\b\b\b\b\b\b\b\b\b\b\b\b\b\b\b\b\b\b\b\r391/391 [==============================] - 2s 5ms/step - loss: 0.2626 - accuracy: 0.9019 - val_loss: 0.2884 - val_accuracy: 0.8920\n",
            "Epoch 13/100\n",
            "391/391 [==============================] - 1s 4ms/step - loss: 0.2586 - accuracy: 0.9039 - val_loss: 0.2930 - val_accuracy: 0.8937\n",
            "Epoch 14/100\n",
            "383/391 [============================>.] - ETA: 0s - loss: 0.2515 - accuracy: 0.9059"
          ]
        },
        {
          "output_type": "stream",
          "name": "stderr",
          "text": [
            "/usr/local/lib/python3.10/dist-packages/keras/src/engine/training.py:3103: UserWarning: You are saving your model as an HDF5 file via `model.save()`. This file format is considered legacy. We recommend using instead the native Keras format, e.g. `model.save('my_model.keras')`.\n",
            "  saving_api.save_model(\n",
            "\u001b[34m\u001b[1mwandb\u001b[0m: Adding directory to artifact (/content/wandb/run-20240424_140239-699xrad9/files/model-best)... Done. 0.0s\n"
          ]
        },
        {
          "output_type": "stream",
          "name": "stdout",
          "text": [
            "\b\b\b\b\b\b\b\b\b\b\b\b\b\b\b\b\b\b\b\b\b\b\b\b\b\b\b\b\b\b\b\b\b\b\b\b\b\b\b\b\b\b\b\b\b\b\b\b\b\b\b\b\b\b\b\b\b\b\b\b\b\b\b\b\b\b\b\b\b\b\b\b\b\b\b\b\b\b\b\b\b\b\b\b\r391/391 [==============================] - 2s 6ms/step - loss: 0.2510 - accuracy: 0.9062 - val_loss: 0.2869 - val_accuracy: 0.8948\n",
            "Epoch 15/100\n",
            "391/391 [==============================] - 2s 4ms/step - loss: 0.2457 - accuracy: 0.9094 - val_loss: 0.2976 - val_accuracy: 0.8940\n",
            "Epoch 16/100\n",
            "391/391 [==============================] - 2s 5ms/step - loss: 0.2430 - accuracy: 0.9091 - val_loss: 0.2876 - val_accuracy: 0.8942\n",
            "Epoch 17/100\n",
            "391/391 [==============================] - 2s 4ms/step - loss: 0.2332 - accuracy: 0.9127 - val_loss: 0.2882 - val_accuracy: 0.8936\n",
            "Epoch 18/100\n",
            "391/391 [==============================] - 1s 4ms/step - loss: 0.2300 - accuracy: 0.9123 - val_loss: 0.2886 - val_accuracy: 0.8930\n",
            "Epoch 19/100\n",
            "391/391 [==============================] - 2s 4ms/step - loss: 0.2273 - accuracy: 0.9149 - val_loss: 0.2912 - val_accuracy: 0.8942\n",
            "Epoch 20/100\n",
            "391/391 [==============================] - 1s 4ms/step - loss: 0.2217 - accuracy: 0.9172 - val_loss: 0.3030 - val_accuracy: 0.8919\n",
            "Epoch 21/100\n",
            "391/391 [==============================] - 2s 4ms/step - loss: 0.2184 - accuracy: 0.9180 - val_loss: 0.2944 - val_accuracy: 0.8967\n",
            "Epoch 22/100\n",
            "391/391 [==============================] - 2s 4ms/step - loss: 0.2155 - accuracy: 0.9194 - val_loss: 0.2889 - val_accuracy: 0.8970\n",
            "Epoch 23/100\n",
            "379/391 [============================>.] - ETA: 0s - loss: 0.2093 - accuracy: 0.9208"
          ]
        },
        {
          "output_type": "stream",
          "name": "stderr",
          "text": [
            "/usr/local/lib/python3.10/dist-packages/keras/src/engine/training.py:3103: UserWarning: You are saving your model as an HDF5 file via `model.save()`. This file format is considered legacy. We recommend using instead the native Keras format, e.g. `model.save('my_model.keras')`.\n",
            "  saving_api.save_model(\n",
            "\u001b[34m\u001b[1mwandb\u001b[0m: Adding directory to artifact (/content/wandb/run-20240424_140239-699xrad9/files/model-best)... Done. 0.0s\n"
          ]
        },
        {
          "output_type": "stream",
          "name": "stdout",
          "text": [
            "\b\b\b\b\b\b\b\b\b\b\b\b\b\b\b\b\b\b\b\b\b\b\b\b\b\b\b\b\b\b\b\b\b\b\b\b\b\b\b\b\b\b\b\b\b\b\b\b\b\b\b\b\b\b\b\b\b\b\b\b\b\b\b\b\b\b\b\b\b\b\b\b\b\b\b\b\b\b\b\b\b\b\b\b\r391/391 [==============================] - 2s 6ms/step - loss: 0.2096 - accuracy: 0.9208 - val_loss: 0.2827 - val_accuracy: 0.8992\n",
            "Epoch 24/100\n",
            "391/391 [==============================] - 2s 5ms/step - loss: 0.2069 - accuracy: 0.9221 - val_loss: 0.2898 - val_accuracy: 0.8985\n",
            "Epoch 25/100\n",
            "379/391 [============================>.] - ETA: 0s - loss: 0.2025 - accuracy: 0.9246"
          ]
        },
        {
          "output_type": "stream",
          "name": "stderr",
          "text": [
            "/usr/local/lib/python3.10/dist-packages/keras/src/engine/training.py:3103: UserWarning: You are saving your model as an HDF5 file via `model.save()`. This file format is considered legacy. We recommend using instead the native Keras format, e.g. `model.save('my_model.keras')`.\n",
            "  saving_api.save_model(\n",
            "\u001b[34m\u001b[1mwandb\u001b[0m: Adding directory to artifact (/content/wandb/run-20240424_140239-699xrad9/files/model-best)... Done. 0.0s\n"
          ]
        },
        {
          "output_type": "stream",
          "name": "stdout",
          "text": [
            "\b\b\b\b\b\b\b\b\b\b\b\b\b\b\b\b\b\b\b\b\b\b\b\b\b\b\b\b\b\b\b\b\b\b\b\b\b\b\b\b\b\b\b\b\b\b\b\b\b\b\b\b\b\b\b\b\b\b\b\b\b\b\b\b\b\b\b\b\b\b\b\b\b\b\b\b\b\b\b\b\b\b\b\b\r391/391 [==============================] - 2s 6ms/step - loss: 0.2029 - accuracy: 0.9241 - val_loss: 0.2823 - val_accuracy: 0.8977\n",
            "Epoch 26/100\n",
            "391/391 [==============================] - 2s 4ms/step - loss: 0.1981 - accuracy: 0.9256 - val_loss: 0.2860 - val_accuracy: 0.8974\n",
            "Epoch 27/100\n",
            "391/391 [==============================] - 1s 4ms/step - loss: 0.1978 - accuracy: 0.9255 - val_loss: 0.2901 - val_accuracy: 0.8983\n",
            "Epoch 28/100\n",
            "391/391 [==============================] - 1s 4ms/step - loss: 0.1934 - accuracy: 0.9265 - val_loss: 0.2988 - val_accuracy: 0.8964\n",
            "Epoch 29/100\n",
            "391/391 [==============================] - 2s 4ms/step - loss: 0.1889 - accuracy: 0.9282 - val_loss: 0.2941 - val_accuracy: 0.8975\n",
            "Epoch 30/100\n",
            "391/391 [==============================] - 2s 4ms/step - loss: 0.1854 - accuracy: 0.9282 - val_loss: 0.3023 - val_accuracy: 0.8948\n",
            "Epoch 31/100\n",
            "391/391 [==============================] - 2s 5ms/step - loss: 0.1823 - accuracy: 0.9317 - val_loss: 0.3032 - val_accuracy: 0.8991\n",
            "Epoch 32/100\n",
            "391/391 [==============================] - 2s 4ms/step - loss: 0.1791 - accuracy: 0.9326 - val_loss: 0.3088 - val_accuracy: 0.8972\n",
            "Epoch 33/100\n",
            "391/391 [==============================] - 2s 4ms/step - loss: 0.1755 - accuracy: 0.9338 - val_loss: 0.3006 - val_accuracy: 0.8997\n",
            "Epoch 34/100\n",
            "391/391 [==============================] - 2s 4ms/step - loss: 0.1757 - accuracy: 0.9337 - val_loss: 0.3098 - val_accuracy: 0.8976\n",
            "Epoch 35/100\n",
            "391/391 [==============================] - 1s 4ms/step - loss: 0.1712 - accuracy: 0.9349 - val_loss: 0.3047 - val_accuracy: 0.8989\n",
            "Epoch 36/100\n",
            "391/391 [==============================] - 1s 4ms/step - loss: 0.1651 - accuracy: 0.9377 - val_loss: 0.3072 - val_accuracy: 0.8986\n",
            "Epoch 37/100\n",
            "391/391 [==============================] - 1s 4ms/step - loss: 0.1646 - accuracy: 0.9381 - val_loss: 0.3184 - val_accuracy: 0.8959\n",
            "Epoch 38/100\n",
            "391/391 [==============================] - 2s 5ms/step - loss: 0.1612 - accuracy: 0.9385 - val_loss: 0.3091 - val_accuracy: 0.8996\n",
            "Epoch 39/100\n",
            "391/391 [==============================] - 2s 5ms/step - loss: 0.1614 - accuracy: 0.9387 - val_loss: 0.3057 - val_accuracy: 0.8997\n",
            "Epoch 40/100\n",
            "391/391 [==============================] - 1s 4ms/step - loss: 0.1590 - accuracy: 0.9395 - val_loss: 0.3137 - val_accuracy: 0.8984\n",
            "Epoch 41/100\n",
            "391/391 [==============================] - 1s 4ms/step - loss: 0.1605 - accuracy: 0.9389 - val_loss: 0.3158 - val_accuracy: 0.8948\n",
            "Epoch 42/100\n",
            "391/391 [==============================] - 1s 4ms/step - loss: 0.1559 - accuracy: 0.9404 - val_loss: 0.3119 - val_accuracy: 0.8997\n",
            "Epoch 43/100\n",
            "391/391 [==============================] - 2s 4ms/step - loss: 0.1517 - accuracy: 0.9426 - val_loss: 0.3168 - val_accuracy: 0.8985\n",
            "Epoch 44/100\n",
            "391/391 [==============================] - 1s 4ms/step - loss: 0.1506 - accuracy: 0.9429 - val_loss: 0.3146 - val_accuracy: 0.8991\n",
            "Epoch 45/100\n",
            "391/391 [==============================] - 1s 4ms/step - loss: 0.1511 - accuracy: 0.9425 - val_loss: 0.3191 - val_accuracy: 0.9019\n",
            "Epoch 46/100\n",
            "391/391 [==============================] - 2s 5ms/step - loss: 0.1458 - accuracy: 0.9444 - val_loss: 0.3148 - val_accuracy: 0.9003\n",
            "Epoch 47/100\n",
            "391/391 [==============================] - 2s 5ms/step - loss: 0.1440 - accuracy: 0.9449 - val_loss: 0.3110 - val_accuracy: 0.8991\n",
            "Epoch 48/100\n",
            "391/391 [==============================] - 2s 4ms/step - loss: 0.1454 - accuracy: 0.9438 - val_loss: 0.3265 - val_accuracy: 0.9015\n",
            "Epoch 49/100\n",
            "391/391 [==============================] - 2s 4ms/step - loss: 0.1429 - accuracy: 0.9457 - val_loss: 0.3169 - val_accuracy: 0.9015\n",
            "Epoch 50/100\n",
            "391/391 [==============================] - 2s 4ms/step - loss: 0.1406 - accuracy: 0.9456 - val_loss: 0.3174 - val_accuracy: 0.9018\n",
            "Epoch 51/100\n",
            "391/391 [==============================] - 2s 4ms/step - loss: 0.1359 - accuracy: 0.9471 - val_loss: 0.3281 - val_accuracy: 0.9004\n",
            "Epoch 52/100\n",
            "391/391 [==============================] - 2s 4ms/step - loss: 0.1362 - accuracy: 0.9486 - val_loss: 0.3285 - val_accuracy: 0.9002\n",
            "Epoch 53/100\n",
            "391/391 [==============================] - 2s 4ms/step - loss: 0.1341 - accuracy: 0.9491 - val_loss: 0.3286 - val_accuracy: 0.9015\n",
            "Epoch 54/100\n",
            "391/391 [==============================] - 2s 5ms/step - loss: 0.1308 - accuracy: 0.9503 - val_loss: 0.3315 - val_accuracy: 0.9030\n",
            "Epoch 55/100\n",
            "391/391 [==============================] - 1s 4ms/step - loss: 0.1320 - accuracy: 0.9505 - val_loss: 0.3285 - val_accuracy: 0.9009\n",
            "Epoch 56/100\n",
            "391/391 [==============================] - 1s 4ms/step - loss: 0.1298 - accuracy: 0.9516 - val_loss: 0.3514 - val_accuracy: 0.8989\n",
            "Epoch 57/100\n",
            "391/391 [==============================] - 2s 4ms/step - loss: 0.1266 - accuracy: 0.9510 - val_loss: 0.3292 - val_accuracy: 0.8993\n",
            "Epoch 58/100\n",
            "391/391 [==============================] - 2s 4ms/step - loss: 0.1259 - accuracy: 0.9516 - val_loss: 0.3343 - val_accuracy: 0.8988\n",
            "Epoch 59/100\n",
            "391/391 [==============================] - 2s 4ms/step - loss: 0.1254 - accuracy: 0.9518 - val_loss: 0.3477 - val_accuracy: 0.9021\n",
            "Epoch 60/100\n",
            "391/391 [==============================] - 1s 4ms/step - loss: 0.1229 - accuracy: 0.9533 - val_loss: 0.3469 - val_accuracy: 0.9025\n",
            "Epoch 61/100\n",
            "391/391 [==============================] - 2s 4ms/step - loss: 0.1189 - accuracy: 0.9540 - val_loss: 0.3621 - val_accuracy: 0.8987\n",
            "Epoch 62/100\n",
            "391/391 [==============================] - 2s 5ms/step - loss: 0.1218 - accuracy: 0.9537 - val_loss: 0.3584 - val_accuracy: 0.9032\n",
            "Epoch 63/100\n",
            "391/391 [==============================] - 1s 4ms/step - loss: 0.1202 - accuracy: 0.9556 - val_loss: 0.3570 - val_accuracy: 0.8986\n",
            "Epoch 64/100\n",
            "391/391 [==============================] - 2s 4ms/step - loss: 0.1160 - accuracy: 0.9560 - val_loss: 0.3691 - val_accuracy: 0.9001\n",
            "Epoch 65/100\n",
            "391/391 [==============================] - 2s 4ms/step - loss: 0.1176 - accuracy: 0.9543 - val_loss: 0.3589 - val_accuracy: 0.9043\n",
            "Epoch 66/100\n",
            "391/391 [==============================] - 2s 4ms/step - loss: 0.1180 - accuracy: 0.9547 - val_loss: 0.3560 - val_accuracy: 0.9000\n",
            "Epoch 67/100\n",
            "391/391 [==============================] - 1s 4ms/step - loss: 0.1156 - accuracy: 0.9554 - val_loss: 0.3608 - val_accuracy: 0.9019\n",
            "Epoch 68/100\n",
            "391/391 [==============================] - 1s 4ms/step - loss: 0.1102 - accuracy: 0.9582 - val_loss: 0.3706 - val_accuracy: 0.8999\n",
            "Epoch 69/100\n",
            "391/391 [==============================] - 2s 5ms/step - loss: 0.1147 - accuracy: 0.9554 - val_loss: 0.3577 - val_accuracy: 0.9017\n",
            "Epoch 70/100\n",
            "391/391 [==============================] - 2s 5ms/step - loss: 0.1101 - accuracy: 0.9578 - val_loss: 0.3568 - val_accuracy: 0.9040\n",
            "Epoch 71/100\n",
            "391/391 [==============================] - 1s 4ms/step - loss: 0.1117 - accuracy: 0.9581 - val_loss: 0.3628 - val_accuracy: 0.9014\n",
            "Epoch 72/100\n",
            "391/391 [==============================] - 2s 4ms/step - loss: 0.1078 - accuracy: 0.9592 - val_loss: 0.3590 - val_accuracy: 0.9011\n",
            "Epoch 73/100\n",
            "391/391 [==============================] - 1s 4ms/step - loss: 0.1072 - accuracy: 0.9588 - val_loss: 0.3829 - val_accuracy: 0.8983\n",
            "Epoch 74/100\n",
            "391/391 [==============================] - 2s 4ms/step - loss: 0.1100 - accuracy: 0.9580 - val_loss: 0.3573 - val_accuracy: 0.9011\n",
            "Epoch 75/100\n",
            "391/391 [==============================] - 2s 4ms/step - loss: 0.1082 - accuracy: 0.9589 - val_loss: 0.3693 - val_accuracy: 0.9013\n",
            "Epoch 76/100\n",
            "391/391 [==============================] - 2s 4ms/step - loss: 0.1063 - accuracy: 0.9594 - val_loss: 0.3738 - val_accuracy: 0.9023\n",
            "Epoch 77/100\n",
            "391/391 [==============================] - 2s 6ms/step - loss: 0.1019 - accuracy: 0.9612 - val_loss: 0.3856 - val_accuracy: 0.9022\n",
            "Epoch 78/100\n",
            "391/391 [==============================] - 2s 4ms/step - loss: 0.1029 - accuracy: 0.9607 - val_loss: 0.3820 - val_accuracy: 0.8995\n",
            "Epoch 79/100\n",
            "391/391 [==============================] - 1s 4ms/step - loss: 0.1025 - accuracy: 0.9616 - val_loss: 0.3956 - val_accuracy: 0.9006\n",
            "Epoch 80/100\n",
            "391/391 [==============================] - 2s 4ms/step - loss: 0.1025 - accuracy: 0.9605 - val_loss: 0.3763 - val_accuracy: 0.9044\n",
            "Epoch 81/100\n",
            "391/391 [==============================] - 1s 4ms/step - loss: 0.0984 - accuracy: 0.9622 - val_loss: 0.3904 - val_accuracy: 0.9024\n",
            "Epoch 82/100\n",
            "391/391 [==============================] - 2s 4ms/step - loss: 0.1052 - accuracy: 0.9591 - val_loss: 0.4039 - val_accuracy: 0.9027\n",
            "Epoch 83/100\n",
            "391/391 [==============================] - 1s 4ms/step - loss: 0.0969 - accuracy: 0.9626 - val_loss: 0.3948 - val_accuracy: 0.9039\n",
            "Epoch 84/100\n",
            "391/391 [==============================] - 2s 5ms/step - loss: 0.0953 - accuracy: 0.9633 - val_loss: 0.3999 - val_accuracy: 0.9035\n",
            "Epoch 85/100\n",
            "391/391 [==============================] - 2s 5ms/step - loss: 0.0976 - accuracy: 0.9629 - val_loss: 0.4077 - val_accuracy: 0.9029\n",
            "Epoch 86/100\n",
            "391/391 [==============================] - 1s 4ms/step - loss: 0.0975 - accuracy: 0.9634 - val_loss: 0.3941 - val_accuracy: 0.9008\n",
            "Epoch 87/100\n",
            "391/391 [==============================] - 2s 4ms/step - loss: 0.0931 - accuracy: 0.9636 - val_loss: 0.4060 - val_accuracy: 0.9017\n",
            "Epoch 88/100\n",
            "391/391 [==============================] - 2s 4ms/step - loss: 0.0957 - accuracy: 0.9630 - val_loss: 0.3947 - val_accuracy: 0.9026\n",
            "Epoch 89/100\n",
            "391/391 [==============================] - 1s 4ms/step - loss: 0.0935 - accuracy: 0.9639 - val_loss: 0.4018 - val_accuracy: 0.9017\n",
            "Epoch 90/100\n",
            "391/391 [==============================] - 2s 4ms/step - loss: 0.0925 - accuracy: 0.9644 - val_loss: 0.4326 - val_accuracy: 0.9002\n",
            "Epoch 91/100\n",
            "391/391 [==============================] - 2s 4ms/step - loss: 0.0917 - accuracy: 0.9652 - val_loss: 0.4125 - val_accuracy: 0.8989\n",
            "Epoch 92/100\n",
            "391/391 [==============================] - 2s 5ms/step - loss: 0.0926 - accuracy: 0.9639 - val_loss: 0.4164 - val_accuracy: 0.9009\n",
            "Epoch 93/100\n",
            "391/391 [==============================] - 2s 4ms/step - loss: 0.0894 - accuracy: 0.9652 - val_loss: 0.4226 - val_accuracy: 0.9015\n",
            "Epoch 94/100\n",
            "391/391 [==============================] - 2s 4ms/step - loss: 0.0876 - accuracy: 0.9656 - val_loss: 0.3992 - val_accuracy: 0.9041\n",
            "Epoch 95/100\n",
            "391/391 [==============================] - 2s 4ms/step - loss: 0.0876 - accuracy: 0.9657 - val_loss: 0.4043 - val_accuracy: 0.9014\n",
            "Epoch 96/100\n",
            "391/391 [==============================] - 2s 4ms/step - loss: 0.0898 - accuracy: 0.9648 - val_loss: 0.4192 - val_accuracy: 0.9010\n",
            "Epoch 97/100\n",
            "391/391 [==============================] - 2s 4ms/step - loss: 0.0896 - accuracy: 0.9657 - val_loss: 0.4271 - val_accuracy: 0.9038\n",
            "Epoch 98/100\n",
            "391/391 [==============================] - 1s 4ms/step - loss: 0.0883 - accuracy: 0.9656 - val_loss: 0.4465 - val_accuracy: 0.9027\n",
            "Epoch 99/100\n",
            "391/391 [==============================] - 2s 5ms/step - loss: 0.0881 - accuracy: 0.9658 - val_loss: 0.4113 - val_accuracy: 0.9028\n",
            "Epoch 100/100\n",
            "391/391 [==============================] - 2s 5ms/step - loss: 0.0899 - accuracy: 0.9648 - val_loss: 0.4107 - val_accuracy: 0.9018\n"
          ]
        },
        {
          "output_type": "display_data",
          "data": {
            "text/plain": [
              "VBox(children=(Label(value='57.006 MB of 57.006 MB uploaded (0.080 MB deduped)\\r'), FloatProgress(value=1.0, m…"
            ],
            "application/vnd.jupyter.widget-view+json": {
              "version_major": 2,
              "version_minor": 0,
              "model_id": "05dae28880bc42df9190318ff119b3d9"
            }
          },
          "metadata": {}
        },
        {
          "output_type": "display_data",
          "data": {
            "text/plain": [
              "<IPython.core.display.HTML object>"
            ],
            "text/html": [
              "<style>\n",
              "    table.wandb td:nth-child(1) { padding: 0 10px; text-align: left ; width: auto;} td:nth-child(2) {text-align: left ; width: 100%}\n",
              "    .wandb-row { display: flex; flex-direction: row; flex-wrap: wrap; justify-content: flex-start; width: 100% }\n",
              "    .wandb-col { display: flex; flex-direction: column; flex-basis: 100%; flex: 1; padding: 10px; }\n",
              "    </style>\n",
              "<div class=\"wandb-row\"><div class=\"wandb-col\"><h3>Run history:</h3><br/><table class=\"wandb\"><tr><td>accuracy</td><td>▁▄▄▅▅▅▆▆▆▆▆▆▇▇▇▇▇▇▇▇▇▇▇▇▇███████████████</td></tr><tr><td>epoch</td><td>▁▁▁▁▂▂▂▂▂▃▃▃▃▃▃▄▄▄▄▄▅▅▅▅▅▅▆▆▆▆▆▇▇▇▇▇▇███</td></tr><tr><td>loss</td><td>█▅▄▄▄▄▃▃▃▃▃▃▂▂▂▂▂▂▂▂▂▂▂▂▁▁▁▁▁▁▁▁▁▁▁▁▁▁▁▁</td></tr><tr><td>val_accuracy</td><td>▁▃▆▆▇▇▇▆▇▇▇▇▇▇▇▇▇▇▇█▇█▇█▇▇██████████████</td></tr><tr><td>val_loss</td><td>▇▅▂▂▂▁▁▁▂▁▁▂▂▂▂▂▃▃▃▃▃▃▄▄▅▅▅▅▅▅▆▆▇▇▇▇▇▇█▇</td></tr></table><br/></div><div class=\"wandb-col\"><h3>Run summary:</h3><br/><table class=\"wandb\"><tr><td>accuracy</td><td>0.9648</td></tr><tr><td>best_epoch</td><td>24</td></tr><tr><td>best_val_loss</td><td>0.28229</td></tr><tr><td>epoch</td><td>99</td></tr><tr><td>loss</td><td>0.08994</td></tr><tr><td>val_accuracy</td><td>0.9018</td></tr><tr><td>val_loss</td><td>0.41073</td></tr></table><br/></div></div>"
            ]
          },
          "metadata": {}
        },
        {
          "output_type": "display_data",
          "data": {
            "text/plain": [
              "<IPython.core.display.HTML object>"
            ],
            "text/html": [
              " View run <strong style=\"color:#cdcd00\">dark-sweep-8</strong> at: <a href='https://wandb.ai/pkasnesis/aidl-a02-week5/runs/699xrad9' target=\"_blank\">https://wandb.ai/pkasnesis/aidl-a02-week5/runs/699xrad9</a><br/> View project at: <a href='https://wandb.ai/pkasnesis/aidl-a02-week5' target=\"_blank\">https://wandb.ai/pkasnesis/aidl-a02-week5</a><br/>Synced 5 W&B file(s), 1 media file(s), 60 artifact file(s) and 1 other file(s)"
            ]
          },
          "metadata": {}
        },
        {
          "output_type": "display_data",
          "data": {
            "text/plain": [
              "<IPython.core.display.HTML object>"
            ],
            "text/html": [
              "Find logs at: <code>./wandb/run-20240424_140239-699xrad9/logs</code>"
            ]
          },
          "metadata": {}
        },
        {
          "output_type": "stream",
          "name": "stderr",
          "text": [
            "\u001b[34m\u001b[1mwandb\u001b[0m: Agent Starting Run: wxjgnm6e with config:\n",
            "\u001b[34m\u001b[1mwandb\u001b[0m: \tdropout: 0.3\n",
            "\u001b[34m\u001b[1mwandb\u001b[0m: \tepochs: 100\n",
            "\u001b[34m\u001b[1mwandb\u001b[0m: \tfc_layer_size: 512\n",
            "\u001b[34m\u001b[1mwandb\u001b[0m: \tlearning-rate: 0.005\n"
          ]
        },
        {
          "output_type": "display_data",
          "data": {
            "text/plain": [
              "<IPython.core.display.HTML object>"
            ],
            "text/html": [
              "Tracking run with wandb version 0.16.6"
            ]
          },
          "metadata": {}
        },
        {
          "output_type": "display_data",
          "data": {
            "text/plain": [
              "<IPython.core.display.HTML object>"
            ],
            "text/html": [
              "Run data is saved locally in <code>/content/wandb/run-20240424_140622-wxjgnm6e</code>"
            ]
          },
          "metadata": {}
        },
        {
          "output_type": "display_data",
          "data": {
            "text/plain": [
              "<IPython.core.display.HTML object>"
            ],
            "text/html": [
              "Syncing run <strong><a href='https://wandb.ai/pkasnesis/aidl-a02-week5/runs/wxjgnm6e' target=\"_blank\">trim-sweep-9</a></strong> to <a href='https://wandb.ai/pkasnesis/aidl-a02-week5' target=\"_blank\">Weights & Biases</a> (<a href='https://wandb.me/run' target=\"_blank\">docs</a>)<br/>Sweep page: <a href='https://wandb.ai/pkasnesis/aidl-a02-week5/sweeps/846jlb6t' target=\"_blank\">https://wandb.ai/pkasnesis/aidl-a02-week5/sweeps/846jlb6t</a>"
            ]
          },
          "metadata": {}
        },
        {
          "output_type": "display_data",
          "data": {
            "text/plain": [
              "<IPython.core.display.HTML object>"
            ],
            "text/html": [
              " View project at <a href='https://wandb.ai/pkasnesis/aidl-a02-week5' target=\"_blank\">https://wandb.ai/pkasnesis/aidl-a02-week5</a>"
            ]
          },
          "metadata": {}
        },
        {
          "output_type": "display_data",
          "data": {
            "text/plain": [
              "<IPython.core.display.HTML object>"
            ],
            "text/html": [
              " View sweep at <a href='https://wandb.ai/pkasnesis/aidl-a02-week5/sweeps/846jlb6t' target=\"_blank\">https://wandb.ai/pkasnesis/aidl-a02-week5/sweeps/846jlb6t</a>"
            ]
          },
          "metadata": {}
        },
        {
          "output_type": "display_data",
          "data": {
            "text/plain": [
              "<IPython.core.display.HTML object>"
            ],
            "text/html": [
              " View run at <a href='https://wandb.ai/pkasnesis/aidl-a02-week5/runs/wxjgnm6e' target=\"_blank\">https://wandb.ai/pkasnesis/aidl-a02-week5/runs/wxjgnm6e</a>"
            ]
          },
          "metadata": {}
        },
        {
          "output_type": "stream",
          "name": "stderr",
          "text": [
            "WARNING:absl:`lr` is deprecated in Keras optimizer, please use `learning_rate` or use the legacy optimizer, e.g.,tf.keras.optimizers.legacy.Adam.\n"
          ]
        },
        {
          "output_type": "stream",
          "name": "stdout",
          "text": [
            "Epoch 1/100\n",
            "391/391 [==============================] - ETA: 0s - loss: 0.5580 - accuracy: 0.8043"
          ]
        },
        {
          "output_type": "stream",
          "name": "stderr",
          "text": [
            "/usr/local/lib/python3.10/dist-packages/keras/src/engine/training.py:3103: UserWarning: You are saving your model as an HDF5 file via `model.save()`. This file format is considered legacy. We recommend using instead the native Keras format, e.g. `model.save('my_model.keras')`.\n",
            "  saving_api.save_model(\n",
            "\u001b[34m\u001b[1mwandb\u001b[0m: Adding directory to artifact (/content/wandb/run-20240424_140622-wxjgnm6e/files/model-best)... Done. 0.0s\n"
          ]
        },
        {
          "output_type": "stream",
          "name": "stdout",
          "text": [
            "\b\b\b\b\b\b\b\b\b\b\b\b\b\b\b\b\b\b\b\b\b\b\b\b\b\b\b\b\b\b\b\b\b\b\b\b\b\b\b\b\b\b\b\b\b\b\b\b\b\b\b\b\b\b\b\b\b\b\b\b\b\b\b\b\b\b\b\b\b\b\b\b\b\b\b\b\b\b\b\b\b\b\b\b\r391/391 [==============================] - 3s 6ms/step - loss: 0.5580 - accuracy: 0.8043 - val_loss: 0.4124 - val_accuracy: 0.8571\n",
            "Epoch 2/100\n",
            "389/391 [============================>.] - ETA: 0s - loss: 0.4099 - accuracy: 0.8536"
          ]
        },
        {
          "output_type": "stream",
          "name": "stderr",
          "text": [
            "/usr/local/lib/python3.10/dist-packages/keras/src/engine/training.py:3103: UserWarning: You are saving your model as an HDF5 file via `model.save()`. This file format is considered legacy. We recommend using instead the native Keras format, e.g. `model.save('my_model.keras')`.\n",
            "  saving_api.save_model(\n",
            "\u001b[34m\u001b[1mwandb\u001b[0m: Adding directory to artifact (/content/wandb/run-20240424_140622-wxjgnm6e/files/model-best)... Done. 0.0s\n"
          ]
        },
        {
          "output_type": "stream",
          "name": "stdout",
          "text": [
            "\b\b\b\b\b\b\b\b\b\b\b\b\b\b\b\b\b\b\b\b\b\b\b\b\b\b\b\b\b\b\b\b\b\b\b\b\b\b\b\b\b\b\b\b\b\b\b\b\b\b\b\b\b\b\b\b\b\b\b\b\b\b\b\b\b\b\b\b\b\b\b\b\b\b\b\b\b\b\b\b\b\b\b\b\r391/391 [==============================] - 2s 6ms/step - loss: 0.4100 - accuracy: 0.8535 - val_loss: 0.3705 - val_accuracy: 0.8642\n",
            "Epoch 3/100\n",
            "391/391 [==============================] - 2s 5ms/step - loss: 0.3713 - accuracy: 0.8653 - val_loss: 0.3717 - val_accuracy: 0.8599\n",
            "Epoch 4/100\n",
            "383/391 [============================>.] - ETA: 0s - loss: 0.3485 - accuracy: 0.8745"
          ]
        },
        {
          "output_type": "stream",
          "name": "stderr",
          "text": [
            "/usr/local/lib/python3.10/dist-packages/keras/src/engine/training.py:3103: UserWarning: You are saving your model as an HDF5 file via `model.save()`. This file format is considered legacy. We recommend using instead the native Keras format, e.g. `model.save('my_model.keras')`.\n",
            "  saving_api.save_model(\n",
            "\u001b[34m\u001b[1mwandb\u001b[0m: Adding directory to artifact (/content/wandb/run-20240424_140622-wxjgnm6e/files/model-best)... Done. 0.0s\n"
          ]
        },
        {
          "output_type": "stream",
          "name": "stdout",
          "text": [
            "\b\b\b\b\b\b\b\b\b\b\b\b\b\b\b\b\b\b\b\b\b\b\b\b\b\b\b\b\b\b\b\b\b\b\b\b\b\b\b\b\b\b\b\b\b\b\b\b\b\b\b\b\b\b\b\b\b\b\b\b\b\b\b\b\b\b\b\b\b\b\b\b\b\b\b\b\b\b\b\b\b\b\b\b\r391/391 [==============================] - 2s 6ms/step - loss: 0.3480 - accuracy: 0.8746 - val_loss: 0.3306 - val_accuracy: 0.8813\n",
            "Epoch 5/100\n",
            "391/391 [==============================] - 2s 4ms/step - loss: 0.3266 - accuracy: 0.8808 - val_loss: 0.3357 - val_accuracy: 0.8787\n",
            "Epoch 6/100\n",
            "389/391 [============================>.] - ETA: 0s - loss: 0.3163 - accuracy: 0.8839"
          ]
        },
        {
          "output_type": "stream",
          "name": "stderr",
          "text": [
            "/usr/local/lib/python3.10/dist-packages/keras/src/engine/training.py:3103: UserWarning: You are saving your model as an HDF5 file via `model.save()`. This file format is considered legacy. We recommend using instead the native Keras format, e.g. `model.save('my_model.keras')`.\n",
            "  saving_api.save_model(\n",
            "\u001b[34m\u001b[1mwandb\u001b[0m: Adding directory to artifact (/content/wandb/run-20240424_140622-wxjgnm6e/files/model-best)... Done. 0.0s\n"
          ]
        },
        {
          "output_type": "stream",
          "name": "stdout",
          "text": [
            "\b\b\b\b\b\b\b\b\b\b\b\b\b\b\b\b\b\b\b\b\b\b\b\b\b\b\b\b\b\b\b\b\b\b\b\b\b\b\b\b\b\b\b\b\b\b\b\b\b\b\b\b\b\b\b\b\b\b\b\b\b\b\b\b\b\b\b\b\b\b\b\b\b\b\b\b\b\b\b\b\b\b\b\b\r391/391 [==============================] - 2s 6ms/step - loss: 0.3163 - accuracy: 0.8838 - val_loss: 0.3196 - val_accuracy: 0.8850\n",
            "Epoch 7/100\n",
            "391/391 [==============================] - 1s 4ms/step - loss: 0.3064 - accuracy: 0.8869 - val_loss: 0.3226 - val_accuracy: 0.8805\n",
            "Epoch 8/100\n",
            "382/391 [============================>.] - ETA: 0s - loss: 0.2965 - accuracy: 0.8903"
          ]
        },
        {
          "output_type": "stream",
          "name": "stderr",
          "text": [
            "/usr/local/lib/python3.10/dist-packages/keras/src/engine/training.py:3103: UserWarning: You are saving your model as an HDF5 file via `model.save()`. This file format is considered legacy. We recommend using instead the native Keras format, e.g. `model.save('my_model.keras')`.\n",
            "  saving_api.save_model(\n",
            "\u001b[34m\u001b[1mwandb\u001b[0m: Adding directory to artifact (/content/wandb/run-20240424_140622-wxjgnm6e/files/model-best)... Done. 0.0s\n"
          ]
        },
        {
          "output_type": "stream",
          "name": "stdout",
          "text": [
            "\b\b\b\b\b\b\b\b\b\b\b\b\b\b\b\b\b\b\b\b\b\b\b\b\b\b\b\b\b\b\b\b\b\b\b\b\b\b\b\b\b\b\b\b\b\b\b\b\b\b\b\b\b\b\b\b\b\b\b\b\b\b\b\b\b\b\b\b\b\b\b\b\b\b\b\b\b\b\b\b\b\b\b\b\r391/391 [==============================] - 2s 6ms/step - loss: 0.2959 - accuracy: 0.8905 - val_loss: 0.3166 - val_accuracy: 0.8816\n",
            "Epoch 9/100\n",
            "381/391 [============================>.] - ETA: 0s - loss: 0.2879 - accuracy: 0.8951"
          ]
        },
        {
          "output_type": "stream",
          "name": "stderr",
          "text": [
            "/usr/local/lib/python3.10/dist-packages/keras/src/engine/training.py:3103: UserWarning: You are saving your model as an HDF5 file via `model.save()`. This file format is considered legacy. We recommend using instead the native Keras format, e.g. `model.save('my_model.keras')`.\n",
            "  saving_api.save_model(\n",
            "\u001b[34m\u001b[1mwandb\u001b[0m: Adding directory to artifact (/content/wandb/run-20240424_140622-wxjgnm6e/files/model-best)... Done. 0.0s\n"
          ]
        },
        {
          "output_type": "stream",
          "name": "stdout",
          "text": [
            "\b\b\b\b\b\b\b\b\b\b\b\b\b\b\b\b\b\b\b\b\b\b\b\b\b\b\b\b\b\b\b\b\b\b\b\b\b\b\b\b\b\b\b\b\b\b\b\b\b\b\b\b\b\b\b\b\b\b\b\b\b\b\b\b\b\b\b\b\b\b\b\b\b\b\b\b\b\b\b\b\b\b\b\b\r391/391 [==============================] - 3s 7ms/step - loss: 0.2875 - accuracy: 0.8950 - val_loss: 0.3054 - val_accuracy: 0.8889\n",
            "Epoch 10/100\n",
            "385/391 [============================>.] - ETA: 0s - loss: 0.2790 - accuracy: 0.8969"
          ]
        },
        {
          "output_type": "stream",
          "name": "stderr",
          "text": [
            "/usr/local/lib/python3.10/dist-packages/keras/src/engine/training.py:3103: UserWarning: You are saving your model as an HDF5 file via `model.save()`. This file format is considered legacy. We recommend using instead the native Keras format, e.g. `model.save('my_model.keras')`.\n",
            "  saving_api.save_model(\n",
            "\u001b[34m\u001b[1mwandb\u001b[0m: Adding directory to artifact (/content/wandb/run-20240424_140622-wxjgnm6e/files/model-best)... Done. 0.0s\n"
          ]
        },
        {
          "output_type": "stream",
          "name": "stdout",
          "text": [
            "\b\b\b\b\b\b\b\b\b\b\b\b\b\b\b\b\b\b\b\b\b\b\b\b\b\b\b\b\b\b\b\b\b\b\b\b\b\b\b\b\b\b\b\b\b\b\b\b\b\b\b\b\b\b\b\b\b\b\b\b\b\b\b\b\b\b\b\b\b\b\b\b\b\b\b\b\b\b\b\b\b\b\b\b\r391/391 [==============================] - 3s 8ms/step - loss: 0.2791 - accuracy: 0.8969 - val_loss: 0.2908 - val_accuracy: 0.8926\n",
            "Epoch 11/100\n",
            "391/391 [==============================] - 1s 4ms/step - loss: 0.2700 - accuracy: 0.9003 - val_loss: 0.3091 - val_accuracy: 0.8909\n",
            "Epoch 12/100\n",
            "391/391 [==============================] - 2s 4ms/step - loss: 0.2648 - accuracy: 0.9027 - val_loss: 0.2938 - val_accuracy: 0.8922\n",
            "Epoch 13/100\n",
            "391/391 [==============================] - 1s 4ms/step - loss: 0.2586 - accuracy: 0.9030 - val_loss: 0.2975 - val_accuracy: 0.8945\n",
            "Epoch 14/100\n",
            "380/391 [============================>.] - ETA: 0s - loss: 0.2507 - accuracy: 0.9072"
          ]
        },
        {
          "output_type": "stream",
          "name": "stderr",
          "text": [
            "/usr/local/lib/python3.10/dist-packages/keras/src/engine/training.py:3103: UserWarning: You are saving your model as an HDF5 file via `model.save()`. This file format is considered legacy. We recommend using instead the native Keras format, e.g. `model.save('my_model.keras')`.\n",
            "  saving_api.save_model(\n",
            "\u001b[34m\u001b[1mwandb\u001b[0m: Adding directory to artifact (/content/wandb/run-20240424_140622-wxjgnm6e/files/model-best)... Done. 0.0s\n"
          ]
        },
        {
          "output_type": "stream",
          "name": "stdout",
          "text": [
            "\b\b\b\b\b\b\b\b\b\b\b\b\b\b\b\b\b\b\b\b\b\b\b\b\b\b\b\b\b\b\b\b\b\b\b\b\b\b\b\b\b\b\b\b\b\b\b\b\b\b\b\b\b\b\b\b\b\b\b\b\b\b\b\b\b\b\b\b\b\b\b\b\b\b\b\b\b\b\b\b\b\b\b\b\r391/391 [==============================] - 2s 6ms/step - loss: 0.2502 - accuracy: 0.9075 - val_loss: 0.2851 - val_accuracy: 0.8965\n",
            "Epoch 15/100\n",
            "391/391 [==============================] - 2s 5ms/step - loss: 0.2457 - accuracy: 0.9082 - val_loss: 0.2984 - val_accuracy: 0.8937\n",
            "Epoch 16/100\n",
            "381/391 [============================>.] - ETA: 0s - loss: 0.2444 - accuracy: 0.9080"
          ]
        },
        {
          "output_type": "stream",
          "name": "stderr",
          "text": [
            "/usr/local/lib/python3.10/dist-packages/keras/src/engine/training.py:3103: UserWarning: You are saving your model as an HDF5 file via `model.save()`. This file format is considered legacy. We recommend using instead the native Keras format, e.g. `model.save('my_model.keras')`.\n",
            "  saving_api.save_model(\n",
            "\u001b[34m\u001b[1mwandb\u001b[0m: Adding directory to artifact (/content/wandb/run-20240424_140622-wxjgnm6e/files/model-best)... Done. 0.0s\n"
          ]
        },
        {
          "output_type": "stream",
          "name": "stdout",
          "text": [
            "\b\b\b\b\b\b\b\b\b\b\b\b\b\b\b\b\b\b\b\b\b\b\b\b\b\b\b\b\b\b\b\b\b\b\b\b\b\b\b\b\b\b\b\b\b\b\b\b\b\b\b\b\b\b\b\b\b\b\b\b\b\b\b\b\b\b\b\b\b\b\b\b\b\b\b\b\b\b\b\b\b\b\b\b\r391/391 [==============================] - 3s 7ms/step - loss: 0.2445 - accuracy: 0.9080 - val_loss: 0.2842 - val_accuracy: 0.8986\n",
            "Epoch 17/100\n",
            "391/391 [==============================] - 2s 4ms/step - loss: 0.2326 - accuracy: 0.9132 - val_loss: 0.3038 - val_accuracy: 0.8903\n",
            "Epoch 18/100\n",
            "384/391 [============================>.] - ETA: 0s - loss: 0.2299 - accuracy: 0.9139"
          ]
        },
        {
          "output_type": "stream",
          "name": "stderr",
          "text": [
            "/usr/local/lib/python3.10/dist-packages/keras/src/engine/training.py:3103: UserWarning: You are saving your model as an HDF5 file via `model.save()`. This file format is considered legacy. We recommend using instead the native Keras format, e.g. `model.save('my_model.keras')`.\n",
            "  saving_api.save_model(\n",
            "\u001b[34m\u001b[1mwandb\u001b[0m: Adding directory to artifact (/content/wandb/run-20240424_140622-wxjgnm6e/files/model-best)... Done. 0.0s\n"
          ]
        },
        {
          "output_type": "stream",
          "name": "stdout",
          "text": [
            "\b\b\b\b\b\b\b\b\b\b\b\b\b\b\b\b\b\b\b\b\b\b\b\b\b\b\b\b\b\b\b\b\b\b\b\b\b\b\b\b\b\b\b\b\b\b\b\b\b\b\b\b\b\b\b\b\b\b\b\b\b\b\b\b\b\b\b\b\b\b\b\b\b\b\b\b\b\b\b\b\b\b\b\b\r391/391 [==============================] - 2s 6ms/step - loss: 0.2298 - accuracy: 0.9141 - val_loss: 0.2819 - val_accuracy: 0.8973\n",
            "Epoch 19/100\n",
            "391/391 [==============================] - 1s 4ms/step - loss: 0.2274 - accuracy: 0.9148 - val_loss: 0.2927 - val_accuracy: 0.8934\n",
            "Epoch 20/100\n",
            "391/391 [==============================] - 1s 4ms/step - loss: 0.2219 - accuracy: 0.9174 - val_loss: 0.3074 - val_accuracy: 0.8879\n",
            "Epoch 21/100\n",
            "391/391 [==============================] - 2s 4ms/step - loss: 0.2158 - accuracy: 0.9190 - val_loss: 0.2849 - val_accuracy: 0.8993\n",
            "Epoch 22/100\n",
            "391/391 [==============================] - 2s 5ms/step - loss: 0.2103 - accuracy: 0.9210 - val_loss: 0.3041 - val_accuracy: 0.8946\n",
            "Epoch 23/100\n",
            "391/391 [==============================] - 2s 4ms/step - loss: 0.2097 - accuracy: 0.9222 - val_loss: 0.2859 - val_accuracy: 0.8978\n",
            "Epoch 24/100\n",
            "391/391 [==============================] - 2s 4ms/step - loss: 0.2055 - accuracy: 0.9221 - val_loss: 0.3052 - val_accuracy: 0.8912\n",
            "Epoch 25/100\n",
            "391/391 [==============================] - 2s 4ms/step - loss: 0.2045 - accuracy: 0.9218 - val_loss: 0.2844 - val_accuracy: 0.9018\n",
            "Epoch 26/100\n",
            "381/391 [============================>.] - ETA: 0s - loss: 0.1975 - accuracy: 0.9239"
          ]
        },
        {
          "output_type": "stream",
          "name": "stderr",
          "text": [
            "/usr/local/lib/python3.10/dist-packages/keras/src/engine/training.py:3103: UserWarning: You are saving your model as an HDF5 file via `model.save()`. This file format is considered legacy. We recommend using instead the native Keras format, e.g. `model.save('my_model.keras')`.\n",
            "  saving_api.save_model(\n",
            "\u001b[34m\u001b[1mwandb\u001b[0m: Adding directory to artifact (/content/wandb/run-20240424_140622-wxjgnm6e/files/model-best)... Done. 0.0s\n"
          ]
        },
        {
          "output_type": "stream",
          "name": "stdout",
          "text": [
            "\b\b\b\b\b\b\b\b\b\b\b\b\b\b\b\b\b\b\b\b\b\b\b\b\b\b\b\b\b\b\b\b\b\b\b\b\b\b\b\b\b\b\b\b\b\b\b\b\b\b\b\b\b\b\b\b\b\b\b\b\b\b\b\b\b\b\b\b\b\b\b\b\b\b\b\b\b\b\b\b\b\b\b\b\r391/391 [==============================] - 2s 5ms/step - loss: 0.1977 - accuracy: 0.9238 - val_loss: 0.2787 - val_accuracy: 0.9015\n",
            "Epoch 27/100\n",
            "391/391 [==============================] - 2s 4ms/step - loss: 0.1973 - accuracy: 0.9250 - val_loss: 0.2895 - val_accuracy: 0.9010\n",
            "Epoch 28/100\n",
            "391/391 [==============================] - 2s 4ms/step - loss: 0.1920 - accuracy: 0.9274 - val_loss: 0.2893 - val_accuracy: 0.9019\n",
            "Epoch 29/100\n",
            "391/391 [==============================] - 2s 5ms/step - loss: 0.1878 - accuracy: 0.9286 - val_loss: 0.2980 - val_accuracy: 0.8983\n",
            "Epoch 30/100\n",
            "391/391 [==============================] - 2s 5ms/step - loss: 0.1864 - accuracy: 0.9301 - val_loss: 0.2906 - val_accuracy: 0.8998\n",
            "Epoch 31/100\n",
            "391/391 [==============================] - 2s 4ms/step - loss: 0.1817 - accuracy: 0.9310 - val_loss: 0.3032 - val_accuracy: 0.8986\n",
            "Epoch 32/100\n",
            "391/391 [==============================] - 2s 4ms/step - loss: 0.1782 - accuracy: 0.9326 - val_loss: 0.3061 - val_accuracy: 0.8979\n",
            "Epoch 33/100\n",
            "391/391 [==============================] - 2s 4ms/step - loss: 0.1761 - accuracy: 0.9340 - val_loss: 0.2967 - val_accuracy: 0.8986\n",
            "Epoch 34/100\n",
            "391/391 [==============================] - 2s 4ms/step - loss: 0.1748 - accuracy: 0.9323 - val_loss: 0.3027 - val_accuracy: 0.8978\n",
            "Epoch 35/100\n",
            "391/391 [==============================] - 2s 4ms/step - loss: 0.1714 - accuracy: 0.9358 - val_loss: 0.3068 - val_accuracy: 0.8978\n",
            "Epoch 36/100\n",
            "391/391 [==============================] - 2s 4ms/step - loss: 0.1689 - accuracy: 0.9366 - val_loss: 0.3008 - val_accuracy: 0.9007\n",
            "Epoch 37/100\n",
            "391/391 [==============================] - 2s 5ms/step - loss: 0.1661 - accuracy: 0.9378 - val_loss: 0.3092 - val_accuracy: 0.9031\n",
            "Epoch 38/100\n",
            "391/391 [==============================] - 2s 4ms/step - loss: 0.1662 - accuracy: 0.9373 - val_loss: 0.2974 - val_accuracy: 0.9017\n",
            "Epoch 39/100\n",
            "391/391 [==============================] - 1s 4ms/step - loss: 0.1601 - accuracy: 0.9392 - val_loss: 0.3037 - val_accuracy: 0.9012\n",
            "Epoch 40/100\n",
            "391/391 [==============================] - 2s 4ms/step - loss: 0.1567 - accuracy: 0.9406 - val_loss: 0.2972 - val_accuracy: 0.9032\n",
            "Epoch 41/100\n",
            "391/391 [==============================] - 1s 4ms/step - loss: 0.1581 - accuracy: 0.9403 - val_loss: 0.3136 - val_accuracy: 0.9008\n",
            "Epoch 42/100\n",
            "391/391 [==============================] - 1s 4ms/step - loss: 0.1535 - accuracy: 0.9414 - val_loss: 0.3122 - val_accuracy: 0.8995\n",
            "Epoch 43/100\n",
            "391/391 [==============================] - 2s 4ms/step - loss: 0.1536 - accuracy: 0.9424 - val_loss: 0.3088 - val_accuracy: 0.9013\n",
            "Epoch 44/100\n",
            "391/391 [==============================] - 2s 5ms/step - loss: 0.1517 - accuracy: 0.9426 - val_loss: 0.3168 - val_accuracy: 0.9001\n",
            "Epoch 45/100\n",
            "391/391 [==============================] - 2s 5ms/step - loss: 0.1486 - accuracy: 0.9427 - val_loss: 0.3100 - val_accuracy: 0.9030\n",
            "Epoch 46/100\n",
            "391/391 [==============================] - 2s 4ms/step - loss: 0.1466 - accuracy: 0.9436 - val_loss: 0.3110 - val_accuracy: 0.9043\n",
            "Epoch 47/100\n",
            "391/391 [==============================] - 1s 4ms/step - loss: 0.1441 - accuracy: 0.9445 - val_loss: 0.3220 - val_accuracy: 0.9012\n",
            "Epoch 48/100\n",
            "391/391 [==============================] - 1s 4ms/step - loss: 0.1448 - accuracy: 0.9462 - val_loss: 0.3067 - val_accuracy: 0.9032\n",
            "Epoch 49/100\n",
            "391/391 [==============================] - 2s 4ms/step - loss: 0.1414 - accuracy: 0.9455 - val_loss: 0.3174 - val_accuracy: 0.9023\n",
            "Epoch 50/100\n",
            "391/391 [==============================] - 2s 4ms/step - loss: 0.1399 - accuracy: 0.9464 - val_loss: 0.3323 - val_accuracy: 0.9016\n",
            "Epoch 51/100\n",
            "391/391 [==============================] - 2s 4ms/step - loss: 0.1375 - accuracy: 0.9484 - val_loss: 0.3277 - val_accuracy: 0.9009\n",
            "Epoch 52/100\n",
            "391/391 [==============================] - 2s 5ms/step - loss: 0.1374 - accuracy: 0.9484 - val_loss: 0.3443 - val_accuracy: 0.8940\n",
            "Epoch 53/100\n",
            "391/391 [==============================] - 2s 4ms/step - loss: 0.1371 - accuracy: 0.9475 - val_loss: 0.3287 - val_accuracy: 0.9017\n",
            "Epoch 54/100\n",
            "391/391 [==============================] - 1s 4ms/step - loss: 0.1352 - accuracy: 0.9488 - val_loss: 0.3245 - val_accuracy: 0.9005\n",
            "Epoch 55/100\n",
            "391/391 [==============================] - 1s 4ms/step - loss: 0.1329 - accuracy: 0.9503 - val_loss: 0.3279 - val_accuracy: 0.8999\n",
            "Epoch 56/100\n",
            "391/391 [==============================] - 2s 4ms/step - loss: 0.1287 - accuracy: 0.9509 - val_loss: 0.3293 - val_accuracy: 0.9018\n",
            "Epoch 57/100\n",
            "391/391 [==============================] - 2s 4ms/step - loss: 0.1235 - accuracy: 0.9530 - val_loss: 0.3388 - val_accuracy: 0.9036\n",
            "Epoch 58/100\n",
            "391/391 [==============================] - 1s 4ms/step - loss: 0.1274 - accuracy: 0.9514 - val_loss: 0.3322 - val_accuracy: 0.9037\n",
            "Epoch 59/100\n",
            "391/391 [==============================] - 2s 4ms/step - loss: 0.1247 - accuracy: 0.9530 - val_loss: 0.3386 - val_accuracy: 0.9023\n",
            "Epoch 60/100\n",
            "391/391 [==============================] - 2s 5ms/step - loss: 0.1264 - accuracy: 0.9515 - val_loss: 0.3352 - val_accuracy: 0.9036\n",
            "Epoch 61/100\n",
            "391/391 [==============================] - 2s 4ms/step - loss: 0.1251 - accuracy: 0.9515 - val_loss: 0.3598 - val_accuracy: 0.8995\n",
            "Epoch 62/100\n",
            "391/391 [==============================] - 1s 4ms/step - loss: 0.1228 - accuracy: 0.9531 - val_loss: 0.3504 - val_accuracy: 0.8992\n",
            "Epoch 63/100\n",
            "391/391 [==============================] - 1s 4ms/step - loss: 0.1197 - accuracy: 0.9547 - val_loss: 0.3706 - val_accuracy: 0.8986\n",
            "Epoch 64/100\n",
            "391/391 [==============================] - 1s 4ms/step - loss: 0.1181 - accuracy: 0.9554 - val_loss: 0.3497 - val_accuracy: 0.9029\n",
            "Epoch 65/100\n",
            "391/391 [==============================] - 2s 4ms/step - loss: 0.1214 - accuracy: 0.9539 - val_loss: 0.3558 - val_accuracy: 0.9004\n",
            "Epoch 66/100\n",
            "391/391 [==============================] - 2s 4ms/step - loss: 0.1203 - accuracy: 0.9545 - val_loss: 0.3453 - val_accuracy: 0.9041\n",
            "Epoch 67/100\n",
            "391/391 [==============================] - 2s 4ms/step - loss: 0.1128 - accuracy: 0.9568 - val_loss: 0.3615 - val_accuracy: 0.9033\n",
            "Epoch 68/100\n",
            "391/391 [==============================] - 2s 5ms/step - loss: 0.1143 - accuracy: 0.9564 - val_loss: 0.3684 - val_accuracy: 0.9001\n",
            "Epoch 69/100\n",
            "391/391 [==============================] - 2s 4ms/step - loss: 0.1160 - accuracy: 0.9553 - val_loss: 0.3485 - val_accuracy: 0.9009\n",
            "Epoch 70/100\n",
            "391/391 [==============================] - 1s 4ms/step - loss: 0.1140 - accuracy: 0.9563 - val_loss: 0.3732 - val_accuracy: 0.9017\n",
            "Epoch 71/100\n",
            "391/391 [==============================] - 1s 4ms/step - loss: 0.1089 - accuracy: 0.9578 - val_loss: 0.3660 - val_accuracy: 0.8992\n",
            "Epoch 72/100\n",
            "391/391 [==============================] - 1s 4ms/step - loss: 0.1089 - accuracy: 0.9593 - val_loss: 0.3587 - val_accuracy: 0.9010\n",
            "Epoch 73/100\n",
            "391/391 [==============================] - 2s 4ms/step - loss: 0.1095 - accuracy: 0.9590 - val_loss: 0.3646 - val_accuracy: 0.9013\n",
            "Epoch 74/100\n",
            "391/391 [==============================] - 1s 4ms/step - loss: 0.1107 - accuracy: 0.9572 - val_loss: 0.3577 - val_accuracy: 0.9024\n",
            "Epoch 75/100\n",
            "391/391 [==============================] - 2s 4ms/step - loss: 0.1078 - accuracy: 0.9581 - val_loss: 0.3634 - val_accuracy: 0.9032\n",
            "Epoch 76/100\n",
            "391/391 [==============================] - 2s 6ms/step - loss: 0.1069 - accuracy: 0.9596 - val_loss: 0.3644 - val_accuracy: 0.9043\n",
            "Epoch 77/100\n",
            "391/391 [==============================] - 2s 4ms/step - loss: 0.1051 - accuracy: 0.9606 - val_loss: 0.3906 - val_accuracy: 0.9012\n",
            "Epoch 78/100\n",
            "391/391 [==============================] - 1s 4ms/step - loss: 0.1059 - accuracy: 0.9589 - val_loss: 0.3803 - val_accuracy: 0.9020\n",
            "Epoch 79/100\n",
            "391/391 [==============================] - 2s 4ms/step - loss: 0.1094 - accuracy: 0.9581 - val_loss: 0.3731 - val_accuracy: 0.9064\n",
            "Epoch 80/100\n",
            "391/391 [==============================] - 1s 4ms/step - loss: 0.1007 - accuracy: 0.9605 - val_loss: 0.3619 - val_accuracy: 0.9046\n",
            "Epoch 81/100\n",
            "391/391 [==============================] - 1s 4ms/step - loss: 0.0956 - accuracy: 0.9637 - val_loss: 0.3848 - val_accuracy: 0.9037\n",
            "Epoch 82/100\n",
            "391/391 [==============================] - 2s 4ms/step - loss: 0.1038 - accuracy: 0.9596 - val_loss: 0.3919 - val_accuracy: 0.9034\n",
            "Epoch 83/100\n",
            "391/391 [==============================] - 2s 5ms/step - loss: 0.1000 - accuracy: 0.9612 - val_loss: 0.3913 - val_accuracy: 0.9044\n",
            "Epoch 84/100\n",
            "391/391 [==============================] - 2s 5ms/step - loss: 0.0977 - accuracy: 0.9623 - val_loss: 0.3827 - val_accuracy: 0.9058\n",
            "Epoch 85/100\n",
            "391/391 [==============================] - 2s 4ms/step - loss: 0.1006 - accuracy: 0.9608 - val_loss: 0.3963 - val_accuracy: 0.9042\n",
            "Epoch 86/100\n",
            "314/391 [=======================>......] - ETA: 0s - loss: 0.0968 - accuracy: 0.9632"
          ]
        }
      ]
    },
    {
      "cell_type": "code",
      "metadata": {
        "id": "mFCsgj9G_XDG",
        "colab": {
          "base_uri": "https://localhost:8080/"
        },
        "outputId": "0d2a4c70-8b77-4b4e-e995-565f4b319f16"
      },
      "source": [
        "# restore the model file \"model.h5\" from a specific run by user \"pkasnesis\"\n",
        "# in project \"aidl-a02-week5\" from run \"10pr4joa\"\n",
        "best_model = wandb.restore('model-best.h5', run_path=\"pkasnesis/aidl-a02-week5/l2ylcagj\")\n",
        "\n",
        "model = Sequential()\n",
        "model.add(Dense(256, activation=\"relu\", input_shape=(x_train.shape[1],)))\n",
        "model.add(Dropout(0.1))\n",
        "model.add(Dense(10, activation=\"softmax\"))\n",
        "\n",
        "# use the \"name\" attribute of the returned object if your framework expects a filename, e.g. as in Keras\n",
        "model.load_weights(best_model.name)"
      ],
      "execution_count": null,
      "outputs": [
        {
          "output_type": "stream",
          "name": "stdout",
          "text": [
            "\b\b\b\b\b\b\b\b\b\b\b\b\b\b\b\b\b\b\b\b\b\b\b\b\b\b\b\b\b\b\b\b\b\b\b\b\b\b\b\b\b\b\b\b\b\b\b\b\b\b\b\b\b\b\b\b\b\b\b\b\b\b\b\b\b\b\b\b\b\b\b\b\b\b\b\b\b\b\b\b\b\b\b\b\r391/391 [==============================] - 2s 5ms/step - loss: 0.2706 - accuracy: 0.9001 - val_loss: 0.2986 - val_accuracy: 0.8913 - _timestamp: 1650283768.0000 - _runtime: 33.0000\n",
            "Epoch 14/100\n",
            " 67/391 [====>.........................] - ETA: 2s - loss: 0.2549 - accuracy: 0.9035"
          ]
        }
      ]
    },
    {
      "cell_type": "code",
      "metadata": {
        "colab": {
          "base_uri": "https://localhost:8080/"
        },
        "id": "9bJZpXYyPDu6",
        "outputId": "b4445d1e-1d33-40ef-abc0-f6ae7879a86b"
      },
      "source": [
        "print(np.mean(np.argmax(model.predict(X_val),1)==np.argmax(Y_val,1)))"
      ],
      "execution_count": null,
      "outputs": [
        {
          "output_type": "stream",
          "name": "stdout",
          "text": [
            "391/391 [==============================] - 4s 9ms/step - loss: 0.1378 - accuracy: 0.9464 - val_loss: 0.3348 - val_accuracy: 0.8990 - _timestamp: 1650283911.0000 - _runtime: 176.0000\n",
            "Epoch 67/100\n",
            "135/391 [=========>....................] - ETA: 1s - loss: 0.1355 - accuracy: 0.94740.8913\n",
            "168/391 [===========>..................] - ETA: 1s - loss: 0.1371 - accuracy: 0.9464"
          ]
        }
      ]
    },
    {
      "cell_type": "code",
      "metadata": {
        "colab": {
          "base_uri": "https://localhost:8080/"
        },
        "id": "eio9LiOnc7Ni",
        "outputId": "8fb432f4-9768-48ef-a5c5-2fbcecfbe35c"
      },
      "source": [
        "print(np.mean(np.argmax(model.predict(X_test),1)==np.argmax(Y_test,1)))"
      ],
      "execution_count": null,
      "outputs": [
        {
          "output_type": "stream",
          "name": "stdout",
          "text": [
            "391/391 [==============================] - 4s 9ms/step - loss: 0.1549 - accuracy: 0.9412 - val_loss: 0.3138 - val_accuracy: 0.8993 - _timestamp: 1650283874.0000 - _runtime: 139.0000\n",
            "Epoch 51/100\n",
            "211/391 [===============>..............] - ETA: 1s - loss: 0.1549 - accuracy: 0.94090.8867\n",
            "256/391 [==================>...........] - ETA: 0s - loss: 0.1558 - accuracy: 0.9406"
          ]
        }
      ]
    },
    {
      "cell_type": "code",
      "metadata": {
        "id": "2hD9hTL2c-fP"
      },
      "source": [],
      "execution_count": null,
      "outputs": []
    }
  ]
}