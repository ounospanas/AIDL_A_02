{
  "nbformat": 4,
  "nbformat_minor": 0,
  "metadata": {
    "colab": {
      "name": "AIDL_A02_LSTM.ipynb",
      "provenance": [],
      "collapsed_sections": [],
      "include_colab_link": true
    },
    "kernelspec": {
      "display_name": "Python 3",
      "language": "python",
      "name": "python3"
    },
    "language_info": {
      "codemirror_mode": {
        "name": "ipython",
        "version": 3
      },
      "file_extension": ".py",
      "mimetype": "text/x-python",
      "name": "python",
      "nbconvert_exporter": "python",
      "pygments_lexer": "ipython3",
      "version": "3.7.0"
    },
    "accelerator": "GPU"
  },
  "cells": [
    {
      "cell_type": "markdown",
      "metadata": {
        "id": "view-in-github",
        "colab_type": "text"
      },
      "source": [
        "<a href=\"https://colab.research.google.com/github/ounospanas/AIDL_A_02/blob/main/notebooks_solutions/AIDL_A02_LSTM.ipynb\" target=\"_parent\"><img src=\"https://colab.research.google.com/assets/colab-badge.svg\" alt=\"Open In Colab\"/></a>"
      ]
    },
    {
      "cell_type": "code",
      "metadata": {
        "id": "GJhWKg6rPNp1"
      },
      "source": [
        "import numpy as np\n",
        "import tensorflow as tf\n",
        "from tensorflow import keras\n",
        "from tensorflow.keras import layers"
      ],
      "execution_count": 1,
      "outputs": []
    },
    {
      "cell_type": "code",
      "metadata": {
        "id": "94u5UXfEPrUS"
      },
      "source": [
        "words = 10000 #use the 10,000 most common words\n",
        "max_len = 200 #use the first 200 words of a review\n",
        "embedding_size = 64 #64-dimensional array\n",
        "index_from=3   # word index offset, <PAD>:0, <START>:1, <UNK>:2."
      ],
      "execution_count": 2,
      "outputs": []
    },
    {
      "cell_type": "markdown",
      "metadata": {
        "id": "6apiBG1RRBHu"
      },
      "source": [
        "# Load IMDB Data"
      ]
    },
    {
      "cell_type": "code",
      "metadata": {
        "id": "NoE66dzKPNp6",
        "colab": {
          "base_uri": "https://localhost:8080/"
        },
        "outputId": "eb27ab15-8ce3-4b39-a0a0-f309a3563f11"
      },
      "source": [
        "(x_train, y_train), (x_val, y_val) = keras.datasets.imdb.load_data(num_words=words, index_from=index_from)\n",
        "print(x_train.shape)\n",
        "print(x_val.shape)"
      ],
      "execution_count": 3,
      "outputs": [
        {
          "output_type": "stream",
          "name": "stdout",
          "text": [
            "Downloading data from https://storage.googleapis.com/tensorflow/tf-keras-datasets/imdb.npz\n",
            "17465344/17464789 [==============================] - 0s 0us/step\n",
            "17473536/17464789 [==============================] - 0s 0us/step\n",
            "(25000,)\n",
            "(25000,)\n"
          ]
        }
      ]
    },
    {
      "cell_type": "code",
      "metadata": {
        "colab": {
          "base_uri": "https://localhost:8080/"
        },
        "id": "9q8aqjlkpEGy",
        "outputId": "b388036c-cfd7-4025-e1fd-27bd7908829a"
      },
      "source": [
        "word_to_id = keras.datasets.imdb.get_word_index()\n",
        "word_to_id = {word:(index+index_from) for word,index in word_to_id.items()}\n",
        "word_to_id[\"<PAD>\"] = 0\n",
        "word_to_id[\"<START>\"] = 1\n",
        "word_to_id[\"<UNK>\"] = 2\n",
        "\n",
        "id_to_word = {value:key for key,value in word_to_id.items()}\n",
        "print(x_train[0])\n",
        "print(' '.join(id_to_word[id] for id in x_train[0] ))"
      ],
      "execution_count": 4,
      "outputs": [
        {
          "output_type": "stream",
          "name": "stdout",
          "text": [
            "Downloading data from https://storage.googleapis.com/tensorflow/tf-keras-datasets/imdb_word_index.json\n",
            "1646592/1641221 [==============================] - 0s 0us/step\n",
            "1654784/1641221 [==============================] - 0s 0us/step\n",
            "[1, 14, 22, 16, 43, 530, 973, 1622, 1385, 65, 458, 4468, 66, 3941, 4, 173, 36, 256, 5, 25, 100, 43, 838, 112, 50, 670, 2, 9, 35, 480, 284, 5, 150, 4, 172, 112, 167, 2, 336, 385, 39, 4, 172, 4536, 1111, 17, 546, 38, 13, 447, 4, 192, 50, 16, 6, 147, 2025, 19, 14, 22, 4, 1920, 4613, 469, 4, 22, 71, 87, 12, 16, 43, 530, 38, 76, 15, 13, 1247, 4, 22, 17, 515, 17, 12, 16, 626, 18, 2, 5, 62, 386, 12, 8, 316, 8, 106, 5, 4, 2223, 5244, 16, 480, 66, 3785, 33, 4, 130, 12, 16, 38, 619, 5, 25, 124, 51, 36, 135, 48, 25, 1415, 33, 6, 22, 12, 215, 28, 77, 52, 5, 14, 407, 16, 82, 2, 8, 4, 107, 117, 5952, 15, 256, 4, 2, 7, 3766, 5, 723, 36, 71, 43, 530, 476, 26, 400, 317, 46, 7, 4, 2, 1029, 13, 104, 88, 4, 381, 15, 297, 98, 32, 2071, 56, 26, 141, 6, 194, 7486, 18, 4, 226, 22, 21, 134, 476, 26, 480, 5, 144, 30, 5535, 18, 51, 36, 28, 224, 92, 25, 104, 4, 226, 65, 16, 38, 1334, 88, 12, 16, 283, 5, 16, 4472, 113, 103, 32, 15, 16, 5345, 19, 178, 32]\n",
            "<START> this film was just brilliant casting location scenery story direction everyone's really suited the part they played and you could just imagine being there robert <UNK> is an amazing actor and now the same being director <UNK> father came from the same scottish island as myself so i loved the fact there was a real connection with this film the witty remarks throughout the film were great it was just brilliant so much that i bought the film as soon as it was released for <UNK> and would recommend it to everyone to watch and the fly fishing was amazing really cried at the end it was so sad and you know what they say if you cry at a film it must have been good and this definitely was also <UNK> to the two little boy's that played the <UNK> of norman and paul they were just brilliant children are often left out of the <UNK> list i think because the stars that play them all grown up are such a big profile for the whole film but these children are amazing and should be praised for what they have done don't you think the whole story was so lovely because it was true and was someone's life after all that was shared with us all\n"
          ]
        }
      ]
    },
    {
      "cell_type": "code",
      "metadata": {
        "colab": {
          "base_uri": "https://localhost:8080/"
        },
        "id": "V0faO9yGRZ6Y",
        "outputId": "c821cc21-f3b2-4899-c0d5-6ae54a8e5fbf"
      },
      "source": [
        "#compute the number of the words per sentence\n",
        "for i in range(10):\n",
        "  print(\"The number of words in review {} is equal to: {}\".format(i,len(x_train[i])))"
      ],
      "execution_count": 5,
      "outputs": [
        {
          "output_type": "stream",
          "name": "stdout",
          "text": [
            "The number of words in review 0 is equal to: 218\n",
            "The number of words in review 1 is equal to: 189\n",
            "The number of words in review 2 is equal to: 141\n",
            "The number of words in review 3 is equal to: 550\n",
            "The number of words in review 4 is equal to: 147\n",
            "The number of words in review 5 is equal to: 43\n",
            "The number of words in review 6 is equal to: 123\n",
            "The number of words in review 7 is equal to: 562\n",
            "The number of words in review 8 is equal to: 233\n",
            "The number of words in review 9 is equal to: 130\n"
          ]
        }
      ]
    },
    {
      "cell_type": "code",
      "metadata": {
        "id": "_QTkHl7TTCnb"
      },
      "source": [
        "# use keras.preprocessing to make all the senteces have equal number of words\n",
        "x_train = keras.preprocessing.sequence.pad_sequences(x_train, maxlen=max_len, padding='post')\n",
        "x_val = keras.preprocessing.sequence.pad_sequences(x_val, maxlen=max_len, padding='post')"
      ],
      "execution_count": 6,
      "outputs": []
    },
    {
      "cell_type": "code",
      "metadata": {
        "colab": {
          "base_uri": "https://localhost:8080/"
        },
        "id": "3sfzB4DcTxMV",
        "outputId": "e5131835-acd3-4a06-898b-a102199f3625"
      },
      "source": [
        "#should produce same values\n",
        "for i in range(10):\n",
        "  print(\"The number of words in review {} is equal to: {}\".format(i,len(x_train[i])))"
      ],
      "execution_count": 7,
      "outputs": [
        {
          "output_type": "stream",
          "name": "stdout",
          "text": [
            "The number of words in review 0 is equal to: 200\n",
            "The number of words in review 1 is equal to: 200\n",
            "The number of words in review 2 is equal to: 200\n",
            "The number of words in review 3 is equal to: 200\n",
            "The number of words in review 4 is equal to: 200\n",
            "The number of words in review 5 is equal to: 200\n",
            "The number of words in review 6 is equal to: 200\n",
            "The number of words in review 7 is equal to: 200\n",
            "The number of words in review 8 is equal to: 200\n",
            "The number of words in review 9 is equal to: 200\n"
          ]
        }
      ]
    },
    {
      "cell_type": "markdown",
      "metadata": {
        "id": "KtgPsnSAPNp3"
      },
      "source": [
        "# LSTM"
      ]
    },
    {
      "cell_type": "code",
      "metadata": {
        "id": "HzrlYP2kPNp4",
        "colab": {
          "base_uri": "https://localhost:8080/"
        },
        "outputId": "5a6bef78-1281-424c-f401-590d7d12f948"
      },
      "source": [
        "seed = 2\n",
        "tf.random.set_seed(seed)\n",
        "np.random.seed(seed)\n",
        "\n",
        "inputs = keras.Input(shape=(None,), dtype=\"int32\")\n",
        "x = layers.Embedding(words, embedding_size)(inputs)  #define embedding layer with shape (10,000x64)\n",
        "\n",
        "# add 2 LSTM layers with 64 neurons as hidden layer\n",
        "x = layers.LSTM(64, return_sequences=True)(x) #layers.Bidirectional()\n",
        "x = layers.Dropout(0.2)(x)\n",
        "x = layers.LSTM(64)(x)\n",
        "x = layers.Dropout(0.2)(x)\n",
        "outputs = layers.Dense(1, activation=\"sigmoid\")(x)\n",
        "model = keras.Model(inputs, outputs)\n",
        "model.summary()"
      ],
      "execution_count": 10,
      "outputs": [
        {
          "output_type": "stream",
          "name": "stdout",
          "text": [
            "Model: \"model_1\"\n",
            "_________________________________________________________________\n",
            " Layer (type)                Output Shape              Param #   \n",
            "=================================================================\n",
            " input_2 (InputLayer)        [(None, None)]            0         \n",
            "                                                                 \n",
            " embedding_1 (Embedding)     (None, None, 64)          640000    \n",
            "                                                                 \n",
            " lstm_2 (LSTM)               (None, None, 64)          33024     \n",
            "                                                                 \n",
            " dropout_2 (Dropout)         (None, None, 64)          0         \n",
            "                                                                 \n",
            " lstm_3 (LSTM)               (None, 64)                33024     \n",
            "                                                                 \n",
            " dropout_3 (Dropout)         (None, 64)                0         \n",
            "                                                                 \n",
            " dense_1 (Dense)             (None, 1)                 65        \n",
            "                                                                 \n",
            "=================================================================\n",
            "Total params: 706,113\n",
            "Trainable params: 706,113\n",
            "Non-trainable params: 0\n",
            "_________________________________________________________________\n"
          ]
        }
      ]
    },
    {
      "cell_type": "code",
      "metadata": {
        "id": "-VWsjpe7PNp7",
        "colab": {
          "base_uri": "https://localhost:8080/"
        },
        "outputId": "17266f53-c58e-42b8-9288-501138f69bae"
      },
      "source": [
        "model.compile(optimizer=\"adam\", loss=\"binary_crossentropy\", metrics=[\"accuracy\"])\n",
        "history = model.fit(x_train, y_train, batch_size=32, epochs=10, validation_data=(x_val, y_val))"
      ],
      "execution_count": 11,
      "outputs": [
        {
          "output_type": "stream",
          "name": "stdout",
          "text": [
            "Epoch 1/10\n",
            "782/782 [==============================] - 21s 23ms/step - loss: 0.6889 - accuracy: 0.5304 - val_loss: 0.6878 - val_accuracy: 0.5424\n",
            "Epoch 2/10\n",
            "782/782 [==============================] - 17s 22ms/step - loss: 0.6481 - accuracy: 0.6033 - val_loss: 0.5719 - val_accuracy: 0.7215\n",
            "Epoch 3/10\n",
            "782/782 [==============================] - 17s 22ms/step - loss: 0.4771 - accuracy: 0.7918 - val_loss: 0.4174 - val_accuracy: 0.8210\n",
            "Epoch 4/10\n",
            "782/782 [==============================] - 17s 22ms/step - loss: 0.4084 - accuracy: 0.8284 - val_loss: 0.3745 - val_accuracy: 0.8380\n",
            "Epoch 5/10\n",
            "782/782 [==============================] - 17s 22ms/step - loss: 0.3226 - accuracy: 0.8708 - val_loss: 0.3390 - val_accuracy: 0.8607\n",
            "Epoch 6/10\n",
            "782/782 [==============================] - 17s 22ms/step - loss: 0.2521 - accuracy: 0.9036 - val_loss: 0.3856 - val_accuracy: 0.8421\n",
            "Epoch 7/10\n",
            "782/782 [==============================] - 17s 22ms/step - loss: 0.2144 - accuracy: 0.9204 - val_loss: 0.3339 - val_accuracy: 0.8648\n",
            "Epoch 8/10\n",
            "782/782 [==============================] - 17s 22ms/step - loss: 0.1813 - accuracy: 0.9356 - val_loss: 0.3431 - val_accuracy: 0.8632\n",
            "Epoch 9/10\n",
            "782/782 [==============================] - 17s 22ms/step - loss: 0.1590 - accuracy: 0.9449 - val_loss: 0.3662 - val_accuracy: 0.8644\n",
            "Epoch 10/10\n",
            "782/782 [==============================] - 18s 22ms/step - loss: 0.1331 - accuracy: 0.9561 - val_loss: 0.3929 - val_accuracy: 0.8615\n"
          ]
        }
      ]
    },
    {
      "cell_type": "code",
      "metadata": {
        "colab": {
          "base_uri": "https://localhost:8080/",
          "height": 295
        },
        "id": "_nI1pbHoWQst",
        "outputId": "9da8df3d-498d-4a11-80d3-d3bdd1ac2255"
      },
      "source": [
        "import matplotlib.pyplot as plt\n",
        "%matplotlib inline\n",
        "\n",
        "# summarize history for loss\n",
        "plt.plot(history.history['loss'])\n",
        "plt.plot(history.history['val_loss'])\n",
        "plt.title('model loss')\n",
        "plt.ylabel('loss')\n",
        "plt.xlabel('epoch')\n",
        "plt.legend(['train', 'val'], loc='upper right')\n",
        "plt.show()"
      ],
      "execution_count": 12,
      "outputs": [
        {
          "output_type": "display_data",
          "data": {
            "text/plain": [
              "<Figure size 432x288 with 1 Axes>"
            ],
            "image/png": "[encoded data removed]"
          },
          "metadata": {
            "needs_background": "light"
          }
        }
      ]
    },
    {
      "cell_type": "code",
      "metadata": {
        "colab": {
          "base_uri": "https://localhost:8080/",
          "height": 295
        },
        "id": "M1_Y_eS6tP0t",
        "outputId": "de86284b-a5df-4a3e-a6aa-ec6bf317ece7"
      },
      "source": [
        "# summarize history for accuracy\n",
        "plt.plot(history.history['accuracy'])\n",
        "plt.plot(history.history['val_accuracy'])\n",
        "plt.title('model accuracy')\n",
        "plt.ylabel('accuracy')\n",
        "plt.xlabel('epoch')\n",
        "plt.legend(['train', 'val'], loc='upper left')\n",
        "plt.show()"
      ],
      "execution_count": 13,
      "outputs": [
        {
          "output_type": "display_data",
          "data": {
            "text/plain": [
              "<Figure size 432x288 with 1 Axes>"
            ],
            "image/png": "[encoded data removed]"
          },
          "metadata": {
            "needs_background": "light"
          }
        }
      ]
    },
    {
      "cell_type": "code",
      "metadata": {
        "id": "70godVZitTLZ"
      },
      "source": [
        "# Hint: lower case, split, tokenize (text to vec, use unk), add sos, pad\n",
        "post_1 = \"I really enjoyed Star Wars V!!! Amazing movie. ZUPER\"\n",
        "post_2 = \"Star Wars episode IX has a poor scenario :(\""
      ],
      "execution_count": 14,
      "outputs": []
    },
    {
      "cell_type": "code",
      "metadata": {
        "id": "uQiZweLEi1oT"
      },
      "source": [
        "import re\n",
        "def normalizeString(s):\n",
        "    s = s.lower().strip()\n",
        "    s = re.sub(r\"[^a-zA-Z]+\", r\" \", s)\n",
        "    return s.split()"
      ],
      "execution_count": 15,
      "outputs": []
    },
    {
      "cell_type": "code",
      "metadata": {
        "id": "ghXokN8VdrR4"
      },
      "source": [
        "post_1 = normalizeString(post_1)\n",
        "post_2 = normalizeString(post_2)"
      ],
      "execution_count": 16,
      "outputs": []
    },
    {
      "cell_type": "code",
      "metadata": {
        "id": "buUk9cori_wy"
      },
      "source": [
        "post_1.insert(0, '<START>')\n",
        "post_2.insert(0, '<START>')"
      ],
      "execution_count": 17,
      "outputs": []
    },
    {
      "cell_type": "code",
      "metadata": {
        "id": "rrw0_bR9fThD"
      },
      "source": [
        "post_1_tokens = [word_to_id[id] if id in word_to_id else word_to_id['<UNK>'] for id in post_1]\n",
        "post_2_tokens = [word_to_id[id] if id in word_to_id else word_to_id['<UNK>'] for id in post_2]"
      ],
      "execution_count": 18,
      "outputs": []
    },
    {
      "cell_type": "code",
      "metadata": {
        "id": "mq3hXF32ljjn"
      },
      "source": [
        "posts  = []\n",
        "posts.append(np.asarray(post_1_tokens))\n",
        "posts.append(np.asarray(post_2_tokens))"
      ],
      "execution_count": 19,
      "outputs": []
    },
    {
      "cell_type": "code",
      "metadata": {
        "colab": {
          "base_uri": "https://localhost:8080/"
        },
        "id": "CxzLWVhpkyUj",
        "outputId": "4fcc1e3d-19e3-4135-ccb1-190b48b11796"
      },
      "source": [
        "posts_padded = keras.preprocessing.sequence.pad_sequences(np.asarray(posts), maxlen=max_len, padding='post')"
      ],
      "execution_count": 20,
      "outputs": [
        {
          "output_type": "stream",
          "name": "stderr",
          "text": [
            "/usr/local/lib/python3.7/dist-packages/ipykernel_launcher.py:1: VisibleDeprecationWarning: Creating an ndarray from ragged nested sequences (which is a list-or-tuple of lists-or-tuples-or ndarrays with different lengths or shapes) is deprecated. If you meant to do this, you must specify 'dtype=object' when creating the ndarray.\n",
            "  \"\"\"Entry point for launching an IPython kernel.\n"
          ]
        }
      ]
    },
    {
      "cell_type": "code",
      "metadata": {
        "id": "L_fnfdrssB9X"
      },
      "source": [
        "posts_padded = np.asarray(posts_padded)\n",
        "posts_padded[posts_padded>=10000] = word_to_id['<UNK>']"
      ],
      "execution_count": 21,
      "outputs": []
    },
    {
      "cell_type": "code",
      "metadata": {
        "id": "pp1BRsA0fAwK"
      },
      "source": [
        "preds = model.predict(np.asarray(posts_padded))"
      ],
      "execution_count": 22,
      "outputs": []
    },
    {
      "cell_type": "code",
      "metadata": {
        "id": "8jU1XH2OuSnG",
        "colab": {
          "base_uri": "https://localhost:8080/"
        },
        "outputId": "04cb3a26-2c0f-4120-b53c-e68a03f20288"
      },
      "source": [
        "preds"
      ],
      "execution_count": 23,
      "outputs": [
        {
          "output_type": "execute_result",
          "data": {
            "text/plain": [
              "array([[0.95932627],\n",
              "       [0.24746388]], dtype=float32)"
            ]
          },
          "metadata": {},
          "execution_count": 23
        }
      ]
    },
    {
      "cell_type": "code",
      "metadata": {
        "id": "OYUgZm0f-UwN"
      },
      "source": [
        ""
      ],
      "execution_count": null,
      "outputs": []
    },
    {
      "cell_type": "code",
      "metadata": {
        "id": "jMdRcc6bnt5Q"
      },
      "source": [
        ""
      ],
      "execution_count": null,
      "outputs": []
    },
    {
      "cell_type": "code",
      "metadata": {
        "id": "XbEC42ZdnwA-"
      },
      "source": [
        ""
      ],
      "execution_count": null,
      "outputs": []
    }
  ]
}